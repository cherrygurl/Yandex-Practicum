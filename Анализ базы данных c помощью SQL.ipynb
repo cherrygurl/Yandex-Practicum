{
 "cells": [
  {
   "cell_type": "markdown",
   "id": "c1023489",
   "metadata": {},
   "source": [
    "## Анализ базы данных c помощью SQL"
   ]
  },
  {
   "cell_type": "markdown",
   "id": "4f084fed",
   "metadata": {},
   "source": [
    "## Описание проекта"
   ]
  },
  {
   "cell_type": "markdown",
   "id": "7b8ebc85",
   "metadata": {},
   "source": [
    "Коронавирус застал мир врасплох, изменив привычный порядок вещей. В свободное время жители городов больше не выходят на улицу, не посещают кафе и торговые центры. Зато стало больше времени для книг. Это заметили стартаперы — и бросились создавать приложения для тех, кто любит читать.\n",
    "\n",
    "К нам обратился клиент, чья компания решила быть на волне и купила крупный сервис для чтения книг по подписке. \n",
    "\n",
    "**Цель:** проанализировать базу данных. В ней есть информация о книгах, издательствах, авторах, а также пользовательские обзоры книг. Эти данные помогут сформулировать ценностное предложение для нового продукта.\n",
    "\n",
    "В нашем распоряжении 5 таблиц."
   ]
  },
  {
   "cell_type": "markdown",
   "id": "a9bfab9e",
   "metadata": {},
   "source": [
    "## Описание данных"
   ]
  },
  {
   "cell_type": "markdown",
   "id": "3801fa3e",
   "metadata": {},
   "source": [
    "**Таблица `books`**\n",
    "\n",
    "Содержит данные о книгах:\n",
    "\n",
    "- `book_id` — идентификатор книги;\n",
    "- `author_id` — идентификатор автора;\n",
    "- `title` — название книги;\n",
    "- `num_pages` — количество страниц;\n",
    "- `publication_date` — дата публикации книги;\n",
    "- `publisher_id` — идентификатор издателя.\n",
    "\n",
    "**Таблица `authors`**\n",
    "\n",
    "Содержит данные об авторах:\n",
    "\n",
    "- `author_id` — идентификатор автора;\n",
    "- `author` — имя автора.\n",
    "\n",
    "**Таблица `publishers`**\n",
    "\n",
    "Содержит данные об издательствах:\n",
    "\n",
    "- `publisher_id` — идентификатор издательства;\n",
    "- `publisher` — название издательства;\n",
    "\n",
    "**Таблица `ratings`**\n",
    "\n",
    "Содержит данные о пользовательских оценках книг:\n",
    "\n",
    "- `rating_id` — идентификатор оценки;\n",
    "- `book_id` — идентификатор книги;\n",
    "- `username` — имя пользователя, оставившего оценку;\n",
    "- `rating` — оценка книги.\n",
    "\n",
    "**Таблица `reviews`**\n",
    "\n",
    "Содержит данные о пользовательских обзорах на книги:\n",
    "\n",
    "- `review_id` — идентификатор обзора;\n",
    "- `book_id` — идентификатор книги;\n",
    "- `username` — имя пользователя, написавшего обзор;\n",
    "- `text` — текст обзора."
   ]
  },
  {
   "cell_type": "markdown",
   "id": "273ef8fe",
   "metadata": {},
   "source": [
    "### Задачи\n",
    "\n",
    "1. Изучение данных;\n",
    "2. Исследовательский анализ данных:\n",
    "- Посчитать, сколько книг вышло после 1 января 2000 года;\n",
    "- Для каждой книги посчитать количество обзоров и среднюю оценку;\n",
    "- Определить издательство, которое выпустило наибольшее число книг толще 50 страниц, таким образом исключив из анализа брошюры;\n",
    "- Определить автора с самой высокой средней оценкой книг (только книги с 50 и более оценками);\n",
    "- Посчитать среднее количество обзоров от пользователей, которые поставили больше 50 оценок.\n",
    "3. Общие выводы."
   ]
  },
  {
   "cell_type": "markdown",
   "id": "539182db",
   "metadata": {},
   "source": [
    "## Изучение данных"
   ]
  },
  {
   "cell_type": "code",
   "execution_count": 1,
   "id": "c471c72c",
   "metadata": {},
   "outputs": [],
   "source": [
    "# импортируем библиотеки\n",
    "import pandas as pd\n",
    "from sqlalchemy import create_engine\n",
    "\n",
    "# устанавливаем параметры\n",
    "db_config = {'user': 'praktikum_student', # имя пользователя\n",
    "             'pwd': 'Sdf4$2;d-d30pp', # пароль\n",
    "             'host': 'rc1b-wcoijxj3yxfsf3fs.mdb.yandexcloud.net',\n",
    "             'port': 6432, # порт подключения\n",
    "             'db': 'data-analyst-final-project-db'} # название базы данных\n",
    "\n",
    "connection_string = 'postgresql://{}:{}@{}:{}/{}'.format(db_config['user'], \n",
    "                                                         db_config['pwd'], \n",
    "                                                         db_config['host'], \n",
    "                                                         db_config['port'],\n",
    "                                                         db_config['db']) \n",
    "# сохраняем коннектор\n",
    "engine = create_engine(connection_string, connect_args={'sslmode':'require'})"
   ]
  },
  {
   "cell_type": "code",
   "execution_count": 2,
   "id": "e72200e0",
   "metadata": {},
   "outputs": [],
   "source": [
    "# настройки отображения\n",
    "pd.set_option(\"max_colwidth\", 200)\n",
    "pd.set_option('display.float_format', '{:.2f}'.format)     "
   ]
  },
  {
   "cell_type": "code",
   "execution_count": 3,
   "id": "beb2b668",
   "metadata": {},
   "outputs": [],
   "source": [
    "# функция для выполнения запроса\n",
    "def get(query):\n",
    "    return pd.io.sql.read_sql(query, con = engine)"
   ]
  },
  {
   "cell_type": "code",
   "execution_count": 4,
   "id": "ff08d5df",
   "metadata": {},
   "outputs": [
    {
     "name": "stdout",
     "output_type": "stream",
     "text": [
      "<class 'pandas.core.frame.DataFrame'>\n",
      "RangeIndex: 1000 entries, 0 to 999\n",
      "Data columns (total 6 columns):\n",
      " #   Column            Non-Null Count  Dtype \n",
      "---  ------            --------------  ----- \n",
      " 0   book_id           1000 non-null   int64 \n",
      " 1   author_id         1000 non-null   int64 \n",
      " 2   title             1000 non-null   object\n",
      " 3   num_pages         1000 non-null   int64 \n",
      " 4   publication_date  1000 non-null   object\n",
      " 5   publisher_id      1000 non-null   int64 \n",
      "dtypes: int64(4), object(2)\n",
      "memory usage: 47.0+ KB\n"
     ]
    },
    {
     "data": {
      "text/html": [
       "<div>\n",
       "<style scoped>\n",
       "    .dataframe tbody tr th:only-of-type {\n",
       "        vertical-align: middle;\n",
       "    }\n",
       "\n",
       "    .dataframe tbody tr th {\n",
       "        vertical-align: top;\n",
       "    }\n",
       "\n",
       "    .dataframe thead th {\n",
       "        text-align: right;\n",
       "    }\n",
       "</style>\n",
       "<table border=\"1\" class=\"dataframe\">\n",
       "  <thead>\n",
       "    <tr style=\"text-align: right;\">\n",
       "      <th></th>\n",
       "      <th>book_id</th>\n",
       "      <th>author_id</th>\n",
       "      <th>title</th>\n",
       "      <th>num_pages</th>\n",
       "      <th>publication_date</th>\n",
       "      <th>publisher_id</th>\n",
       "    </tr>\n",
       "  </thead>\n",
       "  <tbody>\n",
       "    <tr>\n",
       "      <th>0</th>\n",
       "      <td>1</td>\n",
       "      <td>546</td>\n",
       "      <td>'Salem's Lot</td>\n",
       "      <td>594</td>\n",
       "      <td>2005-11-01</td>\n",
       "      <td>93</td>\n",
       "    </tr>\n",
       "    <tr>\n",
       "      <th>1</th>\n",
       "      <td>2</td>\n",
       "      <td>465</td>\n",
       "      <td>1 000 Places to See Before You Die</td>\n",
       "      <td>992</td>\n",
       "      <td>2003-05-22</td>\n",
       "      <td>336</td>\n",
       "    </tr>\n",
       "    <tr>\n",
       "      <th>2</th>\n",
       "      <td>3</td>\n",
       "      <td>407</td>\n",
       "      <td>13 Little Blue Envelopes (Little Blue Envelope  #1)</td>\n",
       "      <td>322</td>\n",
       "      <td>2010-12-21</td>\n",
       "      <td>135</td>\n",
       "    </tr>\n",
       "    <tr>\n",
       "      <th>3</th>\n",
       "      <td>4</td>\n",
       "      <td>82</td>\n",
       "      <td>1491: New Revelations of the Americas Before Columbus</td>\n",
       "      <td>541</td>\n",
       "      <td>2006-10-10</td>\n",
       "      <td>309</td>\n",
       "    </tr>\n",
       "    <tr>\n",
       "      <th>4</th>\n",
       "      <td>5</td>\n",
       "      <td>125</td>\n",
       "      <td>1776</td>\n",
       "      <td>386</td>\n",
       "      <td>2006-07-04</td>\n",
       "      <td>268</td>\n",
       "    </tr>\n",
       "  </tbody>\n",
       "</table>\n",
       "</div>"
      ],
      "text/plain": [
       "   book_id  author_id                                                  title  \\\n",
       "0        1        546                                           'Salem's Lot   \n",
       "1        2        465                     1 000 Places to See Before You Die   \n",
       "2        3        407    13 Little Blue Envelopes (Little Blue Envelope  #1)   \n",
       "3        4         82  1491: New Revelations of the Americas Before Columbus   \n",
       "4        5        125                                                   1776   \n",
       "\n",
       "   num_pages publication_date  publisher_id  \n",
       "0        594       2005-11-01            93  \n",
       "1        992       2003-05-22           336  \n",
       "2        322       2010-12-21           135  \n",
       "3        541       2006-10-10           309  \n",
       "4        386       2006-07-04           268  "
      ]
     },
     "execution_count": 4,
     "metadata": {},
     "output_type": "execute_result"
    }
   ],
   "source": [
    "# выведем общую информацию таблицы books\n",
    "books = '''\n",
    "        \n",
    "SELECT * FROM books;\n",
    "        \n",
    "        '''\n",
    "get(books).info()\n",
    "\n",
    "# первые строки таблицы books\n",
    "get(books).head()"
   ]
  },
  {
   "cell_type": "markdown",
   "id": "dc9acd7a",
   "metadata": {},
   "source": [
    "В нашей базе 1000 уникальных книг на английском языке"
   ]
  },
  {
   "cell_type": "code",
   "execution_count": 5,
   "id": "86eac1ec",
   "metadata": {},
   "outputs": [
    {
     "name": "stdout",
     "output_type": "stream",
     "text": [
      "<class 'pandas.core.frame.DataFrame'>\n",
      "RangeIndex: 636 entries, 0 to 635\n",
      "Data columns (total 2 columns):\n",
      " #   Column     Non-Null Count  Dtype \n",
      "---  ------     --------------  ----- \n",
      " 0   author_id  636 non-null    int64 \n",
      " 1   author     636 non-null    object\n",
      "dtypes: int64(1), object(1)\n",
      "memory usage: 10.1+ KB\n"
     ]
    },
    {
     "data": {
      "text/html": [
       "<div>\n",
       "<style scoped>\n",
       "    .dataframe tbody tr th:only-of-type {\n",
       "        vertical-align: middle;\n",
       "    }\n",
       "\n",
       "    .dataframe tbody tr th {\n",
       "        vertical-align: top;\n",
       "    }\n",
       "\n",
       "    .dataframe thead th {\n",
       "        text-align: right;\n",
       "    }\n",
       "</style>\n",
       "<table border=\"1\" class=\"dataframe\">\n",
       "  <thead>\n",
       "    <tr style=\"text-align: right;\">\n",
       "      <th></th>\n",
       "      <th>author_id</th>\n",
       "      <th>author</th>\n",
       "    </tr>\n",
       "  </thead>\n",
       "  <tbody>\n",
       "    <tr>\n",
       "      <th>0</th>\n",
       "      <td>1</td>\n",
       "      <td>A.S. Byatt</td>\n",
       "    </tr>\n",
       "    <tr>\n",
       "      <th>1</th>\n",
       "      <td>2</td>\n",
       "      <td>Aesop/Laura Harris/Laura Gibbs</td>\n",
       "    </tr>\n",
       "    <tr>\n",
       "      <th>2</th>\n",
       "      <td>3</td>\n",
       "      <td>Agatha Christie</td>\n",
       "    </tr>\n",
       "    <tr>\n",
       "      <th>3</th>\n",
       "      <td>4</td>\n",
       "      <td>Alan Brennert</td>\n",
       "    </tr>\n",
       "    <tr>\n",
       "      <th>4</th>\n",
       "      <td>5</td>\n",
       "      <td>Alan Moore/David   Lloyd</td>\n",
       "    </tr>\n",
       "  </tbody>\n",
       "</table>\n",
       "</div>"
      ],
      "text/plain": [
       "   author_id                          author\n",
       "0          1                      A.S. Byatt\n",
       "1          2  Aesop/Laura Harris/Laura Gibbs\n",
       "2          3                 Agatha Christie\n",
       "3          4                   Alan Brennert\n",
       "4          5        Alan Moore/David   Lloyd"
      ]
     },
     "execution_count": 5,
     "metadata": {},
     "output_type": "execute_result"
    }
   ],
   "source": [
    "# выведем общую информацию таблицы authors\n",
    "authors = '''\n",
    "          \n",
    "SELECT * FROM authors;\n",
    "          \n",
    "          '''\n",
    "get(authors).info()\n",
    "\n",
    "# первые строки таблицы authors\n",
    "get(authors).head()"
   ]
  },
  {
   "cell_type": "markdown",
   "id": "4933dc0d",
   "metadata": {},
   "source": [
    "636 авторов"
   ]
  },
  {
   "cell_type": "code",
   "execution_count": 6,
   "id": "4c583be0",
   "metadata": {},
   "outputs": [
    {
     "name": "stdout",
     "output_type": "stream",
     "text": [
      "<class 'pandas.core.frame.DataFrame'>\n",
      "RangeIndex: 340 entries, 0 to 339\n",
      "Data columns (total 2 columns):\n",
      " #   Column        Non-Null Count  Dtype \n",
      "---  ------        --------------  ----- \n",
      " 0   publisher_id  340 non-null    int64 \n",
      " 1   publisher     340 non-null    object\n",
      "dtypes: int64(1), object(1)\n",
      "memory usage: 5.4+ KB\n"
     ]
    },
    {
     "data": {
      "text/html": [
       "<div>\n",
       "<style scoped>\n",
       "    .dataframe tbody tr th:only-of-type {\n",
       "        vertical-align: middle;\n",
       "    }\n",
       "\n",
       "    .dataframe tbody tr th {\n",
       "        vertical-align: top;\n",
       "    }\n",
       "\n",
       "    .dataframe thead th {\n",
       "        text-align: right;\n",
       "    }\n",
       "</style>\n",
       "<table border=\"1\" class=\"dataframe\">\n",
       "  <thead>\n",
       "    <tr style=\"text-align: right;\">\n",
       "      <th></th>\n",
       "      <th>publisher_id</th>\n",
       "      <th>publisher</th>\n",
       "    </tr>\n",
       "  </thead>\n",
       "  <tbody>\n",
       "    <tr>\n",
       "      <th>0</th>\n",
       "      <td>1</td>\n",
       "      <td>Ace</td>\n",
       "    </tr>\n",
       "    <tr>\n",
       "      <th>1</th>\n",
       "      <td>2</td>\n",
       "      <td>Ace Book</td>\n",
       "    </tr>\n",
       "    <tr>\n",
       "      <th>2</th>\n",
       "      <td>3</td>\n",
       "      <td>Ace Books</td>\n",
       "    </tr>\n",
       "    <tr>\n",
       "      <th>3</th>\n",
       "      <td>4</td>\n",
       "      <td>Ace Hardcover</td>\n",
       "    </tr>\n",
       "    <tr>\n",
       "      <th>4</th>\n",
       "      <td>5</td>\n",
       "      <td>Addison Wesley Publishing Company</td>\n",
       "    </tr>\n",
       "  </tbody>\n",
       "</table>\n",
       "</div>"
      ],
      "text/plain": [
       "   publisher_id                          publisher\n",
       "0             1                                Ace\n",
       "1             2                           Ace Book\n",
       "2             3                          Ace Books\n",
       "3             4                      Ace Hardcover\n",
       "4             5  Addison Wesley Publishing Company"
      ]
     },
     "execution_count": 6,
     "metadata": {},
     "output_type": "execute_result"
    }
   ],
   "source": [
    "# выведем общую информацию таблицы publishers\n",
    "publishers = '''\n",
    "             \n",
    "SELECT * FROM publishers;\n",
    "             \n",
    "             '''\n",
    "get(publishers).info()\n",
    "\n",
    "# первые строки таблицы publishers\n",
    "get(publishers).head()"
   ]
  },
  {
   "cell_type": "markdown",
   "id": "319e1d7d",
   "metadata": {},
   "source": [
    "340 издательств"
   ]
  },
  {
   "cell_type": "code",
   "execution_count": 7,
   "id": "d10867bb",
   "metadata": {},
   "outputs": [
    {
     "name": "stdout",
     "output_type": "stream",
     "text": [
      "<class 'pandas.core.frame.DataFrame'>\n",
      "RangeIndex: 6456 entries, 0 to 6455\n",
      "Data columns (total 4 columns):\n",
      " #   Column     Non-Null Count  Dtype \n",
      "---  ------     --------------  ----- \n",
      " 0   rating_id  6456 non-null   int64 \n",
      " 1   book_id    6456 non-null   int64 \n",
      " 2   username   6456 non-null   object\n",
      " 3   rating     6456 non-null   int64 \n",
      "dtypes: int64(3), object(1)\n",
      "memory usage: 201.9+ KB\n"
     ]
    },
    {
     "data": {
      "text/html": [
       "<div>\n",
       "<style scoped>\n",
       "    .dataframe tbody tr th:only-of-type {\n",
       "        vertical-align: middle;\n",
       "    }\n",
       "\n",
       "    .dataframe tbody tr th {\n",
       "        vertical-align: top;\n",
       "    }\n",
       "\n",
       "    .dataframe thead th {\n",
       "        text-align: right;\n",
       "    }\n",
       "</style>\n",
       "<table border=\"1\" class=\"dataframe\">\n",
       "  <thead>\n",
       "    <tr style=\"text-align: right;\">\n",
       "      <th></th>\n",
       "      <th>rating_id</th>\n",
       "      <th>book_id</th>\n",
       "      <th>username</th>\n",
       "      <th>rating</th>\n",
       "    </tr>\n",
       "  </thead>\n",
       "  <tbody>\n",
       "    <tr>\n",
       "      <th>0</th>\n",
       "      <td>1</td>\n",
       "      <td>1</td>\n",
       "      <td>ryanfranco</td>\n",
       "      <td>4</td>\n",
       "    </tr>\n",
       "    <tr>\n",
       "      <th>1</th>\n",
       "      <td>2</td>\n",
       "      <td>1</td>\n",
       "      <td>grantpatricia</td>\n",
       "      <td>2</td>\n",
       "    </tr>\n",
       "    <tr>\n",
       "      <th>2</th>\n",
       "      <td>3</td>\n",
       "      <td>1</td>\n",
       "      <td>brandtandrea</td>\n",
       "      <td>5</td>\n",
       "    </tr>\n",
       "    <tr>\n",
       "      <th>3</th>\n",
       "      <td>4</td>\n",
       "      <td>2</td>\n",
       "      <td>lorichen</td>\n",
       "      <td>3</td>\n",
       "    </tr>\n",
       "    <tr>\n",
       "      <th>4</th>\n",
       "      <td>5</td>\n",
       "      <td>2</td>\n",
       "      <td>mariokeller</td>\n",
       "      <td>2</td>\n",
       "    </tr>\n",
       "  </tbody>\n",
       "</table>\n",
       "</div>"
      ],
      "text/plain": [
       "   rating_id  book_id       username  rating\n",
       "0          1        1     ryanfranco       4\n",
       "1          2        1  grantpatricia       2\n",
       "2          3        1   brandtandrea       5\n",
       "3          4        2       lorichen       3\n",
       "4          5        2    mariokeller       2"
      ]
     },
     "execution_count": 7,
     "metadata": {},
     "output_type": "execute_result"
    }
   ],
   "source": [
    "# выведем общую информацию таблицы ratings\n",
    "ratings = '''\n",
    "          \n",
    "SELECT * FROM ratings;\n",
    "          \n",
    "          '''\n",
    "get(ratings).info()\n",
    "\n",
    "# первые строки таблицы ratings\n",
    "get(ratings).head()"
   ]
  },
  {
   "cell_type": "markdown",
   "id": "4f44d917",
   "metadata": {},
   "source": [
    "6456 оценок"
   ]
  },
  {
   "cell_type": "code",
   "execution_count": 8,
   "id": "0a769d54",
   "metadata": {},
   "outputs": [
    {
     "name": "stdout",
     "output_type": "stream",
     "text": [
      "<class 'pandas.core.frame.DataFrame'>\n",
      "RangeIndex: 2793 entries, 0 to 2792\n",
      "Data columns (total 4 columns):\n",
      " #   Column     Non-Null Count  Dtype \n",
      "---  ------     --------------  ----- \n",
      " 0   review_id  2793 non-null   int64 \n",
      " 1   book_id    2793 non-null   int64 \n",
      " 2   username   2793 non-null   object\n",
      " 3   text       2793 non-null   object\n",
      "dtypes: int64(2), object(2)\n",
      "memory usage: 87.4+ KB\n"
     ]
    },
    {
     "data": {
      "text/html": [
       "<div>\n",
       "<style scoped>\n",
       "    .dataframe tbody tr th:only-of-type {\n",
       "        vertical-align: middle;\n",
       "    }\n",
       "\n",
       "    .dataframe tbody tr th {\n",
       "        vertical-align: top;\n",
       "    }\n",
       "\n",
       "    .dataframe thead th {\n",
       "        text-align: right;\n",
       "    }\n",
       "</style>\n",
       "<table border=\"1\" class=\"dataframe\">\n",
       "  <thead>\n",
       "    <tr style=\"text-align: right;\">\n",
       "      <th></th>\n",
       "      <th>review_id</th>\n",
       "      <th>book_id</th>\n",
       "      <th>username</th>\n",
       "      <th>text</th>\n",
       "    </tr>\n",
       "  </thead>\n",
       "  <tbody>\n",
       "    <tr>\n",
       "      <th>0</th>\n",
       "      <td>1</td>\n",
       "      <td>1</td>\n",
       "      <td>brandtandrea</td>\n",
       "      <td>Mention society tell send professor analysis. Over provide race technology continue these.</td>\n",
       "    </tr>\n",
       "    <tr>\n",
       "      <th>1</th>\n",
       "      <td>2</td>\n",
       "      <td>1</td>\n",
       "      <td>ryanfranco</td>\n",
       "      <td>Foot glass pretty audience hit themselves. Among admit investment argue security.</td>\n",
       "    </tr>\n",
       "    <tr>\n",
       "      <th>2</th>\n",
       "      <td>3</td>\n",
       "      <td>2</td>\n",
       "      <td>lorichen</td>\n",
       "      <td>Listen treat keep worry. Miss husband tax but person sport treatment industry. Kitchen decision deep the. Social party body the.</td>\n",
       "    </tr>\n",
       "    <tr>\n",
       "      <th>3</th>\n",
       "      <td>4</td>\n",
       "      <td>3</td>\n",
       "      <td>johnsonamanda</td>\n",
       "      <td>Finally month interesting blue could nature cultural bit. Prepare beat finish grow that smile teach. Dream me play near.</td>\n",
       "    </tr>\n",
       "    <tr>\n",
       "      <th>4</th>\n",
       "      <td>5</td>\n",
       "      <td>3</td>\n",
       "      <td>scotttamara</td>\n",
       "      <td>Nation purpose heavy give wait song will. List dinner another whole positive radio fast. Music staff many green.</td>\n",
       "    </tr>\n",
       "  </tbody>\n",
       "</table>\n",
       "</div>"
      ],
      "text/plain": [
       "   review_id  book_id       username  \\\n",
       "0          1        1   brandtandrea   \n",
       "1          2        1     ryanfranco   \n",
       "2          3        2       lorichen   \n",
       "3          4        3  johnsonamanda   \n",
       "4          5        3    scotttamara   \n",
       "\n",
       "                                                                                                                               text  \n",
       "0                                        Mention society tell send professor analysis. Over provide race technology continue these.  \n",
       "1                                                 Foot glass pretty audience hit themselves. Among admit investment argue security.  \n",
       "2  Listen treat keep worry. Miss husband tax but person sport treatment industry. Kitchen decision deep the. Social party body the.  \n",
       "3          Finally month interesting blue could nature cultural bit. Prepare beat finish grow that smile teach. Dream me play near.  \n",
       "4                  Nation purpose heavy give wait song will. List dinner another whole positive radio fast. Music staff many green.  "
      ]
     },
     "execution_count": 8,
     "metadata": {},
     "output_type": "execute_result"
    }
   ],
   "source": [
    "reviews = '''\n",
    "        \n",
    "SELECT * FROM reviews;\n",
    "          \n",
    "          '''\n",
    "\n",
    "# выведем общую информацию таблицы reviews\n",
    "get(reviews).info()\n",
    "\n",
    "#выведем первые строки таблицы reviews\n",
    "get(reviews).head()"
   ]
  },
  {
   "cell_type": "markdown",
   "id": "29e22a5b",
   "metadata": {},
   "source": [
    "2793 обзора"
   ]
  },
  {
   "cell_type": "markdown",
   "id": "ae14a438",
   "metadata": {},
   "source": [
    "### Выводы\n",
    "\n",
    "В нашей базе:\n",
    "- 1000 уникальных книг на английском языке;\n",
    "- от 636 авторов;\n",
    "- от 340 издательств;\n",
    "- 6456 оценок, что довольно неплохо для такого объема книг, в среднем по 6 оценок на книгу;\n",
    "- 2793 обзора."
   ]
  },
  {
   "cell_type": "markdown",
   "id": "1e9c3362",
   "metadata": {},
   "source": [
    "## Исследовательский анализ данных\n",
    "\n",
    "### Посчитать, сколько книг вышло после 1 января 2000 года"
   ]
  },
  {
   "cell_type": "code",
   "execution_count": 9,
   "id": "45caa409",
   "metadata": {},
   "outputs": [
    {
     "data": {
      "text/html": [
       "<div>\n",
       "<style scoped>\n",
       "    .dataframe tbody tr th:only-of-type {\n",
       "        vertical-align: middle;\n",
       "    }\n",
       "\n",
       "    .dataframe tbody tr th {\n",
       "        vertical-align: top;\n",
       "    }\n",
       "\n",
       "    .dataframe thead th {\n",
       "        text-align: right;\n",
       "    }\n",
       "</style>\n",
       "<table border=\"1\" class=\"dataframe\">\n",
       "  <thead>\n",
       "    <tr style=\"text-align: right;\">\n",
       "      <th></th>\n",
       "      <th>books_count</th>\n",
       "    </tr>\n",
       "  </thead>\n",
       "  <tbody>\n",
       "    <tr>\n",
       "      <th>0</th>\n",
       "      <td>819</td>\n",
       "    </tr>\n",
       "  </tbody>\n",
       "</table>\n",
       "</div>"
      ],
      "text/plain": [
       "   books_count\n",
       "0          819"
      ]
     },
     "execution_count": 9,
     "metadata": {},
     "output_type": "execute_result"
    }
   ],
   "source": [
    "books = '''\n",
    "        \n",
    "SELECT count(book_id) AS books_count\n",
    "  FROM books\n",
    " WHERE publication_date > '01-01-2000';\n",
    "        \n",
    "        '''\n",
    "get(books)"
   ]
  },
  {
   "cell_type": "markdown",
   "id": "a45f1f51",
   "metadata": {},
   "source": [
    "После 1 января 2000 года вышло 819 книг, это 81.9% от общего количества"
   ]
  },
  {
   "cell_type": "markdown",
   "id": "9448990e",
   "metadata": {},
   "source": [
    "### Для каждой книги посчитать количество обзоров и среднюю оценку"
   ]
  },
  {
   "cell_type": "code",
   "execution_count": 10,
   "id": "2a5e9176",
   "metadata": {},
   "outputs": [
    {
     "data": {
      "text/html": [
       "<div>\n",
       "<style scoped>\n",
       "    .dataframe tbody tr th:only-of-type {\n",
       "        vertical-align: middle;\n",
       "    }\n",
       "\n",
       "    .dataframe tbody tr th {\n",
       "        vertical-align: top;\n",
       "    }\n",
       "\n",
       "    .dataframe thead th {\n",
       "        text-align: right;\n",
       "    }\n",
       "</style>\n",
       "<table border=\"1\" class=\"dataframe\">\n",
       "  <thead>\n",
       "    <tr style=\"text-align: right;\">\n",
       "      <th></th>\n",
       "      <th>title</th>\n",
       "      <th>avg_rating</th>\n",
       "      <th>cnt_reviews</th>\n",
       "    </tr>\n",
       "  </thead>\n",
       "  <tbody>\n",
       "    <tr>\n",
       "      <th>0</th>\n",
       "      <td>Twilight (Twilight  #1)</td>\n",
       "      <td>3.66</td>\n",
       "      <td>7</td>\n",
       "    </tr>\n",
       "    <tr>\n",
       "      <th>1</th>\n",
       "      <td>Harry Potter and the Prisoner of Azkaban (Harry Potter  #3)</td>\n",
       "      <td>4.41</td>\n",
       "      <td>6</td>\n",
       "    </tr>\n",
       "    <tr>\n",
       "      <th>2</th>\n",
       "      <td>Harry Potter and the Chamber of Secrets (Harry Potter  #2)</td>\n",
       "      <td>4.29</td>\n",
       "      <td>6</td>\n",
       "    </tr>\n",
       "    <tr>\n",
       "      <th>3</th>\n",
       "      <td>The Book Thief</td>\n",
       "      <td>4.26</td>\n",
       "      <td>6</td>\n",
       "    </tr>\n",
       "    <tr>\n",
       "      <th>4</th>\n",
       "      <td>The Glass Castle</td>\n",
       "      <td>4.21</td>\n",
       "      <td>6</td>\n",
       "    </tr>\n",
       "  </tbody>\n",
       "</table>\n",
       "</div>"
      ],
      "text/plain": [
       "                                                         title  avg_rating  \\\n",
       "0                                      Twilight (Twilight  #1)        3.66   \n",
       "1  Harry Potter and the Prisoner of Azkaban (Harry Potter  #3)        4.41   \n",
       "2   Harry Potter and the Chamber of Secrets (Harry Potter  #2)        4.29   \n",
       "3                                               The Book Thief        4.26   \n",
       "4                                             The Glass Castle        4.21   \n",
       "\n",
       "   cnt_reviews  \n",
       "0            7  \n",
       "1            6  \n",
       "2            6  \n",
       "3            6  \n",
       "4            6  "
      ]
     },
     "execution_count": 10,
     "metadata": {},
     "output_type": "execute_result"
    }
   ],
   "source": [
    "query = '''\n",
    "  \n",
    "  SELECT books.title AS title,\n",
    "         avg(ratings.rating) AS avg_rating,\n",
    "         count(DISTINCT reviews.text) AS cnt_reviews\n",
    "    FROM books\n",
    "         LEFT JOIN ratings ON ratings.book_id = books.book_id\n",
    "         LEFT JOIN reviews ON reviews.book_id = books.book_id\n",
    "GROUP BY books.title, books.book_id\n",
    "ORDER BY cnt_reviews DESC, avg_rating DESC\n",
    "   LIMIT 5;                    \n",
    "        \n",
    "        '''\n",
    "get(query)"
   ]
  },
  {
   "cell_type": "markdown",
   "id": "84ac28c0",
   "metadata": {},
   "source": [
    "При сортировке по количеству обзоров и среднему рейтингу в топ-5 вошли:\n",
    "\n",
    "1. Сумерки - 7 обзоров, средний рейтинг 3.66;\n",
    "2. Гарри Поттер (3 часть) - 6 обзоров, средний рейтинг 4.41;\n",
    "3. Гарри Поттер (2 часть) - 6 обзоров, средний рейтинг 4.29;\n",
    "4. Книжный вор - 6 обзоров, средний рейтинг 4.26;\n",
    "5. Замок из стекла - 6 обзоров, средний рейтинг 4.21"
   ]
  },
  {
   "cell_type": "markdown",
   "id": "d897aef5",
   "metadata": {},
   "source": [
    "### Определить издательство, которое выпустило наибольшее число книг толще 50 страниц"
   ]
  },
  {
   "cell_type": "code",
   "execution_count": 11,
   "id": "d7f65774",
   "metadata": {},
   "outputs": [
    {
     "data": {
      "text/html": [
       "<div>\n",
       "<style scoped>\n",
       "    .dataframe tbody tr th:only-of-type {\n",
       "        vertical-align: middle;\n",
       "    }\n",
       "\n",
       "    .dataframe tbody tr th {\n",
       "        vertical-align: top;\n",
       "    }\n",
       "\n",
       "    .dataframe thead th {\n",
       "        text-align: right;\n",
       "    }\n",
       "</style>\n",
       "<table border=\"1\" class=\"dataframe\">\n",
       "  <thead>\n",
       "    <tr style=\"text-align: right;\">\n",
       "      <th></th>\n",
       "      <th>publisher_id</th>\n",
       "      <th>publisher</th>\n",
       "      <th>count_books</th>\n",
       "    </tr>\n",
       "  </thead>\n",
       "  <tbody>\n",
       "    <tr>\n",
       "      <th>0</th>\n",
       "      <td>212</td>\n",
       "      <td>Penguin Books</td>\n",
       "      <td>42</td>\n",
       "    </tr>\n",
       "  </tbody>\n",
       "</table>\n",
       "</div>"
      ],
      "text/plain": [
       "   publisher_id      publisher  count_books\n",
       "0           212  Penguin Books           42"
      ]
     },
     "execution_count": 11,
     "metadata": {},
     "output_type": "execute_result"
    }
   ],
   "source": [
    "query = '''\n",
    "\n",
    "  SELECT b.publisher_id, p.publisher, count(*) AS count_books\n",
    "    FROM books AS b\n",
    "         LEFT JOIN publishers AS p ON b.publisher_id = p.publisher_id\n",
    "   WHERE num_pages > 50\n",
    "GROUP BY b.publisher_id, p.publisher\n",
    "ORDER BY count(*) DESC\n",
    "   LIMIT 1;\n",
    "        \n",
    "        '''\n",
    "get(query)"
   ]
  },
  {
   "cell_type": "markdown",
   "id": "63b32058",
   "metadata": {},
   "source": [
    "Наибольшее число книг толще 50 страниц выпустило издательство `Penguin Books` - 42 книги."
   ]
  },
  {
   "cell_type": "markdown",
   "id": "042ef4f0",
   "metadata": {},
   "source": [
    "### Определить автора с самой высокой средней оценкой книг (среди книг с 50 и более оценками)"
   ]
  },
  {
   "cell_type": "code",
   "execution_count": 12,
   "id": "9ecc8dd8",
   "metadata": {},
   "outputs": [
    {
     "data": {
      "text/html": [
       "<div>\n",
       "<style scoped>\n",
       "    .dataframe tbody tr th:only-of-type {\n",
       "        vertical-align: middle;\n",
       "    }\n",
       "\n",
       "    .dataframe tbody tr th {\n",
       "        vertical-align: top;\n",
       "    }\n",
       "\n",
       "    .dataframe thead th {\n",
       "        text-align: right;\n",
       "    }\n",
       "</style>\n",
       "<table border=\"1\" class=\"dataframe\">\n",
       "  <thead>\n",
       "    <tr style=\"text-align: right;\">\n",
       "      <th></th>\n",
       "      <th>author</th>\n",
       "      <th>avg</th>\n",
       "    </tr>\n",
       "  </thead>\n",
       "  <tbody>\n",
       "    <tr>\n",
       "      <th>0</th>\n",
       "      <td>J.K. Rowling/Mary GrandPré</td>\n",
       "      <td>4.28</td>\n",
       "    </tr>\n",
       "    <tr>\n",
       "      <th>1</th>\n",
       "      <td>Markus Zusak/Cao Xuân Việt Khương</td>\n",
       "      <td>4.26</td>\n",
       "    </tr>\n",
       "    <tr>\n",
       "      <th>2</th>\n",
       "      <td>J.R.R. Tolkien</td>\n",
       "      <td>4.26</td>\n",
       "    </tr>\n",
       "    <tr>\n",
       "      <th>3</th>\n",
       "      <td>Louisa May Alcott</td>\n",
       "      <td>4.19</td>\n",
       "    </tr>\n",
       "    <tr>\n",
       "      <th>4</th>\n",
       "      <td>Rick Riordan</td>\n",
       "      <td>4.08</td>\n",
       "    </tr>\n",
       "    <tr>\n",
       "      <th>5</th>\n",
       "      <td>William Golding</td>\n",
       "      <td>3.90</td>\n",
       "    </tr>\n",
       "    <tr>\n",
       "      <th>6</th>\n",
       "      <td>J.D. Salinger</td>\n",
       "      <td>3.83</td>\n",
       "    </tr>\n",
       "    <tr>\n",
       "      <th>7</th>\n",
       "      <td>Paulo Coelho/Alan R. Clarke/Özdemir İnce</td>\n",
       "      <td>3.79</td>\n",
       "    </tr>\n",
       "    <tr>\n",
       "      <th>8</th>\n",
       "      <td>William Shakespeare/Paul Werstine/Barbara A. Mowat</td>\n",
       "      <td>3.79</td>\n",
       "    </tr>\n",
       "    <tr>\n",
       "      <th>9</th>\n",
       "      <td>Dan Brown</td>\n",
       "      <td>3.75</td>\n",
       "    </tr>\n",
       "    <tr>\n",
       "      <th>10</th>\n",
       "      <td>Lois Lowry</td>\n",
       "      <td>3.75</td>\n",
       "    </tr>\n",
       "    <tr>\n",
       "      <th>11</th>\n",
       "      <td>George Orwell/Boris Grabnar/Peter Škerl</td>\n",
       "      <td>3.73</td>\n",
       "    </tr>\n",
       "    <tr>\n",
       "      <th>12</th>\n",
       "      <td>Stephenie Meyer</td>\n",
       "      <td>3.66</td>\n",
       "    </tr>\n",
       "    <tr>\n",
       "      <th>13</th>\n",
       "      <td>John Steinbeck</td>\n",
       "      <td>3.62</td>\n",
       "    </tr>\n",
       "  </tbody>\n",
       "</table>\n",
       "</div>"
      ],
      "text/plain": [
       "                                                author  avg\n",
       "0                           J.K. Rowling/Mary GrandPré 4.28\n",
       "1                    Markus Zusak/Cao Xuân Việt Khương 4.26\n",
       "2                                       J.R.R. Tolkien 4.26\n",
       "3                                    Louisa May Alcott 4.19\n",
       "4                                         Rick Riordan 4.08\n",
       "5                                      William Golding 3.90\n",
       "6                                        J.D. Salinger 3.83\n",
       "7             Paulo Coelho/Alan R. Clarke/Özdemir İnce 3.79\n",
       "8   William Shakespeare/Paul Werstine/Barbara A. Mowat 3.79\n",
       "9                                            Dan Brown 3.75\n",
       "10                                          Lois Lowry 3.75\n",
       "11             George Orwell/Boris Grabnar/Peter Škerl 3.73\n",
       "12                                     Stephenie Meyer 3.66\n",
       "13                                      John Steinbeck 3.62"
      ]
     },
     "execution_count": 12,
     "metadata": {},
     "output_type": "execute_result"
    }
   ],
   "source": [
    "query = '''\n",
    "\n",
    "    WITH rat AS (\n",
    "                  SELECT book_id, avg(rating) AS ratings\n",
    "                    FROM ratings\n",
    "                GROUP BY book_id\n",
    "                  HAVING count(*) > 50\n",
    "             )\n",
    "  SELECT a.author, avg(ratings)\n",
    "    FROM rat \n",
    "    JOIN books AS b ON rat.book_id = b.book_id \n",
    "    JOIN authors AS a ON b.author_id = a.author_id\n",
    "GROUP BY a.author\n",
    "ORDER BY avg(ratings) DESC;\n",
    "        \n",
    "        '''\n",
    "get(query)"
   ]
  },
  {
   "cell_type": "markdown",
   "id": "dc8cdca0",
   "metadata": {},
   "source": [
    "Наивысшая средняя оценка книг у Д. Роулинг. Это довольно ожидаемый результат - серия книг о Гарри Поттере повсеместно пользуется популярностью. Средняя оценка ее книг в БД нашего сервиса - 4.28 балла."
   ]
  },
  {
   "cell_type": "markdown",
   "id": "812170d4",
   "metadata": {},
   "source": [
    "### Посчитать среднее количество обзоров от пользователей, которые поставили больше 50 оценок"
   ]
  },
  {
   "cell_type": "code",
   "execution_count": 13,
   "id": "ab2edaa7",
   "metadata": {},
   "outputs": [
    {
     "data": {
      "text/html": [
       "<div>\n",
       "<style scoped>\n",
       "    .dataframe tbody tr th:only-of-type {\n",
       "        vertical-align: middle;\n",
       "    }\n",
       "\n",
       "    .dataframe tbody tr th {\n",
       "        vertical-align: top;\n",
       "    }\n",
       "\n",
       "    .dataframe thead th {\n",
       "        text-align: right;\n",
       "    }\n",
       "</style>\n",
       "<table border=\"1\" class=\"dataframe\">\n",
       "  <thead>\n",
       "    <tr style=\"text-align: right;\">\n",
       "      <th></th>\n",
       "      <th>avg</th>\n",
       "    </tr>\n",
       "  </thead>\n",
       "  <tbody>\n",
       "    <tr>\n",
       "      <th>0</th>\n",
       "      <td>24.33</td>\n",
       "    </tr>\n",
       "  </tbody>\n",
       "</table>\n",
       "</div>"
      ],
      "text/plain": [
       "    avg\n",
       "0 24.33"
      ]
     },
     "execution_count": 13,
     "metadata": {},
     "output_type": "execute_result"
    }
   ],
   "source": [
    "query = '''\n",
    "\n",
    "SELECT avg(count_reviews)\n",
    "  FROM (\n",
    "          SELECT username, count(*) AS count_reviews\n",
    "            FROM reviews\n",
    "           WHERE username\n",
    "                 IN (\n",
    "                          SELECT username\n",
    "                            FROM ratings\n",
    "                        GROUP BY username\n",
    "                          HAVING count(*) > 50\n",
    "                    )\n",
    "        GROUP BY username\n",
    "       ) AS rev;\n",
    "        \n",
    "        '''\n",
    "get(query)"
   ]
  },
  {
   "cell_type": "markdown",
   "id": "cf25d814",
   "metadata": {},
   "source": [
    "В БД присутствует информация об активных пользователях, оставивших более 50 оценок. В среднем такие пользователи оставляют 24.8 обзоров на книгу."
   ]
  },
  {
   "cell_type": "markdown",
   "id": "2ff38f89",
   "metadata": {},
   "source": [
    "## Общие выводы\n",
    "\n",
    "\n",
    "В нашей базе:\n",
    "- 1000 уникальных книг на английском языке;\n",
    "- от 636 авторов;\n",
    "- от 340 издательств;\n",
    "- 6456 оценок, что довольно неплохо для такого объема книг, в среднем по 6 оценок на книгу;\n",
    "- 2793 обзора.\n",
    "\n",
    "В результате исследования базы мы выяснили:\n",
    "    \n",
    "- В БД нового сервиса содержится информация о 1000 книг\n",
    "- Порядка 82% книг выпущены за последние 20 лет\n",
    "- Для большинства книг в БД есть оценки и обзоры\n",
    "\n",
    "При сортировке по количеству обзоров и среднему рейтингу в топ-5 вошли:\n",
    "1. Сумерки - 7 обзоров, средний рейтинг 3.66;\n",
    "2. Гарри Поттер (3 часть) - 6 обзоров, средний рейтинг 4.41;\n",
    "3. Гарри Поттер (2 часть) - 6 обзоров, средний рейтинг 4.29;\n",
    "4. Книжный вор - 6 обзоров, средний рейтинг 4.26;\n",
    "5. Замок из стекла - 6 обзоров, средний рейтинг 4.21\n",
    "\n",
    "- Наибольшее количество книг в нашей подборки выпущены издательством \"Penguin Books\" - 42 штуки, что составляет 4% от нашей подборки\n",
    "- Самый высокие оценки у автора Д. Роулинг - 4.3\n",
    "- В базе есть информация об активных пользователях - купленный сервис достаточно \"живой\", но располагает не слишком большой подборкой книг."
   ]
  }
 ],
 "metadata": {
  "ExecuteTimeLog": [
   {
    "duration": 472,
    "start_time": "2022-06-01T14:04:56.638Z"
   },
   {
    "duration": 2,
    "start_time": "2022-06-01T14:04:57.112Z"
   },
   {
    "duration": 9,
    "start_time": "2022-06-01T14:04:57.116Z"
   },
   {
    "duration": 355,
    "start_time": "2022-06-01T14:04:57.126Z"
   },
   {
    "duration": 146,
    "start_time": "2022-06-01T14:04:57.482Z"
   },
   {
    "duration": 129,
    "start_time": "2022-06-01T14:04:57.629Z"
   },
   {
    "duration": 212,
    "start_time": "2022-06-01T14:04:57.760Z"
   },
   {
    "duration": 151,
    "start_time": "2022-06-01T14:04:57.974Z"
   },
   {
    "duration": 68,
    "start_time": "2022-06-01T14:04:58.127Z"
   },
   {
    "duration": 98,
    "start_time": "2022-06-01T14:04:58.198Z"
   },
   {
    "duration": 63,
    "start_time": "2022-06-01T14:04:58.297Z"
   },
   {
    "duration": 74,
    "start_time": "2022-06-01T14:04:58.361Z"
   },
   {
    "duration": 70,
    "start_time": "2022-06-01T14:04:58.437Z"
   },
   {
    "duration": 131,
    "start_time": "2022-06-01T14:05:42.813Z"
   },
   {
    "duration": 97,
    "start_time": "2022-06-01T14:05:47.172Z"
   }
  ],
  "kernelspec": {
   "display_name": "Python 3 (ipykernel)",
   "language": "python",
   "name": "python3"
  },
  "language_info": {
   "codemirror_mode": {
    "name": "ipython",
    "version": 3
   },
   "file_extension": ".py",
   "mimetype": "text/x-python",
   "name": "python",
   "nbconvert_exporter": "python",
   "pygments_lexer": "ipython3",
   "version": "3.9.7"
  },
  "toc": {
   "base_numbering": 1,
   "nav_menu": {},
   "number_sections": false,
   "sideBar": true,
   "skip_h1_title": false,
   "title_cell": "Table of Contents",
   "title_sidebar": "Contents",
   "toc_cell": false,
   "toc_position": {},
   "toc_section_display": true,
   "toc_window_display": true
  }
 },
 "nbformat": 4,
 "nbformat_minor": 5
}
