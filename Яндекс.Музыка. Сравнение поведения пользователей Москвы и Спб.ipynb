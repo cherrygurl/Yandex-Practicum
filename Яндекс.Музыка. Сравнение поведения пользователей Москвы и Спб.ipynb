{
 "cells": [
  {
   "cell_type": "markdown",
   "metadata": {
    "id": "E0vqbgi9ay0H"
   },
   "source": [
    "# Яндекс.Музыка"
   ]
  },
  {
   "cell_type": "markdown",
   "metadata": {
    "id": "VUC88oWjTJw2"
   },
   "source": [
    "Сравнение Москвы и Петербурга окружено мифами. Например:\n",
    " * Москва — мегаполис, подчинённый жёсткому ритму рабочей недели;\n",
    " * Петербург — культурная столица, со своими вкусами.\n",
    "\n",
    "На данных Яндекс.Музыки вы сравните поведение пользователей двух столиц.\n",
    "\n",
    "**Цель исследования** — проверьте три гипотезы:\n",
    "1. Активность пользователей зависит от дня недели. Причём в Москве и Петербурге это проявляется по-разному.\n",
    "2. В понедельник утром в Москве преобладают одни жанры, а в Петербурге — другие. Так же и вечером пятницы преобладают разные жанры — в зависимости от города. \n",
    "3. Москва и Петербург предпочитают разные жанры музыки. В Москве чаще слушают поп-музыку, в Петербурге — русский рэп.\n",
    "\n",
    "**Ход исследования**\n",
    "\n",
    "Данные о поведении пользователей вы получите из файла `yandex_music_project.csv`. О качестве данных ничего не известно. Поэтому перед проверкой гипотез понадобится обзор данных. \n",
    "\n",
    "Вы проверите данные на ошибки и оцените их влияние на исследование. Затем, на этапе предобработки вы поищете возможность исправить самые критичные ошибки данных.\n",
    " \n",
    "Таким образом, исследование пройдёт в три этапа:\n",
    " 1. Обзор данных.\n",
    " 2. Предобработка данных.\n",
    " 3. Проверка гипотез.\n",
    "\n"
   ]
  },
  {
   "cell_type": "markdown",
   "metadata": {
    "id": "Ml1hmfXC_Zcs"
   },
   "source": [
    "## Обзор данных\n",
    "\n",
    "Составьте первое представление о данных Яндекс.Музыки.\n",
    "\n",
    "\n"
   ]
  },
  {
   "cell_type": "markdown",
   "metadata": {
    "id": "57eAOGIz_Zcs"
   },
   "source": [
    "Основной инструмент аналитика — `pandas`. Импортируйте эту библиотеку."
   ]
  },
  {
   "cell_type": "code",
   "execution_count": 9,
   "metadata": {
    "id": "AXN7PHPN_Zcs"
   },
   "outputs": [],
   "source": [
    "# импорт библиотеки pandas\n",
    "\n",
    "import pandas as pd"
   ]
  },
  {
   "cell_type": "markdown",
   "metadata": {
    "id": "SG23P8tt_Zcs"
   },
   "source": [
    "Прочитайте файл `yandex_music_project.csv` из папки `/datasets` и сохраните его в переменной `df`:"
   ]
  },
  {
   "cell_type": "code",
   "execution_count": 10,
   "metadata": {
    "id": "fFVu7vqh_Zct"
   },
   "outputs": [],
   "source": [
    "# чтение файла с данными и сохранение в df\n",
    "\n",
    "df = pd.read_csv('/datasets/yandex_music_project.csv')"
   ]
  },
  {
   "cell_type": "markdown",
   "metadata": {
    "id": "rDoOMd3uTqnZ"
   },
   "source": [
    "Выведите на экран первые десять строк таблицы:"
   ]
  },
  {
   "cell_type": "code",
   "execution_count": 11,
   "metadata": {
    "id": "oWTVX3gW_Zct"
   },
   "outputs": [
    {
     "data": {
      "text/html": [
       "<div>\n",
       "<style scoped>\n",
       "    .dataframe tbody tr th:only-of-type {\n",
       "        vertical-align: middle;\n",
       "    }\n",
       "\n",
       "    .dataframe tbody tr th {\n",
       "        vertical-align: top;\n",
       "    }\n",
       "\n",
       "    .dataframe thead th {\n",
       "        text-align: right;\n",
       "    }\n",
       "</style>\n",
       "<table border=\"1\" class=\"dataframe\">\n",
       "  <thead>\n",
       "    <tr style=\"text-align: right;\">\n",
       "      <th></th>\n",
       "      <th>userID</th>\n",
       "      <th>Track</th>\n",
       "      <th>artist</th>\n",
       "      <th>genre</th>\n",
       "      <th>City</th>\n",
       "      <th>time</th>\n",
       "      <th>Day</th>\n",
       "    </tr>\n",
       "  </thead>\n",
       "  <tbody>\n",
       "    <tr>\n",
       "      <td>0</td>\n",
       "      <td>FFB692EC</td>\n",
       "      <td>Kamigata To Boots</td>\n",
       "      <td>The Mass Missile</td>\n",
       "      <td>rock</td>\n",
       "      <td>Saint-Petersburg</td>\n",
       "      <td>20:28:33</td>\n",
       "      <td>Wednesday</td>\n",
       "    </tr>\n",
       "    <tr>\n",
       "      <td>1</td>\n",
       "      <td>55204538</td>\n",
       "      <td>Delayed Because of Accident</td>\n",
       "      <td>Andreas Rönnberg</td>\n",
       "      <td>rock</td>\n",
       "      <td>Moscow</td>\n",
       "      <td>14:07:09</td>\n",
       "      <td>Friday</td>\n",
       "    </tr>\n",
       "    <tr>\n",
       "      <td>2</td>\n",
       "      <td>20EC38</td>\n",
       "      <td>Funiculì funiculà</td>\n",
       "      <td>Mario Lanza</td>\n",
       "      <td>pop</td>\n",
       "      <td>Saint-Petersburg</td>\n",
       "      <td>20:58:07</td>\n",
       "      <td>Wednesday</td>\n",
       "    </tr>\n",
       "    <tr>\n",
       "      <td>3</td>\n",
       "      <td>A3DD03C9</td>\n",
       "      <td>Dragons in the Sunset</td>\n",
       "      <td>Fire + Ice</td>\n",
       "      <td>folk</td>\n",
       "      <td>Saint-Petersburg</td>\n",
       "      <td>08:37:09</td>\n",
       "      <td>Monday</td>\n",
       "    </tr>\n",
       "    <tr>\n",
       "      <td>4</td>\n",
       "      <td>E2DC1FAE</td>\n",
       "      <td>Soul People</td>\n",
       "      <td>Space Echo</td>\n",
       "      <td>dance</td>\n",
       "      <td>Moscow</td>\n",
       "      <td>08:34:34</td>\n",
       "      <td>Monday</td>\n",
       "    </tr>\n",
       "    <tr>\n",
       "      <td>5</td>\n",
       "      <td>842029A1</td>\n",
       "      <td>Преданная</td>\n",
       "      <td>IMPERVTOR</td>\n",
       "      <td>rusrap</td>\n",
       "      <td>Saint-Petersburg</td>\n",
       "      <td>13:09:41</td>\n",
       "      <td>Friday</td>\n",
       "    </tr>\n",
       "    <tr>\n",
       "      <td>6</td>\n",
       "      <td>4CB90AA5</td>\n",
       "      <td>True</td>\n",
       "      <td>Roman Messer</td>\n",
       "      <td>dance</td>\n",
       "      <td>Moscow</td>\n",
       "      <td>13:00:07</td>\n",
       "      <td>Wednesday</td>\n",
       "    </tr>\n",
       "    <tr>\n",
       "      <td>7</td>\n",
       "      <td>F03E1C1F</td>\n",
       "      <td>Feeling This Way</td>\n",
       "      <td>Polina Griffith</td>\n",
       "      <td>dance</td>\n",
       "      <td>Moscow</td>\n",
       "      <td>20:47:49</td>\n",
       "      <td>Wednesday</td>\n",
       "    </tr>\n",
       "    <tr>\n",
       "      <td>8</td>\n",
       "      <td>8FA1D3BE</td>\n",
       "      <td>И вновь продолжается бой</td>\n",
       "      <td>NaN</td>\n",
       "      <td>ruspop</td>\n",
       "      <td>Moscow</td>\n",
       "      <td>09:17:40</td>\n",
       "      <td>Friday</td>\n",
       "    </tr>\n",
       "    <tr>\n",
       "      <td>9</td>\n",
       "      <td>E772D5C0</td>\n",
       "      <td>Pessimist</td>\n",
       "      <td>NaN</td>\n",
       "      <td>dance</td>\n",
       "      <td>Saint-Petersburg</td>\n",
       "      <td>21:20:49</td>\n",
       "      <td>Wednesday</td>\n",
       "    </tr>\n",
       "  </tbody>\n",
       "</table>\n",
       "</div>"
      ],
      "text/plain": [
       "     userID                        Track            artist   genre  \\\n",
       "0  FFB692EC            Kamigata To Boots  The Mass Missile    rock   \n",
       "1  55204538  Delayed Because of Accident  Andreas Rönnberg    rock   \n",
       "2    20EC38            Funiculì funiculà       Mario Lanza     pop   \n",
       "3  A3DD03C9        Dragons in the Sunset        Fire + Ice    folk   \n",
       "4  E2DC1FAE                  Soul People        Space Echo   dance   \n",
       "5  842029A1                    Преданная         IMPERVTOR  rusrap   \n",
       "6  4CB90AA5                         True      Roman Messer   dance   \n",
       "7  F03E1C1F             Feeling This Way   Polina Griffith   dance   \n",
       "8  8FA1D3BE     И вновь продолжается бой               NaN  ruspop   \n",
       "9  E772D5C0                    Pessimist               NaN   dance   \n",
       "\n",
       "             City        time        Day  \n",
       "0  Saint-Petersburg  20:28:33  Wednesday  \n",
       "1            Moscow  14:07:09     Friday  \n",
       "2  Saint-Petersburg  20:58:07  Wednesday  \n",
       "3  Saint-Petersburg  08:37:09     Monday  \n",
       "4            Moscow  08:34:34     Monday  \n",
       "5  Saint-Petersburg  13:09:41     Friday  \n",
       "6            Moscow  13:00:07  Wednesday  \n",
       "7            Moscow  20:47:49  Wednesday  \n",
       "8            Moscow  09:17:40     Friday  \n",
       "9  Saint-Petersburg  21:20:49  Wednesday  "
      ]
     },
     "execution_count": 11,
     "metadata": {},
     "output_type": "execute_result"
    }
   ],
   "source": [
    "# получение первых 10 строк таблицы df\n",
    "\n",
    "df.head(10)"
   ]
  },
  {
   "cell_type": "markdown",
   "metadata": {
    "id": "EO73Kwic_Zct"
   },
   "source": [
    "Одной командой получить общую информацию о таблице:"
   ]
  },
  {
   "cell_type": "code",
   "execution_count": 12,
   "metadata": {
    "id": "DSf2kIb-_Zct"
   },
   "outputs": [
    {
     "name": "stdout",
     "output_type": "stream",
     "text": [
      "<class 'pandas.core.frame.DataFrame'>\n",
      "RangeIndex: 65079 entries, 0 to 65078\n",
      "Data columns (total 7 columns):\n",
      "  userID    65079 non-null object\n",
      "Track       63848 non-null object\n",
      "artist      57876 non-null object\n",
      "genre       63881 non-null object\n",
      "  City      65079 non-null object\n",
      "time        65079 non-null object\n",
      "Day         65079 non-null object\n",
      "dtypes: object(7)\n",
      "memory usage: 3.5+ MB\n"
     ]
    }
   ],
   "source": [
    "# получение общей информации о данных в таблице df\n",
    "\n",
    "df.info()"
   ]
  },
  {
   "cell_type": "markdown",
   "metadata": {
    "id": "TaQ2Iwbr_Zct"
   },
   "source": [
    "Итак, в таблице семь столбцов. Тип данных во всех столбцах — `object`.\n",
    "\n",
    "Согласно документации к данным:\n",
    "* `userID` — идентификатор пользователя;\n",
    "* `Track` — название трека;  \n",
    "* `artist` — имя исполнителя;\n",
    "* `genre` — название жанра;\n",
    "* `City` — город пользователя;\n",
    "* `time` — время начала прослушивания;\n",
    "* `Day` — день недели.\n",
    "\n",
    "В названиях колонок видны три нарушения стиля:\n",
    "1. Строчные буквы сочетаются с прописными.\n",
    "2. Встречаются пробелы.\n",
    "3. Слова написаны слитно.\n",
    "\n",
    "\n",
    "\n",
    "Количество значений в столбцах различается. Значит, в данных есть пропущенные значения.\n"
   ]
  },
  {
   "cell_type": "markdown",
   "metadata": {
    "id": "MCB6-dXG_Zct"
   },
   "source": [
    "**Выводы**\n",
    "\n",
    "В каждой строке таблицы — данные о прослушанном треке. Часть колонок описывает саму композицию: название, исполнителя и жанр. Остальные данные рассказывают о пользователе: из какого он города, когда он слушал музыку. \n",
    "\n",
    "Предварительно можно утверждать, что, данных достаточно для проверки гипотез. Но встречаются пропуски в данных, а в названиях колонок — расхождения с хорошим стилем.\n",
    "\n",
    "Чтобы двигаться дальше, нужно устранить проблемы в данных."
   ]
  },
  {
   "cell_type": "markdown",
   "metadata": {
    "id": "SjYF6Ub9_Zct"
   },
   "source": [
    "## Предобработка данных\n",
    "Исправьте стиль в заголовках столбцов, исключите пропуски. Затем проверьте данные на дубликаты."
   ]
  },
  {
   "cell_type": "markdown",
   "metadata": {
    "id": "dIaKXr29_Zct"
   },
   "source": [
    "### Стиль заголовков\n",
    "Выведите на экран названия столбцов:"
   ]
  },
  {
   "cell_type": "code",
   "execution_count": 13,
   "metadata": {
    "id": "oKOTdF_Q_Zct"
   },
   "outputs": [
    {
     "data": {
      "text/plain": [
       "Index(['  userID', 'Track', 'artist', 'genre', '  City  ', 'time', 'Day'], dtype='object')"
      ]
     },
     "execution_count": 13,
     "metadata": {},
     "output_type": "execute_result"
    }
   ],
   "source": [
    "# перечень названий столбцов таблицы df\n",
    "\n",
    "df.columns"
   ]
  },
  {
   "cell_type": "markdown",
   "metadata": {
    "id": "zj5534cv_Zct"
   },
   "source": [
    "Приведите названия в соответствие с хорошим стилем:\n",
    "* несколько слов в названии запишите в «змеином_регистре»,\n",
    "* все символы сделайте строчными,\n",
    "* устраните пробелы.\n",
    "\n",
    "Для этого переименуйте колонки так:\n",
    "* `'  userID'` → `'user_id'`;\n",
    "* `'Track'` → `'track'`;\n",
    "* `'  City  '` → `'city'`;\n",
    "* `'Day'` → `'day'`."
   ]
  },
  {
   "cell_type": "code",
   "execution_count": 14,
   "metadata": {
    "id": "ISlFqs5y_Zct"
   },
   "outputs": [],
   "source": [
    "# переименование столбцов\n",
    "\n",
    "df = df.rename(columns ={'  userID' : 'user_id', 'Track' : 'track', '  City  ' : 'city', 'Day' : 'day'})"
   ]
  },
  {
   "cell_type": "markdown",
   "metadata": {
    "id": "1dqbh00J_Zct"
   },
   "source": [
    "Проверьте результат. Для этого ещё раз выведите на экран названия столбцов:"
   ]
  },
  {
   "cell_type": "code",
   "execution_count": 15,
   "metadata": {
    "id": "d4NOAmTW_Zct"
   },
   "outputs": [
    {
     "data": {
      "text/plain": [
       "Index(['user_id', 'track', 'artist', 'genre', 'city', 'time', 'day'], dtype='object')"
      ]
     },
     "execution_count": 15,
     "metadata": {},
     "output_type": "execute_result"
    }
   ],
   "source": [
    "# проверка результатов - перечень названий столбцов\n",
    "\n",
    "df.columns"
   ]
  },
  {
   "cell_type": "markdown",
   "metadata": {
    "id": "5ISfbcfY_Zct"
   },
   "source": [
    "### Пропуски значений\n",
    "Сначала посчитайте, сколько в таблице пропущенных значений. Для этого достаточно двух методов `pandas`:"
   ]
  },
  {
   "cell_type": "code",
   "execution_count": 16,
   "metadata": {
    "id": "RskX29qr_Zct"
   },
   "outputs": [
    {
     "data": {
      "text/plain": [
       "user_id       0\n",
       "track      1231\n",
       "artist     7203\n",
       "genre      1198\n",
       "city          0\n",
       "time          0\n",
       "day           0\n",
       "dtype: int64"
      ]
     },
     "execution_count": 16,
     "metadata": {},
     "output_type": "execute_result"
    }
   ],
   "source": [
    "# подсчёт пропусков\n",
    "\n",
    "df.isna().sum()"
   ]
  },
  {
   "cell_type": "markdown",
   "metadata": {
    "id": "qubhgnlO_Zct"
   },
   "source": [
    "Не все пропущенные значения влияют на исследование. Так в `track` и `artist` пропуски не важны для вашей работы. Достаточно заменить их явными обозначениями.\n",
    "\n",
    "Но пропуски в `genre` могут помешать сравнению музыкальных вкусов в Москве и Санкт-Петербурге. На практике было бы правильно установить причину пропусков и восстановить данные. Такой возможности нет в учебном проекте. Придётся:\n",
    "* заполнить и эти пропуски явными обозначениями,\n",
    "* оценить, насколько они повредят расчётам. "
   ]
  },
  {
   "cell_type": "markdown",
   "metadata": {
    "id": "fSv2laPA_Zct"
   },
   "source": [
    "Замените пропущенные значения в столбцах `track`, `artist` и `genre` на строку `'unknown'`. Для этого создайте список `columns_to_replace`, переберите его элементы циклом `for` и для каждого столбца выполните замену пропущенных значений:"
   ]
  },
  {
   "cell_type": "code",
   "execution_count": 17,
   "metadata": {
    "id": "KplB5qWs_Zct"
   },
   "outputs": [],
   "source": [
    "# перебор названий столбцов в цикле и замена пропущенных значений на 'unknown'\n",
    "\n",
    "columns_to_replace = ['track', 'artist', 'genre']\n",
    "for column in columns_to_replace:\n",
    "    df[column] = df[column].fillna('unknown')"
   ]
  },
  {
   "cell_type": "markdown",
   "metadata": {
    "id": "Ilsm-MZo_Zct"
   },
   "source": [
    "Убедитесь, что в таблице не осталось пропусков. Для этого ещё раз посчитайте пропущенные значения."
   ]
  },
  {
   "cell_type": "code",
   "execution_count": 18,
   "metadata": {
    "id": "Tq4nYRX4_Zct"
   },
   "outputs": [
    {
     "data": {
      "text/plain": [
       "user_id    0\n",
       "track      0\n",
       "artist     0\n",
       "genre      0\n",
       "city       0\n",
       "time       0\n",
       "day        0\n",
       "dtype: int64"
      ]
     },
     "execution_count": 18,
     "metadata": {},
     "output_type": "execute_result"
    }
   ],
   "source": [
    "# подсчёт пропусков\n",
    "\n",
    "df.isna().sum()"
   ]
  },
  {
   "cell_type": "markdown",
   "metadata": {
    "id": "BWKRtBJ3_Zct"
   },
   "source": [
    "### Дубликаты\n",
    "Посчитайте явные дубликаты в таблице одной командой:"
   ]
  },
  {
   "cell_type": "code",
   "execution_count": 19,
   "metadata": {
    "id": "36eES_S0_Zct"
   },
   "outputs": [
    {
     "data": {
      "text/plain": [
       "3826"
      ]
     },
     "execution_count": 19,
     "metadata": {},
     "output_type": "execute_result"
    }
   ],
   "source": [
    "# подсчёт явных дубликатов\n",
    "\n",
    "df.duplicated().sum()"
   ]
  },
  {
   "cell_type": "markdown",
   "metadata": {
    "id": "Ot25h6XR_Zct"
   },
   "source": [
    "Вызовите специальный метод `pandas`, чтобы удалить явные дубликаты:"
   ]
  },
  {
   "cell_type": "code",
   "execution_count": 20,
   "metadata": {
    "id": "exFHq6tt_Zct"
   },
   "outputs": [],
   "source": [
    "# удаление явных дубликатов (с удалением старых индексов и формированием новых)\n",
    "\n",
    "df = df.drop_duplicates().reset_index(drop=True) "
   ]
  },
  {
   "cell_type": "markdown",
   "metadata": {
    "id": "Im2YwBEG_Zct"
   },
   "source": [
    "Ещё раз посчитайте явные дубликаты в таблице — убедитесь, что полностью от них избавились:"
   ]
  },
  {
   "cell_type": "code",
   "execution_count": 21,
   "metadata": {
    "id": "-8PuNWQ0_Zct"
   },
   "outputs": [
    {
     "data": {
      "text/plain": [
       "0"
      ]
     },
     "execution_count": 21,
     "metadata": {},
     "output_type": "execute_result"
    }
   ],
   "source": [
    "# проверка на отсутствие дубликатов\n",
    "\n",
    "df.duplicated().sum()"
   ]
  },
  {
   "cell_type": "markdown",
   "metadata": {
    "id": "QlFBsxAr_Zct"
   },
   "source": [
    "Теперь избавьтесь от неявных дубликатов в колонке `genre`. Например, название одного и того же жанра может быть записано немного по-разному. Такие ошибки тоже повлияют на результат исследования."
   ]
  },
  {
   "cell_type": "markdown",
   "metadata": {
    "id": "eSjWwsOh_Zct"
   },
   "source": [
    "Выведите на экран список уникальных названий жанров, отсортированный в алфавитном порядке. Для этого:\n",
    "* извлеките нужный столбец датафрейма, \n",
    "* примените к нему метод сортировки,\n",
    "* для отсортированного столбца вызовите метод, который вернёт уникальные значения из столбца."
   ]
  },
  {
   "cell_type": "code",
   "execution_count": 22,
   "metadata": {
    "id": "JIUcqzZN_Zct",
    "scrolled": false
   },
   "outputs": [
    {
     "data": {
      "text/plain": [
       "['acid',\n",
       " 'acoustic',\n",
       " 'action',\n",
       " 'adult',\n",
       " 'africa',\n",
       " 'afrikaans',\n",
       " 'alternative',\n",
       " 'alternativepunk',\n",
       " 'ambient',\n",
       " 'americana',\n",
       " 'animated',\n",
       " 'anime',\n",
       " 'arabesk',\n",
       " 'arabic',\n",
       " 'arena',\n",
       " 'argentinetango',\n",
       " 'art',\n",
       " 'audiobook',\n",
       " 'author',\n",
       " 'avantgarde',\n",
       " 'axé',\n",
       " 'baile',\n",
       " 'balkan',\n",
       " 'beats',\n",
       " 'bigroom',\n",
       " 'black',\n",
       " 'bluegrass',\n",
       " 'blues',\n",
       " 'bollywood',\n",
       " 'bossa',\n",
       " 'brazilian',\n",
       " 'breakbeat',\n",
       " 'breaks',\n",
       " 'broadway',\n",
       " 'cantautori',\n",
       " 'cantopop',\n",
       " 'canzone',\n",
       " 'caribbean',\n",
       " 'caucasian',\n",
       " 'celtic',\n",
       " 'chamber',\n",
       " 'chanson',\n",
       " 'children',\n",
       " 'chill',\n",
       " 'chinese',\n",
       " 'choral',\n",
       " 'christian',\n",
       " 'christmas',\n",
       " 'classical',\n",
       " 'classicmetal',\n",
       " 'club',\n",
       " 'colombian',\n",
       " 'comedy',\n",
       " 'conjazz',\n",
       " 'contemporary',\n",
       " 'country',\n",
       " 'cuban',\n",
       " 'dance',\n",
       " 'dancehall',\n",
       " 'dancepop',\n",
       " 'dark',\n",
       " 'death',\n",
       " 'deep',\n",
       " 'deutschrock',\n",
       " 'deutschspr',\n",
       " 'dirty',\n",
       " 'disco',\n",
       " 'dnb',\n",
       " 'documentary',\n",
       " 'downbeat',\n",
       " 'downtempo',\n",
       " 'drum',\n",
       " 'dub',\n",
       " 'dubstep',\n",
       " 'eastern',\n",
       " 'easy',\n",
       " 'electronic',\n",
       " 'electropop',\n",
       " 'emo',\n",
       " 'entehno',\n",
       " 'epicmetal',\n",
       " 'estrada',\n",
       " 'ethnic',\n",
       " 'eurofolk',\n",
       " 'european',\n",
       " 'experimental',\n",
       " 'extrememetal',\n",
       " 'fado',\n",
       " 'fairytail',\n",
       " 'film',\n",
       " 'fitness',\n",
       " 'flamenco',\n",
       " 'folk',\n",
       " 'folklore',\n",
       " 'folkmetal',\n",
       " 'folkrock',\n",
       " 'folktronica',\n",
       " 'forró',\n",
       " 'frankreich',\n",
       " 'französisch',\n",
       " 'french',\n",
       " 'funk',\n",
       " 'future',\n",
       " 'gangsta',\n",
       " 'garage',\n",
       " 'german',\n",
       " 'ghazal',\n",
       " 'gitarre',\n",
       " 'glitch',\n",
       " 'gospel',\n",
       " 'gothic',\n",
       " 'grime',\n",
       " 'grunge',\n",
       " 'gypsy',\n",
       " 'handsup',\n",
       " \"hard'n'heavy\",\n",
       " 'hardcore',\n",
       " 'hardstyle',\n",
       " 'hardtechno',\n",
       " 'hip',\n",
       " 'hip-hop',\n",
       " 'hiphop',\n",
       " 'historisch',\n",
       " 'holiday',\n",
       " 'hop',\n",
       " 'horror',\n",
       " 'house',\n",
       " 'hymn',\n",
       " 'idm',\n",
       " 'independent',\n",
       " 'indian',\n",
       " 'indie',\n",
       " 'indipop',\n",
       " 'industrial',\n",
       " 'inspirational',\n",
       " 'instrumental',\n",
       " 'international',\n",
       " 'irish',\n",
       " 'jam',\n",
       " 'japanese',\n",
       " 'jazz',\n",
       " 'jewish',\n",
       " 'jpop',\n",
       " 'jungle',\n",
       " 'k-pop',\n",
       " 'karadeniz',\n",
       " 'karaoke',\n",
       " 'kayokyoku',\n",
       " 'korean',\n",
       " 'laiko',\n",
       " 'latin',\n",
       " 'latino',\n",
       " 'leftfield',\n",
       " 'local',\n",
       " 'lounge',\n",
       " 'loungeelectronic',\n",
       " 'lovers',\n",
       " 'malaysian',\n",
       " 'mandopop',\n",
       " 'marschmusik',\n",
       " 'meditative',\n",
       " 'mediterranean',\n",
       " 'melodic',\n",
       " 'metal',\n",
       " 'metalcore',\n",
       " 'mexican',\n",
       " 'middle',\n",
       " 'minimal',\n",
       " 'miscellaneous',\n",
       " 'modern',\n",
       " 'mood',\n",
       " 'mpb',\n",
       " 'muslim',\n",
       " 'native',\n",
       " 'neoklassik',\n",
       " 'neue',\n",
       " 'new',\n",
       " 'newage',\n",
       " 'newwave',\n",
       " 'nu',\n",
       " 'nujazz',\n",
       " 'numetal',\n",
       " 'oceania',\n",
       " 'old',\n",
       " 'opera',\n",
       " 'orchestral',\n",
       " 'other',\n",
       " 'piano',\n",
       " 'podcasts',\n",
       " 'pop',\n",
       " 'popdance',\n",
       " 'popelectronic',\n",
       " 'popeurodance',\n",
       " 'poprussian',\n",
       " 'post',\n",
       " 'posthardcore',\n",
       " 'postrock',\n",
       " 'power',\n",
       " 'progmetal',\n",
       " 'progressive',\n",
       " 'psychedelic',\n",
       " 'punjabi',\n",
       " 'punk',\n",
       " 'quebecois',\n",
       " 'ragga',\n",
       " 'ram',\n",
       " 'rancheras',\n",
       " 'rap',\n",
       " 'rave',\n",
       " 'reggae',\n",
       " 'reggaeton',\n",
       " 'regional',\n",
       " 'relax',\n",
       " 'religious',\n",
       " 'retro',\n",
       " 'rhythm',\n",
       " 'rnb',\n",
       " 'rnr',\n",
       " 'rock',\n",
       " 'rockabilly',\n",
       " 'rockalternative',\n",
       " 'rockindie',\n",
       " 'rockother',\n",
       " 'romance',\n",
       " 'roots',\n",
       " 'ruspop',\n",
       " 'rusrap',\n",
       " 'rusrock',\n",
       " 'russian',\n",
       " 'salsa',\n",
       " 'samba',\n",
       " 'scenic',\n",
       " 'schlager',\n",
       " 'self',\n",
       " 'sertanejo',\n",
       " 'shanson',\n",
       " 'shoegazing',\n",
       " 'showtunes',\n",
       " 'singer',\n",
       " 'ska',\n",
       " 'skarock',\n",
       " 'slow',\n",
       " 'smooth',\n",
       " 'soft',\n",
       " 'soul',\n",
       " 'soulful',\n",
       " 'sound',\n",
       " 'soundtrack',\n",
       " 'southern',\n",
       " 'specialty',\n",
       " 'speech',\n",
       " 'spiritual',\n",
       " 'sport',\n",
       " 'stonerrock',\n",
       " 'surf',\n",
       " 'swing',\n",
       " 'synthpop',\n",
       " 'synthrock',\n",
       " 'sängerportrait',\n",
       " 'tango',\n",
       " 'tanzorchester',\n",
       " 'taraftar',\n",
       " 'tatar',\n",
       " 'tech',\n",
       " 'techno',\n",
       " 'teen',\n",
       " 'thrash',\n",
       " 'top',\n",
       " 'traditional',\n",
       " 'tradjazz',\n",
       " 'trance',\n",
       " 'tribal',\n",
       " 'trip',\n",
       " 'triphop',\n",
       " 'tropical',\n",
       " 'türk',\n",
       " 'türkçe',\n",
       " 'ukrrock',\n",
       " 'unknown',\n",
       " 'urban',\n",
       " 'uzbek',\n",
       " 'variété',\n",
       " 'vi',\n",
       " 'videogame',\n",
       " 'vocal',\n",
       " 'western',\n",
       " 'world',\n",
       " 'worldbeat',\n",
       " 'ïîï',\n",
       " 'электроника']"
      ]
     },
     "metadata": {},
     "output_type": "display_data"
    }
   ],
   "source": [
    "# Просмотр уникальных названий жанров\n",
    "\n",
    "display(sorted(df['genre'].unique()))"
   ]
  },
  {
   "cell_type": "markdown",
   "metadata": {
    "id": "qej-Qmuo_Zct"
   },
   "source": [
    "Просмотрите список и найдите неявные дубликаты названия `hiphop`. Это могут быть названия с ошибками или альтернативные названия того же жанра.\n",
    "\n",
    "Вы увидите следующие неявные дубликаты:\n",
    "* *hip*,\n",
    "* *hop*,\n",
    "* *hip-hop*.\n",
    "\n",
    "Чтобы очистить от них таблицу, напишите функцию `replace_wrong_genres()` с двумя параметрами: \n",
    "* `wrong_genres` — список дубликатов,\n",
    "* `correct_genre` — строка с правильным значением.\n",
    "\n",
    "Функция должна исправить колонку `genre` в таблице `df`: заменить каждое значение из списка `wrong_genres` на значение из `correct_genre`."
   ]
  },
  {
   "cell_type": "code",
   "execution_count": 23,
   "metadata": {
    "id": "ErNDkmns_Zct"
   },
   "outputs": [],
   "source": [
    "# Функция для замены неявных дубликатов\n",
    "\n",
    "def replace_wrong_genres(wrong_genres, correct_genre):\n",
    "    for wrong_genre in wrong_genres: \n",
    "        df['genre'] = df['genre'].replace(wrong_genre, correct_genre)"
   ]
  },
  {
   "cell_type": "markdown",
   "metadata": {
    "id": "aDoBJxbA_Zct"
   },
   "source": [
    "Вызовите `replace_wrong_genres()` и передайте ей такие аргументы, чтобы она устранила неявные дубликаты: вместо `hip`, `hop` и `hip-hop` в таблице должно быть значение `hiphop`:"
   ]
  },
  {
   "cell_type": "code",
   "execution_count": 24,
   "metadata": {
    "id": "YN5i2hpmSo09"
   },
   "outputs": [],
   "source": [
    "# Устранение неявных дубликатов\n",
    "\n",
    "duplicates = ['hip', 'hop', 'hip-hop']\n",
    "name = 'hiphop'\n",
    "\n",
    "replace_wrong_genres(duplicates, name)\n",
    "\n",
    "duplicates = ['электроника']\n",
    "name = 'electronic'\n",
    "\n",
    "replace_wrong_genres(duplicates, name)"
   ]
  },
  {
   "cell_type": "markdown",
   "metadata": {
    "id": "zQKF16_RG15m"
   },
   "source": [
    "Проверьте, что заменили неправильные названия:\n",
    "\n",
    "*   hip\n",
    "*   hop\n",
    "*   hip-hop\n",
    "\n",
    "Выведите отсортированный список уникальных значений столбца `genre`:"
   ]
  },
  {
   "cell_type": "code",
   "execution_count": 25,
   "metadata": {
    "id": "wvixALnFG15m",
    "scrolled": false
   },
   "outputs": [
    {
     "data": {
      "text/plain": [
       "['acid',\n",
       " 'acoustic',\n",
       " 'action',\n",
       " 'adult',\n",
       " 'africa',\n",
       " 'afrikaans',\n",
       " 'alternative',\n",
       " 'alternativepunk',\n",
       " 'ambient',\n",
       " 'americana',\n",
       " 'animated',\n",
       " 'anime',\n",
       " 'arabesk',\n",
       " 'arabic',\n",
       " 'arena',\n",
       " 'argentinetango',\n",
       " 'art',\n",
       " 'audiobook',\n",
       " 'author',\n",
       " 'avantgarde',\n",
       " 'axé',\n",
       " 'baile',\n",
       " 'balkan',\n",
       " 'beats',\n",
       " 'bigroom',\n",
       " 'black',\n",
       " 'bluegrass',\n",
       " 'blues',\n",
       " 'bollywood',\n",
       " 'bossa',\n",
       " 'brazilian',\n",
       " 'breakbeat',\n",
       " 'breaks',\n",
       " 'broadway',\n",
       " 'cantautori',\n",
       " 'cantopop',\n",
       " 'canzone',\n",
       " 'caribbean',\n",
       " 'caucasian',\n",
       " 'celtic',\n",
       " 'chamber',\n",
       " 'chanson',\n",
       " 'children',\n",
       " 'chill',\n",
       " 'chinese',\n",
       " 'choral',\n",
       " 'christian',\n",
       " 'christmas',\n",
       " 'classical',\n",
       " 'classicmetal',\n",
       " 'club',\n",
       " 'colombian',\n",
       " 'comedy',\n",
       " 'conjazz',\n",
       " 'contemporary',\n",
       " 'country',\n",
       " 'cuban',\n",
       " 'dance',\n",
       " 'dancehall',\n",
       " 'dancepop',\n",
       " 'dark',\n",
       " 'death',\n",
       " 'deep',\n",
       " 'deutschrock',\n",
       " 'deutschspr',\n",
       " 'dirty',\n",
       " 'disco',\n",
       " 'dnb',\n",
       " 'documentary',\n",
       " 'downbeat',\n",
       " 'downtempo',\n",
       " 'drum',\n",
       " 'dub',\n",
       " 'dubstep',\n",
       " 'eastern',\n",
       " 'easy',\n",
       " 'electronic',\n",
       " 'electropop',\n",
       " 'emo',\n",
       " 'entehno',\n",
       " 'epicmetal',\n",
       " 'estrada',\n",
       " 'ethnic',\n",
       " 'eurofolk',\n",
       " 'european',\n",
       " 'experimental',\n",
       " 'extrememetal',\n",
       " 'fado',\n",
       " 'fairytail',\n",
       " 'film',\n",
       " 'fitness',\n",
       " 'flamenco',\n",
       " 'folk',\n",
       " 'folklore',\n",
       " 'folkmetal',\n",
       " 'folkrock',\n",
       " 'folktronica',\n",
       " 'forró',\n",
       " 'frankreich',\n",
       " 'französisch',\n",
       " 'french',\n",
       " 'funk',\n",
       " 'future',\n",
       " 'gangsta',\n",
       " 'garage',\n",
       " 'german',\n",
       " 'ghazal',\n",
       " 'gitarre',\n",
       " 'glitch',\n",
       " 'gospel',\n",
       " 'gothic',\n",
       " 'grime',\n",
       " 'grunge',\n",
       " 'gypsy',\n",
       " 'handsup',\n",
       " \"hard'n'heavy\",\n",
       " 'hardcore',\n",
       " 'hardstyle',\n",
       " 'hardtechno',\n",
       " 'hiphop',\n",
       " 'historisch',\n",
       " 'holiday',\n",
       " 'horror',\n",
       " 'house',\n",
       " 'hymn',\n",
       " 'idm',\n",
       " 'independent',\n",
       " 'indian',\n",
       " 'indie',\n",
       " 'indipop',\n",
       " 'industrial',\n",
       " 'inspirational',\n",
       " 'instrumental',\n",
       " 'international',\n",
       " 'irish',\n",
       " 'jam',\n",
       " 'japanese',\n",
       " 'jazz',\n",
       " 'jewish',\n",
       " 'jpop',\n",
       " 'jungle',\n",
       " 'k-pop',\n",
       " 'karadeniz',\n",
       " 'karaoke',\n",
       " 'kayokyoku',\n",
       " 'korean',\n",
       " 'laiko',\n",
       " 'latin',\n",
       " 'latino',\n",
       " 'leftfield',\n",
       " 'local',\n",
       " 'lounge',\n",
       " 'loungeelectronic',\n",
       " 'lovers',\n",
       " 'malaysian',\n",
       " 'mandopop',\n",
       " 'marschmusik',\n",
       " 'meditative',\n",
       " 'mediterranean',\n",
       " 'melodic',\n",
       " 'metal',\n",
       " 'metalcore',\n",
       " 'mexican',\n",
       " 'middle',\n",
       " 'minimal',\n",
       " 'miscellaneous',\n",
       " 'modern',\n",
       " 'mood',\n",
       " 'mpb',\n",
       " 'muslim',\n",
       " 'native',\n",
       " 'neoklassik',\n",
       " 'neue',\n",
       " 'new',\n",
       " 'newage',\n",
       " 'newwave',\n",
       " 'nu',\n",
       " 'nujazz',\n",
       " 'numetal',\n",
       " 'oceania',\n",
       " 'old',\n",
       " 'opera',\n",
       " 'orchestral',\n",
       " 'other',\n",
       " 'piano',\n",
       " 'podcasts',\n",
       " 'pop',\n",
       " 'popdance',\n",
       " 'popelectronic',\n",
       " 'popeurodance',\n",
       " 'poprussian',\n",
       " 'post',\n",
       " 'posthardcore',\n",
       " 'postrock',\n",
       " 'power',\n",
       " 'progmetal',\n",
       " 'progressive',\n",
       " 'psychedelic',\n",
       " 'punjabi',\n",
       " 'punk',\n",
       " 'quebecois',\n",
       " 'ragga',\n",
       " 'ram',\n",
       " 'rancheras',\n",
       " 'rap',\n",
       " 'rave',\n",
       " 'reggae',\n",
       " 'reggaeton',\n",
       " 'regional',\n",
       " 'relax',\n",
       " 'religious',\n",
       " 'retro',\n",
       " 'rhythm',\n",
       " 'rnb',\n",
       " 'rnr',\n",
       " 'rock',\n",
       " 'rockabilly',\n",
       " 'rockalternative',\n",
       " 'rockindie',\n",
       " 'rockother',\n",
       " 'romance',\n",
       " 'roots',\n",
       " 'ruspop',\n",
       " 'rusrap',\n",
       " 'rusrock',\n",
       " 'russian',\n",
       " 'salsa',\n",
       " 'samba',\n",
       " 'scenic',\n",
       " 'schlager',\n",
       " 'self',\n",
       " 'sertanejo',\n",
       " 'shanson',\n",
       " 'shoegazing',\n",
       " 'showtunes',\n",
       " 'singer',\n",
       " 'ska',\n",
       " 'skarock',\n",
       " 'slow',\n",
       " 'smooth',\n",
       " 'soft',\n",
       " 'soul',\n",
       " 'soulful',\n",
       " 'sound',\n",
       " 'soundtrack',\n",
       " 'southern',\n",
       " 'specialty',\n",
       " 'speech',\n",
       " 'spiritual',\n",
       " 'sport',\n",
       " 'stonerrock',\n",
       " 'surf',\n",
       " 'swing',\n",
       " 'synthpop',\n",
       " 'synthrock',\n",
       " 'sängerportrait',\n",
       " 'tango',\n",
       " 'tanzorchester',\n",
       " 'taraftar',\n",
       " 'tatar',\n",
       " 'tech',\n",
       " 'techno',\n",
       " 'teen',\n",
       " 'thrash',\n",
       " 'top',\n",
       " 'traditional',\n",
       " 'tradjazz',\n",
       " 'trance',\n",
       " 'tribal',\n",
       " 'trip',\n",
       " 'triphop',\n",
       " 'tropical',\n",
       " 'türk',\n",
       " 'türkçe',\n",
       " 'ukrrock',\n",
       " 'unknown',\n",
       " 'urban',\n",
       " 'uzbek',\n",
       " 'variété',\n",
       " 'vi',\n",
       " 'videogame',\n",
       " 'vocal',\n",
       " 'western',\n",
       " 'world',\n",
       " 'worldbeat',\n",
       " 'ïîï']"
      ]
     },
     "metadata": {},
     "output_type": "display_data"
    }
   ],
   "source": [
    "# Проверка на неявные дубликаты\n",
    "\n",
    "display(sorted(df['genre'].unique()))"
   ]
  },
  {
   "cell_type": "markdown",
   "metadata": {
    "id": "jz6a9-7HQUDd"
   },
   "source": [
    "**Выводы**\n",
    "\n",
    "Предобработка обнаружила три проблемы в данных:\n",
    "\n",
    "- нарушения в стиле заголовков,\n",
    "- пропущенные значения,\n",
    "- дубликаты — явные и неявные.\n",
    "\n",
    "Вы исправили заголовки, чтобы упростить работу с таблицей. Без дубликатов исследование станет более точным.\n",
    "\n",
    "Пропущенные значения вы заменили на `'unknown'`. Ещё предстоит увидеть, не повредят ли исследованию пропуски в колонке `genre`.\n",
    "\n",
    "Теперь можно перейти к проверке гипотез. "
   ]
  },
  {
   "cell_type": "markdown",
   "metadata": {
    "id": "WttZHXH0SqKk"
   },
   "source": [
    "## Проверка гипотез"
   ]
  },
  {
   "cell_type": "markdown",
   "metadata": {
    "id": "Im936VVi_Zcu"
   },
   "source": [
    "### Сравнение поведения пользователей двух столиц"
   ]
  },
  {
   "cell_type": "markdown",
   "metadata": {
    "id": "nwt_MuaL_Zcu"
   },
   "source": [
    "Первая гипотеза утверждает, что пользователи по-разному слушают музыку в Москве и Санкт-Петербурге. Проверьте это предположение по данным о трёх днях недели — понедельнике, среде и пятнице. Для этого:\n",
    "\n",
    "* Разделите пользователей Москвы и Санкт-Петербурга\n",
    "* Сравните, сколько треков послушала каждая группа пользователей в понедельник, среду и пятницу.\n"
   ]
  },
  {
   "cell_type": "markdown",
   "metadata": {
    "id": "8Dw_YMmT_Zcu"
   },
   "source": [
    "Для тренировки сначала выполните каждый из расчётов по отдельности. \n",
    "\n",
    "Оцените активность пользователей в каждом городе. Сгруппируйте данные по городу и посчитайте прослушивания в каждой группе.\n",
    "\n"
   ]
  },
  {
   "cell_type": "code",
   "execution_count": 26,
   "metadata": {
    "id": "0_Qs96oh_Zcu",
    "scrolled": true
   },
   "outputs": [
    {
     "name": "stdout",
     "output_type": "stream",
     "text": [
      "city\n",
      "Moscow              42741\n",
      "Saint-Petersburg    18512\n",
      "Name: genre, dtype: int64\n"
     ]
    }
   ],
   "source": [
    "# Подсчёт прослушиваний в каждом городе\n",
    "\n",
    "user_number_city = df.groupby('city')['genre'].count()\n",
    "print(user_number_city)"
   ]
  },
  {
   "cell_type": "markdown",
   "metadata": {
    "id": "dzli3w8o_Zcu"
   },
   "source": [
    "В Москве прослушиваний больше, чем в Петербурге. Из этого не следует, что московские пользователи чаще слушают музыку. Просто самих пользователей в Москве больше.\n",
    "\n",
    "Теперь сгруппируйте данные по дню недели и подсчитайте прослушивания в понедельник, среду и пятницу. Учтите, что в данных есть информация только о прослушиваниях только за эти дни.\n"
   ]
  },
  {
   "cell_type": "code",
   "execution_count": 27,
   "metadata": {
    "id": "uZMKjiJz_Zcu",
    "scrolled": true
   },
   "outputs": [
    {
     "name": "stdout",
     "output_type": "stream",
     "text": [
      "day\n",
      "Friday       21840\n",
      "Monday       21354\n",
      "Wednesday    18059\n",
      "Name: genre, dtype: int64\n"
     ]
    }
   ],
   "source": [
    "# Подсчёт прослушиваний в каждый из трёх дней\n",
    "\n",
    "user_number_day = df.groupby('day')['genre'].count()\n",
    "print(user_number_day)"
   ]
  },
  {
   "cell_type": "markdown",
   "metadata": {
    "id": "cC2tNrlL_Zcu"
   },
   "source": [
    "В среднем пользователи из двух городов менее активны по средам. Но картина может измениться, если рассмотреть каждый город в отдельности."
   ]
  },
  {
   "cell_type": "markdown",
   "metadata": {
    "id": "POzs8bGa_Zcu"
   },
   "source": [
    "Вы видели, как работает группировка по городу и по дням недели. Теперь напишите функцию, которая объединит два эти расчёта.\n",
    "\n",
    "Создайте функцию `number_tracks()`, которая посчитает прослушивания для заданного дня и города. Ей понадобятся два параметра:\n",
    "* день недели,\n",
    "* название города.\n",
    "\n",
    "В функции сохраните в переменную строки исходной таблицы, у которых значение:\n",
    "  * в колонке `day` равно параметру `day`,\n",
    "  * в колонке `city` равно параметру `city`.\n",
    "\n",
    "Для этого примените последовательную фильтрацию с логической индексацией.\n",
    "\n",
    "Затем посчитайте значения в столбце `user_id` получившейся таблицы. Результат сохраните в новую переменную. Верните эту переменную из функции."
   ]
  },
  {
   "cell_type": "code",
   "execution_count": 28,
   "metadata": {
    "id": "Nz3GdQB1_Zcu"
   },
   "outputs": [],
   "source": [
    "def number_tracks(day,city):\n",
    "    track_list = df[(df['day'] == day) & (df['city'] == city)]\n",
    "    track_list_count = track_list['user_id'].count()\n",
    "    return track_list_count\n",
    "\n",
    "# <создание функции number_tracks()>\n",
    "# Объявляется функция с двумя параметрами: day, city.\n",
    "# В переменной track_list сохраняются те строки таблицы df, для которых \n",
    "# значение в столбце 'day' равно параметру day и одновременно значение\n",
    "# в столбце 'city' равно параметру city (используйте последовательную фильтрацию\n",
    "# с помощью логической индексации).\n",
    "# В переменной track_list_count сохраняется число значений столбца 'user_id',\n",
    "# рассчитанное методом count() для таблицы track_list.\n",
    "# Функция возвращает число - значение track_list_count.\n",
    "\n",
    "# Функция для подсчёта прослушиваний для конкретного города и дня.\n",
    "# С помощью последовательной фильтрации с логической индексацией она \n",
    "# сначала получит из исходной таблицы строки с нужным днём,\n",
    "# затем из результата отфильтрует строки с нужным городом,\n",
    "# методом count() посчитает количество значений в колонке user_id. \n",
    "# Это количество функция вернёт в качестве результата"
   ]
  },
  {
   "cell_type": "markdown",
   "metadata": {
    "id": "ytf7xFrFJQ2r"
   },
   "source": [
    "Вызовите `number_tracks()` шесть раз, меняя значение параметров — так, чтобы получить данные для каждого города в каждый из трёх дней."
   ]
  },
  {
   "cell_type": "code",
   "execution_count": 29,
   "metadata": {
    "id": "rJcRATNQ_Zcu"
   },
   "outputs": [],
   "source": [
    "# количество прослушиваний в Москве по понедельникам\n",
    "monday_moscow = number_tracks('Monday','Moscow')"
   ]
  },
  {
   "cell_type": "code",
   "execution_count": 30,
   "metadata": {
    "id": "hq_ncZ5T_Zcu"
   },
   "outputs": [],
   "source": [
    "# количество прослушиваний в Санкт-Петербурге по понедельникам\n",
    "monday_spb = number_tracks('Monday','Saint-Petersburg')"
   ]
  },
  {
   "cell_type": "code",
   "execution_count": 31,
   "metadata": {
    "id": "_NTy2VPU_Zcu"
   },
   "outputs": [],
   "source": [
    "# количество прослушиваний в Москве по средам\n",
    "wednesday_moscow = number_tracks('Wednesday','Moscow')"
   ]
  },
  {
   "cell_type": "code",
   "execution_count": 32,
   "metadata": {
    "id": "j2y3TAwo_Zcu"
   },
   "outputs": [],
   "source": [
    "# количество прослушиваний в Санкт-Петербурге по средам\n",
    "wednesday_spb = number_tracks('Wednesday','Saint-Petersburg')"
   ]
  },
  {
   "cell_type": "code",
   "execution_count": 33,
   "metadata": {
    "id": "vYDw5u_K_Zcu"
   },
   "outputs": [],
   "source": [
    "# количество прослушиваний в Москве по пятницам\n",
    "friday_moscow = number_tracks('Friday','Moscow')"
   ]
  },
  {
   "cell_type": "code",
   "execution_count": 34,
   "metadata": {
    "id": "8_yzFtW3_Zcu"
   },
   "outputs": [],
   "source": [
    "# количество прослушиваний в Санкт-Петербурге по пятницам\n",
    "friday_spb = number_tracks('Friday','Saint-Petersburg')"
   ]
  },
  {
   "cell_type": "markdown",
   "metadata": {
    "id": "7QXffbO-_Zcu"
   },
   "source": [
    "Создайте c помощью конструктора `pd.DataFrame` таблицу, где\n",
    "* названия колонок — `['city', 'monday', 'wednesday', 'friday']`;\n",
    "* данные — результаты, которые вы получили с помощью `number_tracks`."
   ]
  },
  {
   "cell_type": "code",
   "execution_count": 35,
   "metadata": {
    "id": "APAcLpOr_Zcu"
   },
   "outputs": [
    {
     "data": {
      "text/html": [
       "<div>\n",
       "<style scoped>\n",
       "    .dataframe tbody tr th:only-of-type {\n",
       "        vertical-align: middle;\n",
       "    }\n",
       "\n",
       "    .dataframe tbody tr th {\n",
       "        vertical-align: top;\n",
       "    }\n",
       "\n",
       "    .dataframe thead th {\n",
       "        text-align: right;\n",
       "    }\n",
       "</style>\n",
       "<table border=\"1\" class=\"dataframe\">\n",
       "  <thead>\n",
       "    <tr style=\"text-align: right;\">\n",
       "      <th></th>\n",
       "      <th>city</th>\n",
       "      <th>monday</th>\n",
       "      <th>wednesday</th>\n",
       "      <th>friday</th>\n",
       "    </tr>\n",
       "  </thead>\n",
       "  <tbody>\n",
       "    <tr>\n",
       "      <td>0</td>\n",
       "      <td>Moscow</td>\n",
       "      <td>15740</td>\n",
       "      <td>11056</td>\n",
       "      <td>15945</td>\n",
       "    </tr>\n",
       "    <tr>\n",
       "      <td>1</td>\n",
       "      <td>Saint-Petersburg</td>\n",
       "      <td>5614</td>\n",
       "      <td>7003</td>\n",
       "      <td>5895</td>\n",
       "    </tr>\n",
       "  </tbody>\n",
       "</table>\n",
       "</div>"
      ],
      "text/plain": [
       "               city  monday  wednesday  friday\n",
       "0            Moscow   15740      11056   15945\n",
       "1  Saint-Petersburg    5614       7003    5895"
      ]
     },
     "metadata": {},
     "output_type": "display_data"
    }
   ],
   "source": [
    "# Таблица с результатами\n",
    "\n",
    "data = [\n",
    "    ['Moscow', monday_moscow, wednesday_moscow, friday_moscow],\n",
    "    ['Saint-Petersburg', monday_spb, wednesday_spb, friday_spb]]\n",
    "\n",
    "columns = ['city', 'monday', 'wednesday', 'friday']\n",
    "\n",
    "metrics = pd.DataFrame(data = data, columns = columns)\n",
    "\n",
    "display(metrics)"
   ]
  },
  {
   "cell_type": "markdown",
   "metadata": {
    "id": "-EgPIHYu_Zcu"
   },
   "source": [
    "**Выводы**\n",
    "\n",
    "Данные показывают разницу поведения пользователей:\n",
    "\n",
    "- В Москве пик прослушиваний приходится на понедельник и пятницу, а в среду заметен спад.\n",
    "- В Петербурге, наоборот, больше слушают музыку по средам. Активность в понедельник и пятницу здесь почти в равной мере уступает среде.\n",
    "\n",
    "Значит, данные говорят в пользу первой гипотезы."
   ]
  },
  {
   "cell_type": "markdown",
   "metadata": {
    "id": "atZAxtq4_Zcu"
   },
   "source": [
    "### Музыка в начале и в конце недели"
   ]
  },
  {
   "cell_type": "markdown",
   "metadata": {
    "id": "eXrQqXFH_Zcu"
   },
   "source": [
    "Согласно второй гипотезе, утром в понедельник в Москве преобладают одни жанры, а в Петербурге — другие. Так же и вечером пятницы преобладают разные жанры — в зависимости от города."
   ]
  },
  {
   "cell_type": "markdown",
   "metadata": {
    "id": "S8UcW6Hw_Zcu"
   },
   "source": [
    "Сохраните таблицы с данными в две переменные:\n",
    "* по Москве — в `moscow_general`;\n",
    "* по Санкт-Петербургу — в `spb_general`."
   ]
  },
  {
   "cell_type": "code",
   "execution_count": 36,
   "metadata": {
    "id": "qeaFfM_P_Zcu"
   },
   "outputs": [
    {
     "data": {
      "text/html": [
       "<div>\n",
       "<style scoped>\n",
       "    .dataframe tbody tr th:only-of-type {\n",
       "        vertical-align: middle;\n",
       "    }\n",
       "\n",
       "    .dataframe tbody tr th {\n",
       "        vertical-align: top;\n",
       "    }\n",
       "\n",
       "    .dataframe thead th {\n",
       "        text-align: right;\n",
       "    }\n",
       "</style>\n",
       "<table border=\"1\" class=\"dataframe\">\n",
       "  <thead>\n",
       "    <tr style=\"text-align: right;\">\n",
       "      <th></th>\n",
       "      <th>user_id</th>\n",
       "      <th>track</th>\n",
       "      <th>artist</th>\n",
       "      <th>genre</th>\n",
       "      <th>city</th>\n",
       "      <th>time</th>\n",
       "      <th>day</th>\n",
       "    </tr>\n",
       "  </thead>\n",
       "  <tbody>\n",
       "    <tr>\n",
       "      <td>1</td>\n",
       "      <td>55204538</td>\n",
       "      <td>Delayed Because of Accident</td>\n",
       "      <td>Andreas Rönnberg</td>\n",
       "      <td>rock</td>\n",
       "      <td>Moscow</td>\n",
       "      <td>14:07:09</td>\n",
       "      <td>Friday</td>\n",
       "    </tr>\n",
       "    <tr>\n",
       "      <td>4</td>\n",
       "      <td>E2DC1FAE</td>\n",
       "      <td>Soul People</td>\n",
       "      <td>Space Echo</td>\n",
       "      <td>dance</td>\n",
       "      <td>Moscow</td>\n",
       "      <td>08:34:34</td>\n",
       "      <td>Monday</td>\n",
       "    </tr>\n",
       "    <tr>\n",
       "      <td>6</td>\n",
       "      <td>4CB90AA5</td>\n",
       "      <td>True</td>\n",
       "      <td>Roman Messer</td>\n",
       "      <td>dance</td>\n",
       "      <td>Moscow</td>\n",
       "      <td>13:00:07</td>\n",
       "      <td>Wednesday</td>\n",
       "    </tr>\n",
       "    <tr>\n",
       "      <td>7</td>\n",
       "      <td>F03E1C1F</td>\n",
       "      <td>Feeling This Way</td>\n",
       "      <td>Polina Griffith</td>\n",
       "      <td>dance</td>\n",
       "      <td>Moscow</td>\n",
       "      <td>20:47:49</td>\n",
       "      <td>Wednesday</td>\n",
       "    </tr>\n",
       "    <tr>\n",
       "      <td>8</td>\n",
       "      <td>8FA1D3BE</td>\n",
       "      <td>И вновь продолжается бой</td>\n",
       "      <td>unknown</td>\n",
       "      <td>ruspop</td>\n",
       "      <td>Moscow</td>\n",
       "      <td>09:17:40</td>\n",
       "      <td>Friday</td>\n",
       "    </tr>\n",
       "    <tr>\n",
       "      <td>10</td>\n",
       "      <td>BC5A3A29</td>\n",
       "      <td>Gool la Mita</td>\n",
       "      <td>Shireen Abdul Wahab</td>\n",
       "      <td>world</td>\n",
       "      <td>Moscow</td>\n",
       "      <td>14:08:42</td>\n",
       "      <td>Monday</td>\n",
       "    </tr>\n",
       "    <tr>\n",
       "      <td>11</td>\n",
       "      <td>8B5192C0</td>\n",
       "      <td>Is There Anybody Out There? (Panoramic Paralys...</td>\n",
       "      <td>Pink Floyd Floydhead</td>\n",
       "      <td>electronic</td>\n",
       "      <td>Moscow</td>\n",
       "      <td>13:47:49</td>\n",
       "      <td>Monday</td>\n",
       "    </tr>\n",
       "    <tr>\n",
       "      <td>12</td>\n",
       "      <td>FF3FD2BD</td>\n",
       "      <td>Мина син генэ кирэк</td>\n",
       "      <td>Ильдар Хакимов</td>\n",
       "      <td>pop</td>\n",
       "      <td>Moscow</td>\n",
       "      <td>09:19:49</td>\n",
       "      <td>Monday</td>\n",
       "    </tr>\n",
       "    <tr>\n",
       "      <td>13</td>\n",
       "      <td>CC782B0F</td>\n",
       "      <td>After School Special</td>\n",
       "      <td>Detroit Grand Pubahs</td>\n",
       "      <td>dance</td>\n",
       "      <td>Moscow</td>\n",
       "      <td>20:04:12</td>\n",
       "      <td>Friday</td>\n",
       "    </tr>\n",
       "    <tr>\n",
       "      <td>15</td>\n",
       "      <td>E3C5756F</td>\n",
       "      <td>unknown</td>\n",
       "      <td>unknown</td>\n",
       "      <td>unknown</td>\n",
       "      <td>Moscow</td>\n",
       "      <td>09:24:51</td>\n",
       "      <td>Monday</td>\n",
       "    </tr>\n",
       "    <tr>\n",
       "      <td>19</td>\n",
       "      <td>772F5B59</td>\n",
       "      <td>Sweetback</td>\n",
       "      <td>The Fabulous Three</td>\n",
       "      <td>rnb</td>\n",
       "      <td>Moscow</td>\n",
       "      <td>13:56:42</td>\n",
       "      <td>Wednesday</td>\n",
       "    </tr>\n",
       "    <tr>\n",
       "      <td>20</td>\n",
       "      <td>201CF2A8</td>\n",
       "      <td>Ya'll In Trouble</td>\n",
       "      <td>Lil Tee Chill Tank Young Buck Brother Mohammed...</td>\n",
       "      <td>hiphop</td>\n",
       "      <td>Moscow</td>\n",
       "      <td>08:46:03</td>\n",
       "      <td>Monday</td>\n",
       "    </tr>\n",
       "    <tr>\n",
       "      <td>21</td>\n",
       "      <td>44B8E869</td>\n",
       "      <td>Nanovirus</td>\n",
       "      <td>Exotype</td>\n",
       "      <td>rock</td>\n",
       "      <td>Moscow</td>\n",
       "      <td>21:36:40</td>\n",
       "      <td>Monday</td>\n",
       "    </tr>\n",
       "    <tr>\n",
       "      <td>23</td>\n",
       "      <td>A729591B</td>\n",
       "      <td>Gavotte</td>\n",
       "      <td>Hachidai Nakamura</td>\n",
       "      <td>jazz</td>\n",
       "      <td>Moscow</td>\n",
       "      <td>13:56:00</td>\n",
       "      <td>Monday</td>\n",
       "    </tr>\n",
       "    <tr>\n",
       "      <td>27</td>\n",
       "      <td>9CC6AA46</td>\n",
       "      <td>Mucho Corazón</td>\n",
       "      <td>Buena Vista Social Club</td>\n",
       "      <td>latin</td>\n",
       "      <td>Moscow</td>\n",
       "      <td>14:06:22</td>\n",
       "      <td>Monday</td>\n",
       "    </tr>\n",
       "    <tr>\n",
       "      <td>28</td>\n",
       "      <td>D8D698A9</td>\n",
       "      <td>Romantici</td>\n",
       "      <td>Viola Valentino</td>\n",
       "      <td>pop</td>\n",
       "      <td>Moscow</td>\n",
       "      <td>08:23:21</td>\n",
       "      <td>Wednesday</td>\n",
       "    </tr>\n",
       "    <tr>\n",
       "      <td>33</td>\n",
       "      <td>809CAFB1</td>\n",
       "      <td>Break Me Down</td>\n",
       "      <td>Steve Angello</td>\n",
       "      <td>dance</td>\n",
       "      <td>Moscow</td>\n",
       "      <td>14:42:31</td>\n",
       "      <td>Monday</td>\n",
       "    </tr>\n",
       "    <tr>\n",
       "      <td>34</td>\n",
       "      <td>B416A40F</td>\n",
       "      <td>Лучшая подруга</td>\n",
       "      <td>Супердетки</td>\n",
       "      <td>ruspop</td>\n",
       "      <td>Moscow</td>\n",
       "      <td>14:49:21</td>\n",
       "      <td>Friday</td>\n",
       "    </tr>\n",
       "    <tr>\n",
       "      <td>35</td>\n",
       "      <td>A8AE9169</td>\n",
       "      <td>unknown</td>\n",
       "      <td>unknown</td>\n",
       "      <td>unknown</td>\n",
       "      <td>Moscow</td>\n",
       "      <td>08:56:10</td>\n",
       "      <td>Monday</td>\n",
       "    </tr>\n",
       "    <tr>\n",
       "      <td>36</td>\n",
       "      <td>FCDF1C8E</td>\n",
       "      <td>Nasebanaru</td>\n",
       "      <td>Zen</td>\n",
       "      <td>reggae</td>\n",
       "      <td>Moscow</td>\n",
       "      <td>20:19:36</td>\n",
       "      <td>Wednesday</td>\n",
       "    </tr>\n",
       "  </tbody>\n",
       "</table>\n",
       "</div>"
      ],
      "text/plain": [
       "     user_id                                              track  \\\n",
       "1   55204538                        Delayed Because of Accident   \n",
       "4   E2DC1FAE                                        Soul People   \n",
       "6   4CB90AA5                                               True   \n",
       "7   F03E1C1F                                   Feeling This Way   \n",
       "8   8FA1D3BE                           И вновь продолжается бой   \n",
       "10  BC5A3A29                                       Gool la Mita   \n",
       "11  8B5192C0  Is There Anybody Out There? (Panoramic Paralys...   \n",
       "12  FF3FD2BD                                Мина син генэ кирэк   \n",
       "13  CC782B0F                               After School Special   \n",
       "15  E3C5756F                                            unknown   \n",
       "19  772F5B59                                          Sweetback   \n",
       "20  201CF2A8                                   Ya'll In Trouble   \n",
       "21  44B8E869                                          Nanovirus   \n",
       "23  A729591B                                            Gavotte   \n",
       "27  9CC6AA46                                      Mucho Corazón   \n",
       "28  D8D698A9                                          Romantici   \n",
       "33  809CAFB1                                      Break Me Down   \n",
       "34  B416A40F                                     Лучшая подруга   \n",
       "35  A8AE9169                                            unknown   \n",
       "36  FCDF1C8E                                         Nasebanaru   \n",
       "\n",
       "                                               artist       genre    city  \\\n",
       "1                                    Andreas Rönnberg        rock  Moscow   \n",
       "4                                          Space Echo       dance  Moscow   \n",
       "6                                        Roman Messer       dance  Moscow   \n",
       "7                                     Polina Griffith       dance  Moscow   \n",
       "8                                             unknown      ruspop  Moscow   \n",
       "10                                Shireen Abdul Wahab       world  Moscow   \n",
       "11                               Pink Floyd Floydhead  electronic  Moscow   \n",
       "12                                     Ильдар Хакимов         pop  Moscow   \n",
       "13                               Detroit Grand Pubahs       dance  Moscow   \n",
       "15                                            unknown     unknown  Moscow   \n",
       "19                                 The Fabulous Three         rnb  Moscow   \n",
       "20  Lil Tee Chill Tank Young Buck Brother Mohammed...      hiphop  Moscow   \n",
       "21                                            Exotype        rock  Moscow   \n",
       "23                                  Hachidai Nakamura        jazz  Moscow   \n",
       "27                            Buena Vista Social Club       latin  Moscow   \n",
       "28                                    Viola Valentino         pop  Moscow   \n",
       "33                                      Steve Angello       dance  Moscow   \n",
       "34                                         Супердетки      ruspop  Moscow   \n",
       "35                                            unknown     unknown  Moscow   \n",
       "36                                                Zen      reggae  Moscow   \n",
       "\n",
       "        time        day  \n",
       "1   14:07:09     Friday  \n",
       "4   08:34:34     Monday  \n",
       "6   13:00:07  Wednesday  \n",
       "7   20:47:49  Wednesday  \n",
       "8   09:17:40     Friday  \n",
       "10  14:08:42     Monday  \n",
       "11  13:47:49     Monday  \n",
       "12  09:19:49     Monday  \n",
       "13  20:04:12     Friday  \n",
       "15  09:24:51     Monday  \n",
       "19  13:56:42  Wednesday  \n",
       "20  08:46:03     Monday  \n",
       "21  21:36:40     Monday  \n",
       "23  13:56:00     Monday  \n",
       "27  14:06:22     Monday  \n",
       "28  08:23:21  Wednesday  \n",
       "33  14:42:31     Monday  \n",
       "34  14:49:21     Friday  \n",
       "35  08:56:10     Monday  \n",
       "36  20:19:36  Wednesday  "
      ]
     },
     "metadata": {},
     "output_type": "display_data"
    }
   ],
   "source": [
    "# получение таблицы moscow_general из тех строк таблицы df, \n",
    "# для которых значение в столбце 'city' равно 'Moscow'\n",
    "\n",
    "moscow_general = df[df['city'] == 'Moscow']\n",
    "display(moscow_general.head(20))"
   ]
  },
  {
   "cell_type": "code",
   "execution_count": 37,
   "metadata": {
    "id": "ORaVRKto_Zcu"
   },
   "outputs": [
    {
     "data": {
      "text/html": [
       "<div>\n",
       "<style scoped>\n",
       "    .dataframe tbody tr th:only-of-type {\n",
       "        vertical-align: middle;\n",
       "    }\n",
       "\n",
       "    .dataframe tbody tr th {\n",
       "        vertical-align: top;\n",
       "    }\n",
       "\n",
       "    .dataframe thead th {\n",
       "        text-align: right;\n",
       "    }\n",
       "</style>\n",
       "<table border=\"1\" class=\"dataframe\">\n",
       "  <thead>\n",
       "    <tr style=\"text-align: right;\">\n",
       "      <th></th>\n",
       "      <th>user_id</th>\n",
       "      <th>track</th>\n",
       "      <th>artist</th>\n",
       "      <th>genre</th>\n",
       "      <th>city</th>\n",
       "      <th>time</th>\n",
       "      <th>day</th>\n",
       "    </tr>\n",
       "  </thead>\n",
       "  <tbody>\n",
       "    <tr>\n",
       "      <td>0</td>\n",
       "      <td>FFB692EC</td>\n",
       "      <td>Kamigata To Boots</td>\n",
       "      <td>The Mass Missile</td>\n",
       "      <td>rock</td>\n",
       "      <td>Saint-Petersburg</td>\n",
       "      <td>20:28:33</td>\n",
       "      <td>Wednesday</td>\n",
       "    </tr>\n",
       "    <tr>\n",
       "      <td>2</td>\n",
       "      <td>20EC38</td>\n",
       "      <td>Funiculì funiculà</td>\n",
       "      <td>Mario Lanza</td>\n",
       "      <td>pop</td>\n",
       "      <td>Saint-Petersburg</td>\n",
       "      <td>20:58:07</td>\n",
       "      <td>Wednesday</td>\n",
       "    </tr>\n",
       "    <tr>\n",
       "      <td>3</td>\n",
       "      <td>A3DD03C9</td>\n",
       "      <td>Dragons in the Sunset</td>\n",
       "      <td>Fire + Ice</td>\n",
       "      <td>folk</td>\n",
       "      <td>Saint-Petersburg</td>\n",
       "      <td>08:37:09</td>\n",
       "      <td>Monday</td>\n",
       "    </tr>\n",
       "    <tr>\n",
       "      <td>5</td>\n",
       "      <td>842029A1</td>\n",
       "      <td>Преданная</td>\n",
       "      <td>IMPERVTOR</td>\n",
       "      <td>rusrap</td>\n",
       "      <td>Saint-Petersburg</td>\n",
       "      <td>13:09:41</td>\n",
       "      <td>Friday</td>\n",
       "    </tr>\n",
       "    <tr>\n",
       "      <td>9</td>\n",
       "      <td>E772D5C0</td>\n",
       "      <td>Pessimist</td>\n",
       "      <td>unknown</td>\n",
       "      <td>dance</td>\n",
       "      <td>Saint-Petersburg</td>\n",
       "      <td>21:20:49</td>\n",
       "      <td>Wednesday</td>\n",
       "    </tr>\n",
       "    <tr>\n",
       "      <td>14</td>\n",
       "      <td>94EB25C2</td>\n",
       "      <td>Make Love Whenever You Can</td>\n",
       "      <td>Arabesque</td>\n",
       "      <td>pop</td>\n",
       "      <td>Saint-Petersburg</td>\n",
       "      <td>13:22:08</td>\n",
       "      <td>Wednesday</td>\n",
       "    </tr>\n",
       "    <tr>\n",
       "      <td>16</td>\n",
       "      <td>81D05C7D</td>\n",
       "      <td>SLAVES OF FEAR</td>\n",
       "      <td>HEALTH</td>\n",
       "      <td>alternative</td>\n",
       "      <td>Saint-Petersburg</td>\n",
       "      <td>20:54:48</td>\n",
       "      <td>Monday</td>\n",
       "    </tr>\n",
       "    <tr>\n",
       "      <td>17</td>\n",
       "      <td>39DE290E</td>\n",
       "      <td>Веснянка</td>\n",
       "      <td>Веданъ Колодъ</td>\n",
       "      <td>folk</td>\n",
       "      <td>Saint-Petersburg</td>\n",
       "      <td>14:36:47</td>\n",
       "      <td>Monday</td>\n",
       "    </tr>\n",
       "    <tr>\n",
       "      <td>18</td>\n",
       "      <td>58AE138A</td>\n",
       "      <td>Pat-a-Cake</td>\n",
       "      <td>Mother Goose Club</td>\n",
       "      <td>children</td>\n",
       "      <td>Saint-Petersburg</td>\n",
       "      <td>20:04:56</td>\n",
       "      <td>Monday</td>\n",
       "    </tr>\n",
       "    <tr>\n",
       "      <td>22</td>\n",
       "      <td>B8E29C9C</td>\n",
       "      <td>Самота</td>\n",
       "      <td>unknown</td>\n",
       "      <td>folk</td>\n",
       "      <td>Saint-Petersburg</td>\n",
       "      <td>20:20:49</td>\n",
       "      <td>Wednesday</td>\n",
       "    </tr>\n",
       "    <tr>\n",
       "      <td>24</td>\n",
       "      <td>8BA8855</td>\n",
       "      <td>A Universal Weakness</td>\n",
       "      <td>Lowercase Noises</td>\n",
       "      <td>postrock</td>\n",
       "      <td>Saint-Petersburg</td>\n",
       "      <td>21:17:25</td>\n",
       "      <td>Wednesday</td>\n",
       "    </tr>\n",
       "    <tr>\n",
       "      <td>25</td>\n",
       "      <td>A4504035</td>\n",
       "      <td>Cradle in Bethlehem</td>\n",
       "      <td>Nat King Cole</td>\n",
       "      <td>jazz</td>\n",
       "      <td>Saint-Petersburg</td>\n",
       "      <td>09:23:01</td>\n",
       "      <td>Wednesday</td>\n",
       "    </tr>\n",
       "    <tr>\n",
       "      <td>26</td>\n",
       "      <td>982219FD</td>\n",
       "      <td>We Not Speak Americano</td>\n",
       "      <td>Genio Band</td>\n",
       "      <td>pop</td>\n",
       "      <td>Saint-Petersburg</td>\n",
       "      <td>20:03:03</td>\n",
       "      <td>Monday</td>\n",
       "    </tr>\n",
       "    <tr>\n",
       "      <td>29</td>\n",
       "      <td>5661F63E</td>\n",
       "      <td>Cюита из балета «Семь красавиц»: I. Вальс</td>\n",
       "      <td>Рауф Абдуллаев Азербайджанский государственный...</td>\n",
       "      <td>classical</td>\n",
       "      <td>Saint-Petersburg</td>\n",
       "      <td>08:33:58</td>\n",
       "      <td>Wednesday</td>\n",
       "    </tr>\n",
       "    <tr>\n",
       "      <td>30</td>\n",
       "      <td>EBA5A8B2</td>\n",
       "      <td>Päivän Nousu Nostajani</td>\n",
       "      <td>Värttinä</td>\n",
       "      <td>world</td>\n",
       "      <td>Saint-Petersburg</td>\n",
       "      <td>08:00:31</td>\n",
       "      <td>Friday</td>\n",
       "    </tr>\n",
       "    <tr>\n",
       "      <td>31</td>\n",
       "      <td>F6A44469</td>\n",
       "      <td>Veritas Universalis</td>\n",
       "      <td>Devathorn</td>\n",
       "      <td>metal</td>\n",
       "      <td>Saint-Petersburg</td>\n",
       "      <td>20:19:42</td>\n",
       "      <td>Friday</td>\n",
       "    </tr>\n",
       "    <tr>\n",
       "      <td>32</td>\n",
       "      <td>84AFC19A</td>\n",
       "      <td>Carry On</td>\n",
       "      <td>Young Rising Sons</td>\n",
       "      <td>alternative</td>\n",
       "      <td>Saint-Petersburg</td>\n",
       "      <td>20:24:51</td>\n",
       "      <td>Monday</td>\n",
       "    </tr>\n",
       "    <tr>\n",
       "      <td>38</td>\n",
       "      <td>14FBD1E5</td>\n",
       "      <td>Solteras</td>\n",
       "      <td>Beauty Brain</td>\n",
       "      <td>dance</td>\n",
       "      <td>Saint-Petersburg</td>\n",
       "      <td>20:33:11</td>\n",
       "      <td>Friday</td>\n",
       "    </tr>\n",
       "    <tr>\n",
       "      <td>39</td>\n",
       "      <td>2CF53316</td>\n",
       "      <td>Прочь от Земли</td>\n",
       "      <td>Космонавты</td>\n",
       "      <td>alternative</td>\n",
       "      <td>Saint-Petersburg</td>\n",
       "      <td>20:29:00</td>\n",
       "      <td>Wednesday</td>\n",
       "    </tr>\n",
       "    <tr>\n",
       "      <td>40</td>\n",
       "      <td>77979A66</td>\n",
       "      <td>Верните в моду любовь</td>\n",
       "      <td>Hazard</td>\n",
       "      <td>rusrap</td>\n",
       "      <td>Saint-Petersburg</td>\n",
       "      <td>08:45:43</td>\n",
       "      <td>Monday</td>\n",
       "    </tr>\n",
       "  </tbody>\n",
       "</table>\n",
       "</div>"
      ],
      "text/plain": [
       "     user_id                                      track  \\\n",
       "0   FFB692EC                          Kamigata To Boots   \n",
       "2     20EC38                          Funiculì funiculà   \n",
       "3   A3DD03C9                      Dragons in the Sunset   \n",
       "5   842029A1                                  Преданная   \n",
       "9   E772D5C0                                  Pessimist   \n",
       "14  94EB25C2                 Make Love Whenever You Can   \n",
       "16  81D05C7D                             SLAVES OF FEAR   \n",
       "17  39DE290E                                   Веснянка   \n",
       "18  58AE138A                                 Pat-a-Cake   \n",
       "22  B8E29C9C                                     Самота   \n",
       "24   8BA8855                       A Universal Weakness   \n",
       "25  A4504035                        Cradle in Bethlehem   \n",
       "26  982219FD                     We Not Speak Americano   \n",
       "29  5661F63E  Cюита из балета «Семь красавиц»: I. Вальс   \n",
       "30  EBA5A8B2                     Päivän Nousu Nostajani   \n",
       "31  F6A44469                        Veritas Universalis   \n",
       "32  84AFC19A                                   Carry On   \n",
       "38  14FBD1E5                                   Solteras   \n",
       "39  2CF53316                             Прочь от Земли   \n",
       "40  77979A66                      Верните в моду любовь   \n",
       "\n",
       "                                               artist        genre  \\\n",
       "0                                    The Mass Missile         rock   \n",
       "2                                         Mario Lanza          pop   \n",
       "3                                          Fire + Ice         folk   \n",
       "5                                           IMPERVTOR       rusrap   \n",
       "9                                             unknown        dance   \n",
       "14                                          Arabesque          pop   \n",
       "16                                             HEALTH  alternative   \n",
       "17                                      Веданъ Колодъ         folk   \n",
       "18                                  Mother Goose Club     children   \n",
       "22                                            unknown         folk   \n",
       "24                                   Lowercase Noises     postrock   \n",
       "25                                      Nat King Cole         jazz   \n",
       "26                                         Genio Band          pop   \n",
       "29  Рауф Абдуллаев Азербайджанский государственный...    classical   \n",
       "30                                          Värttinä        world   \n",
       "31                                          Devathorn        metal   \n",
       "32                                  Young Rising Sons  alternative   \n",
       "38                                       Beauty Brain        dance   \n",
       "39                                         Космонавты  alternative   \n",
       "40                                             Hazard       rusrap   \n",
       "\n",
       "                city      time        day  \n",
       "0   Saint-Petersburg  20:28:33  Wednesday  \n",
       "2   Saint-Petersburg  20:58:07  Wednesday  \n",
       "3   Saint-Petersburg  08:37:09     Monday  \n",
       "5   Saint-Petersburg  13:09:41     Friday  \n",
       "9   Saint-Petersburg  21:20:49  Wednesday  \n",
       "14  Saint-Petersburg  13:22:08  Wednesday  \n",
       "16  Saint-Petersburg  20:54:48     Monday  \n",
       "17  Saint-Petersburg  14:36:47     Monday  \n",
       "18  Saint-Petersburg  20:04:56     Monday  \n",
       "22  Saint-Petersburg  20:20:49  Wednesday  \n",
       "24  Saint-Petersburg  21:17:25  Wednesday  \n",
       "25  Saint-Petersburg  09:23:01  Wednesday  \n",
       "26  Saint-Petersburg  20:03:03     Monday  \n",
       "29  Saint-Petersburg  08:33:58  Wednesday  \n",
       "30  Saint-Petersburg  08:00:31     Friday  \n",
       "31  Saint-Petersburg  20:19:42     Friday  \n",
       "32  Saint-Petersburg  20:24:51     Monday  \n",
       "38  Saint-Petersburg  20:33:11     Friday  \n",
       "39  Saint-Petersburg  20:29:00  Wednesday  \n",
       "40  Saint-Petersburg  08:45:43     Monday  "
      ]
     },
     "metadata": {},
     "output_type": "display_data"
    }
   ],
   "source": [
    "# получение таблицы spb_general из тех строк таблицы df,\n",
    "# для которых значение в столбце 'city' равно 'Saint-Petersburg'\n",
    "\n",
    "spb_general = df[df['city'] == 'Saint-Petersburg']\n",
    "display(spb_general.head(20))"
   ]
  },
  {
   "cell_type": "markdown",
   "metadata": {
    "id": "MEJV-CX2_Zcu"
   },
   "source": [
    "Создайте функцию `genre_weekday()` с четырьмя параметрами:\n",
    "* таблица (датафрейм) с данными,\n",
    "* день недели,\n",
    "* начальная временная метка в формате 'hh:mm', \n",
    "* последняя временная метка в формате 'hh:mm'.\n",
    "\n",
    "Функция должна вернуть информацию о топ-10 жанров тех треков, которые прослушивали в указанный день, в промежутке между двумя отметками времени."
   ]
  },
  {
   "cell_type": "code",
   "execution_count": 38,
   "metadata": {
    "id": "laJT9BYl_Zcu"
   },
   "outputs": [],
   "source": [
    "def genre_weekday(table, day, time1, time2):\n",
    "    genre_df = table[(table['day'] == day) & (table['time'] >= time1) & (table['time'] <= time2)]\n",
    "    genre_df_count = genre_df.groupby('genre')['genre'].count()\n",
    "    genre_df_sorted = genre_df_count.sort_values(ascending = False)\n",
    "    return genre_df_sorted.head(10)\n",
    "\n",
    "\n",
    "\n",
    "# Объявление функции genre_weekday() с параметрами table, day, time1, time2,\n",
    "# которая возвращает информацию о самых популярных жанрах в указанный день в\n",
    "# заданное время:\n",
    "# 1) в переменную genre_df сохраняются те строки переданного датафрейма table, для\n",
    "#    которых одновременно:\n",
    "#    - значение в столбце day равно значению аргумента day\n",
    "#    - значение в столбце time больше значения аргумента time1\n",
    "#    - значение в столбце time меньше значения аргумента time2\n",
    "#    Используйте последовательную фильтрацию с помощью логической индексации.\n",
    "# 2) сгруппировать датафрейм genre_df по столбцу genre, взять один из его\n",
    "#    столбцов и посчитать методом count() количество записей для каждого из\n",
    "#    присутствующих жанров, получившийся Series записать в переменную\n",
    "#    genre_df_count\n",
    "# 3) отсортировать genre_df_count по убыванию встречаемости и сохранить\n",
    "#    в переменную genre_df_sorted\n",
    "# 4) вернуть Series из 10 первых значений genre_df_sorted, это будут топ-10\n",
    "#    популярных жанров (в указанный день, в заданное время)"
   ]
  },
  {
   "cell_type": "markdown",
   "metadata": {
    "id": "la2s2_PF_Zcu"
   },
   "source": [
    "Cравните результаты функции `genre_weekday()` для Москвы и Санкт-Петербурга в понедельник утром (с 7:00 до 11:00) и в пятницу вечером (с 17:00 до 23:00):"
   ]
  },
  {
   "cell_type": "code",
   "execution_count": 39,
   "metadata": {
    "id": "yz7itPUQ_Zcu"
   },
   "outputs": [
    {
     "data": {
      "text/plain": [
       "genre\n",
       "pop            781\n",
       "dance          549\n",
       "electronic     480\n",
       "rock           474\n",
       "hiphop         286\n",
       "ruspop         186\n",
       "world          181\n",
       "rusrap         175\n",
       "alternative    164\n",
       "unknown        161\n",
       "Name: genre, dtype: int64"
      ]
     },
     "execution_count": 39,
     "metadata": {},
     "output_type": "execute_result"
    }
   ],
   "source": [
    "# вызов функции для утра понедельника в Москве (вместо df — таблица moscow_general)\n",
    "# объекты, хранящие время, являются строками и сравниваются как строки\n",
    "# пример вызова: genre_weekday(moscow_general, 'Monday', '07:00', '11:00')\n",
    "\n",
    "genre_weekday(moscow_general, 'Monday', '07:00', '11:00')"
   ]
  },
  {
   "cell_type": "code",
   "execution_count": 40,
   "metadata": {
    "id": "kwUcHPdy_Zcu"
   },
   "outputs": [
    {
     "data": {
      "text/plain": [
       "genre\n",
       "pop            218\n",
       "dance          182\n",
       "rock           162\n",
       "electronic     147\n",
       "hiphop          80\n",
       "ruspop          64\n",
       "alternative     58\n",
       "rusrap          55\n",
       "jazz            44\n",
       "classical       40\n",
       "Name: genre, dtype: int64"
      ]
     },
     "execution_count": 40,
     "metadata": {},
     "output_type": "execute_result"
    }
   ],
   "source": [
    "# вызов функции для утра понедельника в Петербурге (вместо df — таблица spb_general)\n",
    "\n",
    "genre_weekday(spb_general, 'Monday', '07:00', '11:00')"
   ]
  },
  {
   "cell_type": "code",
   "execution_count": 41,
   "metadata": {
    "id": "EzXVRE1o_Zcu"
   },
   "outputs": [
    {
     "data": {
      "text/plain": [
       "genre\n",
       "pop            713\n",
       "rock           517\n",
       "dance          495\n",
       "electronic     482\n",
       "hiphop         273\n",
       "world          208\n",
       "ruspop         170\n",
       "alternative    163\n",
       "classical      163\n",
       "rusrap         142\n",
       "Name: genre, dtype: int64"
      ]
     },
     "execution_count": 41,
     "metadata": {},
     "output_type": "execute_result"
    }
   ],
   "source": [
    "# вызов функции для вечера пятницы в Москве\n",
    "\n",
    "genre_weekday(moscow_general, 'Friday', '17:00', '23:00')"
   ]
  },
  {
   "cell_type": "code",
   "execution_count": 42,
   "metadata": {
    "id": "JZaEKu5v_Zcu"
   },
   "outputs": [
    {
     "data": {
      "text/plain": [
       "genre\n",
       "pop            256\n",
       "rock           216\n",
       "electronic     216\n",
       "dance          210\n",
       "hiphop          97\n",
       "alternative     63\n",
       "jazz            61\n",
       "classical       60\n",
       "rusrap          59\n",
       "world           54\n",
       "Name: genre, dtype: int64"
      ]
     },
     "execution_count": 42,
     "metadata": {},
     "output_type": "execute_result"
    }
   ],
   "source": [
    "# вызов функции для вечера пятницы в Петербурге\n",
    "\n",
    "genre_weekday(spb_general, 'Friday', '17:00', '23:00')"
   ]
  },
  {
   "cell_type": "markdown",
   "metadata": {
    "id": "wrCe4MNX_Zcu"
   },
   "source": [
    "**Выводы**\n",
    "\n",
    "Если сравнить топ-10 жанров в понедельник утром, можно сделать такие выводы:\n",
    "\n",
    "1. В Москве и Петербурге слушают похожую музыку. Единственное отличие — в московский рейтинг вошёл жанр “world”, а в петербургский — джаз и классика.\n",
    "\n",
    "2. В Москве пропущенных значений оказалось так много, что значение `'unknown'` заняло десятое место среди самых популярных жанров. Значит, пропущенные значения занимают существенную долю в данных и угрожают достоверности исследования.\n",
    "\n",
    "Вечер пятницы не меняет эту картину. Некоторые жанры поднимаются немного выше, другие спускаются, но в целом топ-10 остаётся тем же самым.\n",
    "\n",
    "Таким образом, вторая гипотеза подтвердилась лишь частично:\n",
    "* Пользователи слушают похожую музыку в начале недели и в конце.\n",
    "* Разница между Москвой и Петербургом не слишком выражена. В Москве чаще слушают русскую популярную музыку, в Петербурге — джаз.\n",
    "\n",
    "Однако пропуски в данных ставят под сомнение этот результат. В Москве их так много, что рейтинг топ-10 мог бы выглядеть иначе, если бы не утерянные  данные о жанрах."
   ]
  },
  {
   "cell_type": "markdown",
   "metadata": {
    "id": "JolODAqr_Zcu"
   },
   "source": [
    "### Жанровые предпочтения в Москве и Петербурге\n",
    "\n",
    "Гипотеза: Петербург — столица рэпа, музыку этого жанра там слушают чаще, чем в Москве.  А Москва — город контрастов, в котором, тем не менее, преобладает поп-музыка."
   ]
  },
  {
   "cell_type": "markdown",
   "metadata": {
    "id": "DlegSvaT_Zcu"
   },
   "source": [
    "Сгруппируйте таблицу `moscow_general` по жанру и посчитайте прослушивания треков каждого жанра методом `count()`. Затем отсортируйте результат в порядке убывания и сохраните его в таблице `moscow_genres`."
   ]
  },
  {
   "cell_type": "code",
   "execution_count": 43,
   "metadata": {
    "id": "r19lIPke_Zcu"
   },
   "outputs": [],
   "source": [
    "moscow_genres = moscow_general.groupby('genre')['genre'].count().sort_values(ascending = False)\n",
    "\n",
    "# одной строкой: группировка таблицы moscow_general по столбцу 'genre', \n",
    "# подсчёт числа значений 'genre' в этой группировке методом count(), \n",
    "# сортировка получившегося Series в порядке убывания и сохранение в moscow_genres"
   ]
  },
  {
   "cell_type": "markdown",
   "metadata": {
    "id": "6kMuomxTiIr8"
   },
   "source": [
    "Выведите на экран первые десять строк `moscow_genres`:"
   ]
  },
  {
   "cell_type": "code",
   "execution_count": 44,
   "metadata": {
    "id": "WhCSooF8_Zcv"
   },
   "outputs": [
    {
     "data": {
      "text/plain": [
       "genre\n",
       "pop            5892\n",
       "dance          4435\n",
       "rock           3965\n",
       "electronic     3786\n",
       "hiphop         2096\n",
       "classical      1616\n",
       "world          1432\n",
       "alternative    1379\n",
       "ruspop         1372\n",
       "rusrap         1161\n",
       "Name: genre, dtype: int64"
      ]
     },
     "execution_count": 44,
     "metadata": {},
     "output_type": "execute_result"
    }
   ],
   "source": [
    "# просмотр первых 10 строк moscow_genres\n",
    "moscow_genres.head(10)"
   ]
  },
  {
   "cell_type": "markdown",
   "metadata": {
    "id": "cnPG2vnN_Zcv"
   },
   "source": [
    "Теперь повторите то же и для Петербурга.\n",
    "\n",
    "Сгруппируйте таблицу `spb_general` по жанру. Посчитайте прослушивания треков каждого жанра. Результат отсортируйте в порядке убывания и сохраните в таблице `spb_genres`:\n"
   ]
  },
  {
   "cell_type": "code",
   "execution_count": 45,
   "metadata": {
    "id": "gluLIpE7_Zcv"
   },
   "outputs": [],
   "source": [
    "spb_genres = spb_general.groupby('genre')['genre'].count().sort_values(ascending = False)\n",
    "\n",
    "\n",
    "# одной строкой: группировка таблицы spb_general по столбцу 'genre', \n",
    "# подсчёт числа значений 'genre' в этой группировке методом count(), \n",
    "# сортировка получившегося Series в порядке убывания и сохранение в spb_genres"
   ]
  },
  {
   "cell_type": "markdown",
   "metadata": {
    "id": "5Doha_ODgyQ8"
   },
   "source": [
    "Выведите на экран первые десять строк `spb_genres`:"
   ]
  },
  {
   "cell_type": "code",
   "execution_count": 46,
   "metadata": {
    "id": "uaGJHjVU_Zcv"
   },
   "outputs": [
    {
     "data": {
      "text/plain": [
       "genre\n",
       "pop            2431\n",
       "dance          1932\n",
       "rock           1879\n",
       "electronic     1737\n",
       "hiphop          960\n",
       "alternative     649\n",
       "classical       646\n",
       "rusrap          564\n",
       "ruspop          538\n",
       "world           515\n",
       "Name: genre, dtype: int64"
      ]
     },
     "execution_count": 46,
     "metadata": {},
     "output_type": "execute_result"
    }
   ],
   "source": [
    "spb_genres.head(10)\n",
    "\n",
    "# просмотр первых 10 строк spb_genres"
   ]
  },
  {
   "cell_type": "markdown",
   "metadata": {
    "id": "RY51YJYu_Zcv"
   },
   "source": [
    "**Выводы**"
   ]
  },
  {
   "cell_type": "markdown",
   "metadata": {
    "id": "nVhnJEm__Zcv"
   },
   "source": [
    "Гипотеза частично подтвердилась:\n",
    "* Поп-музыка — самый популярный жанр в Москве, как и предполагала гипотеза. Более того, в топ-10 жанров встречается близкий жанр — русская популярная музыка.\n",
    "* Вопреки ожиданиям, рэп одинаково популярен в Москве и Петербурге. \n"
   ]
  },
  {
   "cell_type": "markdown",
   "metadata": {
    "id": "ykKQ0N65_Zcv"
   },
   "source": [
    "## Итоги исследования"
   ]
  },
  {
   "cell_type": "markdown",
   "metadata": {
    "id": "tjUwbHb3_Zcv"
   },
   "source": [
    "Вы проверили три гипотезы и установили:\n",
    "\n",
    "1. День недели по-разному влияет на активность пользователей в Москве и Петербурге. \n",
    "\n",
    "Первая гипотеза полностью подтвердилась.\n",
    "\n",
    "2. Музыкальные предпочтения не сильно меняются в течение недели — будь то Москва или Петербург. Небольшие различия заметны в начале недели, по понедельникам:\n",
    "* в Москве слушают музыку жанра “world”,\n",
    "* в Петербурге — джаз и классику.\n",
    "\n",
    "Таким образом, вторая гипотеза подтвердилась лишь отчасти. Этот результат мог оказаться иным, если бы не пропуски в данных.\n",
    "\n",
    "3. Во вкусах пользователей Москвы и Петербурга больше общего чем различий. Вопреки ожиданиям, предпочтения жанров в Петербурге напоминают московские.\n",
    "\n",
    "Третья гипотеза не подтвердилась. Если различия в предпочтениях и существуют, на основной массе пользователей они незаметны.\n",
    "\n",
    "**На практике исследования содержат проверки статистических гипотез.**\n",
    "Из данных одного сервиса не всегда можно сделать вывод о всех жителях города.\n",
    "Проверки статистических гипотез покажут, насколько они достоверны, исходя из имеющихся данных. \n",
    "С методами проверок гипотез вы ещё познакомитесь в следующих темах."
   ]
  }
 ],
 "metadata": {
  "ExecuteTimeLog": [
   {
    "duration": 1013,
    "start_time": "2021-11-21T04:19:28.143Z"
   },
   {
    "duration": 266,
    "start_time": "2021-11-21T04:19:29.159Z"
   },
   {
    "duration": 37,
    "start_time": "2021-11-21T04:19:54.898Z"
   },
   {
    "duration": 4,
    "start_time": "2021-11-21T04:20:06.232Z"
   },
   {
    "duration": 188,
    "start_time": "2021-11-21T04:20:09.232Z"
   },
   {
    "duration": 15,
    "start_time": "2021-11-21T04:20:12.932Z"
   },
   {
    "duration": 33,
    "start_time": "2021-11-21T04:22:12.739Z"
   },
   {
    "duration": 8,
    "start_time": "2021-11-21T04:52:20.995Z"
   },
   {
    "duration": 6,
    "start_time": "2021-11-21T04:52:44.797Z"
   },
   {
    "duration": 34,
    "start_time": "2021-11-21T04:53:33.635Z"
   },
   {
    "duration": 6,
    "start_time": "2021-11-21T04:59:20.121Z"
   },
   {
    "duration": 29,
    "start_time": "2021-11-21T04:59:25.739Z"
   },
   {
    "duration": 6,
    "start_time": "2021-11-21T04:59:34.005Z"
   },
   {
    "duration": 29,
    "start_time": "2021-11-21T05:02:46.476Z"
   },
   {
    "duration": 32,
    "start_time": "2021-11-21T05:03:00.212Z"
   },
   {
    "duration": 174,
    "start_time": "2021-11-21T05:19:55.982Z"
   },
   {
    "duration": 32,
    "start_time": "2021-11-21T05:20:01.400Z"
   },
   {
    "duration": 49,
    "start_time": "2021-11-21T05:20:39.081Z"
   },
   {
    "duration": 32,
    "start_time": "2021-11-21T05:21:09.437Z"
   },
   {
    "duration": 88,
    "start_time": "2021-11-21T05:24:06.105Z"
   },
   {
    "duration": 106,
    "start_time": "2021-11-21T05:25:16.015Z"
   },
   {
    "duration": 82,
    "start_time": "2021-11-21T05:25:40.996Z"
   },
   {
    "duration": 79,
    "start_time": "2021-11-21T05:25:49.415Z"
   },
   {
    "duration": 80,
    "start_time": "2021-11-21T05:26:04.969Z"
   },
   {
    "duration": 102,
    "start_time": "2021-11-21T05:26:27.498Z"
   },
   {
    "duration": 87,
    "start_time": "2021-11-21T05:26:32.512Z"
   },
   {
    "duration": 92,
    "start_time": "2021-11-21T05:27:49.698Z"
   },
   {
    "duration": 77,
    "start_time": "2021-11-21T05:27:55.768Z"
   },
   {
    "duration": 7909,
    "start_time": "2021-11-21T05:31:53.742Z"
   },
   {
    "duration": 10,
    "start_time": "2021-11-21T05:32:27.076Z"
   },
   {
    "duration": 13,
    "start_time": "2021-11-21T05:34:34.052Z"
   },
   {
    "duration": 4,
    "start_time": "2021-11-21T05:51:56.951Z"
   },
   {
    "duration": 22,
    "start_time": "2021-11-21T05:52:00.227Z"
   },
   {
    "duration": 28,
    "start_time": "2021-11-21T05:52:13.470Z"
   },
   {
    "duration": 77,
    "start_time": "2021-11-21T05:52:20.921Z"
   },
   {
    "duration": 3,
    "start_time": "2021-11-21T05:53:14.939Z"
   },
   {
    "duration": 199,
    "start_time": "2021-11-21T05:53:14.945Z"
   },
   {
    "duration": 15,
    "start_time": "2021-11-21T05:53:15.147Z"
   },
   {
    "duration": 36,
    "start_time": "2021-11-21T05:53:15.182Z"
   },
   {
    "duration": 6,
    "start_time": "2021-11-21T05:53:15.221Z"
   },
   {
    "duration": 56,
    "start_time": "2021-11-21T05:53:15.229Z"
   },
   {
    "duration": 5,
    "start_time": "2021-11-21T05:53:15.288Z"
   },
   {
    "duration": 32,
    "start_time": "2021-11-21T05:53:15.296Z"
   },
   {
    "duration": 206,
    "start_time": "2021-11-21T05:53:15.330Z"
   },
   {
    "duration": 31,
    "start_time": "2021-11-21T05:53:15.538Z"
   },
   {
    "duration": 127,
    "start_time": "2021-11-21T05:53:15.583Z"
   },
   {
    "duration": 148,
    "start_time": "2021-11-21T05:53:15.713Z"
   },
   {
    "duration": 120,
    "start_time": "2021-11-21T05:53:15.865Z"
   },
   {
    "duration": 21,
    "start_time": "2021-11-21T05:53:15.988Z"
   },
   {
    "duration": 5,
    "start_time": "2021-11-21T05:53:16.013Z"
   },
   {
    "duration": 63,
    "start_time": "2021-11-21T05:53:16.021Z"
   },
   {
    "duration": 21,
    "start_time": "2021-11-21T05:53:25.811Z"
   },
   {
    "duration": 24,
    "start_time": "2021-11-21T06:03:49.049Z"
   },
   {
    "duration": 14,
    "start_time": "2021-11-21T06:03:54.806Z"
   },
   {
    "duration": 4,
    "start_time": "2021-11-21T06:14:35.053Z"
   },
   {
    "duration": 196,
    "start_time": "2021-11-21T06:14:35.060Z"
   },
   {
    "duration": 23,
    "start_time": "2021-11-21T06:14:35.259Z"
   },
   {
    "duration": 35,
    "start_time": "2021-11-21T06:14:35.285Z"
   },
   {
    "duration": 5,
    "start_time": "2021-11-21T06:14:35.322Z"
   },
   {
    "duration": 61,
    "start_time": "2021-11-21T06:14:35.330Z"
   },
   {
    "duration": 6,
    "start_time": "2021-11-21T06:14:35.393Z"
   },
   {
    "duration": 34,
    "start_time": "2021-11-21T06:14:35.401Z"
   },
   {
    "duration": 199,
    "start_time": "2021-11-21T06:14:35.439Z"
   },
   {
    "duration": 30,
    "start_time": "2021-11-21T06:14:36.022Z"
   },
   {
    "duration": 84,
    "start_time": "2021-11-21T06:14:36.054Z"
   },
   {
    "duration": 101,
    "start_time": "2021-11-21T06:14:36.140Z"
   },
   {
    "duration": 85,
    "start_time": "2021-11-21T06:14:36.243Z"
   },
   {
    "duration": 14,
    "start_time": "2021-11-21T06:14:36.330Z"
   },
   {
    "duration": 4,
    "start_time": "2021-11-21T06:14:36.346Z"
   },
   {
    "duration": 46,
    "start_time": "2021-11-21T06:14:36.352Z"
   },
   {
    "duration": 14,
    "start_time": "2021-11-21T06:16:09.676Z"
   },
   {
    "duration": 15,
    "start_time": "2021-11-21T06:25:24.180Z"
   },
   {
    "duration": 3,
    "start_time": "2021-11-21T06:28:50.368Z"
   },
   {
    "duration": 321,
    "start_time": "2021-11-21T06:28:50.374Z"
   },
   {
    "duration": 16,
    "start_time": "2021-11-21T06:28:50.699Z"
   },
   {
    "duration": 39,
    "start_time": "2021-11-21T06:28:50.717Z"
   },
   {
    "duration": 6,
    "start_time": "2021-11-21T06:28:50.782Z"
   },
   {
    "duration": 22,
    "start_time": "2021-11-21T06:28:50.791Z"
   },
   {
    "duration": 5,
    "start_time": "2021-11-21T06:28:50.816Z"
   },
   {
    "duration": 76,
    "start_time": "2021-11-21T06:28:50.824Z"
   },
   {
    "duration": 192,
    "start_time": "2021-11-21T06:28:50.902Z"
   },
   {
    "duration": 32,
    "start_time": "2021-11-21T06:28:51.096Z"
   },
   {
    "duration": 102,
    "start_time": "2021-11-21T06:28:51.130Z"
   },
   {
    "duration": 107,
    "start_time": "2021-11-21T06:28:51.235Z"
   },
   {
    "duration": 85,
    "start_time": "2021-11-21T06:28:51.345Z"
   },
   {
    "duration": 15,
    "start_time": "2021-11-21T06:28:51.432Z"
   },
   {
    "duration": 4,
    "start_time": "2021-11-21T06:28:51.449Z"
   },
   {
    "duration": 48,
    "start_time": "2021-11-21T06:28:51.456Z"
   },
   {
    "duration": 14,
    "start_time": "2021-11-21T06:28:51.507Z"
   },
   {
    "duration": 14,
    "start_time": "2021-11-21T06:34:47.814Z"
   },
   {
    "duration": 18,
    "start_time": "2021-11-21T06:35:51.839Z"
   },
   {
    "duration": 45,
    "start_time": "2021-11-21T06:36:33.530Z"
   },
   {
    "duration": 14,
    "start_time": "2021-11-21T06:40:04.768Z"
   },
   {
    "duration": 40,
    "start_time": "2021-11-21T06:51:31.183Z"
   },
   {
    "duration": 39,
    "start_time": "2021-11-21T06:51:57.523Z"
   },
   {
    "duration": 41,
    "start_time": "2021-11-21T06:54:56.626Z"
   },
   {
    "duration": 61,
    "start_time": "2021-11-21T06:55:37.116Z"
   },
   {
    "duration": 40,
    "start_time": "2021-11-21T06:57:35.115Z"
   },
   {
    "duration": 42,
    "start_time": "2021-11-21T06:58:03.411Z"
   },
   {
    "duration": 36,
    "start_time": "2021-11-21T06:59:56.605Z"
   },
   {
    "duration": 36,
    "start_time": "2021-11-21T07:00:36.272Z"
   },
   {
    "duration": 38,
    "start_time": "2021-11-21T07:00:56.660Z"
   },
   {
    "duration": 370,
    "start_time": "2021-11-21T07:02:28.058Z"
   },
   {
    "duration": 103,
    "start_time": "2021-11-21T07:03:00.497Z"
   },
   {
    "duration": 111,
    "start_time": "2021-11-21T07:03:14.169Z"
   },
   {
    "duration": 44,
    "start_time": "2021-11-21T07:03:28.002Z"
   },
   {
    "duration": 121,
    "start_time": "2021-11-21T07:04:21.775Z"
   },
   {
    "duration": 44,
    "start_time": "2021-11-21T07:04:29.585Z"
   },
   {
    "duration": 41,
    "start_time": "2021-11-21T07:05:18.152Z"
   },
   {
    "duration": 131,
    "start_time": "2021-11-21T07:07:07.857Z"
   },
   {
    "duration": 110,
    "start_time": "2021-11-21T07:07:50.565Z"
   },
   {
    "duration": 39,
    "start_time": "2021-11-21T07:08:35.816Z"
   },
   {
    "duration": 45,
    "start_time": "2021-11-21T07:09:57.457Z"
   },
   {
    "duration": 42,
    "start_time": "2021-11-21T07:14:18.718Z"
   },
   {
    "duration": 39,
    "start_time": "2021-11-21T07:14:36.226Z"
   },
   {
    "duration": 12,
    "start_time": "2021-11-21T07:16:58.004Z"
   },
   {
    "duration": 22,
    "start_time": "2021-11-21T07:17:08.052Z"
   },
   {
    "duration": 50,
    "start_time": "2021-11-21T07:18:07.776Z"
   },
   {
    "duration": 5,
    "start_time": "2021-11-21T07:18:47.851Z"
   },
   {
    "duration": 4,
    "start_time": "2021-11-21T07:19:06.494Z"
   },
   {
    "duration": 28,
    "start_time": "2021-11-21T07:19:20.636Z"
   },
   {
    "duration": 28,
    "start_time": "2021-11-21T07:19:37.105Z"
   },
   {
    "duration": 30,
    "start_time": "2021-11-21T07:19:47.221Z"
   },
   {
    "duration": 28,
    "start_time": "2021-11-21T07:19:53.688Z"
   },
   {
    "duration": 30,
    "start_time": "2021-11-21T07:20:04.887Z"
   },
   {
    "duration": 5,
    "start_time": "2021-11-21T07:20:16.588Z"
   },
   {
    "duration": 5,
    "start_time": "2021-11-21T07:20:26.567Z"
   },
   {
    "duration": 30,
    "start_time": "2021-11-21T07:20:39.239Z"
   },
   {
    "duration": 12,
    "start_time": "2021-11-21T07:22:00.331Z"
   },
   {
    "duration": 13,
    "start_time": "2021-11-21T07:22:07.345Z"
   },
   {
    "duration": 344,
    "start_time": "2021-11-21T07:22:40.595Z"
   },
   {
    "duration": 346,
    "start_time": "2021-11-21T07:22:44.740Z"
   },
   {
    "duration": 19,
    "start_time": "2021-11-21T07:22:56.364Z"
   },
   {
    "duration": 61,
    "start_time": "2021-11-21T07:23:40.945Z"
   },
   {
    "duration": 43,
    "start_time": "2021-11-21T07:24:25.420Z"
   },
   {
    "duration": 109,
    "start_time": "2021-11-21T07:24:41.473Z"
   },
   {
    "duration": 43,
    "start_time": "2021-11-21T07:24:49.849Z"
   },
   {
    "duration": 40,
    "start_time": "2021-11-21T07:25:46.192Z"
   },
   {
    "duration": 39,
    "start_time": "2021-11-21T07:25:58.595Z"
   },
   {
    "duration": 5,
    "start_time": "2021-11-21T07:36:32.900Z"
   },
   {
    "duration": 118,
    "start_time": "2021-11-21T07:36:36.720Z"
   },
   {
    "duration": 60,
    "start_time": "2021-11-21T07:37:08.993Z"
   },
   {
    "duration": 4,
    "start_time": "2021-11-21T07:37:27.330Z"
   },
   {
    "duration": 8603,
    "start_time": "2021-11-21T07:39:24.299Z"
   },
   {
    "duration": 4,
    "start_time": "2021-11-21T07:40:33.208Z"
   },
   {
    "duration": 21,
    "start_time": "2021-11-21T07:40:37.219Z"
   },
   {
    "duration": 29,
    "start_time": "2021-11-21T07:43:05.944Z"
   },
   {
    "duration": 25,
    "start_time": "2021-11-21T07:43:09.852Z"
   },
   {
    "duration": 21,
    "start_time": "2021-11-21T07:43:13.698Z"
   },
   {
    "duration": 23,
    "start_time": "2021-11-21T07:43:16.784Z"
   },
   {
    "duration": 29,
    "start_time": "2021-11-21T07:43:19.460Z"
   },
   {
    "duration": 322,
    "start_time": "2021-11-21T07:58:03.321Z"
   },
   {
    "duration": 18,
    "start_time": "2021-11-21T07:59:39.887Z"
   },
   {
    "duration": 16,
    "start_time": "2021-11-21T07:59:43.251Z"
   },
   {
    "duration": 17,
    "start_time": "2021-11-21T07:59:45.807Z"
   },
   {
    "duration": 17,
    "start_time": "2021-11-21T07:59:51.832Z"
   },
   {
    "duration": 18,
    "start_time": "2021-11-21T07:59:54.470Z"
   },
   {
    "duration": 18,
    "start_time": "2021-11-21T07:59:58.209Z"
   },
   {
    "duration": 13,
    "start_time": "2021-11-21T08:00:01.999Z"
   },
   {
    "duration": 305,
    "start_time": "2021-11-21T19:48:40.545Z"
   },
   {
    "duration": 431,
    "start_time": "2021-11-21T19:50:52.383Z"
   },
   {
    "duration": 673,
    "start_time": "2021-11-21T19:51:00.949Z"
   },
   {
    "duration": 138,
    "start_time": "2021-11-21T19:51:01.624Z"
   },
   {
    "duration": 16,
    "start_time": "2021-11-21T19:51:01.764Z"
   },
   {
    "duration": 34,
    "start_time": "2021-11-21T19:51:01.782Z"
   },
   {
    "duration": 6,
    "start_time": "2021-11-21T19:51:01.818Z"
   },
   {
    "duration": 37,
    "start_time": "2021-11-21T19:51:01.826Z"
   },
   {
    "duration": 12,
    "start_time": "2021-11-21T19:51:01.865Z"
   },
   {
    "duration": 26,
    "start_time": "2021-11-21T19:51:01.879Z"
   },
   {
    "duration": 152,
    "start_time": "2021-11-21T19:51:01.908Z"
   },
   {
    "duration": 24,
    "start_time": "2021-11-21T19:51:02.062Z"
   },
   {
    "duration": 80,
    "start_time": "2021-11-21T19:51:02.088Z"
   },
   {
    "duration": 95,
    "start_time": "2021-11-21T19:51:02.170Z"
   },
   {
    "duration": 52,
    "start_time": "2021-11-21T19:51:02.267Z"
   },
   {
    "duration": 24,
    "start_time": "2021-11-21T19:51:02.321Z"
   },
   {
    "duration": 3,
    "start_time": "2021-11-21T19:51:02.347Z"
   },
   {
    "duration": 22,
    "start_time": "2021-11-21T19:51:02.352Z"
   },
   {
    "duration": 10,
    "start_time": "2021-11-21T19:51:02.376Z"
   },
   {
    "duration": 10,
    "start_time": "2021-11-21T19:51:02.387Z"
   },
   {
    "duration": 58,
    "start_time": "2021-11-21T19:51:02.399Z"
   },
   {
    "duration": 4,
    "start_time": "2021-11-21T19:51:02.459Z"
   },
   {
    "duration": 21,
    "start_time": "2021-11-21T19:51:02.465Z"
   },
   {
    "duration": 29,
    "start_time": "2021-11-21T19:51:02.488Z"
   },
   {
    "duration": 19,
    "start_time": "2021-11-21T19:51:02.519Z"
   },
   {
    "duration": 12,
    "start_time": "2021-11-21T19:51:02.544Z"
   },
   {
    "duration": 24,
    "start_time": "2021-11-21T19:51:02.558Z"
   },
   {
    "duration": 26,
    "start_time": "2021-11-21T19:51:02.584Z"
   },
   {
    "duration": 8,
    "start_time": "2021-11-21T19:51:02.614Z"
   },
   {
    "duration": 19,
    "start_time": "2021-11-21T19:51:02.625Z"
   },
   {
    "duration": 14,
    "start_time": "2021-11-21T19:51:37.786Z"
   },
   {
    "duration": 16,
    "start_time": "2021-11-21T19:51:54.218Z"
   },
   {
    "duration": 17,
    "start_time": "2021-11-21T19:52:24.752Z"
   },
   {
    "duration": 16,
    "start_time": "2021-11-21T19:52:57.534Z"
   },
   {
    "duration": 12,
    "start_time": "2021-11-21T19:53:32.095Z"
   },
   {
    "duration": 9,
    "start_time": "2021-11-21T19:54:23.709Z"
   },
   {
    "duration": 6,
    "start_time": "2021-11-21T20:19:39.747Z"
   },
   {
    "duration": 4096,
    "start_time": "2021-11-21T20:19:45.034Z"
   },
   {
    "duration": 4,
    "start_time": "2021-11-21T20:21:36.565Z"
   },
   {
    "duration": 21,
    "start_time": "2021-11-21T20:21:40.728Z"
   },
   {
    "duration": 21,
    "start_time": "2021-11-21T20:22:33.330Z"
   },
   {
    "duration": 11,
    "start_time": "2021-11-21T20:23:23.462Z"
   },
   {
    "duration": 13,
    "start_time": "2021-11-21T20:23:27.943Z"
   },
   {
    "duration": 5,
    "start_time": "2021-11-21T20:23:34.029Z"
   },
   {
    "duration": 20,
    "start_time": "2021-11-21T20:23:38.123Z"
   },
   {
    "duration": 22,
    "start_time": "2021-11-21T20:23:43.068Z"
   },
   {
    "duration": 29,
    "start_time": "2021-11-21T20:25:09.351Z"
   },
   {
    "duration": 20,
    "start_time": "2021-11-21T20:25:13.547Z"
   },
   {
    "duration": 4,
    "start_time": "2021-11-21T20:28:18.293Z"
   },
   {
    "duration": 18,
    "start_time": "2021-11-21T20:28:22.193Z"
   },
   {
    "duration": 12,
    "start_time": "2021-11-21T20:28:25.431Z"
   },
   {
    "duration": 18,
    "start_time": "2021-11-21T20:30:36.436Z"
   },
   {
    "duration": 15,
    "start_time": "2021-11-21T20:30:39.881Z"
   },
   {
    "duration": 262,
    "start_time": "2021-11-21T20:39:44.014Z"
   },
   {
    "duration": 10,
    "start_time": "2021-11-21T20:39:46.338Z"
   },
   {
    "duration": 5,
    "start_time": "2021-11-21T20:39:49.927Z"
   },
   {
    "duration": 4,
    "start_time": "2021-11-21T20:40:28.232Z"
   },
   {
    "duration": 8,
    "start_time": "2021-11-21T20:42:25.596Z"
   },
   {
    "duration": 6,
    "start_time": "2021-11-21T20:42:31.156Z"
   },
   {
    "duration": 8,
    "start_time": "2021-11-21T20:44:13.562Z"
   },
   {
    "duration": 6,
    "start_time": "2021-11-21T20:44:19.037Z"
   },
   {
    "duration": 2,
    "start_time": "2021-11-21T20:46:24.195Z"
   },
   {
    "duration": 159,
    "start_time": "2021-11-21T20:46:24.199Z"
   },
   {
    "duration": 13,
    "start_time": "2021-11-21T20:46:24.361Z"
   },
   {
    "duration": 30,
    "start_time": "2021-11-21T20:46:24.376Z"
   },
   {
    "duration": 12,
    "start_time": "2021-11-21T20:46:24.407Z"
   },
   {
    "duration": 35,
    "start_time": "2021-11-21T20:46:24.420Z"
   },
   {
    "duration": 5,
    "start_time": "2021-11-21T20:46:24.457Z"
   },
   {
    "duration": 53,
    "start_time": "2021-11-21T20:46:24.464Z"
   },
   {
    "duration": 169,
    "start_time": "2021-11-21T20:46:24.520Z"
   },
   {
    "duration": 22,
    "start_time": "2021-11-21T20:46:24.691Z"
   },
   {
    "duration": 75,
    "start_time": "2021-11-21T20:46:24.714Z"
   },
   {
    "duration": 68,
    "start_time": "2021-11-21T20:46:24.790Z"
   },
   {
    "duration": 52,
    "start_time": "2021-11-21T20:46:24.860Z"
   },
   {
    "duration": 8,
    "start_time": "2021-11-21T20:46:24.914Z"
   },
   {
    "duration": 23,
    "start_time": "2021-11-21T20:46:24.924Z"
   },
   {
    "duration": 32,
    "start_time": "2021-11-21T20:46:24.950Z"
   },
   {
    "duration": 15,
    "start_time": "2021-11-21T20:46:24.984Z"
   },
   {
    "duration": 19,
    "start_time": "2021-11-21T20:46:25.001Z"
   },
   {
    "duration": 49,
    "start_time": "2021-11-21T20:46:25.022Z"
   },
   {
    "duration": 3,
    "start_time": "2021-11-21T20:46:25.073Z"
   },
   {
    "duration": 45,
    "start_time": "2021-11-21T20:46:25.078Z"
   },
   {
    "duration": 25,
    "start_time": "2021-11-21T20:46:25.125Z"
   },
   {
    "duration": 26,
    "start_time": "2021-11-21T20:46:25.152Z"
   },
   {
    "duration": 18,
    "start_time": "2021-11-21T20:46:25.179Z"
   },
   {
    "duration": 26,
    "start_time": "2021-11-21T20:46:25.198Z"
   },
   {
    "duration": 15,
    "start_time": "2021-11-21T20:46:25.226Z"
   },
   {
    "duration": 14,
    "start_time": "2021-11-21T20:46:25.245Z"
   },
   {
    "duration": 31,
    "start_time": "2021-11-21T20:46:25.262Z"
   },
   {
    "duration": 31,
    "start_time": "2021-11-21T20:46:25.295Z"
   },
   {
    "duration": 7,
    "start_time": "2021-11-21T20:46:25.344Z"
   },
   {
    "duration": 32,
    "start_time": "2021-11-21T20:46:25.355Z"
   },
   {
    "duration": 19,
    "start_time": "2021-11-21T20:46:25.389Z"
   },
   {
    "duration": 27,
    "start_time": "2021-11-21T20:46:25.409Z"
   },
   {
    "duration": 21,
    "start_time": "2021-11-21T20:46:25.438Z"
   },
   {
    "duration": 12,
    "start_time": "2021-11-21T20:46:25.460Z"
   },
   {
    "duration": 12,
    "start_time": "2021-11-21T20:46:25.474Z"
   },
   {
    "duration": 19,
    "start_time": "2021-11-21T20:46:25.488Z"
   },
   {
    "duration": 16,
    "start_time": "2021-11-21T20:46:25.509Z"
   },
   {
    "duration": 256,
    "start_time": "2021-11-22T15:17:57.145Z"
   },
   {
    "duration": 554,
    "start_time": "2021-11-22T15:18:18.327Z"
   },
   {
    "duration": 136,
    "start_time": "2021-11-22T15:18:18.883Z"
   },
   {
    "duration": 3,
    "start_time": "2021-11-22T15:18:30.053Z"
   },
   {
    "duration": 142,
    "start_time": "2021-11-22T15:18:30.063Z"
   },
   {
    "duration": 16,
    "start_time": "2021-11-22T15:18:34.476Z"
   },
   {
    "duration": 195,
    "start_time": "2021-11-22T15:28:57.311Z"
   },
   {
    "duration": 177,
    "start_time": "2021-11-22T15:29:01.196Z"
   },
   {
    "duration": 179,
    "start_time": "2021-11-22T15:29:35.867Z"
   },
   {
    "duration": 184,
    "start_time": "2021-11-22T15:29:48.614Z"
   },
   {
    "duration": 12,
    "start_time": "2021-11-22T15:31:21.323Z"
   },
   {
    "duration": 267,
    "start_time": "2021-11-22T15:31:31.555Z"
   },
   {
    "duration": 174,
    "start_time": "2021-11-22T15:31:50.298Z"
   },
   {
    "duration": 3,
    "start_time": "2021-11-22T15:31:54.860Z"
   },
   {
    "duration": 166,
    "start_time": "2021-11-22T15:31:54.865Z"
   },
   {
    "duration": 10,
    "start_time": "2021-11-22T15:31:55.033Z"
   },
   {
    "duration": 29,
    "start_time": "2021-11-22T15:31:55.044Z"
   },
   {
    "duration": 20,
    "start_time": "2021-11-22T15:31:55.075Z"
   },
   {
    "duration": 25,
    "start_time": "2021-11-22T15:31:55.097Z"
   },
   {
    "duration": 4,
    "start_time": "2021-11-22T15:31:55.124Z"
   },
   {
    "duration": 28,
    "start_time": "2021-11-22T15:31:55.133Z"
   },
   {
    "duration": 172,
    "start_time": "2021-11-22T15:31:55.164Z"
   },
   {
    "duration": 22,
    "start_time": "2021-11-22T15:31:55.338Z"
   },
   {
    "duration": 69,
    "start_time": "2021-11-22T15:31:55.362Z"
   },
   {
    "duration": 70,
    "start_time": "2021-11-22T15:31:55.433Z"
   },
   {
    "duration": 52,
    "start_time": "2021-11-22T15:31:55.504Z"
   },
   {
    "duration": 8,
    "start_time": "2021-11-22T15:31:55.558Z"
   },
   {
    "duration": 37,
    "start_time": "2021-11-22T15:31:55.568Z"
   },
   {
    "duration": 21,
    "start_time": "2021-11-22T15:31:55.607Z"
   },
   {
    "duration": 9,
    "start_time": "2021-11-22T15:31:55.629Z"
   },
   {
    "duration": 10,
    "start_time": "2021-11-22T15:31:55.639Z"
   },
   {
    "duration": 9,
    "start_time": "2021-11-22T15:32:10.640Z"
   },
   {
    "duration": 9,
    "start_time": "2021-11-22T15:32:34.272Z"
   },
   {
    "duration": 9,
    "start_time": "2021-11-22T15:32:57.182Z"
   },
   {
    "duration": 11,
    "start_time": "2021-11-22T15:33:21.179Z"
   },
   {
    "duration": 9,
    "start_time": "2021-11-22T15:33:28.314Z"
   },
   {
    "duration": 23,
    "start_time": "2021-11-22T15:44:22.160Z"
   },
   {
    "duration": 51,
    "start_time": "2021-11-22T15:44:29.443Z"
   },
   {
    "duration": 52,
    "start_time": "2021-11-22T15:44:34.429Z"
   },
   {
    "duration": 21,
    "start_time": "2021-11-22T15:44:38.273Z"
   },
   {
    "duration": 3,
    "start_time": "2021-11-22T15:44:56.923Z"
   },
   {
    "duration": 138,
    "start_time": "2021-11-22T15:44:56.928Z"
   },
   {
    "duration": 10,
    "start_time": "2021-11-22T15:44:57.068Z"
   },
   {
    "duration": 33,
    "start_time": "2021-11-22T15:44:57.080Z"
   },
   {
    "duration": 4,
    "start_time": "2021-11-22T15:44:57.115Z"
   },
   {
    "duration": 15,
    "start_time": "2021-11-22T15:44:57.120Z"
   },
   {
    "duration": 4,
    "start_time": "2021-11-22T15:44:57.136Z"
   },
   {
    "duration": 52,
    "start_time": "2021-11-22T15:44:57.142Z"
   },
   {
    "duration": 55,
    "start_time": "2021-11-22T15:44:57.198Z"
   },
   {
    "duration": 37,
    "start_time": "2021-11-22T15:44:57.255Z"
   },
   {
    "duration": 55,
    "start_time": "2021-11-22T15:44:57.294Z"
   },
   {
    "duration": 75,
    "start_time": "2021-11-22T15:44:57.350Z"
   },
   {
    "duration": 45,
    "start_time": "2021-11-22T15:44:57.427Z"
   },
   {
    "duration": 21,
    "start_time": "2021-11-22T15:44:57.474Z"
   },
   {
    "duration": 3,
    "start_time": "2021-11-22T15:44:57.496Z"
   },
   {
    "duration": 14,
    "start_time": "2021-11-22T15:44:57.500Z"
   },
   {
    "duration": 8,
    "start_time": "2021-11-22T15:44:57.516Z"
   },
   {
    "duration": 9,
    "start_time": "2021-11-22T15:44:57.526Z"
   },
   {
    "duration": 9,
    "start_time": "2021-11-22T15:44:57.536Z"
   },
   {
    "duration": 3,
    "start_time": "2021-11-22T15:44:57.547Z"
   },
   {
    "duration": 52,
    "start_time": "2021-11-22T15:44:57.551Z"
   },
   {
    "duration": 12,
    "start_time": "2021-11-22T15:44:57.604Z"
   },
   {
    "duration": 18,
    "start_time": "2021-11-22T15:44:57.618Z"
   },
   {
    "duration": 11,
    "start_time": "2021-11-22T15:44:57.638Z"
   },
   {
    "duration": 13,
    "start_time": "2021-11-22T15:44:57.651Z"
   },
   {
    "duration": 30,
    "start_time": "2021-11-22T15:44:57.666Z"
   },
   {
    "duration": 8,
    "start_time": "2021-11-22T15:44:57.699Z"
   },
   {
    "duration": 21,
    "start_time": "2021-11-22T15:44:57.708Z"
   },
   {
    "duration": 17,
    "start_time": "2021-11-22T15:44:57.731Z"
   },
   {
    "duration": 3,
    "start_time": "2021-11-22T15:44:57.750Z"
   },
   {
    "duration": 46,
    "start_time": "2021-11-22T15:44:57.755Z"
   },
   {
    "duration": 12,
    "start_time": "2021-11-22T15:44:57.802Z"
   },
   {
    "duration": 25,
    "start_time": "2021-11-22T15:44:57.816Z"
   },
   {
    "duration": 12,
    "start_time": "2021-11-22T15:44:57.843Z"
   },
   {
    "duration": 9,
    "start_time": "2021-11-22T15:44:57.857Z"
   },
   {
    "duration": 27,
    "start_time": "2021-11-22T15:44:57.867Z"
   },
   {
    "duration": 7,
    "start_time": "2021-11-22T15:44:57.896Z"
   },
   {
    "duration": 4,
    "start_time": "2021-11-22T15:44:57.905Z"
   },
   {
    "duration": 184,
    "start_time": "2021-11-22T15:49:14.144Z"
   },
   {
    "duration": 70,
    "start_time": "2021-11-22T15:55:20.514Z"
   },
   {
    "duration": 2,
    "start_time": "2021-11-22T15:56:10.761Z"
   },
   {
    "duration": 163,
    "start_time": "2021-11-22T15:56:10.765Z"
   },
   {
    "duration": 12,
    "start_time": "2021-11-22T15:56:10.930Z"
   },
   {
    "duration": 26,
    "start_time": "2021-11-22T15:56:10.944Z"
   },
   {
    "duration": 4,
    "start_time": "2021-11-22T15:56:10.972Z"
   },
   {
    "duration": 20,
    "start_time": "2021-11-22T15:56:10.992Z"
   },
   {
    "duration": 6,
    "start_time": "2021-11-22T15:56:11.014Z"
   },
   {
    "duration": 25,
    "start_time": "2021-11-22T15:56:11.022Z"
   },
   {
    "duration": 76,
    "start_time": "2021-11-22T15:56:11.050Z"
   },
   {
    "duration": 21,
    "start_time": "2021-11-22T15:56:11.128Z"
   },
   {
    "duration": 73,
    "start_time": "2021-11-22T15:56:11.150Z"
   },
   {
    "duration": 56,
    "start_time": "2021-11-22T15:56:11.224Z"
   },
   {
    "duration": 50,
    "start_time": "2021-11-22T15:56:11.282Z"
   },
   {
    "duration": 9,
    "start_time": "2021-11-22T15:56:11.333Z"
   },
   {
    "duration": 5,
    "start_time": "2021-11-22T15:56:11.343Z"
   },
   {
    "duration": 31,
    "start_time": "2021-11-22T15:56:11.349Z"
   },
   {
    "duration": 28,
    "start_time": "2021-11-22T15:56:11.381Z"
   },
   {
    "duration": 16,
    "start_time": "2021-11-22T15:56:11.411Z"
   },
   {
    "duration": 14,
    "start_time": "2021-11-22T15:56:11.428Z"
   },
   {
    "duration": 15,
    "start_time": "2021-11-22T15:56:11.443Z"
   },
   {
    "duration": 32,
    "start_time": "2021-11-22T15:56:11.460Z"
   },
   {
    "duration": 11,
    "start_time": "2021-11-22T15:56:11.493Z"
   },
   {
    "duration": 39,
    "start_time": "2021-11-22T15:56:11.506Z"
   },
   {
    "duration": 12,
    "start_time": "2021-11-22T15:56:11.546Z"
   },
   {
    "duration": 13,
    "start_time": "2021-11-22T15:56:11.560Z"
   },
   {
    "duration": 12,
    "start_time": "2021-11-22T15:56:11.575Z"
   },
   {
    "duration": 7,
    "start_time": "2021-11-22T15:56:11.590Z"
   },
   {
    "duration": 21,
    "start_time": "2021-11-22T15:56:11.599Z"
   },
   {
    "duration": 18,
    "start_time": "2021-11-22T15:56:11.621Z"
   },
   {
    "duration": 4,
    "start_time": "2021-11-22T15:56:11.640Z"
   },
   {
    "duration": 20,
    "start_time": "2021-11-22T15:56:11.645Z"
   },
   {
    "duration": 34,
    "start_time": "2021-11-22T15:56:11.666Z"
   },
   {
    "duration": 23,
    "start_time": "2021-11-22T15:56:11.702Z"
   },
   {
    "duration": 12,
    "start_time": "2021-11-22T15:56:11.726Z"
   },
   {
    "duration": 8,
    "start_time": "2021-11-22T15:56:11.740Z"
   },
   {
    "duration": 4,
    "start_time": "2021-11-22T15:56:11.750Z"
   },
   {
    "duration": 41,
    "start_time": "2021-11-22T15:56:11.755Z"
   },
   {
    "duration": 15,
    "start_time": "2021-11-22T15:56:11.798Z"
   },
   {
    "duration": 763,
    "start_time": "2021-11-22T21:57:52.478Z"
   },
   {
    "duration": 184,
    "start_time": "2021-11-22T21:57:53.244Z"
   },
   {
    "duration": 33,
    "start_time": "2021-11-22T21:57:53.431Z"
   },
   {
    "duration": 33,
    "start_time": "2021-11-22T21:57:53.467Z"
   },
   {
    "duration": 5,
    "start_time": "2021-11-22T21:57:53.502Z"
   },
   {
    "duration": 51,
    "start_time": "2021-11-22T21:57:53.510Z"
   },
   {
    "duration": 6,
    "start_time": "2021-11-22T21:57:53.563Z"
   },
   {
    "duration": 38,
    "start_time": "2021-11-22T21:57:53.573Z"
   },
   {
    "duration": 3,
    "start_time": "2021-11-22T21:58:04.598Z"
   },
   {
    "duration": 234,
    "start_time": "2021-11-22T21:58:04.605Z"
   },
   {
    "duration": 23,
    "start_time": "2021-11-22T21:58:04.842Z"
   },
   {
    "duration": 36,
    "start_time": "2021-11-22T21:58:04.869Z"
   },
   {
    "duration": 7,
    "start_time": "2021-11-22T21:58:04.908Z"
   },
   {
    "duration": 67,
    "start_time": "2021-11-22T21:58:04.918Z"
   },
   {
    "duration": 6,
    "start_time": "2021-11-22T21:58:04.988Z"
   },
   {
    "duration": 64,
    "start_time": "2021-11-22T21:58:05.000Z"
   },
   {
    "duration": 26,
    "start_time": "2021-11-22T21:58:05.068Z"
   },
   {
    "duration": 65,
    "start_time": "2021-11-22T21:58:05.097Z"
   },
   {
    "duration": 95,
    "start_time": "2021-11-22T21:58:05.165Z"
   },
   {
    "duration": 104,
    "start_time": "2021-11-22T21:58:05.263Z"
   },
   {
    "duration": 74,
    "start_time": "2021-11-22T21:58:05.369Z"
   },
   {
    "duration": 16,
    "start_time": "2021-11-22T21:58:05.459Z"
   },
   {
    "duration": 10,
    "start_time": "2021-11-22T21:58:05.479Z"
   },
   {
    "duration": 21,
    "start_time": "2021-11-22T21:58:05.491Z"
   },
   {
    "duration": 48,
    "start_time": "2021-11-22T21:58:05.515Z"
   },
   {
    "duration": 17,
    "start_time": "2021-11-22T21:58:05.566Z"
   },
   {
    "duration": 13,
    "start_time": "2021-11-22T21:58:05.585Z"
   },
   {
    "duration": 5,
    "start_time": "2021-11-22T21:58:05.601Z"
   },
   {
    "duration": 60,
    "start_time": "2021-11-22T21:58:05.608Z"
   },
   {
    "duration": 16,
    "start_time": "2021-11-22T21:58:05.671Z"
   },
   {
    "duration": 25,
    "start_time": "2021-11-22T21:58:05.692Z"
   },
   {
    "duration": 39,
    "start_time": "2021-11-22T21:58:05.720Z"
   },
   {
    "duration": 19,
    "start_time": "2021-11-22T21:58:05.762Z"
   },
   {
    "duration": 18,
    "start_time": "2021-11-22T21:58:05.783Z"
   },
   {
    "duration": 14,
    "start_time": "2021-11-22T21:58:05.803Z"
   },
   {
    "duration": 61,
    "start_time": "2021-11-22T21:58:05.819Z"
   },
   {
    "duration": 27,
    "start_time": "2021-11-22T21:58:05.883Z"
   },
   {
    "duration": 6,
    "start_time": "2021-11-22T21:58:05.912Z"
   },
   {
    "duration": 53,
    "start_time": "2021-11-22T21:58:05.920Z"
   },
   {
    "duration": 23,
    "start_time": "2021-11-22T21:58:05.975Z"
   },
   {
    "duration": 27,
    "start_time": "2021-11-22T21:58:06.001Z"
   },
   {
    "duration": 20,
    "start_time": "2021-11-22T21:58:06.058Z"
   },
   {
    "duration": 14,
    "start_time": "2021-11-22T21:58:06.081Z"
   },
   {
    "duration": 12,
    "start_time": "2021-11-22T21:58:06.097Z"
   },
   {
    "duration": 22,
    "start_time": "2021-11-22T21:58:06.112Z"
   },
   {
    "duration": 7,
    "start_time": "2021-11-22T21:58:06.159Z"
   }
  ],
  "colab": {
   "collapsed_sections": [
    "E0vqbgi9ay0H",
    "VUC88oWjTJw2"
   ],
   "name": "yandex_music_project_2021.2.ipynb",
   "provenance": []
  },
  "kernelspec": {
   "display_name": "Python 3 (ipykernel)",
   "language": "python",
   "name": "python3"
  },
  "language_info": {
   "codemirror_mode": {
    "name": "ipython",
    "version": 3
   },
   "file_extension": ".py",
   "mimetype": "text/x-python",
   "name": "python",
   "nbconvert_exporter": "python",
   "pygments_lexer": "ipython3",
   "version": "3.9.7"
  },
  "toc": {
   "base_numbering": 1,
   "nav_menu": {},
   "number_sections": true,
   "sideBar": true,
   "skip_h1_title": true,
   "title_cell": "Table of Contents",
   "title_sidebar": "Contents",
   "toc_cell": false,
   "toc_position": {
    "height": "calc(100% - 180px)",
    "left": "10px",
    "top": "150px",
    "width": "165px"
   },
   "toc_section_display": true,
   "toc_window_display": true
  }
 },
 "nbformat": 4,
 "nbformat_minor": 1
}
