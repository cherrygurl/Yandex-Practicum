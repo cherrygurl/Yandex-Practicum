{
 "cells": [
  {
   "cell_type": "markdown",
   "id": "399b5328",
   "metadata": {},
   "source": [
    "## Выявление параметров успешности игр\n",
    "\n",
    "### Описание проекта\n",
    "\n",
    "Интернет-магазин «Стримчик» продаёт по всему миру компьютерные игры. Из открытых источников доступны исторические данные о продажах игр, оценки пользователей и экспертов, жанры и платформы (например, Xbox или PlayStation). \n",
    "\n",
    "**Цель:** Выявить определяющие успешность игры закономерности. Это позволит сделать ставку на потенциально популярный продукт и спланировать рекламные кампании.\n",
    "\n",
    "Перед нами данные до 2016 года. Нам нужно спланировать кампанию на 2017-й.\n",
    "\n",
    "В наборе данных попадается аббревиатура ESRB (*Entertainment Software Rating Board*) — это ассоциация, определяющая возрастной рейтинг компьютерных игр. ESRB оценивает игровой контент и присваивает ему подходящую возрастную категорию, например, «Для взрослых», «Для детей младшего возраста» или «Для подростков».\n",
    "\n",
    "#### Описание данных\n",
    "\n",
    "- *Name* — название игры\n",
    "- *Platform* — платформа\n",
    "- *Year_of_Release* — год выпуска\n",
    "- *Genre* — жанр игры\n",
    "- *NA_sales* — продажи в Северной Америке (миллионы проданных копий)\n",
    "- *EU_sales* — продажи в Европе (миллионы проданных копий)\n",
    "- *JP_sales* — продажи в Японии (миллионы проданных копий)\n",
    "- *Other_sales* — продажи в других странах (миллионы проданных копий)\n",
    "- *Critic_Score* — оценка критиков (максимум 100)\n",
    "- *User_Score* — оценка пользователей (максимум 10)\n",
    "- *Rating* — рейтинг от организации ESRB (англ. *Entertainment Software Rating Board*). Эта ассоциация определяет рейтинг компьютерных игр и присваивает им подходящую возрастную категорию.\n",
    "\n",
    "**Примечание:** Данные за 2016 год могут быть неполными.\n",
    "\n",
    "#### Расшифровка рейтингов ESRB:\n",
    "\n",
    "- «EC» («Early childhood») — «Для детей младшего возраста»\n",
    "- «E» («Everyone») — «Для всех» ( до 1994 года \"K-A\" (\"Kids to Adults\"))\n",
    "- «E10+» («Everyone 10 and older») — «Для всех от 10 лет и старше»\n",
    "- «T» («Teen») — «Подросткам»\n",
    "- «M» («Mature») — «Для взрослых»\n",
    "- «AO» («Adults Only 18+») — «Только для взрослых»\n",
    "- «RP» («Rating Pending») — «Рейтинг ожидается»"
   ]
  },
  {
   "cell_type": "markdown",
   "id": "5922702a",
   "metadata": {},
   "source": [
    "## Оглавление\n",
    "\n",
    "- [1 Изучение данных из файла](#1)\n",
    "  - [1.1 Вывод](#1.1)\n",
    "- [2 Предобработка данных](#2)\n",
    "  - [2.1 Подготовка данных](#2.1)\n",
    "  - [2.2 Вывод](#2.2)\n",
    "- [3 Исследовательский анализ данных](#3)\n",
    "  - [3.1 Вывод](#3.1)\n",
    "- [4 Портрет пользователя каждого региона](#4)\n",
    "  - [4.1 Вывод](#4.1)\n",
    "- [5 Проверка гипотезы](#5)\n",
    "  - [5.1 Вывод](#5.1)\n",
    "- [6 Общий вывод](#6)\n",
    "- [7 Чек-лист готовности](#7)"
   ]
  },
  {
   "cell_type": "markdown",
   "id": "80642a34",
   "metadata": {},
   "source": [
    "## Шаг 1 Изучение данных из файла \n",
    "<a id='1'></a>"
   ]
  },
  {
   "cell_type": "code",
   "execution_count": 2,
   "id": "5dfb860d",
   "metadata": {},
   "outputs": [],
   "source": [
    "#импортируем библиотеки\n",
    "import matplotlib.pyplot as plt\n",
    "import pandas as pd\n",
    "import numpy as np\n",
    "from scipy import stats as st\n",
    "import seaborn as sns\n",
    "import warnings\n",
    "warnings.filterwarnings('ignore')"
   ]
  },
  {
   "cell_type": "code",
   "execution_count": 3,
   "id": "c13df4f0",
   "metadata": {
    "scrolled": false
   },
   "outputs": [],
   "source": [
    "#прочитаем файлы и сохраним их в отдельный датафрейм\n",
    "df = pd.read_csv('~/datasets/games.csv')"
   ]
  },
  {
   "cell_type": "code",
   "execution_count": 4,
   "id": "6153a80c",
   "metadata": {
    "scrolled": true
   },
   "outputs": [
    {
     "data": {
      "text/html": [
       "<div>\n",
       "<style scoped>\n",
       "    .dataframe tbody tr th:only-of-type {\n",
       "        vertical-align: middle;\n",
       "    }\n",
       "\n",
       "    .dataframe tbody tr th {\n",
       "        vertical-align: top;\n",
       "    }\n",
       "\n",
       "    .dataframe thead th {\n",
       "        text-align: right;\n",
       "    }\n",
       "</style>\n",
       "<table border=\"1\" class=\"dataframe\">\n",
       "  <thead>\n",
       "    <tr style=\"text-align: right;\">\n",
       "      <th></th>\n",
       "      <th>Name</th>\n",
       "      <th>Platform</th>\n",
       "      <th>Year_of_Release</th>\n",
       "      <th>Genre</th>\n",
       "      <th>NA_sales</th>\n",
       "      <th>EU_sales</th>\n",
       "      <th>JP_sales</th>\n",
       "      <th>Other_sales</th>\n",
       "      <th>Critic_Score</th>\n",
       "      <th>User_Score</th>\n",
       "      <th>Rating</th>\n",
       "    </tr>\n",
       "  </thead>\n",
       "  <tbody>\n",
       "    <tr>\n",
       "      <th>0</th>\n",
       "      <td>Wii Sports</td>\n",
       "      <td>Wii</td>\n",
       "      <td>2006.0</td>\n",
       "      <td>Sports</td>\n",
       "      <td>41.36</td>\n",
       "      <td>28.96</td>\n",
       "      <td>3.77</td>\n",
       "      <td>8.45</td>\n",
       "      <td>76.0</td>\n",
       "      <td>8</td>\n",
       "      <td>E</td>\n",
       "    </tr>\n",
       "    <tr>\n",
       "      <th>1</th>\n",
       "      <td>Super Mario Bros.</td>\n",
       "      <td>NES</td>\n",
       "      <td>1985.0</td>\n",
       "      <td>Platform</td>\n",
       "      <td>29.08</td>\n",
       "      <td>3.58</td>\n",
       "      <td>6.81</td>\n",
       "      <td>0.77</td>\n",
       "      <td>NaN</td>\n",
       "      <td>NaN</td>\n",
       "      <td>NaN</td>\n",
       "    </tr>\n",
       "    <tr>\n",
       "      <th>2</th>\n",
       "      <td>Mario Kart Wii</td>\n",
       "      <td>Wii</td>\n",
       "      <td>2008.0</td>\n",
       "      <td>Racing</td>\n",
       "      <td>15.68</td>\n",
       "      <td>12.76</td>\n",
       "      <td>3.79</td>\n",
       "      <td>3.29</td>\n",
       "      <td>82.0</td>\n",
       "      <td>8.3</td>\n",
       "      <td>E</td>\n",
       "    </tr>\n",
       "    <tr>\n",
       "      <th>3</th>\n",
       "      <td>Wii Sports Resort</td>\n",
       "      <td>Wii</td>\n",
       "      <td>2009.0</td>\n",
       "      <td>Sports</td>\n",
       "      <td>15.61</td>\n",
       "      <td>10.93</td>\n",
       "      <td>3.28</td>\n",
       "      <td>2.95</td>\n",
       "      <td>80.0</td>\n",
       "      <td>8</td>\n",
       "      <td>E</td>\n",
       "    </tr>\n",
       "    <tr>\n",
       "      <th>4</th>\n",
       "      <td>Pokemon Red/Pokemon Blue</td>\n",
       "      <td>GB</td>\n",
       "      <td>1996.0</td>\n",
       "      <td>Role-Playing</td>\n",
       "      <td>11.27</td>\n",
       "      <td>8.89</td>\n",
       "      <td>10.22</td>\n",
       "      <td>1.00</td>\n",
       "      <td>NaN</td>\n",
       "      <td>NaN</td>\n",
       "      <td>NaN</td>\n",
       "    </tr>\n",
       "  </tbody>\n",
       "</table>\n",
       "</div>"
      ],
      "text/plain": [
       "                       Name Platform  Year_of_Release         Genre  NA_sales  \\\n",
       "0                Wii Sports      Wii           2006.0        Sports     41.36   \n",
       "1         Super Mario Bros.      NES           1985.0      Platform     29.08   \n",
       "2            Mario Kart Wii      Wii           2008.0        Racing     15.68   \n",
       "3         Wii Sports Resort      Wii           2009.0        Sports     15.61   \n",
       "4  Pokemon Red/Pokemon Blue       GB           1996.0  Role-Playing     11.27   \n",
       "\n",
       "   EU_sales  JP_sales  Other_sales  Critic_Score User_Score Rating  \n",
       "0     28.96      3.77         8.45          76.0          8      E  \n",
       "1      3.58      6.81         0.77           NaN        NaN    NaN  \n",
       "2     12.76      3.79         3.29          82.0        8.3      E  \n",
       "3     10.93      3.28         2.95          80.0          8      E  \n",
       "4      8.89     10.22         1.00           NaN        NaN    NaN  "
      ]
     },
     "execution_count": 4,
     "metadata": {},
     "output_type": "execute_result"
    }
   ],
   "source": [
    "#выведем первые 5 строк\n",
    "df.head()"
   ]
  },
  {
   "cell_type": "code",
   "execution_count": 5,
   "id": "a9b806e8",
   "metadata": {},
   "outputs": [
    {
     "name": "stdout",
     "output_type": "stream",
     "text": [
      "<class 'pandas.core.frame.DataFrame'>\n",
      "RangeIndex: 16715 entries, 0 to 16714\n",
      "Data columns (total 11 columns):\n",
      " #   Column           Non-Null Count  Dtype  \n",
      "---  ------           --------------  -----  \n",
      " 0   Name             16713 non-null  object \n",
      " 1   Platform         16715 non-null  object \n",
      " 2   Year_of_Release  16446 non-null  float64\n",
      " 3   Genre            16713 non-null  object \n",
      " 4   NA_sales         16715 non-null  float64\n",
      " 5   EU_sales         16715 non-null  float64\n",
      " 6   JP_sales         16715 non-null  float64\n",
      " 7   Other_sales      16715 non-null  float64\n",
      " 8   Critic_Score     8137 non-null   float64\n",
      " 9   User_Score       10014 non-null  object \n",
      " 10  Rating           9949 non-null   object \n",
      "dtypes: float64(6), object(5)\n",
      "memory usage: 1.4+ MB\n"
     ]
    }
   ],
   "source": [
    "#посмотрим общую информацию \n",
    "df.info()"
   ]
  },
  {
   "cell_type": "code",
   "execution_count": 6,
   "id": "bf5a9da9",
   "metadata": {},
   "outputs": [
    {
     "data": {
      "text/html": [
       "<div>\n",
       "<style scoped>\n",
       "    .dataframe tbody tr th:only-of-type {\n",
       "        vertical-align: middle;\n",
       "    }\n",
       "\n",
       "    .dataframe tbody tr th {\n",
       "        vertical-align: top;\n",
       "    }\n",
       "\n",
       "    .dataframe thead th {\n",
       "        text-align: right;\n",
       "    }\n",
       "</style>\n",
       "<table border=\"1\" class=\"dataframe\">\n",
       "  <thead>\n",
       "    <tr style=\"text-align: right;\">\n",
       "      <th></th>\n",
       "      <th>count</th>\n",
       "      <th>mean</th>\n",
       "      <th>std</th>\n",
       "      <th>min</th>\n",
       "      <th>25%</th>\n",
       "      <th>50%</th>\n",
       "      <th>75%</th>\n",
       "      <th>max</th>\n",
       "    </tr>\n",
       "  </thead>\n",
       "  <tbody>\n",
       "    <tr>\n",
       "      <th>Year_of_Release</th>\n",
       "      <td>16446.0</td>\n",
       "      <td>2006.484616</td>\n",
       "      <td>5.877050</td>\n",
       "      <td>1980.0</td>\n",
       "      <td>2003.0</td>\n",
       "      <td>2007.00</td>\n",
       "      <td>2010.00</td>\n",
       "      <td>2016.00</td>\n",
       "    </tr>\n",
       "    <tr>\n",
       "      <th>NA_sales</th>\n",
       "      <td>16715.0</td>\n",
       "      <td>0.263377</td>\n",
       "      <td>0.813604</td>\n",
       "      <td>0.0</td>\n",
       "      <td>0.0</td>\n",
       "      <td>0.08</td>\n",
       "      <td>0.24</td>\n",
       "      <td>41.36</td>\n",
       "    </tr>\n",
       "    <tr>\n",
       "      <th>EU_sales</th>\n",
       "      <td>16715.0</td>\n",
       "      <td>0.145060</td>\n",
       "      <td>0.503339</td>\n",
       "      <td>0.0</td>\n",
       "      <td>0.0</td>\n",
       "      <td>0.02</td>\n",
       "      <td>0.11</td>\n",
       "      <td>28.96</td>\n",
       "    </tr>\n",
       "    <tr>\n",
       "      <th>JP_sales</th>\n",
       "      <td>16715.0</td>\n",
       "      <td>0.077617</td>\n",
       "      <td>0.308853</td>\n",
       "      <td>0.0</td>\n",
       "      <td>0.0</td>\n",
       "      <td>0.00</td>\n",
       "      <td>0.04</td>\n",
       "      <td>10.22</td>\n",
       "    </tr>\n",
       "    <tr>\n",
       "      <th>Other_sales</th>\n",
       "      <td>16715.0</td>\n",
       "      <td>0.047342</td>\n",
       "      <td>0.186731</td>\n",
       "      <td>0.0</td>\n",
       "      <td>0.0</td>\n",
       "      <td>0.01</td>\n",
       "      <td>0.03</td>\n",
       "      <td>10.57</td>\n",
       "    </tr>\n",
       "    <tr>\n",
       "      <th>Critic_Score</th>\n",
       "      <td>8137.0</td>\n",
       "      <td>68.967679</td>\n",
       "      <td>13.938165</td>\n",
       "      <td>13.0</td>\n",
       "      <td>60.0</td>\n",
       "      <td>71.00</td>\n",
       "      <td>79.00</td>\n",
       "      <td>98.00</td>\n",
       "    </tr>\n",
       "  </tbody>\n",
       "</table>\n",
       "</div>"
      ],
      "text/plain": [
       "                   count         mean        std     min     25%      50%  \\\n",
       "Year_of_Release  16446.0  2006.484616   5.877050  1980.0  2003.0  2007.00   \n",
       "NA_sales         16715.0     0.263377   0.813604     0.0     0.0     0.08   \n",
       "EU_sales         16715.0     0.145060   0.503339     0.0     0.0     0.02   \n",
       "JP_sales         16715.0     0.077617   0.308853     0.0     0.0     0.00   \n",
       "Other_sales      16715.0     0.047342   0.186731     0.0     0.0     0.01   \n",
       "Critic_Score      8137.0    68.967679  13.938165    13.0    60.0    71.00   \n",
       "\n",
       "                     75%      max  \n",
       "Year_of_Release  2010.00  2016.00  \n",
       "NA_sales            0.24    41.36  \n",
       "EU_sales            0.11    28.96  \n",
       "JP_sales            0.04    10.22  \n",
       "Other_sales         0.03    10.57  \n",
       "Critic_Score       79.00    98.00  "
      ]
     },
     "execution_count": 6,
     "metadata": {},
     "output_type": "execute_result"
    }
   ],
   "source": [
    "#посмотрим числовые значения методом describe\n",
    "df.describe().T"
   ]
  },
  {
   "cell_type": "markdown",
   "id": "7a22f304",
   "metadata": {},
   "source": [
    "### Вывод\n",
    "<a id='1.1'></a>"
   ]
  },
  {
   "cell_type": "markdown",
   "id": "76f74280",
   "metadata": {},
   "source": [
    "- В файле 16715 строк с типом данных: *float* и *object*\n",
    "\n",
    "Для дальнейшего анализа, необходимо подготовить данные: \n",
    "- Названия столбцов стоит привести к нижнему регистру\n",
    "- Проверить и удалить явные дубликаты, если они есть\n",
    "- Есть незначительные пропуски в столбцах с названием игр, жанром и годом выпуска. При условии, что пропуски не пересекаются - в общей сумме получается 273 строки, это 1.63%, можно удалить без ущерба для результатов\n",
    "- Столбец с оценкой пользователей содержит данные типа *object*, что не соответствует содержимому, необходимо проверить на уникальные значения и преобразовать в float\n",
    "- Проверить столбец с возрастной категорией на уникальность названий и дублирование (устаревших и актуальных), заменить одни на другие\n",
    "- В столбце с годом выпуска заменить тип данных на int\n",
    "- Есть большое количество пропущенных значений в столбцах оценок и рейтинга\n",
    "\n",
    "Предположений о природе такого количества пропусков как минимум 3: \n",
    " - оценки и рейтинги начали проставлять с определенного периода;\n",
    " - игры с пропущенными рейтингами не набрали достаточной популярности, соответственно рейтингов по ним не существует;\n",
    " - датасет собран из нескольких источников, в одном из которых данные с рейтингами отсутствовали\n",
    " \n",
    "Можем проверить зависят ли пропуски от года выпуска, если нет, то оставить как есть, так как заполнять медианой или средними не кажется правильным решением. "
   ]
  },
  {
   "cell_type": "markdown",
   "id": "394ed8ae",
   "metadata": {},
   "source": [
    "## Шаг 2 Предобработка данных\n",
    "<a id='2'></a>"
   ]
  },
  {
   "cell_type": "markdown",
   "id": "211f427b",
   "metadata": {},
   "source": [
    "### Шаг 2.1 Подготовка данных\n",
    "<a id='2.1'></a>"
   ]
  },
  {
   "cell_type": "code",
   "execution_count": 7,
   "id": "329a77ca",
   "metadata": {},
   "outputs": [
    {
     "data": {
      "text/plain": [
       "Index(['name', 'platform', 'year_of_release', 'genre', 'na_sales', 'eu_sales',\n",
       "       'jp_sales', 'other_sales', 'critic_score', 'user_score', 'rating'],\n",
       "      dtype='object')"
      ]
     },
     "execution_count": 7,
     "metadata": {},
     "output_type": "execute_result"
    }
   ],
   "source": [
    "#заменим названия столбцов (приведем к нижнему регистру)\n",
    "df.columns = df.columns.str.lower()\n",
    "df.columns"
   ]
  },
  {
   "cell_type": "code",
   "execution_count": 8,
   "id": "123f2bb6",
   "metadata": {},
   "outputs": [
    {
     "data": {
      "text/plain": [
       "0"
      ]
     },
     "execution_count": 8,
     "metadata": {},
     "output_type": "execute_result"
    }
   ],
   "source": [
    "#посчитаем явные дубликаты\n",
    "df.duplicated().sum()"
   ]
  },
  {
   "cell_type": "code",
   "execution_count": 9,
   "id": "42d8f03d",
   "metadata": {},
   "outputs": [
    {
     "data": {
      "text/plain": [
       "269"
      ]
     },
     "execution_count": 9,
     "metadata": {},
     "output_type": "execute_result"
    }
   ],
   "source": [
    "#посчитаем количество пустых строк к столбце с годом выпуска\n",
    "df['year_of_release'].isna().sum()"
   ]
  },
  {
   "cell_type": "code",
   "execution_count": 10,
   "id": "8b586c74",
   "metadata": {},
   "outputs": [
    {
     "data": {
      "text/plain": [
       "252"
      ]
     },
     "execution_count": 10,
     "metadata": {},
     "output_type": "execute_result"
    }
   ],
   "source": [
    "#найдем 4 цифры в названии игр и заполним ими пустые строки с годом выпуска\n",
    "df.loc[df['year_of_release'].isna(), 'year_of_release'] = df['name'].str.findall(r'(\\d{4})').str[0].dropna().astype(float)\n",
    "df['year_of_release'].isna().sum()"
   ]
  },
  {
   "cell_type": "code",
   "execution_count": 11,
   "id": "d87d6c38",
   "metadata": {},
   "outputs": [
    {
     "data": {
      "text/plain": [
       "(0, 0, 0)"
      ]
     },
     "execution_count": 11,
     "metadata": {},
     "output_type": "execute_result"
    }
   ],
   "source": [
    "#удалим строки с пропусками в столбцах с названием игры, жанром и годом выпуска\n",
    "df = df.dropna(subset = ['name', 'genre','year_of_release'])\n",
    "\n",
    "#проверим\n",
    "df['name'].isna().sum(), df['genre'].isna().sum(), df['year_of_release'].isna().sum()"
   ]
  },
  {
   "cell_type": "code",
   "execution_count": 12,
   "id": "263b573d",
   "metadata": {},
   "outputs": [
    {
     "data": {
      "text/plain": [
       "array(['8', nan, '8.3', '8.5', '6.6', '8.4', '8.6', '7.7', '6.3', '7.4',\n",
       "       '8.2', '9', '7.9', '8.1', '8.7', '7.1', '3.4', '5.3', '4.8', '3.2',\n",
       "       '8.9', '6.4', '7.8', '7.5', '2.6', '7.2', '9.2', '7', '7.3', '4.3',\n",
       "       '7.6', '5.7', '5', '9.1', '6.5', 'tbd', '8.8', '6.9', '9.4', '6.8',\n",
       "       '6.1', '6.7', '5.4', '4', '4.9', '4.5', '9.3', '6.2', '4.2', '6',\n",
       "       '3.7', '4.1', '5.8', '5.6', '5.5', '4.4', '4.6', '5.9', '3.9',\n",
       "       '3.1', '2.9', '5.2', '3.3', '4.7', '5.1', '3.5', '2.5', '1.9', '3',\n",
       "       '2.7', '2.2', '2', '9.5', '2.1', '3.6', '2.8', '1.8', '3.8', '0',\n",
       "       '1.6', '9.6', '2.4', '1.7', '1.1', '0.3', '1.5', '0.7', '1.2',\n",
       "       '2.3', '0.5', '1.3', '0.2', '0.6', '1.4', '0.9', '1', '9.7'],\n",
       "      dtype=object)"
      ]
     },
     "execution_count": 12,
     "metadata": {},
     "output_type": "execute_result"
    }
   ],
   "source": [
    "#проверим уникальные значения в столбце user_score\n",
    "df['user_score'].unique()"
   ]
  },
  {
   "cell_type": "markdown",
   "id": "498cc09f",
   "metadata": {},
   "source": [
    "Среди значений есть аббревиатура «tbd» (англ. «to be determined») - подлежит уточнению. Есть смысл заменить его на Nan, чтобы значение приобрело тип float вместо object, ведь по факту, это тот же Nan."
   ]
  },
  {
   "cell_type": "code",
   "execution_count": 13,
   "id": "4192d6c4",
   "metadata": {},
   "outputs": [
    {
     "data": {
      "text/html": [
       "<div>\n",
       "<style scoped>\n",
       "    .dataframe tbody tr th:only-of-type {\n",
       "        vertical-align: middle;\n",
       "    }\n",
       "\n",
       "    .dataframe tbody tr th {\n",
       "        vertical-align: top;\n",
       "    }\n",
       "\n",
       "    .dataframe thead th {\n",
       "        text-align: right;\n",
       "    }\n",
       "</style>\n",
       "<table border=\"1\" class=\"dataframe\">\n",
       "  <thead>\n",
       "    <tr style=\"text-align: right;\">\n",
       "      <th></th>\n",
       "      <th>name</th>\n",
       "      <th>platform</th>\n",
       "      <th>year_of_release</th>\n",
       "      <th>genre</th>\n",
       "      <th>na_sales</th>\n",
       "      <th>eu_sales</th>\n",
       "      <th>jp_sales</th>\n",
       "      <th>other_sales</th>\n",
       "      <th>critic_score</th>\n",
       "      <th>user_score</th>\n",
       "      <th>rating</th>\n",
       "    </tr>\n",
       "  </thead>\n",
       "  <tbody>\n",
       "  </tbody>\n",
       "</table>\n",
       "</div>"
      ],
      "text/plain": [
       "Empty DataFrame\n",
       "Columns: [name, platform, year_of_release, genre, na_sales, eu_sales, jp_sales, other_sales, critic_score, user_score, rating]\n",
       "Index: []"
      ]
     },
     "execution_count": 13,
     "metadata": {},
     "output_type": "execute_result"
    }
   ],
   "source": [
    "#заменим значение 'tbd' на np.nan\n",
    "df.loc[df['user_score']=='tbd','user_score'] = np.nan\n",
    "\n",
    "#проверим\n",
    "df.query('user_score in (\"tbd\")')"
   ]
  },
  {
   "cell_type": "code",
   "execution_count": 14,
   "id": "891415d7",
   "metadata": {},
   "outputs": [
    {
     "data": {
      "text/plain": [
       "array(['E', nan, 'M', 'T', 'E10+', 'K-A', 'AO', 'EC', 'RP'], dtype=object)"
      ]
     },
     "execution_count": 14,
     "metadata": {},
     "output_type": "execute_result"
    }
   ],
   "source": [
    "#проверим уникальные значения в столбце rating\n",
    "df['rating'].unique()"
   ]
  },
  {
   "cell_type": "markdown",
   "id": "f8ba16d9",
   "metadata": {},
   "source": [
    "- Значение 'K-A' является устаревшей версией, заменим его на актуальное значение 'E'."
   ]
  },
  {
   "cell_type": "code",
   "execution_count": 15,
   "id": "70088b31",
   "metadata": {},
   "outputs": [],
   "source": [
    "#заменим значение 'K-A' на 'E'\n",
    "df.loc[df['rating']=='K-A','rating'] = 'E'"
   ]
  },
  {
   "cell_type": "code",
   "execution_count": 16,
   "id": "a005ef26",
   "metadata": {},
   "outputs": [
    {
     "data": {
      "text/plain": [
       "array(['E', 'NO_RATING', 'M', 'T', 'E10+', 'AO', 'EC', 'RP'], dtype=object)"
      ]
     },
     "execution_count": 16,
     "metadata": {},
     "output_type": "execute_result"
    }
   ],
   "source": [
    "#для дальнейшего анализа нам будет необходим столбец rating, для того, чтобы мы могли посмотреть распределение строк с\n",
    "# отсутствующим значением, промаркируем их как 'no_rating'\n",
    "df['rating'] = df['rating'].fillna('NO_RATING')\n",
    "\n",
    "#проверим результат\n",
    "df['rating'].unique()"
   ]
  },
  {
   "cell_type": "code",
   "execution_count": 17,
   "id": "86d89798",
   "metadata": {},
   "outputs": [
    {
     "name": "stdout",
     "output_type": "stream",
     "text": [
      "Все преобразовано в лучшем виде!\n"
     ]
    }
   ],
   "source": [
    "#с помощью try/except преобразуем столбец с годом выпуска в целое int, \n",
    "#столбец с пользовательской оценкой во float\n",
    "try:\n",
    "    df['user_score']= pd.to_numeric(df['user_score'], downcast='float')\n",
    "    df['year_of_release'] = pd.to_numeric(df['year_of_release'], downcast='integer')\n",
    "    print('Все преобразовано в лучшем виде!')\n",
    "except:\n",
    "    print('Ошибка! Что-то пошло не так!')"
   ]
  },
  {
   "cell_type": "code",
   "execution_count": 18,
   "id": "56786425",
   "metadata": {},
   "outputs": [
    {
     "data": {
      "text/plain": [
       "array([1980, 1981, 1982, 1983, 1984, 1985, 1986, 1987, 1988, 1989, 1990,\n",
       "       1991, 1992, 1993, 1994, 1995, 1996, 1997, 1998, 1999, 2000, 2001,\n",
       "       2002, 2003, 2004, 2005, 2006, 2007, 2008, 2009, 2010, 2011, 2012,\n",
       "       2013, 2014, 2015, 2016], dtype=int16)"
      ]
     },
     "execution_count": 18,
     "metadata": {},
     "output_type": "execute_result"
    }
   ],
   "source": [
    "#проверим зависят ли пропуски от года выпуска, посмотрим уникальные значения в столбце 'year_of_release'\n",
    "df.sort_values(by='year_of_release') \\\n",
    "  .loc[df['critic_score'].isna() & df['user_score'].isna(),'year_of_release'] \\\n",
    "  .unique()"
   ]
  },
  {
   "cell_type": "markdown",
   "id": "a0f85711",
   "metadata": {},
   "source": [
    "Зависимости нет, пропуски есть в каждом году. Вероятнее всего датасет собран из нескольких источников, в одном из которых не было информации об оценках и рейтингах. Самым правильным решением видится оставить пропуски как есть."
   ]
  },
  {
   "cell_type": "code",
   "execution_count": 19,
   "id": "9e77fb8f",
   "metadata": {},
   "outputs": [
    {
     "data": {
      "text/plain": [
       "array(['2600', '3DO', '3DS', 'DC', 'DS', 'GB', 'GBA', 'GC', 'GEN', 'GG',\n",
       "       'N64', 'NES', 'NG', 'PC', 'PCFX', 'PS', 'PS2', 'PS3', 'PS4', 'PSP',\n",
       "       'PSV', 'SAT', 'SCD', 'SNES', 'TG16', 'WS', 'Wii', 'WiiU', 'X360',\n",
       "       'XB', 'XOne'], dtype=object)"
      ]
     },
     "execution_count": 19,
     "metadata": {},
     "output_type": "execute_result"
    }
   ],
   "source": [
    "#проверим на неявные дубликаты столбец с названиями платформ, выведем уникальные значения\n",
    "df.sort_values(by='platform')['platform'].unique()"
   ]
  },
  {
   "cell_type": "code",
   "execution_count": 20,
   "id": "bd7c68a8",
   "metadata": {},
   "outputs": [
    {
     "data": {
      "text/plain": [
       "31"
      ]
     },
     "execution_count": 20,
     "metadata": {},
     "output_type": "execute_result"
    }
   ],
   "source": [
    "#посмотрим сколько всего платформ в нашем датасете\n",
    "len(df['platform'].unique())"
   ]
  },
  {
   "cell_type": "code",
   "execution_count": 21,
   "id": "9915a67c",
   "metadata": {},
   "outputs": [
    {
     "data": {
      "text/plain": [
       "37"
      ]
     },
     "execution_count": 21,
     "metadata": {},
     "output_type": "execute_result"
    }
   ],
   "source": [
    "#посмотрим за срез за какой срок в нашем распоряжении\n",
    "len(df['year_of_release'].unique())"
   ]
  },
  {
   "cell_type": "code",
   "execution_count": 22,
   "id": "fcd9dc0b",
   "metadata": {},
   "outputs": [
    {
     "data": {
      "text/html": [
       "<div>\n",
       "<style scoped>\n",
       "    .dataframe tbody tr th:only-of-type {\n",
       "        vertical-align: middle;\n",
       "    }\n",
       "\n",
       "    .dataframe tbody tr th {\n",
       "        vertical-align: top;\n",
       "    }\n",
       "\n",
       "    .dataframe thead th {\n",
       "        text-align: right;\n",
       "    }\n",
       "</style>\n",
       "<table border=\"1\" class=\"dataframe\">\n",
       "  <thead>\n",
       "    <tr style=\"text-align: right;\">\n",
       "      <th></th>\n",
       "      <th>name</th>\n",
       "      <th>platform</th>\n",
       "      <th>year_of_release</th>\n",
       "      <th>genre</th>\n",
       "      <th>na_sales</th>\n",
       "      <th>eu_sales</th>\n",
       "      <th>jp_sales</th>\n",
       "      <th>other_sales</th>\n",
       "      <th>critic_score</th>\n",
       "      <th>user_score</th>\n",
       "      <th>rating</th>\n",
       "      <th>total_sales</th>\n",
       "    </tr>\n",
       "  </thead>\n",
       "  <tbody>\n",
       "    <tr>\n",
       "      <th>0</th>\n",
       "      <td>Wii Sports</td>\n",
       "      <td>Wii</td>\n",
       "      <td>2006</td>\n",
       "      <td>Sports</td>\n",
       "      <td>41.36</td>\n",
       "      <td>28.96</td>\n",
       "      <td>3.77</td>\n",
       "      <td>8.45</td>\n",
       "      <td>76.0</td>\n",
       "      <td>8.0</td>\n",
       "      <td>E</td>\n",
       "      <td>82.54</td>\n",
       "    </tr>\n",
       "    <tr>\n",
       "      <th>1</th>\n",
       "      <td>Super Mario Bros.</td>\n",
       "      <td>NES</td>\n",
       "      <td>1985</td>\n",
       "      <td>Platform</td>\n",
       "      <td>29.08</td>\n",
       "      <td>3.58</td>\n",
       "      <td>6.81</td>\n",
       "      <td>0.77</td>\n",
       "      <td>NaN</td>\n",
       "      <td>NaN</td>\n",
       "      <td>NO_RATING</td>\n",
       "      <td>40.24</td>\n",
       "    </tr>\n",
       "    <tr>\n",
       "      <th>2</th>\n",
       "      <td>Mario Kart Wii</td>\n",
       "      <td>Wii</td>\n",
       "      <td>2008</td>\n",
       "      <td>Racing</td>\n",
       "      <td>15.68</td>\n",
       "      <td>12.76</td>\n",
       "      <td>3.79</td>\n",
       "      <td>3.29</td>\n",
       "      <td>82.0</td>\n",
       "      <td>8.3</td>\n",
       "      <td>E</td>\n",
       "      <td>35.52</td>\n",
       "    </tr>\n",
       "    <tr>\n",
       "      <th>3</th>\n",
       "      <td>Wii Sports Resort</td>\n",
       "      <td>Wii</td>\n",
       "      <td>2009</td>\n",
       "      <td>Sports</td>\n",
       "      <td>15.61</td>\n",
       "      <td>10.93</td>\n",
       "      <td>3.28</td>\n",
       "      <td>2.95</td>\n",
       "      <td>80.0</td>\n",
       "      <td>8.0</td>\n",
       "      <td>E</td>\n",
       "      <td>32.77</td>\n",
       "    </tr>\n",
       "    <tr>\n",
       "      <th>4</th>\n",
       "      <td>Pokemon Red/Pokemon Blue</td>\n",
       "      <td>GB</td>\n",
       "      <td>1996</td>\n",
       "      <td>Role-Playing</td>\n",
       "      <td>11.27</td>\n",
       "      <td>8.89</td>\n",
       "      <td>10.22</td>\n",
       "      <td>1.00</td>\n",
       "      <td>NaN</td>\n",
       "      <td>NaN</td>\n",
       "      <td>NO_RATING</td>\n",
       "      <td>31.38</td>\n",
       "    </tr>\n",
       "  </tbody>\n",
       "</table>\n",
       "</div>"
      ],
      "text/plain": [
       "                       name platform  year_of_release         genre  na_sales  \\\n",
       "0                Wii Sports      Wii             2006        Sports     41.36   \n",
       "1         Super Mario Bros.      NES             1985      Platform     29.08   \n",
       "2            Mario Kart Wii      Wii             2008        Racing     15.68   \n",
       "3         Wii Sports Resort      Wii             2009        Sports     15.61   \n",
       "4  Pokemon Red/Pokemon Blue       GB             1996  Role-Playing     11.27   \n",
       "\n",
       "   eu_sales  jp_sales  other_sales  critic_score  user_score     rating  \\\n",
       "0     28.96      3.77         8.45          76.0         8.0          E   \n",
       "1      3.58      6.81         0.77           NaN         NaN  NO_RATING   \n",
       "2     12.76      3.79         3.29          82.0         8.3          E   \n",
       "3     10.93      3.28         2.95          80.0         8.0          E   \n",
       "4      8.89     10.22         1.00           NaN         NaN  NO_RATING   \n",
       "\n",
       "   total_sales  \n",
       "0        82.54  \n",
       "1        40.24  \n",
       "2        35.52  \n",
       "3        32.77  \n",
       "4        31.38  "
      ]
     },
     "execution_count": 22,
     "metadata": {},
     "output_type": "execute_result"
    }
   ],
   "source": [
    "#посчитаем суммарные продажи во всех регионах и запишем их в отдельный столбец total_sales\n",
    "df['total_sales'] = df.iloc[:,4:8].sum(axis =1)\n",
    "df.head()"
   ]
  },
  {
   "cell_type": "code",
   "execution_count": 23,
   "id": "d7fe8cc8",
   "metadata": {},
   "outputs": [
    {
     "data": {
      "text/plain": [
       "82.54"
      ]
     },
     "execution_count": 23,
     "metadata": {},
     "output_type": "execute_result"
    }
   ],
   "source": [
    "#проверим, что все посчитано верно, просуммируем нужные значения в первой строке\n",
    "round(df.na_sales[0] + df.eu_sales[0] + df.jp_sales[0] + df.other_sales[0], 2)"
   ]
  },
  {
   "cell_type": "markdown",
   "id": "c55c125a",
   "metadata": {},
   "source": [
    "### Вывод\n",
    "<a id='2.2'></a>"
   ]
  },
  {
   "cell_type": "markdown",
   "id": "cc906973",
   "metadata": {},
   "source": [
    "- Заменили названия столбцов (привели к нижнему регистру);\n",
    "- Преобразовали данные в нужные типы. Столбец с годом выпуска в int, столбец с пользовательской оценкой во float, так как это соответствует содержимому;\n",
    "- Заменили значение 'tbd' на np.nan, заменили значение 'K-A' на 'E', пропущенные значения заменили на NO_RATING, для того, чтобы использовать их при анализе.\n",
    "- Обработали пропуски: не стали заполнять, так как не нашли зависимости от существующих данных. Для чистоты анализа будем работать с существующими данными.\n",
    "- Посчитали суммарные продажи во всех регионах и записали их в отдельный столбец."
   ]
  },
  {
   "cell_type": "markdown",
   "id": "42a8c72f",
   "metadata": {},
   "source": [
    "## Шаг 3 Исследовательский анализ данных\n",
    "<a id='3'></a>"
   ]
  },
  {
   "cell_type": "markdown",
   "id": "93f64d9a",
   "metadata": {},
   "source": [
    "- Посмотрим, сколько игр выпускалось в разные годы. Рассмотрим данные за все периоды.\n",
    "- Посмотрим, как менялись продажи по платформам. Выберим платформы с наибольшими суммарными продажами и построим распределение по годам. Выявим характерный срок появления новых и исчезновения старых платформ.\n",
    "- Возьмем данные за соответствующий **актуальный период.** Актуальный период определим в результате исследования предыдущих вопросов. Основной фактор — эти данные должны помочь построить прогноз на 2017 год.\n",
    "- Выявим какие платформы лидируют по продажам, растут или падают. Выберим несколько потенциально прибыльных платформ.\n",
    "- Построим график «ящик с усами» по глобальным продажам игр в разбивке по платформам. Опишем результат.\n",
    "- Посмотрим, как влияют на продажи внутри одной популярной платформы отзывы пользователей и критиков. Построим диаграмму рассеяния и посчитаем корреляцию между отзывами и продажами. Сформулируем выводы.\n",
    "- Соотнесем выводы с продажами игр на других платформах.\n",
    "- Посмотрим на общее распределение игр по жанрам. Выясним, можно ли сказать что-то о самых прибыльных жанрах, выделяются ли жанры с высокими и низкими продажами."
   ]
  },
  {
   "cell_type": "markdown",
   "id": "a812bd3a",
   "metadata": {},
   "source": [
    "____\n",
    "- Посмотрим, сколько игр выпускалось в разные годы. Рассмотрим данные за все периоды."
   ]
  },
  {
   "cell_type": "code",
   "execution_count": 24,
   "id": "5a961029",
   "metadata": {},
   "outputs": [
    {
     "data": {
      "text/html": [
       "<div>\n",
       "<style scoped>\n",
       "    .dataframe tbody tr th:only-of-type {\n",
       "        vertical-align: middle;\n",
       "    }\n",
       "\n",
       "    .dataframe tbody tr th {\n",
       "        vertical-align: top;\n",
       "    }\n",
       "\n",
       "    .dataframe thead th {\n",
       "        text-align: right;\n",
       "    }\n",
       "</style>\n",
       "<table border=\"1\" class=\"dataframe\">\n",
       "  <thead>\n",
       "    <tr style=\"text-align: right;\">\n",
       "      <th></th>\n",
       "      <th>count</th>\n",
       "    </tr>\n",
       "    <tr>\n",
       "      <th>year_of_release</th>\n",
       "      <th></th>\n",
       "    </tr>\n",
       "  </thead>\n",
       "  <tbody>\n",
       "    <tr>\n",
       "      <th>1980</th>\n",
       "      <td>9</td>\n",
       "    </tr>\n",
       "    <tr>\n",
       "      <th>1981</th>\n",
       "      <td>46</td>\n",
       "    </tr>\n",
       "    <tr>\n",
       "      <th>1982</th>\n",
       "      <td>36</td>\n",
       "    </tr>\n",
       "    <tr>\n",
       "      <th>1983</th>\n",
       "      <td>17</td>\n",
       "    </tr>\n",
       "    <tr>\n",
       "      <th>1984</th>\n",
       "      <td>14</td>\n",
       "    </tr>\n",
       "  </tbody>\n",
       "</table>\n",
       "</div>"
      ],
      "text/plain": [
       "                 count\n",
       "year_of_release       \n",
       "1980                 9\n",
       "1981                46\n",
       "1982                36\n",
       "1983                17\n",
       "1984                14"
      ]
     },
     "execution_count": 24,
     "metadata": {},
     "output_type": "execute_result"
    }
   ],
   "source": [
    "#создадим сводную таблицу с количеством выпущенных игр по годам\n",
    "year_relised = df.pivot_table(index='year_of_release', values='name', aggfunc='count')  \n",
    "year_relised.columns = ['count']\n",
    "year_relised.head()"
   ]
  },
  {
   "cell_type": "code",
   "execution_count": 25,
   "id": "3e9427de",
   "metadata": {},
   "outputs": [
    {
     "data": {
      "image/png": "[encoded data removed]",
      "text/plain": [
       "<Figure size 1008x720 with 1 Axes>"
      ]
     },
     "metadata": {
      "needs_background": "light"
     },
     "output_type": "display_data"
    }
   ],
   "source": [
    "#поcтроим график\n",
    "f, ax = plt.subplots(figsize=(14, 10))\n",
    "ax = sns.barplot(y = year_relised.index, \n",
    "                 x = 'count', \n",
    "                 data = year_relised, \n",
    "                 orient = \"h\")\n",
    "plt.xlabel('Количество, шт')\n",
    "plt.ylabel('Годы')\n",
    "plt.gca().set_title('Количество выпущенных игр по годам')\n",
    "\n",
    "#отобразим значения на горизонтальных барах\n",
    "for x, y in enumerate (year_relised['count']):\n",
    "    plt.text(y, x, str(round(y)))\n",
    "\n",
    "plt.show()"
   ]
  },
  {
   "cell_type": "markdown",
   "id": "a4d19e62",
   "metadata": {},
   "source": [
    "По графику видно, что значимый рост продаж начался с 1994 года, количество выпущенных игр удвоились по сравнению с предыдущим периодом. До этого количество не превышало 60. Больше всего игр выпускалось в 2008 и 2009 годах - 1427 и 1426 соответственно, меньше всего в 1980 - 9. На графике заметно, что в 1981 году был небольшой всплеск, который в последствии спал. Посмотрим, что за платформа начала \"эпоху\" игр."
   ]
  },
  {
   "cell_type": "code",
   "execution_count": 26,
   "id": "50e053d9",
   "metadata": {
    "scrolled": true
   },
   "outputs": [
    {
     "data": {
      "text/plain": [
       "2600    46\n",
       "Name: platform, dtype: int64"
      ]
     },
     "execution_count": 26,
     "metadata": {},
     "output_type": "execute_result"
    }
   ],
   "source": [
    "#срез для 1981 года\n",
    "df.query('year_of_release==1981')['platform'].value_counts()"
   ]
  },
  {
   "cell_type": "markdown",
   "id": "b366f55b",
   "metadata": {},
   "source": [
    "Платформа 2600 Atari выпустила 46 игр, вошедших в наш датасет и стала первой успешной приставкой с играми на картриджах. В 1980-х в США слово «Atari» воспринималось как синоним «Atari 2600». Модель обычно поставлялась с двумя джойстиками либо двумя paddle-контроллерами и одной игрой — сначала это была Combat, а затем Pac-Man. Посмотрим какая игра была лидером продаж в 1981 году."
   ]
  },
  {
   "cell_type": "code",
   "execution_count": 27,
   "id": "653f5a55",
   "metadata": {
    "scrolled": true
   },
   "outputs": [
    {
     "data": {
      "text/html": [
       "<div>\n",
       "<style scoped>\n",
       "    .dataframe tbody tr th:only-of-type {\n",
       "        vertical-align: middle;\n",
       "    }\n",
       "\n",
       "    .dataframe tbody tr th {\n",
       "        vertical-align: top;\n",
       "    }\n",
       "\n",
       "    .dataframe thead th {\n",
       "        text-align: right;\n",
       "    }\n",
       "</style>\n",
       "<table border=\"1\" class=\"dataframe\">\n",
       "  <thead>\n",
       "    <tr style=\"text-align: right;\">\n",
       "      <th></th>\n",
       "      <th>name</th>\n",
       "      <th>platform</th>\n",
       "      <th>year_of_release</th>\n",
       "      <th>genre</th>\n",
       "      <th>na_sales</th>\n",
       "      <th>eu_sales</th>\n",
       "      <th>jp_sales</th>\n",
       "      <th>other_sales</th>\n",
       "      <th>critic_score</th>\n",
       "      <th>user_score</th>\n",
       "      <th>rating</th>\n",
       "      <th>total_sales</th>\n",
       "    </tr>\n",
       "  </thead>\n",
       "  <tbody>\n",
       "    <tr>\n",
       "      <th>240</th>\n",
       "      <td>Pitfall!</td>\n",
       "      <td>2600</td>\n",
       "      <td>1981</td>\n",
       "      <td>Platform</td>\n",
       "      <td>4.21</td>\n",
       "      <td>0.24</td>\n",
       "      <td>0.0</td>\n",
       "      <td>0.05</td>\n",
       "      <td>NaN</td>\n",
       "      <td>NaN</td>\n",
       "      <td>NO_RATING</td>\n",
       "      <td>4.50</td>\n",
       "    </tr>\n",
       "    <tr>\n",
       "      <th>736</th>\n",
       "      <td>Frogger</td>\n",
       "      <td>2600</td>\n",
       "      <td>1981</td>\n",
       "      <td>Action</td>\n",
       "      <td>2.06</td>\n",
       "      <td>0.12</td>\n",
       "      <td>0.0</td>\n",
       "      <td>0.02</td>\n",
       "      <td>NaN</td>\n",
       "      <td>NaN</td>\n",
       "      <td>NO_RATING</td>\n",
       "      <td>2.20</td>\n",
       "    </tr>\n",
       "    <tr>\n",
       "      <th>773</th>\n",
       "      <td>Demon Attack</td>\n",
       "      <td>2600</td>\n",
       "      <td>1981</td>\n",
       "      <td>Shooter</td>\n",
       "      <td>1.99</td>\n",
       "      <td>0.12</td>\n",
       "      <td>0.0</td>\n",
       "      <td>0.02</td>\n",
       "      <td>NaN</td>\n",
       "      <td>NaN</td>\n",
       "      <td>NO_RATING</td>\n",
       "      <td>2.13</td>\n",
       "    </tr>\n",
       "    <tr>\n",
       "      <th>866</th>\n",
       "      <td>E.T.: The Extra Terrestrial</td>\n",
       "      <td>2600</td>\n",
       "      <td>1981</td>\n",
       "      <td>Action</td>\n",
       "      <td>1.84</td>\n",
       "      <td>0.11</td>\n",
       "      <td>0.0</td>\n",
       "      <td>0.02</td>\n",
       "      <td>NaN</td>\n",
       "      <td>NaN</td>\n",
       "      <td>NO_RATING</td>\n",
       "      <td>1.97</td>\n",
       "    </tr>\n",
       "    <tr>\n",
       "      <th>1108</th>\n",
       "      <td>Ms. Pac-Man</td>\n",
       "      <td>2600</td>\n",
       "      <td>1981</td>\n",
       "      <td>Puzzle</td>\n",
       "      <td>1.54</td>\n",
       "      <td>0.10</td>\n",
       "      <td>0.0</td>\n",
       "      <td>0.02</td>\n",
       "      <td>NaN</td>\n",
       "      <td>NaN</td>\n",
       "      <td>NO_RATING</td>\n",
       "      <td>1.66</td>\n",
       "    </tr>\n",
       "  </tbody>\n",
       "</table>\n",
       "</div>"
      ],
      "text/plain": [
       "                             name platform  year_of_release     genre  \\\n",
       "240                      Pitfall!     2600             1981  Platform   \n",
       "736                       Frogger     2600             1981    Action   \n",
       "773                  Demon Attack     2600             1981   Shooter   \n",
       "866   E.T.: The Extra Terrestrial     2600             1981    Action   \n",
       "1108                  Ms. Pac-Man     2600             1981    Puzzle   \n",
       "\n",
       "      na_sales  eu_sales  jp_sales  other_sales  critic_score  user_score  \\\n",
       "240       4.21      0.24       0.0         0.05           NaN         NaN   \n",
       "736       2.06      0.12       0.0         0.02           NaN         NaN   \n",
       "773       1.99      0.12       0.0         0.02           NaN         NaN   \n",
       "866       1.84      0.11       0.0         0.02           NaN         NaN   \n",
       "1108      1.54      0.10       0.0         0.02           NaN         NaN   \n",
       "\n",
       "         rating  total_sales  \n",
       "240   NO_RATING         4.50  \n",
       "736   NO_RATING         2.20  \n",
       "773   NO_RATING         2.13  \n",
       "866   NO_RATING         1.97  \n",
       "1108  NO_RATING         1.66  "
      ]
     },
     "execution_count": 27,
     "metadata": {},
     "output_type": "execute_result"
    }
   ],
   "source": [
    "#сделаем срез по играм 1981 года и отсортируем их по объему продаж\n",
    "df.query('year_of_release==1981').sort_values(by='total_sales', ascending=False).head()"
   ]
  },
  {
   "cell_type": "markdown",
   "id": "51c4fe51",
   "metadata": {},
   "source": [
    "Игра с максимальным объемом продаж -  Pitfall!, а Ms. Pac-Man на 5м месте. Игра Pitfall! представляла собой платформер с боковым скроллингом, но не плавным, как в более современных платформерах, а со сменой экрана, то есть, когда герой доходит до конца экрана, появляется новый экран, всего же таких экранов в игре 255. Все экраны оформлены в одинаковом джунглевом стиле. Управлять приходилось искателем приключений по имени Гарри Питфал (англ. Pitfall Harry). Цель игры — за отведённые 20 минут собрать все 36 разложенные по экранам сокровища (золотые слитки, мешки с деньгами и кольца с драгоценными камнями), чему мешают многочисленные препятствия и враги."
   ]
  },
  {
   "cell_type": "code",
   "execution_count": 28,
   "id": "2c6309bb",
   "metadata": {},
   "outputs": [
    {
     "data": {
      "text/html": [
       "<div>\n",
       "<style scoped>\n",
       "    .dataframe tbody tr th:only-of-type {\n",
       "        vertical-align: middle;\n",
       "    }\n",
       "\n",
       "    .dataframe tbody tr th {\n",
       "        vertical-align: top;\n",
       "    }\n",
       "\n",
       "    .dataframe thead th {\n",
       "        text-align: right;\n",
       "    }\n",
       "</style>\n",
       "<table border=\"1\" class=\"dataframe\">\n",
       "  <thead>\n",
       "    <tr style=\"text-align: right;\">\n",
       "      <th></th>\n",
       "      <th>count</th>\n",
       "      <th>mean</th>\n",
       "      <th>std</th>\n",
       "      <th>min</th>\n",
       "      <th>25%</th>\n",
       "      <th>50%</th>\n",
       "      <th>75%</th>\n",
       "      <th>max</th>\n",
       "    </tr>\n",
       "  </thead>\n",
       "  <tbody>\n",
       "    <tr>\n",
       "      <th>sum</th>\n",
       "      <td>37.0</td>\n",
       "      <td>238.67</td>\n",
       "      <td>208.04</td>\n",
       "      <td>11.38</td>\n",
       "      <td>49.37</td>\n",
       "      <td>201.07</td>\n",
       "      <td>361.59</td>\n",
       "      <td>671.52</td>\n",
       "    </tr>\n",
       "  </tbody>\n",
       "</table>\n",
       "</div>"
      ],
      "text/plain": [
       "     count    mean     std    min    25%     50%     75%     max\n",
       "sum   37.0  238.67  208.04  11.38  49.37  201.07  361.59  671.52"
      ]
     },
     "execution_count": 28,
     "metadata": {},
     "output_type": "execute_result"
    }
   ],
   "source": [
    "#создадим сводную таблицу с общим объемом продаж по годам\n",
    "year_sales = df.pivot_table(index='year_of_release', values='total_sales', aggfunc='sum')  \n",
    "year_sales.columns = ['sum']\n",
    "year_sales.describe().T.round(2)"
   ]
  },
  {
   "cell_type": "code",
   "execution_count": 29,
   "id": "a5417c43",
   "metadata": {},
   "outputs": [
    {
     "data": {
      "image/png": "[encoded data removed]",
      "text/plain": [
       "<Figure size 1008x720 with 1 Axes>"
      ]
     },
     "metadata": {
      "needs_background": "light"
     },
     "output_type": "display_data"
    }
   ],
   "source": [
    "#поcтроим график\n",
    "f, ax = plt.subplots(figsize=(14, 10))\n",
    "ax = sns.barplot(y=year_sales.index, \n",
    "                 x='sum', \n",
    "                 data=year_sales, \n",
    "                 orient=\"h\") \n",
    "plt.xlabel('Количество, млн.копий')\n",
    "plt.ylabel('Годы')\n",
    "plt.gca().set_title('Мировые продажи по годам')\n",
    "\n",
    "for x, y in enumerate (year_sales['sum']):\n",
    "    plt.text(y, x, str(round(y)))\n",
    "\n",
    "plt.show()"
   ]
  },
  {
   "cell_type": "markdown",
   "id": "82b7820a",
   "metadata": {},
   "source": [
    "График общего объема продаж показывает, что резкий скачок произошел в 1996 году, более чем в 2 раза и дальше продажи росли до 2008 года. Дальше начался спад, вплоть до 2016 года. Ввиду того, что данные за 2016 год могут быть неполными, то выводы можем делать об общей динамике до 2015 года. За 7 полных лет (с 2008-го по 2015 год) объемы продаж уменьшились более чем в 2,5 раза.  \n",
    "\n",
    "По графику видно, что в 2012 году произошла стабилизация рынка после пика продаж. Возьмем для нашего дальнейшего анализа промежуток с 2012 по 2016 год.\n",
    "\n",
    "Посмотрим, какой средний срок жизни у платформ."
   ]
  },
  {
   "cell_type": "code",
   "execution_count": 30,
   "id": "9a4bf6bd",
   "metadata": {},
   "outputs": [
    {
     "data": {
      "text/html": [
       "<div>\n",
       "<style scoped>\n",
       "    .dataframe tbody tr th:only-of-type {\n",
       "        vertical-align: middle;\n",
       "    }\n",
       "\n",
       "    .dataframe tbody tr th {\n",
       "        vertical-align: top;\n",
       "    }\n",
       "\n",
       "    .dataframe thead th {\n",
       "        text-align: right;\n",
       "    }\n",
       "</style>\n",
       "<table border=\"1\" class=\"dataframe\">\n",
       "  <thead>\n",
       "    <tr style=\"text-align: right;\">\n",
       "      <th></th>\n",
       "      <th>count</th>\n",
       "      <th>mean</th>\n",
       "      <th>std</th>\n",
       "      <th>min</th>\n",
       "      <th>25%</th>\n",
       "      <th>50%</th>\n",
       "      <th>75%</th>\n",
       "      <th>max</th>\n",
       "    </tr>\n",
       "  </thead>\n",
       "  <tbody>\n",
       "    <tr>\n",
       "      <th>year_of_release</th>\n",
       "      <td>31.0</td>\n",
       "      <td>7.68</td>\n",
       "      <td>5.08</td>\n",
       "      <td>1.0</td>\n",
       "      <td>4.0</td>\n",
       "      <td>7.0</td>\n",
       "      <td>11.0</td>\n",
       "      <td>26.0</td>\n",
       "    </tr>\n",
       "  </tbody>\n",
       "</table>\n",
       "</div>"
      ],
      "text/plain": [
       "                 count  mean   std  min  25%  50%   75%   max\n",
       "year_of_release   31.0  7.68  5.08  1.0  4.0  7.0  11.0  26.0"
      ]
     },
     "execution_count": 30,
     "metadata": {},
     "output_type": "execute_result"
    }
   ],
   "source": [
    "#сгруппируем по платформам и годам, а дальше посчитаем количество уникальных строк в столбце с годом. \n",
    "df.groupby(['platform', 'year_of_release'])['total_sales'].sum() \\\n",
    "  .reset_index() \\\n",
    "  .pivot_table(index='platform', values='year_of_release', aggfunc='count') \\\n",
    "  .describe() \\\n",
    "  .T \\\n",
    "  .round(2)"
   ]
  },
  {
   "cell_type": "markdown",
   "id": "ed738f69",
   "metadata": {},
   "source": [
    "Среднее и медианное значение - 7 лет. Столько в среднем живут платформы."
   ]
  },
  {
   "cell_type": "markdown",
   "id": "1380dd47",
   "metadata": {},
   "source": [
    "Выберем топ 10 платформ по продажам за 2015, 2016 года. Нам нужно посмотреть их на актуальном промежутке: какие из них уходящие, а какие только набирают популярность."
   ]
  },
  {
   "cell_type": "code",
   "execution_count": 31,
   "id": "3c99b537",
   "metadata": {},
   "outputs": [
    {
     "data": {
      "text/plain": [
       "Index(['3DS', 'PC', 'PS3', 'PS4', 'PSP', 'PSV', 'Wii', 'WiiU', 'X360', 'XOne'], dtype='object', name='platform')"
      ]
     },
     "execution_count": 31,
     "metadata": {},
     "output_type": "execute_result"
    }
   ],
   "source": [
    "#создадим лист с названиями платформ, которые были лидерами продаж в 2015 и 2016\n",
    "list_of_top = df.query('year_of_release>=2015 and year_of_release<=2016') \\\n",
    "                .pivot_table(index='platform', \n",
    "                             values='total_sales', \n",
    "                             aggfunc='sum') \\\n",
    "                .sort_values(by='total_sales', ascending=False) \\\n",
    "                .head(10) \\\n",
    "                .index \\\n",
    "                .unique() \\\n",
    "                .sort_values()\n",
    "list_of_top"
   ]
  },
  {
   "cell_type": "code",
   "execution_count": 32,
   "id": "dc013450",
   "metadata": {},
   "outputs": [
    {
     "data": {
      "text/html": [
       "<div>\n",
       "<style scoped>\n",
       "    .dataframe tbody tr th:only-of-type {\n",
       "        vertical-align: middle;\n",
       "    }\n",
       "\n",
       "    .dataframe tbody tr th {\n",
       "        vertical-align: top;\n",
       "    }\n",
       "\n",
       "    .dataframe thead tr th {\n",
       "        text-align: left;\n",
       "    }\n",
       "\n",
       "    .dataframe thead tr:last-of-type th {\n",
       "        text-align: right;\n",
       "    }\n",
       "</style>\n",
       "<table border=\"1\" class=\"dataframe\">\n",
       "  <thead>\n",
       "    <tr>\n",
       "      <th></th>\n",
       "      <th colspan=\"10\" halign=\"left\">total_sales</th>\n",
       "    </tr>\n",
       "    <tr>\n",
       "      <th>platform</th>\n",
       "      <th>3DS</th>\n",
       "      <th>PC</th>\n",
       "      <th>PS3</th>\n",
       "      <th>PS4</th>\n",
       "      <th>PSP</th>\n",
       "      <th>PSV</th>\n",
       "      <th>Wii</th>\n",
       "      <th>WiiU</th>\n",
       "      <th>X360</th>\n",
       "      <th>XOne</th>\n",
       "    </tr>\n",
       "    <tr>\n",
       "      <th>year_of_release</th>\n",
       "      <th></th>\n",
       "      <th></th>\n",
       "      <th></th>\n",
       "      <th></th>\n",
       "      <th></th>\n",
       "      <th></th>\n",
       "      <th></th>\n",
       "      <th></th>\n",
       "      <th></th>\n",
       "      <th></th>\n",
       "    </tr>\n",
       "  </thead>\n",
       "  <tbody>\n",
       "    <tr>\n",
       "      <th>2012</th>\n",
       "      <td>51.36</td>\n",
       "      <td>23.22</td>\n",
       "      <td>107.36</td>\n",
       "      <td></td>\n",
       "      <td>7.69</td>\n",
       "      <td>16.19</td>\n",
       "      <td>21.71</td>\n",
       "      <td>17.56</td>\n",
       "      <td>99.74</td>\n",
       "      <td></td>\n",
       "    </tr>\n",
       "    <tr>\n",
       "      <th>2013</th>\n",
       "      <td>56.57</td>\n",
       "      <td>12.73</td>\n",
       "      <td>113.25</td>\n",
       "      <td>25.99</td>\n",
       "      <td>3.14</td>\n",
       "      <td>10.59</td>\n",
       "      <td>8.59</td>\n",
       "      <td>21.65</td>\n",
       "      <td>88.58</td>\n",
       "      <td>18.96</td>\n",
       "    </tr>\n",
       "    <tr>\n",
       "      <th>2014</th>\n",
       "      <td>43.76</td>\n",
       "      <td>13.28</td>\n",
       "      <td>47.76</td>\n",
       "      <td>100.0</td>\n",
       "      <td>0.24</td>\n",
       "      <td>11.90</td>\n",
       "      <td>3.75</td>\n",
       "      <td>22.03</td>\n",
       "      <td>34.74</td>\n",
       "      <td>54.07</td>\n",
       "    </tr>\n",
       "    <tr>\n",
       "      <th>2015</th>\n",
       "      <td>27.78</td>\n",
       "      <td>8.52</td>\n",
       "      <td>16.82</td>\n",
       "      <td>118.9</td>\n",
       "      <td>0.12</td>\n",
       "      <td>6.25</td>\n",
       "      <td>1.14</td>\n",
       "      <td>16.35</td>\n",
       "      <td>11.96</td>\n",
       "      <td>60.14</td>\n",
       "    </tr>\n",
       "    <tr>\n",
       "      <th>2016</th>\n",
       "      <td>15.14</td>\n",
       "      <td>5.25</td>\n",
       "      <td>3.60</td>\n",
       "      <td>69.25</td>\n",
       "      <td></td>\n",
       "      <td>4.25</td>\n",
       "      <td>0.18</td>\n",
       "      <td>4.60</td>\n",
       "      <td>1.52</td>\n",
       "      <td>26.15</td>\n",
       "    </tr>\n",
       "  </tbody>\n",
       "</table>\n",
       "</div>"
      ],
      "text/plain": [
       "                total_sales                                                   \\\n",
       "platform                3DS     PC     PS3    PS4   PSP    PSV    Wii   WiiU   \n",
       "year_of_release                                                                \n",
       "2012                  51.36  23.22  107.36         7.69  16.19  21.71  17.56   \n",
       "2013                  56.57  12.73  113.25  25.99  3.14  10.59   8.59  21.65   \n",
       "2014                  43.76  13.28   47.76  100.0  0.24  11.90   3.75  22.03   \n",
       "2015                  27.78   8.52   16.82  118.9  0.12   6.25   1.14  16.35   \n",
       "2016                  15.14   5.25    3.60  69.25         4.25   0.18   4.60   \n",
       "\n",
       "                               \n",
       "platform          X360   XOne  \n",
       "year_of_release                \n",
       "2012             99.74         \n",
       "2013             88.58  18.96  \n",
       "2014             34.74  54.07  \n",
       "2015             11.96  60.14  \n",
       "2016              1.52  26.15  "
      ]
     },
     "execution_count": 32,
     "metadata": {},
     "output_type": "execute_result"
    }
   ],
   "source": [
    "#оставим срез за 2012-2016 года\n",
    "df_12_16 = df.query('year_of_release>=2012 and year_of_release<=2016 and platform in @list_of_top')\n",
    "\n",
    "#сгруппируем по годам и платформам\n",
    "df_12_16_pivot = df_12_16.pivot_table(index=['year_of_release','platform'], values='total_sales', aggfunc='sum')\n",
    "df_12_16_pivot.columns = ['total_sales']\n",
    "df_12_16_pivot.unstack().fillna('')"
   ]
  },
  {
   "cell_type": "markdown",
   "id": "2a5556bb",
   "metadata": {},
   "source": [
    "Абсолютные цифры не показательны в данном случае. Есть смысл вычислить долю в общем объеме за каждый год и посмотреть как меняется ситауация."
   ]
  },
  {
   "cell_type": "code",
   "execution_count": 33,
   "id": "0d61fbb0",
   "metadata": {},
   "outputs": [
    {
     "data": {
      "text/html": [
       "<div>\n",
       "<style scoped>\n",
       "    .dataframe tbody tr th:only-of-type {\n",
       "        vertical-align: middle;\n",
       "    }\n",
       "\n",
       "    .dataframe tbody tr th {\n",
       "        vertical-align: top;\n",
       "    }\n",
       "\n",
       "    .dataframe thead tr th {\n",
       "        text-align: left;\n",
       "    }\n",
       "\n",
       "    .dataframe thead tr:last-of-type th {\n",
       "        text-align: right;\n",
       "    }\n",
       "</style>\n",
       "<table border=\"1\" class=\"dataframe\">\n",
       "  <thead>\n",
       "    <tr>\n",
       "      <th></th>\n",
       "      <th colspan=\"10\" halign=\"left\">ratio</th>\n",
       "    </tr>\n",
       "    <tr>\n",
       "      <th>platform</th>\n",
       "      <th>3DS</th>\n",
       "      <th>PC</th>\n",
       "      <th>PS3</th>\n",
       "      <th>PS4</th>\n",
       "      <th>PSP</th>\n",
       "      <th>PSV</th>\n",
       "      <th>Wii</th>\n",
       "      <th>WiiU</th>\n",
       "      <th>X360</th>\n",
       "      <th>XOne</th>\n",
       "    </tr>\n",
       "    <tr>\n",
       "      <th>year_of_release</th>\n",
       "      <th></th>\n",
       "      <th></th>\n",
       "      <th></th>\n",
       "      <th></th>\n",
       "      <th></th>\n",
       "      <th></th>\n",
       "      <th></th>\n",
       "      <th></th>\n",
       "      <th></th>\n",
       "      <th></th>\n",
       "    </tr>\n",
       "  </thead>\n",
       "  <tbody>\n",
       "    <tr>\n",
       "      <th>2012</th>\n",
       "      <td>14.89</td>\n",
       "      <td>6.73</td>\n",
       "      <td>31.13</td>\n",
       "      <td></td>\n",
       "      <td>2.23</td>\n",
       "      <td>4.70</td>\n",
       "      <td>6.30</td>\n",
       "      <td>5.09</td>\n",
       "      <td>28.92</td>\n",
       "      <td></td>\n",
       "    </tr>\n",
       "    <tr>\n",
       "      <th>2013</th>\n",
       "      <td>15.71</td>\n",
       "      <td>3.54</td>\n",
       "      <td>31.45</td>\n",
       "      <td>7.22</td>\n",
       "      <td>0.87</td>\n",
       "      <td>2.94</td>\n",
       "      <td>2.39</td>\n",
       "      <td>6.01</td>\n",
       "      <td>24.60</td>\n",
       "      <td>5.27</td>\n",
       "    </tr>\n",
       "    <tr>\n",
       "      <th>2014</th>\n",
       "      <td>13.20</td>\n",
       "      <td>4.01</td>\n",
       "      <td>14.41</td>\n",
       "      <td>30.16</td>\n",
       "      <td>0.07</td>\n",
       "      <td>3.59</td>\n",
       "      <td>1.13</td>\n",
       "      <td>6.64</td>\n",
       "      <td>10.48</td>\n",
       "      <td>16.31</td>\n",
       "    </tr>\n",
       "    <tr>\n",
       "      <th>2015</th>\n",
       "      <td>10.37</td>\n",
       "      <td>3.18</td>\n",
       "      <td>6.28</td>\n",
       "      <td>44.37</td>\n",
       "      <td>0.04</td>\n",
       "      <td>2.33</td>\n",
       "      <td>0.43</td>\n",
       "      <td>6.10</td>\n",
       "      <td>4.46</td>\n",
       "      <td>22.44</td>\n",
       "    </tr>\n",
       "    <tr>\n",
       "      <th>2016</th>\n",
       "      <td>11.65</td>\n",
       "      <td>4.04</td>\n",
       "      <td>2.77</td>\n",
       "      <td>53.29</td>\n",
       "      <td></td>\n",
       "      <td>3.27</td>\n",
       "      <td>0.14</td>\n",
       "      <td>3.54</td>\n",
       "      <td>1.17</td>\n",
       "      <td>20.12</td>\n",
       "    </tr>\n",
       "  </tbody>\n",
       "</table>\n",
       "</div>"
      ],
      "text/plain": [
       "                 ratio                                                     \\\n",
       "platform           3DS    PC    PS3    PS4   PSP   PSV   Wii  WiiU   X360   \n",
       "year_of_release                                                             \n",
       "2012             14.89  6.73  31.13         2.23  4.70  6.30  5.09  28.92   \n",
       "2013             15.71  3.54  31.45   7.22  0.87  2.94  2.39  6.01  24.60   \n",
       "2014             13.20  4.01  14.41  30.16  0.07  3.59  1.13  6.64  10.48   \n",
       "2015             10.37  3.18   6.28  44.37  0.04  2.33  0.43  6.10   4.46   \n",
       "2016             11.65  4.04   2.77  53.29        3.27  0.14  3.54   1.17   \n",
       "\n",
       "                        \n",
       "platform          XOne  \n",
       "year_of_release         \n",
       "2012                    \n",
       "2013              5.27  \n",
       "2014             16.31  \n",
       "2015             22.44  \n",
       "2016             20.12  "
      ]
     },
     "execution_count": 33,
     "metadata": {},
     "output_type": "execute_result"
    }
   ],
   "source": [
    "df_12_16_pivot['ratio'] = df_12_16_pivot['total_sales'].div(df_12_16.groupby('year_of_release')['total_sales'].sum())\n",
    "df_12_16_pivot['ratio'] = round(df_12_16_pivot['ratio']*100, 2)\n",
    "df_predict  = df_12_16_pivot.drop(columns = ['total_sales'])\n",
    "df_predict.unstack().fillna('')"
   ]
  },
  {
   "cell_type": "markdown",
   "id": "5c697e27",
   "metadata": {},
   "source": [
    "Уже лучше, но на графике будет еще нагляднее. Выберем хитмэп. "
   ]
  },
  {
   "cell_type": "code",
   "execution_count": 37,
   "id": "c4ed2ee7",
   "metadata": {},
   "outputs": [
    {
     "data": {
      "text/html": [
       "<div>\n",
       "<style scoped>\n",
       "    .dataframe tbody tr th:only-of-type {\n",
       "        vertical-align: middle;\n",
       "    }\n",
       "\n",
       "    .dataframe tbody tr th {\n",
       "        vertical-align: top;\n",
       "    }\n",
       "\n",
       "    .dataframe thead th {\n",
       "        text-align: right;\n",
       "    }\n",
       "</style>\n",
       "<table border=\"1\" class=\"dataframe\">\n",
       "  <thead>\n",
       "    <tr style=\"text-align: right;\">\n",
       "      <th>platform</th>\n",
       "      <th>3DS</th>\n",
       "      <th>PC</th>\n",
       "      <th>PS3</th>\n",
       "      <th>PS4</th>\n",
       "      <th>PSP</th>\n",
       "      <th>PSV</th>\n",
       "      <th>Wii</th>\n",
       "      <th>WiiU</th>\n",
       "      <th>X360</th>\n",
       "      <th>XOne</th>\n",
       "    </tr>\n",
       "    <tr>\n",
       "      <th>year_of_release</th>\n",
       "      <th></th>\n",
       "      <th></th>\n",
       "      <th></th>\n",
       "      <th></th>\n",
       "      <th></th>\n",
       "      <th></th>\n",
       "      <th></th>\n",
       "      <th></th>\n",
       "      <th></th>\n",
       "      <th></th>\n",
       "    </tr>\n",
       "  </thead>\n",
       "  <tbody>\n",
       "    <tr>\n",
       "      <th>2012</th>\n",
       "      <td>14.89</td>\n",
       "      <td>6.73</td>\n",
       "      <td>31.13</td>\n",
       "      <td>NaN</td>\n",
       "      <td>2.23</td>\n",
       "      <td>4.70</td>\n",
       "      <td>6.30</td>\n",
       "      <td>5.09</td>\n",
       "      <td>28.92</td>\n",
       "      <td>NaN</td>\n",
       "    </tr>\n",
       "    <tr>\n",
       "      <th>2013</th>\n",
       "      <td>15.71</td>\n",
       "      <td>3.54</td>\n",
       "      <td>31.45</td>\n",
       "      <td>7.22</td>\n",
       "      <td>0.87</td>\n",
       "      <td>2.94</td>\n",
       "      <td>2.39</td>\n",
       "      <td>6.01</td>\n",
       "      <td>24.60</td>\n",
       "      <td>5.27</td>\n",
       "    </tr>\n",
       "    <tr>\n",
       "      <th>2014</th>\n",
       "      <td>13.20</td>\n",
       "      <td>4.01</td>\n",
       "      <td>14.41</td>\n",
       "      <td>30.16</td>\n",
       "      <td>0.07</td>\n",
       "      <td>3.59</td>\n",
       "      <td>1.13</td>\n",
       "      <td>6.64</td>\n",
       "      <td>10.48</td>\n",
       "      <td>16.31</td>\n",
       "    </tr>\n",
       "    <tr>\n",
       "      <th>2015</th>\n",
       "      <td>10.37</td>\n",
       "      <td>3.18</td>\n",
       "      <td>6.28</td>\n",
       "      <td>44.37</td>\n",
       "      <td>0.04</td>\n",
       "      <td>2.33</td>\n",
       "      <td>0.43</td>\n",
       "      <td>6.10</td>\n",
       "      <td>4.46</td>\n",
       "      <td>22.44</td>\n",
       "    </tr>\n",
       "    <tr>\n",
       "      <th>2016</th>\n",
       "      <td>11.65</td>\n",
       "      <td>4.04</td>\n",
       "      <td>2.77</td>\n",
       "      <td>53.29</td>\n",
       "      <td>NaN</td>\n",
       "      <td>3.27</td>\n",
       "      <td>0.14</td>\n",
       "      <td>3.54</td>\n",
       "      <td>1.17</td>\n",
       "      <td>20.12</td>\n",
       "    </tr>\n",
       "  </tbody>\n",
       "</table>\n",
       "</div>"
      ],
      "text/plain": [
       "platform           3DS    PC    PS3    PS4   PSP   PSV   Wii  WiiU   X360  \\\n",
       "year_of_release                                                             \n",
       "2012             14.89  6.73  31.13    NaN  2.23  4.70  6.30  5.09  28.92   \n",
       "2013             15.71  3.54  31.45   7.22  0.87  2.94  2.39  6.01  24.60   \n",
       "2014             13.20  4.01  14.41  30.16  0.07  3.59  1.13  6.64  10.48   \n",
       "2015             10.37  3.18   6.28  44.37  0.04  2.33  0.43  6.10   4.46   \n",
       "2016             11.65  4.04   2.77  53.29   NaN  3.27  0.14  3.54   1.17   \n",
       "\n",
       "platform          XOne  \n",
       "year_of_release         \n",
       "2012               NaN  \n",
       "2013              5.27  \n",
       "2014             16.31  \n",
       "2015             22.44  \n",
       "2016             20.12  "
      ]
     },
     "execution_count": 37,
     "metadata": {},
     "output_type": "execute_result"
    }
   ],
   "source": [
    "heatmap_data"
   ]
  },
  {
   "cell_type": "code",
   "execution_count": 34,
   "id": "7f03e668",
   "metadata": {},
   "outputs": [
    {
     "data": {
      "image/png": "[encoded data removed]",
      "text/plain": [
       "<Figure size 1080x360 with 2 Axes>"
      ]
     },
     "metadata": {
      "needs_background": "light"
     },
     "output_type": "display_data"
    }
   ],
   "source": [
    "heatmap_data=df_predict.reset_index().pivot('year_of_release', 'platform', 'ratio')\n",
    "\n",
    "plt.figure(figsize=(15,5))\n",
    "g = sns.heatmap(\n",
    "    heatmap_data, \n",
    "    cbar_kws={'fraction' : 0.01}, \n",
    "    cmap='OrRd', \n",
    "    linewidth=1,\n",
    "    annot=True\n",
    ")\n",
    "g.set_xticklabels(g.get_xticklabels(), rotation=0, horizontalalignment='right')\n",
    "g.set_yticklabels(g.get_yticklabels(), rotation=0, horizontalalignment='right')\n",
    "g.set_title('Доля, %')\n",
    "plt.xlabel('Платформы')\n",
    "plt.ylabel('Годы')\n",
    "plt.show()\n"
   ]
  },
  {
   "cell_type": "markdown",
   "id": "0e84b8ae",
   "metadata": {},
   "source": [
    "На хитмепе очень хорошо видно как происходит смена поколений: PS3 угасает, PS4 набирает популярность, тоже самое просходит с парами: Wii - WiiU, X360 - XOne, PSP - PSV, а PC стабильно занимает свои 3-7%. "
   ]
  },
  {
   "cell_type": "markdown",
   "id": "695611bd",
   "metadata": {},
   "source": [
    "Постром график «ящик с усами» по глобальным продажам игр в разбивке по платформам."
   ]
  },
  {
   "cell_type": "code",
   "execution_count": 36,
   "id": "0243d514",
   "metadata": {},
   "outputs": [
    {
     "data": {
      "text/html": [
       "<div>\n",
       "<style scoped>\n",
       "    .dataframe tbody tr th:only-of-type {\n",
       "        vertical-align: middle;\n",
       "    }\n",
       "\n",
       "    .dataframe tbody tr th {\n",
       "        vertical-align: top;\n",
       "    }\n",
       "\n",
       "    .dataframe thead th {\n",
       "        text-align: right;\n",
       "    }\n",
       "</style>\n",
       "<table border=\"1\" class=\"dataframe\">\n",
       "  <thead>\n",
       "    <tr style=\"text-align: right;\">\n",
       "      <th>platform</th>\n",
       "      <th>X360</th>\n",
       "      <th>WiiU</th>\n",
       "      <th>XOne</th>\n",
       "      <th>PS4</th>\n",
       "      <th>PS3</th>\n",
       "      <th>Wii</th>\n",
       "      <th>3DS</th>\n",
       "      <th>PC</th>\n",
       "      <th>PSV</th>\n",
       "      <th>PSP</th>\n",
       "    </tr>\n",
       "  </thead>\n",
       "  <tbody>\n",
       "    <tr>\n",
       "      <th>total_sales</th>\n",
       "      <td>0.31</td>\n",
       "      <td>0.22</td>\n",
       "      <td>0.22</td>\n",
       "      <td>0.2</td>\n",
       "      <td>0.2</td>\n",
       "      <td>0.18</td>\n",
       "      <td>0.11</td>\n",
       "      <td>0.08</td>\n",
       "      <td>0.05</td>\n",
       "      <td>0.03</td>\n",
       "    </tr>\n",
       "  </tbody>\n",
       "</table>\n",
       "</div>"
      ],
      "text/plain": [
       "platform     X360  WiiU  XOne  PS4  PS3   Wii   3DS    PC   PSV   PSP\n",
       "total_sales  0.31  0.22  0.22  0.2  0.2  0.18  0.11  0.08  0.05  0.03"
      ]
     },
     "execution_count": 36,
     "metadata": {},
     "output_type": "execute_result"
    }
   ],
   "source": [
    "#для наглядности также сгруппируем по платформам и посчитаем медианы\n",
    "df_12_16[['platform', 'total_sales']].groupby('platform').median().sort_values(by='total_sales', ascending=False).T"
   ]
  },
  {
   "cell_type": "code",
   "execution_count": 37,
   "id": "a3940c69",
   "metadata": {},
   "outputs": [
    {
     "data": {
      "image/png": "[encoded data removed]",
      "text/plain": [
       "<Figure size 1080x360 with 1 Axes>"
      ]
     },
     "metadata": {
      "needs_background": "light"
     },
     "output_type": "display_data"
    }
   ],
   "source": [
    "#посмотроим диаграмму размаха по глобальным продажам игр в разбивке по платформам\n",
    "plot = df_12_16.boxplot(\n",
    "       column = 'total_sales', \n",
    "       by = 'platform', \n",
    "       figsize=(15,5)\n",
    ")\n",
    "plt.gca().set_title('Диаграмма размаха по продажам игр')\n",
    "plt.xlabel('Платформы')\n",
    "plt.ylabel('млн. копий')\n",
    "plt.ylim(0,2.1)\n",
    "plt.show()"
   ]
  },
  {
   "cell_type": "markdown",
   "id": "11b7a3f8",
   "metadata": {
    "scrolled": true
   },
   "source": [
    "За 5 лет медианные значения по объему проданных игр у предыдущих поколений чуть больше, чем у новых. Оно и понятно, ведь старые поколения дольше на рынке. Лидеры по медианному значению - X360,\tWiiU,\tXOne,\tPS4,\tPS3 .\n",
    "\n",
    "По диаграмме размаха видно, что фактически, для платформ - лидеров максимальные значения находятся в диапазоне от 1 до 2х млн. копий. Все что больше этих значений являются выбросами. Для остальных же платформ этот диапазон равен 0.2  - 1.5 млн.копий."
   ]
  },
  {
   "cell_type": "markdown",
   "id": "630b2956",
   "metadata": {},
   "source": [
    "Посмотрим, как влияют на продажи внутри одной популярной платформы отзывы пользователей и критиков. Построим диаграмму рассеяния и посчитаем корреляцию между отзывами и продажами. \n"
   ]
  },
  {
   "cell_type": "code",
   "execution_count": 38,
   "id": "ecaf8894",
   "metadata": {},
   "outputs": [
    {
     "data": {
      "text/plain": [
       "array(['3DS', 'PS4', 'XOne'], dtype=object)"
      ]
     },
     "execution_count": 38,
     "metadata": {},
     "output_type": "execute_result"
    }
   ],
   "source": [
    "#создадим спикок перспективных платформ, те что в 2015 и 2016 году занимали больше 10% от общей доли продаж\n",
    "platform_list = df_predict.reset_index() \\\n",
    "                          .query('(year_of_release == 2015 or year_of_release == 2016) and ratio>10')['platform'] \\\n",
    "                          .unique()\n",
    "platform_list"
   ]
  },
  {
   "cell_type": "code",
   "execution_count": 39,
   "id": "46a4a996",
   "metadata": {},
   "outputs": [
    {
     "data": {
      "text/html": [
       "<div>\n",
       "<style scoped>\n",
       "    .dataframe tbody tr th:only-of-type {\n",
       "        vertical-align: middle;\n",
       "    }\n",
       "\n",
       "    .dataframe tbody tr th {\n",
       "        vertical-align: top;\n",
       "    }\n",
       "\n",
       "    .dataframe thead th {\n",
       "        text-align: right;\n",
       "    }\n",
       "</style>\n",
       "<table border=\"1\" class=\"dataframe\">\n",
       "  <thead>\n",
       "    <tr style=\"text-align: right;\">\n",
       "      <th></th>\n",
       "      <th></th>\n",
       "      <th>total_sales</th>\n",
       "      <th>user_score</th>\n",
       "      <th>critic_score</th>\n",
       "    </tr>\n",
       "    <tr>\n",
       "      <th>platform</th>\n",
       "      <th></th>\n",
       "      <th></th>\n",
       "      <th></th>\n",
       "      <th></th>\n",
       "    </tr>\n",
       "  </thead>\n",
       "  <tbody>\n",
       "    <tr>\n",
       "      <th rowspan=\"3\" valign=\"top\">3DS</th>\n",
       "      <th>total_sales</th>\n",
       "      <td>1.00</td>\n",
       "      <td>0.20</td>\n",
       "      <td>0.32</td>\n",
       "    </tr>\n",
       "    <tr>\n",
       "      <th>user_score</th>\n",
       "      <td>0.20</td>\n",
       "      <td>1.00</td>\n",
       "      <td>0.72</td>\n",
       "    </tr>\n",
       "    <tr>\n",
       "      <th>critic_score</th>\n",
       "      <td>0.32</td>\n",
       "      <td>0.72</td>\n",
       "      <td>1.00</td>\n",
       "    </tr>\n",
       "  </tbody>\n",
       "</table>\n",
       "</div>"
      ],
      "text/plain": [
       "                       total_sales  user_score  critic_score\n",
       "platform                                                    \n",
       "3DS      total_sales          1.00        0.20          0.32\n",
       "         user_score           0.20        1.00          0.72\n",
       "         critic_score         0.32        0.72          1.00"
      ]
     },
     "metadata": {},
     "output_type": "display_data"
    },
    {
     "data": {
      "text/html": [
       "<div>\n",
       "<style scoped>\n",
       "    .dataframe tbody tr th:only-of-type {\n",
       "        vertical-align: middle;\n",
       "    }\n",
       "\n",
       "    .dataframe tbody tr th {\n",
       "        vertical-align: top;\n",
       "    }\n",
       "\n",
       "    .dataframe thead th {\n",
       "        text-align: right;\n",
       "    }\n",
       "</style>\n",
       "<table border=\"1\" class=\"dataframe\">\n",
       "  <thead>\n",
       "    <tr style=\"text-align: right;\">\n",
       "      <th></th>\n",
       "      <th></th>\n",
       "      <th>total_sales</th>\n",
       "      <th>user_score</th>\n",
       "      <th>critic_score</th>\n",
       "    </tr>\n",
       "    <tr>\n",
       "      <th>platform</th>\n",
       "      <th></th>\n",
       "      <th></th>\n",
       "      <th></th>\n",
       "      <th></th>\n",
       "    </tr>\n",
       "  </thead>\n",
       "  <tbody>\n",
       "    <tr>\n",
       "      <th rowspan=\"3\" valign=\"top\">PS4</th>\n",
       "      <th>total_sales</th>\n",
       "      <td>1.00</td>\n",
       "      <td>-0.03</td>\n",
       "      <td>0.41</td>\n",
       "    </tr>\n",
       "    <tr>\n",
       "      <th>user_score</th>\n",
       "      <td>-0.03</td>\n",
       "      <td>1.00</td>\n",
       "      <td>0.56</td>\n",
       "    </tr>\n",
       "    <tr>\n",
       "      <th>critic_score</th>\n",
       "      <td>0.41</td>\n",
       "      <td>0.56</td>\n",
       "      <td>1.00</td>\n",
       "    </tr>\n",
       "  </tbody>\n",
       "</table>\n",
       "</div>"
      ],
      "text/plain": [
       "                       total_sales  user_score  critic_score\n",
       "platform                                                    \n",
       "PS4      total_sales          1.00       -0.03          0.41\n",
       "         user_score          -0.03        1.00          0.56\n",
       "         critic_score         0.41        0.56          1.00"
      ]
     },
     "metadata": {},
     "output_type": "display_data"
    },
    {
     "data": {
      "text/html": [
       "<div>\n",
       "<style scoped>\n",
       "    .dataframe tbody tr th:only-of-type {\n",
       "        vertical-align: middle;\n",
       "    }\n",
       "\n",
       "    .dataframe tbody tr th {\n",
       "        vertical-align: top;\n",
       "    }\n",
       "\n",
       "    .dataframe thead th {\n",
       "        text-align: right;\n",
       "    }\n",
       "</style>\n",
       "<table border=\"1\" class=\"dataframe\">\n",
       "  <thead>\n",
       "    <tr style=\"text-align: right;\">\n",
       "      <th></th>\n",
       "      <th></th>\n",
       "      <th>total_sales</th>\n",
       "      <th>user_score</th>\n",
       "      <th>critic_score</th>\n",
       "    </tr>\n",
       "    <tr>\n",
       "      <th>platform</th>\n",
       "      <th></th>\n",
       "      <th></th>\n",
       "      <th></th>\n",
       "      <th></th>\n",
       "    </tr>\n",
       "  </thead>\n",
       "  <tbody>\n",
       "    <tr>\n",
       "      <th rowspan=\"3\" valign=\"top\">XOne</th>\n",
       "      <th>total_sales</th>\n",
       "      <td>1.00</td>\n",
       "      <td>-0.07</td>\n",
       "      <td>0.42</td>\n",
       "    </tr>\n",
       "    <tr>\n",
       "      <th>user_score</th>\n",
       "      <td>-0.07</td>\n",
       "      <td>1.00</td>\n",
       "      <td>0.47</td>\n",
       "    </tr>\n",
       "    <tr>\n",
       "      <th>critic_score</th>\n",
       "      <td>0.42</td>\n",
       "      <td>0.47</td>\n",
       "      <td>1.00</td>\n",
       "    </tr>\n",
       "  </tbody>\n",
       "</table>\n",
       "</div>"
      ],
      "text/plain": [
       "                       total_sales  user_score  critic_score\n",
       "platform                                                    \n",
       "XOne     total_sales          1.00       -0.07          0.42\n",
       "         user_score          -0.07        1.00          0.47\n",
       "         critic_score         0.42        0.47          1.00"
      ]
     },
     "metadata": {},
     "output_type": "display_data"
    }
   ],
   "source": [
    "#посчитаем корреляцию для этих трех платформ\n",
    "for i in platform_list:\n",
    "    display(df_12_16.query('platform == @i') \\\n",
    "                    .groupby('platform')[['total_sales','user_score', 'critic_score']] \\\n",
    "                    .corr().round(2))"
   ]
  },
  {
   "cell_type": "markdown",
   "id": "d6ca7e36",
   "metadata": {},
   "source": [
    "В целом, зависимость не очень большая. Максимальная зависимость есть между оценками критиков и продажами, особенно для платформы XOne показатель равен 0.42. От оценок пользователей продажи не зависят, есть даже небольшая обратная зависимость для XOne и PS4. Посмотрим диаграмму рассеяния."
   ]
  },
  {
   "cell_type": "code",
   "execution_count": 40,
   "id": "86a2166e",
   "metadata": {
    "scrolled": false
   },
   "outputs": [
    {
     "data": {
      "image/png": "[encoded data removed]",
      "text/plain": [
       "<Figure size 1080x216 with 2 Axes>"
      ]
     },
     "metadata": {
      "needs_background": "light"
     },
     "output_type": "display_data"
    },
    {
     "data": {
      "image/png": "[encoded data removed]",
      "text/plain": [
       "<Figure size 1080x216 with 2 Axes>"
      ]
     },
     "metadata": {
      "needs_background": "light"
     },
     "output_type": "display_data"
    },
    {
     "data": {
      "image/png": "[encoded data removed]",
      "text/plain": [
       "<Figure size 1080x216 with 2 Axes>"
      ]
     },
     "metadata": {
      "needs_background": "light"
     },
     "output_type": "display_data"
    }
   ],
   "source": [
    "#построим диаграмму рассеяния зависимости между отзывами и продажами\n",
    "for i in platform_list:\n",
    "    fig, axes = plt.subplots(1,2, figsize=(15,3))\n",
    "    #оценка критиков\n",
    "    df_12_16[['platform','total_sales','critic_score']].query('platform == @i') \\\n",
    "                                                       .plot(x = 'critic_score', \\\n",
    "                                                             y = 'total_sales', \\\n",
    "                                                             kind='scatter', \\\n",
    "                                                             grid=True, \\\n",
    "                                                             alpha = 0.7, \\\n",
    "                                                             ax=axes[0])\n",
    "    axes[0].set_title('корреляция между оценкой критиков и продажами '+i)\n",
    "    axes[0].set_ylabel('общие продажи, млн.копий')\n",
    "    axes[0].set_xlabel('оценка критиков (максимум 100)')    \n",
    "    \n",
    "    #оценка пользователей\n",
    "    df_12_16[['platform','total_sales','user_score']].query('platform == @i') \\\n",
    "                                                     .plot(x = 'user_score', \\\n",
    "                                                           y = 'total_sales', \\\n",
    "                                                           kind='scatter', \\\n",
    "                                                           grid=True, \\\n",
    "                                                           alpha = 0.7, \\\n",
    "                                                           ax=axes[1])    \n",
    "    axes[1].set_title('корреляция между оценкой пользователей и продажами '+i)\n",
    "    axes[1].set_ylabel('общие продажи, млн.копий')\n",
    "    axes[1].set_xlabel('оценка пользователей (максимум 10)')\n",
    "\n",
    "plt.show()"
   ]
  },
  {
   "cell_type": "markdown",
   "id": "dfb44390",
   "metadata": {},
   "source": [
    "Диаграмма рассеяния подтверждает это. Продажи больше зависят от оценки критиков, чем оценок покупателей."
   ]
  },
  {
   "cell_type": "markdown",
   "id": "3c631b0d",
   "metadata": {},
   "source": [
    "Посмотрим на общее распределение игр по жанрам."
   ]
  },
  {
   "cell_type": "code",
   "execution_count": 41,
   "id": "0deb06f7",
   "metadata": {},
   "outputs": [
    {
     "data": {
      "image/png": "[encoded data removed]",
      "text/plain": [
       "<Figure size 1152x432 with 1 Axes>"
      ]
     },
     "metadata": {
      "needs_background": "light"
     },
     "output_type": "display_data"
    }
   ],
   "source": [
    "#соберем данные в сводную таблицу по жанру, где значенями будут медианные общие продажи, по убыванию\n",
    "df_genre = df_12_16.pivot_table(index='genre', values='total_sales', aggfunc='median') \\\n",
    "                   .sort_values(by='total_sales', ascending=False)\n",
    "\n",
    "#построим столбчатую диаграмму \n",
    "df_genre.plot(y='total_sales', \n",
    "              kind='bar', \n",
    "              figsize=(16, 6),\n",
    "              legend=None)\n",
    "\n",
    "sns.barplot(x=df_genre.index, y=df_genre['total_sales'], palette = \"Blues_r\")\n",
    "plt.ylabel('млн.копий')\n",
    "plt.xlabel('жанр')\n",
    "\n",
    "#покажем значение над каждым баром\n",
    "for x, y in enumerate (df_genre['total_sales']):\n",
    "    plt.text(x, y, str(round(y, 2)), ha = 'center', va='bottom')\n",
    "\n",
    "plt.show()"
   ]
  },
  {
   "cell_type": "markdown",
   "id": "958e6f3d",
   "metadata": {},
   "source": [
    "- Action - Имеет акцент на борьбе, включает в себя прохождение определённых уровней для достижения битвы с боссами,\n",
    "- Adventure - Делает упор на головоломки без высокой активности,\n",
    "- Fighting - Основное внимание уделяется бою один на один,\n",
    "- Misc - Игры не вошедшие в классификацию (другие),\n",
    "- Platform - Основное внимание уделяется прыжкам или сложностям навигации, часто включают в себя элементы игр-экшенов,\n",
    "- Puzzle - Сосредоточена на решение абстрактных головоломок,\n",
    "- Racing - Соревнованиями по времени между персонажами или транспортными средствами,\n",
    "- Role-playing (RPG) - Сосредоточена на решении проблем, взаимодействии с неигровыми персонажами, участии в боях, статистическом развитии персонажа,\n",
    "- Shooter - Стрелялка, англ. shooter — «стрелок»,\n",
    "- Simulation - Имитация реальных процессов, часто без указания цели,\n",
    "- Sports - Отражают соревнования по существующим видам спорта,\n",
    "- Strategy -  Стратегия, игра акцентом на тактические управление ресурсами и территорией против оппонента"
   ]
  },
  {
   "cell_type": "markdown",
   "id": "dbb86ebb",
   "metadata": {},
   "source": [
    "Медианные значения по объему продаж в расчете на единицу игры больше всего в жанрах Shooter - 0.44, Sport - 0.24 и Platform - 0.21, меньше всего в жанре Adventure - 0.03 и Puzzle - 0.06."
   ]
  },
  {
   "cell_type": "markdown",
   "id": "7ccedcc3",
   "metadata": {},
   "source": [
    "### Вывод\n",
    "<a id='3.1'></a>"
   ]
  },
  {
   "cell_type": "markdown",
   "id": "a57df39b",
   "metadata": {},
   "source": [
    "- График с количеством выпущенных игр по годам показал, что больше всего игр выпускалось в 2008 и 2009 годах - 1427 и 1426 соответственно, меньше всего в 1980 - 9.\n",
    "- График общего объема продаж показывает, что резкий скачок произошел в 1996 году, более чем в 2 раза и дальше продажи росли до 2008 года. Дальше начался спад, вплоть до 2016 года. Так как данные за 2016 год могут быть неполными, то выводы можем делать об общей динамике до 2015 года. За 7 полных лет (с 2008-го по 2015 год) объемы продаж уменьшились в 2,5 раза. \n",
    "- Характерный срок появления новых и исчезновения старых платформ равен 7 годам. За это время поколения платформ сменяют друг друга. PS3 сменилось на PS4, Wii на WiiU, X360 на XOne, PSP на PSV, а PC занимает от 3 до 7%. \n",
    "- **Актуальный период для анализа определили как 2012 - 2016**\n",
    "- Выявили, что лидерами продаж за 2015 и 2016 года стали: '3DS', 'PC', 'PS3', 'PS4', 'PSP', 'PSV', 'Wii', 'WiiU', 'X360', 'XOne'. \n",
    "- График «ящик с усами» по глобальным продажам игр в разбивке по платформам показал, что за 5 лет медианные значения по объему проданных копий у предыдущих поколений платформ чуть больше, чем у новых. Оно и понятно, ведь старые поколения дольше на рынке. Лидеры по медианному значению: X360 - 0.31 , XOne - 0.22, WiiU - 0.22, PS3/PS4 - 0.20. Меньше всего значение для платформ PSP - 0.03, PSV - 0.05, PC - 0.08.\n",
    "- Коэффициент корреляции и диаграмма рассеяния показала, что максимальная зависимость есть между оценками критиков и продажами, особенно для платформы XOne показатель равен 0.42. От оценок пользователей продажи не зависят, есть даже небольшая обратная зависимость для XOne и PS4.\n",
    "- Медианные значения по объему продаж в расчете на единицу игры больше всего в жанрах Shooter - 0.44, Sport - 0.24 и Platform - 0.21, меньше всего в жанре Adventure - 0.03 и Puzzle - 0.06."
   ]
  },
  {
   "cell_type": "markdown",
   "id": "c3bff72a",
   "metadata": {},
   "source": [
    "## Шаг 4  Портрет пользователя каждого региона\n",
    "<a id='4'></a>"
   ]
  },
  {
   "cell_type": "markdown",
   "id": "3620fa3a",
   "metadata": {},
   "source": [
    "Определим для пользователя каждого региона (NA, EU, JP):\n",
    "- Самые популярные платформы (топ-5). Опишем различия в долях продаж.\n",
    "- Самые популярные жанры (топ-5). Выявим разницу.\n",
    "- Влияет ли рейтинг ESRB на продажи в отдельном регионе?"
   ]
  },
  {
   "cell_type": "markdown",
   "id": "974aa14c",
   "metadata": {},
   "source": [
    "Определим для пользователя каждого региона (NA, EU, JP):\n",
    "- Самые популярные платформы (топ-5)"
   ]
  },
  {
   "cell_type": "code",
   "execution_count": 42,
   "id": "c3660747",
   "metadata": {},
   "outputs": [
    {
     "data": {
      "image/png": "[encoded data removed]",
      "text/plain": [
       "<Figure size 720x288 with 1 Axes>"
      ]
     },
     "metadata": {
      "needs_background": "light"
     },
     "output_type": "display_data"
    },
    {
     "data": {
      "image/png": "[encoded data removed]",
      "text/plain": [
       "<Figure size 720x288 with 1 Axes>"
      ]
     },
     "metadata": {
      "needs_background": "light"
     },
     "output_type": "display_data"
    },
    {
     "data": {
      "image/png": "[encoded data removed]",
      "text/plain": [
       "<Figure size 720x288 with 1 Axes>"
      ]
     },
     "metadata": {
      "needs_background": "light"
     },
     "output_type": "display_data"
    }
   ],
   "source": [
    "#самые популярные платформы (топ-5) для каждого региона\n",
    "list_of_country = ['na_sales','eu_sales','jp_sales']\n",
    "\n",
    "#создадим цикл, который будет сначала собирать данные в сводную таблицу по платформе, \n",
    "#где значенями будут просуммированные общие продажи, по убыванию\n",
    "for country in list_of_country:\n",
    "    df_top_platform = df_12_16.pivot_table(index='platform', values=country, aggfunc='sum') \\\n",
    "                              .sort_values(by=country, ascending=False) \\\n",
    "                              .head()\n",
    "    \n",
    "#далее, построит столбчатую диаграмму \n",
    "    df_top_platform.plot(y=country, kind='bar', figsize=(10, 4),\n",
    "                         title = 'Самые популярные платформы (топ-5) в '+ country,\n",
    "                         legend=False)              \n",
    "\n",
    "    sns.barplot(x=df_top_platform.index, y=df_top_platform[country], palette = \"Blues_r\")\n",
    "    plt.ylabel('млн.копий')\n",
    "    plt.xlabel('платформа')\n",
    "    plt.xticks(rotation=0)\n",
    "\n",
    "#покажет значение над каждым баром\n",
    "    for x, y in enumerate (df_top_platform[country]):\n",
    "        plt.text(x, y, str(round(y)), ha = 'center', va='bottom')\n",
    "    plt.show()"
   ]
  },
  {
   "cell_type": "markdown",
   "id": "d6dea22f",
   "metadata": {},
   "source": [
    "**Топ-5 cамые популярные платформы** распределились так: \n",
    "- `PS4`, `PS3`, `3DS` - вошли в топ все трех регионов;\n",
    "- `X360`, `XOne` - вошли в топы Серверной Америки и Европы;\n",
    "- `WiiU`, `PSV` - только Япония. "
   ]
  },
  {
   "cell_type": "markdown",
   "id": "02c0aa3d",
   "metadata": {},
   "source": [
    "Похоже, что японцы больше любят портативные консоли и родной рынок. Игры на иксбоксы там продвигать точно не стоит "
   ]
  },
  {
   "cell_type": "markdown",
   "id": "99692f0d",
   "metadata": {},
   "source": [
    "Определим для пользователя каждого региона (NA, EU, JP):\n",
    "- Самые популярные жанры (топ-5)"
   ]
  },
  {
   "cell_type": "code",
   "execution_count": 43,
   "id": "ab498e79",
   "metadata": {},
   "outputs": [
    {
     "data": {
      "image/png": "[encoded data removed]",
      "text/plain": [
       "<Figure size 720x288 with 1 Axes>"
      ]
     },
     "metadata": {
      "needs_background": "light"
     },
     "output_type": "display_data"
    },
    {
     "data": {
      "image/png": "[encoded data removed]",
      "text/plain": [
       "<Figure size 720x288 with 1 Axes>"
      ]
     },
     "metadata": {
      "needs_background": "light"
     },
     "output_type": "display_data"
    },
    {
     "data": {
      "image/png": "[encoded data removed]",
      "text/plain": [
       "<Figure size 720x288 with 1 Axes>"
      ]
     },
     "metadata": {
      "needs_background": "light"
     },
     "output_type": "display_data"
    }
   ],
   "source": [
    "#Самые популярные жанры (топ-5) для каждого региона\n",
    "list_of_country = ['na_sales','eu_sales','jp_sales']\n",
    "\n",
    "#создадим цикл, который будет сначала собирать данные в сводную таблицу по жанру, \n",
    "#где значенями будут просуммированные общие продажи, по убыванию\n",
    "for country in list_of_country:\n",
    "    df_top_genre = df_12_16.pivot_table(index='genre', values=country, aggfunc='sum') \\\n",
    "                           .sort_values(by=country, ascending=False) \\\n",
    "                           .head()\n",
    "    \n",
    "#далее построит столбчатую диаграмму \n",
    "    df_top_genre.plot(y=country, kind='bar', figsize=(10, 4),\n",
    "                      title = 'Самые популярные жанры (топ-5) в '+ country,\n",
    "                      legend=False) \n",
    "\n",
    "    sns.barplot(x=df_top_genre.index, y=df_top_genre[country], palette = \"Blues_r\")\n",
    "    plt.ylabel('млн.копий')\n",
    "    plt.xlabel('жанр')\n",
    "    plt.xticks(rotation=0)\n",
    "    \n",
    "#покажет значение над каждым баром\n",
    "    for x, y in enumerate (df_top_genre[country]):\n",
    "        plt.text(x, y, str(round(y)), ha = 'center', va='bottom')\n",
    "    plt.show()    "
   ]
  },
  {
   "cell_type": "markdown",
   "id": "137c52af",
   "metadata": {},
   "source": [
    "**Топ-5 cамые популярные жанры**:\n",
    "- `Action`, `Role-Playing` - для всех трех регионов;\n",
    "- `Sports`,`Shooter` - вошли в топы Серверной Америки и Европы;\n",
    "- `Racing` - только Европа;\n",
    "- `Misc` - Северная Америка, Япония;\n",
    "- `Simulating`, `Figting` - только Япония."
   ]
  },
  {
   "cell_type": "markdown",
   "id": "ada1d506",
   "metadata": {},
   "source": [
    "Определим для пользователя каждого региона (NA, EU, JP):\n",
    "- Влияет ли рейтинг ESRB на продажи в отдельном регионе?\n",
    "\n",
    "**Расшифровка рейтингов ESRB:**\n",
    "\n",
    "- «EC» («Early childhood») — «Для детей младшего возраста»\n",
    "- «E» («Everyone») — «Для всех» ( до 1994 года \"K-A\" (\"Kids to Adults\"))\n",
    "- «E10+» («Everyone 10 and older») — «Для всех от 10 лет и старше»\n",
    "- «T» («Teen») — «Подросткам»\n",
    "- «M» («Mature») — «Для взрослых»\n",
    "- «AO» («Adults Only 18+») — «Только для взрослых»\n",
    "- «RP» («Rating Pending») — «Рейтинг ожидается»"
   ]
  },
  {
   "cell_type": "code",
   "execution_count": 44,
   "id": "abd73401",
   "metadata": {},
   "outputs": [
    {
     "data": {
      "image/png": "[encoded data removed]",
      "text/plain": [
       "<Figure size 720x288 with 1 Axes>"
      ]
     },
     "metadata": {
      "needs_background": "light"
     },
     "output_type": "display_data"
    },
    {
     "data": {
      "image/png": "[encoded data removed]",
      "text/plain": [
       "<Figure size 720x288 with 1 Axes>"
      ]
     },
     "metadata": {
      "needs_background": "light"
     },
     "output_type": "display_data"
    },
    {
     "data": {
      "image/png": "[encoded data removed]",
      "text/plain": [
       "<Figure size 720x288 with 1 Axes>"
      ]
     },
     "metadata": {
      "needs_background": "light"
     },
     "output_type": "display_data"
    }
   ],
   "source": [
    "#посмотрим как распределяются продажи по рейтингам\n",
    "list_of_country = ['na_sales','eu_sales','jp_sales']\n",
    "for country in list_of_country:\n",
    "    df_esrb = df_12_16.pivot_table(index='rating', values=country, aggfunc='sum') \\\n",
    "                 .sort_values(by=country, ascending=False)\n",
    "\n",
    "#построим столбчатую диаграмму \n",
    "    df_esrb.plot(y=country, kind='bar', figsize=(10, 4),\n",
    "            title = 'Рейтинг ESBR с наибольшим объемом продаж '+ country,\n",
    "            legend=False)             \n",
    "\n",
    "    sns.barplot(x=df_esrb.index, y=df_esrb[country], palette = \"Blues_r\")\n",
    "    plt.ylabel('млн.копий')\n",
    "    plt.xlabel('рейтинг ESRB')\n",
    "    plt.xticks(rotation=0)\n",
    "    \n",
    "#покажем значение над каждым баром\n",
    "    for x, y in enumerate (df_esrb[country]):\n",
    "        plt.text(x, y, str(round(y)), ha = 'center', va='bottom')\n",
    "    plt.show()    "
   ]
  },
  {
   "cell_type": "markdown",
   "id": "868bc2e6",
   "metadata": {},
   "source": [
    "В Северной Америке и Европе наиболее продаваемы игры с рейтингом  «M» («Mature») — «Для взрослых», а в Японии же NO_RATING — без определенного значения рейтинга.\n",
    "\n",
    "В Северной Америке и Европе наименее продаваемы игры с рейтингом «T» («Teen») — «Подросткам», а в Японии - «E10+» («Everyone 10 and older») — «Для всех от 10 лет и старше»."
   ]
  },
  {
   "cell_type": "markdown",
   "id": "67b04f51",
   "metadata": {},
   "source": [
    "Япония снова отличилась. Скорее всего, дело тут в том, что ESRB работает только на территории СА, в Японии есть аналогичная организация: CERO. Я думаю, что, с одной стороны, иностранным играм они (ESRB) не присваивают рейтинги, поскольку на них уже есть маркировка. Чтобы не было конфликта, так сказать. Так что вполне возможно, что часть игр это продукция Японии или же это корейские игры (там тоже своя организация). С другой стороны, раз они продают игры на своем рынке, то присвоение рейтинга может быть обязательным. Значит, дело еще может быть в том, что наша таблица это склейка двух таблиц: продажи на Западе и на Востоке. Так или иначе, это очень показательный пример. И именно разница в рынках (восточный и западный) наталкивает на мысль о неслучайности пропусков.\n"
   ]
  },
  {
   "cell_type": "markdown",
   "id": "260173ac",
   "metadata": {},
   "source": [
    "### Вывод\n",
    "<a id='4.1'></a>"
   ]
  },
  {
   "cell_type": "markdown",
   "id": "438bc5e9",
   "metadata": {},
   "source": [
    "Мы исследовали показатели за период с 2014 по 2016 года.\n",
    "\n",
    "**Топ-5 cамые популярные платформы** распределились так: \n",
    "- `PS4`, `PS3`, `3DS` - вошли в топ все трех регионов;\n",
    "- `X360`, `XOne` - вошли в топы Серверной Америки и Европы;\n",
    "- `WiiU`, `PSV` - только Япония. \n",
    "\n",
    "**Топ-5 cамые популярные жанры**:\n",
    "- `Action`, `Role-Playing` - для всех трех регионов;\n",
    "- `Sports`,`Shooter` - вошли в топы Серверной Америки и Европы;\n",
    "- `Racing` - только Европа;\n",
    "- `Misc` - Северная Америка, Япония;\n",
    "- `Simulating`, `Figting` - только Япония.\n",
    "\n",
    "**Влияние рейтинга ESRB на продажи** в отдельном регионе:\n",
    "\n",
    "В Северной Америке и Европе наиболее продаваемы игры с рейтингом  «M» («Mature») — «Для взрослых», а в Японии же NO_RATING — без определенного значения рейтинга.\n",
    "\n",
    "В Северной Америке и Европе наименее продаваемы игры с рейтингом «T» («Teen») — «Подросткам», а в Японии - «E10+» («Everyone 10 and older») — «Для всех от 10 лет и старше»."
   ]
  },
  {
   "cell_type": "markdown",
   "id": "058f0813",
   "metadata": {},
   "source": [
    "## Шаг 5  Проверка гипотезы\n",
    "<a id='5'></a>"
   ]
  },
  {
   "cell_type": "markdown",
   "id": "c1605857",
   "metadata": {},
   "source": [
    "В данном разделе нам необходимо проверить две исследовательские гипотезы:\n",
    "- Средние пользовательские рейтинги платформ Xbox One и PC одинаковые;\n",
    "- Средние пользовательские рейтинги жанров Action (англ. «действие», экшен-игры) и Sports (англ. «спортивные соревнования») разные. Зададим самостоятельно пороговое значение alpha равное .01"
   ]
  },
  {
   "cell_type": "markdown",
   "id": "f0dfe1ba",
   "metadata": {},
   "source": [
    "###  Гипотеза 1:"
   ]
  },
  {
   "cell_type": "markdown",
   "id": "eefc8c8c",
   "metadata": {},
   "source": [
    "Средние пользовательские рейтинги платформ Xbox One и PC одинаковые;"
   ]
  },
  {
   "cell_type": "markdown",
   "id": "774501fe",
   "metadata": {},
   "source": [
    "Нулевая гипотеза всегда формулируется так, чтобы использовать знак равенства. Так как в задании не уточняется в какую сторону (больше или меньше), то будем формулировать двустороннюю гипотезу. \n",
    "\n",
    "Получается: \n",
    "- H0: cредние пользовательские рейтинги платформ Xbox One и PC равны; \n",
    "- H1: cредние пользовательские рейтинги платформ Xbox One и PC различаются."
   ]
  },
  {
   "cell_type": "code",
   "execution_count": 45,
   "id": "81d650d9",
   "metadata": {},
   "outputs": [
    {
     "data": {
      "text/plain": [
       "(6.44, 6.52)"
      ]
     },
     "execution_count": 45,
     "metadata": {},
     "output_type": "execute_result"
    }
   ],
   "source": [
    "#зададим переменные для cредних пользовательских рейтингов платформ Xbox One и PC\n",
    "user_score_XOne = df_12_16.loc[ (df ['platform'] == 'XOne') & ~(df_12_16['user_score'].isna())]['user_score']\n",
    "user_score_PC = df_12_16.loc[(df ['platform'] == 'PC') & ~(df_12_16['user_score'].isna())]['user_score']\n",
    "\n",
    "round(user_score_PC.mean(), 2), round (user_score_XOne.mean(), 2)"
   ]
  },
  {
   "cell_type": "code",
   "execution_count": 46,
   "id": "188f1d7c",
   "metadata": {},
   "outputs": [
    {
     "name": "stdout",
     "output_type": "stream",
     "text": [
      "p-значение:  0.5926157183101111\n",
      "Не получилось отвергнуть нулевую гипотезу\n"
     ]
    }
   ],
   "source": [
    "#зададим критический уровень статистической значимости\n",
    "alpha = .01\n",
    "\n",
    "#проверим гипотезу о равенстве средних двух независимых совокупностей\n",
    "results_for_test_1 = st.ttest_ind(\n",
    "    user_score_XOne, \n",
    "    user_score_PC,\n",
    "    equal_var=False) #Так как размеры выборки отличаются, то мы установили \n",
    "#параметр equal_var==False, чтобы тест посчитал дисперсии выборок по отдельности\n",
    "\n",
    "print('p-значение: ', results_for_test_1.pvalue)\n",
    "\n",
    "#сравним получившееся p-значение с заданным уровнем статистической значимости:\n",
    "if results_for_test_1.pvalue < alpha: \n",
    "    print(\"Отвергаем нулевую гипотезу\")\n",
    "else:\n",
    "    print(\"Не получилось отвергнуть нулевую гипотезу\") "
   ]
  },
  {
   "cell_type": "markdown",
   "id": "cfbc657e",
   "metadata": {},
   "source": [
    "Полученное значение p-value говорит о том, что вероятность получить такое или большее различие случайно почти 59%. Это явно слишком большая вероятность, чтобы делать вывод о значимом различии между cредними пользовательскими рейтингами платформ Xbox One и PC."
   ]
  },
  {
   "cell_type": "markdown",
   "id": "1c293687",
   "metadata": {},
   "source": [
    "###  Гипотеза 2:"
   ]
  },
  {
   "cell_type": "markdown",
   "id": "76477d36",
   "metadata": {},
   "source": [
    "Средние пользовательские рейтинги жанров Action и Sports разные."
   ]
  },
  {
   "cell_type": "markdown",
   "id": "0393d566",
   "metadata": {},
   "source": [
    "Нам необходимо сравнить две генеральные совокупности. Гипотеза также двухсторонняя, так как не уточняется в какую сторону (больше или меньше) различие.\n",
    "\n",
    "Формулируем гипотезу:\n",
    "- H0: cредние пользовательские рейтинги жанров Action и Sports равны;\n",
    "- H1: cредние пользовательские рейтинги жанров Action и Sports различаются."
   ]
  },
  {
   "cell_type": "code",
   "execution_count": 47,
   "id": "3ec5aa68",
   "metadata": {},
   "outputs": [
    {
     "data": {
      "text/plain": [
       "(6.83, 5.46)"
      ]
     },
     "execution_count": 47,
     "metadata": {},
     "output_type": "execute_result"
    }
   ],
   "source": [
    "#зададим переменные для cредниx пользовательских рейтингов жанров Action и Sports\n",
    "user_score_Action = df_12_16.loc[ (df_12_16 ['genre'] == 'Action') & ~(df_12_16['user_score'].isna())]['user_score']\n",
    "user_score_Sports = df_12_16.loc[ (df_12_16 ['genre'] == 'Sports') & ~(df_12_16['user_score'].isna())]['user_score']\n",
    "\n",
    "round(user_score_Action.mean(), 2), round(user_score_Sports.mean(), 2)"
   ]
  },
  {
   "cell_type": "code",
   "execution_count": 48,
   "id": "9223313a",
   "metadata": {},
   "outputs": [
    {
     "name": "stdout",
     "output_type": "stream",
     "text": [
      "p-значение:  3.2854932137857065e-20\n",
      "Отвергаем нулевую гипотезу\n"
     ]
    }
   ],
   "source": [
    "#зададим критический уровень статистической значимости\n",
    "alpha = .01\n",
    "\n",
    "#проверим гипотезу о равенстве средних двух независимых совокупностей\n",
    "results_for_test_1 = st.ttest_ind(\n",
    "    user_score_Action, \n",
    "    user_score_Sports,\n",
    "    equal_var=False) #Так как размеры выборки отличаются, то мы установили \n",
    "                     #параметр equal_var==False, чтобы тест посчитал дисперсии выборок по отдельности\n",
    "\n",
    "print('p-значение: ', results_for_test_1.pvalue)\n",
    "\n",
    "#сравним получившееся p-значение с заданным уровнем статистической значимости:\n",
    "if results_for_test_1.pvalue < alpha: \n",
    "    print(\"Отвергаем нулевую гипотезу\")\n",
    "else:\n",
    "    print(\"Не получилось отвергнуть нулевую гипотезу\") "
   ]
  },
  {
   "cell_type": "markdown",
   "id": "1834d01f",
   "metadata": {},
   "source": [
    "Полученное значение p-value меньше уровня критического уровня значимости равного .01. Отвергаем нулевую гипотезу.\n",
    "Соответственно, у нас не получается отвергнуть исследовательскую гипотезу о том, что средние пользовательские рейтинги жанров Action и Sports разные."
   ]
  },
  {
   "cell_type": "markdown",
   "id": "157d79c8",
   "metadata": {},
   "source": [
    "### Вывод\n",
    "<a id='5.1'></a>"
   ]
  },
  {
   "cell_type": "markdown",
   "id": "8af05ea4",
   "metadata": {},
   "source": [
    "В данном разделе мы проверили две исследовательские гипотезы:\n",
    "\n",
    "Гипотеза 1\n",
    "- Средние пользовательские рейтинги платформ Xbox One и PC одинаковые;\n",
    "\n",
    "Перформулировав исследовательскую гипотезу в двухстороннюю статистическую гипотезу о равенстве двух генеральных совокупностей с критическим уровнем значимости равным .01 не смоги опровергнуть нулевую гипотезу о том, что cредние пользовательские рейтинги платформ Xbox One и PC равны, вероятность получить такое значение равно 29%. \n",
    "\n",
    "Соответственно, мы не смогли опровергнуть исследовательскую гипотезу о том, что средние пользовательские рейтинги платформ Xbox One и PC одинаковые.\n",
    "\n",
    "Гипотеза 2\n",
    "- Средние пользовательские рейтинги жанров Action (англ. «действие», экшен-игры) и Sports (англ. «спортивные соревнования») разные. \n",
    "\n",
    "Перформулировав в двухстороннюю статистическую гипотезу о равенстве двух генеральных совокупностей с критическим уровнем значимости равным .01 не смоги опровергнуть нулевую гипотезу о том, что cредние пользовательские рейтинги жанров Action и Sports равны, вероятность получить такое значение равно 4%. При менее строгом критическом значении статистической значимости — .05 мы получили бы другой результат, так как p-value меньше 5%.\n",
    "\n",
    "Соответственно, мы отвергаем исследовательскую гипотезу, о том, что средние пользовательские рейтинги жанров Action и Sports разные."
   ]
  },
  {
   "cell_type": "markdown",
   "id": "47ab2671",
   "metadata": {},
   "source": [
    "## Шаг 6 Общий вывод\n",
    "<a id='6'></a>"
   ]
  },
  {
   "cell_type": "markdown",
   "id": "ded99054",
   "metadata": {},
   "source": [
    "Мы провели аналитику для интернет-магазина «Стримчик», который продаёт по всему миру компьютерные игры. Для анализа мы использовали данные из открытых источников с доступными историческими данными о продажах игр в Северной Америке, Европе и Японии, оценки пользователей и экспертов, жанры и платформы с 1980 го по 2016 год. \n",
    "\n",
    "Нашей целью было выявление закономерностей, определяющих успешность игры, чтобы сделать ставку на потенциально популярный продукт и спланировать рекламные кампании на 2017-й год.\n",
    "\n",
    "**Исследовательский анализ данных**\n",
    "\n",
    "- График с количеством выпущенных игр по годам показал, что больше всего игр выпускалось в 2008 и 2009 годах - 1427 и 1426 соответственно, меньше всего в 1980 - 9.\n",
    "- График общего объема продаж показывает, что резкий скачок произошел в 1996 году, более чем в 2 раза и дальше продажи росли до 2008 года. Дальше начался спад, вплоть до 2016 года. Так как данные за 2016 год могут быть неполными, то выводы можем делать об общей динамике до 2015 года. За 7 полных лет (с 2008-го по 2015 год) объемы продаж уменьшились в 2,5 раза. Характерный срок появления новых и исчезновения старых платформ равен 7 годам. За это время поколения платформ сменяют друг друга. PS3 сменилось на PS4, Wii на WiiU, X360 на XOne, PSP на PSV, а PC занимает от 3 до 7%. \n",
    "- Актуальный период для анализа определили как 2012 - 2016.\n",
    "- Выявили, что лидерами продаж за 2015 и 2016 года стали: '3DS', 'PC', 'PS3', 'PS4', 'PSP', 'PSV', 'Wii', 'WiiU', 'X360', 'XOne'. \n",
    "- График «ящик с усами» по глобальным продажам игр в разбивке по платформам показал, что за 7 лет медианные значения по объему проданных копий у предыдущих поколений платформ чуть больше, чем у новых. Оно и понятно, ведь старые поколения дольше на рынке. Лидеры по медианному значению: X360 - 0.31 , XOne - 0.22, WiiU - 0.22, PS3/PS4 - 0.20. Меньше всего значение для платформ PSP - 0.03, PSV - 0.05, PC - 0.08.\n",
    "- Коэффициент корреляции и диаграмма рассеяния показала, что максимальная зависимость есть между оценками критиков и продажами, особенно для платформы XOne показатель равен 0.42. От оценок пользователей продажи не зависят, есть даже небольшая обратная зависимость для XOne и PS4.\n",
    "- Медианные значения по объему продаж в расчете на единицу игры больше всего в жанрах Shooter - 0.44, Sport - 0.24 и Platform - 0.21, меньше всего в жанре Adventure - 0.03 и Puzzle - 0.06.\n",
    "\n",
    "\n",
    "**Портрет пользователя каждого региона**\n",
    "\n",
    "Мы исследовали показатели за период с 2012 по 2016 года. Пользователи Европы и Северной Америки максимально похожи во вкусах, Япония имеет больше разлийчий.\n",
    "\n",
    "**Топ-5 cамые популярные платформы** распределились так: \n",
    "- `PS4`, `PS3`, `3DS` - вошли в топ все трех регионов;\n",
    "- `X360`, `XOne` - вошли в топы Серверной Америки и Европы;\n",
    "- `WiiU`, `PSV` - только Япония. \n",
    "\n",
    "**Топ-5 cамые популярные жанры**:\n",
    "- `Action`, `Role-Playing` - для всех трех регионов;\n",
    "- `Sports`,`Shooter` - вошли в топы Серверной Америки и Европы;\n",
    "- `Racing` - только Европа;\n",
    "- `Misc` - Северная Америка, Япония;\n",
    "- `Simulating`, `Figting` - только Япония.\n",
    "\n",
    "**Влияние рейтинга ESRB на продажи** в отдельном регионе:\n",
    "\n",
    "В Северной Америке и Европе наиболее продаваемы игры с рейтингом  «M» («Mature») — «Для взрослых», а в Японии же NO_RATING — без определенного значения рейтинга.\n",
    "\n",
    "В Северной Америке и Европе наименее продаваемы игры с рейтингом «T» («Teen») — «Подросткам», а в Японии - «E10+» («Everyone 10 and older») — «Для всех от 10 лет и старше». \n",
    "\n",
    "\n",
    "**Проверка гипотез**\n",
    "\n",
    "Мы проверили две исследовательские гипотезы:\n",
    "\n",
    "**Гипотеза 1**\n",
    "- Средние пользовательские рейтинги платформ Xbox One и PC одинаковые;\n",
    "\n",
    "Перформулировав исследовательскую гипотезу в двухстороннюю статистическую гипотезу о равенстве двух генеральных совокупностей с критическим уровнем значимости равным .01 не смогли опровергнуть нулевую гипотезу о том, что cредние пользовательские рейтинги платформ Xbox One и PC равны, вероятность получить такое значение равно 59%. \n",
    "\n",
    "Соответственно, мы не смогли отвергнуть исследовательскую гипотезу о том, что средние пользовательские рейтинги платформ Xbox One и PC одинаковые.\n",
    "\n",
    "**Гипотеза 2**\n",
    "- Средние пользовательские рейтинги жанров Action и Sports разные. \n",
    "\n",
    "Перформулировав в двухстороннюю статистическую гипотезу о равенстве двух генеральных совокупностей с критическим уровнем значимости равным .01 мы получили значение p-value меньше уровня критического уровня значимости и отвергли нулевую гипотезу.\n",
    "\n",
    "Соответственно, мы не смогли отвергнуть исследовательскую гипотезу, о том, что средние пользовательские рейтинги жанров Action и Sports разные."
   ]
  },
  {
   "cell_type": "markdown",
   "id": "31ff323b",
   "metadata": {},
   "source": [
    "## Чек-лист готовности проекта\n",
    "<a id='7'></a>\n"
   ]
  },
  {
   "cell_type": "markdown",
   "id": "e485bac6",
   "metadata": {},
   "source": [
    "- [x]  открыт файл\n",
    "- [x]  файлы изучены (выведены первые строки, метод info())\n",
    "- [x]  есть пояснение, какие пропущенные значения обнаружены\n",
    "- [x]  заполнены пропущенные значения\n",
    "- [x]  изменены типы данных\n",
    "- [x]  данные приведены к нужным типам\n",
    "- [x]  есть пояснение, в каких столбцах изменены типы и почему\n",
    "- [x]  найдены и исправлены ошибки в данных\n",
    "- [x]  проведен исследовательский анализ данных\n",
    "- [x]  составлен портрет пользователя каждого региона\n",
    "- [x]  проверены гипотезы\n",
    "- [x]  в каждом этапе есть выводы\n",
    "- [x]  есть общий вывод"
   ]
  },
  {
   "cell_type": "code",
   "execution_count": null,
   "id": "c6646799",
   "metadata": {},
   "outputs": [],
   "source": []
  }
 ],
 "metadata": {
  "ExecuteTimeLog": [
   {
    "duration": 1214,
    "start_time": "2022-01-28T18:06:54.839Z"
   },
   {
    "duration": 39,
    "start_time": "2022-01-28T18:06:56.054Z"
   },
   {
    "duration": 16,
    "start_time": "2022-01-28T18:06:56.095Z"
   },
   {
    "duration": 35,
    "start_time": "2022-01-28T18:06:56.113Z"
   },
   {
    "duration": 43,
    "start_time": "2022-01-28T18:06:56.150Z"
   },
   {
    "duration": 10,
    "start_time": "2022-01-28T18:06:56.195Z"
   },
   {
    "duration": 19,
    "start_time": "2022-01-28T18:06:56.207Z"
   },
   {
    "duration": 13,
    "start_time": "2022-01-28T18:06:56.227Z"
   },
   {
    "duration": 4,
    "start_time": "2022-01-28T18:06:56.243Z"
   },
   {
    "duration": 29,
    "start_time": "2022-01-28T18:06:56.250Z"
   },
   {
    "duration": 4,
    "start_time": "2022-01-28T18:06:56.280Z"
   },
   {
    "duration": 12,
    "start_time": "2022-01-28T18:06:56.286Z"
   },
   {
    "duration": 8,
    "start_time": "2022-01-28T18:06:56.299Z"
   },
   {
    "duration": 15,
    "start_time": "2022-01-28T18:06:56.309Z"
   },
   {
    "duration": 15,
    "start_time": "2022-01-28T18:06:56.326Z"
   },
   {
    "duration": 5,
    "start_time": "2022-01-28T18:06:56.342Z"
   },
   {
    "duration": 5,
    "start_time": "2022-01-28T18:06:56.349Z"
   },
   {
    "duration": 26,
    "start_time": "2022-01-28T18:06:56.356Z"
   },
   {
    "duration": 5,
    "start_time": "2022-01-28T18:06:56.384Z"
   },
   {
    "duration": 19,
    "start_time": "2022-01-28T18:06:56.391Z"
   },
   {
    "duration": 1281,
    "start_time": "2022-01-28T18:06:56.412Z"
   },
   {
    "duration": -819,
    "start_time": "2022-01-28T18:06:58.515Z"
   },
   {
    "duration": -824,
    "start_time": "2022-01-28T18:06:58.521Z"
   },
   {
    "duration": -824,
    "start_time": "2022-01-28T18:06:58.523Z"
   },
   {
    "duration": -825,
    "start_time": "2022-01-28T18:06:58.525Z"
   },
   {
    "duration": -825,
    "start_time": "2022-01-28T18:06:58.526Z"
   },
   {
    "duration": -825,
    "start_time": "2022-01-28T18:06:58.528Z"
   },
   {
    "duration": -825,
    "start_time": "2022-01-28T18:06:58.529Z"
   },
   {
    "duration": -825,
    "start_time": "2022-01-28T18:06:58.530Z"
   },
   {
    "duration": -825,
    "start_time": "2022-01-28T18:06:58.532Z"
   },
   {
    "duration": -829,
    "start_time": "2022-01-28T18:06:58.537Z"
   },
   {
    "duration": -830,
    "start_time": "2022-01-28T18:06:58.539Z"
   },
   {
    "duration": -831,
    "start_time": "2022-01-28T18:06:58.541Z"
   },
   {
    "duration": -830,
    "start_time": "2022-01-28T18:06:58.542Z"
   },
   {
    "duration": -831,
    "start_time": "2022-01-28T18:06:58.544Z"
   },
   {
    "duration": -831,
    "start_time": "2022-01-28T18:06:58.545Z"
   },
   {
    "duration": -831,
    "start_time": "2022-01-28T18:06:58.546Z"
   },
   {
    "duration": -831,
    "start_time": "2022-01-28T18:06:58.548Z"
   },
   {
    "duration": -831,
    "start_time": "2022-01-28T18:06:58.549Z"
   },
   {
    "duration": -831,
    "start_time": "2022-01-28T18:06:58.550Z"
   },
   {
    "duration": -836,
    "start_time": "2022-01-28T18:06:58.556Z"
   },
   {
    "duration": -845,
    "start_time": "2022-01-28T18:06:58.567Z"
   },
   {
    "duration": -849,
    "start_time": "2022-01-28T18:06:58.572Z"
   },
   {
    "duration": 8,
    "start_time": "2022-01-28T18:12:10.624Z"
   },
   {
    "duration": 48,
    "start_time": "2022-01-28T18:12:10.634Z"
   },
   {
    "duration": 37,
    "start_time": "2022-01-28T18:12:10.684Z"
   },
   {
    "duration": 709,
    "start_time": "2022-01-28T18:12:10.723Z"
   },
   {
    "duration": -879,
    "start_time": "2022-01-28T18:12:12.313Z"
   },
   {
    "duration": -880,
    "start_time": "2022-01-28T18:12:12.315Z"
   },
   {
    "duration": -880,
    "start_time": "2022-01-28T18:12:12.316Z"
   },
   {
    "duration": -881,
    "start_time": "2022-01-28T18:12:12.318Z"
   },
   {
    "duration": -883,
    "start_time": "2022-01-28T18:12:12.320Z"
   },
   {
    "duration": -884,
    "start_time": "2022-01-28T18:12:12.322Z"
   },
   {
    "duration": -918,
    "start_time": "2022-01-28T18:12:12.357Z"
   },
   {
    "duration": -919,
    "start_time": "2022-01-28T18:12:12.359Z"
   },
   {
    "duration": -920,
    "start_time": "2022-01-28T18:12:12.360Z"
   },
   {
    "duration": -921,
    "start_time": "2022-01-28T18:12:12.362Z"
   },
   {
    "duration": -922,
    "start_time": "2022-01-28T18:12:12.363Z"
   },
   {
    "duration": -923,
    "start_time": "2022-01-28T18:12:12.365Z"
   },
   {
    "duration": -923,
    "start_time": "2022-01-28T18:12:12.366Z"
   },
   {
    "duration": -925,
    "start_time": "2022-01-28T18:12:12.368Z"
   },
   {
    "duration": -929,
    "start_time": "2022-01-28T18:12:12.373Z"
   },
   {
    "duration": -930,
    "start_time": "2022-01-28T18:12:12.374Z"
   },
   {
    "duration": -931,
    "start_time": "2022-01-28T18:12:12.376Z"
   },
   {
    "duration": -932,
    "start_time": "2022-01-28T18:12:12.377Z"
   },
   {
    "duration": 29,
    "start_time": "2022-01-28T18:12:33.837Z"
   },
   {
    "duration": 13,
    "start_time": "2022-01-28T18:12:33.868Z"
   },
   {
    "duration": 30,
    "start_time": "2022-01-28T18:12:33.883Z"
   },
   {
    "duration": 46,
    "start_time": "2022-01-28T18:12:33.915Z"
   },
   {
    "duration": 638,
    "start_time": "2022-01-28T18:12:33.963Z"
   },
   {
    "duration": 16,
    "start_time": "2022-01-28T18:12:34.603Z"
   },
   {
    "duration": 649,
    "start_time": "2022-01-28T18:12:34.621Z"
   },
   {
    "duration": 10,
    "start_time": "2022-01-28T18:12:35.272Z"
   },
   {
    "duration": 52,
    "start_time": "2022-01-28T18:12:35.284Z"
   },
   {
    "duration": 1425,
    "start_time": "2022-01-28T18:12:35.338Z"
   },
   {
    "duration": 338,
    "start_time": "2022-01-28T18:12:36.765Z"
   },
   {
    "duration": 587,
    "start_time": "2022-01-28T18:12:37.105Z"
   },
   {
    "duration": 652,
    "start_time": "2022-01-28T18:12:37.694Z"
   },
   {
    "duration": 567,
    "start_time": "2022-01-28T18:12:38.347Z"
   },
   {
    "duration": 19,
    "start_time": "2022-01-28T18:12:38.916Z"
   },
   {
    "duration": 25,
    "start_time": "2022-01-28T18:12:38.936Z"
   },
   {
    "duration": 46,
    "start_time": "2022-01-28T18:12:38.962Z"
   },
   {
    "duration": 36,
    "start_time": "2022-01-28T18:12:39.010Z"
   },
   {
    "duration": 260,
    "start_time": "2022-01-28T18:44:12.429Z"
   },
   {
    "duration": 188,
    "start_time": "2022-01-28T18:44:41.772Z"
   },
   {
    "duration": 327,
    "start_time": "2022-01-28T18:44:47.732Z"
   },
   {
    "duration": 214,
    "start_time": "2022-01-28T18:44:56.089Z"
   },
   {
    "duration": 1018,
    "start_time": "2022-01-28T18:51:37.533Z"
   },
   {
    "duration": 34,
    "start_time": "2022-01-28T18:51:38.552Z"
   },
   {
    "duration": 15,
    "start_time": "2022-01-28T18:51:38.587Z"
   },
   {
    "duration": 14,
    "start_time": "2022-01-28T18:51:38.603Z"
   },
   {
    "duration": 29,
    "start_time": "2022-01-28T18:51:38.619Z"
   },
   {
    "duration": 5,
    "start_time": "2022-01-28T18:51:38.650Z"
   },
   {
    "duration": 16,
    "start_time": "2022-01-28T18:51:38.657Z"
   },
   {
    "duration": 44,
    "start_time": "2022-01-28T18:51:38.676Z"
   },
   {
    "duration": 5,
    "start_time": "2022-01-28T18:51:38.723Z"
   },
   {
    "duration": 15,
    "start_time": "2022-01-28T18:51:38.730Z"
   },
   {
    "duration": 5,
    "start_time": "2022-01-28T18:51:38.746Z"
   },
   {
    "duration": 13,
    "start_time": "2022-01-28T18:51:38.753Z"
   },
   {
    "duration": 48,
    "start_time": "2022-01-28T18:51:38.768Z"
   },
   {
    "duration": 12,
    "start_time": "2022-01-28T18:51:38.817Z"
   },
   {
    "duration": 15,
    "start_time": "2022-01-28T18:51:38.831Z"
   },
   {
    "duration": 4,
    "start_time": "2022-01-28T18:51:38.848Z"
   },
   {
    "duration": 5,
    "start_time": "2022-01-28T18:51:38.854Z"
   },
   {
    "duration": 55,
    "start_time": "2022-01-28T18:51:38.861Z"
   },
   {
    "duration": 6,
    "start_time": "2022-01-28T18:51:38.918Z"
   },
   {
    "duration": 516,
    "start_time": "2022-01-28T18:52:12.737Z"
   },
   {
    "duration": 451,
    "start_time": "2022-01-28T18:52:21.445Z"
   },
   {
    "duration": 14,
    "start_time": "2022-01-28T18:52:32.728Z"
   },
   {
    "duration": 687,
    "start_time": "2022-01-28T18:52:34.515Z"
   },
   {
    "duration": 666,
    "start_time": "2022-01-28T18:53:40.115Z"
   },
   {
    "duration": 493,
    "start_time": "2022-01-28T18:54:15.179Z"
   },
   {
    "duration": 752,
    "start_time": "2022-01-28T18:56:40.021Z"
   },
   {
    "duration": 677,
    "start_time": "2022-01-28T18:57:16.665Z"
   },
   {
    "duration": 2559,
    "start_time": "2022-01-28T18:58:03.526Z"
   },
   {
    "duration": 2510,
    "start_time": "2022-01-28T18:59:38.760Z"
   },
   {
    "duration": 653,
    "start_time": "2022-01-28T19:00:50.593Z"
   },
   {
    "duration": 442,
    "start_time": "2022-01-28T19:01:47.617Z"
   },
   {
    "duration": 544,
    "start_time": "2022-01-28T19:02:00.050Z"
   },
   {
    "duration": 20,
    "start_time": "2022-01-28T19:02:02.427Z"
   },
   {
    "duration": 657,
    "start_time": "2022-01-28T19:02:05.746Z"
   },
   {
    "duration": 317,
    "start_time": "2022-01-28T19:07:08.013Z"
   },
   {
    "duration": 2,
    "start_time": "2022-01-28T19:08:33.371Z"
   },
   {
    "duration": 35,
    "start_time": "2022-01-28T19:08:33.375Z"
   },
   {
    "duration": 11,
    "start_time": "2022-01-28T19:08:33.412Z"
   },
   {
    "duration": 9,
    "start_time": "2022-01-28T19:08:33.425Z"
   },
   {
    "duration": 28,
    "start_time": "2022-01-28T19:08:33.435Z"
   },
   {
    "duration": 4,
    "start_time": "2022-01-28T19:08:33.464Z"
   },
   {
    "duration": 49,
    "start_time": "2022-01-28T19:08:33.469Z"
   },
   {
    "duration": 11,
    "start_time": "2022-01-28T19:08:33.521Z"
   },
   {
    "duration": 17,
    "start_time": "2022-01-28T19:08:33.534Z"
   },
   {
    "duration": 14,
    "start_time": "2022-01-28T19:08:33.553Z"
   },
   {
    "duration": 4,
    "start_time": "2022-01-28T19:08:33.569Z"
   },
   {
    "duration": 11,
    "start_time": "2022-01-28T19:08:33.575Z"
   },
   {
    "duration": 29,
    "start_time": "2022-01-28T19:08:33.587Z"
   },
   {
    "duration": 10,
    "start_time": "2022-01-28T19:08:33.618Z"
   },
   {
    "duration": 12,
    "start_time": "2022-01-28T19:08:33.630Z"
   },
   {
    "duration": 4,
    "start_time": "2022-01-28T19:08:33.644Z"
   },
   {
    "duration": 5,
    "start_time": "2022-01-28T19:08:33.649Z"
   },
   {
    "duration": 14,
    "start_time": "2022-01-28T19:08:33.655Z"
   },
   {
    "duration": 3,
    "start_time": "2022-01-28T19:08:33.671Z"
   },
   {
    "duration": 47,
    "start_time": "2022-01-28T19:08:33.676Z"
   },
   {
    "duration": 621,
    "start_time": "2022-01-28T19:08:33.724Z"
   },
   {
    "duration": 8,
    "start_time": "2022-01-28T19:08:34.347Z"
   },
   {
    "duration": 14,
    "start_time": "2022-01-28T19:08:34.358Z"
   },
   {
    "duration": 39,
    "start_time": "2022-01-28T19:08:34.374Z"
   },
   {
    "duration": 638,
    "start_time": "2022-01-28T19:08:34.414Z"
   },
   {
    "duration": 23,
    "start_time": "2022-01-28T19:08:35.054Z"
   },
   {
    "duration": 13,
    "start_time": "2022-01-28T19:08:35.079Z"
   },
   {
    "duration": 43,
    "start_time": "2022-01-28T19:08:35.093Z"
   },
   {
    "duration": 20,
    "start_time": "2022-01-28T19:08:35.138Z"
   },
   {
    "duration": 575,
    "start_time": "2022-01-28T19:08:35.160Z"
   },
   {
    "duration": 12,
    "start_time": "2022-01-28T19:08:35.736Z"
   },
   {
    "duration": 434,
    "start_time": "2022-01-28T19:08:35.749Z"
   },
   {
    "duration": 8,
    "start_time": "2022-01-28T19:08:36.185Z"
   },
   {
    "duration": 52,
    "start_time": "2022-01-28T19:08:36.194Z"
   },
   {
    "duration": 1416,
    "start_time": "2022-01-28T19:08:36.247Z"
   },
   {
    "duration": 317,
    "start_time": "2022-01-28T19:08:37.665Z"
   },
   {
    "duration": 316,
    "start_time": "2022-01-28T19:09:07.259Z"
   },
   {
    "duration": 332,
    "start_time": "2022-01-28T19:09:23.027Z"
   },
   {
    "duration": 331,
    "start_time": "2022-01-28T19:09:30.635Z"
   },
   {
    "duration": 320,
    "start_time": "2022-01-28T19:09:56.098Z"
   },
   {
    "duration": 1051,
    "start_time": "2022-01-29T07:21:00.411Z"
   },
   {
    "duration": 35,
    "start_time": "2022-01-29T07:21:01.464Z"
   },
   {
    "duration": 14,
    "start_time": "2022-01-29T07:21:01.501Z"
   },
   {
    "duration": 15,
    "start_time": "2022-01-29T07:21:01.517Z"
   },
   {
    "duration": 29,
    "start_time": "2022-01-29T07:21:01.533Z"
   },
   {
    "duration": 4,
    "start_time": "2022-01-29T07:21:01.563Z"
   },
   {
    "duration": 17,
    "start_time": "2022-01-29T07:21:01.569Z"
   },
   {
    "duration": 6,
    "start_time": "2022-01-29T07:21:09.123Z"
   },
   {
    "duration": 18,
    "start_time": "2022-01-29T07:21:34.089Z"
   },
   {
    "duration": 852,
    "start_time": "2022-01-29T07:41:19.891Z"
   },
   {
    "duration": 36,
    "start_time": "2022-01-29T07:42:01.397Z"
   },
   {
    "duration": 31,
    "start_time": "2022-01-29T07:42:39.035Z"
   },
   {
    "duration": 43,
    "start_time": "2022-01-29T07:42:54.659Z"
   },
   {
    "duration": 29,
    "start_time": "2022-01-29T07:44:38.074Z"
   },
   {
    "duration": 17,
    "start_time": "2022-01-29T07:44:51.764Z"
   },
   {
    "duration": 3,
    "start_time": "2022-01-29T07:45:00.899Z"
   },
   {
    "duration": 35,
    "start_time": "2022-01-29T07:45:00.904Z"
   },
   {
    "duration": 11,
    "start_time": "2022-01-29T07:45:00.941Z"
   },
   {
    "duration": 11,
    "start_time": "2022-01-29T07:45:00.954Z"
   },
   {
    "duration": 30,
    "start_time": "2022-01-29T07:45:00.967Z"
   },
   {
    "duration": 15,
    "start_time": "2022-01-29T07:45:00.998Z"
   },
   {
    "duration": 20,
    "start_time": "2022-01-29T07:45:01.014Z"
   },
   {
    "duration": 21,
    "start_time": "2022-01-29T07:45:10.290Z"
   },
   {
    "duration": 31,
    "start_time": "2022-01-29T07:45:38.383Z"
   },
   {
    "duration": 16,
    "start_time": "2022-01-29T07:45:40.392Z"
   },
   {
    "duration": 3,
    "start_time": "2022-01-29T07:47:18.744Z"
   },
   {
    "duration": 37,
    "start_time": "2022-01-29T07:47:18.749Z"
   },
   {
    "duration": 20,
    "start_time": "2022-01-29T07:47:18.788Z"
   },
   {
    "duration": 20,
    "start_time": "2022-01-29T07:47:18.809Z"
   },
   {
    "duration": 36,
    "start_time": "2022-01-29T07:47:18.831Z"
   },
   {
    "duration": 6,
    "start_time": "2022-01-29T07:47:18.869Z"
   },
   {
    "duration": 21,
    "start_time": "2022-01-29T07:47:18.877Z"
   },
   {
    "duration": 26,
    "start_time": "2022-01-29T07:47:18.900Z"
   },
   {
    "duration": 234,
    "start_time": "2022-01-29T07:47:23.326Z"
   },
   {
    "duration": 191,
    "start_time": "2022-01-29T07:47:41.309Z"
   },
   {
    "duration": 30,
    "start_time": "2022-01-29T07:48:06.668Z"
   },
   {
    "duration": 3,
    "start_time": "2022-01-29T07:49:24.972Z"
   },
   {
    "duration": 35,
    "start_time": "2022-01-29T07:49:24.978Z"
   },
   {
    "duration": 11,
    "start_time": "2022-01-29T07:49:25.015Z"
   },
   {
    "duration": 10,
    "start_time": "2022-01-29T07:49:25.028Z"
   },
   {
    "duration": 30,
    "start_time": "2022-01-29T07:49:25.040Z"
   },
   {
    "duration": 4,
    "start_time": "2022-01-29T07:49:25.071Z"
   },
   {
    "duration": 37,
    "start_time": "2022-01-29T07:49:25.077Z"
   },
   {
    "duration": 21,
    "start_time": "2022-01-29T07:49:25.116Z"
   },
   {
    "duration": 27,
    "start_time": "2022-01-29T07:49:28.405Z"
   },
   {
    "duration": 19,
    "start_time": "2022-01-29T07:49:30.794Z"
   },
   {
    "duration": 813,
    "start_time": "2022-01-29T07:49:55.688Z"
   },
   {
    "duration": 25,
    "start_time": "2022-01-29T07:50:27.935Z"
   },
   {
    "duration": 18,
    "start_time": "2022-01-29T07:50:29.766Z"
   },
   {
    "duration": 27,
    "start_time": "2022-01-29T07:52:47.372Z"
   },
   {
    "duration": 19,
    "start_time": "2022-01-29T07:52:49.136Z"
   },
   {
    "duration": 5,
    "start_time": "2022-01-29T07:53:32.103Z"
   },
   {
    "duration": 18,
    "start_time": "2022-01-29T07:53:55.560Z"
   },
   {
    "duration": 21,
    "start_time": "2022-01-29T07:54:14.814Z"
   },
   {
    "duration": 24,
    "start_time": "2022-01-29T07:54:59.685Z"
   },
   {
    "duration": 3,
    "start_time": "2022-01-29T07:55:57.945Z"
   },
   {
    "duration": 34,
    "start_time": "2022-01-29T07:55:57.951Z"
   },
   {
    "duration": 12,
    "start_time": "2022-01-29T07:55:57.986Z"
   },
   {
    "duration": 17,
    "start_time": "2022-01-29T07:55:58.000Z"
   },
   {
    "duration": 31,
    "start_time": "2022-01-29T07:55:58.019Z"
   },
   {
    "duration": 4,
    "start_time": "2022-01-29T07:55:58.051Z"
   },
   {
    "duration": 27,
    "start_time": "2022-01-29T07:55:58.057Z"
   },
   {
    "duration": 37,
    "start_time": "2022-01-29T07:55:58.086Z"
   },
   {
    "duration": 24,
    "start_time": "2022-01-29T07:56:05.491Z"
   },
   {
    "duration": 24,
    "start_time": "2022-01-29T07:56:09.756Z"
   },
   {
    "duration": 23,
    "start_time": "2022-01-29T07:56:42.502Z"
   },
   {
    "duration": 22,
    "start_time": "2022-01-29T07:56:58.945Z"
   },
   {
    "duration": 24,
    "start_time": "2022-01-29T07:57:00.897Z"
   },
   {
    "duration": 19,
    "start_time": "2022-01-29T07:57:46.789Z"
   },
   {
    "duration": 200,
    "start_time": "2022-01-29T07:58:46.945Z"
   },
   {
    "duration": 186,
    "start_time": "2022-01-29T07:58:53.681Z"
   },
   {
    "duration": 197,
    "start_time": "2022-01-29T07:59:06.490Z"
   },
   {
    "duration": 3,
    "start_time": "2022-01-29T08:01:31.006Z"
   },
   {
    "duration": 33,
    "start_time": "2022-01-29T08:01:31.012Z"
   },
   {
    "duration": 12,
    "start_time": "2022-01-29T08:01:31.048Z"
   },
   {
    "duration": 10,
    "start_time": "2022-01-29T08:01:31.063Z"
   },
   {
    "duration": 55,
    "start_time": "2022-01-29T08:01:31.074Z"
   },
   {
    "duration": 4,
    "start_time": "2022-01-29T08:01:31.131Z"
   },
   {
    "duration": 16,
    "start_time": "2022-01-29T08:01:31.137Z"
   },
   {
    "duration": 17,
    "start_time": "2022-01-29T08:01:31.155Z"
   },
   {
    "duration": 219,
    "start_time": "2022-01-29T08:01:40.205Z"
   },
   {
    "duration": 70,
    "start_time": "2022-01-29T08:01:54.195Z"
   },
   {
    "duration": 1271,
    "start_time": "2022-01-29T08:01:57.283Z"
   },
   {
    "duration": 11,
    "start_time": "2022-01-29T08:02:24.848Z"
   },
   {
    "duration": 2,
    "start_time": "2022-01-29T08:03:25.609Z"
   },
   {
    "duration": 37,
    "start_time": "2022-01-29T08:03:25.613Z"
   },
   {
    "duration": 12,
    "start_time": "2022-01-29T08:03:25.652Z"
   },
   {
    "duration": 10,
    "start_time": "2022-01-29T08:03:25.666Z"
   },
   {
    "duration": 48,
    "start_time": "2022-01-29T08:03:25.678Z"
   },
   {
    "duration": 3,
    "start_time": "2022-01-29T08:03:25.728Z"
   },
   {
    "duration": 16,
    "start_time": "2022-01-29T08:03:25.733Z"
   },
   {
    "duration": 19,
    "start_time": "2022-01-29T08:03:25.751Z"
   },
   {
    "duration": 20,
    "start_time": "2022-01-29T08:03:32.142Z"
   },
   {
    "duration": 3,
    "start_time": "2022-01-29T08:05:10.077Z"
   },
   {
    "duration": 42,
    "start_time": "2022-01-29T08:05:10.081Z"
   },
   {
    "duration": 14,
    "start_time": "2022-01-29T08:05:10.125Z"
   },
   {
    "duration": 12,
    "start_time": "2022-01-29T08:05:10.141Z"
   },
   {
    "duration": 32,
    "start_time": "2022-01-29T08:05:10.154Z"
   },
   {
    "duration": 26,
    "start_time": "2022-01-29T08:05:10.188Z"
   },
   {
    "duration": 24,
    "start_time": "2022-01-29T08:05:10.217Z"
   },
   {
    "duration": 28,
    "start_time": "2022-01-29T08:05:10.243Z"
   },
   {
    "duration": 37,
    "start_time": "2022-01-29T08:05:13.886Z"
   },
   {
    "duration": 2,
    "start_time": "2022-01-29T08:05:48.714Z"
   },
   {
    "duration": 34,
    "start_time": "2022-01-29T08:05:48.718Z"
   },
   {
    "duration": 11,
    "start_time": "2022-01-29T08:05:48.754Z"
   },
   {
    "duration": 9,
    "start_time": "2022-01-29T08:05:48.767Z"
   },
   {
    "duration": 44,
    "start_time": "2022-01-29T08:05:48.778Z"
   },
   {
    "duration": 4,
    "start_time": "2022-01-29T08:05:48.824Z"
   },
   {
    "duration": 16,
    "start_time": "2022-01-29T08:05:48.830Z"
   },
   {
    "duration": 19,
    "start_time": "2022-01-29T08:05:48.847Z"
   },
   {
    "duration": 278,
    "start_time": "2022-01-29T08:05:51.947Z"
   },
   {
    "duration": 3,
    "start_time": "2022-01-29T08:06:41.188Z"
   },
   {
    "duration": 36,
    "start_time": "2022-01-29T08:06:41.192Z"
   },
   {
    "duration": 12,
    "start_time": "2022-01-29T08:06:41.230Z"
   },
   {
    "duration": 12,
    "start_time": "2022-01-29T08:06:41.244Z"
   },
   {
    "duration": 30,
    "start_time": "2022-01-29T08:06:41.257Z"
   },
   {
    "duration": 31,
    "start_time": "2022-01-29T08:06:41.289Z"
   },
   {
    "duration": 25,
    "start_time": "2022-01-29T08:06:41.323Z"
   },
   {
    "duration": 20,
    "start_time": "2022-01-29T08:06:41.350Z"
   },
   {
    "duration": 41,
    "start_time": "2022-01-29T08:06:44.224Z"
   },
   {
    "duration": 93,
    "start_time": "2022-01-29T08:07:41.195Z"
   },
   {
    "duration": 3,
    "start_time": "2022-01-29T08:08:50.103Z"
   },
   {
    "duration": 36,
    "start_time": "2022-01-29T08:08:50.108Z"
   },
   {
    "duration": 11,
    "start_time": "2022-01-29T08:08:50.146Z"
   },
   {
    "duration": 11,
    "start_time": "2022-01-29T08:08:50.159Z"
   },
   {
    "duration": 48,
    "start_time": "2022-01-29T08:08:50.171Z"
   },
   {
    "duration": 5,
    "start_time": "2022-01-29T08:08:50.220Z"
   },
   {
    "duration": 18,
    "start_time": "2022-01-29T08:08:50.227Z"
   },
   {
    "duration": 18,
    "start_time": "2022-01-29T08:08:50.247Z"
   },
   {
    "duration": 59,
    "start_time": "2022-01-29T08:08:53.216Z"
   },
   {
    "duration": 44,
    "start_time": "2022-01-29T08:09:45.319Z"
   },
   {
    "duration": 28,
    "start_time": "2022-01-29T08:10:02.495Z"
   },
   {
    "duration": 47,
    "start_time": "2022-01-29T08:12:44.525Z"
   },
   {
    "duration": 39,
    "start_time": "2022-01-29T08:13:18.507Z"
   },
   {
    "duration": 82,
    "start_time": "2022-01-29T08:13:46.767Z"
   },
   {
    "duration": 3,
    "start_time": "2022-01-29T08:15:31.523Z"
   },
   {
    "duration": 37,
    "start_time": "2022-01-29T08:15:31.528Z"
   },
   {
    "duration": 12,
    "start_time": "2022-01-29T08:15:31.566Z"
   },
   {
    "duration": 13,
    "start_time": "2022-01-29T08:15:31.579Z"
   },
   {
    "duration": 29,
    "start_time": "2022-01-29T08:15:31.593Z"
   },
   {
    "duration": 3,
    "start_time": "2022-01-29T08:15:31.624Z"
   },
   {
    "duration": 18,
    "start_time": "2022-01-29T08:15:31.629Z"
   },
   {
    "duration": 18,
    "start_time": "2022-01-29T08:15:31.648Z"
   },
   {
    "duration": 27,
    "start_time": "2022-01-29T08:15:36.869Z"
   },
   {
    "duration": 3,
    "start_time": "2022-01-29T08:16:52.087Z"
   },
   {
    "duration": 34,
    "start_time": "2022-01-29T08:16:52.092Z"
   },
   {
    "duration": 12,
    "start_time": "2022-01-29T08:16:52.128Z"
   },
   {
    "duration": 11,
    "start_time": "2022-01-29T08:16:52.141Z"
   },
   {
    "duration": 28,
    "start_time": "2022-01-29T08:16:52.154Z"
   },
   {
    "duration": 4,
    "start_time": "2022-01-29T08:16:52.184Z"
   },
   {
    "duration": 15,
    "start_time": "2022-01-29T08:16:52.213Z"
   },
   {
    "duration": 20,
    "start_time": "2022-01-29T08:16:52.229Z"
   },
   {
    "duration": 56,
    "start_time": "2022-01-29T08:16:55.928Z"
   },
   {
    "duration": 4506,
    "start_time": "2022-01-29T08:24:58.618Z"
   },
   {
    "duration": 5,
    "start_time": "2022-01-29T08:25:16.455Z"
   },
   {
    "duration": 5,
    "start_time": "2022-01-29T08:26:41.992Z"
   },
   {
    "duration": 1527,
    "start_time": "2022-01-29T16:20:13.487Z"
   },
   {
    "duration": 240,
    "start_time": "2022-01-29T16:20:15.016Z"
   },
   {
    "duration": 24,
    "start_time": "2022-01-29T16:20:15.260Z"
   },
   {
    "duration": 15,
    "start_time": "2022-01-29T16:20:15.287Z"
   },
   {
    "duration": 59,
    "start_time": "2022-01-29T16:20:15.305Z"
   },
   {
    "duration": 7,
    "start_time": "2022-01-29T16:20:15.367Z"
   },
   {
    "duration": 57,
    "start_time": "2022-01-29T16:20:15.377Z"
   },
   {
    "duration": 5,
    "start_time": "2022-01-29T16:20:15.438Z"
   },
   {
    "duration": 37,
    "start_time": "2022-01-29T16:20:39.036Z"
   },
   {
    "duration": 34,
    "start_time": "2022-01-29T16:22:15.916Z"
   },
   {
    "duration": 25,
    "start_time": "2022-01-29T16:22:28.823Z"
   },
   {
    "duration": 8,
    "start_time": "2022-01-29T16:22:44.623Z"
   },
   {
    "duration": 5,
    "start_time": "2022-01-29T16:24:55.310Z"
   },
   {
    "duration": 61,
    "start_time": "2022-01-29T16:24:55.317Z"
   },
   {
    "duration": 27,
    "start_time": "2022-01-29T16:24:55.382Z"
   },
   {
    "duration": 30,
    "start_time": "2022-01-29T16:24:55.412Z"
   },
   {
    "duration": 46,
    "start_time": "2022-01-29T16:24:55.444Z"
   },
   {
    "duration": 32,
    "start_time": "2022-01-29T16:24:55.493Z"
   },
   {
    "duration": 23,
    "start_time": "2022-01-29T16:24:55.529Z"
   },
   {
    "duration": 6,
    "start_time": "2022-01-29T16:24:55.555Z"
   },
   {
    "duration": 53,
    "start_time": "2022-01-29T16:25:02.435Z"
   },
   {
    "duration": 43,
    "start_time": "2022-01-29T16:25:49.092Z"
   },
   {
    "duration": 4,
    "start_time": "2022-01-29T16:36:52.288Z"
   },
   {
    "duration": 47,
    "start_time": "2022-01-29T16:36:52.295Z"
   },
   {
    "duration": 19,
    "start_time": "2022-01-29T16:36:52.345Z"
   },
   {
    "duration": 15,
    "start_time": "2022-01-29T16:36:52.366Z"
   },
   {
    "duration": 72,
    "start_time": "2022-01-29T16:36:52.384Z"
   },
   {
    "duration": 6,
    "start_time": "2022-01-29T16:36:52.458Z"
   },
   {
    "duration": 25,
    "start_time": "2022-01-29T16:36:52.467Z"
   },
   {
    "duration": 5,
    "start_time": "2022-01-29T16:36:52.525Z"
   },
   {
    "duration": 42,
    "start_time": "2022-01-29T16:36:52.532Z"
   },
   {
    "duration": 53,
    "start_time": "2022-01-29T16:36:52.576Z"
   },
   {
    "duration": 6,
    "start_time": "2022-01-29T16:36:52.632Z"
   },
   {
    "duration": 26,
    "start_time": "2022-01-29T16:36:52.640Z"
   },
   {
    "duration": 6,
    "start_time": "2022-01-29T16:36:52.668Z"
   },
   {
    "duration": 52,
    "start_time": "2022-01-29T16:36:52.676Z"
   },
   {
    "duration": 12,
    "start_time": "2022-01-29T16:36:52.730Z"
   },
   {
    "duration": 16,
    "start_time": "2022-01-29T16:36:52.744Z"
   },
   {
    "duration": 62,
    "start_time": "2022-01-29T16:36:52.762Z"
   },
   {
    "duration": 6,
    "start_time": "2022-01-29T16:36:52.827Z"
   },
   {
    "duration": 6,
    "start_time": "2022-01-29T16:36:52.835Z"
   },
   {
    "duration": 21,
    "start_time": "2022-01-29T16:36:52.844Z"
   },
   {
    "duration": 5,
    "start_time": "2022-01-29T16:36:52.867Z"
   },
   {
    "duration": 491,
    "start_time": "2022-01-29T16:47:07.362Z"
   },
   {
    "duration": 5,
    "start_time": "2022-01-29T16:47:17.021Z"
   },
   {
    "duration": 58,
    "start_time": "2022-01-29T16:47:17.029Z"
   },
   {
    "duration": 41,
    "start_time": "2022-01-29T16:47:17.090Z"
   },
   {
    "duration": 13,
    "start_time": "2022-01-29T16:47:17.133Z"
   },
   {
    "duration": 98,
    "start_time": "2022-01-29T16:47:17.149Z"
   },
   {
    "duration": 9,
    "start_time": "2022-01-29T16:47:17.250Z"
   },
   {
    "duration": 34,
    "start_time": "2022-01-29T16:47:17.264Z"
   },
   {
    "duration": 8,
    "start_time": "2022-01-29T16:47:17.325Z"
   },
   {
    "duration": 163,
    "start_time": "2022-01-29T16:47:17.336Z"
   },
   {
    "duration": 32,
    "start_time": "2022-01-29T16:47:17.502Z"
   },
   {
    "duration": 9,
    "start_time": "2022-01-29T16:47:17.537Z"
   },
   {
    "duration": 39,
    "start_time": "2022-01-29T16:47:17.549Z"
   },
   {
    "duration": 7,
    "start_time": "2022-01-29T16:47:17.591Z"
   },
   {
    "duration": 17,
    "start_time": "2022-01-29T16:47:17.624Z"
   },
   {
    "duration": 19,
    "start_time": "2022-01-29T16:47:17.644Z"
   },
   {
    "duration": 25,
    "start_time": "2022-01-29T16:47:17.666Z"
   },
   {
    "duration": 34,
    "start_time": "2022-01-29T16:47:17.723Z"
   },
   {
    "duration": 6,
    "start_time": "2022-01-29T16:47:17.760Z"
   },
   {
    "duration": 13,
    "start_time": "2022-01-29T16:47:17.773Z"
   },
   {
    "duration": 51,
    "start_time": "2022-01-29T16:47:17.789Z"
   },
   {
    "duration": 7,
    "start_time": "2022-01-29T16:47:17.843Z"
   },
   {
    "duration": 22,
    "start_time": "2022-01-29T16:47:17.852Z"
   },
   {
    "duration": 1308,
    "start_time": "2022-01-29T16:47:17.876Z"
   },
   {
    "duration": 11,
    "start_time": "2022-01-29T16:47:19.186Z"
   },
   {
    "duration": 48,
    "start_time": "2022-01-29T16:47:19.199Z"
   },
   {
    "duration": 39,
    "start_time": "2022-01-29T16:47:19.251Z"
   },
   {
    "duration": 1070,
    "start_time": "2022-01-29T16:47:19.292Z"
   },
   {
    "duration": 37,
    "start_time": "2022-01-29T16:47:20.364Z"
   },
   {
    "duration": 38,
    "start_time": "2022-01-29T16:47:20.403Z"
   },
   {
    "duration": 48,
    "start_time": "2022-01-29T16:47:20.444Z"
   },
   {
    "duration": 67,
    "start_time": "2022-01-29T16:47:52.362Z"
   },
   {
    "duration": 36,
    "start_time": "2022-01-29T16:48:28.276Z"
   },
   {
    "duration": 32,
    "start_time": "2022-01-29T16:53:20.347Z"
   },
   {
    "duration": 715,
    "start_time": "2022-01-29T16:53:23.648Z"
   },
   {
    "duration": 21,
    "start_time": "2022-01-29T16:58:17.298Z"
   },
   {
    "duration": 565,
    "start_time": "2022-01-29T16:58:24.150Z"
   },
   {
    "duration": 4,
    "start_time": "2022-01-29T16:59:16.991Z"
   },
   {
    "duration": 7531,
    "start_time": "2022-01-29T17:01:23.360Z"
   },
   {
    "duration": 407,
    "start_time": "2022-01-29T17:01:59.202Z"
   },
   {
    "duration": 305,
    "start_time": "2022-01-29T17:03:09.275Z"
   },
   {
    "duration": 33,
    "start_time": "2022-01-29T17:03:15.386Z"
   },
   {
    "duration": 742,
    "start_time": "2022-01-29T17:03:22.162Z"
   },
   {
    "duration": 647,
    "start_time": "2022-01-29T17:04:51.997Z"
   },
   {
    "duration": 561,
    "start_time": "2022-01-29T17:08:02.084Z"
   },
   {
    "duration": 560,
    "start_time": "2022-01-29T17:08:13.671Z"
   },
   {
    "duration": 546,
    "start_time": "2022-01-29T17:09:41.269Z"
   },
   {
    "duration": 15,
    "start_time": "2022-01-29T17:16:32.320Z"
   },
   {
    "duration": 360,
    "start_time": "2022-01-29T17:17:01.833Z"
   },
   {
    "duration": 66,
    "start_time": "2022-01-29T17:17:29.224Z"
   },
   {
    "duration": 15,
    "start_time": "2022-01-29T17:20:12.691Z"
   },
   {
    "duration": 135,
    "start_time": "2022-01-29T17:20:16.431Z"
   },
   {
    "duration": 14,
    "start_time": "2022-01-29T17:21:24.332Z"
   },
   {
    "duration": 14,
    "start_time": "2022-01-29T17:21:42.475Z"
   },
   {
    "duration": 72,
    "start_time": "2022-01-29T17:21:47.436Z"
   },
   {
    "duration": 70,
    "start_time": "2022-01-29T17:22:59.048Z"
   },
   {
    "duration": 2290,
    "start_time": "2022-01-29T17:23:58.254Z"
   },
   {
    "duration": 536,
    "start_time": "2022-01-29T17:25:08.920Z"
   },
   {
    "duration": 98,
    "start_time": "2022-01-29T17:27:01.474Z"
   },
   {
    "duration": 135,
    "start_time": "2022-01-29T17:27:35.211Z"
   },
   {
    "duration": 107,
    "start_time": "2022-01-29T17:27:44.471Z"
   },
   {
    "duration": 293,
    "start_time": "2022-01-29T17:31:16.732Z"
   },
   {
    "duration": 276,
    "start_time": "2022-01-29T17:31:43.782Z"
   },
   {
    "duration": 273,
    "start_time": "2022-01-29T17:32:53.031Z"
   },
   {
    "duration": 289,
    "start_time": "2022-01-29T17:36:23.426Z"
   },
   {
    "duration": 299,
    "start_time": "2022-01-29T17:36:47.277Z"
   },
   {
    "duration": 286,
    "start_time": "2022-01-29T17:36:58.973Z"
   },
   {
    "duration": 308,
    "start_time": "2022-01-29T17:37:25.514Z"
   },
   {
    "duration": 276,
    "start_time": "2022-01-29T17:37:43.912Z"
   },
   {
    "duration": 4,
    "start_time": "2022-01-29T17:40:54.927Z"
   },
   {
    "duration": 7,
    "start_time": "2022-01-29T17:41:04.884Z"
   },
   {
    "duration": 8,
    "start_time": "2022-01-29T17:41:33.210Z"
   },
   {
    "duration": 506,
    "start_time": "2022-01-29T17:43:56.464Z"
   },
   {
    "duration": 928,
    "start_time": "2022-01-29T17:48:36.430Z"
   },
   {
    "duration": 314,
    "start_time": "2022-01-29T17:50:34.848Z"
   },
   {
    "duration": 1035,
    "start_time": "2022-01-29T17:50:43.320Z"
   },
   {
    "duration": 1055,
    "start_time": "2022-01-29T17:55:38.976Z"
   },
   {
    "duration": 8,
    "start_time": "2022-01-29T18:04:28.141Z"
   },
   {
    "duration": 10,
    "start_time": "2022-01-29T18:04:29.182Z"
   },
   {
    "duration": 1010,
    "start_time": "2022-01-29T18:08:08.095Z"
   },
   {
    "duration": 1391,
    "start_time": "2022-01-29T18:08:53.699Z"
   },
   {
    "duration": 4,
    "start_time": "2022-01-29T19:26:58.210Z"
   },
   {
    "duration": 56,
    "start_time": "2022-01-29T19:26:58.217Z"
   },
   {
    "duration": 18,
    "start_time": "2022-01-29T19:26:58.277Z"
   },
   {
    "duration": 40,
    "start_time": "2022-01-29T19:26:58.299Z"
   },
   {
    "duration": 90,
    "start_time": "2022-01-29T19:26:58.342Z"
   },
   {
    "duration": 8,
    "start_time": "2022-01-29T19:26:58.435Z"
   },
   {
    "duration": 26,
    "start_time": "2022-01-29T19:26:58.445Z"
   },
   {
    "duration": 7,
    "start_time": "2022-01-29T19:26:58.474Z"
   },
   {
    "duration": 45,
    "start_time": "2022-01-29T19:26:58.525Z"
   },
   {
    "duration": 16,
    "start_time": "2022-01-29T19:26:58.573Z"
   },
   {
    "duration": 36,
    "start_time": "2022-01-29T19:26:58.591Z"
   },
   {
    "duration": 20,
    "start_time": "2022-01-29T19:26:58.629Z"
   },
   {
    "duration": 6,
    "start_time": "2022-01-29T19:26:58.651Z"
   },
   {
    "duration": 11,
    "start_time": "2022-01-29T19:26:58.659Z"
   },
   {
    "duration": 55,
    "start_time": "2022-01-29T19:26:58.673Z"
   },
   {
    "duration": 12,
    "start_time": "2022-01-29T19:26:58.731Z"
   },
   {
    "duration": 21,
    "start_time": "2022-01-29T19:26:58.746Z"
   },
   {
    "duration": 20,
    "start_time": "2022-01-29T19:26:58.770Z"
   },
   {
    "duration": 35,
    "start_time": "2022-01-29T19:26:58.792Z"
   },
   {
    "duration": 5,
    "start_time": "2022-01-29T19:26:58.829Z"
   },
   {
    "duration": 22,
    "start_time": "2022-01-29T19:26:58.837Z"
   },
   {
    "duration": 6,
    "start_time": "2022-01-29T19:26:58.862Z"
   },
   {
    "duration": 61,
    "start_time": "2022-01-29T19:26:58.870Z"
   },
   {
    "duration": 1182,
    "start_time": "2022-01-29T19:26:58.933Z"
   },
   {
    "duration": 17,
    "start_time": "2022-01-29T19:27:00.117Z"
   },
   {
    "duration": 24,
    "start_time": "2022-01-29T19:27:00.137Z"
   },
   {
    "duration": 71,
    "start_time": "2022-01-29T19:27:00.168Z"
   },
   {
    "duration": 1263,
    "start_time": "2022-01-29T19:27:00.243Z"
   },
   {
    "duration": 44,
    "start_time": "2022-01-29T19:27:01.509Z"
   },
   {
    "duration": 22,
    "start_time": "2022-01-29T19:27:01.556Z"
   },
   {
    "duration": 69,
    "start_time": "2022-01-29T19:27:01.580Z"
   },
   {
    "duration": 35,
    "start_time": "2022-01-29T19:27:01.652Z"
   },
   {
    "duration": 781,
    "start_time": "2022-01-29T19:27:01.689Z"
   },
   {
    "duration": 25,
    "start_time": "2022-01-29T19:27:02.473Z"
   },
   {
    "duration": 590,
    "start_time": "2022-01-29T19:27:02.501Z"
   },
   {
    "duration": 28,
    "start_time": "2022-01-29T19:27:03.095Z"
   },
   {
    "duration": 102,
    "start_time": "2022-01-29T19:27:03.126Z"
   },
   {
    "duration": 2529,
    "start_time": "2022-01-29T19:27:03.231Z"
   },
   {
    "duration": 521,
    "start_time": "2022-01-29T19:27:05.762Z"
   },
   {
    "duration": 1053,
    "start_time": "2022-01-29T19:27:06.285Z"
   },
   {
    "duration": 950,
    "start_time": "2022-01-29T19:27:07.342Z"
   },
   {
    "duration": 952,
    "start_time": "2022-01-29T19:27:08.295Z"
   },
   {
    "duration": 31,
    "start_time": "2022-01-29T19:28:50.544Z"
   },
   {
    "duration": 7,
    "start_time": "2022-01-29T19:28:53.055Z"
   },
   {
    "duration": 13,
    "start_time": "2022-01-29T19:29:24.443Z"
   },
   {
    "duration": 7,
    "start_time": "2022-01-29T19:29:28.585Z"
   },
   {
    "duration": 31,
    "start_time": "2022-01-29T19:30:23.412Z"
   },
   {
    "duration": 8,
    "start_time": "2022-01-29T19:30:25.592Z"
   },
   {
    "duration": 4,
    "start_time": "2022-01-29T19:30:35.799Z"
   },
   {
    "duration": 44,
    "start_time": "2022-01-29T19:30:35.808Z"
   },
   {
    "duration": 19,
    "start_time": "2022-01-29T19:30:35.855Z"
   },
   {
    "duration": 45,
    "start_time": "2022-01-29T19:30:35.878Z"
   },
   {
    "duration": 50,
    "start_time": "2022-01-29T19:30:35.927Z"
   },
   {
    "duration": 45,
    "start_time": "2022-01-29T19:30:35.980Z"
   },
   {
    "duration": 26,
    "start_time": "2022-01-29T19:30:36.027Z"
   },
   {
    "duration": 5,
    "start_time": "2022-01-29T19:30:36.056Z"
   },
   {
    "duration": 164,
    "start_time": "2022-01-29T19:30:36.063Z"
   },
   {
    "duration": 16,
    "start_time": "2022-01-29T19:30:36.232Z"
   },
   {
    "duration": 6,
    "start_time": "2022-01-29T19:30:36.251Z"
   },
   {
    "duration": 29,
    "start_time": "2022-01-29T19:30:36.259Z"
   },
   {
    "duration": 33,
    "start_time": "2022-01-29T19:30:36.290Z"
   },
   {
    "duration": 9,
    "start_time": "2022-01-29T19:30:36.326Z"
   },
   {
    "duration": 11,
    "start_time": "2022-01-29T19:30:36.338Z"
   },
   {
    "duration": 13,
    "start_time": "2022-01-29T19:30:36.351Z"
   },
   {
    "duration": 56,
    "start_time": "2022-01-29T19:30:36.367Z"
   },
   {
    "duration": 21,
    "start_time": "2022-01-29T19:30:36.425Z"
   },
   {
    "duration": 5,
    "start_time": "2022-01-29T19:30:36.449Z"
   },
   {
    "duration": 6,
    "start_time": "2022-01-29T19:30:36.456Z"
   },
   {
    "duration": 61,
    "start_time": "2022-01-29T19:30:36.464Z"
   },
   {
    "duration": 6,
    "start_time": "2022-01-29T19:30:36.527Z"
   },
   {
    "duration": 23,
    "start_time": "2022-01-29T19:30:36.535Z"
   },
   {
    "duration": 1051,
    "start_time": "2022-01-29T19:30:36.560Z"
   },
   {
    "duration": 21,
    "start_time": "2022-01-29T19:30:37.613Z"
   },
   {
    "duration": 24,
    "start_time": "2022-01-29T19:30:37.636Z"
   },
   {
    "duration": 61,
    "start_time": "2022-01-29T19:30:37.663Z"
   },
   {
    "duration": 1060,
    "start_time": "2022-01-29T19:30:37.729Z"
   },
   {
    "duration": 50,
    "start_time": "2022-01-29T19:30:38.792Z"
   },
   {
    "duration": 22,
    "start_time": "2022-01-29T19:30:38.844Z"
   },
   {
    "duration": 65,
    "start_time": "2022-01-29T19:30:38.868Z"
   },
   {
    "duration": 34,
    "start_time": "2022-01-29T19:30:38.936Z"
   },
   {
    "duration": 763,
    "start_time": "2022-01-29T19:30:38.972Z"
   },
   {
    "duration": 23,
    "start_time": "2022-01-29T19:30:39.737Z"
   },
   {
    "duration": 559,
    "start_time": "2022-01-29T19:30:39.762Z"
   },
   {
    "duration": 13,
    "start_time": "2022-01-29T19:30:40.324Z"
   },
   {
    "duration": 95,
    "start_time": "2022-01-29T19:30:40.339Z"
   },
   {
    "duration": 2433,
    "start_time": "2022-01-29T19:30:40.436Z"
   },
   {
    "duration": 631,
    "start_time": "2022-01-29T19:30:42.871Z"
   },
   {
    "duration": 1042,
    "start_time": "2022-01-29T19:30:43.504Z"
   },
   {
    "duration": 986,
    "start_time": "2022-01-29T19:30:44.549Z"
   },
   {
    "duration": 1072,
    "start_time": "2022-01-29T19:30:45.538Z"
   },
   {
    "duration": 32,
    "start_time": "2022-01-29T19:30:46.613Z"
   },
   {
    "duration": 7,
    "start_time": "2022-01-29T19:30:46.647Z"
   },
   {
    "duration": 18,
    "start_time": "2022-01-29T19:30:46.656Z"
   },
   {
    "duration": 8,
    "start_time": "2022-01-29T19:30:46.676Z"
   },
   {
    "duration": 16,
    "start_time": "2022-01-29T19:37:07.368Z"
   },
   {
    "duration": 23,
    "start_time": "2022-01-29T19:37:21.184Z"
   },
   {
    "duration": 14,
    "start_time": "2022-01-29T19:37:49.501Z"
   },
   {
    "duration": 78,
    "start_time": "2022-01-29T19:37:56.457Z"
   },
   {
    "duration": 22,
    "start_time": "2022-01-29T19:38:49.515Z"
   },
   {
    "duration": 4,
    "start_time": "2022-01-29T19:39:41.290Z"
   },
   {
    "duration": 45,
    "start_time": "2022-01-29T19:39:41.297Z"
   },
   {
    "duration": 19,
    "start_time": "2022-01-29T19:39:41.346Z"
   },
   {
    "duration": 16,
    "start_time": "2022-01-29T19:39:41.368Z"
   },
   {
    "duration": 70,
    "start_time": "2022-01-29T19:39:41.387Z"
   },
   {
    "duration": 8,
    "start_time": "2022-01-29T19:39:41.460Z"
   },
   {
    "duration": 55,
    "start_time": "2022-01-29T19:39:41.471Z"
   },
   {
    "duration": 6,
    "start_time": "2022-01-29T19:39:41.529Z"
   },
   {
    "duration": 168,
    "start_time": "2022-01-29T19:39:41.537Z"
   },
   {
    "duration": 25,
    "start_time": "2022-01-29T19:39:41.708Z"
   },
   {
    "duration": 6,
    "start_time": "2022-01-29T19:39:41.738Z"
   },
   {
    "duration": 19,
    "start_time": "2022-01-29T19:39:41.746Z"
   },
   {
    "duration": 5,
    "start_time": "2022-01-29T19:39:41.768Z"
   },
   {
    "duration": 54,
    "start_time": "2022-01-29T19:39:41.775Z"
   },
   {
    "duration": 10,
    "start_time": "2022-01-29T19:39:41.831Z"
   },
   {
    "duration": 13,
    "start_time": "2022-01-29T19:39:41.843Z"
   },
   {
    "duration": 17,
    "start_time": "2022-01-29T19:39:41.858Z"
   },
   {
    "duration": 69,
    "start_time": "2022-01-29T19:39:41.878Z"
   },
   {
    "duration": 6,
    "start_time": "2022-01-29T19:39:41.952Z"
   },
   {
    "duration": 7,
    "start_time": "2022-01-29T19:39:41.962Z"
   },
   {
    "duration": 75,
    "start_time": "2022-01-29T19:39:41.972Z"
   },
   {
    "duration": 9,
    "start_time": "2022-01-29T19:39:42.050Z"
   },
   {
    "duration": 31,
    "start_time": "2022-01-29T19:39:42.062Z"
   },
   {
    "duration": 1025,
    "start_time": "2022-01-29T19:39:42.123Z"
   },
   {
    "duration": 12,
    "start_time": "2022-01-29T19:39:43.151Z"
   },
   {
    "duration": 24,
    "start_time": "2022-01-29T19:39:43.165Z"
   },
   {
    "duration": 64,
    "start_time": "2022-01-29T19:39:43.192Z"
   },
   {
    "duration": 1079,
    "start_time": "2022-01-29T19:39:43.259Z"
   },
   {
    "duration": 40,
    "start_time": "2022-01-29T19:39:44.340Z"
   },
   {
    "duration": 25,
    "start_time": "2022-01-29T19:40:29.647Z"
   },
   {
    "duration": 47,
    "start_time": "2022-01-29T19:40:38.725Z"
   },
   {
    "duration": 4,
    "start_time": "2022-01-29T19:40:45.258Z"
   },
   {
    "duration": 50,
    "start_time": "2022-01-29T19:40:45.265Z"
   },
   {
    "duration": 20,
    "start_time": "2022-01-29T19:40:45.319Z"
   },
   {
    "duration": 16,
    "start_time": "2022-01-29T19:40:45.342Z"
   },
   {
    "duration": 73,
    "start_time": "2022-01-29T19:40:45.361Z"
   },
   {
    "duration": 6,
    "start_time": "2022-01-29T19:40:45.437Z"
   },
   {
    "duration": 29,
    "start_time": "2022-01-29T19:40:45.445Z"
   },
   {
    "duration": 6,
    "start_time": "2022-01-29T19:40:45.480Z"
   },
   {
    "duration": 49,
    "start_time": "2022-01-29T19:40:45.524Z"
   },
   {
    "duration": 48,
    "start_time": "2022-01-29T19:40:45.575Z"
   },
   {
    "duration": 8,
    "start_time": "2022-01-29T19:40:45.626Z"
   },
   {
    "duration": 25,
    "start_time": "2022-01-29T19:40:45.637Z"
   },
   {
    "duration": 7,
    "start_time": "2022-01-29T19:40:45.664Z"
   },
   {
    "duration": 12,
    "start_time": "2022-01-29T19:40:45.673Z"
   },
   {
    "duration": 38,
    "start_time": "2022-01-29T19:40:45.688Z"
   },
   {
    "duration": 17,
    "start_time": "2022-01-29T19:40:45.728Z"
   },
   {
    "duration": 16,
    "start_time": "2022-01-29T19:40:45.748Z"
   },
   {
    "duration": 58,
    "start_time": "2022-01-29T19:40:45.767Z"
   },
   {
    "duration": 6,
    "start_time": "2022-01-29T19:40:45.828Z"
   },
   {
    "duration": 5,
    "start_time": "2022-01-29T19:40:45.837Z"
   },
   {
    "duration": 23,
    "start_time": "2022-01-29T19:40:45.844Z"
   },
   {
    "duration": 53,
    "start_time": "2022-01-29T19:40:45.869Z"
   },
   {
    "duration": 22,
    "start_time": "2022-01-29T19:40:45.927Z"
   },
   {
    "duration": 1138,
    "start_time": "2022-01-29T19:40:45.952Z"
   },
   {
    "duration": 12,
    "start_time": "2022-01-29T19:40:47.092Z"
   },
   {
    "duration": 42,
    "start_time": "2022-01-29T19:40:47.106Z"
   },
   {
    "duration": 36,
    "start_time": "2022-01-29T19:40:47.151Z"
   },
   {
    "duration": 1056,
    "start_time": "2022-01-29T19:40:47.190Z"
   },
   {
    "duration": 40,
    "start_time": "2022-01-29T19:40:48.249Z"
   },
   {
    "duration": 48,
    "start_time": "2022-01-29T19:40:48.292Z"
   },
   {
    "duration": 46,
    "start_time": "2022-01-29T19:40:48.343Z"
   },
   {
    "duration": 184,
    "start_time": "2022-01-29T19:40:48.392Z"
   },
   {
    "duration": 761,
    "start_time": "2022-01-29T19:40:48.580Z"
   },
   {
    "duration": 22,
    "start_time": "2022-01-29T19:40:49.344Z"
   },
   {
    "duration": 571,
    "start_time": "2022-01-29T19:40:49.368Z"
   },
   {
    "duration": 14,
    "start_time": "2022-01-29T19:40:49.941Z"
   },
   {
    "duration": 93,
    "start_time": "2022-01-29T19:40:49.958Z"
   },
   {
    "duration": 2115,
    "start_time": "2022-01-29T19:40:50.054Z"
   },
   {
    "duration": 531,
    "start_time": "2022-01-29T19:40:52.172Z"
   },
   {
    "duration": 1033,
    "start_time": "2022-01-29T19:40:52.706Z"
   },
   {
    "duration": 940,
    "start_time": "2022-01-29T19:40:53.741Z"
   },
   {
    "duration": 929,
    "start_time": "2022-01-29T19:40:54.684Z"
   },
   {
    "duration": 35,
    "start_time": "2022-01-29T19:40:55.615Z"
   },
   {
    "duration": 7,
    "start_time": "2022-01-29T19:40:55.652Z"
   },
   {
    "duration": 15,
    "start_time": "2022-01-29T19:40:55.661Z"
   },
   {
    "duration": 6,
    "start_time": "2022-01-29T19:40:55.678Z"
   },
   {
    "duration": 15,
    "start_time": "2022-01-29T19:44:19.442Z"
   },
   {
    "duration": 298,
    "start_time": "2022-01-29T19:44:42.959Z"
   },
   {
    "duration": 291,
    "start_time": "2022-01-29T19:44:56.710Z"
   },
   {
    "duration": 15,
    "start_time": "2022-01-29T19:45:53.568Z"
   },
   {
    "duration": 23,
    "start_time": "2022-01-29T19:46:11.560Z"
   },
   {
    "duration": 16,
    "start_time": "2022-01-29T19:46:22.343Z"
   },
   {
    "duration": 23,
    "start_time": "2022-01-29T19:46:32.073Z"
   },
   {
    "duration": 901,
    "start_time": "2022-01-29T19:46:34.139Z"
   },
   {
    "duration": 570,
    "start_time": "2022-01-29T19:47:31.231Z"
   },
   {
    "duration": 732,
    "start_time": "2022-01-29T19:48:06.078Z"
   },
   {
    "duration": 4,
    "start_time": "2022-01-29T19:48:10.794Z"
   },
   {
    "duration": 48,
    "start_time": "2022-01-29T19:48:10.801Z"
   },
   {
    "duration": 18,
    "start_time": "2022-01-29T19:48:10.852Z"
   },
   {
    "duration": 15,
    "start_time": "2022-01-29T19:48:10.873Z"
   },
   {
    "duration": 70,
    "start_time": "2022-01-29T19:48:10.890Z"
   },
   {
    "duration": 6,
    "start_time": "2022-01-29T19:48:10.963Z"
   },
   {
    "duration": 57,
    "start_time": "2022-01-29T19:48:10.971Z"
   },
   {
    "duration": 6,
    "start_time": "2022-01-29T19:48:11.031Z"
   },
   {
    "duration": 44,
    "start_time": "2022-01-29T19:48:11.041Z"
   },
   {
    "duration": 47,
    "start_time": "2022-01-29T19:48:11.088Z"
   },
   {
    "duration": 6,
    "start_time": "2022-01-29T19:48:11.137Z"
   },
   {
    "duration": 21,
    "start_time": "2022-01-29T19:48:11.145Z"
   },
   {
    "duration": 6,
    "start_time": "2022-01-29T19:48:11.168Z"
   },
   {
    "duration": 50,
    "start_time": "2022-01-29T19:48:11.176Z"
   },
   {
    "duration": 9,
    "start_time": "2022-01-29T19:48:11.229Z"
   },
   {
    "duration": 13,
    "start_time": "2022-01-29T19:48:11.241Z"
   },
   {
    "duration": 17,
    "start_time": "2022-01-29T19:48:11.257Z"
   },
   {
    "duration": 58,
    "start_time": "2022-01-29T19:48:11.277Z"
   },
   {
    "duration": 6,
    "start_time": "2022-01-29T19:48:11.337Z"
   },
   {
    "duration": 5,
    "start_time": "2022-01-29T19:48:11.347Z"
   },
   {
    "duration": 24,
    "start_time": "2022-01-29T19:48:11.355Z"
   },
   {
    "duration": 6,
    "start_time": "2022-01-29T19:48:11.423Z"
   },
   {
    "duration": 22,
    "start_time": "2022-01-29T19:48:11.432Z"
   },
   {
    "duration": 1070,
    "start_time": "2022-01-29T19:48:11.457Z"
   },
   {
    "duration": 13,
    "start_time": "2022-01-29T19:48:12.530Z"
   },
   {
    "duration": 26,
    "start_time": "2022-01-29T19:48:12.545Z"
   },
   {
    "duration": 65,
    "start_time": "2022-01-29T19:48:12.576Z"
   },
   {
    "duration": 1043,
    "start_time": "2022-01-29T19:48:12.643Z"
   },
   {
    "duration": 50,
    "start_time": "2022-01-29T19:48:13.688Z"
   },
   {
    "duration": 21,
    "start_time": "2022-01-29T19:48:13.740Z"
   },
   {
    "duration": 63,
    "start_time": "2022-01-29T19:48:13.763Z"
   },
   {
    "duration": 33,
    "start_time": "2022-01-29T19:48:13.828Z"
   },
   {
    "duration": 759,
    "start_time": "2022-01-29T19:48:13.864Z"
   },
   {
    "duration": 23,
    "start_time": "2022-01-29T19:48:14.625Z"
   },
   {
    "duration": 589,
    "start_time": "2022-01-29T19:48:14.650Z"
   },
   {
    "duration": 676,
    "start_time": "2022-01-29T19:49:08.921Z"
   },
   {
    "duration": 540,
    "start_time": "2022-01-29T19:49:25.829Z"
   },
   {
    "duration": 571,
    "start_time": "2022-01-29T19:49:57.871Z"
   },
   {
    "duration": 26,
    "start_time": "2022-01-29T19:51:10.664Z"
   },
   {
    "duration": 14,
    "start_time": "2022-01-29T19:51:48.644Z"
   },
   {
    "duration": 76,
    "start_time": "2022-01-29T19:51:51.862Z"
   },
   {
    "duration": 16,
    "start_time": "2022-01-29T19:58:53.440Z"
   },
   {
    "duration": 23,
    "start_time": "2022-01-29T19:59:08.796Z"
   },
   {
    "duration": 9,
    "start_time": "2022-01-29T20:21:04.216Z"
   },
   {
    "duration": 960,
    "start_time": "2022-01-29T20:28:26.984Z"
   },
   {
    "duration": 4,
    "start_time": "2022-01-29T20:28:36.141Z"
   },
   {
    "duration": 51,
    "start_time": "2022-01-29T20:28:36.148Z"
   },
   {
    "duration": 29,
    "start_time": "2022-01-29T20:28:36.201Z"
   },
   {
    "duration": 17,
    "start_time": "2022-01-29T20:28:36.233Z"
   },
   {
    "duration": 71,
    "start_time": "2022-01-29T20:28:36.252Z"
   },
   {
    "duration": 7,
    "start_time": "2022-01-29T20:28:36.328Z"
   },
   {
    "duration": 26,
    "start_time": "2022-01-29T20:28:36.339Z"
   },
   {
    "duration": 5,
    "start_time": "2022-01-29T20:28:36.368Z"
   },
   {
    "duration": 91,
    "start_time": "2022-01-29T20:28:36.375Z"
   },
   {
    "duration": 20,
    "start_time": "2022-01-29T20:28:36.469Z"
   },
   {
    "duration": 38,
    "start_time": "2022-01-29T20:28:36.492Z"
   },
   {
    "duration": 131,
    "start_time": "2022-01-29T20:28:36.533Z"
   },
   {
    "duration": 7,
    "start_time": "2022-01-29T20:28:36.666Z"
   },
   {
    "duration": 11,
    "start_time": "2022-01-29T20:28:36.676Z"
   },
   {
    "duration": 40,
    "start_time": "2022-01-29T20:28:36.690Z"
   },
   {
    "duration": 17,
    "start_time": "2022-01-29T20:28:36.732Z"
   },
   {
    "duration": 15,
    "start_time": "2022-01-29T20:28:36.752Z"
   },
   {
    "duration": 20,
    "start_time": "2022-01-29T20:28:36.769Z"
   },
   {
    "duration": 11,
    "start_time": "2022-01-29T20:28:36.834Z"
   },
   {
    "duration": 7,
    "start_time": "2022-01-29T20:28:36.849Z"
   },
   {
    "duration": 25,
    "start_time": "2022-01-29T20:28:36.859Z"
   },
   {
    "duration": 45,
    "start_time": "2022-01-29T20:28:36.886Z"
   },
   {
    "duration": 25,
    "start_time": "2022-01-29T20:28:36.933Z"
   },
   {
    "duration": 1509,
    "start_time": "2022-01-29T20:28:36.961Z"
   },
   {
    "duration": 12,
    "start_time": "2022-01-29T20:28:38.472Z"
   },
   {
    "duration": 54,
    "start_time": "2022-01-29T20:28:38.486Z"
   },
   {
    "duration": 35,
    "start_time": "2022-01-29T20:28:38.543Z"
   },
   {
    "duration": 1106,
    "start_time": "2022-01-29T20:28:38.580Z"
   },
   {
    "duration": 53,
    "start_time": "2022-01-29T20:28:39.689Z"
   },
   {
    "duration": 33,
    "start_time": "2022-01-29T20:28:39.745Z"
   },
   {
    "duration": 85,
    "start_time": "2022-01-29T20:28:39.781Z"
   },
   {
    "duration": 63,
    "start_time": "2022-01-29T20:28:39.869Z"
   },
   {
    "duration": 865,
    "start_time": "2022-01-29T20:28:39.935Z"
   },
   {
    "duration": 36,
    "start_time": "2022-01-29T20:28:40.803Z"
   },
   {
    "duration": 602,
    "start_time": "2022-01-29T20:28:40.844Z"
   },
   {
    "duration": 15,
    "start_time": "2022-01-29T20:28:41.449Z"
   },
   {
    "duration": 113,
    "start_time": "2022-01-29T20:28:41.467Z"
   },
   {
    "duration": 2357,
    "start_time": "2022-01-29T20:28:41.582Z"
   },
   {
    "duration": 660,
    "start_time": "2022-01-29T20:28:43.942Z"
   },
   {
    "duration": 971,
    "start_time": "2022-01-29T20:28:44.604Z"
   },
   {
    "duration": 1019,
    "start_time": "2022-01-29T20:28:45.577Z"
   },
   {
    "duration": 973,
    "start_time": "2022-01-29T20:28:46.598Z"
   },
   {
    "duration": 32,
    "start_time": "2022-01-29T20:28:47.574Z"
   },
   {
    "duration": 10,
    "start_time": "2022-01-29T20:28:47.626Z"
   },
   {
    "duration": 17,
    "start_time": "2022-01-29T20:28:47.639Z"
   },
   {
    "duration": 8,
    "start_time": "2022-01-29T20:28:47.659Z"
   },
   {
    "duration": 5,
    "start_time": "2022-01-29T20:36:39.715Z"
   },
   {
    "duration": 45,
    "start_time": "2022-01-29T20:36:39.723Z"
   },
   {
    "duration": 18,
    "start_time": "2022-01-29T20:36:39.770Z"
   },
   {
    "duration": 45,
    "start_time": "2022-01-29T20:36:39.791Z"
   },
   {
    "duration": 46,
    "start_time": "2022-01-29T20:36:39.839Z"
   },
   {
    "duration": 42,
    "start_time": "2022-01-29T20:36:39.888Z"
   },
   {
    "duration": 26,
    "start_time": "2022-01-29T20:36:39.935Z"
   },
   {
    "duration": 6,
    "start_time": "2022-01-29T20:36:39.965Z"
   },
   {
    "duration": 189,
    "start_time": "2022-01-29T20:36:39.974Z"
   },
   {
    "duration": 18,
    "start_time": "2022-01-29T20:36:40.166Z"
   },
   {
    "duration": 7,
    "start_time": "2022-01-29T20:36:40.187Z"
   },
   {
    "duration": 21,
    "start_time": "2022-01-29T20:36:40.224Z"
   },
   {
    "duration": 7,
    "start_time": "2022-01-29T20:36:40.247Z"
   },
   {
    "duration": 9,
    "start_time": "2022-01-29T20:36:40.256Z"
   },
   {
    "duration": 10,
    "start_time": "2022-01-29T20:36:40.268Z"
   },
   {
    "duration": 14,
    "start_time": "2022-01-29T20:36:40.324Z"
   },
   {
    "duration": 16,
    "start_time": "2022-01-29T20:36:40.341Z"
   },
   {
    "duration": 22,
    "start_time": "2022-01-29T20:36:40.360Z"
   },
   {
    "duration": 39,
    "start_time": "2022-01-29T20:36:40.388Z"
   },
   {
    "duration": 6,
    "start_time": "2022-01-29T20:36:40.432Z"
   },
   {
    "duration": 25,
    "start_time": "2022-01-29T20:36:40.441Z"
   },
   {
    "duration": 56,
    "start_time": "2022-01-29T20:36:40.469Z"
   },
   {
    "duration": 21,
    "start_time": "2022-01-29T20:36:40.528Z"
   },
   {
    "duration": 1056,
    "start_time": "2022-01-29T20:36:40.551Z"
   },
   {
    "duration": 19,
    "start_time": "2022-01-29T20:36:41.609Z"
   },
   {
    "duration": 24,
    "start_time": "2022-01-29T20:36:41.630Z"
   },
   {
    "duration": 34,
    "start_time": "2022-01-29T20:36:41.656Z"
   },
   {
    "duration": 1153,
    "start_time": "2022-01-29T20:36:41.692Z"
   },
   {
    "duration": 36,
    "start_time": "2022-01-29T20:36:42.847Z"
   },
   {
    "duration": 48,
    "start_time": "2022-01-29T20:36:42.886Z"
   },
   {
    "duration": 41,
    "start_time": "2022-01-29T20:36:42.936Z"
   },
   {
    "duration": 53,
    "start_time": "2022-01-29T20:36:42.979Z"
   },
   {
    "duration": 830,
    "start_time": "2022-01-29T20:36:43.035Z"
   },
   {
    "duration": 23,
    "start_time": "2022-01-29T20:36:43.868Z"
   },
   {
    "duration": 559,
    "start_time": "2022-01-29T20:36:43.893Z"
   },
   {
    "duration": 14,
    "start_time": "2022-01-29T20:36:44.454Z"
   },
   {
    "duration": 91,
    "start_time": "2022-01-29T20:36:44.471Z"
   },
   {
    "duration": 2574,
    "start_time": "2022-01-29T20:36:44.565Z"
   },
   {
    "duration": 617,
    "start_time": "2022-01-29T20:36:47.141Z"
   },
   {
    "duration": 966,
    "start_time": "2022-01-29T20:36:47.760Z"
   },
   {
    "duration": 940,
    "start_time": "2022-01-29T20:36:48.728Z"
   },
   {
    "duration": 937,
    "start_time": "2022-01-29T20:36:49.671Z"
   },
   {
    "duration": 40,
    "start_time": "2022-01-29T20:36:50.611Z"
   },
   {
    "duration": 8,
    "start_time": "2022-01-29T20:36:50.654Z"
   },
   {
    "duration": 17,
    "start_time": "2022-01-29T20:36:50.665Z"
   },
   {
    "duration": 44,
    "start_time": "2022-01-29T20:36:50.685Z"
   },
   {
    "duration": 445,
    "start_time": "2022-01-29T20:38:17.994Z"
   },
   {
    "duration": 4,
    "start_time": "2022-01-29T20:39:00.893Z"
   },
   {
    "duration": 50,
    "start_time": "2022-01-29T20:39:00.900Z"
   },
   {
    "duration": 18,
    "start_time": "2022-01-29T20:39:00.955Z"
   },
   {
    "duration": 17,
    "start_time": "2022-01-29T20:39:00.976Z"
   },
   {
    "duration": 70,
    "start_time": "2022-01-29T20:39:00.995Z"
   },
   {
    "duration": 8,
    "start_time": "2022-01-29T20:39:01.069Z"
   },
   {
    "duration": 65,
    "start_time": "2022-01-29T20:39:01.080Z"
   },
   {
    "duration": 6,
    "start_time": "2022-01-29T20:39:01.148Z"
   },
   {
    "duration": 74,
    "start_time": "2022-01-29T20:39:01.159Z"
   },
   {
    "duration": 18,
    "start_time": "2022-01-29T20:39:01.236Z"
   },
   {
    "duration": 7,
    "start_time": "2022-01-29T20:39:01.257Z"
   },
   {
    "duration": 21,
    "start_time": "2022-01-29T20:39:01.267Z"
   },
   {
    "duration": 36,
    "start_time": "2022-01-29T20:39:01.290Z"
   },
   {
    "duration": 12,
    "start_time": "2022-01-29T20:39:01.329Z"
   },
   {
    "duration": 19,
    "start_time": "2022-01-29T20:39:01.343Z"
   },
   {
    "duration": 15,
    "start_time": "2022-01-29T20:39:01.364Z"
   },
   {
    "duration": 45,
    "start_time": "2022-01-29T20:39:01.381Z"
   },
   {
    "duration": 22,
    "start_time": "2022-01-29T20:39:01.428Z"
   },
   {
    "duration": 6,
    "start_time": "2022-01-29T20:39:01.453Z"
   },
   {
    "duration": 14,
    "start_time": "2022-01-29T20:39:01.461Z"
   },
   {
    "duration": 56,
    "start_time": "2022-01-29T20:39:01.478Z"
   },
   {
    "duration": 7,
    "start_time": "2022-01-29T20:39:01.538Z"
   },
   {
    "duration": 24,
    "start_time": "2022-01-29T20:39:01.548Z"
   },
   {
    "duration": 1136,
    "start_time": "2022-01-29T20:39:01.575Z"
   },
   {
    "duration": 14,
    "start_time": "2022-01-29T20:39:02.722Z"
   },
   {
    "duration": 25,
    "start_time": "2022-01-29T20:39:02.739Z"
   },
   {
    "duration": 71,
    "start_time": "2022-01-29T20:39:02.769Z"
   },
   {
    "duration": 1067,
    "start_time": "2022-01-29T20:39:02.843Z"
   },
   {
    "duration": 43,
    "start_time": "2022-01-29T20:39:03.912Z"
   },
   {
    "duration": 22,
    "start_time": "2022-01-29T20:39:03.957Z"
   },
   {
    "duration": 72,
    "start_time": "2022-01-29T20:39:03.982Z"
   },
   {
    "duration": 35,
    "start_time": "2022-01-29T20:39:04.057Z"
   },
   {
    "duration": 746,
    "start_time": "2022-01-29T20:39:04.094Z"
   },
   {
    "duration": 21,
    "start_time": "2022-01-29T20:39:04.843Z"
   },
   {
    "duration": 578,
    "start_time": "2022-01-29T20:39:04.866Z"
   },
   {
    "duration": 15,
    "start_time": "2022-01-29T20:39:05.448Z"
   },
   {
    "duration": 99,
    "start_time": "2022-01-29T20:39:05.465Z"
   },
   {
    "duration": 2308,
    "start_time": "2022-01-29T20:39:05.566Z"
   },
   {
    "duration": 551,
    "start_time": "2022-01-29T20:39:07.876Z"
   },
   {
    "duration": 1139,
    "start_time": "2022-01-29T20:39:08.430Z"
   },
   {
    "duration": 1090,
    "start_time": "2022-01-29T20:39:09.571Z"
   },
   {
    "duration": 1444,
    "start_time": "2022-01-29T20:39:10.663Z"
   },
   {
    "duration": 41,
    "start_time": "2022-01-29T20:39:12.109Z"
   },
   {
    "duration": 7,
    "start_time": "2022-01-29T20:39:12.152Z"
   },
   {
    "duration": 16,
    "start_time": "2022-01-29T20:39:12.162Z"
   },
   {
    "duration": 6,
    "start_time": "2022-01-29T20:39:12.180Z"
   },
   {
    "duration": 17,
    "start_time": "2022-01-29T20:41:49.183Z"
   },
   {
    "duration": 14,
    "start_time": "2022-01-29T20:42:47.157Z"
   },
   {
    "duration": 5,
    "start_time": "2022-01-29T20:42:52.395Z"
   },
   {
    "duration": 46,
    "start_time": "2022-01-29T20:42:52.404Z"
   },
   {
    "duration": 17,
    "start_time": "2022-01-29T20:42:52.452Z"
   },
   {
    "duration": 17,
    "start_time": "2022-01-29T20:42:52.473Z"
   },
   {
    "duration": 73,
    "start_time": "2022-01-29T20:42:52.493Z"
   },
   {
    "duration": 5,
    "start_time": "2022-01-29T20:42:52.568Z"
   },
   {
    "duration": 60,
    "start_time": "2022-01-29T20:42:52.577Z"
   },
   {
    "duration": 5,
    "start_time": "2022-01-29T20:42:52.640Z"
   },
   {
    "duration": 47,
    "start_time": "2022-01-29T20:42:52.647Z"
   },
   {
    "duration": 17,
    "start_time": "2022-01-29T20:42:52.724Z"
   },
   {
    "duration": 6,
    "start_time": "2022-01-29T20:42:52.744Z"
   },
   {
    "duration": 19,
    "start_time": "2022-01-29T20:42:52.753Z"
   },
   {
    "duration": 8,
    "start_time": "2022-01-29T20:42:52.774Z"
   },
   {
    "duration": 8,
    "start_time": "2022-01-29T20:42:52.824Z"
   },
   {
    "duration": 11,
    "start_time": "2022-01-29T20:42:52.834Z"
   },
   {
    "duration": 12,
    "start_time": "2022-01-29T20:42:52.847Z"
   },
   {
    "duration": 13,
    "start_time": "2022-01-29T20:42:52.862Z"
   },
   {
    "duration": 55,
    "start_time": "2022-01-29T20:42:52.878Z"
   },
   {
    "duration": 6,
    "start_time": "2022-01-29T20:42:52.938Z"
   },
   {
    "duration": 5,
    "start_time": "2022-01-29T20:42:52.947Z"
   },
   {
    "duration": 22,
    "start_time": "2022-01-29T20:42:52.955Z"
   },
   {
    "duration": 46,
    "start_time": "2022-01-29T20:42:52.979Z"
   },
   {
    "duration": 22,
    "start_time": "2022-01-29T20:42:53.028Z"
   },
   {
    "duration": 1040,
    "start_time": "2022-01-29T20:42:53.053Z"
   },
   {
    "duration": 30,
    "start_time": "2022-01-29T20:42:54.096Z"
   },
   {
    "duration": 31,
    "start_time": "2022-01-29T20:42:54.129Z"
   },
   {
    "duration": 32,
    "start_time": "2022-01-29T20:42:54.162Z"
   },
   {
    "duration": 1045,
    "start_time": "2022-01-29T20:42:54.197Z"
   },
   {
    "duration": 35,
    "start_time": "2022-01-29T20:42:55.245Z"
   },
   {
    "duration": 46,
    "start_time": "2022-01-29T20:42:55.283Z"
   },
   {
    "duration": 43,
    "start_time": "2022-01-29T20:42:55.331Z"
   },
   {
    "duration": 60,
    "start_time": "2022-01-29T20:42:55.376Z"
   },
   {
    "duration": 720,
    "start_time": "2022-01-29T20:42:55.438Z"
   },
   {
    "duration": 22,
    "start_time": "2022-01-29T20:42:56.160Z"
   },
   {
    "duration": 679,
    "start_time": "2022-01-29T20:42:56.186Z"
   },
   {
    "duration": 15,
    "start_time": "2022-01-29T20:42:56.867Z"
   },
   {
    "duration": 95,
    "start_time": "2022-01-29T20:42:56.884Z"
   },
   {
    "duration": 2568,
    "start_time": "2022-01-29T20:42:56.981Z"
   },
   {
    "duration": 522,
    "start_time": "2022-01-29T20:42:59.551Z"
   },
   {
    "duration": 963,
    "start_time": "2022-01-29T20:43:00.075Z"
   },
   {
    "duration": 1058,
    "start_time": "2022-01-29T20:43:01.040Z"
   },
   {
    "duration": 954,
    "start_time": "2022-01-29T20:43:02.100Z"
   },
   {
    "duration": 30,
    "start_time": "2022-01-29T20:43:03.056Z"
   },
   {
    "duration": 7,
    "start_time": "2022-01-29T20:43:03.088Z"
   },
   {
    "duration": 15,
    "start_time": "2022-01-29T20:43:03.123Z"
   },
   {
    "duration": 8,
    "start_time": "2022-01-29T20:43:03.140Z"
   },
   {
    "duration": 5,
    "start_time": "2022-01-29T20:43:57.023Z"
   },
   {
    "duration": 43,
    "start_time": "2022-01-29T20:43:57.030Z"
   },
   {
    "duration": 17,
    "start_time": "2022-01-29T20:43:57.076Z"
   },
   {
    "duration": 29,
    "start_time": "2022-01-29T20:43:57.096Z"
   },
   {
    "duration": 42,
    "start_time": "2022-01-29T20:43:57.127Z"
   },
   {
    "duration": 6,
    "start_time": "2022-01-29T20:43:57.171Z"
   },
   {
    "duration": 53,
    "start_time": "2022-01-29T20:43:57.179Z"
   },
   {
    "duration": 6,
    "start_time": "2022-01-29T20:43:57.234Z"
   },
   {
    "duration": 44,
    "start_time": "2022-01-29T20:43:57.243Z"
   },
   {
    "duration": 45,
    "start_time": "2022-01-29T20:43:57.291Z"
   },
   {
    "duration": 8,
    "start_time": "2022-01-29T20:43:57.339Z"
   },
   {
    "duration": 21,
    "start_time": "2022-01-29T20:43:57.350Z"
   },
   {
    "duration": 12,
    "start_time": "2022-01-29T20:43:57.374Z"
   },
   {
    "duration": 9,
    "start_time": "2022-01-29T20:43:57.424Z"
   },
   {
    "duration": 24,
    "start_time": "2022-01-29T20:43:57.435Z"
   },
   {
    "duration": 20,
    "start_time": "2022-01-29T20:43:57.461Z"
   },
   {
    "duration": 575,
    "start_time": "2022-01-29T21:00:15.273Z"
   },
   {
    "duration": 796,
    "start_time": "2022-01-29T21:03:12.789Z"
   },
   {
    "duration": 494,
    "start_time": "2022-01-29T21:03:25.985Z"
   },
   {
    "duration": 1492,
    "start_time": "2022-01-29T21:21:45.305Z"
   },
   {
    "duration": 45,
    "start_time": "2022-01-29T21:21:46.800Z"
   },
   {
    "duration": 23,
    "start_time": "2022-01-29T21:21:46.848Z"
   },
   {
    "duration": 13,
    "start_time": "2022-01-29T21:21:46.874Z"
   },
   {
    "duration": 68,
    "start_time": "2022-01-29T21:21:46.890Z"
   },
   {
    "duration": 6,
    "start_time": "2022-01-29T21:21:46.961Z"
   },
   {
    "duration": 25,
    "start_time": "2022-01-29T21:21:46.969Z"
   },
   {
    "duration": 30,
    "start_time": "2022-01-29T21:21:46.997Z"
   },
   {
    "duration": 94,
    "start_time": "2022-01-29T21:21:47.033Z"
   },
   {
    "duration": 25,
    "start_time": "2022-01-29T21:21:47.131Z"
   },
   {
    "duration": 8,
    "start_time": "2022-01-29T21:21:47.159Z"
   },
   {
    "duration": 54,
    "start_time": "2022-01-29T21:21:47.170Z"
   },
   {
    "duration": 8,
    "start_time": "2022-01-29T21:21:47.227Z"
   },
   {
    "duration": 10,
    "start_time": "2022-01-29T21:21:47.238Z"
   },
   {
    "duration": 11,
    "start_time": "2022-01-29T21:21:47.251Z"
   },
   {
    "duration": 59,
    "start_time": "2022-01-29T21:21:47.265Z"
   },
   {
    "duration": 16,
    "start_time": "2022-01-29T21:21:47.327Z"
   },
   {
    "duration": 33,
    "start_time": "2022-01-29T21:21:47.347Z"
   },
   {
    "duration": 44,
    "start_time": "2022-01-29T21:21:47.383Z"
   },
   {
    "duration": 7,
    "start_time": "2022-01-29T21:21:47.430Z"
   },
   {
    "duration": 37,
    "start_time": "2022-01-29T21:21:47.440Z"
   },
   {
    "duration": 9,
    "start_time": "2022-01-29T21:21:47.481Z"
   },
   {
    "duration": 23,
    "start_time": "2022-01-29T21:21:47.525Z"
   },
   {
    "duration": 1216,
    "start_time": "2022-01-29T21:21:47.551Z"
   },
   {
    "duration": 13,
    "start_time": "2022-01-29T21:21:48.770Z"
   },
   {
    "duration": 65,
    "start_time": "2022-01-29T21:21:48.787Z"
   },
   {
    "duration": 34,
    "start_time": "2022-01-29T21:21:48.858Z"
   },
   {
    "duration": 1210,
    "start_time": "2022-01-29T21:21:48.895Z"
   },
   {
    "duration": 47,
    "start_time": "2022-01-29T21:21:50.107Z"
   },
   {
    "duration": 22,
    "start_time": "2022-01-29T21:21:50.157Z"
   },
   {
    "duration": 92,
    "start_time": "2022-01-29T21:21:50.183Z"
   },
   {
    "duration": 66,
    "start_time": "2022-01-29T21:21:50.278Z"
   },
   {
    "duration": 817,
    "start_time": "2022-01-29T21:21:50.347Z"
   },
   {
    "duration": 25,
    "start_time": "2022-01-29T21:21:51.166Z"
   },
   {
    "duration": 697,
    "start_time": "2022-01-29T21:21:51.194Z"
   },
   {
    "duration": 15,
    "start_time": "2022-01-29T21:21:51.894Z"
   },
   {
    "duration": 105,
    "start_time": "2022-01-29T21:21:51.924Z"
   },
   {
    "duration": 2269,
    "start_time": "2022-01-29T21:21:52.032Z"
   },
   {
    "duration": 552,
    "start_time": "2022-01-29T21:21:54.304Z"
   },
   {
    "duration": 1084,
    "start_time": "2022-01-29T21:21:54.859Z"
   },
   {
    "duration": 1103,
    "start_time": "2022-01-29T21:21:55.947Z"
   },
   {
    "duration": 969,
    "start_time": "2022-01-29T21:21:57.052Z"
   },
   {
    "duration": 33,
    "start_time": "2022-01-29T21:21:58.023Z"
   },
   {
    "duration": 9,
    "start_time": "2022-01-29T21:21:58.059Z"
   },
   {
    "duration": 15,
    "start_time": "2022-01-29T21:21:58.070Z"
   },
   {
    "duration": 7,
    "start_time": "2022-01-29T21:21:58.124Z"
   },
   {
    "duration": 10,
    "start_time": "2022-01-29T21:24:46.003Z"
   },
   {
    "duration": 1420,
    "start_time": "2022-01-29T21:25:10.669Z"
   },
   {
    "duration": 45,
    "start_time": "2022-01-29T21:25:12.091Z"
   },
   {
    "duration": 23,
    "start_time": "2022-01-29T21:25:12.139Z"
   },
   {
    "duration": 16,
    "start_time": "2022-01-29T21:25:12.164Z"
   },
   {
    "duration": 73,
    "start_time": "2022-01-29T21:25:12.182Z"
   },
   {
    "duration": 6,
    "start_time": "2022-01-29T21:25:12.257Z"
   },
   {
    "duration": 26,
    "start_time": "2022-01-29T21:25:12.266Z"
   },
   {
    "duration": 31,
    "start_time": "2022-01-29T21:25:12.296Z"
   },
   {
    "duration": 47,
    "start_time": "2022-01-29T21:25:12.331Z"
   },
   {
    "duration": 47,
    "start_time": "2022-01-29T21:25:12.381Z"
   },
   {
    "duration": 7,
    "start_time": "2022-01-29T21:25:12.431Z"
   },
   {
    "duration": 24,
    "start_time": "2022-01-29T21:25:12.441Z"
   },
   {
    "duration": 7,
    "start_time": "2022-01-29T21:25:12.468Z"
   },
   {
    "duration": 8,
    "start_time": "2022-01-29T21:25:12.523Z"
   },
   {
    "duration": 9,
    "start_time": "2022-01-29T21:25:12.534Z"
   },
   {
    "duration": 12,
    "start_time": "2022-01-29T21:25:12.546Z"
   },
   {
    "duration": 16,
    "start_time": "2022-01-29T21:25:12.561Z"
   },
   {
    "duration": 64,
    "start_time": "2022-01-29T21:25:12.580Z"
   },
   {
    "duration": 6,
    "start_time": "2022-01-29T21:25:12.648Z"
   },
   {
    "duration": 7,
    "start_time": "2022-01-29T21:25:12.657Z"
   },
   {
    "duration": 70,
    "start_time": "2022-01-29T21:25:12.667Z"
   },
   {
    "duration": 8,
    "start_time": "2022-01-29T21:25:12.740Z"
   },
   {
    "duration": 21,
    "start_time": "2022-01-29T21:25:12.756Z"
   },
   {
    "duration": 1099,
    "start_time": "2022-01-29T21:25:12.785Z"
   },
   {
    "duration": 11,
    "start_time": "2022-01-29T21:25:13.887Z"
   },
   {
    "duration": 41,
    "start_time": "2022-01-29T21:25:13.901Z"
   },
   {
    "duration": 35,
    "start_time": "2022-01-29T21:25:13.945Z"
   },
   {
    "duration": 1076,
    "start_time": "2022-01-29T21:25:13.983Z"
   },
   {
    "duration": 39,
    "start_time": "2022-01-29T21:25:15.062Z"
   },
   {
    "duration": 37,
    "start_time": "2022-01-29T21:25:15.103Z"
   },
   {
    "duration": 44,
    "start_time": "2022-01-29T21:25:15.143Z"
   },
   {
    "duration": 62,
    "start_time": "2022-01-29T21:25:15.189Z"
   },
   {
    "duration": 769,
    "start_time": "2022-01-29T21:25:15.254Z"
   },
   {
    "duration": 22,
    "start_time": "2022-01-29T21:25:16.026Z"
   },
   {
    "duration": 661,
    "start_time": "2022-01-29T21:25:16.051Z"
   },
   {
    "duration": 18,
    "start_time": "2022-01-29T21:25:16.715Z"
   },
   {
    "duration": 92,
    "start_time": "2022-01-29T21:25:16.736Z"
   },
   {
    "duration": 2181,
    "start_time": "2022-01-29T21:25:16.830Z"
   },
   {
    "duration": 533,
    "start_time": "2022-01-29T21:25:19.013Z"
   },
   {
    "duration": 959,
    "start_time": "2022-01-29T21:25:19.549Z"
   },
   {
    "duration": 1680,
    "start_time": "2022-01-29T21:25:20.511Z"
   },
   {
    "duration": 982,
    "start_time": "2022-01-29T21:25:22.194Z"
   },
   {
    "duration": 45,
    "start_time": "2022-01-29T21:25:23.179Z"
   },
   {
    "duration": 8,
    "start_time": "2022-01-29T21:25:23.227Z"
   },
   {
    "duration": 16,
    "start_time": "2022-01-29T21:25:23.237Z"
   },
   {
    "duration": 7,
    "start_time": "2022-01-29T21:25:23.255Z"
   }
  ],
  "kernelspec": {
   "display_name": "Python 3 (ipykernel)",
   "language": "python",
   "name": "python3"
  },
  "language_info": {
   "codemirror_mode": {
    "name": "ipython",
    "version": 3
   },
   "file_extension": ".py",
   "mimetype": "text/x-python",
   "name": "python",
   "nbconvert_exporter": "python",
   "pygments_lexer": "ipython3",
   "version": "3.9.7"
  },
  "toc": {
   "base_numbering": 1,
   "nav_menu": {},
   "number_sections": true,
   "sideBar": true,
   "skip_h1_title": true,
   "title_cell": "Table of Contents",
   "title_sidebar": "Contents",
   "toc_cell": false,
   "toc_position": {
    "height": "calc(100% - 180px)",
    "left": "10px",
    "top": "150px",
    "width": "215px"
   },
   "toc_section_display": true,
   "toc_window_display": false
  }
 },
 "nbformat": 4,
 "nbformat_minor": 5
}
