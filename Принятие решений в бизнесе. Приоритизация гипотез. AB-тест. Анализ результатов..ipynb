{
 "cells": [
  {
   "cell_type": "markdown",
   "id": "f2c8e676",
   "metadata": {},
   "source": [
    "# Принятие решений в бизнесе\n",
    "\n",
    "# Описание проекта\n",
    "<a id='0'></a>\n",
    "\n",
    "Отделом маркетинга крупного интернет-магазина был подготовлен список гипотез для увеличения выручки.\n",
    "Нам необходимо приоритизировать гипотезы, запустить A/B-тест и проанализировать результаты.\n",
    "\n",
    "**Цель исследования** - выяснить, какая из гипотез приведет к наибольшему увеличению выручки, проанализировать результаты A/B-теста, принять решение по результатам.\n",
    "\n",
    "В нашем распоряжении файл **hypothesis** с 9 гепотезами, файл **orders** с выручкой, файл **visitors** с информацией о количестве посетителей по дням в каждой группе.\n",
    "\n",
    "О качестве данных ничего не известно. Проверим данные на ошибки и оценим их влияние на исследование. \n",
    "Затем, на этапе предобработки поищем возможность исправить самые критичные ошибки данных.\n",
    "\n",
    "Таким образом, исследование пройдёт в несколько этапов:\n",
    "\n",
    "- Предобработка данных.\n",
    "- Приоритизация гипотез.\n",
    "- Анализ A/B-теста, принятие решения по результатам теста."
   ]
  },
  {
   "cell_type": "markdown",
   "id": "e14dbc9a",
   "metadata": {},
   "source": [
    "# Описание данных\n",
    "\n",
    "#### Данные для первой части\n",
    "\n",
    "Файл hypothesis.csv\n",
    "\n",
    "- Hypothesis — краткое описание гипотезы;\n",
    "- Reach — охват пользователей по 10-балльной шкале;\n",
    "- Impact — влияние на пользователей по 10-балльной шкале;\n",
    "- Confidence — уверенность в гипотезе по 10-балльной шкале;\n",
    "- Efforts — затраты ресурсов на проверку гипотезы по 10-балльной шкале. Чем больше значение Efforts, тем дороже проверка гипотезы.\n",
    "\n",
    "#### Данные для второй части\n",
    "\n",
    "Файл orders.csv\n",
    "\n",
    "- transactionId — идентификатор заказа;\n",
    "- visitorId — идентификатор пользователя, совершившего заказ;\n",
    "- date — дата, когда был совершён заказ;\n",
    "- revenue — выручка заказа;\n",
    "- group — группа A/B-теста, в которую попал заказ.\n",
    "\n",
    "Файл visitors.csv\n",
    "\n",
    "- date — дата;\n",
    "- group — группа A/B-теста;\n",
    "- visitors — количество пользователей в указанную дату в указанной группе A/B-теста"
   ]
  },
  {
   "cell_type": "markdown",
   "id": "364c2e17",
   "metadata": {},
   "source": [
    "## Предобработка данных"
   ]
  },
  {
   "cell_type": "markdown",
   "id": "38892c8e",
   "metadata": {},
   "source": [
    "Загрузим данные, подготовим данные к анализу."
   ]
  },
  {
   "cell_type": "code",
   "execution_count": 1,
   "id": "782bc156",
   "metadata": {},
   "outputs": [],
   "source": [
    "#импортируем библиотеки\n",
    "import pandas as pd\n",
    "import numpy as np\n",
    "from matplotlib import pyplot as plt\n",
    "import seaborn as sns\n",
    "import datetime as dt\n",
    "from scipy import stats as st "
   ]
  },
  {
   "cell_type": "code",
   "execution_count": 2,
   "id": "333585f0",
   "metadata": {},
   "outputs": [
    {
     "data": {
      "text/html": [
       "<div>\n",
       "<style scoped>\n",
       "    .dataframe tbody tr th:only-of-type {\n",
       "        vertical-align: middle;\n",
       "    }\n",
       "\n",
       "    .dataframe tbody tr th {\n",
       "        vertical-align: top;\n",
       "    }\n",
       "\n",
       "    .dataframe thead th {\n",
       "        text-align: right;\n",
       "    }\n",
       "</style>\n",
       "<table border=\"1\" class=\"dataframe\">\n",
       "  <thead>\n",
       "    <tr style=\"text-align: right;\">\n",
       "      <th></th>\n",
       "      <th>Hypothesis</th>\n",
       "      <th>Reach</th>\n",
       "      <th>Impact</th>\n",
       "      <th>Confidence</th>\n",
       "      <th>Efforts</th>\n",
       "    </tr>\n",
       "  </thead>\n",
       "  <tbody>\n",
       "    <tr>\n",
       "      <td>0</td>\n",
       "      <td>Добавить два новых канала привлечения трафика, что позволит привлекать на 30% больше пользователей</td>\n",
       "      <td>3</td>\n",
       "      <td>10</td>\n",
       "      <td>8</td>\n",
       "      <td>6</td>\n",
       "    </tr>\n",
       "    <tr>\n",
       "      <td>1</td>\n",
       "      <td>Запустить собственную службу доставки, что сократит срок доставки заказов</td>\n",
       "      <td>2</td>\n",
       "      <td>5</td>\n",
       "      <td>4</td>\n",
       "      <td>10</td>\n",
       "    </tr>\n",
       "  </tbody>\n",
       "</table>\n",
       "</div>"
      ],
      "text/plain": [
       "                                                                                           Hypothesis  \\\n",
       "0  Добавить два новых канала привлечения трафика, что позволит привлекать на 30% больше пользователей   \n",
       "1                           Запустить собственную службу доставки, что сократит срок доставки заказов   \n",
       "\n",
       "   Reach  Impact  Confidence  Efforts  \n",
       "0      3      10           8        6  \n",
       "1      2       5           4       10  "
      ]
     },
     "execution_count": 2,
     "metadata": {},
     "output_type": "execute_result"
    }
   ],
   "source": [
    "pd.set_option(\"max_colwidth\", 200)\n",
    "\n",
    "#прочитаем файлы и сохраним их в отдельные датафреймы\n",
    "hypothesis, orders, visitors = (\n",
    "    pd.read_csv('/datasets/hypothesis.csv'),\n",
    "    pd.read_csv('/datasets/orders.csv', sep=','),\n",
    "    pd.read_csv('/datasets/visitors.csv', sep=','),\n",
    ")\n",
    "\n",
    "#посмотрим датафрейм hypothesis\n",
    "hypothesis.head(2)"
   ]
  },
  {
   "cell_type": "code",
   "execution_count": 3,
   "id": "5dc98d4b",
   "metadata": {},
   "outputs": [
    {
     "data": {
      "text/plain": [
       "Index(['hypothesis', 'reach', 'impact', 'confidence', 'efforts'], dtype='object')"
      ]
     },
     "execution_count": 3,
     "metadata": {},
     "output_type": "execute_result"
    }
   ],
   "source": [
    "#приведем названия столбцов к нижнему регистру\n",
    "hypothesis.columns = hypothesis.columns.str.lower()\n",
    "hypothesis.columns"
   ]
  },
  {
   "cell_type": "code",
   "execution_count": 4,
   "id": "695e10ac",
   "metadata": {},
   "outputs": [
    {
     "data": {
      "text/html": [
       "<div>\n",
       "<style scoped>\n",
       "    .dataframe tbody tr th:only-of-type {\n",
       "        vertical-align: middle;\n",
       "    }\n",
       "\n",
       "    .dataframe tbody tr th {\n",
       "        vertical-align: top;\n",
       "    }\n",
       "\n",
       "    .dataframe thead th {\n",
       "        text-align: right;\n",
       "    }\n",
       "</style>\n",
       "<table border=\"1\" class=\"dataframe\">\n",
       "  <thead>\n",
       "    <tr style=\"text-align: right;\">\n",
       "      <th></th>\n",
       "      <th>transactionId</th>\n",
       "      <th>visitorId</th>\n",
       "      <th>date</th>\n",
       "      <th>revenue</th>\n",
       "      <th>group</th>\n",
       "    </tr>\n",
       "  </thead>\n",
       "  <tbody>\n",
       "    <tr>\n",
       "      <td>0</td>\n",
       "      <td>3667963787</td>\n",
       "      <td>3312258926</td>\n",
       "      <td>2019-08-15</td>\n",
       "      <td>1650</td>\n",
       "      <td>B</td>\n",
       "    </tr>\n",
       "    <tr>\n",
       "      <td>1</td>\n",
       "      <td>2804400009</td>\n",
       "      <td>3642806036</td>\n",
       "      <td>2019-08-15</td>\n",
       "      <td>730</td>\n",
       "      <td>B</td>\n",
       "    </tr>\n",
       "    <tr>\n",
       "      <td>2</td>\n",
       "      <td>2961555356</td>\n",
       "      <td>4069496402</td>\n",
       "      <td>2019-08-15</td>\n",
       "      <td>400</td>\n",
       "      <td>A</td>\n",
       "    </tr>\n",
       "    <tr>\n",
       "      <td>3</td>\n",
       "      <td>3797467345</td>\n",
       "      <td>1196621759</td>\n",
       "      <td>2019-08-15</td>\n",
       "      <td>9759</td>\n",
       "      <td>B</td>\n",
       "    </tr>\n",
       "    <tr>\n",
       "      <td>4</td>\n",
       "      <td>2282983706</td>\n",
       "      <td>2322279887</td>\n",
       "      <td>2019-08-15</td>\n",
       "      <td>2308</td>\n",
       "      <td>B</td>\n",
       "    </tr>\n",
       "  </tbody>\n",
       "</table>\n",
       "</div>"
      ],
      "text/plain": [
       "   transactionId   visitorId        date  revenue group\n",
       "0     3667963787  3312258926  2019-08-15     1650     B\n",
       "1     2804400009  3642806036  2019-08-15      730     B\n",
       "2     2961555356  4069496402  2019-08-15      400     A\n",
       "3     3797467345  1196621759  2019-08-15     9759     B\n",
       "4     2282983706  2322279887  2019-08-15     2308     B"
      ]
     },
     "execution_count": 4,
     "metadata": {},
     "output_type": "execute_result"
    }
   ],
   "source": [
    "#посмотрим первые 5 строк датафрейма orders\n",
    "orders.head() "
   ]
  },
  {
   "cell_type": "code",
   "execution_count": 5,
   "id": "6508ca85",
   "metadata": {},
   "outputs": [
    {
     "data": {
      "text/html": [
       "<div>\n",
       "<style scoped>\n",
       "    .dataframe tbody tr th:only-of-type {\n",
       "        vertical-align: middle;\n",
       "    }\n",
       "\n",
       "    .dataframe tbody tr th {\n",
       "        vertical-align: top;\n",
       "    }\n",
       "\n",
       "    .dataframe thead th {\n",
       "        text-align: right;\n",
       "    }\n",
       "</style>\n",
       "<table border=\"1\" class=\"dataframe\">\n",
       "  <thead>\n",
       "    <tr style=\"text-align: right;\">\n",
       "      <th></th>\n",
       "      <th>transactionId</th>\n",
       "      <th>visitorId</th>\n",
       "      <th>date</th>\n",
       "      <th>revenue</th>\n",
       "      <th>group</th>\n",
       "    </tr>\n",
       "  </thead>\n",
       "  <tbody>\n",
       "    <tr>\n",
       "      <td>425</td>\n",
       "      <td>590470918</td>\n",
       "      <td>1920142716</td>\n",
       "      <td>2019-08-19</td>\n",
       "      <td>1294500</td>\n",
       "      <td>B</td>\n",
       "    </tr>\n",
       "    <tr>\n",
       "      <td>1196</td>\n",
       "      <td>3936777065</td>\n",
       "      <td>2108080724</td>\n",
       "      <td>2019-08-15</td>\n",
       "      <td>202740</td>\n",
       "      <td>B</td>\n",
       "    </tr>\n",
       "    <tr>\n",
       "      <td>858</td>\n",
       "      <td>192721366</td>\n",
       "      <td>1316129916</td>\n",
       "      <td>2019-08-27</td>\n",
       "      <td>93940</td>\n",
       "      <td>A</td>\n",
       "    </tr>\n",
       "    <tr>\n",
       "      <td>1136</td>\n",
       "      <td>666610489</td>\n",
       "      <td>1307669133</td>\n",
       "      <td>2019-08-13</td>\n",
       "      <td>92550</td>\n",
       "      <td>A</td>\n",
       "    </tr>\n",
       "    <tr>\n",
       "      <td>744</td>\n",
       "      <td>3668308183</td>\n",
       "      <td>888512513</td>\n",
       "      <td>2019-08-27</td>\n",
       "      <td>86620</td>\n",
       "      <td>B</td>\n",
       "    </tr>\n",
       "  </tbody>\n",
       "</table>\n",
       "</div>"
      ],
      "text/plain": [
       "      transactionId   visitorId        date  revenue group\n",
       "425       590470918  1920142716  2019-08-19  1294500     B\n",
       "1196     3936777065  2108080724  2019-08-15   202740     B\n",
       "858       192721366  1316129916  2019-08-27    93940     A\n",
       "1136      666610489  1307669133  2019-08-13    92550     A\n",
       "744      3668308183   888512513  2019-08-27    86620     B"
      ]
     },
     "execution_count": 5,
     "metadata": {},
     "output_type": "execute_result"
    }
   ],
   "source": [
    "orders.sort_values(by='revenue', ascending=False).head(5)"
   ]
  },
  {
   "cell_type": "code",
   "execution_count": 6,
   "id": "e1b0fbfc",
   "metadata": {},
   "outputs": [
    {
     "data": {
      "text/html": [
       "<div>\n",
       "<style scoped>\n",
       "    .dataframe tbody tr th:only-of-type {\n",
       "        vertical-align: middle;\n",
       "    }\n",
       "\n",
       "    .dataframe tbody tr th {\n",
       "        vertical-align: top;\n",
       "    }\n",
       "\n",
       "    .dataframe thead th {\n",
       "        text-align: right;\n",
       "    }\n",
       "</style>\n",
       "<table border=\"1\" class=\"dataframe\">\n",
       "  <thead>\n",
       "    <tr style=\"text-align: right;\">\n",
       "      <th></th>\n",
       "      <th>date</th>\n",
       "      <th>group</th>\n",
       "      <th>visitors</th>\n",
       "    </tr>\n",
       "  </thead>\n",
       "  <tbody>\n",
       "    <tr>\n",
       "      <td>0</td>\n",
       "      <td>2019-08-01</td>\n",
       "      <td>A</td>\n",
       "      <td>719</td>\n",
       "    </tr>\n",
       "    <tr>\n",
       "      <td>1</td>\n",
       "      <td>2019-08-02</td>\n",
       "      <td>A</td>\n",
       "      <td>619</td>\n",
       "    </tr>\n",
       "    <tr>\n",
       "      <td>2</td>\n",
       "      <td>2019-08-03</td>\n",
       "      <td>A</td>\n",
       "      <td>507</td>\n",
       "    </tr>\n",
       "    <tr>\n",
       "      <td>3</td>\n",
       "      <td>2019-08-04</td>\n",
       "      <td>A</td>\n",
       "      <td>717</td>\n",
       "    </tr>\n",
       "    <tr>\n",
       "      <td>4</td>\n",
       "      <td>2019-08-05</td>\n",
       "      <td>A</td>\n",
       "      <td>756</td>\n",
       "    </tr>\n",
       "  </tbody>\n",
       "</table>\n",
       "</div>"
      ],
      "text/plain": [
       "         date group  visitors\n",
       "0  2019-08-01     A       719\n",
       "1  2019-08-02     A       619\n",
       "2  2019-08-03     A       507\n",
       "3  2019-08-04     A       717\n",
       "4  2019-08-05     A       756"
      ]
     },
     "execution_count": 6,
     "metadata": {},
     "output_type": "execute_result"
    }
   ],
   "source": [
    "#посмотрим первые 5 строк датафрейма visitors\n",
    "visitors.head()"
   ]
  },
  {
   "cell_type": "code",
   "execution_count": 7,
   "id": "8db11867",
   "metadata": {},
   "outputs": [
    {
     "name": "stdout",
     "output_type": "stream",
     "text": [
      "<class 'pandas.core.frame.DataFrame'>\n",
      "RangeIndex: 62 entries, 0 to 61\n",
      "Data columns (total 3 columns):\n",
      "date        62 non-null object\n",
      "group       62 non-null object\n",
      "visitors    62 non-null int64\n",
      "dtypes: int64(1), object(2)\n",
      "memory usage: 1.6+ KB\n",
      "None\n",
      "- - - - - - -\n",
      "<class 'pandas.core.frame.DataFrame'>\n",
      "RangeIndex: 1197 entries, 0 to 1196\n",
      "Data columns (total 5 columns):\n",
      "transactionId    1197 non-null int64\n",
      "visitorId        1197 non-null int64\n",
      "date             1197 non-null object\n",
      "revenue          1197 non-null int64\n",
      "group            1197 non-null object\n",
      "dtypes: int64(3), object(2)\n",
      "memory usage: 46.9+ KB\n",
      "None\n"
     ]
    }
   ],
   "source": [
    "#посмотрим общую информацию\n",
    "print(visitors.info()) \n",
    "print('- - - - - - -')\n",
    "print(orders.info())"
   ]
  },
  {
   "cell_type": "markdown",
   "id": "cdc6fccf",
   "metadata": {},
   "source": [
    "В обоих датфреймах столбец date в формате object, переведем в datetime с помощью lambda-функции методом map()"
   ]
  },
  {
   "cell_type": "code",
   "execution_count": 8,
   "id": "20653c77",
   "metadata": {},
   "outputs": [
    {
     "name": "stdout",
     "output_type": "stream",
     "text": [
      "<class 'pandas.core.frame.DataFrame'>\n",
      "RangeIndex: 62 entries, 0 to 61\n",
      "Data columns (total 3 columns):\n",
      "date        62 non-null datetime64[ns]\n",
      "group       62 non-null object\n",
      "visitors    62 non-null int64\n",
      "dtypes: datetime64[ns](1), int64(1), object(1)\n",
      "memory usage: 1.6+ KB\n"
     ]
    }
   ],
   "source": [
    "visitors['date'] = visitors['date'].map(lambda x: dt.datetime.strptime(x, '%Y-%m-%d'))\n",
    "visitors.info()"
   ]
  },
  {
   "cell_type": "code",
   "execution_count": 9,
   "id": "f8e2529a",
   "metadata": {},
   "outputs": [
    {
     "name": "stdout",
     "output_type": "stream",
     "text": [
      "<class 'pandas.core.frame.DataFrame'>\n",
      "RangeIndex: 1197 entries, 0 to 1196\n",
      "Data columns (total 5 columns):\n",
      "transactionId    1197 non-null int64\n",
      "visitorId        1197 non-null int64\n",
      "date             1197 non-null datetime64[ns]\n",
      "revenue          1197 non-null int64\n",
      "group            1197 non-null object\n",
      "dtypes: datetime64[ns](1), int64(3), object(1)\n",
      "memory usage: 46.9+ KB\n"
     ]
    }
   ],
   "source": [
    "orders['date'] = orders['date'].map(lambda x: dt.datetime.strptime(x, '%Y-%m-%d'))\n",
    "orders.info()"
   ]
  },
  {
   "cell_type": "code",
   "execution_count": 10,
   "id": "7a1b0700",
   "metadata": {},
   "outputs": [
    {
     "data": {
      "text/plain": [
       "(0, 0)"
      ]
     },
     "execution_count": 10,
     "metadata": {},
     "output_type": "execute_result"
    }
   ],
   "source": [
    "#посчитаем явные дубликаты\n",
    "orders.duplicated().sum(), visitors.duplicated().sum()"
   ]
  },
  {
   "cell_type": "markdown",
   "id": "b2150c9c",
   "metadata": {},
   "source": [
    "### Вывод\n",
    "<a id='1.1'></a>\n",
    "Мы подготовили данные для дальнейшего анализа:\n",
    "- прочитали, сохранили в отдельные датафреймы,\n",
    "- преобразовали данные о времени в нужный формат,\n",
    "- проверили на наличие явных дубликатов.\n",
    "\n",
    "[Назад к оглавлению](#0)"
   ]
  },
  {
   "cell_type": "markdown",
   "id": "8d6ef179",
   "metadata": {},
   "source": [
    "## Часть 1. Приоритизация гипотез.\n",
    "\n",
    "\n",
    "**Таблица hypothesis** \n",
    "\n",
    "* `Hypothesis` — краткое описание гипотезы;\n",
    "* `Reach` — охват пользователей по 10-балльной шкале;\n",
    "* `Impact` — влияние на пользователей по 10-балльной шкале;\n",
    "* `Confidence` — уверенность в гипотезе по 10-балльной шкале;\n",
    "* `Efforts` — затраты ресурсов на проверку гипотезы по 10-балльной шкале. Чем больше значение Efforts, тем дороже проверка гипотезы.\n",
    "\n",
    "Файл /datasets/hypothesis.csv. [Скачать датасет](https://code.s3.yandex.net/datasets/hypothesis.csv)\n",
    "\n",
    "В файле hypothesis 9 гипотез по увеличению выручки интернет-магазина с указанными параметрами Reach, Impact, Confidence, Effort.\n",
    "Применим фреймворки ICE и RICE и посмотрим различия."
   ]
  },
  {
   "cell_type": "code",
   "execution_count": 11,
   "id": "142e2344",
   "metadata": {},
   "outputs": [
    {
     "data": {
      "text/html": [
       "<div>\n",
       "<style scoped>\n",
       "    .dataframe tbody tr th:only-of-type {\n",
       "        vertical-align: middle;\n",
       "    }\n",
       "\n",
       "    .dataframe tbody tr th {\n",
       "        vertical-align: top;\n",
       "    }\n",
       "\n",
       "    .dataframe thead th {\n",
       "        text-align: right;\n",
       "    }\n",
       "</style>\n",
       "<table border=\"1\" class=\"dataframe\">\n",
       "  <thead>\n",
       "    <tr style=\"text-align: right;\">\n",
       "      <th></th>\n",
       "      <th>hypothesis</th>\n",
       "      <th>reach</th>\n",
       "      <th>impact</th>\n",
       "      <th>confidence</th>\n",
       "      <th>efforts</th>\n",
       "    </tr>\n",
       "  </thead>\n",
       "  <tbody>\n",
       "    <tr>\n",
       "      <td>0</td>\n",
       "      <td>Добавить два новых канала привлечения трафика, что позволит привлекать на 30% больше пользователей</td>\n",
       "      <td>3</td>\n",
       "      <td>10</td>\n",
       "      <td>8</td>\n",
       "      <td>6</td>\n",
       "    </tr>\n",
       "    <tr>\n",
       "      <td>1</td>\n",
       "      <td>Запустить собственную службу доставки, что сократит срок доставки заказов</td>\n",
       "      <td>2</td>\n",
       "      <td>5</td>\n",
       "      <td>4</td>\n",
       "      <td>10</td>\n",
       "    </tr>\n",
       "    <tr>\n",
       "      <td>2</td>\n",
       "      <td>Добавить блоки рекомендаций товаров на сайт интернет магазина, чтобы повысить конверсию и средний чек заказа</td>\n",
       "      <td>8</td>\n",
       "      <td>3</td>\n",
       "      <td>7</td>\n",
       "      <td>3</td>\n",
       "    </tr>\n",
       "    <tr>\n",
       "      <td>3</td>\n",
       "      <td>Изменить структура категорий, что увеличит конверсию, т.к. пользователи быстрее найдут нужный товар</td>\n",
       "      <td>8</td>\n",
       "      <td>3</td>\n",
       "      <td>3</td>\n",
       "      <td>8</td>\n",
       "    </tr>\n",
       "    <tr>\n",
       "      <td>4</td>\n",
       "      <td>Изменить цвет фона главной страницы, чтобы увеличить вовлеченность пользователей</td>\n",
       "      <td>3</td>\n",
       "      <td>1</td>\n",
       "      <td>1</td>\n",
       "      <td>1</td>\n",
       "    </tr>\n",
       "    <tr>\n",
       "      <td>5</td>\n",
       "      <td>Добавить страницу отзывов клиентов о магазине, что позволит увеличить количество заказов</td>\n",
       "      <td>3</td>\n",
       "      <td>2</td>\n",
       "      <td>2</td>\n",
       "      <td>3</td>\n",
       "    </tr>\n",
       "    <tr>\n",
       "      <td>6</td>\n",
       "      <td>Показать на главной странице баннеры с актуальными акциями и распродажами, чтобы увеличить конверсию</td>\n",
       "      <td>5</td>\n",
       "      <td>3</td>\n",
       "      <td>8</td>\n",
       "      <td>3</td>\n",
       "    </tr>\n",
       "    <tr>\n",
       "      <td>7</td>\n",
       "      <td>Добавить форму подписки на все основные страницы, чтобы собрать базу клиентов для email-рассылок</td>\n",
       "      <td>10</td>\n",
       "      <td>7</td>\n",
       "      <td>8</td>\n",
       "      <td>5</td>\n",
       "    </tr>\n",
       "    <tr>\n",
       "      <td>8</td>\n",
       "      <td>Запустить акцию, дающую скидку на товар в день рождения</td>\n",
       "      <td>1</td>\n",
       "      <td>9</td>\n",
       "      <td>9</td>\n",
       "      <td>5</td>\n",
       "    </tr>\n",
       "  </tbody>\n",
       "</table>\n",
       "</div>"
      ],
      "text/plain": [
       "                                                                                                     hypothesis  \\\n",
       "0            Добавить два новых канала привлечения трафика, что позволит привлекать на 30% больше пользователей   \n",
       "1                                     Запустить собственную службу доставки, что сократит срок доставки заказов   \n",
       "2  Добавить блоки рекомендаций товаров на сайт интернет магазина, чтобы повысить конверсию и средний чек заказа   \n",
       "3           Изменить структура категорий, что увеличит конверсию, т.к. пользователи быстрее найдут нужный товар   \n",
       "4                              Изменить цвет фона главной страницы, чтобы увеличить вовлеченность пользователей   \n",
       "5                      Добавить страницу отзывов клиентов о магазине, что позволит увеличить количество заказов   \n",
       "6          Показать на главной странице баннеры с актуальными акциями и распродажами, чтобы увеличить конверсию   \n",
       "7              Добавить форму подписки на все основные страницы, чтобы собрать базу клиентов для email-рассылок   \n",
       "8                                                       Запустить акцию, дающую скидку на товар в день рождения   \n",
       "\n",
       "   reach  impact  confidence  efforts  \n",
       "0      3      10           8        6  \n",
       "1      2       5           4       10  \n",
       "2      8       3           7        3  \n",
       "3      8       3           3        8  \n",
       "4      3       1           1        1  \n",
       "5      3       2           2        3  \n",
       "6      5       3           8        3  \n",
       "7     10       7           8        5  \n",
       "8      1       9           9        5  "
      ]
     },
     "execution_count": 11,
     "metadata": {},
     "output_type": "execute_result"
    }
   ],
   "source": [
    "hypothesis"
   ]
  },
  {
   "cell_type": "markdown",
   "id": "c8c09d3b",
   "metadata": {},
   "source": [
    "### 1.1. Приоритизации гипотез  при помощи фреймворка ICE\n",
    "\n",
    "Применим фреймворк ICE для приоритизации гипотез. Отсортируем их по убыванию приоритета."
   ]
  },
  {
   "cell_type": "code",
   "execution_count": 12,
   "id": "31f075cc",
   "metadata": {},
   "outputs": [
    {
     "data": {
      "text/html": [
       "<div>\n",
       "<style scoped>\n",
       "    .dataframe tbody tr th:only-of-type {\n",
       "        vertical-align: middle;\n",
       "    }\n",
       "\n",
       "    .dataframe tbody tr th {\n",
       "        vertical-align: top;\n",
       "    }\n",
       "\n",
       "    .dataframe thead th {\n",
       "        text-align: right;\n",
       "    }\n",
       "</style>\n",
       "<table border=\"1\" class=\"dataframe\">\n",
       "  <thead>\n",
       "    <tr style=\"text-align: right;\">\n",
       "      <th></th>\n",
       "      <th>hypothesis</th>\n",
       "      <th>ICE</th>\n",
       "    </tr>\n",
       "  </thead>\n",
       "  <tbody>\n",
       "    <tr>\n",
       "      <td>8</td>\n",
       "      <td>Запустить акцию, дающую скидку на товар в день рождения</td>\n",
       "      <td>16.2</td>\n",
       "    </tr>\n",
       "    <tr>\n",
       "      <td>0</td>\n",
       "      <td>Добавить два новых канала привлечения трафика, что позволит привлекать на 30% больше пользователей</td>\n",
       "      <td>13.3</td>\n",
       "    </tr>\n",
       "    <tr>\n",
       "      <td>7</td>\n",
       "      <td>Добавить форму подписки на все основные страницы, чтобы собрать базу клиентов для email-рассылок</td>\n",
       "      <td>11.2</td>\n",
       "    </tr>\n",
       "    <tr>\n",
       "      <td>6</td>\n",
       "      <td>Показать на главной странице баннеры с актуальными акциями и распродажами, чтобы увеличить конверсию</td>\n",
       "      <td>8.0</td>\n",
       "    </tr>\n",
       "    <tr>\n",
       "      <td>2</td>\n",
       "      <td>Добавить блоки рекомендаций товаров на сайт интернет магазина, чтобы повысить конверсию и средний чек заказа</td>\n",
       "      <td>7.0</td>\n",
       "    </tr>\n",
       "    <tr>\n",
       "      <td>1</td>\n",
       "      <td>Запустить собственную службу доставки, что сократит срок доставки заказов</td>\n",
       "      <td>2.0</td>\n",
       "    </tr>\n",
       "    <tr>\n",
       "      <td>5</td>\n",
       "      <td>Добавить страницу отзывов клиентов о магазине, что позволит увеличить количество заказов</td>\n",
       "      <td>1.3</td>\n",
       "    </tr>\n",
       "    <tr>\n",
       "      <td>3</td>\n",
       "      <td>Изменить структура категорий, что увеличит конверсию, т.к. пользователи быстрее найдут нужный товар</td>\n",
       "      <td>1.1</td>\n",
       "    </tr>\n",
       "    <tr>\n",
       "      <td>4</td>\n",
       "      <td>Изменить цвет фона главной страницы, чтобы увеличить вовлеченность пользователей</td>\n",
       "      <td>1.0</td>\n",
       "    </tr>\n",
       "  </tbody>\n",
       "</table>\n",
       "</div>"
      ],
      "text/plain": [
       "                                                                                                     hypothesis  \\\n",
       "8                                                       Запустить акцию, дающую скидку на товар в день рождения   \n",
       "0            Добавить два новых канала привлечения трафика, что позволит привлекать на 30% больше пользователей   \n",
       "7              Добавить форму подписки на все основные страницы, чтобы собрать базу клиентов для email-рассылок   \n",
       "6          Показать на главной странице баннеры с актуальными акциями и распродажами, чтобы увеличить конверсию   \n",
       "2  Добавить блоки рекомендаций товаров на сайт интернет магазина, чтобы повысить конверсию и средний чек заказа   \n",
       "1                                     Запустить собственную службу доставки, что сократит срок доставки заказов   \n",
       "5                      Добавить страницу отзывов клиентов о магазине, что позволит увеличить количество заказов   \n",
       "3           Изменить структура категорий, что увеличит конверсию, т.к. пользователи быстрее найдут нужный товар   \n",
       "4                              Изменить цвет фона главной страницы, чтобы увеличить вовлеченность пользователей   \n",
       "\n",
       "    ICE  \n",
       "8  16.2  \n",
       "0  13.3  \n",
       "7  11.2  \n",
       "6   8.0  \n",
       "2   7.0  \n",
       "1   2.0  \n",
       "5   1.3  \n",
       "3   1.1  \n",
       "4   1.0  "
      ]
     },
     "metadata": {},
     "output_type": "display_data"
    }
   ],
   "source": [
    "hypothesis['ICE'] =round((hypothesis['impact']*hypothesis['confidence'])/hypothesis['efforts'], 1)\n",
    "\n",
    "display(hypothesis[['hypothesis', 'ICE']].sort_values(by='ICE', ascending=False))"
   ]
  },
  {
   "cell_type": "markdown",
   "id": "9cddfea1",
   "metadata": {},
   "source": [
    "Гипотезы по фремворку ICE расположились так: 8 -> 0 -> 7 -> 6 -> 2 по убыванию значимости."
   ]
  },
  {
   "cell_type": "markdown",
   "id": "2fd0aecf",
   "metadata": {},
   "source": [
    "### 1.2. Приоритизации гипотез  при помощи фреймворка RICE\n",
    "\n",
    "Применим фреймворк RICE для приоритизации гипотез. Отсортируем их по убыванию приоритета."
   ]
  },
  {
   "cell_type": "code",
   "execution_count": 13,
   "id": "e44dfaa7",
   "metadata": {},
   "outputs": [
    {
     "data": {
      "text/html": [
       "<div>\n",
       "<style scoped>\n",
       "    .dataframe tbody tr th:only-of-type {\n",
       "        vertical-align: middle;\n",
       "    }\n",
       "\n",
       "    .dataframe tbody tr th {\n",
       "        vertical-align: top;\n",
       "    }\n",
       "\n",
       "    .dataframe thead th {\n",
       "        text-align: right;\n",
       "    }\n",
       "</style>\n",
       "<table border=\"1\" class=\"dataframe\">\n",
       "  <thead>\n",
       "    <tr style=\"text-align: right;\">\n",
       "      <th></th>\n",
       "      <th>hypothesis</th>\n",
       "      <th>RICE</th>\n",
       "    </tr>\n",
       "  </thead>\n",
       "  <tbody>\n",
       "    <tr>\n",
       "      <td>7</td>\n",
       "      <td>Добавить форму подписки на все основные страницы, чтобы собрать базу клиентов для email-рассылок</td>\n",
       "      <td>112.0</td>\n",
       "    </tr>\n",
       "    <tr>\n",
       "      <td>2</td>\n",
       "      <td>Добавить блоки рекомендаций товаров на сайт интернет магазина, чтобы повысить конверсию и средний чек заказа</td>\n",
       "      <td>56.0</td>\n",
       "    </tr>\n",
       "    <tr>\n",
       "      <td>0</td>\n",
       "      <td>Добавить два новых канала привлечения трафика, что позволит привлекать на 30% больше пользователей</td>\n",
       "      <td>40.0</td>\n",
       "    </tr>\n",
       "    <tr>\n",
       "      <td>6</td>\n",
       "      <td>Показать на главной странице баннеры с актуальными акциями и распродажами, чтобы увеличить конверсию</td>\n",
       "      <td>40.0</td>\n",
       "    </tr>\n",
       "    <tr>\n",
       "      <td>8</td>\n",
       "      <td>Запустить акцию, дающую скидку на товар в день рождения</td>\n",
       "      <td>16.2</td>\n",
       "    </tr>\n",
       "    <tr>\n",
       "      <td>3</td>\n",
       "      <td>Изменить структура категорий, что увеличит конверсию, т.к. пользователи быстрее найдут нужный товар</td>\n",
       "      <td>9.0</td>\n",
       "    </tr>\n",
       "    <tr>\n",
       "      <td>1</td>\n",
       "      <td>Запустить собственную службу доставки, что сократит срок доставки заказов</td>\n",
       "      <td>4.0</td>\n",
       "    </tr>\n",
       "    <tr>\n",
       "      <td>5</td>\n",
       "      <td>Добавить страницу отзывов клиентов о магазине, что позволит увеличить количество заказов</td>\n",
       "      <td>4.0</td>\n",
       "    </tr>\n",
       "    <tr>\n",
       "      <td>4</td>\n",
       "      <td>Изменить цвет фона главной страницы, чтобы увеличить вовлеченность пользователей</td>\n",
       "      <td>3.0</td>\n",
       "    </tr>\n",
       "  </tbody>\n",
       "</table>\n",
       "</div>"
      ],
      "text/plain": [
       "                                                                                                     hypothesis  \\\n",
       "7              Добавить форму подписки на все основные страницы, чтобы собрать базу клиентов для email-рассылок   \n",
       "2  Добавить блоки рекомендаций товаров на сайт интернет магазина, чтобы повысить конверсию и средний чек заказа   \n",
       "0            Добавить два новых канала привлечения трафика, что позволит привлекать на 30% больше пользователей   \n",
       "6          Показать на главной странице баннеры с актуальными акциями и распродажами, чтобы увеличить конверсию   \n",
       "8                                                       Запустить акцию, дающую скидку на товар в день рождения   \n",
       "3           Изменить структура категорий, что увеличит конверсию, т.к. пользователи быстрее найдут нужный товар   \n",
       "1                                     Запустить собственную службу доставки, что сократит срок доставки заказов   \n",
       "5                      Добавить страницу отзывов клиентов о магазине, что позволит увеличить количество заказов   \n",
       "4                              Изменить цвет фона главной страницы, чтобы увеличить вовлеченность пользователей   \n",
       "\n",
       "    RICE  \n",
       "7  112.0  \n",
       "2   56.0  \n",
       "0   40.0  \n",
       "6   40.0  \n",
       "8   16.2  \n",
       "3    9.0  \n",
       "1    4.0  \n",
       "5    4.0  \n",
       "4    3.0  "
      ]
     },
     "metadata": {},
     "output_type": "display_data"
    }
   ],
   "source": [
    "hypothesis['RICE'] = (hypothesis['reach']*hypothesis['impact']*hypothesis['confidence'])/hypothesis['efforts']\n",
    "\n",
    "display(hypothesis[['hypothesis', 'RICE']].sort_values(by='RICE', ascending=False))"
   ]
  },
  {
   "cell_type": "markdown",
   "id": "0318a124",
   "metadata": {},
   "source": [
    "Гипотезы по фремворку RICE расположились так: 7 -> 2 -> 0 -> 6 -> 8 по убыванию значимости."
   ]
  },
  {
   "cell_type": "markdown",
   "id": "e477119a",
   "metadata": {},
   "source": [
    "### 1.3. Различие. Вывод"
   ]
  },
  {
   "cell_type": "markdown",
   "id": "617ca5d8",
   "metadata": {},
   "source": [
    "Фреймворк RICE учитывает критерий охвата, поэтому логично отсортировать сначала по RICE, затем по ICE."
   ]
  },
  {
   "cell_type": "code",
   "execution_count": 14,
   "id": "9458da78",
   "metadata": {},
   "outputs": [
    {
     "data": {
      "text/html": [
       "<div>\n",
       "<style scoped>\n",
       "    .dataframe tbody tr th:only-of-type {\n",
       "        vertical-align: middle;\n",
       "    }\n",
       "\n",
       "    .dataframe tbody tr th {\n",
       "        vertical-align: top;\n",
       "    }\n",
       "\n",
       "    .dataframe thead th {\n",
       "        text-align: right;\n",
       "    }\n",
       "</style>\n",
       "<table border=\"1\" class=\"dataframe\">\n",
       "  <thead>\n",
       "    <tr style=\"text-align: right;\">\n",
       "      <th></th>\n",
       "      <th>ICE</th>\n",
       "      <th>hypothesis</th>\n",
       "      <th>RICE</th>\n",
       "    </tr>\n",
       "  </thead>\n",
       "  <tbody>\n",
       "    <tr>\n",
       "      <td>7</td>\n",
       "      <td>11.2</td>\n",
       "      <td>Добавить форму подписки на все основные страницы, чтобы собрать базу клиентов для email-рассылок</td>\n",
       "      <td>112.0</td>\n",
       "    </tr>\n",
       "    <tr>\n",
       "      <td>2</td>\n",
       "      <td>7.0</td>\n",
       "      <td>Добавить блоки рекомендаций товаров на сайт интернет магазина, чтобы повысить конверсию и средний чек заказа</td>\n",
       "      <td>56.0</td>\n",
       "    </tr>\n",
       "    <tr>\n",
       "      <td>0</td>\n",
       "      <td>13.3</td>\n",
       "      <td>Добавить два новых канала привлечения трафика, что позволит привлекать на 30% больше пользователей</td>\n",
       "      <td>40.0</td>\n",
       "    </tr>\n",
       "    <tr>\n",
       "      <td>6</td>\n",
       "      <td>8.0</td>\n",
       "      <td>Показать на главной странице баннеры с актуальными акциями и распродажами, чтобы увеличить конверсию</td>\n",
       "      <td>40.0</td>\n",
       "    </tr>\n",
       "    <tr>\n",
       "      <td>8</td>\n",
       "      <td>16.2</td>\n",
       "      <td>Запустить акцию, дающую скидку на товар в день рождения</td>\n",
       "      <td>16.2</td>\n",
       "    </tr>\n",
       "  </tbody>\n",
       "</table>\n",
       "</div>"
      ],
      "text/plain": [
       "    ICE  \\\n",
       "7  11.2   \n",
       "2   7.0   \n",
       "0  13.3   \n",
       "6   8.0   \n",
       "8  16.2   \n",
       "\n",
       "                                                                                                     hypothesis  \\\n",
       "7              Добавить форму подписки на все основные страницы, чтобы собрать базу клиентов для email-рассылок   \n",
       "2  Добавить блоки рекомендаций товаров на сайт интернет магазина, чтобы повысить конверсию и средний чек заказа   \n",
       "0            Добавить два новых канала привлечения трафика, что позволит привлекать на 30% больше пользователей   \n",
       "6          Показать на главной странице баннеры с актуальными акциями и распродажами, чтобы увеличить конверсию   \n",
       "8                                                       Запустить акцию, дающую скидку на товар в день рождения   \n",
       "\n",
       "    RICE  \n",
       "7  112.0  \n",
       "2   56.0  \n",
       "0   40.0  \n",
       "6   40.0  \n",
       "8   16.2  "
      ]
     },
     "execution_count": 14,
     "metadata": {},
     "output_type": "execute_result"
    }
   ],
   "source": [
    "hypothesis[['ICE', 'hypothesis', 'RICE']]. sort_values(by=['RICE', 'ICE'], ascending=False).head(5)"
   ]
  },
  {
   "cell_type": "markdown",
   "id": "5ba611b9",
   "metadata": {},
   "source": [
    "При использовании ICE вышла в лидеры гипотеза \"Запустить акцию, дающую скидку на товар в день рождения\", но ICE не учитывает охват, поэтому при использовании RICE стало более наглядно, что делать выбор стоит в пользу вариантов, которые в потенциале увеличат выручку. \n",
    "\n",
    "Цифры цифрами, но здравый смысл подсказывает, что опираться на день рождения как главный источник увеличения выручки менее эффективно, чем использовать форму подписки для e-mail рассылок. \n",
    "\n",
    "В лидеры вышли гипотезы под номерами 7, 2, 0. И держать в запасе еще 2 гипотезы: 6 и 8.\n",
    "\n",
    "[Назад к оглавлению](#0)"
   ]
  },
  {
   "cell_type": "markdown",
   "id": "eae55492",
   "metadata": {},
   "source": [
    "## Часть 2. Анализ A/B-теста\n",
    "\n",
    "После проведенного A/B-теста были получены результаты, которые описаны в orders и visitors. Нам необходимо проанализировать результаты.\n",
    "- Построем график кумулятивной выручки по группам. \n",
    "- Построем график кумулятивного среднего чека по группам. \n",
    "- Построем график относительного изменения кумулятивного среднего чека группы B к группе A. \n",
    "- Построем график кумулятивной конверсии по группам. \n",
    "- Построем график относительного изменения кумулятивной конверсии группы B к группе A. \n",
    "- Построем точечный график количества заказов по пользователям. \n",
    "- Посчитаем 95-й и 99-й перцентили количества заказов на пользователя.\n",
    "- Построем точечный график стоимостей заказов.\n",
    "- Посчитаем 95-й и 99-й перцентили стоимости заказов. .\n",
    "- Посчитаем статистическую значимость различий в конверсии между группами по «сырым» данным.\n",
    "- Посчитаем статистическую значимость различий в среднем чеке заказа между группами по «сырым» данным.\n",
    "- Посчитаем статистическую значимость различий в конверсии между группами по «очищенным» данным. \n",
    "- Посчитаем статистическую значимость различий в среднем чеке заказа между группами по «очищенным» данным. "
   ]
  },
  {
   "cell_type": "markdown",
   "id": "a356e3e0",
   "metadata": {},
   "source": [
    "#### Описание данных \n",
    "\n",
    "**Таблица orders**\n",
    "\n",
    "* `transactionId` — идентификатор заказа;\n",
    "* `visitorId` — идентификатор пользователя, совершившего заказ;\n",
    "* `date` — дата, когда был совершён заказ;\n",
    "* `revenue` — выручка заказа;\n",
    "* `group` — группа A/B-теста, в которую попал заказ.\n",
    "\n",
    "**Таблица visitors**\n",
    "\n",
    "* `date` — дата;\n",
    "* `group` — группа A/B-теста;\n",
    "* `visitors` — количество пользователей в указанную дату в указанной группе A/B-теста"
   ]
  },
  {
   "cell_type": "markdown",
   "id": "1625c89d",
   "metadata": {},
   "source": [
    "### Подготовка данных для анализа А/В теста"
   ]
  },
  {
   "cell_type": "code",
   "execution_count": 15,
   "id": "4307f467",
   "metadata": {},
   "outputs": [
    {
     "data": {
      "text/html": [
       "<div>\n",
       "<style scoped>\n",
       "    .dataframe tbody tr th:only-of-type {\n",
       "        vertical-align: middle;\n",
       "    }\n",
       "\n",
       "    .dataframe tbody tr th {\n",
       "        vertical-align: top;\n",
       "    }\n",
       "\n",
       "    .dataframe thead th {\n",
       "        text-align: right;\n",
       "    }\n",
       "</style>\n",
       "<table border=\"1\" class=\"dataframe\">\n",
       "  <thead>\n",
       "    <tr style=\"text-align: right;\">\n",
       "      <th></th>\n",
       "      <th>transactionId</th>\n",
       "      <th>visitorId</th>\n",
       "      <th>date</th>\n",
       "      <th>revenue</th>\n",
       "      <th>group</th>\n",
       "    </tr>\n",
       "  </thead>\n",
       "  <tbody>\n",
       "    <tr>\n",
       "      <td>0</td>\n",
       "      <td>3667963787</td>\n",
       "      <td>3312258926</td>\n",
       "      <td>2019-08-15</td>\n",
       "      <td>1650</td>\n",
       "      <td>B</td>\n",
       "    </tr>\n",
       "    <tr>\n",
       "      <td>1</td>\n",
       "      <td>2804400009</td>\n",
       "      <td>3642806036</td>\n",
       "      <td>2019-08-15</td>\n",
       "      <td>730</td>\n",
       "      <td>B</td>\n",
       "    </tr>\n",
       "    <tr>\n",
       "      <td>2</td>\n",
       "      <td>2961555356</td>\n",
       "      <td>4069496402</td>\n",
       "      <td>2019-08-15</td>\n",
       "      <td>400</td>\n",
       "      <td>A</td>\n",
       "    </tr>\n",
       "    <tr>\n",
       "      <td>3</td>\n",
       "      <td>3797467345</td>\n",
       "      <td>1196621759</td>\n",
       "      <td>2019-08-15</td>\n",
       "      <td>9759</td>\n",
       "      <td>B</td>\n",
       "    </tr>\n",
       "    <tr>\n",
       "      <td>4</td>\n",
       "      <td>2282983706</td>\n",
       "      <td>2322279887</td>\n",
       "      <td>2019-08-15</td>\n",
       "      <td>2308</td>\n",
       "      <td>B</td>\n",
       "    </tr>\n",
       "  </tbody>\n",
       "</table>\n",
       "</div>"
      ],
      "text/plain": [
       "   transactionId   visitorId       date  revenue group\n",
       "0     3667963787  3312258926 2019-08-15     1650     B\n",
       "1     2804400009  3642806036 2019-08-15      730     B\n",
       "2     2961555356  4069496402 2019-08-15      400     A\n",
       "3     3797467345  1196621759 2019-08-15     9759     B\n",
       "4     2282983706  2322279887 2019-08-15     2308     B"
      ]
     },
     "metadata": {},
     "output_type": "display_data"
    },
    {
     "data": {
      "text/html": [
       "<div>\n",
       "<style scoped>\n",
       "    .dataframe tbody tr th:only-of-type {\n",
       "        vertical-align: middle;\n",
       "    }\n",
       "\n",
       "    .dataframe tbody tr th {\n",
       "        vertical-align: top;\n",
       "    }\n",
       "\n",
       "    .dataframe thead th {\n",
       "        text-align: right;\n",
       "    }\n",
       "</style>\n",
       "<table border=\"1\" class=\"dataframe\">\n",
       "  <thead>\n",
       "    <tr style=\"text-align: right;\">\n",
       "      <th></th>\n",
       "      <th>date</th>\n",
       "      <th>group</th>\n",
       "      <th>visitors</th>\n",
       "    </tr>\n",
       "  </thead>\n",
       "  <tbody>\n",
       "    <tr>\n",
       "      <td>0</td>\n",
       "      <td>2019-08-01</td>\n",
       "      <td>A</td>\n",
       "      <td>719</td>\n",
       "    </tr>\n",
       "    <tr>\n",
       "      <td>1</td>\n",
       "      <td>2019-08-02</td>\n",
       "      <td>A</td>\n",
       "      <td>619</td>\n",
       "    </tr>\n",
       "    <tr>\n",
       "      <td>2</td>\n",
       "      <td>2019-08-03</td>\n",
       "      <td>A</td>\n",
       "      <td>507</td>\n",
       "    </tr>\n",
       "    <tr>\n",
       "      <td>3</td>\n",
       "      <td>2019-08-04</td>\n",
       "      <td>A</td>\n",
       "      <td>717</td>\n",
       "    </tr>\n",
       "    <tr>\n",
       "      <td>4</td>\n",
       "      <td>2019-08-05</td>\n",
       "      <td>A</td>\n",
       "      <td>756</td>\n",
       "    </tr>\n",
       "  </tbody>\n",
       "</table>\n",
       "</div>"
      ],
      "text/plain": [
       "        date group  visitors\n",
       "0 2019-08-01     A       719\n",
       "1 2019-08-02     A       619\n",
       "2 2019-08-03     A       507\n",
       "3 2019-08-04     A       717\n",
       "4 2019-08-05     A       756"
      ]
     },
     "metadata": {},
     "output_type": "display_data"
    }
   ],
   "source": [
    "#выдедем первые 5 строк \n",
    "display(orders.head(), visitors.head())"
   ]
  },
  {
   "cell_type": "code",
   "execution_count": 16,
   "id": "c8b03a23",
   "metadata": {
    "scrolled": true
   },
   "outputs": [
    {
     "name": "stdout",
     "output_type": "stream",
     "text": [
      "557\n",
      "640\n"
     ]
    }
   ],
   "source": [
    "#посчитаем количество заказов в каждой группе\n",
    "print(orders.query('group==\"A\"').shape[0])\n",
    "print(orders.query('group==\"B\"').shape[0])"
   ]
  },
  {
   "cell_type": "code",
   "execution_count": 17,
   "id": "d62b9f22",
   "metadata": {
    "scrolled": false
   },
   "outputs": [
    {
     "data": {
      "text/plain": [
       "58"
      ]
     },
     "execution_count": 17,
     "metadata": {},
     "output_type": "execute_result"
    }
   ],
   "source": [
    "#проверим, есть ли уникальные посетители, которые вошли в обе группы\n",
    "group_A = orders.query('group==\"A\"')[['group','visitorId']]\n",
    "group_B = orders.query('group==\"B\"')[['group','visitorId']]\n",
    "\n",
    "duplicated_visitors = pd.merge(group_A, group_B, on = 'visitorId', how ='inner')\n",
    "duplicated_visitors = duplicated_visitors['visitorId'].unique()\n",
    "orders = orders.query('visitorId not in (@duplicated_visitors)')\n",
    "\n",
    "len(duplicated_visitors)"
   ]
  },
  {
   "cell_type": "markdown",
   "id": "2eedffcb",
   "metadata": {},
   "source": [
    "Получается, что 58 уникальных покупателей вошли в обе группы."
   ]
  },
  {
   "cell_type": "code",
   "execution_count": 18,
   "id": "a99339e6",
   "metadata": {
    "scrolled": true
   },
   "outputs": [
    {
     "name": "stdout",
     "output_type": "stream",
     "text": [
      "468\n",
      "548\n"
     ]
    }
   ],
   "source": [
    "#посчитаем количество заказов в каждой группе\n",
    "print(orders.query('group==\"A\"').shape[0])\n",
    "print(orders.query('group==\"B\"').shape[0])"
   ]
  },
  {
   "cell_type": "code",
   "execution_count": 19,
   "id": "b0921d7a",
   "metadata": {},
   "outputs": [
    {
     "data": {
      "text/plain": [
       "A    31\n",
       "B    31\n",
       "Name: group, dtype: int64"
      ]
     },
     "execution_count": 19,
     "metadata": {},
     "output_type": "execute_result"
    }
   ],
   "source": [
    "#посчитаем количество пользователей в каждой группе\n",
    "visitors['group'].value_counts()"
   ]
  },
  {
   "cell_type": "code",
   "execution_count": 20,
   "id": "9f275f4f",
   "metadata": {
    "scrolled": false
   },
   "outputs": [
    {
     "data": {
      "text/html": [
       "<div>\n",
       "<style scoped>\n",
       "    .dataframe tbody tr th:only-of-type {\n",
       "        vertical-align: middle;\n",
       "    }\n",
       "\n",
       "    .dataframe tbody tr th {\n",
       "        vertical-align: top;\n",
       "    }\n",
       "\n",
       "    .dataframe thead th {\n",
       "        text-align: right;\n",
       "    }\n",
       "</style>\n",
       "<table border=\"1\" class=\"dataframe\">\n",
       "  <thead>\n",
       "    <tr style=\"text-align: right;\">\n",
       "      <th></th>\n",
       "      <th>date</th>\n",
       "      <th>visitorsPerDateA</th>\n",
       "    </tr>\n",
       "  </thead>\n",
       "  <tbody>\n",
       "    <tr>\n",
       "      <td>0</td>\n",
       "      <td>2019-08-01</td>\n",
       "      <td>719</td>\n",
       "    </tr>\n",
       "    <tr>\n",
       "      <td>1</td>\n",
       "      <td>2019-08-02</td>\n",
       "      <td>619</td>\n",
       "    </tr>\n",
       "    <tr>\n",
       "      <td>2</td>\n",
       "      <td>2019-08-03</td>\n",
       "      <td>507</td>\n",
       "    </tr>\n",
       "    <tr>\n",
       "      <td>3</td>\n",
       "      <td>2019-08-04</td>\n",
       "      <td>717</td>\n",
       "    </tr>\n",
       "    <tr>\n",
       "      <td>4</td>\n",
       "      <td>2019-08-05</td>\n",
       "      <td>756</td>\n",
       "    </tr>\n",
       "  </tbody>\n",
       "</table>\n",
       "</div>"
      ],
      "text/plain": [
       "        date  visitorsPerDateA\n",
       "0 2019-08-01               719\n",
       "1 2019-08-02               619\n",
       "2 2019-08-03               507\n",
       "3 2019-08-04               717\n",
       "4 2019-08-05               756"
      ]
     },
     "metadata": {},
     "output_type": "display_data"
    },
    {
     "data": {
      "text/html": [
       "<div>\n",
       "<style scoped>\n",
       "    .dataframe tbody tr th:only-of-type {\n",
       "        vertical-align: middle;\n",
       "    }\n",
       "\n",
       "    .dataframe tbody tr th {\n",
       "        vertical-align: top;\n",
       "    }\n",
       "\n",
       "    .dataframe thead th {\n",
       "        text-align: right;\n",
       "    }\n",
       "</style>\n",
       "<table border=\"1\" class=\"dataframe\">\n",
       "  <thead>\n",
       "    <tr style=\"text-align: right;\">\n",
       "      <th></th>\n",
       "      <th>date</th>\n",
       "      <th>visitorsPerDateB</th>\n",
       "    </tr>\n",
       "  </thead>\n",
       "  <tbody>\n",
       "    <tr>\n",
       "      <td>31</td>\n",
       "      <td>2019-08-01</td>\n",
       "      <td>713</td>\n",
       "    </tr>\n",
       "    <tr>\n",
       "      <td>32</td>\n",
       "      <td>2019-08-02</td>\n",
       "      <td>581</td>\n",
       "    </tr>\n",
       "    <tr>\n",
       "      <td>33</td>\n",
       "      <td>2019-08-03</td>\n",
       "      <td>509</td>\n",
       "    </tr>\n",
       "    <tr>\n",
       "      <td>34</td>\n",
       "      <td>2019-08-04</td>\n",
       "      <td>770</td>\n",
       "    </tr>\n",
       "    <tr>\n",
       "      <td>35</td>\n",
       "      <td>2019-08-05</td>\n",
       "      <td>707</td>\n",
       "    </tr>\n",
       "  </tbody>\n",
       "</table>\n",
       "</div>"
      ],
      "text/plain": [
       "         date  visitorsPerDateB\n",
       "31 2019-08-01               713\n",
       "32 2019-08-02               581\n",
       "33 2019-08-03               509\n",
       "34 2019-08-04               770\n",
       "35 2019-08-05               707"
      ]
     },
     "metadata": {},
     "output_type": "display_data"
    }
   ],
   "source": [
    "# количество пользователей в день в группе А\n",
    "visitorsADaily = visitors[visitors['group'] == 'A'][['date', 'visitors']]\n",
    "visitorsADaily.columns = ['date', 'visitorsPerDateA']\n",
    "\n",
    "# количество пользователей в день в группе B\n",
    "visitorsBDaily = visitors[visitors['group'] == 'B'][['date', 'visitors']]\n",
    "visitorsBDaily.columns = ['date', 'visitorsPerDateB']\n",
    "\n",
    "display(visitorsADaily.head(), visitorsBDaily.head())"
   ]
  },
  {
   "cell_type": "code",
   "execution_count": 21,
   "id": "8cfbef67",
   "metadata": {
    "scrolled": true
   },
   "outputs": [
    {
     "data": {
      "text/plain": [
       "(18736, 18916)"
      ]
     },
     "execution_count": 21,
     "metadata": {},
     "output_type": "execute_result"
    }
   ],
   "source": [
    "visitorsADaily.visitorsPerDateA.sum(), visitorsBDaily.visitorsPerDateB.sum()"
   ]
  },
  {
   "cell_type": "markdown",
   "id": "8a1e632e",
   "metadata": {},
   "source": [
    "Количество посещений в группах за месяц проведения теста практически совпадает."
   ]
  },
  {
   "cell_type": "code",
   "execution_count": 22,
   "id": "75da0ca9",
   "metadata": {
    "scrolled": false
   },
   "outputs": [
    {
     "data": {
      "text/html": [
       "<div>\n",
       "<style scoped>\n",
       "    .dataframe tbody tr th:only-of-type {\n",
       "        vertical-align: middle;\n",
       "    }\n",
       "\n",
       "    .dataframe tbody tr th {\n",
       "        vertical-align: top;\n",
       "    }\n",
       "\n",
       "    .dataframe thead th {\n",
       "        text-align: right;\n",
       "    }\n",
       "</style>\n",
       "<table border=\"1\" class=\"dataframe\">\n",
       "  <thead>\n",
       "    <tr style=\"text-align: right;\">\n",
       "      <th></th>\n",
       "      <th>date</th>\n",
       "      <th>visitorsCummulativeA</th>\n",
       "    </tr>\n",
       "  </thead>\n",
       "  <tbody>\n",
       "    <tr>\n",
       "      <td>0</td>\n",
       "      <td>2019-08-01</td>\n",
       "      <td>719</td>\n",
       "    </tr>\n",
       "    <tr>\n",
       "      <td>1</td>\n",
       "      <td>2019-08-02</td>\n",
       "      <td>1338</td>\n",
       "    </tr>\n",
       "    <tr>\n",
       "      <td>2</td>\n",
       "      <td>2019-08-03</td>\n",
       "      <td>1845</td>\n",
       "    </tr>\n",
       "    <tr>\n",
       "      <td>3</td>\n",
       "      <td>2019-08-04</td>\n",
       "      <td>2562</td>\n",
       "    </tr>\n",
       "    <tr>\n",
       "      <td>4</td>\n",
       "      <td>2019-08-05</td>\n",
       "      <td>3318</td>\n",
       "    </tr>\n",
       "  </tbody>\n",
       "</table>\n",
       "</div>"
      ],
      "text/plain": [
       "        date  visitorsCummulativeA\n",
       "0 2019-08-01                   719\n",
       "1 2019-08-02                  1338\n",
       "2 2019-08-03                  1845\n",
       "3 2019-08-04                  2562\n",
       "4 2019-08-05                  3318"
      ]
     },
     "metadata": {},
     "output_type": "display_data"
    },
    {
     "data": {
      "text/html": [
       "<div>\n",
       "<style scoped>\n",
       "    .dataframe tbody tr th:only-of-type {\n",
       "        vertical-align: middle;\n",
       "    }\n",
       "\n",
       "    .dataframe tbody tr th {\n",
       "        vertical-align: top;\n",
       "    }\n",
       "\n",
       "    .dataframe thead th {\n",
       "        text-align: right;\n",
       "    }\n",
       "</style>\n",
       "<table border=\"1\" class=\"dataframe\">\n",
       "  <thead>\n",
       "    <tr style=\"text-align: right;\">\n",
       "      <th></th>\n",
       "      <th>date</th>\n",
       "      <th>visitorsCummulativeB</th>\n",
       "    </tr>\n",
       "  </thead>\n",
       "  <tbody>\n",
       "    <tr>\n",
       "      <td>31</td>\n",
       "      <td>2019-08-01</td>\n",
       "      <td>713</td>\n",
       "    </tr>\n",
       "    <tr>\n",
       "      <td>32</td>\n",
       "      <td>2019-08-02</td>\n",
       "      <td>1294</td>\n",
       "    </tr>\n",
       "    <tr>\n",
       "      <td>33</td>\n",
       "      <td>2019-08-03</td>\n",
       "      <td>1803</td>\n",
       "    </tr>\n",
       "    <tr>\n",
       "      <td>34</td>\n",
       "      <td>2019-08-04</td>\n",
       "      <td>2573</td>\n",
       "    </tr>\n",
       "    <tr>\n",
       "      <td>35</td>\n",
       "      <td>2019-08-05</td>\n",
       "      <td>3280</td>\n",
       "    </tr>\n",
       "  </tbody>\n",
       "</table>\n",
       "</div>"
      ],
      "text/plain": [
       "         date  visitorsCummulativeB\n",
       "31 2019-08-01                   713\n",
       "32 2019-08-02                  1294\n",
       "33 2019-08-03                  1803\n",
       "34 2019-08-04                  2573\n",
       "35 2019-08-05                  3280"
      ]
     },
     "metadata": {},
     "output_type": "display_data"
    }
   ],
   "source": [
    "# накопительное количество пользователей в день в группе A\n",
    "visitorsACummulative = visitorsADaily.apply(\n",
    "    lambda x: visitorsADaily[visitorsADaily['date'] <= x['date']].agg(\n",
    "        {'date': 'max', 'visitorsPerDateA': 'sum'}\n",
    "    ),\n",
    "    axis=1,\n",
    ")\n",
    "visitorsACummulative.columns = ['date', 'visitorsCummulativeA']\n",
    "\n",
    "# накопительное количество пользователей в день в группе B\n",
    "visitorsBCummulative = visitorsBDaily.apply(\n",
    "    lambda x: visitorsBDaily[visitorsBDaily['date'] <= x['date']].agg(\n",
    "        {'date': 'max', 'visitorsPerDateB': 'sum'}\n",
    "    ),\n",
    "    axis=1,\n",
    ")\n",
    "visitorsBCummulative.columns = ['date', 'visitorsCummulativeB']\n",
    "\n",
    "display(visitorsACummulative.head(), visitorsBCummulative.head())"
   ]
  },
  {
   "cell_type": "code",
   "execution_count": 23,
   "id": "c03a384f",
   "metadata": {},
   "outputs": [
    {
     "data": {
      "text/html": [
       "<div>\n",
       "<style scoped>\n",
       "    .dataframe tbody tr th:only-of-type {\n",
       "        vertical-align: middle;\n",
       "    }\n",
       "\n",
       "    .dataframe tbody tr th {\n",
       "        vertical-align: top;\n",
       "    }\n",
       "\n",
       "    .dataframe thead th {\n",
       "        text-align: right;\n",
       "    }\n",
       "</style>\n",
       "<table border=\"1\" class=\"dataframe\">\n",
       "  <thead>\n",
       "    <tr style=\"text-align: right;\">\n",
       "      <th></th>\n",
       "      <th>date</th>\n",
       "      <th>ordersPerDateA</th>\n",
       "      <th>revenuePerDateA</th>\n",
       "    </tr>\n",
       "  </thead>\n",
       "  <tbody>\n",
       "    <tr>\n",
       "      <td>0</td>\n",
       "      <td>2019-08-01</td>\n",
       "      <td>23</td>\n",
       "      <td>142779</td>\n",
       "    </tr>\n",
       "    <tr>\n",
       "      <td>1</td>\n",
       "      <td>2019-08-02</td>\n",
       "      <td>19</td>\n",
       "      <td>91602</td>\n",
       "    </tr>\n",
       "    <tr>\n",
       "      <td>2</td>\n",
       "      <td>2019-08-03</td>\n",
       "      <td>24</td>\n",
       "      <td>112473</td>\n",
       "    </tr>\n",
       "    <tr>\n",
       "      <td>3</td>\n",
       "      <td>2019-08-04</td>\n",
       "      <td>11</td>\n",
       "      <td>41176</td>\n",
       "    </tr>\n",
       "    <tr>\n",
       "      <td>4</td>\n",
       "      <td>2019-08-05</td>\n",
       "      <td>22</td>\n",
       "      <td>86383</td>\n",
       "    </tr>\n",
       "  </tbody>\n",
       "</table>\n",
       "</div>"
      ],
      "text/plain": [
       "        date  ordersPerDateA  revenuePerDateA\n",
       "0 2019-08-01              23           142779\n",
       "1 2019-08-02              19            91602\n",
       "2 2019-08-03              24           112473\n",
       "3 2019-08-04              11            41176\n",
       "4 2019-08-05              22            86383"
      ]
     },
     "metadata": {},
     "output_type": "display_data"
    },
    {
     "data": {
      "text/html": [
       "<div>\n",
       "<style scoped>\n",
       "    .dataframe tbody tr th:only-of-type {\n",
       "        vertical-align: middle;\n",
       "    }\n",
       "\n",
       "    .dataframe tbody tr th {\n",
       "        vertical-align: top;\n",
       "    }\n",
       "\n",
       "    .dataframe thead th {\n",
       "        text-align: right;\n",
       "    }\n",
       "</style>\n",
       "<table border=\"1\" class=\"dataframe\">\n",
       "  <thead>\n",
       "    <tr style=\"text-align: right;\">\n",
       "      <th></th>\n",
       "      <th>date</th>\n",
       "      <th>ordersPerDateB</th>\n",
       "      <th>revenuePerDateB</th>\n",
       "    </tr>\n",
       "  </thead>\n",
       "  <tbody>\n",
       "    <tr>\n",
       "      <td>0</td>\n",
       "      <td>2019-08-01</td>\n",
       "      <td>17</td>\n",
       "      <td>59758</td>\n",
       "    </tr>\n",
       "    <tr>\n",
       "      <td>1</td>\n",
       "      <td>2019-08-02</td>\n",
       "      <td>23</td>\n",
       "      <td>162043</td>\n",
       "    </tr>\n",
       "    <tr>\n",
       "      <td>2</td>\n",
       "      <td>2019-08-03</td>\n",
       "      <td>14</td>\n",
       "      <td>67049</td>\n",
       "    </tr>\n",
       "    <tr>\n",
       "      <td>3</td>\n",
       "      <td>2019-08-04</td>\n",
       "      <td>14</td>\n",
       "      <td>96890</td>\n",
       "    </tr>\n",
       "    <tr>\n",
       "      <td>4</td>\n",
       "      <td>2019-08-05</td>\n",
       "      <td>21</td>\n",
       "      <td>89908</td>\n",
       "    </tr>\n",
       "  </tbody>\n",
       "</table>\n",
       "</div>"
      ],
      "text/plain": [
       "        date  ordersPerDateB  revenuePerDateB\n",
       "0 2019-08-01              17            59758\n",
       "1 2019-08-02              23           162043\n",
       "2 2019-08-03              14            67049\n",
       "3 2019-08-04              14            96890\n",
       "4 2019-08-05              21            89908"
      ]
     },
     "metadata": {},
     "output_type": "display_data"
    }
   ],
   "source": [
    "#количество заказов и суммарная выручка в день по группе А\n",
    "ordersADaily = (\n",
    "    orders[orders['group'] == 'A'][['date', 'transactionId', 'visitorId', 'revenue']]\n",
    "    .groupby('date', as_index=False)\n",
    "    .agg({'transactionId': pd.Series.nunique, 'revenue': 'sum'})\n",
    ")\n",
    "ordersADaily.columns = ['date', 'ordersPerDateA', 'revenuePerDateA']\n",
    "\n",
    "#количество заказов и суммарная выручка в день по группе B\n",
    "ordersBDaily = (\n",
    "    orders[orders['group'] == 'B'][['date', 'transactionId', 'visitorId', 'revenue']]\n",
    "    .groupby('date', as_index=False)\n",
    "    .agg({'transactionId': pd.Series.nunique, 'revenue': 'sum'})\n",
    ")\n",
    "ordersBDaily.columns = ['date', 'ordersPerDateB', 'revenuePerDateB']\n",
    "\n",
    "\n",
    "display(ordersADaily.head(), ordersBDaily.head())"
   ]
  },
  {
   "cell_type": "code",
   "execution_count": 24,
   "id": "c28b1265",
   "metadata": {},
   "outputs": [
    {
     "data": {
      "text/html": [
       "<div>\n",
       "<style scoped>\n",
       "    .dataframe tbody tr th:only-of-type {\n",
       "        vertical-align: middle;\n",
       "    }\n",
       "\n",
       "    .dataframe tbody tr th {\n",
       "        vertical-align: top;\n",
       "    }\n",
       "\n",
       "    .dataframe thead th {\n",
       "        text-align: right;\n",
       "    }\n",
       "</style>\n",
       "<table border=\"1\" class=\"dataframe\">\n",
       "  <thead>\n",
       "    <tr style=\"text-align: right;\">\n",
       "      <th></th>\n",
       "      <th>date</th>\n",
       "      <th>ordersCummulativeA</th>\n",
       "      <th>revenueCummulativeA</th>\n",
       "    </tr>\n",
       "  </thead>\n",
       "  <tbody>\n",
       "    <tr>\n",
       "      <td>26</td>\n",
       "      <td>2019-08-27</td>\n",
       "      <td>419</td>\n",
       "      <td>2940471</td>\n",
       "    </tr>\n",
       "    <tr>\n",
       "      <td>27</td>\n",
       "      <td>2019-08-28</td>\n",
       "      <td>434</td>\n",
       "      <td>3036933</td>\n",
       "    </tr>\n",
       "    <tr>\n",
       "      <td>28</td>\n",
       "      <td>2019-08-29</td>\n",
       "      <td>451</td>\n",
       "      <td>3233233</td>\n",
       "    </tr>\n",
       "    <tr>\n",
       "      <td>29</td>\n",
       "      <td>2019-08-30</td>\n",
       "      <td>460</td>\n",
       "      <td>3311413</td>\n",
       "    </tr>\n",
       "    <tr>\n",
       "      <td>30</td>\n",
       "      <td>2019-08-31</td>\n",
       "      <td>468</td>\n",
       "      <td>3364656</td>\n",
       "    </tr>\n",
       "  </tbody>\n",
       "</table>\n",
       "</div>"
      ],
      "text/plain": [
       "         date  ordersCummulativeA  revenueCummulativeA\n",
       "26 2019-08-27                 419              2940471\n",
       "27 2019-08-28                 434              3036933\n",
       "28 2019-08-29                 451              3233233\n",
       "29 2019-08-30                 460              3311413\n",
       "30 2019-08-31                 468              3364656"
      ]
     },
     "metadata": {},
     "output_type": "display_data"
    },
    {
     "data": {
      "text/html": [
       "<div>\n",
       "<style scoped>\n",
       "    .dataframe tbody tr th:only-of-type {\n",
       "        vertical-align: middle;\n",
       "    }\n",
       "\n",
       "    .dataframe tbody tr th {\n",
       "        vertical-align: top;\n",
       "    }\n",
       "\n",
       "    .dataframe thead th {\n",
       "        text-align: right;\n",
       "    }\n",
       "</style>\n",
       "<table border=\"1\" class=\"dataframe\">\n",
       "  <thead>\n",
       "    <tr style=\"text-align: right;\">\n",
       "      <th></th>\n",
       "      <th>date</th>\n",
       "      <th>ordersCummulativeB</th>\n",
       "      <th>revenueCummulativeB</th>\n",
       "    </tr>\n",
       "  </thead>\n",
       "  <tbody>\n",
       "    <tr>\n",
       "      <td>26</td>\n",
       "      <td>2019-08-27</td>\n",
       "      <td>473</td>\n",
       "      <td>4579312</td>\n",
       "    </tr>\n",
       "    <tr>\n",
       "      <td>27</td>\n",
       "      <td>2019-08-28</td>\n",
       "      <td>495</td>\n",
       "      <td>4640510</td>\n",
       "    </tr>\n",
       "    <tr>\n",
       "      <td>28</td>\n",
       "      <td>2019-08-29</td>\n",
       "      <td>510</td>\n",
       "      <td>4746610</td>\n",
       "    </tr>\n",
       "    <tr>\n",
       "      <td>29</td>\n",
       "      <td>2019-08-30</td>\n",
       "      <td>531</td>\n",
       "      <td>4955833</td>\n",
       "    </tr>\n",
       "    <tr>\n",
       "      <td>30</td>\n",
       "      <td>2019-08-31</td>\n",
       "      <td>548</td>\n",
       "      <td>5068972</td>\n",
       "    </tr>\n",
       "  </tbody>\n",
       "</table>\n",
       "</div>"
      ],
      "text/plain": [
       "         date  ordersCummulativeB  revenueCummulativeB\n",
       "26 2019-08-27                 473              4579312\n",
       "27 2019-08-28                 495              4640510\n",
       "28 2019-08-29                 510              4746610\n",
       "29 2019-08-30                 531              4955833\n",
       "30 2019-08-31                 548              5068972"
      ]
     },
     "metadata": {},
     "output_type": "display_data"
    }
   ],
   "source": [
    "# накопительное количество заказов и суммарной выручки в день по группе А\n",
    "ordersACummulative = ordersADaily.apply(\n",
    "    lambda x: ordersADaily[ordersADaily['date'] <= x['date']].agg(\n",
    "        {'date': 'max', 'ordersPerDateA': 'sum', 'revenuePerDateA': 'sum'}\n",
    "    ),\n",
    "    axis=1,\n",
    ").sort_values(by=['date'])\n",
    "ordersACummulative.columns = [\n",
    "    'date',\n",
    "    'ordersCummulativeA',\n",
    "    'revenueCummulativeA',\n",
    "]\n",
    "\n",
    "# накопительное количество заказов и суммарной выручки в день по группе B\n",
    "ordersBCummulative = ordersBDaily.apply(\n",
    "    lambda x: ordersBDaily[ordersBDaily['date'] <= x['date']].agg(\n",
    "        {'date': 'max', 'ordersPerDateB': 'sum', 'revenuePerDateB': 'sum'}\n",
    "    ),\n",
    "    axis=1,\n",
    ").sort_values(by=['date'])\n",
    "ordersBCummulative.columns = [\n",
    "    'date',\n",
    "    'ordersCummulativeB',\n",
    "    'revenueCummulativeB',\n",
    "]\n",
    "\n",
    "display(ordersACummulative.tail(), ordersBCummulative.tail())"
   ]
  },
  {
   "cell_type": "markdown",
   "id": "e65f46ac",
   "metadata": {},
   "source": [
    "Количество заказов в группе A меньше (468), чем в группе B (548). "
   ]
  },
  {
   "cell_type": "code",
   "execution_count": 25,
   "id": "cc1cdecf",
   "metadata": {
    "scrolled": true
   },
   "outputs": [
    {
     "data": {
      "text/html": [
       "<div>\n",
       "<style scoped>\n",
       "    .dataframe tbody tr th:only-of-type {\n",
       "        vertical-align: middle;\n",
       "    }\n",
       "\n",
       "    .dataframe tbody tr th {\n",
       "        vertical-align: top;\n",
       "    }\n",
       "\n",
       "    .dataframe thead th {\n",
       "        text-align: right;\n",
       "    }\n",
       "</style>\n",
       "<table border=\"1\" class=\"dataframe\">\n",
       "  <thead>\n",
       "    <tr style=\"text-align: right;\">\n",
       "      <th></th>\n",
       "      <th>date</th>\n",
       "      <th>ordersPerDateA</th>\n",
       "      <th>revenuePerDateA</th>\n",
       "      <th>ordersPerDateB</th>\n",
       "      <th>revenuePerDateB</th>\n",
       "      <th>ordersCummulativeA</th>\n",
       "      <th>revenueCummulativeA</th>\n",
       "      <th>ordersCummulativeB</th>\n",
       "      <th>revenueCummulativeB</th>\n",
       "      <th>visitorsPerDateA</th>\n",
       "      <th>visitorsPerDateB</th>\n",
       "      <th>visitorsCummulativeA</th>\n",
       "      <th>visitorsCummulativeB</th>\n",
       "    </tr>\n",
       "  </thead>\n",
       "  <tbody>\n",
       "    <tr>\n",
       "      <td>0</td>\n",
       "      <td>2019-08-01</td>\n",
       "      <td>23</td>\n",
       "      <td>142779</td>\n",
       "      <td>17</td>\n",
       "      <td>59758</td>\n",
       "      <td>23</td>\n",
       "      <td>142779</td>\n",
       "      <td>17</td>\n",
       "      <td>59758</td>\n",
       "      <td>719</td>\n",
       "      <td>713</td>\n",
       "      <td>719</td>\n",
       "      <td>713</td>\n",
       "    </tr>\n",
       "    <tr>\n",
       "      <td>1</td>\n",
       "      <td>2019-08-02</td>\n",
       "      <td>19</td>\n",
       "      <td>91602</td>\n",
       "      <td>23</td>\n",
       "      <td>162043</td>\n",
       "      <td>42</td>\n",
       "      <td>234381</td>\n",
       "      <td>40</td>\n",
       "      <td>221801</td>\n",
       "      <td>619</td>\n",
       "      <td>581</td>\n",
       "      <td>1338</td>\n",
       "      <td>1294</td>\n",
       "    </tr>\n",
       "    <tr>\n",
       "      <td>2</td>\n",
       "      <td>2019-08-03</td>\n",
       "      <td>24</td>\n",
       "      <td>112473</td>\n",
       "      <td>14</td>\n",
       "      <td>67049</td>\n",
       "      <td>66</td>\n",
       "      <td>346854</td>\n",
       "      <td>54</td>\n",
       "      <td>288850</td>\n",
       "      <td>507</td>\n",
       "      <td>509</td>\n",
       "      <td>1845</td>\n",
       "      <td>1803</td>\n",
       "    </tr>\n",
       "    <tr>\n",
       "      <td>3</td>\n",
       "      <td>2019-08-04</td>\n",
       "      <td>11</td>\n",
       "      <td>41176</td>\n",
       "      <td>14</td>\n",
       "      <td>96890</td>\n",
       "      <td>77</td>\n",
       "      <td>388030</td>\n",
       "      <td>68</td>\n",
       "      <td>385740</td>\n",
       "      <td>717</td>\n",
       "      <td>770</td>\n",
       "      <td>2562</td>\n",
       "      <td>2573</td>\n",
       "    </tr>\n",
       "    <tr>\n",
       "      <td>4</td>\n",
       "      <td>2019-08-05</td>\n",
       "      <td>22</td>\n",
       "      <td>86383</td>\n",
       "      <td>21</td>\n",
       "      <td>89908</td>\n",
       "      <td>99</td>\n",
       "      <td>474413</td>\n",
       "      <td>89</td>\n",
       "      <td>475648</td>\n",
       "      <td>756</td>\n",
       "      <td>707</td>\n",
       "      <td>3318</td>\n",
       "      <td>3280</td>\n",
       "    </tr>\n",
       "  </tbody>\n",
       "</table>\n",
       "</div>"
      ],
      "text/plain": [
       "        date  ordersPerDateA  revenuePerDateA  ordersPerDateB  \\\n",
       "0 2019-08-01              23           142779              17   \n",
       "1 2019-08-02              19            91602              23   \n",
       "2 2019-08-03              24           112473              14   \n",
       "3 2019-08-04              11            41176              14   \n",
       "4 2019-08-05              22            86383              21   \n",
       "\n",
       "   revenuePerDateB  ordersCummulativeA  revenueCummulativeA  \\\n",
       "0            59758                  23               142779   \n",
       "1           162043                  42               234381   \n",
       "2            67049                  66               346854   \n",
       "3            96890                  77               388030   \n",
       "4            89908                  99               474413   \n",
       "\n",
       "   ordersCummulativeB  revenueCummulativeB  visitorsPerDateA  \\\n",
       "0                  17                59758               719   \n",
       "1                  40               221801               619   \n",
       "2                  54               288850               507   \n",
       "3                  68               385740               717   \n",
       "4                  89               475648               756   \n",
       "\n",
       "   visitorsPerDateB  visitorsCummulativeA  visitorsCummulativeB  \n",
       "0               713                   719                   713  \n",
       "1               581                  1338                  1294  \n",
       "2               509                  1845                  1803  \n",
       "3               770                  2562                  2573  \n",
       "4               707                  3318                  3280  "
      ]
     },
     "metadata": {},
     "output_type": "display_data"
    }
   ],
   "source": [
    "# объединим полученные данные в один датасет, по дате заказа\n",
    "data = (\n",
    "    ordersADaily.merge(\n",
    "        ordersBDaily, left_on='date', right_on='date', how='left'\n",
    "    )\n",
    "    .merge(ordersACummulative, left_on='date', right_on='date', how='left')\n",
    "    .merge(ordersBCummulative, left_on='date', right_on='date', how='left')\n",
    "    .merge(visitorsADaily, left_on='date', right_on='date', how='left')\n",
    "    .merge(visitorsBDaily, left_on='date', right_on='date', how='left')\n",
    "    .merge(visitorsACummulative, left_on='date', right_on='date', how='left')\n",
    "    .merge(visitorsBCummulative, left_on='date', right_on='date', how='left')\n",
    ")\n",
    "\n",
    "display(data.head(5))"
   ]
  },
  {
   "cell_type": "markdown",
   "id": "4d18ed21",
   "metadata": {},
   "source": [
    "### 2.1. График кумулятивной выручки по группам. \n"
   ]
  },
  {
   "cell_type": "code",
   "execution_count": 26,
   "id": "96a564d9",
   "metadata": {},
   "outputs": [
    {
     "data": {
      "image/png": "[encoded data removed]",
      "text/plain": [
       "<Figure size 864x432 with 1 Axes>"
      ]
     },
     "metadata": {
      "needs_background": "light"
     },
     "output_type": "display_data"
    }
   ],
   "source": [
    "import warnings\n",
    "warnings.filterwarnings(\"ignore\")\n",
    "\n",
    "#зададим размер\n",
    "plt.figure(figsize=(12, 6))\n",
    "plt.grid()\n",
    "\n",
    "# график кумулятивной выручки группы А\n",
    "plt.plot(data['date'], data['revenueCummulativeA'], label='группа A')\n",
    "\n",
    "# график кумулятивной выручки группы B\n",
    "plt.plot(data['date'], data['revenueCummulativeB'], label='группа B')\n",
    "plt.xticks(rotation=45)\n",
    "plt.title('График кумулятивной выручки по группам', fontsize=15)\n",
    "plt.ylabel('Сумма')\n",
    "plt.legend()\n",
    "\n",
    "plt.ticklabel_format(style='plain', axis='y')"
   ]
  },
  {
   "cell_type": "markdown",
   "id": "85b22cef",
   "metadata": {},
   "source": [
    "### Выводы и предположения.\n",
    "\n",
    "Выручка по обеим группам устойчиво растет в течение всего теста.\n",
    "В группе В есть хорошо заметный скачок говорящий о том что в данных есть выбросы в районе 18-20 августа. \n",
    "\n",
    "[Назад к оглавлению](#0)"
   ]
  },
  {
   "cell_type": "markdown",
   "id": "99b2cc17",
   "metadata": {},
   "source": [
    "### 2.2. График кумулятивного среднего чека по группам. "
   ]
  },
  {
   "cell_type": "code",
   "execution_count": 27,
   "id": "7648b3bf",
   "metadata": {},
   "outputs": [
    {
     "data": {
      "image/png": "[encoded data removed]",
      "text/plain": [
       "<Figure size 864x432 with 1 Axes>"
      ]
     },
     "metadata": {
      "needs_background": "light"
     },
     "output_type": "display_data"
    }
   ],
   "source": [
    "#зададим размер и заголовок\n",
    "plt.figure(figsize=(12, 6))\n",
    "plt.title('График кумулятивного среднего чека по группам', fontsize=15)\n",
    "\n",
    "# график кумулятивного среднего чека группы А\n",
    "plt.plot(data['date'], data['revenueCummulativeA'] / data['ordersCummulativeA'], label='группа A')\n",
    "\n",
    "# график кумулятивного среднего чека группы B\n",
    "plt.plot(data['date'], data['revenueCummulativeB'] / data['ordersCummulativeB'], label='группа B')\n",
    "plt.ylabel(\"Выручка\")\n",
    "plt.xticks(rotation=45)\n",
    "plt.grid()\n",
    "plt.legend()\n",
    "plt.show()"
   ]
  },
  {
   "cell_type": "markdown",
   "id": "784705f9",
   "metadata": {},
   "source": [
    "### Выводы и предположения.\n",
    "\n",
    "Средний чек обеих групп выравнивается после 13.08. Однако, в очередной раз видим, что по группе В есть крупная покупка после 17.08 и после неё чек этой группы начинает снижаться.\n",
    "\n",
    "[Назад к оглавлению](#0)"
   ]
  },
  {
   "cell_type": "markdown",
   "id": "58206323",
   "metadata": {},
   "source": [
    "### 2.3. График относительного изменения кумулятивного среднего чека группы B к группе A. "
   ]
  },
  {
   "cell_type": "code",
   "execution_count": 28,
   "id": "435f5b00",
   "metadata": {},
   "outputs": [
    {
     "data": {
      "image/png": "[encoded data removed]",
      "text/plain": [
       "<Figure size 864x432 with 1 Axes>"
      ]
     },
     "metadata": {
      "needs_background": "light"
     },
     "output_type": "display_data"
    }
   ],
   "source": [
    "#зададим размер и заголовок\n",
    "plt.figure(figsize=(12, 6))\n",
    "plt.title('График относительного изменения кумулятивного среднего чека группы B к группе A', fontsize=15);\n",
    "\n",
    "plt.plot(data['date'], (data['revenueCummulativeB']/data['ordersCummulativeB'])/(\n",
    "                        data['revenueCummulativeA']/data['ordersCummulativeA'])-1)\n",
    "# добавляем ось X\n",
    "plt.axhline(y=0, color='black', linestyle='--')\n",
    "\n",
    "plt.xticks(rotation=45)\n",
    "plt.grid()"
   ]
  },
  {
   "cell_type": "markdown",
   "id": "199e1b74",
   "metadata": {},
   "source": [
    "### Выводы и предположения.\n",
    "\n",
    "Очередное подтверждение того, что где-то прячутся крупные заказы.\n",
    "\n",
    "[Назад к оглавлению](#0)"
   ]
  },
  {
   "cell_type": "markdown",
   "id": "77bd2057",
   "metadata": {},
   "source": [
    "### 2.4. График кумулятивной конверсии по группам. "
   ]
  },
  {
   "cell_type": "code",
   "execution_count": 29,
   "id": "ea34528d",
   "metadata": {},
   "outputs": [
    {
     "data": {
      "image/png": "[encoded data removed]",
      "text/plain": [
       "<Figure size 864x432 with 1 Axes>"
      ]
     },
     "metadata": {
      "needs_background": "light"
     },
     "output_type": "display_data"
    }
   ],
   "source": [
    "#зададим размер и заголовок\n",
    "plt.figure(figsize=(12, 6))\n",
    "plt.title('График кумулятивной конверсии по группам', fontsize=15)\n",
    "plt.ylabel(\"Выручка\")\n",
    "\n",
    "# строим график кумулятивной конверсии\n",
    "plt.plot(data['date'], data['ordersCummulativeA'] / data['visitorsCummulativeA'], label='Группа A')\n",
    "plt.plot(data['date'], data['ordersCummulativeB'] / data['visitorsCummulativeB'], label='Группа B')\n",
    "\n",
    "plt.xticks(rotation=45)\n",
    "plt.legend()\n",
    "plt.grid();\n"
   ]
  },
  {
   "cell_type": "markdown",
   "id": "448c2f8c",
   "metadata": {},
   "source": [
    "### Выводы и предположения.\n",
    "\n",
    "Первые дни конверсия в обеих группах \"прыгала\", но потом выровнялась, и по графику видно, что группа В лидирет.\n",
    "\n",
    "[Назад к оглавлению](#0)"
   ]
  },
  {
   "cell_type": "markdown",
   "id": "a41ae2eb",
   "metadata": {},
   "source": [
    "### 2.5. График относительного изменения кумулятивной конверсии группы B к группе A. "
   ]
  },
  {
   "cell_type": "code",
   "execution_count": 30,
   "id": "909c6a35",
   "metadata": {},
   "outputs": [
    {
     "data": {
      "image/png": "[encoded data removed]",
      "text/plain": [
       "<Figure size 864x432 with 1 Axes>"
      ]
     },
     "metadata": {
      "needs_background": "light"
     },
     "output_type": "display_data"
    }
   ],
   "source": [
    "#зададим размер и заголовок\n",
    "plt.figure(figsize=(12, 6))\n",
    "plt.title('График относительного изменения кумулятивной конверсии группы B к группе A', fontsize=15)\n",
    "\n",
    "plt.plot(data['date'], (data['ordersCummulativeB'] / data['visitorsCummulativeB']) / (\n",
    "                        data['ordersCummulativeA'] / data['visitorsCummulativeA'])-1)\n",
    "\n",
    "plt.xticks(rotation=45)\n",
    "plt.grid()\n",
    "plt.axhline(y=0, color='grey', linestyle='--')\n",
    "plt.axhline(y=0.15, color='black', linestyle='--')\n",
    "plt.xticks(rotation=45)\n",
    "plt.show()"
   ]
  },
  {
   "cell_type": "markdown",
   "id": "9014ac8c",
   "metadata": {},
   "source": [
    "### Выводы и предположения.\n",
    "\n",
    "Группа B брала разгон в начале теста, после стабильно и существенно обгоняет группу А, в последней трети эксперимента наблюдается стабилизация результатов.\n",
    "\n",
    "[Назад к оглавлению](#0)"
   ]
  },
  {
   "cell_type": "markdown",
   "id": "266810ef",
   "metadata": {},
   "source": [
    "### 2.6. Точечный график количества заказов по пользователям. "
   ]
  },
  {
   "cell_type": "code",
   "execution_count": 31,
   "id": "9ce05c4c",
   "metadata": {},
   "outputs": [
    {
     "data": {
      "text/html": [
       "<div>\n",
       "<style scoped>\n",
       "    .dataframe tbody tr th:only-of-type {\n",
       "        vertical-align: middle;\n",
       "    }\n",
       "\n",
       "    .dataframe tbody tr th {\n",
       "        vertical-align: top;\n",
       "    }\n",
       "\n",
       "    .dataframe thead th {\n",
       "        text-align: right;\n",
       "    }\n",
       "</style>\n",
       "<table border=\"1\" class=\"dataframe\">\n",
       "  <thead>\n",
       "    <tr style=\"text-align: right;\">\n",
       "      <th></th>\n",
       "      <th>visitorId</th>\n",
       "      <th>transactionId</th>\n",
       "    </tr>\n",
       "  </thead>\n",
       "  <tbody>\n",
       "    <tr>\n",
       "      <td>908</td>\n",
       "      <td>3967698036</td>\n",
       "      <td>3</td>\n",
       "    </tr>\n",
       "    <tr>\n",
       "      <td>55</td>\n",
       "      <td>249864742</td>\n",
       "      <td>3</td>\n",
       "    </tr>\n",
       "    <tr>\n",
       "      <td>478</td>\n",
       "      <td>2108163459</td>\n",
       "      <td>3</td>\n",
       "    </tr>\n",
       "    <tr>\n",
       "      <td>687</td>\n",
       "      <td>2988190573</td>\n",
       "      <td>3</td>\n",
       "    </tr>\n",
       "    <tr>\n",
       "      <td>890</td>\n",
       "      <td>3908431265</td>\n",
       "      <td>3</td>\n",
       "    </tr>\n",
       "  </tbody>\n",
       "</table>\n",
       "</div>"
      ],
      "text/plain": [
       "      visitorId  transactionId\n",
       "908  3967698036              3\n",
       "55    249864742              3\n",
       "478  2108163459              3\n",
       "687  2988190573              3\n",
       "890  3908431265              3"
      ]
     },
     "execution_count": 31,
     "metadata": {},
     "output_type": "execute_result"
    }
   ],
   "source": [
    "ordersByUsers = (\n",
    "    orders.groupby('visitorId', as_index=False)\n",
    "    .agg({'transactionId': pd.Series.nunique})\n",
    ")\n",
    "\n",
    "ordersByUsers.columns = ['visitorId', 'transactionId']\n",
    "\n",
    "ordersByUsers.sort_values(by='transactionId', ascending=False).head()"
   ]
  },
  {
   "cell_type": "code",
   "execution_count": 32,
   "id": "1bc211a1",
   "metadata": {},
   "outputs": [
    {
     "data": {
      "image/png": "[encoded data removed]",
      "text/plain": [
       "<Figure size 720x432 with 1 Axes>"
      ]
     },
     "metadata": {
      "needs_background": "light"
     },
     "output_type": "display_data"
    }
   ],
   "source": [
    "x_values = pd.Series(range(0,len(ordersByUsers)))\n",
    "\n",
    "plt.figure(figsize=(10, 6))\n",
    "sns.scatterplot(x = x_values, y = ordersByUsers['transactionId'], alpha = 0.8)\n",
    "plt.title('Точечный график количества заказов по пользователям')\n",
    "plt.ylabel('Количество заказов')\n",
    "plt.xlabel('Пользователи')\n",
    "plt.show()"
   ]
  },
  {
   "cell_type": "markdown",
   "id": "07c9f8dd",
   "metadata": {},
   "source": [
    "### Выводы и предположения.\n",
    "\n",
    "Больше 2 заказов у пользователя можно считать аномальным явлением, всего несколько пользователей заказывали более 6 раз.\n",
    "Проверим показатели по выбросам с помощью 95-99% границ распределения.\n",
    "\n",
    "[Назад к оглавлению](#0)"
   ]
  },
  {
   "cell_type": "markdown",
   "id": "4235bc73",
   "metadata": {},
   "source": [
    "### 2.7. Посчитайте 95-й и 99-й перцентили количества заказов на пользователя. \n",
    "Выберите границу для определения аномальных пользователей."
   ]
  },
  {
   "cell_type": "code",
   "execution_count": 33,
   "id": "7c3ec6ab",
   "metadata": {},
   "outputs": [
    {
     "name": "stdout",
     "output_type": "stream",
     "text": [
      "[1. 2.]\n"
     ]
    }
   ],
   "source": [
    "print(np.percentile(ordersByUsers['transactionId'], [95, 99]))"
   ]
  },
  {
   "cell_type": "markdown",
   "id": "53def476",
   "metadata": {},
   "source": [
    "Не более 1% пользователей — больше 2-х заказов. Примем за верхнюю границу диапазона 1 заказ."
   ]
  },
  {
   "cell_type": "markdown",
   "id": "7fae9137",
   "metadata": {},
   "source": [
    "### 2.8. Точечный график стоимостей заказов. "
   ]
  },
  {
   "cell_type": "code",
   "execution_count": 34,
   "id": "92c22dcf",
   "metadata": {},
   "outputs": [
    {
     "data": {
      "image/png": "[encoded data removed]",
      "text/plain": [
       "<Figure size 864x432 with 1 Axes>"
      ]
     },
     "metadata": {
      "needs_background": "light"
     },
     "output_type": "display_data"
    }
   ],
   "source": [
    "x_values = pd.Series(range(0, len(orders)))\n",
    "plt.figure(figsize=(12, 6))\n",
    "sns.scatterplot(x = x_values, y = orders['revenue'], alpha = 0.8)\n",
    "plt.title('Точечный график стоимостей заказов')\n",
    "plt.ylabel('Стоимость заказа')\n",
    "plt.xlabel('Пользователи')\n",
    "plt.grid()\n",
    "plt.ticklabel_format(style='plain', axis='y')"
   ]
  },
  {
   "cell_type": "markdown",
   "id": "f534a61a",
   "metadata": {},
   "source": [
    "Заказов стоимостью 100 000 рублей не очень\n",
    "много. Есть выбросы в районе 200 000 рублей и в районе 1 200 000 рублей. Заказ на 1.2 миллиона выглядит аномально."
   ]
  },
  {
   "cell_type": "markdown",
   "id": "cb87f1a0",
   "metadata": {},
   "source": [
    "Изменим масштаб и посмотрим в пределах 100 000"
   ]
  },
  {
   "cell_type": "code",
   "execution_count": 35,
   "id": "a71c842d",
   "metadata": {},
   "outputs": [
    {
     "data": {
      "image/png": "[encoded data removed]",
      "text/plain": [
       "<Figure size 864x432 with 1 Axes>"
      ]
     },
     "metadata": {
      "needs_background": "light"
     },
     "output_type": "display_data"
    }
   ],
   "source": [
    "x_values = pd.Series(range(0, len(orders['revenue'])))\n",
    "plt.figure(figsize=(12, 6))\n",
    "sns.scatterplot(x = x_values, y = orders['revenue'], alpha = 0.5)\n",
    "plt.ylim(0, 100000);\n",
    "plt.title('Точечный график стоимостей заказов')\n",
    "plt.ylabel('Стоимость заказа')\n",
    "plt.xlabel('Пользователи')\n",
    "plt.grid()\n",
    "plt.ticklabel_format(style='plain', axis='y')"
   ]
  },
  {
   "cell_type": "markdown",
   "id": "3cd84420",
   "metadata": {},
   "source": [
    "### Выводы и предположения.\n",
    "\n",
    "Заказы от 20000 до 30000 уже кажутся редкими, проверим при помощи перцентилей.\n",
    "\n",
    "[Назад к оглавлению](#0)"
   ]
  },
  {
   "cell_type": "markdown",
   "id": "02820626",
   "metadata": {},
   "source": [
    "### 2.9. Посчитайте 95-й и 99-й перцентили стоимости заказов. \n",
    "\n",
    "Выберите границу для определения аномальных заказов."
   ]
  },
  {
   "cell_type": "code",
   "execution_count": 36,
   "id": "ab2a2bb7",
   "metadata": {},
   "outputs": [
    {
     "name": "stdout",
     "output_type": "stream",
     "text": [
      "[26785. 53904.]\n"
     ]
    }
   ],
   "source": [
    "print(np.percentile(orders['revenue'], [95, 99])) "
   ]
  },
  {
   "cell_type": "markdown",
   "id": "677eda12",
   "metadata": {},
   "source": [
    "Не более, чем у 5% заказов чек дороже 26 785 рублей. И не больше, чем у 1% заказов — дороже 53 904 рублей. Возьмем за верхнюю границу 27000, так мы охватим 95%."
   ]
  },
  {
   "cell_type": "markdown",
   "id": "3534e2bf",
   "metadata": {},
   "source": [
    "### 2.10. Статистическая значимость различий в конверсии между группами по «сырым» данным. "
   ]
  },
  {
   "cell_type": "markdown",
   "id": "cd7c603d",
   "metadata": {},
   "source": [
    "Создадим переменные ordersByUsersA и ordersByUsersB со столбцами ['userId', 'orders'].\n",
    "В них для пользователей, которые заказывали хотя бы 1 раз, укажем число совершённых заказов."
   ]
  },
  {
   "cell_type": "code",
   "execution_count": 37,
   "id": "983a0c57",
   "metadata": {},
   "outputs": [
    {
     "data": {
      "text/html": [
       "<div>\n",
       "<style scoped>\n",
       "    .dataframe tbody tr th:only-of-type {\n",
       "        vertical-align: middle;\n",
       "    }\n",
       "\n",
       "    .dataframe tbody tr th {\n",
       "        vertical-align: top;\n",
       "    }\n",
       "\n",
       "    .dataframe thead th {\n",
       "        text-align: right;\n",
       "    }\n",
       "</style>\n",
       "<table border=\"1\" class=\"dataframe\">\n",
       "  <thead>\n",
       "    <tr style=\"text-align: right;\">\n",
       "      <th></th>\n",
       "      <th>visitorId</th>\n",
       "      <th>transactionId</th>\n",
       "    </tr>\n",
       "  </thead>\n",
       "  <tbody>\n",
       "    <tr>\n",
       "      <td>0</td>\n",
       "      <td>11685486</td>\n",
       "      <td>1</td>\n",
       "    </tr>\n",
       "    <tr>\n",
       "      <td>1</td>\n",
       "      <td>54447517</td>\n",
       "      <td>1</td>\n",
       "    </tr>\n",
       "    <tr>\n",
       "      <td>2</td>\n",
       "      <td>66685450</td>\n",
       "      <td>1</td>\n",
       "    </tr>\n",
       "    <tr>\n",
       "      <td>3</td>\n",
       "      <td>78758296</td>\n",
       "      <td>1</td>\n",
       "    </tr>\n",
       "    <tr>\n",
       "      <td>4</td>\n",
       "      <td>85103373</td>\n",
       "      <td>1</td>\n",
       "    </tr>\n",
       "  </tbody>\n",
       "</table>\n",
       "</div>"
      ],
      "text/plain": [
       "   visitorId  transactionId\n",
       "0   11685486              1\n",
       "1   54447517              1\n",
       "2   66685450              1\n",
       "3   78758296              1\n",
       "4   85103373              1"
      ]
     },
     "metadata": {},
     "output_type": "display_data"
    },
    {
     "data": {
      "text/html": [
       "<div>\n",
       "<style scoped>\n",
       "    .dataframe tbody tr th:only-of-type {\n",
       "        vertical-align: middle;\n",
       "    }\n",
       "\n",
       "    .dataframe tbody tr th {\n",
       "        vertical-align: top;\n",
       "    }\n",
       "\n",
       "    .dataframe thead th {\n",
       "        text-align: right;\n",
       "    }\n",
       "</style>\n",
       "<table border=\"1\" class=\"dataframe\">\n",
       "  <thead>\n",
       "    <tr style=\"text-align: right;\">\n",
       "      <th></th>\n",
       "      <th>visitorId</th>\n",
       "      <th>transactionId</th>\n",
       "    </tr>\n",
       "  </thead>\n",
       "  <tbody>\n",
       "    <tr>\n",
       "      <td>0</td>\n",
       "      <td>5114589</td>\n",
       "      <td>1</td>\n",
       "    </tr>\n",
       "    <tr>\n",
       "      <td>1</td>\n",
       "      <td>6958315</td>\n",
       "      <td>1</td>\n",
       "    </tr>\n",
       "    <tr>\n",
       "      <td>2</td>\n",
       "      <td>39475350</td>\n",
       "      <td>1</td>\n",
       "    </tr>\n",
       "    <tr>\n",
       "      <td>3</td>\n",
       "      <td>47206413</td>\n",
       "      <td>1</td>\n",
       "    </tr>\n",
       "    <tr>\n",
       "      <td>4</td>\n",
       "      <td>48147722</td>\n",
       "      <td>1</td>\n",
       "    </tr>\n",
       "  </tbody>\n",
       "</table>\n",
       "</div>"
      ],
      "text/plain": [
       "   visitorId  transactionId\n",
       "0    5114589              1\n",
       "1    6958315              1\n",
       "2   39475350              1\n",
       "3   47206413              1\n",
       "4   48147722              1"
      ]
     },
     "metadata": {},
     "output_type": "display_data"
    }
   ],
   "source": [
    "# пользователи группы А\n",
    "ordersByUsersA = orders[orders['group']=='A'] \\\n",
    "                        .groupby('visitorId', as_index=False) \\\n",
    "                        .agg({'transactionId' : pd.Series.nunique})\n",
    "ordersByUsersA.columns = ['visitorId', 'transactionId']\n",
    "\n",
    "# пользователи группы В\n",
    "ordersByUsersB = orders[orders['group']=='B'] \\\n",
    "                          .groupby('visitorId', as_index=False) \\\n",
    "                          .agg({'transactionId' : pd.Series.nunique})\n",
    "ordersByUsersB.columns = ['visitorId', 'transactionId']\n",
    "\n",
    "display(ordersByUsersA.head(), ordersByUsersB.head())"
   ]
  },
  {
   "cell_type": "markdown",
   "id": "20596b80",
   "metadata": {},
   "source": [
    "Для проведения статистического анализа по критерием Манна-Уитни создадим две переменные sampleA и sampleB, в которых пользователям из разных групп будет соответствовать количество заказов. Тем, кто ничего не заказал, будут соответствовать нули."
   ]
  },
  {
   "cell_type": "code",
   "execution_count": 38,
   "id": "478f28c4",
   "metadata": {},
   "outputs": [],
   "source": [
    "sampleA = pd.concat([ordersByUsersA['transactionId'],\n",
    "                     pd.Series(0, index=np.arange(data['visitorsPerDateA'].sum() - len(ordersByUsersA['transactionId'])),\n",
    "                               name='transactionId',)], axis=0)\n",
    "\n",
    "sampleB = pd.concat([ordersByUsersB['transactionId'],\n",
    "                     pd.Series(0, index=np.arange(data['visitorsPerDateB'].sum() - len(ordersByUsersB['transactionId'])),\n",
    "                               name='transactionId')],axis=0)"
   ]
  },
  {
   "cell_type": "code",
   "execution_count": 39,
   "id": "40f3bf85",
   "metadata": {},
   "outputs": [
    {
     "data": {
      "text/plain": [
       "((18736,), (18916,))"
      ]
     },
     "execution_count": 39,
     "metadata": {},
     "output_type": "execute_result"
    }
   ],
   "source": [
    "sampleA.shape, sampleB.shape"
   ]
  },
  {
   "cell_type": "markdown",
   "id": "e934c95d",
   "metadata": {},
   "source": [
    "Для проверки значимости сформулируем нулевую и альтернативную гипотезы. \n",
    "- H0: Различие конверсий групп не является статистически значимой. \n",
    "- H1: Различие конверсий групп статистически значимо.\n",
    "\n",
    "Возьмем уровень значимости 5%"
   ]
  },
  {
   "cell_type": "code",
   "execution_count": 40,
   "id": "e046b2c3",
   "metadata": {
    "scrolled": true
   },
   "outputs": [
    {
     "name": "stdout",
     "output_type": "stream",
     "text": [
      "Отвергаем нулевую гипотезу, \n",
      "статистически значимые различия в конверсии групп А и В есть\n",
      "p-value = 0.006\n"
     ]
    }
   ],
   "source": [
    "alpha = 0.05\n",
    "if (st.mannwhitneyu(sampleA, sampleB)[1] < alpha):\n",
    "    print(\"Отвергаем нулевую гипотезу, \\nстатистически значимые различия в конверсии групп А и В есть\")\n",
    "else:\n",
    "    print(\"Не получилось отвергнуть нулевую гипотезу\")\n",
    "print(\"p-value = {0:.3f}\".format(st.mannwhitneyu(sampleA, sampleB)[1]))"
   ]
  },
  {
   "cell_type": "markdown",
   "id": "f6438a86",
   "metadata": {},
   "source": [
    "Проверим насколько различаются конверсии в двух группах А и В."
   ]
  },
  {
   "cell_type": "code",
   "execution_count": 41,
   "id": "84f0c53d",
   "metadata": {
    "scrolled": true
   },
   "outputs": [
    {
     "name": "stdout",
     "output_type": "stream",
     "text": [
      "0.160\n"
     ]
    }
   ],
   "source": [
    "print(\"{0:.3f}\".format(sampleB.mean() / sampleA.mean() - 1))"
   ]
  },
  {
   "cell_type": "markdown",
   "id": "4bd570b6",
   "metadata": {},
   "source": [
    "Отношение конверсий групп В и А = 16%"
   ]
  },
  {
   "cell_type": "markdown",
   "id": "8c453d16",
   "metadata": {},
   "source": [
    "### Выводы и предположения."
   ]
  },
  {
   "cell_type": "markdown",
   "id": "4a13b0f6",
   "metadata": {},
   "source": [
    "- Различия в конверсии групп А и В статистически значимые.\n",
    "- Конверсия группы В на 16% выше, чем в группе А.\n",
    "\n",
    "[Назад к оглавлению](#0)"
   ]
  },
  {
   "cell_type": "markdown",
   "id": "15a74e35",
   "metadata": {},
   "source": [
    "### 2.11. Cтатистическая значимость различий в среднем чеке заказа между группами по «сырым» данным. "
   ]
  },
  {
   "cell_type": "markdown",
   "id": "bfd1155c",
   "metadata": {},
   "source": [
    "Проверим гипотезы о различии показателей в среднем чеке в двух группах А и В. \n",
    "\n",
    "- H0: Cтатистически значимых различий в размере среднего чека нет.\n",
    "- H1: Различие среднего чека статистически значимо\n",
    "\n",
    "Возьмем уровень значимости 5%"
   ]
  },
  {
   "cell_type": "code",
   "execution_count": 42,
   "id": "2939bfd4",
   "metadata": {},
   "outputs": [
    {
     "name": "stdout",
     "output_type": "stream",
     "text": [
      "Не получилось отвергнуть нулевую гипотезу, \n",
      "статистически значимых различий в среднем чеке групп А и В нет\n",
      "p-value = 0.415\n"
     ]
    }
   ],
   "source": [
    "alpha = 0.05\n",
    "if (st.mannwhitneyu(\n",
    "                orders[orders['group']=='A']['revenue'], \n",
    "                orders[orders['group']=='B']['revenue'])[1] < alpha):\n",
    "    print(\"Отвергаем нулевую гипотезу, \\nстатистически значимые различия в среднем чеке групп А и В есть\")\n",
    "else:\n",
    "    print(\"Не получилось отвергнуть нулевую гипотезу, \\nстатистически значимых различий в среднем чеке групп А и В нет\")\n",
    "\n",
    "print(\"p-value = {0:.3f}\".format(st.mannwhitneyu(\n",
    "                            orders[orders['group']=='A']['revenue'], \n",
    "                            orders[orders['group']=='B']['revenue'])[1]))"
   ]
  },
  {
   "cell_type": "markdown",
   "id": "46a6c9eb",
   "metadata": {},
   "source": [
    "Найдём относительные различия в среднем чеке между группами"
   ]
  },
  {
   "cell_type": "code",
   "execution_count": 43,
   "id": "bd36fe84",
   "metadata": {},
   "outputs": [
    {
     "name": "stdout",
     "output_type": "stream",
     "text": [
      "0.287\n"
     ]
    }
   ],
   "source": [
    "print('{0:.3f}'.format(orders[orders['group']=='B']['revenue'].mean()/orders[orders['group']=='A']['revenue'].mean()-1))"
   ]
  },
  {
   "cell_type": "markdown",
   "id": "b2eb3da5",
   "metadata": {},
   "source": [
    "Отношение среднего чека групп В и А = 28,7%"
   ]
  },
  {
   "cell_type": "markdown",
   "id": "68f0b941",
   "metadata": {},
   "source": [
    "### Выводы и предположения."
   ]
  },
  {
   "cell_type": "markdown",
   "id": "772b7b66",
   "metadata": {},
   "source": [
    "- Статистически значимых различий в среднем чеке групп А и В нет.\n",
    "- Средний чек группы В выше на 28,7% (в среднем) чем в группе А.\n",
    "\n",
    "[Назад к оглавлению](#0)"
   ]
  },
  {
   "cell_type": "markdown",
   "id": "6de1ecc6",
   "metadata": {},
   "source": [
    "### 2.12. Статистическая значимость различий в конверсии между группами по «очищенным» данным. "
   ]
  },
  {
   "cell_type": "code",
   "execution_count": 44,
   "id": "928e4280",
   "metadata": {},
   "outputs": [
    {
     "name": "stdout",
     "output_type": "stream",
     "text": [
      "568     113298937\n",
      "1099    148427295\n",
      "928     204675465\n",
      "33      249864742\n",
      "684     358944393\n",
      "Name: visitorId, dtype: int64\n",
      "(86,)\n"
     ]
    }
   ],
   "source": [
    "# определяем базу по заказам с аномальным количеством\n",
    "\n",
    "order_lim = np.percentile(ordersByUsers['transactionId'], 95)\n",
    "\n",
    "usersWithManyOrders = pd.concat(\n",
    "    [\n",
    "        ordersByUsersA[ordersByUsersA['transactionId'] > order_lim]['visitorId'],\n",
    "        ordersByUsersB[ordersByUsersB['transactionId'] > order_lim]['visitorId'],\n",
    "    ],\n",
    "    axis=0,\n",
    ")\n",
    "\n",
    "# определяем базу по аномальной сумме заказа\n",
    "revenue_lim = np.percentile(orders['revenue'], 95)\n",
    "usersWithExpensiveOrders = orders[orders['revenue'] > revenue_lim]['visitorId']\n",
    "\n",
    "# создаем список пользователей совершивших аномальные заказы\n",
    "abnormalUsers = (\n",
    "    pd.concat([usersWithManyOrders, usersWithExpensiveOrders], axis=0)\n",
    "    .drop_duplicates()\n",
    "    .sort_values()\n",
    ")\n",
    "print(abnormalUsers.head())\n",
    "print(abnormalUsers.shape)"
   ]
  },
  {
   "cell_type": "markdown",
   "id": "5699048e",
   "metadata": {},
   "source": [
    "Пользователей с аномальными заказами - 86"
   ]
  },
  {
   "cell_type": "code",
   "execution_count": 45,
   "id": "978d89fe",
   "metadata": {},
   "outputs": [
    {
     "data": {
      "text/plain": [
       "(18697,)"
      ]
     },
     "execution_count": 45,
     "metadata": {},
     "output_type": "execute_result"
    }
   ],
   "source": [
    "# создаем базу для расчетов с отфильтрованными заказами для группы А\n",
    "sampleAFiltered = pd.concat(\n",
    "    [ordersByUsersA[np.logical_not(ordersByUsersA['visitorId'] \\\n",
    "                                   .isin(abnormalUsers))]['transactionId'], \n",
    "     pd.Series(0, index=np.arange(data['visitorsPerDateA'] \\\n",
    "                                   .sum() - len(ordersByUsersA['transactionId'])), name='transactionId')], axis=0)\n",
    "sampleAFiltered.shape"
   ]
  },
  {
   "cell_type": "code",
   "execution_count": 46,
   "id": "b217db87",
   "metadata": {},
   "outputs": [
    {
     "data": {
      "text/plain": [
       "(18869,)"
      ]
     },
     "execution_count": 46,
     "metadata": {},
     "output_type": "execute_result"
    }
   ],
   "source": [
    "# создаем базу для расчетов с отфильтрованными заказами для группы В\n",
    "sampleBFiltered = pd.concat(\n",
    "    [ordersByUsersB[np.logical_not(ordersByUsersB['visitorId'] \\\n",
    "                                   .isin(abnormalUsers))]['transactionId'], \n",
    "     pd.Series(0, index=np.arange(data['visitorsPerDateB'] \\\n",
    "                                    .sum() - len(ordersByUsersB['transactionId'])), name='transactionId')], axis=0)\n",
    "sampleBFiltered.shape"
   ]
  },
  {
   "cell_type": "markdown",
   "id": "cb6e4bd0",
   "metadata": {},
   "source": [
    "Проверим гипотезы о различии показателей конверсии в двух группах А и В по «очищенным» данным. \n",
    "\n",
    "- H0: Cтатистически значимых различий в конверсиях в группе A и в группе B нет;\n",
    "- H1: Разница конверсии в группе A и в группе B статистически значима.\n",
    "\n",
    "\n",
    "Возьмем уровень значимости 5%"
   ]
  },
  {
   "cell_type": "code",
   "execution_count": 47,
   "id": "7955c038",
   "metadata": {},
   "outputs": [
    {
     "name": "stdout",
     "output_type": "stream",
     "text": [
      "Отвергаем нулевую гипотезу, \n",
      "статистически значимые различия в конверсии групп А и В есть\n",
      "p-value = 0.008\n"
     ]
    }
   ],
   "source": [
    "alpha = 0.05\n",
    "if (st.mannwhitneyu(sampleAFiltered, sampleBFiltered)[1] < alpha):\n",
    "    print(\"Отвергаем нулевую гипотезу, \\nстатистически значимые различия в конверсии групп А и В есть\")\n",
    "else:\n",
    "    print(\"Не получилось отвергнуть нулевую гипотезу\")\n",
    "print(\"p-value = {0:.3f}\".format(st.mannwhitneyu(sampleAFiltered, sampleBFiltered)[1]))"
   ]
  },
  {
   "cell_type": "markdown",
   "id": "e8e2d826",
   "metadata": {},
   "source": [
    "Проверим насколько различаются конверсии в двух группах А и В по измененным данным"
   ]
  },
  {
   "cell_type": "code",
   "execution_count": 48,
   "id": "c35210a2",
   "metadata": {},
   "outputs": [
    {
     "name": "stdout",
     "output_type": "stream",
     "text": [
      "Отношение конверсий групп В и А = 17.39%\n"
     ]
    }
   ],
   "source": [
    "print(\"Отношение конверсий групп В и А = {0:.2%}\".format(sampleBFiltered.mean()/sampleAFiltered.mean()-1))"
   ]
  },
  {
   "cell_type": "markdown",
   "id": "186f86a9",
   "metadata": {},
   "source": [
    "### Выводы и предположения."
   ]
  },
  {
   "cell_type": "markdown",
   "id": "2aa99dab",
   "metadata": {},
   "source": [
    "- Различия в конверсии групп А и В есть, показатель сохранился.\n",
    "- Конверсия группы В выше на 17,39% (в среднем) чем в группе А.\n",
    "\n",
    "[Назад к оглавлению](#0)"
   ]
  },
  {
   "cell_type": "markdown",
   "id": "ea3662c7",
   "metadata": {},
   "source": [
    "### 2.13. Cтатистическая значимость различий в среднем чеке заказа между группами по «очищенным» данным. "
   ]
  },
  {
   "cell_type": "markdown",
   "id": "31f16fc3",
   "metadata": {},
   "source": [
    "Проверим гипотезы о различии показателей в среднем чеке в двух группах А и В по \"очищенным\" данным. \n",
    "\n",
    "- H0: Cтатистически значимых различий в среднем чеке заказа между группами нет\n",
    "- H1: Разница в результатах по среднему чеку статистически значима.\n",
    "\n",
    "Возьмем уровень значимости 5%"
   ]
  },
  {
   "cell_type": "code",
   "execution_count": 49,
   "id": "4924aa96",
   "metadata": {},
   "outputs": [
    {
     "name": "stdout",
     "output_type": "stream",
     "text": [
      "Не получилось отвергнуть нулевую гипотезу, \n",
      "статистически значимых различий в среднем чеке групп А и В нет\n",
      "p-value = 0.364\n"
     ]
    }
   ],
   "source": [
    "alpha = 0.05\n",
    "if (st.mannwhitneyu(orders[np.logical_and(orders['group']=='A',\n",
    "                              np.logical_not(orders['visitorId'].isin(abnormalUsers)))]['revenue'],\n",
    "                       orders[np.logical_and(orders['group']=='B',\n",
    "                              np.logical_not(orders['visitorId'].isin(abnormalUsers)))]['revenue'])[1] < alpha):\n",
    "    print(\"Отвергаем нулевую гипотезу, \\nстатистически значимые различия в среднем чеке групп А и В есть\")\n",
    "else:\n",
    "    print(\"Не получилось отвергнуть нулевую гипотезу, \\nстатистически значимых различий в среднем чеке групп А и В нет\")\n",
    "\n",
    "print(\"p-value = {0:.3f}\".format(st.mannwhitneyu(orders[np.logical_and(orders['group']=='A',\n",
    "                              np.logical_not(orders['visitorId'].isin(abnormalUsers)))]['revenue'],\n",
    "                       orders[np.logical_and(orders['group']=='B',\n",
    "                              np.logical_not(orders['visitorId'].isin(abnormalUsers)))]['revenue'])[1]))\n"
   ]
  },
  {
   "cell_type": "markdown",
   "id": "8198cfc3",
   "metadata": {},
   "source": [
    "Найдём относительные различия в среднем чеке между группами по \"очищенным\" данным"
   ]
  },
  {
   "cell_type": "code",
   "execution_count": 50,
   "id": "87abd513",
   "metadata": {},
   "outputs": [
    {
     "name": "stdout",
     "output_type": "stream",
     "text": [
      "Отношение среднего чека групп В и А = -3.37%\n"
     ]
    }
   ],
   "source": [
    "print('Отношение среднего чека групп В и А = {0:.2%}'.format(\n",
    "                                orders[np.logical_and(orders['group']=='B', \n",
    "                                         np.logical_not(orders['visitorId'].isin(abnormalUsers)))]['revenue'].mean()/\n",
    "                                orders[np.logical_and(orders['group']=='A',\n",
    "                                         np.logical_not(orders['visitorId'].isin(abnormalUsers)))]['revenue'].mean() - 1))"
   ]
  },
  {
   "cell_type": "markdown",
   "id": "82996b9d",
   "metadata": {},
   "source": [
    "### Выводы и предположения."
   ]
  },
  {
   "cell_type": "markdown",
   "id": "dadcbe02",
   "metadata": {},
   "source": [
    "- Статистически значимых различий в среднем чеке групп А и В нет. Результат не изменился\n",
    "- Средний чек группы В ниже на 3,37% (в среднем) чем в группе А. \n",
    "\n",
    "[Назад к оглавлению](#0)"
   ]
  },
  {
   "cell_type": "markdown",
   "id": "7535bb93",
   "metadata": {},
   "source": [
    "### 2.14. Решение по результатам теста. \n",
    "\n",
    "-  Остановить тест.\n",
    "-  Зафиксировать статистически значимую разницу конверсии в группе В над конверсией в группе А.\n",
    "-  Зафиксировать отстутствие статистически значимого различия по среднему чеку между группами в обоих вариантах анализа.\n",
    "-  Зафиксировать отсутствие изменений в показателях среднего чека в пределах месяца наблюдений после проведения фильтрации данных."
   ]
  },
  {
   "cell_type": "markdown",
   "id": "d2309139",
   "metadata": {},
   "source": [
    "### Общие выводы\n",
    "\n",
    "**Приоретизация гипотез**\n",
    "\n",
    "- Гипотезы по фремворку ICE расположились так: 8 -> 0 -> 7 -> 6 -> 2 по убыванию значимости.\n",
    "\n",
    "- Гипотезы по фремворку RICE расположились так: 7 -> 2 -> 0 -> 6 -> 8 по убыванию значимости.\n",
    "\n",
    "При использовании ICE вышла в лидеры гипотеза \"Запустить акцию, дающую скидку на товар в день рождения\", но ICE не учитывает охват, поэтому при использовании RICE стало более наглядно, что делать выбор стоит все в пользу вариантов, которые в потенциале увеличат выручку с большей вероятностью.\n",
    "\n",
    "Цифры цифрами, но здравый смысл подсказывает, что опираться на день рождения как главный источник увеличения выручки менее эффективно, чем использовать форму подписки для e-mail рассылок.\n",
    "\n",
    "В лидеры вышли гипотезы под номерами 7, 2, 0. И держать в запасе еще 2 гипотезы: 6 и 8.\n",
    "\n",
    "- 7. \tДобавить форму подписки на все основные страницы, чтобы собрать базу клиентов для email-рассылок\n",
    "\n",
    "- 2.\tДобавить блоки рекомендаций товаров на сайт интернет магазина, чтобы повысить конверсию и средний чек заказа\n",
    "\n",
    "- 0.\tДобавить два новых канала привлечения трафика, что позволит привлекать на 30% больше пользователей\n",
    "\n",
    "- 6.\tПоказать на главной странице баннеры с актуальными акциями и распродажами, чтобы увеличить конверсию\n",
    "\n",
    "- 8.\tЗапустить акцию, дающую скидку на товар в день рождения\n"
   ]
  },
  {
   "cell_type": "markdown",
   "id": "91c0c666",
   "metadata": {},
   "source": [
    "**Анализ А/В теста**\n",
    "\n",
    "Количество посещений в группах за месяц теста сопостовимо:\n",
    "\n",
    " - 18736 – группа А\n",
    " - 18916 – группа В\n",
    "\n",
    "Количество заказов:\n",
    "\n",
    " - 468 - группа А\n",
    " - 548 - группа В\n",
    " \n",
    "- **Выручка** по обеим группам устойчиво растет в течение всего теста. В группе В есть хорошо заметный скачок говорящий о том что в данных есть выбросы в районе 18-20 августа.\n",
    "\n",
    "- **Средний чек** обеих групп выравнивается после 13.08. Однако, в очередной раз видим, что по группе В есть крупная покупка после 17.08 и после неё чек этой группы начинает снижаться.\n",
    "\n",
    "- **Конверсия** по группам вначале наблюдений колеблется очень сильно.\n",
    "В первую неделю теста группа B проигрывает значительно - около 7% группе A.\n",
    "После резкого роста, разница в конверсиях установилась на уровне 10% (выше у группы В).\n",
    "Колебания конверсий к концу теста сохраняются в пределах 2-3%.\n",
    "\n",
    "- **Аномальные данные** отфильтрованы по 95% охвату всех заказов, верхняя граница диапазона\n",
    "\n",
    "Количество заказов - не более 1.\n",
    "Стоимость заказа - не более 27 000.\n",
    "Пользователей с аномальными заказами - 86\n",
    "\n",
    "**Выводы по сырым данным**\n",
    "\n",
    "- Статистически значимые различия в конверсии групп А и В есть.\n",
    "Конверсия группы В на 16 % выше  чем в группе А.\n",
    "\n",
    "- Статистически значимых различий в среднем чеке групп А и В нет.\n",
    "Средний чек группы В на 28,7% выше, чем в группе А.\n",
    "\n",
    "**Выводы по очищенным данным**\n",
    "\n",
    "- Статистически значимые различия в конверсии групп А и В есть. Результат не изменился.\n",
    "Конверсия группы В выше на 17,39% чем в группе А. \n",
    "\n",
    "- Статистически значимых различий в среднем чеке групп А и В нет. Результат не изменился\n",
    "Средний чек группы В ниже на 3,37% чем в группе А.\n",
    "\n",
    "После исключения из анализа аномально дорогих покупок выяснилось что действительно разница в среднем чеке между группами несущественна.\n",
    "\n",
    "**Решение по результатам теста**\n",
    "\n",
    "- Остановить тест.\n",
    "- Зафиксирована статистически значимая разница конверсии в группе В над конверсией в группе А. \n"
   ]
  }
 ],
 "metadata": {
  "ExecuteTimeLog": [
   {
    "duration": 1171,
    "start_time": "2022-03-10T07:00:46.942Z"
   },
   {
    "duration": 282,
    "start_time": "2022-03-10T07:00:48.115Z"
   },
   {
    "duration": -1208,
    "start_time": "2022-03-10T07:00:49.608Z"
   },
   {
    "duration": -1210,
    "start_time": "2022-03-10T07:00:49.611Z"
   },
   {
    "duration": -1212,
    "start_time": "2022-03-10T07:00:49.614Z"
   },
   {
    "duration": -1213,
    "start_time": "2022-03-10T07:00:49.616Z"
   },
   {
    "duration": -1214,
    "start_time": "2022-03-10T07:00:49.618Z"
   },
   {
    "duration": -1215,
    "start_time": "2022-03-10T07:00:49.620Z"
   },
   {
    "duration": -1217,
    "start_time": "2022-03-10T07:00:49.623Z"
   },
   {
    "duration": -1218,
    "start_time": "2022-03-10T07:00:49.625Z"
   },
   {
    "duration": -1219,
    "start_time": "2022-03-10T07:00:49.627Z"
   },
   {
    "duration": -1220,
    "start_time": "2022-03-10T07:00:49.629Z"
   },
   {
    "duration": -1221,
    "start_time": "2022-03-10T07:00:49.631Z"
   },
   {
    "duration": -1226,
    "start_time": "2022-03-10T07:00:49.637Z"
   },
   {
    "duration": -1229,
    "start_time": "2022-03-10T07:00:49.641Z"
   },
   {
    "duration": -1231,
    "start_time": "2022-03-10T07:00:49.644Z"
   },
   {
    "duration": -1232,
    "start_time": "2022-03-10T07:00:49.646Z"
   },
   {
    "duration": -1233,
    "start_time": "2022-03-10T07:00:49.648Z"
   },
   {
    "duration": -1235,
    "start_time": "2022-03-10T07:00:49.651Z"
   },
   {
    "duration": -1240,
    "start_time": "2022-03-10T07:00:49.657Z"
   },
   {
    "duration": -1242,
    "start_time": "2022-03-10T07:00:49.660Z"
   },
   {
    "duration": -1242,
    "start_time": "2022-03-10T07:00:49.661Z"
   },
   {
    "duration": -1245,
    "start_time": "2022-03-10T07:00:49.664Z"
   },
   {
    "duration": -1246,
    "start_time": "2022-03-10T07:00:49.666Z"
   },
   {
    "duration": -1247,
    "start_time": "2022-03-10T07:00:49.668Z"
   },
   {
    "duration": -1249,
    "start_time": "2022-03-10T07:00:49.671Z"
   },
   {
    "duration": -1251,
    "start_time": "2022-03-10T07:00:49.674Z"
   },
   {
    "duration": -1252,
    "start_time": "2022-03-10T07:00:49.676Z"
   },
   {
    "duration": -1254,
    "start_time": "2022-03-10T07:00:49.678Z"
   },
   {
    "duration": -1255,
    "start_time": "2022-03-10T07:00:49.680Z"
   },
   {
    "duration": -1257,
    "start_time": "2022-03-10T07:00:49.683Z"
   },
   {
    "duration": -1257,
    "start_time": "2022-03-10T07:00:49.684Z"
   },
   {
    "duration": -1259,
    "start_time": "2022-03-10T07:00:49.687Z"
   },
   {
    "duration": -1260,
    "start_time": "2022-03-10T07:00:49.689Z"
   },
   {
    "duration": -1265,
    "start_time": "2022-03-10T07:00:49.695Z"
   },
   {
    "duration": -1266,
    "start_time": "2022-03-10T07:00:49.696Z"
   },
   {
    "duration": -1267,
    "start_time": "2022-03-10T07:00:49.698Z"
   },
   {
    "duration": -1268,
    "start_time": "2022-03-10T07:00:49.700Z"
   },
   {
    "duration": -1271,
    "start_time": "2022-03-10T07:00:49.704Z"
   },
   {
    "duration": -1272,
    "start_time": "2022-03-10T07:00:49.706Z"
   },
   {
    "duration": -1273,
    "start_time": "2022-03-10T07:00:49.708Z"
   },
   {
    "duration": -1273,
    "start_time": "2022-03-10T07:00:49.710Z"
   },
   {
    "duration": -1274,
    "start_time": "2022-03-10T07:00:49.712Z"
   },
   {
    "duration": -1255,
    "start_time": "2022-03-10T07:00:49.714Z"
   },
   {
    "duration": -1256,
    "start_time": "2022-03-10T07:00:49.716Z"
   },
   {
    "duration": -1257,
    "start_time": "2022-03-10T07:00:49.718Z"
   },
   {
    "duration": -1259,
    "start_time": "2022-03-10T07:00:49.721Z"
   },
   {
    "duration": 1171,
    "start_time": "2022-03-10T07:02:01.448Z"
   },
   {
    "duration": 49,
    "start_time": "2022-03-10T07:02:02.621Z"
   },
   {
    "duration": 4,
    "start_time": "2022-03-10T07:02:02.672Z"
   },
   {
    "duration": 11,
    "start_time": "2022-03-10T07:02:02.678Z"
   },
   {
    "duration": 9,
    "start_time": "2022-03-10T07:02:02.691Z"
   },
   {
    "duration": 6,
    "start_time": "2022-03-10T07:02:02.702Z"
   },
   {
    "duration": 13,
    "start_time": "2022-03-10T07:02:02.710Z"
   },
   {
    "duration": 8,
    "start_time": "2022-03-10T07:02:02.725Z"
   },
   {
    "duration": 17,
    "start_time": "2022-03-10T07:02:02.760Z"
   },
   {
    "duration": 9,
    "start_time": "2022-03-10T07:02:02.779Z"
   },
   {
    "duration": 7,
    "start_time": "2022-03-10T07:02:02.790Z"
   },
   {
    "duration": 14,
    "start_time": "2022-03-10T07:02:02.798Z"
   },
   {
    "duration": 11,
    "start_time": "2022-03-10T07:02:02.813Z"
   },
   {
    "duration": 42,
    "start_time": "2022-03-10T07:02:02.826Z"
   },
   {
    "duration": 14,
    "start_time": "2022-03-10T07:02:02.870Z"
   },
   {
    "duration": 5,
    "start_time": "2022-03-10T07:02:02.885Z"
   },
   {
    "duration": 15,
    "start_time": "2022-03-10T07:02:02.892Z"
   },
   {
    "duration": 8,
    "start_time": "2022-03-10T07:02:02.909Z"
   },
   {
    "duration": 161,
    "start_time": "2022-03-10T07:02:02.918Z"
   },
   {
    "duration": 32,
    "start_time": "2022-03-10T07:02:03.080Z"
   },
   {
    "duration": 157,
    "start_time": "2022-03-10T07:02:03.113Z"
   },
   {
    "duration": 31,
    "start_time": "2022-03-10T07:02:03.272Z"
   },
   {
    "duration": 330,
    "start_time": "2022-03-10T07:02:03.306Z"
   },
   {
    "duration": 301,
    "start_time": "2022-03-10T07:02:03.638Z"
   },
   {
    "duration": 436,
    "start_time": "2022-03-10T07:02:03.940Z"
   },
   {
    "duration": 382,
    "start_time": "2022-03-10T07:02:04.377Z"
   },
   {
    "duration": 395,
    "start_time": "2022-03-10T07:02:04.761Z"
   },
   {
    "duration": 132,
    "start_time": "2022-03-10T07:02:05.158Z"
   },
   {
    "duration": 338,
    "start_time": "2022-03-10T07:02:05.292Z"
   },
   {
    "duration": 5,
    "start_time": "2022-03-10T07:02:05.631Z"
   },
   {
    "duration": 447,
    "start_time": "2022-03-10T07:02:05.637Z"
   },
   {
    "duration": 382,
    "start_time": "2022-03-10T07:02:06.085Z"
   },
   {
    "duration": 5,
    "start_time": "2022-03-10T07:02:06.469Z"
   },
   {
    "duration": 145,
    "start_time": "2022-03-10T07:02:06.476Z"
   },
   {
    "duration": 6,
    "start_time": "2022-03-10T07:02:06.623Z"
   },
   {
    "duration": 8,
    "start_time": "2022-03-10T07:02:06.630Z"
   },
   {
    "duration": 26,
    "start_time": "2022-03-10T07:02:06.640Z"
   },
   {
    "duration": 4,
    "start_time": "2022-03-10T07:02:06.668Z"
   },
   {
    "duration": 11,
    "start_time": "2022-03-10T07:02:06.673Z"
   },
   {
    "duration": 6,
    "start_time": "2022-03-10T07:02:06.686Z"
   },
   {
    "duration": 9,
    "start_time": "2022-03-10T07:02:06.694Z"
   },
   {
    "duration": 8,
    "start_time": "2022-03-10T07:02:06.705Z"
   },
   {
    "duration": 45,
    "start_time": "2022-03-10T07:02:06.715Z"
   },
   {
    "duration": 11,
    "start_time": "2022-03-10T07:02:06.762Z"
   },
   {
    "duration": 4,
    "start_time": "2022-03-10T07:02:06.775Z"
   },
   {
    "duration": 15,
    "start_time": "2022-03-10T07:02:06.780Z"
   },
   {
    "duration": 9,
    "start_time": "2022-03-10T07:02:06.796Z"
   },
   {
    "duration": 368,
    "start_time": "2022-03-10T07:03:53.159Z"
   },
   {
    "duration": 41,
    "start_time": "2022-03-10T07:04:14.761Z"
   },
   {
    "duration": 1169,
    "start_time": "2022-03-10T07:05:18.097Z"
   },
   {
    "duration": 44,
    "start_time": "2022-03-10T07:05:19.268Z"
   },
   {
    "duration": 10,
    "start_time": "2022-03-10T07:05:19.314Z"
   },
   {
    "duration": 30,
    "start_time": "2022-03-10T07:05:19.326Z"
   },
   {
    "duration": 32,
    "start_time": "2022-03-10T07:05:19.357Z"
   },
   {
    "duration": 14,
    "start_time": "2022-03-10T07:05:19.391Z"
   },
   {
    "duration": 40,
    "start_time": "2022-03-10T07:05:19.407Z"
   },
   {
    "duration": 19,
    "start_time": "2022-03-10T07:05:19.449Z"
   },
   {
    "duration": 39,
    "start_time": "2022-03-10T07:05:19.470Z"
   },
   {
    "duration": 33,
    "start_time": "2022-03-10T07:05:19.511Z"
   },
   {
    "duration": 13,
    "start_time": "2022-03-10T07:05:19.546Z"
   },
   {
    "duration": 12,
    "start_time": "2022-03-10T07:05:19.561Z"
   },
   {
    "duration": 12,
    "start_time": "2022-03-10T07:05:19.575Z"
   },
   {
    "duration": 11,
    "start_time": "2022-03-10T07:05:19.589Z"
   },
   {
    "duration": 13,
    "start_time": "2022-03-10T07:05:19.602Z"
   },
   {
    "duration": 6,
    "start_time": "2022-03-10T07:05:19.617Z"
   },
   {
    "duration": 18,
    "start_time": "2022-03-10T07:05:19.660Z"
   },
   {
    "duration": 4,
    "start_time": "2022-03-10T07:05:19.680Z"
   },
   {
    "duration": 141,
    "start_time": "2022-03-10T07:05:19.686Z"
   },
   {
    "duration": 47,
    "start_time": "2022-03-10T07:05:19.829Z"
   },
   {
    "duration": 150,
    "start_time": "2022-03-10T07:05:19.878Z"
   },
   {
    "duration": 50,
    "start_time": "2022-03-10T07:05:20.030Z"
   },
   {
    "duration": 321,
    "start_time": "2022-03-10T07:05:20.084Z"
   },
   {
    "duration": 304,
    "start_time": "2022-03-10T07:05:20.407Z"
   },
   {
    "duration": 402,
    "start_time": "2022-03-10T07:05:20.712Z"
   },
   {
    "duration": 318,
    "start_time": "2022-03-10T07:05:21.115Z"
   },
   {
    "duration": 434,
    "start_time": "2022-03-10T07:05:21.435Z"
   },
   {
    "duration": 135,
    "start_time": "2022-03-10T07:05:21.871Z"
   },
   {
    "duration": 357,
    "start_time": "2022-03-10T07:05:22.008Z"
   },
   {
    "duration": 4,
    "start_time": "2022-03-10T07:05:22.367Z"
   },
   {
    "duration": 504,
    "start_time": "2022-03-10T07:05:22.373Z"
   },
   {
    "duration": 384,
    "start_time": "2022-03-10T07:05:22.879Z"
   },
   {
    "duration": 4,
    "start_time": "2022-03-10T07:05:23.264Z"
   },
   {
    "duration": 137,
    "start_time": "2022-03-10T07:05:23.270Z"
   },
   {
    "duration": 6,
    "start_time": "2022-03-10T07:05:23.408Z"
   },
   {
    "duration": 7,
    "start_time": "2022-03-10T07:05:23.416Z"
   },
   {
    "duration": 11,
    "start_time": "2022-03-10T07:05:23.425Z"
   },
   {
    "duration": 4,
    "start_time": "2022-03-10T07:05:23.458Z"
   },
   {
    "duration": 11,
    "start_time": "2022-03-10T07:05:23.464Z"
   },
   {
    "duration": 5,
    "start_time": "2022-03-10T07:05:23.477Z"
   },
   {
    "duration": 10,
    "start_time": "2022-03-10T07:05:23.484Z"
   },
   {
    "duration": 11,
    "start_time": "2022-03-10T07:05:23.496Z"
   },
   {
    "duration": 8,
    "start_time": "2022-03-10T07:05:23.509Z"
   },
   {
    "duration": 45,
    "start_time": "2022-03-10T07:05:23.518Z"
   },
   {
    "duration": 4,
    "start_time": "2022-03-10T07:05:23.564Z"
   },
   {
    "duration": 19,
    "start_time": "2022-03-10T07:05:23.570Z"
   },
   {
    "duration": 7,
    "start_time": "2022-03-10T07:05:23.591Z"
   },
   {
    "duration": 356,
    "start_time": "2022-03-10T15:43:47.609Z"
   },
   {
    "duration": 1076,
    "start_time": "2022-03-10T15:44:02.465Z"
   },
   {
    "duration": 349,
    "start_time": "2022-03-10T15:44:03.543Z"
   },
   {
    "duration": 304,
    "start_time": "2022-03-10T15:44:17.329Z"
   },
   {
    "duration": 290,
    "start_time": "2022-03-10T15:44:28.986Z"
   },
   {
    "duration": 331,
    "start_time": "2022-03-10T15:44:46.507Z"
   },
   {
    "duration": 300,
    "start_time": "2022-03-10T15:47:19.268Z"
   },
   {
    "duration": 76,
    "start_time": "2022-03-10T16:00:17.940Z"
   },
   {
    "duration": 2,
    "start_time": "2022-03-10T16:00:51.556Z"
   },
   {
    "duration": 71,
    "start_time": "2022-03-10T16:00:52.113Z"
   },
   {
    "duration": 299,
    "start_time": "2022-03-10T16:02:27.817Z"
   },
   {
    "duration": 313,
    "start_time": "2022-03-10T16:02:39.477Z"
   },
   {
    "duration": 111,
    "start_time": "2022-03-10T16:03:00.131Z"
   },
   {
    "duration": 103,
    "start_time": "2022-03-10T16:03:07.811Z"
   },
   {
    "duration": 328,
    "start_time": "2022-03-10T16:03:13.931Z"
   },
   {
    "duration": 102,
    "start_time": "2022-03-10T16:03:35.029Z"
   },
   {
    "duration": 304,
    "start_time": "2022-03-10T16:03:40.589Z"
   },
   {
    "duration": 74,
    "start_time": "2022-03-10T16:04:03.678Z"
   },
   {
    "duration": 72,
    "start_time": "2022-03-10T16:07:23.436Z"
   },
   {
    "duration": 73,
    "start_time": "2022-03-10T16:07:41.349Z"
   },
   {
    "duration": 74,
    "start_time": "2022-03-10T16:07:47.924Z"
   },
   {
    "duration": 72,
    "start_time": "2022-03-10T16:07:54.643Z"
   },
   {
    "duration": 72,
    "start_time": "2022-03-10T16:08:02.820Z"
   },
   {
    "duration": 292,
    "start_time": "2022-03-10T16:08:09.059Z"
   },
   {
    "duration": 70,
    "start_time": "2022-03-10T16:08:21.243Z"
   },
   {
    "duration": 7,
    "start_time": "2022-03-10T16:08:26.171Z"
   },
   {
    "duration": 9,
    "start_time": "2022-03-10T16:08:30.588Z"
   },
   {
    "duration": 3,
    "start_time": "2022-03-10T16:08:57.966Z"
   },
   {
    "duration": 75,
    "start_time": "2022-03-10T16:08:57.970Z"
   },
   {
    "duration": 4,
    "start_time": "2022-03-10T16:08:58.047Z"
   },
   {
    "duration": 11,
    "start_time": "2022-03-10T16:08:58.052Z"
   },
   {
    "duration": 9,
    "start_time": "2022-03-10T16:08:58.064Z"
   },
   {
    "duration": 6,
    "start_time": "2022-03-10T16:08:58.074Z"
   },
   {
    "duration": 9,
    "start_time": "2022-03-10T16:08:58.082Z"
   },
   {
    "duration": 7,
    "start_time": "2022-03-10T16:08:58.092Z"
   },
   {
    "duration": 18,
    "start_time": "2022-03-10T16:08:58.101Z"
   },
   {
    "duration": 8,
    "start_time": "2022-03-10T16:08:58.121Z"
   },
   {
    "duration": 10,
    "start_time": "2022-03-10T16:08:58.130Z"
   },
   {
    "duration": 12,
    "start_time": "2022-03-10T16:08:58.142Z"
   },
   {
    "duration": 9,
    "start_time": "2022-03-10T16:08:58.156Z"
   },
   {
    "duration": 43,
    "start_time": "2022-03-10T16:08:58.167Z"
   },
   {
    "duration": 11,
    "start_time": "2022-03-10T16:08:58.211Z"
   },
   {
    "duration": 4,
    "start_time": "2022-03-10T16:08:58.224Z"
   },
   {
    "duration": 13,
    "start_time": "2022-03-10T16:08:58.230Z"
   },
   {
    "duration": 3,
    "start_time": "2022-03-10T16:08:58.245Z"
   },
   {
    "duration": 141,
    "start_time": "2022-03-10T16:08:58.251Z"
   },
   {
    "duration": 37,
    "start_time": "2022-03-10T16:08:58.394Z"
   },
   {
    "duration": 128,
    "start_time": "2022-03-10T16:08:58.433Z"
   },
   {
    "duration": 26,
    "start_time": "2022-03-10T16:08:58.562Z"
   },
   {
    "duration": 270,
    "start_time": "2022-03-10T16:08:58.589Z"
   },
   {
    "duration": 250,
    "start_time": "2022-03-10T16:08:58.860Z"
   },
   {
    "duration": 349,
    "start_time": "2022-03-10T16:08:59.111Z"
   },
   {
    "duration": 258,
    "start_time": "2022-03-10T16:08:59.462Z"
   },
   {
    "duration": 342,
    "start_time": "2022-03-10T16:08:59.722Z"
   },
   {
    "duration": 115,
    "start_time": "2022-03-10T16:09:00.066Z"
   },
   {
    "duration": 339,
    "start_time": "2022-03-10T16:09:00.182Z"
   },
   {
    "duration": 4,
    "start_time": "2022-03-10T16:09:00.523Z"
   },
   {
    "duration": 422,
    "start_time": "2022-03-10T16:09:00.528Z"
   },
   {
    "duration": 347,
    "start_time": "2022-03-10T16:09:00.951Z"
   },
   {
    "duration": 7,
    "start_time": "2022-03-10T16:09:01.300Z"
   },
   {
    "duration": 121,
    "start_time": "2022-03-10T16:09:01.308Z"
   },
   {
    "duration": 5,
    "start_time": "2022-03-10T16:09:01.431Z"
   },
   {
    "duration": 7,
    "start_time": "2022-03-10T16:09:01.438Z"
   },
   {
    "duration": 12,
    "start_time": "2022-03-10T16:09:01.446Z"
   },
   {
    "duration": 7,
    "start_time": "2022-03-10T16:09:01.460Z"
   },
   {
    "duration": 15,
    "start_time": "2022-03-10T16:09:01.468Z"
   },
   {
    "duration": 8,
    "start_time": "2022-03-10T16:09:01.506Z"
   },
   {
    "duration": 10,
    "start_time": "2022-03-10T16:09:01.516Z"
   },
   {
    "duration": 15,
    "start_time": "2022-03-10T16:09:01.528Z"
   },
   {
    "duration": 14,
    "start_time": "2022-03-10T16:09:01.545Z"
   },
   {
    "duration": 11,
    "start_time": "2022-03-10T16:09:01.561Z"
   },
   {
    "duration": 33,
    "start_time": "2022-03-10T16:09:01.574Z"
   },
   {
    "duration": 15,
    "start_time": "2022-03-10T16:09:01.609Z"
   },
   {
    "duration": 9,
    "start_time": "2022-03-10T16:09:01.626Z"
   },
   {
    "duration": 72,
    "start_time": "2022-03-10T16:10:27.689Z"
   },
   {
    "duration": 70,
    "start_time": "2022-03-10T16:10:39.659Z"
   },
   {
    "duration": 71,
    "start_time": "2022-03-10T16:10:51.063Z"
   },
   {
    "duration": 71,
    "start_time": "2022-03-10T16:10:58.050Z"
   },
   {
    "duration": 75,
    "start_time": "2022-03-10T16:11:03.275Z"
   },
   {
    "duration": 80,
    "start_time": "2022-03-10T16:11:12.093Z"
   },
   {
    "duration": 71,
    "start_time": "2022-03-10T16:11:17.053Z"
   },
   {
    "duration": 71,
    "start_time": "2022-03-10T16:11:22.585Z"
   },
   {
    "duration": 72,
    "start_time": "2022-03-10T16:11:27.935Z"
   },
   {
    "duration": 296,
    "start_time": "2022-03-10T16:15:59.845Z"
   },
   {
    "duration": 74,
    "start_time": "2022-03-10T16:17:24.650Z"
   },
   {
    "duration": 71,
    "start_time": "2022-03-10T16:17:35.987Z"
   },
   {
    "duration": 321,
    "start_time": "2022-03-10T16:17:43.837Z"
   },
   {
    "duration": 301,
    "start_time": "2022-03-10T16:17:49.724Z"
   },
   {
    "duration": 72,
    "start_time": "2022-03-10T16:17:57.206Z"
   },
   {
    "duration": 3,
    "start_time": "2022-03-10T16:19:57.342Z"
   },
   {
    "duration": 96,
    "start_time": "2022-03-10T16:19:57.347Z"
   },
   {
    "duration": 4,
    "start_time": "2022-03-10T16:19:57.445Z"
   },
   {
    "duration": 19,
    "start_time": "2022-03-10T16:19:57.451Z"
   },
   {
    "duration": 21,
    "start_time": "2022-03-10T16:19:57.471Z"
   },
   {
    "duration": 8,
    "start_time": "2022-03-10T16:19:57.493Z"
   },
   {
    "duration": 16,
    "start_time": "2022-03-10T16:19:57.503Z"
   },
   {
    "duration": 10,
    "start_time": "2022-03-10T16:19:57.520Z"
   },
   {
    "duration": 33,
    "start_time": "2022-03-10T16:19:57.532Z"
   },
   {
    "duration": 22,
    "start_time": "2022-03-10T16:19:57.567Z"
   },
   {
    "duration": 21,
    "start_time": "2022-03-10T16:19:57.591Z"
   },
   {
    "duration": 15,
    "start_time": "2022-03-10T16:19:57.614Z"
   },
   {
    "duration": 17,
    "start_time": "2022-03-10T16:19:57.630Z"
   },
   {
    "duration": 27,
    "start_time": "2022-03-10T16:19:57.649Z"
   },
   {
    "duration": 26,
    "start_time": "2022-03-10T16:19:57.678Z"
   },
   {
    "duration": 15,
    "start_time": "2022-03-10T16:19:57.706Z"
   },
   {
    "duration": 25,
    "start_time": "2022-03-10T16:19:57.722Z"
   },
   {
    "duration": 16,
    "start_time": "2022-03-10T16:19:57.748Z"
   },
   {
    "duration": 113,
    "start_time": "2022-03-10T16:19:57.765Z"
   },
   {
    "duration": 49,
    "start_time": "2022-03-10T16:19:57.879Z"
   },
   {
    "duration": 118,
    "start_time": "2022-03-10T16:19:57.929Z"
   },
   {
    "duration": 27,
    "start_time": "2022-03-10T16:19:58.048Z"
   },
   {
    "duration": 359,
    "start_time": "2022-03-10T16:19:58.077Z"
   },
   {
    "duration": 247,
    "start_time": "2022-03-10T16:19:58.439Z"
   },
   {
    "duration": 366,
    "start_time": "2022-03-10T16:19:58.688Z"
   },
   {
    "duration": 262,
    "start_time": "2022-03-10T16:19:59.055Z"
   },
   {
    "duration": 360,
    "start_time": "2022-03-10T16:19:59.319Z"
   },
   {
    "duration": 102,
    "start_time": "2022-03-10T16:19:59.681Z"
   },
   {
    "duration": 337,
    "start_time": "2022-03-10T16:19:59.785Z"
   },
   {
    "duration": 4,
    "start_time": "2022-03-10T16:20:00.124Z"
   },
   {
    "duration": 391,
    "start_time": "2022-03-10T16:20:00.130Z"
   },
   {
    "duration": 348,
    "start_time": "2022-03-10T16:20:00.522Z"
   },
   {
    "duration": 4,
    "start_time": "2022-03-10T16:20:00.872Z"
   },
   {
    "duration": 133,
    "start_time": "2022-03-10T16:20:00.877Z"
   },
   {
    "duration": 5,
    "start_time": "2022-03-10T16:20:01.012Z"
   },
   {
    "duration": 30,
    "start_time": "2022-03-10T16:20:01.019Z"
   },
   {
    "duration": 18,
    "start_time": "2022-03-10T16:20:01.050Z"
   },
   {
    "duration": 18,
    "start_time": "2022-03-10T16:20:01.069Z"
   },
   {
    "duration": 80,
    "start_time": "2022-03-10T16:20:01.088Z"
   },
   {
    "duration": 9,
    "start_time": "2022-03-10T16:20:01.169Z"
   },
   {
    "duration": 13,
    "start_time": "2022-03-10T16:20:01.179Z"
   },
   {
    "duration": 13,
    "start_time": "2022-03-10T16:20:01.193Z"
   },
   {
    "duration": 9,
    "start_time": "2022-03-10T16:20:01.208Z"
   },
   {
    "duration": 12,
    "start_time": "2022-03-10T16:20:01.219Z"
   },
   {
    "duration": 12,
    "start_time": "2022-03-10T16:20:01.233Z"
   },
   {
    "duration": 16,
    "start_time": "2022-03-10T16:20:01.247Z"
   },
   {
    "duration": 23,
    "start_time": "2022-03-10T16:20:01.265Z"
   },
   {
    "duration": 70,
    "start_time": "2022-03-10T16:26:54.841Z"
   },
   {
    "duration": 7,
    "start_time": "2022-03-10T16:27:01.232Z"
   },
   {
    "duration": 3,
    "start_time": "2022-03-10T16:27:07.657Z"
   },
   {
    "duration": 78,
    "start_time": "2022-03-10T16:27:07.662Z"
   },
   {
    "duration": 3,
    "start_time": "2022-03-10T16:27:07.742Z"
   },
   {
    "duration": 7,
    "start_time": "2022-03-10T16:27:07.747Z"
   },
   {
    "duration": 9,
    "start_time": "2022-03-10T16:27:07.756Z"
   },
   {
    "duration": 5,
    "start_time": "2022-03-10T16:27:07.766Z"
   },
   {
    "duration": 9,
    "start_time": "2022-03-10T16:27:07.773Z"
   },
   {
    "duration": 9,
    "start_time": "2022-03-10T16:27:07.784Z"
   },
   {
    "duration": 14,
    "start_time": "2022-03-10T16:27:07.805Z"
   },
   {
    "duration": 7,
    "start_time": "2022-03-10T16:27:07.821Z"
   },
   {
    "duration": 11,
    "start_time": "2022-03-10T16:27:07.830Z"
   },
   {
    "duration": 13,
    "start_time": "2022-03-10T16:27:07.842Z"
   },
   {
    "duration": 11,
    "start_time": "2022-03-10T16:27:07.856Z"
   },
   {
    "duration": 44,
    "start_time": "2022-03-10T16:27:07.868Z"
   },
   {
    "duration": 16,
    "start_time": "2022-03-10T16:27:07.913Z"
   },
   {
    "duration": 5,
    "start_time": "2022-03-10T16:27:07.930Z"
   },
   {
    "duration": 15,
    "start_time": "2022-03-10T16:27:07.936Z"
   },
   {
    "duration": 4,
    "start_time": "2022-03-10T16:27:07.953Z"
   },
   {
    "duration": 131,
    "start_time": "2022-03-10T16:27:07.961Z"
   },
   {
    "duration": 30,
    "start_time": "2022-03-10T16:27:08.106Z"
   },
   {
    "duration": 133,
    "start_time": "2022-03-10T16:27:08.137Z"
   },
   {
    "duration": 38,
    "start_time": "2022-03-10T16:27:08.271Z"
   },
   {
    "duration": 255,
    "start_time": "2022-03-10T16:27:08.311Z"
   },
   {
    "duration": 264,
    "start_time": "2022-03-10T16:27:08.568Z"
   },
   {
    "duration": 317,
    "start_time": "2022-03-10T16:27:08.834Z"
   },
   {
    "duration": 242,
    "start_time": "2022-03-10T16:27:09.153Z"
   },
   {
    "duration": 342,
    "start_time": "2022-03-10T16:27:09.396Z"
   },
   {
    "duration": 121,
    "start_time": "2022-03-10T16:27:09.740Z"
   },
   {
    "duration": 294,
    "start_time": "2022-03-10T16:27:09.862Z"
   },
   {
    "duration": 3,
    "start_time": "2022-03-10T16:27:10.157Z"
   },
   {
    "duration": 332,
    "start_time": "2022-03-10T16:27:10.162Z"
   },
   {
    "duration": 354,
    "start_time": "2022-03-10T16:27:10.495Z"
   },
   {
    "duration": 4,
    "start_time": "2022-03-10T16:27:10.850Z"
   },
   {
    "duration": 114,
    "start_time": "2022-03-10T16:27:10.855Z"
   },
   {
    "duration": 5,
    "start_time": "2022-03-10T16:27:10.970Z"
   },
   {
    "duration": 5,
    "start_time": "2022-03-10T16:27:10.976Z"
   },
   {
    "duration": 22,
    "start_time": "2022-03-10T16:27:10.983Z"
   },
   {
    "duration": 4,
    "start_time": "2022-03-10T16:27:11.007Z"
   },
   {
    "duration": 17,
    "start_time": "2022-03-10T16:27:11.013Z"
   },
   {
    "duration": 7,
    "start_time": "2022-03-10T16:27:11.032Z"
   },
   {
    "duration": 8,
    "start_time": "2022-03-10T16:27:11.041Z"
   },
   {
    "duration": 8,
    "start_time": "2022-03-10T16:27:11.051Z"
   },
   {
    "duration": 7,
    "start_time": "2022-03-10T16:27:11.060Z"
   },
   {
    "duration": 43,
    "start_time": "2022-03-10T16:27:11.068Z"
   },
   {
    "duration": 4,
    "start_time": "2022-03-10T16:27:11.112Z"
   },
   {
    "duration": 13,
    "start_time": "2022-03-10T16:27:11.118Z"
   },
   {
    "duration": 8,
    "start_time": "2022-03-10T16:27:11.132Z"
   },
   {
    "duration": 10,
    "start_time": "2022-03-10T16:28:21.782Z"
   },
   {
    "duration": 72,
    "start_time": "2022-03-10T16:28:36.974Z"
   },
   {
    "duration": 8,
    "start_time": "2022-03-10T16:28:42.671Z"
   },
   {
    "duration": 7945,
    "start_time": "2022-03-10T16:28:47.462Z"
   },
   {
    "duration": 2,
    "start_time": "2022-03-10T16:29:08.739Z"
   },
   {
    "duration": 72,
    "start_time": "2022-03-10T16:29:08.744Z"
   },
   {
    "duration": 4,
    "start_time": "2022-03-10T16:29:08.817Z"
   },
   {
    "duration": 11,
    "start_time": "2022-03-10T16:29:08.823Z"
   },
   {
    "duration": 10,
    "start_time": "2022-03-10T16:29:08.835Z"
   },
   {
    "duration": 6,
    "start_time": "2022-03-10T16:29:08.847Z"
   },
   {
    "duration": 8,
    "start_time": "2022-03-10T16:29:08.854Z"
   },
   {
    "duration": 10,
    "start_time": "2022-03-10T16:29:08.863Z"
   },
   {
    "duration": 39,
    "start_time": "2022-03-10T16:29:08.875Z"
   },
   {
    "duration": 13,
    "start_time": "2022-03-10T16:29:08.916Z"
   },
   {
    "duration": 8,
    "start_time": "2022-03-10T16:29:08.931Z"
   },
   {
    "duration": 9,
    "start_time": "2022-03-10T16:29:08.940Z"
   },
   {
    "duration": 9,
    "start_time": "2022-03-10T16:29:08.951Z"
   },
   {
    "duration": 11,
    "start_time": "2022-03-10T16:29:08.961Z"
   },
   {
    "duration": 13,
    "start_time": "2022-03-10T16:29:09.005Z"
   },
   {
    "duration": 8,
    "start_time": "2022-03-10T16:29:09.020Z"
   },
   {
    "duration": 15,
    "start_time": "2022-03-10T16:29:09.031Z"
   },
   {
    "duration": 4,
    "start_time": "2022-03-10T16:29:09.047Z"
   },
   {
    "duration": 137,
    "start_time": "2022-03-10T16:29:09.052Z"
   },
   {
    "duration": 45,
    "start_time": "2022-03-10T16:29:09.190Z"
   },
   {
    "duration": 137,
    "start_time": "2022-03-10T16:29:09.237Z"
   },
   {
    "duration": 44,
    "start_time": "2022-03-10T16:29:09.376Z"
   },
   {
    "duration": 260,
    "start_time": "2022-03-10T16:29:09.422Z"
   },
   {
    "duration": 270,
    "start_time": "2022-03-10T16:29:09.684Z"
   },
   {
    "duration": 347,
    "start_time": "2022-03-10T16:29:09.955Z"
   },
   {
    "duration": 357,
    "start_time": "2022-03-10T16:29:10.303Z"
   },
   {
    "duration": 403,
    "start_time": "2022-03-10T16:29:10.662Z"
   },
   {
    "duration": 156,
    "start_time": "2022-03-10T16:29:11.067Z"
   },
   {
    "duration": 338,
    "start_time": "2022-03-10T16:29:11.225Z"
   },
   {
    "duration": 3,
    "start_time": "2022-03-10T16:29:11.565Z"
   },
   {
    "duration": 358,
    "start_time": "2022-03-10T16:29:11.569Z"
   },
   {
    "duration": 333,
    "start_time": "2022-03-10T16:29:11.929Z"
   },
   {
    "duration": 3,
    "start_time": "2022-03-10T16:29:12.263Z"
   },
   {
    "duration": 117,
    "start_time": "2022-03-10T16:29:12.268Z"
   },
   {
    "duration": 5,
    "start_time": "2022-03-10T16:29:12.386Z"
   },
   {
    "duration": 4,
    "start_time": "2022-03-10T16:29:12.405Z"
   },
   {
    "duration": 13,
    "start_time": "2022-03-10T16:29:12.411Z"
   },
   {
    "duration": 3,
    "start_time": "2022-03-10T16:29:12.425Z"
   },
   {
    "duration": 13,
    "start_time": "2022-03-10T16:29:12.430Z"
   },
   {
    "duration": 5,
    "start_time": "2022-03-10T16:29:12.445Z"
   },
   {
    "duration": 11,
    "start_time": "2022-03-10T16:29:12.451Z"
   },
   {
    "duration": 11,
    "start_time": "2022-03-10T16:29:12.463Z"
   },
   {
    "duration": 34,
    "start_time": "2022-03-10T16:29:12.475Z"
   },
   {
    "duration": 11,
    "start_time": "2022-03-10T16:29:12.511Z"
   },
   {
    "duration": 3,
    "start_time": "2022-03-10T16:29:12.524Z"
   },
   {
    "duration": 16,
    "start_time": "2022-03-10T16:29:12.529Z"
   },
   {
    "duration": 6,
    "start_time": "2022-03-10T16:29:12.546Z"
   },
   {
    "duration": 73,
    "start_time": "2022-03-10T16:30:01.933Z"
   },
   {
    "duration": 3,
    "start_time": "2022-03-10T16:30:08.500Z"
   },
   {
    "duration": 83,
    "start_time": "2022-03-10T16:30:08.507Z"
   },
   {
    "duration": 3,
    "start_time": "2022-03-10T16:30:08.592Z"
   },
   {
    "duration": 46,
    "start_time": "2022-03-10T16:30:08.597Z"
   },
   {
    "duration": 30,
    "start_time": "2022-03-10T16:30:08.645Z"
   },
   {
    "duration": 27,
    "start_time": "2022-03-10T16:30:08.676Z"
   },
   {
    "duration": 38,
    "start_time": "2022-03-10T16:30:08.705Z"
   },
   {
    "duration": 11,
    "start_time": "2022-03-10T16:30:08.745Z"
   },
   {
    "duration": 53,
    "start_time": "2022-03-10T16:30:08.758Z"
   },
   {
    "duration": 41,
    "start_time": "2022-03-10T16:30:08.814Z"
   },
   {
    "duration": 34,
    "start_time": "2022-03-10T16:30:08.856Z"
   },
   {
    "duration": 21,
    "start_time": "2022-03-10T16:30:08.892Z"
   },
   {
    "duration": 41,
    "start_time": "2022-03-10T16:30:08.915Z"
   },
   {
    "duration": 31,
    "start_time": "2022-03-10T16:30:08.958Z"
   },
   {
    "duration": 27,
    "start_time": "2022-03-10T16:30:08.990Z"
   },
   {
    "duration": 29,
    "start_time": "2022-03-10T16:30:09.019Z"
   },
   {
    "duration": 35,
    "start_time": "2022-03-10T16:30:09.049Z"
   },
   {
    "duration": 21,
    "start_time": "2022-03-10T16:30:09.085Z"
   },
   {
    "duration": 122,
    "start_time": "2022-03-10T16:30:09.107Z"
   },
   {
    "duration": 51,
    "start_time": "2022-03-10T16:30:09.230Z"
   },
   {
    "duration": 134,
    "start_time": "2022-03-10T16:30:09.283Z"
   },
   {
    "duration": 31,
    "start_time": "2022-03-10T16:30:09.418Z"
   },
   {
    "duration": 255,
    "start_time": "2022-03-10T16:30:09.451Z"
   },
   {
    "duration": 270,
    "start_time": "2022-03-10T16:30:09.710Z"
   },
   {
    "duration": 394,
    "start_time": "2022-03-10T16:30:09.982Z"
   },
   {
    "duration": 322,
    "start_time": "2022-03-10T16:30:10.378Z"
   },
   {
    "duration": 386,
    "start_time": "2022-03-10T16:30:10.702Z"
   },
   {
    "duration": 143,
    "start_time": "2022-03-10T16:30:11.089Z"
   },
   {
    "duration": 424,
    "start_time": "2022-03-10T16:30:11.234Z"
   },
   {
    "duration": 4,
    "start_time": "2022-03-10T16:30:11.660Z"
   },
   {
    "duration": 422,
    "start_time": "2022-03-10T16:30:11.666Z"
   },
   {
    "duration": 401,
    "start_time": "2022-03-10T16:30:12.089Z"
   },
   {
    "duration": 3,
    "start_time": "2022-03-10T16:30:12.491Z"
   },
   {
    "duration": 147,
    "start_time": "2022-03-10T16:30:12.496Z"
   },
   {
    "duration": 6,
    "start_time": "2022-03-10T16:30:12.645Z"
   },
   {
    "duration": 11,
    "start_time": "2022-03-10T16:30:12.652Z"
   },
   {
    "duration": 34,
    "start_time": "2022-03-10T16:30:12.664Z"
   },
   {
    "duration": 33,
    "start_time": "2022-03-10T16:30:12.699Z"
   },
   {
    "duration": 14,
    "start_time": "2022-03-10T16:30:12.734Z"
   },
   {
    "duration": 8,
    "start_time": "2022-03-10T16:30:12.749Z"
   },
   {
    "duration": 10,
    "start_time": "2022-03-10T16:30:12.758Z"
   },
   {
    "duration": 9,
    "start_time": "2022-03-10T16:30:12.769Z"
   },
   {
    "duration": 6,
    "start_time": "2022-03-10T16:30:12.780Z"
   },
   {
    "duration": 9,
    "start_time": "2022-03-10T16:30:12.787Z"
   },
   {
    "duration": 15,
    "start_time": "2022-03-10T16:30:12.797Z"
   },
   {
    "duration": 35,
    "start_time": "2022-03-10T16:30:12.814Z"
   },
   {
    "duration": 7,
    "start_time": "2022-03-10T16:30:12.851Z"
   },
   {
    "duration": 40,
    "start_time": "2022-03-10T16:55:16.319Z"
   },
   {
    "duration": 60,
    "start_time": "2022-03-10T16:56:08.102Z"
   },
   {
    "duration": 303,
    "start_time": "2022-03-10T16:56:40.935Z"
   },
   {
    "duration": 45,
    "start_time": "2022-03-10T16:56:54.936Z"
   },
   {
    "duration": 9,
    "start_time": "2022-03-10T16:58:40.536Z"
   },
   {
    "duration": 9,
    "start_time": "2022-03-10T16:59:44.400Z"
   },
   {
    "duration": 43,
    "start_time": "2022-03-10T17:00:41.814Z"
   },
   {
    "duration": 11,
    "start_time": "2022-03-10T17:00:53.548Z"
   },
   {
    "duration": 9,
    "start_time": "2022-03-10T17:01:14.838Z"
   },
   {
    "duration": 7686,
    "start_time": "2022-03-10T17:01:58.653Z"
   },
   {
    "duration": 11,
    "start_time": "2022-03-10T17:02:18.855Z"
   },
   {
    "duration": 7567,
    "start_time": "2022-03-10T17:03:03.139Z"
   },
   {
    "duration": 340,
    "start_time": "2022-03-10T17:03:22.824Z"
   },
   {
    "duration": 299,
    "start_time": "2022-03-10T17:04:03.346Z"
   },
   {
    "duration": 4,
    "start_time": "2022-03-10T17:04:18.962Z"
   },
   {
    "duration": 58,
    "start_time": "2022-03-10T17:05:12.958Z"
   },
   {
    "duration": 309,
    "start_time": "2022-03-10T17:06:47.597Z"
   },
   {
    "duration": 99,
    "start_time": "2022-03-10T17:06:58.179Z"
   },
   {
    "duration": 317,
    "start_time": "2022-03-10T17:07:06.396Z"
   },
   {
    "duration": 8,
    "start_time": "2022-03-10T17:13:32.048Z"
   },
   {
    "duration": 8,
    "start_time": "2022-03-10T17:13:39.588Z"
   },
   {
    "duration": 100,
    "start_time": "2022-03-10T17:13:52.913Z"
   },
   {
    "duration": 51,
    "start_time": "2022-03-10T17:14:26.988Z"
   },
   {
    "duration": 6,
    "start_time": "2022-03-10T17:14:55.677Z"
   },
   {
    "duration": 94,
    "start_time": "2022-03-10T17:16:23.229Z"
   },
   {
    "duration": 299,
    "start_time": "2022-03-10T17:17:20.652Z"
   },
   {
    "duration": 322,
    "start_time": "2022-03-10T17:17:28.085Z"
   },
   {
    "duration": 97,
    "start_time": "2022-03-10T17:17:34.665Z"
   },
   {
    "duration": 101,
    "start_time": "2022-03-10T17:21:23.350Z"
   },
   {
    "duration": 100,
    "start_time": "2022-03-10T17:21:42.798Z"
   },
   {
    "duration": 8,
    "start_time": "2022-03-10T17:21:51.183Z"
   },
   {
    "duration": 111,
    "start_time": "2022-03-10T17:22:05.111Z"
   },
   {
    "duration": 9,
    "start_time": "2022-03-10T17:22:10.008Z"
   },
   {
    "duration": 9,
    "start_time": "2022-03-10T17:22:16.062Z"
   },
   {
    "duration": 302,
    "start_time": "2022-03-10T17:24:51.612Z"
   },
   {
    "duration": 297,
    "start_time": "2022-03-10T17:26:27.369Z"
   },
   {
    "duration": 312,
    "start_time": "2022-03-10T17:28:34.891Z"
   },
   {
    "duration": 327,
    "start_time": "2022-03-10T17:29:16.891Z"
   },
   {
    "duration": 14,
    "start_time": "2022-03-10T17:29:46.204Z"
   },
   {
    "duration": 18,
    "start_time": "2022-03-10T17:29:56.008Z"
   },
   {
    "duration": 14,
    "start_time": "2022-03-10T17:30:00.508Z"
   },
   {
    "duration": 19,
    "start_time": "2022-03-10T17:31:37.973Z"
   },
   {
    "duration": 15,
    "start_time": "2022-03-10T17:32:17.917Z"
   },
   {
    "duration": 37,
    "start_time": "2022-03-10T17:32:51.605Z"
   },
   {
    "duration": 54,
    "start_time": "2022-03-10T17:33:12.257Z"
   },
   {
    "duration": 28,
    "start_time": "2022-03-10T17:33:38.972Z"
   },
   {
    "duration": 15,
    "start_time": "2022-03-10T17:33:45.199Z"
   },
   {
    "duration": 311,
    "start_time": "2022-03-10T17:34:02.660Z"
   },
   {
    "duration": 320,
    "start_time": "2022-03-10T17:34:16.104Z"
   },
   {
    "duration": 316,
    "start_time": "2022-03-10T17:34:31.108Z"
   },
   {
    "duration": 334,
    "start_time": "2022-03-10T17:34:34.673Z"
   },
   {
    "duration": 13,
    "start_time": "2022-03-10T17:34:39.558Z"
   },
   {
    "duration": 369,
    "start_time": "2022-03-10T17:36:40.901Z"
   },
   {
    "duration": 424,
    "start_time": "2022-03-10T17:36:46.886Z"
   },
   {
    "duration": 13,
    "start_time": "2022-03-10T17:36:52.038Z"
   },
   {
    "duration": 9,
    "start_time": "2022-03-10T17:37:10.877Z"
   },
   {
    "duration": 9,
    "start_time": "2022-03-10T17:37:31.672Z"
   },
   {
    "duration": 310,
    "start_time": "2022-03-10T17:38:45.396Z"
   },
   {
    "duration": 6,
    "start_time": "2022-03-10T17:42:42.845Z"
   },
   {
    "duration": 8,
    "start_time": "2022-03-10T17:43:42.605Z"
   },
   {
    "duration": 8,
    "start_time": "2022-03-10T17:44:32.038Z"
   },
   {
    "duration": 751,
    "start_time": "2022-03-10T17:46:13.784Z"
   },
   {
    "duration": 794,
    "start_time": "2022-03-10T17:46:34.754Z"
   },
   {
    "duration": 7542,
    "start_time": "2022-03-10T17:46:59.293Z"
   },
   {
    "duration": 11,
    "start_time": "2022-03-10T17:47:27.180Z"
   },
   {
    "duration": 298,
    "start_time": "2022-03-10T17:47:37.428Z"
   },
   {
    "duration": 19,
    "start_time": "2022-03-10T17:47:45.830Z"
   },
   {
    "duration": 334,
    "start_time": "2022-03-10T17:48:02.254Z"
   },
   {
    "duration": 314,
    "start_time": "2022-03-10T17:48:29.246Z"
   },
   {
    "duration": 154,
    "start_time": "2022-03-10T17:48:52.171Z"
   },
   {
    "duration": 1335,
    "start_time": "2022-03-10T17:48:57.614Z"
   },
   {
    "duration": 12,
    "start_time": "2022-03-10T17:49:06.151Z"
   },
   {
    "duration": 410,
    "start_time": "2022-03-10T17:49:12.914Z"
   },
   {
    "duration": 11,
    "start_time": "2022-03-10T17:49:15.983Z"
   },
   {
    "duration": 10,
    "start_time": "2022-03-10T17:49:35.914Z"
   },
   {
    "duration": 349,
    "start_time": "2022-03-10T17:50:08.164Z"
   },
   {
    "duration": 307,
    "start_time": "2022-03-10T17:50:24.260Z"
   },
   {
    "duration": 3,
    "start_time": "2022-03-10T17:50:28.653Z"
   },
   {
    "duration": 14,
    "start_time": "2022-03-10T17:51:25.215Z"
   },
   {
    "duration": 13,
    "start_time": "2022-03-10T17:51:37.975Z"
   },
   {
    "duration": 13,
    "start_time": "2022-03-10T17:51:42.383Z"
   },
   {
    "duration": 13,
    "start_time": "2022-03-10T17:51:47.224Z"
   },
   {
    "duration": 13,
    "start_time": "2022-03-10T17:52:00.936Z"
   },
   {
    "duration": 50,
    "start_time": "2022-03-10T17:55:12.108Z"
   },
   {
    "duration": 121,
    "start_time": "2022-03-10T17:55:40.248Z"
   },
   {
    "duration": 60,
    "start_time": "2022-03-10T17:55:52.302Z"
   },
   {
    "duration": 164,
    "start_time": "2022-03-10T17:56:34.638Z"
   },
   {
    "duration": 5,
    "start_time": "2022-03-10T17:56:50.002Z"
   },
   {
    "duration": 162,
    "start_time": "2022-03-10T17:56:59.334Z"
   },
   {
    "duration": 387,
    "start_time": "2022-03-10T17:57:33.443Z"
   },
   {
    "duration": 62,
    "start_time": "2022-03-10T17:57:39.928Z"
   },
   {
    "duration": 59,
    "start_time": "2022-03-10T17:58:45.265Z"
   },
   {
    "duration": 1395,
    "start_time": "2022-03-10T18:00:25.069Z"
   },
   {
    "duration": 305,
    "start_time": "2022-03-10T18:00:37.426Z"
   },
   {
    "duration": 335,
    "start_time": "2022-03-10T18:00:58.645Z"
   },
   {
    "duration": 13,
    "start_time": "2022-03-10T18:01:16.739Z"
   },
   {
    "duration": 315,
    "start_time": "2022-03-10T18:01:17.268Z"
   },
   {
    "duration": 1214,
    "start_time": "2022-03-10T18:01:37.747Z"
   },
   {
    "duration": 300,
    "start_time": "2022-03-10T18:02:09.951Z"
   },
   {
    "duration": 61,
    "start_time": "2022-03-10T18:02:27.470Z"
   },
   {
    "duration": 313,
    "start_time": "2022-03-10T18:05:28.492Z"
   },
   {
    "duration": 320,
    "start_time": "2022-03-10T18:05:37.105Z"
   },
   {
    "duration": 359,
    "start_time": "2022-03-10T18:05:48.960Z"
   },
   {
    "duration": 313,
    "start_time": "2022-03-10T18:05:58.905Z"
   },
   {
    "duration": 319,
    "start_time": "2022-03-10T18:06:25.043Z"
   },
   {
    "duration": 317,
    "start_time": "2022-03-10T18:06:29.833Z"
   },
   {
    "duration": 303,
    "start_time": "2022-03-10T18:06:43.333Z"
   },
   {
    "duration": 359,
    "start_time": "2022-03-10T18:06:50.234Z"
   },
   {
    "duration": 324,
    "start_time": "2022-03-10T18:07:23.497Z"
   },
   {
    "duration": 10,
    "start_time": "2022-03-10T18:07:35.109Z"
   },
   {
    "duration": 188,
    "start_time": "2022-03-10T18:07:42.621Z"
   },
   {
    "duration": 407,
    "start_time": "2022-03-10T18:07:58.380Z"
   },
   {
    "duration": 12,
    "start_time": "2022-03-10T18:08:14.409Z"
   },
   {
    "duration": 13,
    "start_time": "2022-03-10T18:09:05.631Z"
   },
   {
    "duration": 228,
    "start_time": "2022-03-10T18:09:20.422Z"
   },
   {
    "duration": 286,
    "start_time": "2022-03-10T18:10:32.345Z"
   },
   {
    "duration": 14,
    "start_time": "2022-03-10T18:11:01.533Z"
   },
   {
    "duration": 9,
    "start_time": "2022-03-10T18:11:13.704Z"
   },
   {
    "duration": 18,
    "start_time": "2022-03-10T18:11:20.630Z"
   },
   {
    "duration": 229,
    "start_time": "2022-03-10T18:11:49.677Z"
   },
   {
    "duration": 395,
    "start_time": "2022-03-10T18:12:07.410Z"
   },
   {
    "duration": 389,
    "start_time": "2022-03-10T18:13:52.784Z"
   },
   {
    "duration": 1300,
    "start_time": "2022-03-10T18:23:47.129Z"
   },
   {
    "duration": 494,
    "start_time": "2022-03-10T18:24:14.850Z"
   },
   {
    "duration": 469,
    "start_time": "2022-03-10T18:24:50.963Z"
   },
   {
    "duration": 96,
    "start_time": "2022-03-10T18:25:42.792Z"
   },
   {
    "duration": 1314,
    "start_time": "2022-03-10T18:26:01.673Z"
   },
   {
    "duration": 1310,
    "start_time": "2022-03-10T18:26:15.676Z"
   },
   {
    "duration": 1374,
    "start_time": "2022-03-10T18:27:00.316Z"
   },
   {
    "duration": 260,
    "start_time": "2022-03-10T18:27:34.051Z"
   },
   {
    "duration": 611,
    "start_time": "2022-03-10T18:28:16.615Z"
   },
   {
    "duration": 14,
    "start_time": "2022-03-10T18:29:00.146Z"
   },
   {
    "duration": 296,
    "start_time": "2022-03-10T18:29:27.565Z"
   },
   {
    "duration": 312,
    "start_time": "2022-03-10T18:29:32.500Z"
   },
   {
    "duration": 350,
    "start_time": "2022-03-10T18:29:44.882Z"
   },
   {
    "duration": 368,
    "start_time": "2022-03-10T18:29:53.867Z"
   },
   {
    "duration": 14,
    "start_time": "2022-03-10T18:30:14.494Z"
   },
   {
    "duration": 347,
    "start_time": "2022-03-10T18:30:27.070Z"
   },
   {
    "duration": 1344,
    "start_time": "2022-03-10T18:31:27.714Z"
   },
   {
    "duration": 1342,
    "start_time": "2022-03-10T18:31:32.058Z"
   },
   {
    "duration": 1374,
    "start_time": "2022-03-10T18:32:37.956Z"
   },
   {
    "duration": 1935,
    "start_time": "2022-03-10T18:32:52.228Z"
   },
   {
    "duration": 482,
    "start_time": "2022-03-10T18:33:16.171Z"
   },
   {
    "duration": 444,
    "start_time": "2022-03-10T18:33:27.826Z"
   },
   {
    "duration": 441,
    "start_time": "2022-03-10T18:33:38.766Z"
   },
   {
    "duration": 346,
    "start_time": "2022-03-10T18:36:23.722Z"
   },
   {
    "duration": 462,
    "start_time": "2022-03-10T18:37:09.914Z"
   },
   {
    "duration": 452,
    "start_time": "2022-03-10T18:37:19.421Z"
   },
   {
    "duration": 167,
    "start_time": "2022-03-10T18:37:23.351Z"
   },
   {
    "duration": 567,
    "start_time": "2022-03-10T18:37:32.804Z"
   },
   {
    "duration": 177,
    "start_time": "2022-03-10T18:37:41.791Z"
   },
   {
    "duration": 176,
    "start_time": "2022-03-10T18:37:52.845Z"
   },
   {
    "duration": 180,
    "start_time": "2022-03-10T18:38:09.642Z"
   },
   {
    "duration": 149,
    "start_time": "2022-03-10T18:38:34.293Z"
   },
   {
    "duration": 340,
    "start_time": "2022-03-10T18:38:39.376Z"
   },
   {
    "duration": 448,
    "start_time": "2022-03-10T18:38:56.511Z"
   },
   {
    "duration": 190,
    "start_time": "2022-03-10T18:39:05.177Z"
   },
   {
    "duration": 114,
    "start_time": "2022-03-10T18:39:50.655Z"
   },
   {
    "duration": 168,
    "start_time": "2022-03-10T18:40:20.226Z"
   },
   {
    "duration": 350,
    "start_time": "2022-03-10T18:40:29.831Z"
   },
   {
    "duration": 458,
    "start_time": "2022-03-10T18:41:17.927Z"
   },
   {
    "duration": 1358,
    "start_time": "2022-03-10T18:41:27.728Z"
   },
   {
    "duration": 1320,
    "start_time": "2022-03-10T18:42:01.909Z"
   },
   {
    "duration": 247,
    "start_time": "2022-03-10T18:42:09.193Z"
   },
   {
    "duration": 1430,
    "start_time": "2022-03-10T18:42:19.839Z"
   },
   {
    "duration": 1336,
    "start_time": "2022-03-10T18:43:02.056Z"
   },
   {
    "duration": 295,
    "start_time": "2022-03-10T18:43:23.372Z"
   },
   {
    "duration": 7,
    "start_time": "2022-03-10T18:43:32.130Z"
   },
   {
    "duration": 59,
    "start_time": "2022-03-10T18:43:38.816Z"
   },
   {
    "duration": 292,
    "start_time": "2022-03-10T18:44:15.566Z"
   },
   {
    "duration": 10,
    "start_time": "2022-03-10T18:44:35.619Z"
   },
   {
    "duration": 60,
    "start_time": "2022-03-10T18:44:46.011Z"
   },
   {
    "duration": 90,
    "start_time": "2022-03-10T18:45:59.639Z"
   },
   {
    "duration": 67,
    "start_time": "2022-03-10T18:46:05.099Z"
   },
   {
    "duration": 11,
    "start_time": "2022-03-10T18:46:26.268Z"
   },
   {
    "duration": 91,
    "start_time": "2022-03-10T18:47:03.398Z"
   },
   {
    "duration": 305,
    "start_time": "2022-03-10T18:47:06.967Z"
   },
   {
    "duration": 292,
    "start_time": "2022-03-10T18:47:12.839Z"
   },
   {
    "duration": 10,
    "start_time": "2022-03-10T18:47:18.929Z"
   },
   {
    "duration": 151,
    "start_time": "2022-03-10T18:47:54.841Z"
   },
   {
    "duration": 509,
    "start_time": "2022-03-10T18:48:15.178Z"
   },
   {
    "duration": 158,
    "start_time": "2022-03-10T18:48:25.742Z"
   },
   {
    "duration": 152,
    "start_time": "2022-03-10T18:48:34.430Z"
   },
   {
    "duration": 164,
    "start_time": "2022-03-10T18:48:55.277Z"
   },
   {
    "duration": 227,
    "start_time": "2022-03-10T18:49:58.470Z"
   },
   {
    "duration": 8,
    "start_time": "2022-03-10T18:50:05.470Z"
   },
   {
    "duration": 18,
    "start_time": "2022-03-10T18:50:12.444Z"
   },
   {
    "duration": 60,
    "start_time": "2022-03-10T18:50:42.459Z"
   },
   {
    "duration": 302,
    "start_time": "2022-03-10T18:51:12.980Z"
   },
   {
    "duration": 61,
    "start_time": "2022-03-10T18:51:35.288Z"
   },
   {
    "duration": 105,
    "start_time": "2022-03-10T18:51:47.960Z"
   },
   {
    "duration": 304,
    "start_time": "2022-03-10T18:52:11.974Z"
   },
   {
    "duration": 301,
    "start_time": "2022-03-10T18:52:14.751Z"
   },
   {
    "duration": 60,
    "start_time": "2022-03-10T18:52:24.942Z"
   },
   {
    "duration": 306,
    "start_time": "2022-03-10T18:53:21.206Z"
   },
   {
    "duration": 122,
    "start_time": "2022-03-10T18:59:29.461Z"
   },
   {
    "duration": 68,
    "start_time": "2022-03-10T18:59:37.388Z"
   },
   {
    "duration": 361,
    "start_time": "2022-03-10T19:00:19.991Z"
   },
   {
    "duration": 67,
    "start_time": "2022-03-10T19:00:38.959Z"
   },
   {
    "duration": 301,
    "start_time": "2022-03-10T19:00:56.560Z"
   },
   {
    "duration": 69,
    "start_time": "2022-03-10T19:01:19.558Z"
   },
   {
    "duration": 66,
    "start_time": "2022-03-10T19:02:09.473Z"
   },
   {
    "duration": 9,
    "start_time": "2022-03-10T19:04:12.938Z"
   },
   {
    "duration": 13,
    "start_time": "2022-03-10T19:04:32.011Z"
   },
   {
    "duration": 10,
    "start_time": "2022-03-10T19:04:37.490Z"
   },
   {
    "duration": 48,
    "start_time": "2022-03-10T19:05:39.772Z"
   },
   {
    "duration": 48,
    "start_time": "2022-03-10T19:05:59.084Z"
   },
   {
    "duration": 11,
    "start_time": "2022-03-10T19:06:22.341Z"
   },
   {
    "duration": 14,
    "start_time": "2022-03-10T19:06:25.428Z"
   },
   {
    "duration": 13,
    "start_time": "2022-03-10T19:06:53.868Z"
   },
   {
    "duration": 315,
    "start_time": "2022-03-10T19:07:04.874Z"
   },
   {
    "duration": 392,
    "start_time": "2022-03-10T19:07:08.034Z"
   },
   {
    "duration": 12,
    "start_time": "2022-03-10T19:07:20.091Z"
   },
   {
    "duration": 13,
    "start_time": "2022-03-10T19:07:38.900Z"
   },
   {
    "duration": 11,
    "start_time": "2022-03-10T19:08:03.949Z"
   },
   {
    "duration": 13,
    "start_time": "2022-03-10T19:08:16.366Z"
   },
   {
    "duration": 101,
    "start_time": "2022-03-10T19:09:01.880Z"
   },
   {
    "duration": 1336,
    "start_time": "2022-03-10T19:09:06.823Z"
   },
   {
    "duration": 312,
    "start_time": "2022-03-10T19:09:20.348Z"
   },
   {
    "duration": 13,
    "start_time": "2022-03-10T19:09:30.176Z"
   },
   {
    "duration": 300,
    "start_time": "2022-03-10T19:09:34.473Z"
   },
   {
    "duration": 304,
    "start_time": "2022-03-10T19:09:43.457Z"
   },
   {
    "duration": 303,
    "start_time": "2022-03-10T19:10:17.818Z"
   },
   {
    "duration": 411,
    "start_time": "2022-03-10T19:10:27.025Z"
   },
   {
    "duration": 14,
    "start_time": "2022-03-10T19:10:34.501Z"
   },
   {
    "duration": 316,
    "start_time": "2022-03-10T19:10:48.058Z"
   },
   {
    "duration": 13,
    "start_time": "2022-03-10T19:10:54.518Z"
   },
   {
    "duration": 11,
    "start_time": "2022-03-10T19:10:59.780Z"
   },
   {
    "duration": 11,
    "start_time": "2022-03-10T19:11:26.307Z"
   },
   {
    "duration": 10,
    "start_time": "2022-03-10T19:11:56.438Z"
   },
   {
    "duration": 10,
    "start_time": "2022-03-10T19:12:46.582Z"
   },
   {
    "duration": 10,
    "start_time": "2022-03-10T19:12:48.987Z"
   },
   {
    "duration": 10,
    "start_time": "2022-03-10T19:12:55.893Z"
   },
   {
    "duration": 337,
    "start_time": "2022-03-10T19:36:59.414Z"
   },
   {
    "duration": 12,
    "start_time": "2022-03-10T19:37:03.511Z"
   },
   {
    "duration": 92,
    "start_time": "2022-03-10T19:38:54.491Z"
   },
   {
    "duration": 2,
    "start_time": "2022-03-10T19:39:25.083Z"
   },
   {
    "duration": 79,
    "start_time": "2022-03-10T19:39:25.088Z"
   },
   {
    "duration": 4,
    "start_time": "2022-03-10T19:39:25.168Z"
   },
   {
    "duration": 10,
    "start_time": "2022-03-10T19:39:25.174Z"
   },
   {
    "duration": 10,
    "start_time": "2022-03-10T19:39:25.185Z"
   },
   {
    "duration": 9,
    "start_time": "2022-03-10T19:39:25.196Z"
   },
   {
    "duration": 11,
    "start_time": "2022-03-10T19:39:25.207Z"
   },
   {
    "duration": 5,
    "start_time": "2022-03-10T19:39:25.220Z"
   },
   {
    "duration": 14,
    "start_time": "2022-03-10T19:39:25.227Z"
   },
   {
    "duration": 7,
    "start_time": "2022-03-10T19:39:25.242Z"
   },
   {
    "duration": 16,
    "start_time": "2022-03-10T19:39:25.250Z"
   },
   {
    "duration": 10,
    "start_time": "2022-03-10T19:39:25.267Z"
   },
   {
    "duration": 10,
    "start_time": "2022-03-10T19:39:25.278Z"
   },
   {
    "duration": 23,
    "start_time": "2022-03-10T19:39:25.289Z"
   },
   {
    "duration": 15,
    "start_time": "2022-03-10T19:39:25.313Z"
   },
   {
    "duration": 26,
    "start_time": "2022-03-10T19:39:25.329Z"
   },
   {
    "duration": 446,
    "start_time": "2022-03-10T19:40:26.829Z"
   },
   {
    "duration": 347,
    "start_time": "2022-03-10T19:40:44.078Z"
   },
   {
    "duration": 14,
    "start_time": "2022-03-10T19:41:01.655Z"
   },
   {
    "duration": 14,
    "start_time": "2022-03-10T19:41:13.006Z"
   },
   {
    "duration": 30,
    "start_time": "2022-03-10T19:41:53.987Z"
   },
   {
    "duration": 13,
    "start_time": "2022-03-10T19:42:07.570Z"
   },
   {
    "duration": 12,
    "start_time": "2022-03-10T19:42:14.472Z"
   },
   {
    "duration": 11,
    "start_time": "2022-03-10T19:42:51.135Z"
   },
   {
    "duration": 6,
    "start_time": "2022-03-10T19:43:18.249Z"
   },
   {
    "duration": 12,
    "start_time": "2022-03-10T19:43:50.535Z"
   },
   {
    "duration": 323,
    "start_time": "2022-03-10T19:43:58.833Z"
   },
   {
    "duration": 315,
    "start_time": "2022-03-10T19:44:01.875Z"
   },
   {
    "duration": 11,
    "start_time": "2022-03-10T19:44:13.793Z"
   },
   {
    "duration": 12,
    "start_time": "2022-03-10T19:44:20.603Z"
   },
   {
    "duration": 15,
    "start_time": "2022-03-10T19:52:46.332Z"
   },
   {
    "duration": 2,
    "start_time": "2022-03-10T22:59:15.067Z"
   },
   {
    "duration": 10,
    "start_time": "2022-03-10T23:02:05.228Z"
   },
   {
    "duration": 8,
    "start_time": "2022-03-10T23:02:24.162Z"
   },
   {
    "duration": 308,
    "start_time": "2022-03-10T23:02:24.747Z"
   },
   {
    "duration": 305,
    "start_time": "2022-03-10T23:03:18.811Z"
   },
   {
    "duration": 297,
    "start_time": "2022-03-10T23:04:23.189Z"
   },
   {
    "duration": 314,
    "start_time": "2022-03-10T23:04:51.541Z"
   },
   {
    "duration": 299,
    "start_time": "2022-03-10T23:05:58.139Z"
   },
   {
    "duration": 2,
    "start_time": "2022-03-10T23:06:08.611Z"
   },
   {
    "duration": 131,
    "start_time": "2022-03-10T23:06:08.615Z"
   },
   {
    "duration": 3,
    "start_time": "2022-03-10T23:06:08.748Z"
   },
   {
    "duration": 8,
    "start_time": "2022-03-10T23:06:08.753Z"
   },
   {
    "duration": 10,
    "start_time": "2022-03-10T23:06:08.762Z"
   },
   {
    "duration": 7,
    "start_time": "2022-03-10T23:06:08.773Z"
   },
   {
    "duration": 9,
    "start_time": "2022-03-10T23:06:08.782Z"
   },
   {
    "duration": 7,
    "start_time": "2022-03-10T23:06:08.792Z"
   },
   {
    "duration": 15,
    "start_time": "2022-03-10T23:06:08.800Z"
   },
   {
    "duration": 7,
    "start_time": "2022-03-10T23:06:08.816Z"
   },
   {
    "duration": 7,
    "start_time": "2022-03-10T23:06:08.824Z"
   },
   {
    "duration": 12,
    "start_time": "2022-03-10T23:06:08.833Z"
   },
   {
    "duration": 10,
    "start_time": "2022-03-10T23:06:08.847Z"
   },
   {
    "duration": 13,
    "start_time": "2022-03-10T23:06:08.858Z"
   },
   {
    "duration": 33,
    "start_time": "2022-03-10T23:06:08.873Z"
   },
   {
    "duration": 12,
    "start_time": "2022-03-10T23:06:08.907Z"
   },
   {
    "duration": 13,
    "start_time": "2022-03-10T23:07:09.034Z"
   },
   {
    "duration": 17,
    "start_time": "2022-03-10T23:07:20.767Z"
   },
   {
    "duration": 4,
    "start_time": "2022-03-10T23:07:43.194Z"
   },
   {
    "duration": 17,
    "start_time": "2022-03-10T23:08:20.938Z"
   },
   {
    "duration": 18,
    "start_time": "2022-03-10T23:08:31.864Z"
   },
   {
    "duration": 24,
    "start_time": "2022-03-10T23:08:42.818Z"
   },
   {
    "duration": 18,
    "start_time": "2022-03-10T23:08:59.452Z"
   },
   {
    "duration": 13,
    "start_time": "2022-03-10T23:09:13.126Z"
   },
   {
    "duration": 19,
    "start_time": "2022-03-10T23:09:24.186Z"
   },
   {
    "duration": 282,
    "start_time": "2022-03-10T23:09:34.848Z"
   },
   {
    "duration": 299,
    "start_time": "2022-03-10T23:09:37.776Z"
   },
   {
    "duration": 3,
    "start_time": "2022-03-10T23:09:50.303Z"
   },
   {
    "duration": 6,
    "start_time": "2022-03-10T23:09:53.991Z"
   },
   {
    "duration": 14,
    "start_time": "2022-03-10T23:09:58.096Z"
   },
   {
    "duration": 4,
    "start_time": "2022-03-10T23:10:00.624Z"
   },
   {
    "duration": 5,
    "start_time": "2022-03-10T23:10:11.632Z"
   },
   {
    "duration": 107,
    "start_time": "2022-03-10T23:10:11.639Z"
   },
   {
    "duration": 4,
    "start_time": "2022-03-10T23:10:11.747Z"
   },
   {
    "duration": 26,
    "start_time": "2022-03-10T23:10:11.752Z"
   },
   {
    "duration": 12,
    "start_time": "2022-03-10T23:10:11.780Z"
   },
   {
    "duration": 16,
    "start_time": "2022-03-10T23:10:11.793Z"
   },
   {
    "duration": 18,
    "start_time": "2022-03-10T23:10:11.811Z"
   },
   {
    "duration": 19,
    "start_time": "2022-03-10T23:10:11.831Z"
   },
   {
    "duration": 20,
    "start_time": "2022-03-10T23:10:11.851Z"
   },
   {
    "duration": 14,
    "start_time": "2022-03-10T23:10:11.873Z"
   },
   {
    "duration": 24,
    "start_time": "2022-03-10T23:10:11.889Z"
   },
   {
    "duration": 25,
    "start_time": "2022-03-10T23:10:11.914Z"
   },
   {
    "duration": 20,
    "start_time": "2022-03-10T23:10:11.941Z"
   },
   {
    "duration": 14,
    "start_time": "2022-03-10T23:10:11.963Z"
   },
   {
    "duration": 12,
    "start_time": "2022-03-10T23:10:11.978Z"
   },
   {
    "duration": 28,
    "start_time": "2022-03-10T23:10:11.991Z"
   },
   {
    "duration": 3,
    "start_time": "2022-03-10T23:10:12.020Z"
   },
   {
    "duration": 19,
    "start_time": "2022-03-10T23:10:12.024Z"
   },
   {
    "duration": 25,
    "start_time": "2022-03-10T23:10:12.047Z"
   },
   {
    "duration": 17,
    "start_time": "2022-03-10T23:10:12.074Z"
   },
   {
    "duration": 113,
    "start_time": "2022-03-10T23:10:12.092Z"
   },
   {
    "duration": 31,
    "start_time": "2022-03-10T23:10:12.207Z"
   },
   {
    "duration": 119,
    "start_time": "2022-03-10T23:10:12.240Z"
   },
   {
    "duration": 26,
    "start_time": "2022-03-10T23:10:12.360Z"
   },
   {
    "duration": 253,
    "start_time": "2022-03-10T23:10:12.387Z"
   },
   {
    "duration": 247,
    "start_time": "2022-03-10T23:10:12.642Z"
   },
   {
    "duration": 338,
    "start_time": "2022-03-10T23:10:12.890Z"
   },
   {
    "duration": 232,
    "start_time": "2022-03-10T23:10:13.230Z"
   },
   {
    "duration": 374,
    "start_time": "2022-03-10T23:10:13.464Z"
   },
   {
    "duration": 103,
    "start_time": "2022-03-10T23:10:13.839Z"
   },
   {
    "duration": 289,
    "start_time": "2022-03-10T23:10:13.944Z"
   },
   {
    "duration": 4,
    "start_time": "2022-03-10T23:10:14.234Z"
   },
   {
    "duration": 308,
    "start_time": "2022-03-10T23:10:14.239Z"
   },
   {
    "duration": 319,
    "start_time": "2022-03-10T23:10:14.548Z"
   },
   {
    "duration": 4,
    "start_time": "2022-03-10T23:10:14.868Z"
   },
   {
    "duration": 99,
    "start_time": "2022-03-10T23:10:14.873Z"
   },
   {
    "duration": 4,
    "start_time": "2022-03-10T23:10:14.974Z"
   },
   {
    "duration": 8,
    "start_time": "2022-03-10T23:10:14.979Z"
   },
   {
    "duration": 8,
    "start_time": "2022-03-10T23:10:15.005Z"
   },
   {
    "duration": 3,
    "start_time": "2022-03-10T23:10:15.015Z"
   },
   {
    "duration": 11,
    "start_time": "2022-03-10T23:10:15.020Z"
   },
   {
    "duration": 5,
    "start_time": "2022-03-10T23:10:15.033Z"
   },
   {
    "duration": 8,
    "start_time": "2022-03-10T23:10:15.039Z"
   },
   {
    "duration": 9,
    "start_time": "2022-03-10T23:10:15.048Z"
   },
   {
    "duration": 7,
    "start_time": "2022-03-10T23:10:15.058Z"
   },
   {
    "duration": 43,
    "start_time": "2022-03-10T23:10:15.066Z"
   },
   {
    "duration": 3,
    "start_time": "2022-03-10T23:10:15.110Z"
   },
   {
    "duration": 13,
    "start_time": "2022-03-10T23:10:15.114Z"
   },
   {
    "duration": 6,
    "start_time": "2022-03-10T23:10:15.128Z"
   },
   {
    "duration": 19,
    "start_time": "2022-03-10T23:11:37.492Z"
   },
   {
    "duration": 4,
    "start_time": "2022-03-10T23:11:40.477Z"
   },
   {
    "duration": 6,
    "start_time": "2022-03-10T23:11:40.974Z"
   },
   {
    "duration": 14,
    "start_time": "2022-03-10T23:11:44.493Z"
   },
   {
    "duration": 2,
    "start_time": "2022-03-10T23:13:20.008Z"
   },
   {
    "duration": 80,
    "start_time": "2022-03-10T23:13:20.015Z"
   },
   {
    "duration": 3,
    "start_time": "2022-03-10T23:13:20.097Z"
   },
   {
    "duration": 9,
    "start_time": "2022-03-10T23:13:20.102Z"
   },
   {
    "duration": 10,
    "start_time": "2022-03-10T23:13:20.112Z"
   },
   {
    "duration": 5,
    "start_time": "2022-03-10T23:13:20.124Z"
   },
   {
    "duration": 8,
    "start_time": "2022-03-10T23:13:20.130Z"
   },
   {
    "duration": 8,
    "start_time": "2022-03-10T23:13:20.139Z"
   },
   {
    "duration": 14,
    "start_time": "2022-03-10T23:13:20.149Z"
   },
   {
    "duration": 6,
    "start_time": "2022-03-10T23:13:20.165Z"
   },
   {
    "duration": 6,
    "start_time": "2022-03-10T23:13:20.173Z"
   },
   {
    "duration": 31,
    "start_time": "2022-03-10T23:13:20.180Z"
   },
   {
    "duration": 9,
    "start_time": "2022-03-10T23:13:20.213Z"
   },
   {
    "duration": 10,
    "start_time": "2022-03-10T23:13:20.224Z"
   },
   {
    "duration": 11,
    "start_time": "2022-03-10T23:13:20.235Z"
   },
   {
    "duration": 3,
    "start_time": "2022-03-10T23:13:20.248Z"
   },
   {
    "duration": 14,
    "start_time": "2022-03-10T23:13:32.075Z"
   },
   {
    "duration": 3,
    "start_time": "2022-03-10T23:13:37.582Z"
   },
   {
    "duration": 3,
    "start_time": "2022-03-10T23:14:29.684Z"
   },
   {
    "duration": 75,
    "start_time": "2022-03-10T23:14:29.688Z"
   },
   {
    "duration": 3,
    "start_time": "2022-03-10T23:14:29.765Z"
   },
   {
    "duration": 8,
    "start_time": "2022-03-10T23:14:29.770Z"
   },
   {
    "duration": 8,
    "start_time": "2022-03-10T23:14:29.779Z"
   },
   {
    "duration": 5,
    "start_time": "2022-03-10T23:14:29.788Z"
   },
   {
    "duration": 8,
    "start_time": "2022-03-10T23:14:29.795Z"
   },
   {
    "duration": 5,
    "start_time": "2022-03-10T23:14:29.804Z"
   },
   {
    "duration": 14,
    "start_time": "2022-03-10T23:14:29.811Z"
   },
   {
    "duration": 6,
    "start_time": "2022-03-10T23:14:29.826Z"
   },
   {
    "duration": 9,
    "start_time": "2022-03-10T23:14:29.833Z"
   },
   {
    "duration": 13,
    "start_time": "2022-03-10T23:14:29.843Z"
   },
   {
    "duration": 13,
    "start_time": "2022-03-10T23:14:29.857Z"
   },
   {
    "duration": 11,
    "start_time": "2022-03-10T23:14:29.871Z"
   },
   {
    "duration": 27,
    "start_time": "2022-03-10T23:14:29.884Z"
   },
   {
    "duration": 6,
    "start_time": "2022-03-10T23:14:34.934Z"
   },
   {
    "duration": 8,
    "start_time": "2022-03-10T23:14:47.666Z"
   },
   {
    "duration": 8,
    "start_time": "2022-03-10T23:16:30.035Z"
   },
   {
    "duration": 2,
    "start_time": "2022-03-10T23:16:45.261Z"
   },
   {
    "duration": 1669,
    "start_time": "2022-03-10T23:16:45.267Z"
   },
   {
    "duration": 4,
    "start_time": "2022-03-10T23:16:46.938Z"
   },
   {
    "duration": 7,
    "start_time": "2022-03-10T23:16:46.944Z"
   },
   {
    "duration": 10,
    "start_time": "2022-03-10T23:16:46.953Z"
   },
   {
    "duration": 6,
    "start_time": "2022-03-10T23:16:46.964Z"
   },
   {
    "duration": 10,
    "start_time": "2022-03-10T23:16:46.971Z"
   },
   {
    "duration": 6,
    "start_time": "2022-03-10T23:16:46.982Z"
   },
   {
    "duration": 20,
    "start_time": "2022-03-10T23:16:46.990Z"
   },
   {
    "duration": 5,
    "start_time": "2022-03-10T23:16:47.012Z"
   },
   {
    "duration": 7,
    "start_time": "2022-03-10T23:16:47.018Z"
   },
   {
    "duration": 9,
    "start_time": "2022-03-10T23:16:47.027Z"
   },
   {
    "duration": 10,
    "start_time": "2022-03-10T23:16:47.037Z"
   },
   {
    "duration": 19,
    "start_time": "2022-03-10T23:16:47.048Z"
   },
   {
    "duration": 10,
    "start_time": "2022-03-10T23:16:47.068Z"
   },
   {
    "duration": 33,
    "start_time": "2022-03-10T23:16:47.079Z"
   },
   {
    "duration": 14,
    "start_time": "2022-03-10T23:16:47.114Z"
   },
   {
    "duration": 3,
    "start_time": "2022-03-10T23:16:47.129Z"
   },
   {
    "duration": 8,
    "start_time": "2022-03-10T23:16:47.133Z"
   },
   {
    "duration": 5,
    "start_time": "2022-03-10T23:16:47.142Z"
   },
   {
    "duration": 12,
    "start_time": "2022-03-10T23:16:47.148Z"
   },
   {
    "duration": 3,
    "start_time": "2022-03-10T23:16:47.162Z"
   },
   {
    "duration": 139,
    "start_time": "2022-03-10T23:16:47.167Z"
   },
   {
    "duration": 29,
    "start_time": "2022-03-10T23:16:47.309Z"
   },
   {
    "duration": 132,
    "start_time": "2022-03-10T23:16:47.340Z"
   },
   {
    "duration": 40,
    "start_time": "2022-03-10T23:16:47.474Z"
   },
   {
    "duration": 245,
    "start_time": "2022-03-10T23:16:47.515Z"
   },
   {
    "duration": 236,
    "start_time": "2022-03-10T23:16:47.761Z"
   },
   {
    "duration": 338,
    "start_time": "2022-03-10T23:16:47.998Z"
   },
   {
    "duration": 226,
    "start_time": "2022-03-10T23:16:48.337Z"
   },
   {
    "duration": 333,
    "start_time": "2022-03-10T23:16:48.564Z"
   },
   {
    "duration": 109,
    "start_time": "2022-03-10T23:16:48.898Z"
   },
   {
    "duration": 309,
    "start_time": "2022-03-10T23:16:49.009Z"
   },
   {
    "duration": 3,
    "start_time": "2022-03-10T23:16:49.320Z"
   },
   {
    "duration": 314,
    "start_time": "2022-03-10T23:16:49.325Z"
   },
   {
    "duration": 401,
    "start_time": "2022-03-10T23:16:49.641Z"
   },
   {
    "duration": 5,
    "start_time": "2022-03-10T23:16:50.043Z"
   },
   {
    "duration": 115,
    "start_time": "2022-03-10T23:16:50.049Z"
   },
   {
    "duration": 5,
    "start_time": "2022-03-10T23:16:50.165Z"
   },
   {
    "duration": 7,
    "start_time": "2022-03-10T23:16:50.171Z"
   },
   {
    "duration": 11,
    "start_time": "2022-03-10T23:16:50.179Z"
   },
   {
    "duration": 4,
    "start_time": "2022-03-10T23:16:50.205Z"
   },
   {
    "duration": 10,
    "start_time": "2022-03-10T23:16:50.210Z"
   },
   {
    "duration": 6,
    "start_time": "2022-03-10T23:16:50.222Z"
   },
   {
    "duration": 9,
    "start_time": "2022-03-10T23:16:50.229Z"
   },
   {
    "duration": 8,
    "start_time": "2022-03-10T23:16:50.239Z"
   },
   {
    "duration": 7,
    "start_time": "2022-03-10T23:16:50.248Z"
   },
   {
    "duration": 54,
    "start_time": "2022-03-10T23:16:50.256Z"
   },
   {
    "duration": 4,
    "start_time": "2022-03-10T23:16:50.311Z"
   },
   {
    "duration": 13,
    "start_time": "2022-03-10T23:16:50.316Z"
   },
   {
    "duration": 8,
    "start_time": "2022-03-10T23:16:50.330Z"
   },
   {
    "duration": 15,
    "start_time": "2022-03-10T23:19:03.809Z"
   },
   {
    "duration": 3,
    "start_time": "2022-03-10T23:19:18.936Z"
   },
   {
    "duration": 80,
    "start_time": "2022-03-10T23:19:18.942Z"
   },
   {
    "duration": 4,
    "start_time": "2022-03-10T23:19:19.023Z"
   },
   {
    "duration": 8,
    "start_time": "2022-03-10T23:19:19.028Z"
   },
   {
    "duration": 10,
    "start_time": "2022-03-10T23:19:19.038Z"
   },
   {
    "duration": 5,
    "start_time": "2022-03-10T23:19:19.050Z"
   },
   {
    "duration": 8,
    "start_time": "2022-03-10T23:19:19.056Z"
   },
   {
    "duration": 6,
    "start_time": "2022-03-10T23:19:19.065Z"
   },
   {
    "duration": 14,
    "start_time": "2022-03-10T23:19:19.073Z"
   },
   {
    "duration": 21,
    "start_time": "2022-03-10T23:19:19.089Z"
   },
   {
    "duration": 7,
    "start_time": "2022-03-10T23:19:19.112Z"
   },
   {
    "duration": 9,
    "start_time": "2022-03-10T23:19:19.120Z"
   },
   {
    "duration": 9,
    "start_time": "2022-03-10T23:19:19.131Z"
   },
   {
    "duration": 9,
    "start_time": "2022-03-10T23:19:19.142Z"
   },
   {
    "duration": 11,
    "start_time": "2022-03-10T23:19:19.153Z"
   },
   {
    "duration": 8,
    "start_time": "2022-03-10T23:19:19.206Z"
   },
   {
    "duration": 14,
    "start_time": "2022-03-10T23:19:19.215Z"
   },
   {
    "duration": 8,
    "start_time": "2022-03-10T23:19:25.364Z"
   },
   {
    "duration": 4,
    "start_time": "2022-03-10T23:21:22.454Z"
   },
   {
    "duration": 3,
    "start_time": "2022-03-10T23:22:17.218Z"
   },
   {
    "duration": 71,
    "start_time": "2022-03-10T23:22:17.223Z"
   },
   {
    "duration": 3,
    "start_time": "2022-03-10T23:22:17.296Z"
   },
   {
    "duration": 7,
    "start_time": "2022-03-10T23:22:17.301Z"
   },
   {
    "duration": 11,
    "start_time": "2022-03-10T23:22:17.309Z"
   },
   {
    "duration": 5,
    "start_time": "2022-03-10T23:22:17.322Z"
   },
   {
    "duration": 9,
    "start_time": "2022-03-10T23:22:17.329Z"
   },
   {
    "duration": 8,
    "start_time": "2022-03-10T23:22:17.339Z"
   },
   {
    "duration": 15,
    "start_time": "2022-03-10T23:22:17.348Z"
   },
   {
    "duration": 7,
    "start_time": "2022-03-10T23:22:17.364Z"
   },
   {
    "duration": 35,
    "start_time": "2022-03-10T23:22:17.373Z"
   },
   {
    "duration": 10,
    "start_time": "2022-03-10T23:22:17.409Z"
   },
   {
    "duration": 11,
    "start_time": "2022-03-10T23:22:17.420Z"
   },
   {
    "duration": 11,
    "start_time": "2022-03-10T23:22:17.432Z"
   },
   {
    "duration": 13,
    "start_time": "2022-03-10T23:22:17.444Z"
   },
   {
    "duration": 6,
    "start_time": "2022-03-10T23:22:17.459Z"
   },
   {
    "duration": 45,
    "start_time": "2022-03-10T23:22:17.467Z"
   },
   {
    "duration": 7,
    "start_time": "2022-03-10T23:22:17.513Z"
   },
   {
    "duration": 5,
    "start_time": "2022-03-10T23:22:17.522Z"
   },
   {
    "duration": 12,
    "start_time": "2022-03-10T23:22:17.529Z"
   },
   {
    "duration": 3,
    "start_time": "2022-03-10T23:22:17.542Z"
   },
   {
    "duration": 128,
    "start_time": "2022-03-10T23:22:17.547Z"
   },
   {
    "duration": 40,
    "start_time": "2022-03-10T23:22:17.677Z"
   },
   {
    "duration": 122,
    "start_time": "2022-03-10T23:22:17.718Z"
   },
   {
    "duration": 28,
    "start_time": "2022-03-10T23:22:17.842Z"
   },
   {
    "duration": 241,
    "start_time": "2022-03-10T23:22:17.872Z"
   },
   {
    "duration": 240,
    "start_time": "2022-03-10T23:22:18.114Z"
   },
   {
    "duration": 299,
    "start_time": "2022-03-10T23:22:18.356Z"
   },
   {
    "duration": 233,
    "start_time": "2022-03-10T23:22:18.656Z"
   },
   {
    "duration": 360,
    "start_time": "2022-03-10T23:22:18.890Z"
   },
   {
    "duration": 134,
    "start_time": "2022-03-10T23:22:19.252Z"
   },
   {
    "duration": 352,
    "start_time": "2022-03-10T23:22:19.387Z"
   },
   {
    "duration": 3,
    "start_time": "2022-03-10T23:22:19.740Z"
   },
   {
    "duration": 320,
    "start_time": "2022-03-10T23:22:19.744Z"
   },
   {
    "duration": 347,
    "start_time": "2022-03-10T23:22:20.065Z"
   },
   {
    "duration": 4,
    "start_time": "2022-03-10T23:22:20.413Z"
   },
   {
    "duration": 123,
    "start_time": "2022-03-10T23:22:20.418Z"
   },
   {
    "duration": 5,
    "start_time": "2022-03-10T23:22:20.543Z"
   },
   {
    "duration": 8,
    "start_time": "2022-03-10T23:22:20.550Z"
   },
   {
    "duration": 10,
    "start_time": "2022-03-10T23:22:20.560Z"
   },
   {
    "duration": 5,
    "start_time": "2022-03-10T23:22:20.571Z"
   },
   {
    "duration": 34,
    "start_time": "2022-03-10T23:22:20.577Z"
   },
   {
    "duration": 6,
    "start_time": "2022-03-10T23:22:20.612Z"
   },
   {
    "duration": 9,
    "start_time": "2022-03-10T23:22:20.619Z"
   },
   {
    "duration": 8,
    "start_time": "2022-03-10T23:22:20.630Z"
   },
   {
    "duration": 6,
    "start_time": "2022-03-10T23:22:20.640Z"
   },
   {
    "duration": 16,
    "start_time": "2022-03-10T23:22:20.648Z"
   },
   {
    "duration": 12,
    "start_time": "2022-03-10T23:22:20.665Z"
   },
   {
    "duration": 38,
    "start_time": "2022-03-10T23:22:20.678Z"
   },
   {
    "duration": 9,
    "start_time": "2022-03-10T23:22:20.717Z"
   },
   {
    "duration": 93,
    "start_time": "2022-03-10T23:24:40.764Z"
   },
   {
    "duration": 8,
    "start_time": "2022-03-10T23:26:22.904Z"
   },
   {
    "duration": 3,
    "start_time": "2022-03-10T23:27:29.096Z"
   },
   {
    "duration": 71,
    "start_time": "2022-03-10T23:27:29.101Z"
   },
   {
    "duration": 3,
    "start_time": "2022-03-10T23:27:29.174Z"
   },
   {
    "duration": 9,
    "start_time": "2022-03-10T23:27:29.178Z"
   },
   {
    "duration": 8,
    "start_time": "2022-03-10T23:27:29.188Z"
   },
   {
    "duration": 5,
    "start_time": "2022-03-10T23:27:29.198Z"
   },
   {
    "duration": 8,
    "start_time": "2022-03-10T23:27:29.204Z"
   },
   {
    "duration": 6,
    "start_time": "2022-03-10T23:27:29.213Z"
   },
   {
    "duration": 15,
    "start_time": "2022-03-10T23:27:29.220Z"
   },
   {
    "duration": 6,
    "start_time": "2022-03-10T23:27:29.237Z"
   },
   {
    "duration": 7,
    "start_time": "2022-03-10T23:27:29.245Z"
   },
   {
    "duration": 10,
    "start_time": "2022-03-10T23:27:29.253Z"
   },
   {
    "duration": 42,
    "start_time": "2022-03-10T23:27:29.264Z"
   },
   {
    "duration": 10,
    "start_time": "2022-03-10T23:27:29.308Z"
   },
   {
    "duration": 15,
    "start_time": "2022-03-10T23:27:29.319Z"
   },
   {
    "duration": 7,
    "start_time": "2022-03-10T23:27:29.335Z"
   },
   {
    "duration": 14,
    "start_time": "2022-03-10T23:27:32.791Z"
   },
   {
    "duration": 14,
    "start_time": "2022-03-10T23:28:14.076Z"
   },
   {
    "duration": 159,
    "start_time": "2022-03-10T23:29:03.068Z"
   },
   {
    "duration": 7,
    "start_time": "2022-03-10T23:52:07.924Z"
   },
   {
    "duration": 3,
    "start_time": "2022-03-10T23:52:45.822Z"
   },
   {
    "duration": 74,
    "start_time": "2022-03-10T23:52:45.827Z"
   },
   {
    "duration": 3,
    "start_time": "2022-03-10T23:52:45.903Z"
   },
   {
    "duration": 8,
    "start_time": "2022-03-10T23:52:45.908Z"
   },
   {
    "duration": 9,
    "start_time": "2022-03-10T23:52:45.917Z"
   },
   {
    "duration": 5,
    "start_time": "2022-03-10T23:52:45.927Z"
   },
   {
    "duration": 9,
    "start_time": "2022-03-10T23:52:45.933Z"
   },
   {
    "duration": 7,
    "start_time": "2022-03-10T23:52:45.944Z"
   },
   {
    "duration": 14,
    "start_time": "2022-03-10T23:52:45.953Z"
   },
   {
    "duration": 8,
    "start_time": "2022-03-10T23:52:45.968Z"
   },
   {
    "duration": 31,
    "start_time": "2022-03-10T23:52:45.977Z"
   },
   {
    "duration": 11,
    "start_time": "2022-03-10T23:52:46.009Z"
   },
   {
    "duration": 9,
    "start_time": "2022-03-10T23:52:46.021Z"
   },
   {
    "duration": 11,
    "start_time": "2022-03-10T23:52:46.031Z"
   },
   {
    "duration": 9,
    "start_time": "2022-03-10T23:52:46.043Z"
   },
   {
    "duration": 8,
    "start_time": "2022-03-10T23:52:50.072Z"
   },
   {
    "duration": 14,
    "start_time": "2022-03-10T23:52:52.864Z"
   },
   {
    "duration": 7,
    "start_time": "2022-03-10T23:52:59.011Z"
   },
   {
    "duration": 95,
    "start_time": "2022-03-10T23:57:05.999Z"
   },
   {
    "duration": 8,
    "start_time": "2022-03-10T23:58:31.647Z"
   },
   {
    "duration": 8,
    "start_time": "2022-03-11T00:00:21.223Z"
   },
   {
    "duration": 11,
    "start_time": "2022-03-11T00:03:31.917Z"
   },
   {
    "duration": 11,
    "start_time": "2022-03-11T00:03:50.110Z"
   },
   {
    "duration": 7,
    "start_time": "2022-03-11T00:03:58.848Z"
   },
   {
    "duration": 7,
    "start_time": "2022-03-11T00:03:58.857Z"
   },
   {
    "duration": 9,
    "start_time": "2022-03-11T00:03:58.866Z"
   },
   {
    "duration": 4,
    "start_time": "2022-03-11T00:03:58.876Z"
   },
   {
    "duration": 12,
    "start_time": "2022-03-11T00:03:58.882Z"
   },
   {
    "duration": 8,
    "start_time": "2022-03-11T00:03:58.896Z"
   },
   {
    "duration": 106,
    "start_time": "2022-03-11T00:38:39.426Z"
   },
   {
    "duration": 1031,
    "start_time": "2022-03-11T00:43:33.660Z"
   },
   {
    "duration": 74,
    "start_time": "2022-03-11T00:43:34.693Z"
   },
   {
    "duration": 3,
    "start_time": "2022-03-11T00:43:34.769Z"
   },
   {
    "duration": 8,
    "start_time": "2022-03-11T00:43:34.774Z"
   },
   {
    "duration": 9,
    "start_time": "2022-03-11T00:43:34.783Z"
   },
   {
    "duration": 5,
    "start_time": "2022-03-11T00:43:34.793Z"
   },
   {
    "duration": 10,
    "start_time": "2022-03-11T00:43:34.799Z"
   },
   {
    "duration": 8,
    "start_time": "2022-03-11T00:43:34.811Z"
   },
   {
    "duration": 21,
    "start_time": "2022-03-11T00:43:34.821Z"
   },
   {
    "duration": 8,
    "start_time": "2022-03-11T00:43:34.843Z"
   },
   {
    "duration": 8,
    "start_time": "2022-03-11T00:43:34.852Z"
   },
   {
    "duration": 12,
    "start_time": "2022-03-11T00:43:34.862Z"
   },
   {
    "duration": 9,
    "start_time": "2022-03-11T00:43:34.876Z"
   },
   {
    "duration": 22,
    "start_time": "2022-03-11T00:43:34.887Z"
   },
   {
    "duration": 12,
    "start_time": "2022-03-11T00:43:34.910Z"
   },
   {
    "duration": 6,
    "start_time": "2022-03-11T00:43:34.923Z"
   },
   {
    "duration": 12,
    "start_time": "2022-03-11T00:43:34.931Z"
   },
   {
    "duration": 7,
    "start_time": "2022-03-11T00:43:34.944Z"
   },
   {
    "duration": 5,
    "start_time": "2022-03-11T00:43:34.953Z"
   },
   {
    "duration": 56,
    "start_time": "2022-03-11T00:43:34.959Z"
   },
   {
    "duration": 5,
    "start_time": "2022-03-11T00:43:35.016Z"
   },
   {
    "duration": 122,
    "start_time": "2022-03-11T00:43:35.022Z"
   },
   {
    "duration": 30,
    "start_time": "2022-03-11T00:43:35.148Z"
   },
   {
    "duration": 131,
    "start_time": "2022-03-11T00:43:35.179Z"
   },
   {
    "duration": 29,
    "start_time": "2022-03-11T00:43:35.311Z"
   },
   {
    "duration": 251,
    "start_time": "2022-03-11T00:43:35.342Z"
   },
   {
    "duration": 239,
    "start_time": "2022-03-11T00:43:35.595Z"
   },
   {
    "duration": 329,
    "start_time": "2022-03-11T00:43:35.835Z"
   },
   {
    "duration": 234,
    "start_time": "2022-03-11T00:43:36.165Z"
   },
   {
    "duration": 354,
    "start_time": "2022-03-11T00:43:36.405Z"
   },
   {
    "duration": 91,
    "start_time": "2022-03-11T00:43:36.761Z"
   },
   {
    "duration": 311,
    "start_time": "2022-03-11T00:43:36.854Z"
   },
   {
    "duration": 4,
    "start_time": "2022-03-11T00:43:37.166Z"
   },
   {
    "duration": 392,
    "start_time": "2022-03-11T00:43:37.171Z"
   },
   {
    "duration": 336,
    "start_time": "2022-03-11T00:43:37.565Z"
   },
   {
    "duration": 5,
    "start_time": "2022-03-11T00:43:37.902Z"
   },
   {
    "duration": 103,
    "start_time": "2022-03-11T00:43:37.908Z"
   },
   {
    "duration": 5,
    "start_time": "2022-03-11T00:43:38.012Z"
   },
   {
    "duration": 8,
    "start_time": "2022-03-11T00:43:38.018Z"
   },
   {
    "duration": 11,
    "start_time": "2022-03-11T00:43:38.027Z"
   },
   {
    "duration": 4,
    "start_time": "2022-03-11T00:43:38.039Z"
   },
   {
    "duration": 9,
    "start_time": "2022-03-11T00:43:38.044Z"
   },
   {
    "duration": 5,
    "start_time": "2022-03-11T00:43:38.054Z"
   },
   {
    "duration": 10,
    "start_time": "2022-03-11T00:43:38.060Z"
   },
   {
    "duration": 38,
    "start_time": "2022-03-11T00:43:38.071Z"
   },
   {
    "duration": 6,
    "start_time": "2022-03-11T00:43:38.111Z"
   },
   {
    "duration": 9,
    "start_time": "2022-03-11T00:43:38.118Z"
   },
   {
    "duration": 3,
    "start_time": "2022-03-11T00:43:38.128Z"
   },
   {
    "duration": 15,
    "start_time": "2022-03-11T00:43:38.132Z"
   },
   {
    "duration": 6,
    "start_time": "2022-03-11T00:43:38.148Z"
   },
   {
    "duration": 239,
    "start_time": "2022-03-11T00:48:02.714Z"
   },
   {
    "duration": 1079,
    "start_time": "2022-03-11T00:48:15.591Z"
   },
   {
    "duration": 74,
    "start_time": "2022-03-11T00:48:16.672Z"
   },
   {
    "duration": 4,
    "start_time": "2022-03-11T00:48:16.747Z"
   },
   {
    "duration": 8,
    "start_time": "2022-03-11T00:48:16.753Z"
   },
   {
    "duration": 9,
    "start_time": "2022-03-11T00:48:16.763Z"
   },
   {
    "duration": 8,
    "start_time": "2022-03-11T00:48:16.774Z"
   },
   {
    "duration": 14,
    "start_time": "2022-03-11T00:48:16.783Z"
   },
   {
    "duration": 8,
    "start_time": "2022-03-11T00:48:16.799Z"
   },
   {
    "duration": 20,
    "start_time": "2022-03-11T00:48:16.809Z"
   },
   {
    "duration": 7,
    "start_time": "2022-03-11T00:48:16.831Z"
   },
   {
    "duration": 6,
    "start_time": "2022-03-11T00:48:16.840Z"
   },
   {
    "duration": 14,
    "start_time": "2022-03-11T00:48:16.848Z"
   },
   {
    "duration": 10,
    "start_time": "2022-03-11T00:48:16.863Z"
   },
   {
    "duration": 10,
    "start_time": "2022-03-11T00:48:16.874Z"
   },
   {
    "duration": 29,
    "start_time": "2022-03-11T00:48:16.885Z"
   },
   {
    "duration": 8,
    "start_time": "2022-03-11T00:48:16.915Z"
   },
   {
    "duration": 15,
    "start_time": "2022-03-11T00:48:16.925Z"
   },
   {
    "duration": 7,
    "start_time": "2022-03-11T00:48:16.942Z"
   },
   {
    "duration": 6,
    "start_time": "2022-03-11T00:48:16.951Z"
   },
   {
    "duration": 53,
    "start_time": "2022-03-11T00:48:16.959Z"
   },
   {
    "duration": 5,
    "start_time": "2022-03-11T00:48:17.014Z"
   },
   {
    "duration": 121,
    "start_time": "2022-03-11T00:48:17.021Z"
   },
   {
    "duration": 28,
    "start_time": "2022-03-11T00:48:17.145Z"
   },
   {
    "duration": 135,
    "start_time": "2022-03-11T00:48:17.175Z"
   },
   {
    "duration": 28,
    "start_time": "2022-03-11T00:48:17.312Z"
   },
   {
    "duration": 265,
    "start_time": "2022-03-11T00:48:17.342Z"
   },
   {
    "duration": 238,
    "start_time": "2022-03-11T00:48:17.608Z"
   },
   {
    "duration": 319,
    "start_time": "2022-03-11T00:48:17.848Z"
   },
   {
    "duration": 359,
    "start_time": "2022-03-11T00:48:18.168Z"
   },
   {
    "duration": 338,
    "start_time": "2022-03-11T00:48:18.528Z"
   },
   {
    "duration": 91,
    "start_time": "2022-03-11T00:48:18.867Z"
   },
   {
    "duration": 326,
    "start_time": "2022-03-11T00:48:18.960Z"
   },
   {
    "duration": 3,
    "start_time": "2022-03-11T00:48:19.288Z"
   },
   {
    "duration": 392,
    "start_time": "2022-03-11T00:48:19.293Z"
   },
   {
    "duration": 374,
    "start_time": "2022-03-11T00:48:19.687Z"
   },
   {
    "duration": 4,
    "start_time": "2022-03-11T00:48:20.062Z"
   },
   {
    "duration": 109,
    "start_time": "2022-03-11T00:48:20.067Z"
   },
   {
    "duration": 5,
    "start_time": "2022-03-11T00:48:20.177Z"
   },
   {
    "duration": 10,
    "start_time": "2022-03-11T00:48:20.184Z"
   },
   {
    "duration": 24,
    "start_time": "2022-03-11T00:48:20.196Z"
   },
   {
    "duration": 3,
    "start_time": "2022-03-11T00:48:20.222Z"
   },
   {
    "duration": 10,
    "start_time": "2022-03-11T00:48:20.227Z"
   },
   {
    "duration": 24,
    "start_time": "2022-03-11T00:48:20.238Z"
   },
   {
    "duration": 11,
    "start_time": "2022-03-11T00:48:20.264Z"
   },
   {
    "duration": 9,
    "start_time": "2022-03-11T00:48:20.277Z"
   },
   {
    "duration": 16,
    "start_time": "2022-03-11T00:48:20.287Z"
   },
   {
    "duration": 10,
    "start_time": "2022-03-11T00:48:20.305Z"
   },
   {
    "duration": 3,
    "start_time": "2022-03-11T00:48:20.317Z"
   },
   {
    "duration": 15,
    "start_time": "2022-03-11T00:48:20.322Z"
   },
   {
    "duration": 9,
    "start_time": "2022-03-11T00:48:20.338Z"
   },
   {
    "duration": 1096,
    "start_time": "2022-03-11T10:33:28.798Z"
   },
   {
    "duration": 55,
    "start_time": "2022-03-11T10:33:29.898Z"
   },
   {
    "duration": 4,
    "start_time": "2022-03-11T10:33:29.955Z"
   },
   {
    "duration": 10,
    "start_time": "2022-03-11T10:33:29.961Z"
   },
   {
    "duration": 9,
    "start_time": "2022-03-11T10:33:29.972Z"
   },
   {
    "duration": 5,
    "start_time": "2022-03-11T10:33:29.983Z"
   },
   {
    "duration": 10,
    "start_time": "2022-03-11T10:33:29.990Z"
   },
   {
    "duration": 9,
    "start_time": "2022-03-11T10:33:30.002Z"
   },
   {
    "duration": 36,
    "start_time": "2022-03-11T10:33:30.013Z"
   },
   {
    "duration": 13,
    "start_time": "2022-03-11T10:33:30.051Z"
   },
   {
    "duration": 10,
    "start_time": "2022-03-11T10:33:30.066Z"
   },
   {
    "duration": 34,
    "start_time": "2022-03-11T10:33:30.078Z"
   },
   {
    "duration": 27,
    "start_time": "2022-03-11T10:33:30.115Z"
   },
   {
    "duration": 21,
    "start_time": "2022-03-11T10:33:30.144Z"
   },
   {
    "duration": 15,
    "start_time": "2022-03-11T10:33:30.167Z"
   },
   {
    "duration": 19,
    "start_time": "2022-03-11T10:33:30.183Z"
   },
   {
    "duration": 26,
    "start_time": "2022-03-11T10:33:30.204Z"
   },
   {
    "duration": 10,
    "start_time": "2022-03-11T10:33:30.231Z"
   },
   {
    "duration": 12,
    "start_time": "2022-03-11T10:33:30.243Z"
   },
   {
    "duration": 17,
    "start_time": "2022-03-11T10:33:30.256Z"
   },
   {
    "duration": 4,
    "start_time": "2022-03-11T10:33:30.274Z"
   },
   {
    "duration": 136,
    "start_time": "2022-03-11T10:33:30.280Z"
   },
   {
    "duration": 58,
    "start_time": "2022-03-11T10:33:30.418Z"
   },
   {
    "duration": 125,
    "start_time": "2022-03-11T10:33:30.477Z"
   },
   {
    "duration": 40,
    "start_time": "2022-03-11T10:33:30.604Z"
   },
   {
    "duration": 292,
    "start_time": "2022-03-11T10:33:30.647Z"
   },
   {
    "duration": 286,
    "start_time": "2022-03-11T10:33:30.941Z"
   },
   {
    "duration": 375,
    "start_time": "2022-03-11T10:33:31.228Z"
   },
   {
    "duration": 286,
    "start_time": "2022-03-11T10:33:31.605Z"
   },
   {
    "duration": 353,
    "start_time": "2022-03-11T10:33:31.894Z"
   },
   {
    "duration": 109,
    "start_time": "2022-03-11T10:33:32.250Z"
   },
   {
    "duration": 341,
    "start_time": "2022-03-11T10:33:32.361Z"
   },
   {
    "duration": 5,
    "start_time": "2022-03-11T10:33:32.704Z"
   },
   {
    "duration": 434,
    "start_time": "2022-03-11T10:33:32.711Z"
   },
   {
    "duration": 368,
    "start_time": "2022-03-11T10:33:33.148Z"
   },
   {
    "duration": 6,
    "start_time": "2022-03-11T10:33:33.518Z"
   },
   {
    "duration": 119,
    "start_time": "2022-03-11T10:33:33.525Z"
   },
   {
    "duration": 7,
    "start_time": "2022-03-11T10:33:33.646Z"
   },
   {
    "duration": 7,
    "start_time": "2022-03-11T10:33:33.654Z"
   },
   {
    "duration": 12,
    "start_time": "2022-03-11T10:33:33.663Z"
   },
   {
    "duration": 8,
    "start_time": "2022-03-11T10:33:33.677Z"
   },
   {
    "duration": 12,
    "start_time": "2022-03-11T10:33:33.687Z"
   },
   {
    "duration": 41,
    "start_time": "2022-03-11T10:33:33.701Z"
   },
   {
    "duration": 11,
    "start_time": "2022-03-11T10:33:33.744Z"
   },
   {
    "duration": 12,
    "start_time": "2022-03-11T10:33:33.756Z"
   },
   {
    "duration": 7,
    "start_time": "2022-03-11T10:33:33.769Z"
   },
   {
    "duration": 9,
    "start_time": "2022-03-11T10:33:33.777Z"
   },
   {
    "duration": 3,
    "start_time": "2022-03-11T10:33:33.788Z"
   },
   {
    "duration": 50,
    "start_time": "2022-03-11T10:33:33.792Z"
   },
   {
    "duration": 8,
    "start_time": "2022-03-11T10:33:33.844Z"
   },
   {
    "duration": 96,
    "start_time": "2022-03-11T10:34:20.618Z"
   },
   {
    "duration": 55,
    "start_time": "2022-03-11T10:49:14.224Z"
   }
  ],
  "kernelspec": {
   "display_name": "Python 3 (ipykernel)",
   "language": "python",
   "name": "python3"
  },
  "language_info": {
   "codemirror_mode": {
    "name": "ipython",
    "version": 3
   },
   "file_extension": ".py",
   "mimetype": "text/x-python",
   "name": "python",
   "nbconvert_exporter": "python",
   "pygments_lexer": "ipython3",
   "version": "3.9.7"
  },
  "toc": {
   "base_numbering": 1,
   "nav_menu": {},
   "number_sections": true,
   "sideBar": true,
   "skip_h1_title": true,
   "title_cell": "Table of Contents",
   "title_sidebar": "Contents",
   "toc_cell": false,
   "toc_position": {},
   "toc_section_display": true,
   "toc_window_display": false
  }
 },
 "nbformat": 4,
 "nbformat_minor": 5
}
