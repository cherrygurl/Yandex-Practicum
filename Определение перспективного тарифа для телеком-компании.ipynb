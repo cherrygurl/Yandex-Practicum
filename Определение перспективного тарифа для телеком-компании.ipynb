{
 "cells": [
  {
   "cell_type": "markdown",
   "id": "de57d6b1",
   "metadata": {},
   "source": [
    "## Определение перспективного тарифа для телеком-компании\n",
    "\n",
    "### Описание проекта\n",
    "\n",
    "«Мегалайн» — федерального оператора сотовой связи. Клиентам предлагают два тарифных плана: «Смарт» и «Ультра». Чтобы скорректировать рекламный бюджет, коммерческий департамент хочет понять, какой тариф приносит больше денег.\n",
    "\n",
    "Нам предстоит сделать предварительный анализ тарифов на небольшой выборке клиентов. В нашем распоряжении данные 500 пользователей «Мегалайна»: кто они, откуда, каким тарифом пользуются, сколько звонков и сообщений каждый отправил за 2018 год. Нужно проанализировать поведение клиентов и сделать вывод — какой тариф лучше.\n",
    "\n",
    "Описание тарифов\n",
    "\n",
    "**Тариф «Смарт»**\n",
    "\n",
    "- Ежемесячная плата: 550 рублей\n",
    "- Включено 500 минут разговора, 50 сообщений и 15 Гб интернет-трафика\n",
    "- Стоимость услуг сверх тарифного пакета: 1. минута разговора: 3 рубля («Мегалайн» всегда округляет вверх значения минут и мегабайтов. Если пользователь проговорил всего 1 секунду, в тарифе засчитывается целая минута); 2. сообщение: 3 рубля; 3. 1 Гб интернет-трафика: 200 рублей.\n",
    "\n",
    "**Тариф «Ультра»**\n",
    "\n",
    "- Ежемесячная плата: 1950 рублей\n",
    "- Включено 3000 минут разговора, 1000 сообщений и 30 Гб интернет-трафика\n",
    "- Стоимость услуг сверх тарифного пакета: 1. минута разговора: 1 рубль; 2. сообщение: 1 рубль; 3. 1 Гб интернет-трафика: 150 рублей.\n",
    "\n",
    "**Примечание:**\n",
    "«Мегалайн» всегда округляет секунды до минут, а мегабайты — до гигабайт. Каждый звонок округляется отдельно: даже если он длился всего 1 секунду, будет засчитан как 1 минута.\n",
    "Для веб-трафика отдельные сессии не считаются. Вместо этого общая сумма за месяц округляется в бо́льшую сторону. Если абонент использует 1025 мегабайт в этом месяце, с него возьмут плату за 2 гигабайта.\n",
    "\n",
    "#### Описание данных\n",
    "\n",
    "**Таблица users (информация о пользователях):**\n",
    "* `user_id` — уникальный идентификатор пользователя\n",
    "* `first_name` — имя пользователя\n",
    "* `last_name` — фамилия пользователя\n",
    "* `age` — возраст пользователя (годы)\n",
    "* `reg_date` — дата подключения тарифа (день, месяц, год)\n",
    "* `churn_date` — дата прекращения пользования тарифом (если значение пропущено, то тариф ещё действовал на момент \n",
    "выгрузки данных)\n",
    "* `city` — город проживания пользователя\n",
    "* `tarif` — название тарифного плана\n",
    "\n",
    "**Таблица calls (информация о звонках):**\n",
    "\n",
    "* `id` — уникальный номер звонка\n",
    "* `call_date` — дата звонка\n",
    "* `duration` — длительность звонка в минутах\n",
    "* `user_id` — идентификатор пользователя, сделавшего звонок\n",
    "\n",
    "**Таблица messages (информация о сообщениях):**\n",
    "\n",
    "* `id` — уникальный номер сообщения\n",
    "* `message_date` — дата сообщения\n",
    "* `user_id` — идентификатор пользователя, отправившего сообщение\n",
    "\n",
    "**Таблица internet (информация об интернет-сессиях):**\n",
    "\n",
    "* `id` — уникальный номер сессии\n",
    "* `mb_used` — объём потраченного за сессию интернет-трафика (в мегабайтах)\n",
    "* `session_date` — дата интернет-сессии\n",
    "* `user_id` — идентификатор пользователя\n",
    "\n",
    "**Таблица tariffs (информация о тарифах):**\n",
    "\n",
    "* `tariff_name` — название тарифа\n",
    "* `rub_monthly_fee` — ежемесячная абонентская плата в рублях\n",
    "* `minutes_included` — количество минут разговора в месяц, включённых в абонентскую плату\n",
    "*  `messages_included` — количество сообщений в месяц, включённых в абонентскую плату\n",
    "* `mb_per_month_included` — объём интернет-трафика, включённого в абонентскую плату (в мегабайтах)\n",
    "* `rub_per_minute` — стоимость минуты разговора сверх тарифного пакета (например, если в тарифе 100 минут разговора в месяц, то со 101 минуты будет взиматься плата)\n",
    "* `rub_per_message` — стоимость отправки сообщения сверх тарифного пакета\n",
    "* `rub_per_gb` — стоимость дополнительного гигабайта интернет-трафика сверх тарифного пакета (1 гигабайт = 1024 мегабайта)"
   ]
  },
  {
   "cell_type": "markdown",
   "id": "b3cd3bd0",
   "metadata": {},
   "source": [
    "## Оглавление\n",
    "\n",
    "- [1 Изучение данных из файла](#1)\n",
    "  - [1.1 Вывод](#1.1)\n",
    "- [2 Предобработка данных](#2)\n",
    "  - [2.1 Подготовка данных](#2.1)\n",
    "  - [2.2 Подготовка пользовательских данных](#2.2)\n",
    "  - [2.3 Вывод](#2.3)\n",
    "- [3 Анализ и описание данных](#3)\n",
    "  - [3.1 Вывод](#3.1)\n",
    "- [4 Проверка гипотез и пояснения](#4)\n",
    "  - [4.1 Вывод](#4.1)\n",
    "- [5 Общий вывод](#5)\n",
    "- [6 Чек-лист готовности](#6)"
   ]
  },
  {
   "cell_type": "markdown",
   "id": "7593892e",
   "metadata": {},
   "source": [
    "## Шаг 1 Изучение данных из файла \n",
    "<a id='1'></a>"
   ]
  },
  {
   "cell_type": "code",
   "execution_count": 1,
   "id": "8cf18fb1",
   "metadata": {},
   "outputs": [],
   "source": [
    "#импортируем библиотеки\n",
    "import matplotlib.pyplot as plt\n",
    "import pandas as pd\n",
    "import numpy as np\n",
    "import datetime as dt\n",
    "from scipy import stats as st"
   ]
  },
  {
   "cell_type": "code",
   "execution_count": 2,
   "id": "98bc532e",
   "metadata": {
    "scrolled": false
   },
   "outputs": [],
   "source": [
    "#прочитаем файлы и сохраним их в отдельные датафреймы\n",
    "calls = pd.read_csv('~/datasets/calls.csv')\n",
    "internet = pd.read_csv('~/datasets/internet.csv')\n",
    "messages = pd.read_csv('~/datasets/messages.csv')\n",
    "tariffs = pd.read_csv('~/datasets/tariffs.csv')\n",
    "users = pd.read_csv('~/datasets/users.csv')"
   ]
  },
  {
   "cell_type": "markdown",
   "id": "d15f249b",
   "metadata": {},
   "source": [
    "----\n",
    "### Таблица calls (информация о звонках):\n",
    "\n",
    "* `id` — уникальный номер звонка\n",
    "* `call_date` — дата звонка\n",
    "* `duration` — длительность звонка в минутах\n",
    "* `user_id` — идентификатор пользователя, сделавшего звонок"
   ]
  },
  {
   "cell_type": "code",
   "execution_count": 3,
   "id": "4fd88e0b",
   "metadata": {
    "scrolled": true
   },
   "outputs": [
    {
     "data": {
      "text/html": [
       "<div>\n",
       "<style scoped>\n",
       "    .dataframe tbody tr th:only-of-type {\n",
       "        vertical-align: middle;\n",
       "    }\n",
       "\n",
       "    .dataframe tbody tr th {\n",
       "        vertical-align: top;\n",
       "    }\n",
       "\n",
       "    .dataframe thead th {\n",
       "        text-align: right;\n",
       "    }\n",
       "</style>\n",
       "<table border=\"1\" class=\"dataframe\">\n",
       "  <thead>\n",
       "    <tr style=\"text-align: right;\">\n",
       "      <th></th>\n",
       "      <th>id</th>\n",
       "      <th>call_date</th>\n",
       "      <th>duration</th>\n",
       "      <th>user_id</th>\n",
       "    </tr>\n",
       "  </thead>\n",
       "  <tbody>\n",
       "    <tr>\n",
       "      <th>0</th>\n",
       "      <td>1000_0</td>\n",
       "      <td>2018-07-25</td>\n",
       "      <td>0.00</td>\n",
       "      <td>1000</td>\n",
       "    </tr>\n",
       "    <tr>\n",
       "      <th>1</th>\n",
       "      <td>1000_1</td>\n",
       "      <td>2018-08-17</td>\n",
       "      <td>0.00</td>\n",
       "      <td>1000</td>\n",
       "    </tr>\n",
       "    <tr>\n",
       "      <th>2</th>\n",
       "      <td>1000_2</td>\n",
       "      <td>2018-06-11</td>\n",
       "      <td>2.85</td>\n",
       "      <td>1000</td>\n",
       "    </tr>\n",
       "    <tr>\n",
       "      <th>3</th>\n",
       "      <td>1000_3</td>\n",
       "      <td>2018-09-21</td>\n",
       "      <td>13.80</td>\n",
       "      <td>1000</td>\n",
       "    </tr>\n",
       "    <tr>\n",
       "      <th>4</th>\n",
       "      <td>1000_4</td>\n",
       "      <td>2018-12-15</td>\n",
       "      <td>5.18</td>\n",
       "      <td>1000</td>\n",
       "    </tr>\n",
       "  </tbody>\n",
       "</table>\n",
       "</div>"
      ],
      "text/plain": [
       "       id   call_date  duration  user_id\n",
       "0  1000_0  2018-07-25      0.00     1000\n",
       "1  1000_1  2018-08-17      0.00     1000\n",
       "2  1000_2  2018-06-11      2.85     1000\n",
       "3  1000_3  2018-09-21     13.80     1000\n",
       "4  1000_4  2018-12-15      5.18     1000"
      ]
     },
     "execution_count": 3,
     "metadata": {},
     "output_type": "execute_result"
    }
   ],
   "source": [
    "#посмотрим первые 5 строк таблицы calls\n",
    "calls.head()"
   ]
  },
  {
   "cell_type": "code",
   "execution_count": 4,
   "id": "6ad0958c",
   "metadata": {},
   "outputs": [
    {
     "name": "stdout",
     "output_type": "stream",
     "text": [
      "<class 'pandas.core.frame.DataFrame'>\n",
      "RangeIndex: 202607 entries, 0 to 202606\n",
      "Data columns (total 4 columns):\n",
      " #   Column     Non-Null Count   Dtype  \n",
      "---  ------     --------------   -----  \n",
      " 0   id         202607 non-null  object \n",
      " 1   call_date  202607 non-null  object \n",
      " 2   duration   202607 non-null  float64\n",
      " 3   user_id    202607 non-null  int64  \n",
      "dtypes: float64(1), int64(1), object(2)\n",
      "memory usage: 6.2+ MB\n"
     ]
    }
   ],
   "source": [
    "#посмотрим общую информацию \n",
    "calls.info()"
   ]
  },
  {
   "cell_type": "markdown",
   "id": "1fce37e9",
   "metadata": {},
   "source": [
    "----\n",
    "### Таблица internet (информация об интернет-сессиях):\n",
    "\n",
    "* `id` — уникальный номер сессии\n",
    "* `mb_used` — объём потраченного за сессию интернет-трафика (в мегабайтах)\n",
    "* `session_date` — дата интернет-сессии\n",
    "* `user_id` — идентификатор пользователя"
   ]
  },
  {
   "cell_type": "code",
   "execution_count": 5,
   "id": "1b2cb451",
   "metadata": {},
   "outputs": [
    {
     "data": {
      "text/html": [
       "<div>\n",
       "<style scoped>\n",
       "    .dataframe tbody tr th:only-of-type {\n",
       "        vertical-align: middle;\n",
       "    }\n",
       "\n",
       "    .dataframe tbody tr th {\n",
       "        vertical-align: top;\n",
       "    }\n",
       "\n",
       "    .dataframe thead th {\n",
       "        text-align: right;\n",
       "    }\n",
       "</style>\n",
       "<table border=\"1\" class=\"dataframe\">\n",
       "  <thead>\n",
       "    <tr style=\"text-align: right;\">\n",
       "      <th></th>\n",
       "      <th>Unnamed: 0</th>\n",
       "      <th>id</th>\n",
       "      <th>mb_used</th>\n",
       "      <th>session_date</th>\n",
       "      <th>user_id</th>\n",
       "    </tr>\n",
       "  </thead>\n",
       "  <tbody>\n",
       "    <tr>\n",
       "      <th>0</th>\n",
       "      <td>0</td>\n",
       "      <td>1000_0</td>\n",
       "      <td>112.95</td>\n",
       "      <td>2018-11-25</td>\n",
       "      <td>1000</td>\n",
       "    </tr>\n",
       "    <tr>\n",
       "      <th>1</th>\n",
       "      <td>1</td>\n",
       "      <td>1000_1</td>\n",
       "      <td>1052.81</td>\n",
       "      <td>2018-09-07</td>\n",
       "      <td>1000</td>\n",
       "    </tr>\n",
       "    <tr>\n",
       "      <th>2</th>\n",
       "      <td>2</td>\n",
       "      <td>1000_2</td>\n",
       "      <td>1197.26</td>\n",
       "      <td>2018-06-25</td>\n",
       "      <td>1000</td>\n",
       "    </tr>\n",
       "    <tr>\n",
       "      <th>3</th>\n",
       "      <td>3</td>\n",
       "      <td>1000_3</td>\n",
       "      <td>550.27</td>\n",
       "      <td>2018-08-22</td>\n",
       "      <td>1000</td>\n",
       "    </tr>\n",
       "    <tr>\n",
       "      <th>4</th>\n",
       "      <td>4</td>\n",
       "      <td>1000_4</td>\n",
       "      <td>302.56</td>\n",
       "      <td>2018-09-24</td>\n",
       "      <td>1000</td>\n",
       "    </tr>\n",
       "  </tbody>\n",
       "</table>\n",
       "</div>"
      ],
      "text/plain": [
       "   Unnamed: 0      id  mb_used session_date  user_id\n",
       "0           0  1000_0   112.95   2018-11-25     1000\n",
       "1           1  1000_1  1052.81   2018-09-07     1000\n",
       "2           2  1000_2  1197.26   2018-06-25     1000\n",
       "3           3  1000_3   550.27   2018-08-22     1000\n",
       "4           4  1000_4   302.56   2018-09-24     1000"
      ]
     },
     "execution_count": 5,
     "metadata": {},
     "output_type": "execute_result"
    }
   ],
   "source": [
    "#посмотрим первые 5 строк таблицы internet \n",
    "internet.head()"
   ]
  },
  {
   "cell_type": "code",
   "execution_count": 6,
   "id": "cba83e6a",
   "metadata": {},
   "outputs": [
    {
     "name": "stdout",
     "output_type": "stream",
     "text": [
      "<class 'pandas.core.frame.DataFrame'>\n",
      "RangeIndex: 149396 entries, 0 to 149395\n",
      "Data columns (total 5 columns):\n",
      " #   Column        Non-Null Count   Dtype  \n",
      "---  ------        --------------   -----  \n",
      " 0   Unnamed: 0    149396 non-null  int64  \n",
      " 1   id            149396 non-null  object \n",
      " 2   mb_used       149396 non-null  float64\n",
      " 3   session_date  149396 non-null  object \n",
      " 4   user_id       149396 non-null  int64  \n",
      "dtypes: float64(1), int64(2), object(2)\n",
      "memory usage: 5.7+ MB\n"
     ]
    }
   ],
   "source": [
    "#посмотрим общую информацию \n",
    "internet.info()"
   ]
  },
  {
   "cell_type": "markdown",
   "id": "9e1c1d64",
   "metadata": {},
   "source": [
    "----\n",
    "### Таблица messages (информация о сообщениях):\n",
    "\n",
    "* `id` — уникальный номер сообщения\n",
    "* `message_date` — дата сообщения\n",
    "* `user_id` — идентификатор пользователя, отправившего сообщение"
   ]
  },
  {
   "cell_type": "code",
   "execution_count": 7,
   "id": "a5a8e99d",
   "metadata": {},
   "outputs": [
    {
     "data": {
      "text/html": [
       "<div>\n",
       "<style scoped>\n",
       "    .dataframe tbody tr th:only-of-type {\n",
       "        vertical-align: middle;\n",
       "    }\n",
       "\n",
       "    .dataframe tbody tr th {\n",
       "        vertical-align: top;\n",
       "    }\n",
       "\n",
       "    .dataframe thead th {\n",
       "        text-align: right;\n",
       "    }\n",
       "</style>\n",
       "<table border=\"1\" class=\"dataframe\">\n",
       "  <thead>\n",
       "    <tr style=\"text-align: right;\">\n",
       "      <th></th>\n",
       "      <th>id</th>\n",
       "      <th>message_date</th>\n",
       "      <th>user_id</th>\n",
       "    </tr>\n",
       "  </thead>\n",
       "  <tbody>\n",
       "    <tr>\n",
       "      <th>0</th>\n",
       "      <td>1000_0</td>\n",
       "      <td>2018-06-27</td>\n",
       "      <td>1000</td>\n",
       "    </tr>\n",
       "    <tr>\n",
       "      <th>1</th>\n",
       "      <td>1000_1</td>\n",
       "      <td>2018-10-08</td>\n",
       "      <td>1000</td>\n",
       "    </tr>\n",
       "    <tr>\n",
       "      <th>2</th>\n",
       "      <td>1000_2</td>\n",
       "      <td>2018-08-04</td>\n",
       "      <td>1000</td>\n",
       "    </tr>\n",
       "    <tr>\n",
       "      <th>3</th>\n",
       "      <td>1000_3</td>\n",
       "      <td>2018-06-16</td>\n",
       "      <td>1000</td>\n",
       "    </tr>\n",
       "    <tr>\n",
       "      <th>4</th>\n",
       "      <td>1000_4</td>\n",
       "      <td>2018-12-05</td>\n",
       "      <td>1000</td>\n",
       "    </tr>\n",
       "  </tbody>\n",
       "</table>\n",
       "</div>"
      ],
      "text/plain": [
       "       id message_date  user_id\n",
       "0  1000_0   2018-06-27     1000\n",
       "1  1000_1   2018-10-08     1000\n",
       "2  1000_2   2018-08-04     1000\n",
       "3  1000_3   2018-06-16     1000\n",
       "4  1000_4   2018-12-05     1000"
      ]
     },
     "execution_count": 7,
     "metadata": {},
     "output_type": "execute_result"
    }
   ],
   "source": [
    "#посмотрим первые 5 строк таблицы messages\n",
    "messages.head()"
   ]
  },
  {
   "cell_type": "code",
   "execution_count": 8,
   "id": "8d4f8a17",
   "metadata": {},
   "outputs": [
    {
     "name": "stdout",
     "output_type": "stream",
     "text": [
      "<class 'pandas.core.frame.DataFrame'>\n",
      "RangeIndex: 123036 entries, 0 to 123035\n",
      "Data columns (total 3 columns):\n",
      " #   Column        Non-Null Count   Dtype \n",
      "---  ------        --------------   ----- \n",
      " 0   id            123036 non-null  object\n",
      " 1   message_date  123036 non-null  object\n",
      " 2   user_id       123036 non-null  int64 \n",
      "dtypes: int64(1), object(2)\n",
      "memory usage: 2.8+ MB\n"
     ]
    }
   ],
   "source": [
    "#посмотрим общую информацию \n",
    "messages.info()"
   ]
  },
  {
   "cell_type": "code",
   "execution_count": 9,
   "id": "a56421c3",
   "metadata": {},
   "outputs": [
    {
     "data": {
      "text/plain": [
       "('2018-01-01', '2018-12-31')"
      ]
     },
     "execution_count": 9,
     "metadata": {},
     "output_type": "execute_result"
    }
   ],
   "source": [
    "#проверим первую и последние даты для того, чтобы убедиться, что вошли данные только за 2018 год \n",
    "calls['call_date'].min(), calls['call_date'].max()"
   ]
  },
  {
   "cell_type": "code",
   "execution_count": 10,
   "id": "720803d2",
   "metadata": {},
   "outputs": [
    {
     "data": {
      "text/plain": [
       "('2018-01-01', '2018-12-31')"
      ]
     },
     "execution_count": 10,
     "metadata": {},
     "output_type": "execute_result"
    }
   ],
   "source": [
    "internet['session_date'].min(), internet['session_date'].max()"
   ]
  },
  {
   "cell_type": "code",
   "execution_count": 11,
   "id": "0ad3dd8e",
   "metadata": {},
   "outputs": [
    {
     "data": {
      "text/plain": [
       "('2018-01-02', '2018-12-31')"
      ]
     },
     "execution_count": 11,
     "metadata": {},
     "output_type": "execute_result"
    }
   ],
   "source": [
    "messages['message_date'].min(), messages['message_date'].max()"
   ]
  },
  {
   "cell_type": "markdown",
   "id": "8fcb6c5b",
   "metadata": {},
   "source": [
    "----\n",
    "### Таблица tariffs (информация о тарифах):\n",
    "\n",
    "* `tariff_name` — название тарифа\n",
    "* `rub_monthly_fee` — ежемесячная абонентская плата в рублях\n",
    "* `minutes_included` — количество минут разговора в месяц, включённых в абонентскую плату\n",
    "*  `messages_included` — количество сообщений в месяц, включённых в абонентскую плату\n",
    "* `mb_per_month_included` — объём интернет-трафика, включённого в абонентскую плату (в мегабайтах)\n",
    "* `rub_per_minute` — стоимость минуты разговора сверх тарифного пакета (например, если в тарифе 100 минут разговора в месяц, то со 101 минуты будет взиматься плата)\n",
    "* `rub_per_message` — стоимость отправки сообщения сверх тарифного пакета\n",
    "* `rub_per_gb` — стоимость дополнительного гигабайта интернет-трафика сверх тарифного пакета (1 гигабайт = 1024 мегабайта)"
   ]
  },
  {
   "cell_type": "code",
   "execution_count": 12,
   "id": "e2a24155",
   "metadata": {},
   "outputs": [
    {
     "data": {
      "text/html": [
       "<div>\n",
       "<style scoped>\n",
       "    .dataframe tbody tr th:only-of-type {\n",
       "        vertical-align: middle;\n",
       "    }\n",
       "\n",
       "    .dataframe tbody tr th {\n",
       "        vertical-align: top;\n",
       "    }\n",
       "\n",
       "    .dataframe thead th {\n",
       "        text-align: right;\n",
       "    }\n",
       "</style>\n",
       "<table border=\"1\" class=\"dataframe\">\n",
       "  <thead>\n",
       "    <tr style=\"text-align: right;\">\n",
       "      <th></th>\n",
       "      <th>messages_included</th>\n",
       "      <th>mb_per_month_included</th>\n",
       "      <th>minutes_included</th>\n",
       "      <th>rub_monthly_fee</th>\n",
       "      <th>rub_per_gb</th>\n",
       "      <th>rub_per_message</th>\n",
       "      <th>rub_per_minute</th>\n",
       "      <th>tariff_name</th>\n",
       "    </tr>\n",
       "  </thead>\n",
       "  <tbody>\n",
       "    <tr>\n",
       "      <th>0</th>\n",
       "      <td>50</td>\n",
       "      <td>15360</td>\n",
       "      <td>500</td>\n",
       "      <td>550</td>\n",
       "      <td>200</td>\n",
       "      <td>3</td>\n",
       "      <td>3</td>\n",
       "      <td>smart</td>\n",
       "    </tr>\n",
       "    <tr>\n",
       "      <th>1</th>\n",
       "      <td>1000</td>\n",
       "      <td>30720</td>\n",
       "      <td>3000</td>\n",
       "      <td>1950</td>\n",
       "      <td>150</td>\n",
       "      <td>1</td>\n",
       "      <td>1</td>\n",
       "      <td>ultra</td>\n",
       "    </tr>\n",
       "  </tbody>\n",
       "</table>\n",
       "</div>"
      ],
      "text/plain": [
       "   messages_included  mb_per_month_included  minutes_included  \\\n",
       "0                 50                  15360               500   \n",
       "1               1000                  30720              3000   \n",
       "\n",
       "   rub_monthly_fee  rub_per_gb  rub_per_message  rub_per_minute tariff_name  \n",
       "0              550         200                3               3       smart  \n",
       "1             1950         150                1               1       ultra  "
      ]
     },
     "execution_count": 12,
     "metadata": {},
     "output_type": "execute_result"
    }
   ],
   "source": [
    "#посмотрим файл с информацией о тарифах\n",
    "tariffs.head()"
   ]
  },
  {
   "cell_type": "markdown",
   "id": "4305978c",
   "metadata": {},
   "source": [
    "----\n",
    "### Таблица users (информация о пользователях):\n",
    "* `user_id` — уникальный идентификатор пользователя\n",
    "* `first_name` — имя пользователя\n",
    "* `last_name` — фамилия пользователя\n",
    "* `age` — возраст пользователя (годы)\n",
    "* `reg_date` — дата подключения тарифа (день, месяц, год)\n",
    "* `churn_date` — дата прекращения пользования тарифом (если значение пропущено, то тариф ещё действовал на момент \n",
    "выгрузки данных)\n",
    "* `city` — город проживания пользователя\n",
    "* `tarif` — название тарифного плана"
   ]
  },
  {
   "cell_type": "code",
   "execution_count": 13,
   "id": "e88f30ac",
   "metadata": {},
   "outputs": [
    {
     "data": {
      "text/html": [
       "<div>\n",
       "<style scoped>\n",
       "    .dataframe tbody tr th:only-of-type {\n",
       "        vertical-align: middle;\n",
       "    }\n",
       "\n",
       "    .dataframe tbody tr th {\n",
       "        vertical-align: top;\n",
       "    }\n",
       "\n",
       "    .dataframe thead th {\n",
       "        text-align: right;\n",
       "    }\n",
       "</style>\n",
       "<table border=\"1\" class=\"dataframe\">\n",
       "  <thead>\n",
       "    <tr style=\"text-align: right;\">\n",
       "      <th></th>\n",
       "      <th>user_id</th>\n",
       "      <th>age</th>\n",
       "      <th>churn_date</th>\n",
       "      <th>city</th>\n",
       "      <th>first_name</th>\n",
       "      <th>last_name</th>\n",
       "      <th>reg_date</th>\n",
       "      <th>tariff</th>\n",
       "    </tr>\n",
       "  </thead>\n",
       "  <tbody>\n",
       "    <tr>\n",
       "      <th>0</th>\n",
       "      <td>1000</td>\n",
       "      <td>52</td>\n",
       "      <td>NaN</td>\n",
       "      <td>Краснодар</td>\n",
       "      <td>Рафаил</td>\n",
       "      <td>Верещагин</td>\n",
       "      <td>2018-05-25</td>\n",
       "      <td>ultra</td>\n",
       "    </tr>\n",
       "    <tr>\n",
       "      <th>1</th>\n",
       "      <td>1001</td>\n",
       "      <td>41</td>\n",
       "      <td>NaN</td>\n",
       "      <td>Москва</td>\n",
       "      <td>Иван</td>\n",
       "      <td>Ежов</td>\n",
       "      <td>2018-11-01</td>\n",
       "      <td>smart</td>\n",
       "    </tr>\n",
       "    <tr>\n",
       "      <th>2</th>\n",
       "      <td>1002</td>\n",
       "      <td>59</td>\n",
       "      <td>NaN</td>\n",
       "      <td>Стерлитамак</td>\n",
       "      <td>Евгений</td>\n",
       "      <td>Абрамович</td>\n",
       "      <td>2018-06-17</td>\n",
       "      <td>smart</td>\n",
       "    </tr>\n",
       "    <tr>\n",
       "      <th>3</th>\n",
       "      <td>1003</td>\n",
       "      <td>23</td>\n",
       "      <td>NaN</td>\n",
       "      <td>Москва</td>\n",
       "      <td>Белла</td>\n",
       "      <td>Белякова</td>\n",
       "      <td>2018-08-17</td>\n",
       "      <td>ultra</td>\n",
       "    </tr>\n",
       "    <tr>\n",
       "      <th>4</th>\n",
       "      <td>1004</td>\n",
       "      <td>68</td>\n",
       "      <td>NaN</td>\n",
       "      <td>Новокузнецк</td>\n",
       "      <td>Татьяна</td>\n",
       "      <td>Авдеенко</td>\n",
       "      <td>2018-05-14</td>\n",
       "      <td>ultra</td>\n",
       "    </tr>\n",
       "  </tbody>\n",
       "</table>\n",
       "</div>"
      ],
      "text/plain": [
       "   user_id  age churn_date         city first_name  last_name    reg_date  \\\n",
       "0     1000   52        NaN    Краснодар     Рафаил  Верещагин  2018-05-25   \n",
       "1     1001   41        NaN       Москва       Иван       Ежов  2018-11-01   \n",
       "2     1002   59        NaN  Стерлитамак    Евгений  Абрамович  2018-06-17   \n",
       "3     1003   23        NaN       Москва      Белла   Белякова  2018-08-17   \n",
       "4     1004   68        NaN  Новокузнецк    Татьяна   Авдеенко  2018-05-14   \n",
       "\n",
       "  tariff  \n",
       "0  ultra  \n",
       "1  smart  \n",
       "2  smart  \n",
       "3  ultra  \n",
       "4  ultra  "
      ]
     },
     "execution_count": 13,
     "metadata": {},
     "output_type": "execute_result"
    }
   ],
   "source": [
    "#посмотрим первые 5 строк таблицы users\n",
    "users.head()"
   ]
  },
  {
   "cell_type": "code",
   "execution_count": 14,
   "id": "ba7f9862",
   "metadata": {},
   "outputs": [
    {
     "data": {
      "text/html": [
       "<div>\n",
       "<style scoped>\n",
       "    .dataframe tbody tr th:only-of-type {\n",
       "        vertical-align: middle;\n",
       "    }\n",
       "\n",
       "    .dataframe tbody tr th {\n",
       "        vertical-align: top;\n",
       "    }\n",
       "\n",
       "    .dataframe thead th {\n",
       "        text-align: right;\n",
       "    }\n",
       "</style>\n",
       "<table border=\"1\" class=\"dataframe\">\n",
       "  <thead>\n",
       "    <tr style=\"text-align: right;\">\n",
       "      <th></th>\n",
       "      <th>user_id</th>\n",
       "    </tr>\n",
       "    <tr>\n",
       "      <th>tariff</th>\n",
       "      <th></th>\n",
       "    </tr>\n",
       "  </thead>\n",
       "  <tbody>\n",
       "    <tr>\n",
       "      <th>smart</th>\n",
       "      <td>351</td>\n",
       "    </tr>\n",
       "    <tr>\n",
       "      <th>ultra</th>\n",
       "      <td>149</td>\n",
       "    </tr>\n",
       "  </tbody>\n",
       "</table>\n",
       "</div>"
      ],
      "text/plain": [
       "        user_id\n",
       "tariff         \n",
       "smart       351\n",
       "ultra       149"
      ]
     },
     "execution_count": 14,
     "metadata": {},
     "output_type": "execute_result"
    }
   ],
   "source": [
    "#посмотрим выборку\n",
    "users.pivot_table(index='tariff', values='user_id', aggfunc='count')"
   ]
  },
  {
   "cell_type": "code",
   "execution_count": 15,
   "id": "c3274bd7",
   "metadata": {},
   "outputs": [
    {
     "name": "stdout",
     "output_type": "stream",
     "text": [
      "<class 'pandas.core.frame.DataFrame'>\n",
      "RangeIndex: 500 entries, 0 to 499\n",
      "Data columns (total 8 columns):\n",
      " #   Column      Non-Null Count  Dtype \n",
      "---  ------      --------------  ----- \n",
      " 0   user_id     500 non-null    int64 \n",
      " 1   age         500 non-null    int64 \n",
      " 2   churn_date  38 non-null     object\n",
      " 3   city        500 non-null    object\n",
      " 4   first_name  500 non-null    object\n",
      " 5   last_name   500 non-null    object\n",
      " 6   reg_date    500 non-null    object\n",
      " 7   tariff      500 non-null    object\n",
      "dtypes: int64(2), object(6)\n",
      "memory usage: 31.4+ KB\n"
     ]
    }
   ],
   "source": [
    "#посмотрим общую информацию \n",
    "users.info()"
   ]
  },
  {
   "cell_type": "markdown",
   "id": "0fadf084",
   "metadata": {},
   "source": [
    "В столбце `churn_date` есть пропущенные строки, означающие, что тариф ещё действовал на момент выгрузки данных. Заполнять данными их не будем. Оставим как есть."
   ]
  },
  {
   "cell_type": "code",
   "execution_count": 16,
   "id": "e55e9c34",
   "metadata": {},
   "outputs": [
    {
     "data": {
      "text/plain": [
       "(0, 0, 0, 0)"
      ]
     },
     "execution_count": 16,
     "metadata": {},
     "output_type": "execute_result"
    }
   ],
   "source": [
    "#проверим явные дубликаты по всем файлам\n",
    "calls.duplicated().sum(), internet.duplicated().sum(), messages.duplicated().sum(), users.duplicated().sum()"
   ]
  },
  {
   "cell_type": "markdown",
   "id": "4a008dba",
   "metadata": {},
   "source": [
    "### Вывод\n",
    "<a id='1.1'></a>"
   ]
  },
  {
   "cell_type": "markdown",
   "id": "5d7b9491",
   "metadata": {},
   "source": [
    "Предварительно можно утверждать, что данных достаточно для проверки гипотез. Данные чистые пропуски заполнять нет необходимости. Для дальнейшего анализа необходимо изменить тип данных в столбцах с датами в `datetime`, а также привести к нужным единицам измерения."
   ]
  },
  {
   "cell_type": "markdown",
   "id": "1329dc99",
   "metadata": {},
   "source": [
    "## Шаг 2 Предобработка данных\n",
    "<a id='2'></a>"
   ]
  },
  {
   "cell_type": "markdown",
   "id": "075e4b9a",
   "metadata": {},
   "source": [
    "В примечаниях говорится, что «Мегалайн» всегда округляет секунды до минут, а мегабайты — до гигабайт. Каждый звонок округляется отдельно: даже если он длился всего 1 секунду, будет засчитан как 1 минута. Для веб-трафика отдельные сессии не считаются. Вместо этого общая сумма за месяц округляется в бо́льшую сторону. Если абонент использует 1025 мегабайт в этом месяце, с него возьмут плату за 2 гигабайта.\n",
    "\n",
    "Исходя из этого:\n",
    "- данные в столбце с датами приведем в нужный формат, затем выделим месяц\n",
    "- минуты округлим до целых за каждую сессию\n",
    "- мегабайты просуммируем по месяцам для каждого абонента, затем округлим до гигабайт"
   ]
  },
  {
   "cell_type": "markdown",
   "id": "8b3e94eb",
   "metadata": {},
   "source": [
    "### Шаг 2.1 Изучение данных из файла \n",
    "<a id='2.1'></a>"
   ]
  },
  {
   "cell_type": "code",
   "execution_count": 17,
   "id": "65016d33",
   "metadata": {},
   "outputs": [
    {
     "name": "stdout",
     "output_type": "stream",
     "text": [
      "<class 'pandas.core.frame.DataFrame'>\n",
      "RangeIndex: 202607 entries, 0 to 202606\n",
      "Data columns (total 5 columns):\n",
      " #   Column       Non-Null Count   Dtype         \n",
      "---  ------       --------------   -----         \n",
      " 0   id           202607 non-null  object        \n",
      " 1   call_date    202607 non-null  datetime64[ns]\n",
      " 2   duration     202607 non-null  float64       \n",
      " 3   user_id      202607 non-null  int64         \n",
      " 4   calls_month  202607 non-null  int64         \n",
      "dtypes: datetime64[ns](1), float64(1), int64(2), object(1)\n",
      "memory usage: 7.7+ MB\n"
     ]
    }
   ],
   "source": [
    "#изменим тип данных и округлим продолжительность звонков до целых минут\n",
    "calls['call_date']=pd.to_datetime(calls['call_date'], format = '%Y-%m-%d')\n",
    "calls['calls_month']= calls['call_date'].dt.month\n",
    "calls['duration'] = calls['duration'].apply(np.ceil)\n",
    "calls.info()"
   ]
  },
  {
   "cell_type": "code",
   "execution_count": 18,
   "id": "66a7002b",
   "metadata": {},
   "outputs": [
    {
     "name": "stdout",
     "output_type": "stream",
     "text": [
      "<class 'pandas.core.frame.DataFrame'>\n",
      "RangeIndex: 123036 entries, 0 to 123035\n",
      "Data columns (total 4 columns):\n",
      " #   Column         Non-Null Count   Dtype         \n",
      "---  ------         --------------   -----         \n",
      " 0   id             123036 non-null  object        \n",
      " 1   message_date   123036 non-null  datetime64[ns]\n",
      " 2   user_id        123036 non-null  int64         \n",
      " 3   message_month  123036 non-null  int64         \n",
      "dtypes: datetime64[ns](1), int64(2), object(1)\n",
      "memory usage: 3.8+ MB\n"
     ]
    }
   ],
   "source": [
    "#изменим тип данных в формат datetime64\n",
    "messages['message_date']= pd.to_datetime(messages['message_date'], format= '%Y-%m-%d')\n",
    "messages['message_month']= messages['message_date'].dt.month\n",
    "messages.info()"
   ]
  },
  {
   "cell_type": "code",
   "execution_count": 19,
   "id": "80b1e425",
   "metadata": {},
   "outputs": [
    {
     "name": "stdout",
     "output_type": "stream",
     "text": [
      "<class 'pandas.core.frame.DataFrame'>\n",
      "RangeIndex: 149396 entries, 0 to 149395\n",
      "Data columns (total 6 columns):\n",
      " #   Column         Non-Null Count   Dtype         \n",
      "---  ------         --------------   -----         \n",
      " 0   Unnamed: 0     149396 non-null  int64         \n",
      " 1   id             149396 non-null  object        \n",
      " 2   mb_used        149396 non-null  float64       \n",
      " 3   session_date   149396 non-null  datetime64[ns]\n",
      " 4   user_id        149396 non-null  int64         \n",
      " 5   session_month  149396 non-null  int64         \n",
      "dtypes: datetime64[ns](1), float64(1), int64(3), object(1)\n",
      "memory usage: 6.8+ MB\n"
     ]
    }
   ],
   "source": [
    "#изменим тип данных в формат datetime64\n",
    "internet['session_date']=pd.to_datetime(internet['session_date'], format = '%Y-%m-%d')\n",
    "internet['session_month']= internet['session_date'].dt.month\n",
    "internet.info()"
   ]
  },
  {
   "cell_type": "markdown",
   "id": "4c7f079d",
   "metadata": {},
   "source": [
    "### Шаг 2.2 Подготовка пользовательских данных \n",
    "<a id='2.2'></a>"
   ]
  },
  {
   "cell_type": "markdown",
   "id": "ac615890",
   "metadata": {},
   "source": [
    "Посчитаем для каждого пользователя: \n",
    "- количество сделанных звонков и израсходованных минут разговора по месяцам;\n",
    "- количество отправленных сообщений по месяцам;\n",
    "- объем израсходованного интернет-трафика по месяцам;\n",
    "- помесячная выручка с каждого пользователя "
   ]
  },
  {
   "cell_type": "markdown",
   "id": "ebe266a6",
   "metadata": {},
   "source": [
    "Посчитаем для каждого пользователя: количество сделанных звонков и израсходованных минут разговора по месяцам"
   ]
  },
  {
   "cell_type": "code",
   "execution_count": 20,
   "id": "0d318ce3",
   "metadata": {},
   "outputs": [
    {
     "data": {
      "text/html": [
       "<div>\n",
       "<style scoped>\n",
       "    .dataframe tbody tr th:only-of-type {\n",
       "        vertical-align: middle;\n",
       "    }\n",
       "\n",
       "    .dataframe tbody tr th {\n",
       "        vertical-align: top;\n",
       "    }\n",
       "\n",
       "    .dataframe thead th {\n",
       "        text-align: right;\n",
       "    }\n",
       "</style>\n",
       "<table border=\"1\" class=\"dataframe\">\n",
       "  <thead>\n",
       "    <tr style=\"text-align: right;\">\n",
       "      <th></th>\n",
       "      <th>user_id</th>\n",
       "      <th>calls_month</th>\n",
       "      <th>id</th>\n",
       "    </tr>\n",
       "  </thead>\n",
       "  <tbody>\n",
       "    <tr>\n",
       "      <th>2972</th>\n",
       "      <td>1467</td>\n",
       "      <td>12</td>\n",
       "      <td>244</td>\n",
       "    </tr>\n",
       "    <tr>\n",
       "      <th>2359</th>\n",
       "      <td>1377</td>\n",
       "      <td>3</td>\n",
       "      <td>203</td>\n",
       "    </tr>\n",
       "    <tr>\n",
       "      <th>1359</th>\n",
       "      <td>1216</td>\n",
       "      <td>12</td>\n",
       "      <td>198</td>\n",
       "    </tr>\n",
       "    <tr>\n",
       "      <th>1400</th>\n",
       "      <td>1222</td>\n",
       "      <td>10</td>\n",
       "      <td>196</td>\n",
       "    </tr>\n",
       "    <tr>\n",
       "      <th>1243</th>\n",
       "      <td>1196</td>\n",
       "      <td>12</td>\n",
       "      <td>189</td>\n",
       "    </tr>\n",
       "  </tbody>\n",
       "</table>\n",
       "</div>"
      ],
      "text/plain": [
       "      user_id  calls_month   id\n",
       "2972     1467           12  244\n",
       "2359     1377            3  203\n",
       "1359     1216           12  198\n",
       "1400     1222           10  196\n",
       "1243     1196           12  189"
      ]
     },
     "execution_count": 20,
     "metadata": {},
     "output_type": "execute_result"
    }
   ],
   "source": [
    "#посчитаем количество сделанных звонков: сгруппируем по месяцам и user_id, посчитаем количество звонков\n",
    "calls.groupby(['user_id','calls_month'])['id'].count().reset_index().sort_values(by='id', ascending=False).head()"
   ]
  },
  {
   "cell_type": "code",
   "execution_count": 21,
   "id": "70e8fbf0",
   "metadata": {},
   "outputs": [
    {
     "data": {
      "text/html": [
       "<div>\n",
       "<style scoped>\n",
       "    .dataframe tbody tr th:only-of-type {\n",
       "        vertical-align: middle;\n",
       "    }\n",
       "\n",
       "    .dataframe tbody tr th {\n",
       "        vertical-align: top;\n",
       "    }\n",
       "\n",
       "    .dataframe thead th {\n",
       "        text-align: right;\n",
       "    }\n",
       "</style>\n",
       "<table border=\"1\" class=\"dataframe\">\n",
       "  <thead>\n",
       "    <tr style=\"text-align: right;\">\n",
       "      <th></th>\n",
       "      <th>user_id</th>\n",
       "      <th>month</th>\n",
       "      <th>total_duration</th>\n",
       "    </tr>\n",
       "  </thead>\n",
       "  <tbody>\n",
       "    <tr>\n",
       "      <th>2972</th>\n",
       "      <td>1467</td>\n",
       "      <td>12</td>\n",
       "      <td>1673.0</td>\n",
       "    </tr>\n",
       "    <tr>\n",
       "      <th>2359</th>\n",
       "      <td>1377</td>\n",
       "      <td>3</td>\n",
       "      <td>1609.0</td>\n",
       "    </tr>\n",
       "    <tr>\n",
       "      <th>1359</th>\n",
       "      <td>1216</td>\n",
       "      <td>12</td>\n",
       "      <td>1435.0</td>\n",
       "    </tr>\n",
       "    <tr>\n",
       "      <th>1237</th>\n",
       "      <td>1196</td>\n",
       "      <td>6</td>\n",
       "      <td>1410.0</td>\n",
       "    </tr>\n",
       "    <tr>\n",
       "      <th>2366</th>\n",
       "      <td>1377</td>\n",
       "      <td>10</td>\n",
       "      <td>1401.0</td>\n",
       "    </tr>\n",
       "  </tbody>\n",
       "</table>\n",
       "</div>"
      ],
      "text/plain": [
       "      user_id  month  total_duration\n",
       "2972     1467     12          1673.0\n",
       "2359     1377      3          1609.0\n",
       "1359     1216     12          1435.0\n",
       "1237     1196      6          1410.0\n",
       "2366     1377     10          1401.0"
      ]
     },
     "execution_count": 21,
     "metadata": {},
     "output_type": "execute_result"
    }
   ],
   "source": [
    "#сгруппируем данные в таблице calls по месяцу и user_id, просуммируем длительность \n",
    "calls_grouped = calls.groupby(['user_id','calls_month'])['duration'].sum().reset_index()\n",
    "calls_grouped.columns = ['user_id','month','total_duration']\n",
    "calls_grouped.sort_values(by='total_duration', ascending=False).head()"
   ]
  },
  {
   "cell_type": "code",
   "execution_count": 22,
   "id": "f856fc04",
   "metadata": {},
   "outputs": [
    {
     "data": {
      "text/html": [
       "<div>\n",
       "<style scoped>\n",
       "    .dataframe tbody tr th:only-of-type {\n",
       "        vertical-align: middle;\n",
       "    }\n",
       "\n",
       "    .dataframe tbody tr th {\n",
       "        vertical-align: top;\n",
       "    }\n",
       "\n",
       "    .dataframe thead th {\n",
       "        text-align: right;\n",
       "    }\n",
       "</style>\n",
       "<table border=\"1\" class=\"dataframe\">\n",
       "  <thead>\n",
       "    <tr style=\"text-align: right;\">\n",
       "      <th></th>\n",
       "      <th>user_id</th>\n",
       "      <th>age</th>\n",
       "      <th>churn_date</th>\n",
       "      <th>city</th>\n",
       "      <th>first_name</th>\n",
       "      <th>last_name</th>\n",
       "      <th>reg_date</th>\n",
       "      <th>tariff</th>\n",
       "    </tr>\n",
       "  </thead>\n",
       "  <tbody>\n",
       "    <tr>\n",
       "      <th>467</th>\n",
       "      <td>1467</td>\n",
       "      <td>66</td>\n",
       "      <td>NaN</td>\n",
       "      <td>Киров</td>\n",
       "      <td>Исак</td>\n",
       "      <td>Александрюк</td>\n",
       "      <td>2018-11-24</td>\n",
       "      <td>ultra</td>\n",
       "    </tr>\n",
       "  </tbody>\n",
       "</table>\n",
       "</div>"
      ],
      "text/plain": [
       "     user_id  age churn_date   city first_name    last_name    reg_date tariff\n",
       "467     1467   66        NaN  Киров       Исак  Александрюк  2018-11-24  ultra"
      ]
     },
     "execution_count": 22,
     "metadata": {},
     "output_type": "execute_result"
    }
   ],
   "source": [
    "users.query('user_id == 1467')"
   ]
  },
  {
   "cell_type": "markdown",
   "id": "d9e13ba5",
   "metadata": {},
   "source": [
    "Больше всего проговорил абонент с `user_id` 1467  Исак\tАлександрюк из города Киров, целых 1673.0 минуты, для этого он совершил 244 звонка за декабрь.  Он подключился к тарифному плану **ultra** 24 ноября 2018 года. И даже он не смог выговорить 3000 минут, входящих в пакет.\n",
    "\n",
    "Как видно за год никому не удалось выговорить минуты по тарифному плану **ultra**."
   ]
  },
  {
   "cell_type": "markdown",
   "id": "5d8851f1",
   "metadata": {},
   "source": [
    "___\n",
    "Посчитаем для каждого пользователя: количество отправленных сообщений по месяцам"
   ]
  },
  {
   "cell_type": "code",
   "execution_count": 23,
   "id": "81efca9c",
   "metadata": {},
   "outputs": [
    {
     "data": {
      "text/html": [
       "<div>\n",
       "<style scoped>\n",
       "    .dataframe tbody tr th:only-of-type {\n",
       "        vertical-align: middle;\n",
       "    }\n",
       "\n",
       "    .dataframe tbody tr th {\n",
       "        vertical-align: top;\n",
       "    }\n",
       "\n",
       "    .dataframe thead th {\n",
       "        text-align: right;\n",
       "    }\n",
       "</style>\n",
       "<table border=\"1\" class=\"dataframe\">\n",
       "  <thead>\n",
       "    <tr style=\"text-align: right;\">\n",
       "      <th></th>\n",
       "      <th>user_id</th>\n",
       "      <th>month</th>\n",
       "      <th>total_msg</th>\n",
       "    </tr>\n",
       "  </thead>\n",
       "  <tbody>\n",
       "    <tr>\n",
       "      <th>866</th>\n",
       "      <td>1165</td>\n",
       "      <td>12</td>\n",
       "      <td>224</td>\n",
       "    </tr>\n",
       "    <tr>\n",
       "      <th>154</th>\n",
       "      <td>1028</td>\n",
       "      <td>10</td>\n",
       "      <td>223</td>\n",
       "    </tr>\n",
       "    <tr>\n",
       "      <th>1197</th>\n",
       "      <td>1231</td>\n",
       "      <td>7</td>\n",
       "      <td>211</td>\n",
       "    </tr>\n",
       "    <tr>\n",
       "      <th>1196</th>\n",
       "      <td>1231</td>\n",
       "      <td>6</td>\n",
       "      <td>201</td>\n",
       "    </tr>\n",
       "    <tr>\n",
       "      <th>865</th>\n",
       "      <td>1165</td>\n",
       "      <td>11</td>\n",
       "      <td>197</td>\n",
       "    </tr>\n",
       "  </tbody>\n",
       "</table>\n",
       "</div>"
      ],
      "text/plain": [
       "      user_id  month  total_msg\n",
       "866      1165     12        224\n",
       "154      1028     10        223\n",
       "1197     1231      7        211\n",
       "1196     1231      6        201\n",
       "865      1165     11        197"
      ]
     },
     "execution_count": 23,
     "metadata": {},
     "output_type": "execute_result"
    }
   ],
   "source": [
    "#сгруппируем данные в файле messages по месяцам и user_id, просуммируем по месяцам для дальнейшего объединения\n",
    "messages_grouped= messages.groupby(['user_id', 'message_month'])['id'].count().reset_index()\n",
    "messages_grouped.columns= ['user_id','month', 'total_msg']\n",
    "messages_grouped.sort_values(by='total_msg', ascending=False).head()"
   ]
  },
  {
   "cell_type": "code",
   "execution_count": 24,
   "id": "e87ba107",
   "metadata": {},
   "outputs": [
    {
     "data": {
      "text/html": [
       "<div>\n",
       "<style scoped>\n",
       "    .dataframe tbody tr th:only-of-type {\n",
       "        vertical-align: middle;\n",
       "    }\n",
       "\n",
       "    .dataframe tbody tr th {\n",
       "        vertical-align: top;\n",
       "    }\n",
       "\n",
       "    .dataframe thead th {\n",
       "        text-align: right;\n",
       "    }\n",
       "</style>\n",
       "<table border=\"1\" class=\"dataframe\">\n",
       "  <thead>\n",
       "    <tr style=\"text-align: right;\">\n",
       "      <th></th>\n",
       "      <th>user_id</th>\n",
       "      <th>age</th>\n",
       "      <th>churn_date</th>\n",
       "      <th>city</th>\n",
       "      <th>first_name</th>\n",
       "      <th>last_name</th>\n",
       "      <th>reg_date</th>\n",
       "      <th>tariff</th>\n",
       "    </tr>\n",
       "  </thead>\n",
       "  <tbody>\n",
       "    <tr>\n",
       "      <th>165</th>\n",
       "      <td>1165</td>\n",
       "      <td>19</td>\n",
       "      <td>NaN</td>\n",
       "      <td>Самара</td>\n",
       "      <td>Алексей</td>\n",
       "      <td>Медведев</td>\n",
       "      <td>2018-10-14</td>\n",
       "      <td>ultra</td>\n",
       "    </tr>\n",
       "  </tbody>\n",
       "</table>\n",
       "</div>"
      ],
      "text/plain": [
       "     user_id  age churn_date    city first_name last_name    reg_date tariff\n",
       "165     1165   19        NaN  Самара    Алексей  Медведев  2018-10-14  ultra"
      ]
     },
     "execution_count": 24,
     "metadata": {},
     "output_type": "execute_result"
    }
   ],
   "source": [
    "users.query('user_id == 1165')"
   ]
  },
  {
   "cell_type": "markdown",
   "id": "2f370360",
   "metadata": {},
   "source": [
    "Абонент 1165 - Алексей Медведев отправил больше всех сообщений в декабре 2018 года. 224 сообщения были отправлены из города Самара. \n",
    "В пакет тарифа `ultra` входит 1000 сообщений. 224 - это меее 25%. "
   ]
  },
  {
   "cell_type": "markdown",
   "id": "838cb820",
   "metadata": {},
   "source": [
    "Посчитаем для каждого пользователя: объем израсходованного интернет-трафика по месяцам."
   ]
  },
  {
   "cell_type": "code",
   "execution_count": 25,
   "id": "ec5726de",
   "metadata": {},
   "outputs": [
    {
     "data": {
      "text/html": [
       "<div>\n",
       "<style scoped>\n",
       "    .dataframe tbody tr th:only-of-type {\n",
       "        vertical-align: middle;\n",
       "    }\n",
       "\n",
       "    .dataframe tbody tr th {\n",
       "        vertical-align: top;\n",
       "    }\n",
       "\n",
       "    .dataframe thead th {\n",
       "        text-align: right;\n",
       "    }\n",
       "</style>\n",
       "<table border=\"1\" class=\"dataframe\">\n",
       "  <thead>\n",
       "    <tr style=\"text-align: right;\">\n",
       "      <th></th>\n",
       "      <th>user_id</th>\n",
       "      <th>month</th>\n",
       "      <th>gb_used</th>\n",
       "    </tr>\n",
       "  </thead>\n",
       "  <tbody>\n",
       "    <tr>\n",
       "      <th>799</th>\n",
       "      <td>1124</td>\n",
       "      <td>10</td>\n",
       "      <td>49.0</td>\n",
       "    </tr>\n",
       "    <tr>\n",
       "      <th>1524</th>\n",
       "      <td>1240</td>\n",
       "      <td>8</td>\n",
       "      <td>48.0</td>\n",
       "    </tr>\n",
       "    <tr>\n",
       "      <th>1622</th>\n",
       "      <td>1255</td>\n",
       "      <td>7</td>\n",
       "      <td>45.0</td>\n",
       "    </tr>\n",
       "    <tr>\n",
       "      <th>1901</th>\n",
       "      <td>1300</td>\n",
       "      <td>11</td>\n",
       "      <td>44.0</td>\n",
       "    </tr>\n",
       "    <tr>\n",
       "      <th>383</th>\n",
       "      <td>1060</td>\n",
       "      <td>12</td>\n",
       "      <td>43.0</td>\n",
       "    </tr>\n",
       "    <tr>\n",
       "      <th>159</th>\n",
       "      <td>1024</td>\n",
       "      <td>11</td>\n",
       "      <td>43.0</td>\n",
       "    </tr>\n",
       "    <tr>\n",
       "      <th>2413</th>\n",
       "      <td>1380</td>\n",
       "      <td>12</td>\n",
       "      <td>43.0</td>\n",
       "    </tr>\n",
       "    <tr>\n",
       "      <th>1528</th>\n",
       "      <td>1240</td>\n",
       "      <td>12</td>\n",
       "      <td>43.0</td>\n",
       "    </tr>\n",
       "    <tr>\n",
       "      <th>1521</th>\n",
       "      <td>1240</td>\n",
       "      <td>5</td>\n",
       "      <td>43.0</td>\n",
       "    </tr>\n",
       "    <tr>\n",
       "      <th>1164</th>\n",
       "      <td>1180</td>\n",
       "      <td>10</td>\n",
       "      <td>43.0</td>\n",
       "    </tr>\n",
       "  </tbody>\n",
       "</table>\n",
       "</div>"
      ],
      "text/plain": [
       "      user_id  month  gb_used\n",
       "799      1124     10     49.0\n",
       "1524     1240      8     48.0\n",
       "1622     1255      7     45.0\n",
       "1901     1300     11     44.0\n",
       "383      1060     12     43.0\n",
       "159      1024     11     43.0\n",
       "2413     1380     12     43.0\n",
       "1528     1240     12     43.0\n",
       "1521     1240      5     43.0\n",
       "1164     1180     10     43.0"
      ]
     },
     "execution_count": 25,
     "metadata": {},
     "output_type": "execute_result"
    }
   ],
   "source": [
    "#сгруппируем данные в файле internet по месяцам и user_id, просуммируем по месяцам для дальнейшего объединения\n",
    "internet_grouped = internet.groupby(['user_id', 'session_month'])['mb_used'].sum().reset_index()\n",
    "internet_grouped.columns = ['user_id','month', 'gb_used']\n",
    "\n",
    "#конвертируем мб в гб, и округлим до целых по каждому user_id по месяцам\n",
    "mb_per_gb=1024\n",
    "internet_grouped['gb_used']= (internet_grouped['gb_used']/mb_per_gb).apply(np.ceil)\n",
    "internet_grouped.sort_values(by='gb_used', ascending=False).head(10)"
   ]
  },
  {
   "cell_type": "code",
   "execution_count": 26,
   "id": "c7188a15",
   "metadata": {},
   "outputs": [
    {
     "data": {
      "text/html": [
       "<div>\n",
       "<style scoped>\n",
       "    .dataframe tbody tr th:only-of-type {\n",
       "        vertical-align: middle;\n",
       "    }\n",
       "\n",
       "    .dataframe tbody tr th {\n",
       "        vertical-align: top;\n",
       "    }\n",
       "\n",
       "    .dataframe thead th {\n",
       "        text-align: right;\n",
       "    }\n",
       "</style>\n",
       "<table border=\"1\" class=\"dataframe\">\n",
       "  <thead>\n",
       "    <tr style=\"text-align: right;\">\n",
       "      <th></th>\n",
       "      <th>user_id</th>\n",
       "      <th>age</th>\n",
       "      <th>churn_date</th>\n",
       "      <th>city</th>\n",
       "      <th>first_name</th>\n",
       "      <th>last_name</th>\n",
       "      <th>reg_date</th>\n",
       "      <th>tariff</th>\n",
       "    </tr>\n",
       "  </thead>\n",
       "  <tbody>\n",
       "    <tr>\n",
       "      <th>124</th>\n",
       "      <td>1124</td>\n",
       "      <td>54</td>\n",
       "      <td>NaN</td>\n",
       "      <td>Махачкала</td>\n",
       "      <td>Альбин</td>\n",
       "      <td>Андрианов</td>\n",
       "      <td>2018-09-24</td>\n",
       "      <td>ultra</td>\n",
       "    </tr>\n",
       "  </tbody>\n",
       "</table>\n",
       "</div>"
      ],
      "text/plain": [
       "     user_id  age churn_date       city first_name  last_name    reg_date  \\\n",
       "124     1124   54        NaN  Махачкала     Альбин  Андрианов  2018-09-24   \n",
       "\n",
       "    tariff  \n",
       "124  ultra  "
      ]
     },
     "execution_count": 26,
     "metadata": {},
     "output_type": "execute_result"
    }
   ],
   "source": [
    "users.query('user_id == 1124')"
   ]
  },
  {
   "cell_type": "markdown",
   "id": "ba376b85",
   "metadata": {},
   "source": [
    "Житель города Махачкала - Альбин Андрианов израсходовал максимальное количество интернета за месяц - 49, а это на 19 гб больше, чем входит в пакет тарифа `ultra`. 30 гб интернета, это много или мало? Нам предстоит выяснить, сколько в среднем используют интернет трафика абоненты двух тарифных планов."
   ]
  },
  {
   "cell_type": "code",
   "execution_count": 27,
   "id": "857c6227",
   "metadata": {},
   "outputs": [
    {
     "data": {
      "text/html": [
       "<div>\n",
       "<style scoped>\n",
       "    .dataframe tbody tr th:only-of-type {\n",
       "        vertical-align: middle;\n",
       "    }\n",
       "\n",
       "    .dataframe tbody tr th {\n",
       "        vertical-align: top;\n",
       "    }\n",
       "\n",
       "    .dataframe thead th {\n",
       "        text-align: right;\n",
       "    }\n",
       "</style>\n",
       "<table border=\"1\" class=\"dataframe\">\n",
       "  <thead>\n",
       "    <tr style=\"text-align: right;\">\n",
       "      <th></th>\n",
       "      <th>user_id</th>\n",
       "      <th>city</th>\n",
       "      <th>tariff</th>\n",
       "    </tr>\n",
       "  </thead>\n",
       "  <tbody>\n",
       "    <tr>\n",
       "      <th>0</th>\n",
       "      <td>1000</td>\n",
       "      <td>Краснодар</td>\n",
       "      <td>ultra</td>\n",
       "    </tr>\n",
       "    <tr>\n",
       "      <th>1</th>\n",
       "      <td>1001</td>\n",
       "      <td>Москва</td>\n",
       "      <td>smart</td>\n",
       "    </tr>\n",
       "    <tr>\n",
       "      <th>2</th>\n",
       "      <td>1002</td>\n",
       "      <td>Стерлитамак</td>\n",
       "      <td>smart</td>\n",
       "    </tr>\n",
       "    <tr>\n",
       "      <th>3</th>\n",
       "      <td>1003</td>\n",
       "      <td>Москва</td>\n",
       "      <td>ultra</td>\n",
       "    </tr>\n",
       "    <tr>\n",
       "      <th>4</th>\n",
       "      <td>1004</td>\n",
       "      <td>Новокузнецк</td>\n",
       "      <td>ultra</td>\n",
       "    </tr>\n",
       "  </tbody>\n",
       "</table>\n",
       "</div>"
      ],
      "text/plain": [
       "   user_id         city tariff\n",
       "0     1000    Краснодар  ultra\n",
       "1     1001       Москва  smart\n",
       "2     1002  Стерлитамак  smart\n",
       "3     1003       Москва  ultra\n",
       "4     1004  Новокузнецк  ultra"
      ]
     },
     "execution_count": 27,
     "metadata": {},
     "output_type": "execute_result"
    }
   ],
   "source": [
    "#из файла users выделим только нужные столбцы для дальнейшего анализа 'user_id', 'city', 'tariff'\n",
    "new_data = users[['user_id', 'city', 'tariff']]\n",
    "new_data.head()"
   ]
  },
  {
   "cell_type": "code",
   "execution_count": 28,
   "id": "ec1b725e",
   "metadata": {},
   "outputs": [
    {
     "data": {
      "text/html": [
       "<div>\n",
       "<style scoped>\n",
       "    .dataframe tbody tr th:only-of-type {\n",
       "        vertical-align: middle;\n",
       "    }\n",
       "\n",
       "    .dataframe tbody tr th {\n",
       "        vertical-align: top;\n",
       "    }\n",
       "\n",
       "    .dataframe thead th {\n",
       "        text-align: right;\n",
       "    }\n",
       "</style>\n",
       "<table border=\"1\" class=\"dataframe\">\n",
       "  <thead>\n",
       "    <tr style=\"text-align: right;\">\n",
       "      <th></th>\n",
       "      <th>user_id</th>\n",
       "      <th>city</th>\n",
       "      <th>tariff</th>\n",
       "      <th>month</th>\n",
       "      <th>total_msg</th>\n",
       "      <th>gb_used</th>\n",
       "      <th>total_duration</th>\n",
       "    </tr>\n",
       "  </thead>\n",
       "  <tbody>\n",
       "    <tr>\n",
       "      <th>0</th>\n",
       "      <td>1000</td>\n",
       "      <td>Краснодар</td>\n",
       "      <td>ultra</td>\n",
       "      <td>5.0</td>\n",
       "      <td>22.0</td>\n",
       "      <td>3.0</td>\n",
       "      <td>159.0</td>\n",
       "    </tr>\n",
       "    <tr>\n",
       "      <th>1</th>\n",
       "      <td>1000</td>\n",
       "      <td>Краснодар</td>\n",
       "      <td>ultra</td>\n",
       "      <td>6.0</td>\n",
       "      <td>60.0</td>\n",
       "      <td>23.0</td>\n",
       "      <td>172.0</td>\n",
       "    </tr>\n",
       "    <tr>\n",
       "      <th>2</th>\n",
       "      <td>1000</td>\n",
       "      <td>Краснодар</td>\n",
       "      <td>ultra</td>\n",
       "      <td>7.0</td>\n",
       "      <td>75.0</td>\n",
       "      <td>14.0</td>\n",
       "      <td>340.0</td>\n",
       "    </tr>\n",
       "    <tr>\n",
       "      <th>3</th>\n",
       "      <td>1000</td>\n",
       "      <td>Краснодар</td>\n",
       "      <td>ultra</td>\n",
       "      <td>8.0</td>\n",
       "      <td>81.0</td>\n",
       "      <td>14.0</td>\n",
       "      <td>408.0</td>\n",
       "    </tr>\n",
       "    <tr>\n",
       "      <th>4</th>\n",
       "      <td>1000</td>\n",
       "      <td>Краснодар</td>\n",
       "      <td>ultra</td>\n",
       "      <td>9.0</td>\n",
       "      <td>57.0</td>\n",
       "      <td>15.0</td>\n",
       "      <td>466.0</td>\n",
       "    </tr>\n",
       "  </tbody>\n",
       "</table>\n",
       "</div>"
      ],
      "text/plain": [
       "   user_id       city tariff  month  total_msg  gb_used  total_duration\n",
       "0     1000  Краснодар  ultra    5.0       22.0      3.0           159.0\n",
       "1     1000  Краснодар  ultra    6.0       60.0     23.0           172.0\n",
       "2     1000  Краснодар  ultra    7.0       75.0     14.0           340.0\n",
       "3     1000  Краснодар  ultra    8.0       81.0     14.0           408.0\n",
       "4     1000  Краснодар  ultra    9.0       57.0     15.0           466.0"
      ]
     },
     "execution_count": 28,
     "metadata": {},
     "output_type": "execute_result"
    }
   ],
   "source": [
    "#объединим наши файлы в один при помощи merge, используем метод outer, \n",
    "#чтобы ничего не потерять и заменим на 0, возникающие значения NaN\n",
    "df3 = pd.merge(messages_grouped,internet_grouped, on=[\"user_id\",\"month\"], how='outer').fillna(0)\n",
    "df4 = pd.merge(df3, calls_grouped, on=[\"user_id\", \"month\"], how='outer').fillna(0)\n",
    "data_merged = pd.merge(new_data, df4, on=[\"user_id\"], how='outer').fillna(0)\n",
    "data_merged.head()"
   ]
  },
  {
   "cell_type": "code",
   "execution_count": 29,
   "id": "8ef2ccef",
   "metadata": {},
   "outputs": [
    {
     "data": {
      "text/html": [
       "<div>\n",
       "<style scoped>\n",
       "    .dataframe tbody tr th:only-of-type {\n",
       "        vertical-align: middle;\n",
       "    }\n",
       "\n",
       "    .dataframe tbody tr th {\n",
       "        vertical-align: top;\n",
       "    }\n",
       "\n",
       "    .dataframe thead th {\n",
       "        text-align: right;\n",
       "    }\n",
       "</style>\n",
       "<table border=\"1\" class=\"dataframe\">\n",
       "  <thead>\n",
       "    <tr style=\"text-align: right;\">\n",
       "      <th></th>\n",
       "      <th>count</th>\n",
       "      <th>mean</th>\n",
       "      <th>std</th>\n",
       "      <th>min</th>\n",
       "      <th>25%</th>\n",
       "      <th>50%</th>\n",
       "      <th>75%</th>\n",
       "      <th>max</th>\n",
       "    </tr>\n",
       "  </thead>\n",
       "  <tbody>\n",
       "    <tr>\n",
       "      <th>user_id</th>\n",
       "      <td>3216.0</td>\n",
       "      <td>1251.588930</td>\n",
       "      <td>144.645928</td>\n",
       "      <td>1000.0</td>\n",
       "      <td>1125.0</td>\n",
       "      <td>1253.0</td>\n",
       "      <td>1378.25</td>\n",
       "      <td>1499.0</td>\n",
       "    </tr>\n",
       "    <tr>\n",
       "      <th>month</th>\n",
       "      <td>3216.0</td>\n",
       "      <td>8.312189</td>\n",
       "      <td>2.911903</td>\n",
       "      <td>0.0</td>\n",
       "      <td>6.0</td>\n",
       "      <td>9.0</td>\n",
       "      <td>11.00</td>\n",
       "      <td>12.0</td>\n",
       "    </tr>\n",
       "    <tr>\n",
       "      <th>total_msg</th>\n",
       "      <td>3216.0</td>\n",
       "      <td>38.257463</td>\n",
       "      <td>36.149684</td>\n",
       "      <td>0.0</td>\n",
       "      <td>9.0</td>\n",
       "      <td>30.0</td>\n",
       "      <td>57.00</td>\n",
       "      <td>224.0</td>\n",
       "    </tr>\n",
       "    <tr>\n",
       "      <th>gb_used</th>\n",
       "      <td>3216.0</td>\n",
       "      <td>17.288246</td>\n",
       "      <td>7.410845</td>\n",
       "      <td>0.0</td>\n",
       "      <td>13.0</td>\n",
       "      <td>17.0</td>\n",
       "      <td>21.00</td>\n",
       "      <td>49.0</td>\n",
       "    </tr>\n",
       "    <tr>\n",
       "      <th>total_duration</th>\n",
       "      <td>3216.0</td>\n",
       "      <td>450.964241</td>\n",
       "      <td>242.096312</td>\n",
       "      <td>0.0</td>\n",
       "      <td>282.0</td>\n",
       "      <td>443.0</td>\n",
       "      <td>589.00</td>\n",
       "      <td>1673.0</td>\n",
       "    </tr>\n",
       "  </tbody>\n",
       "</table>\n",
       "</div>"
      ],
      "text/plain": [
       "                 count         mean         std     min     25%     50%  \\\n",
       "user_id         3216.0  1251.588930  144.645928  1000.0  1125.0  1253.0   \n",
       "month           3216.0     8.312189    2.911903     0.0     6.0     9.0   \n",
       "total_msg       3216.0    38.257463   36.149684     0.0     9.0    30.0   \n",
       "gb_used         3216.0    17.288246    7.410845     0.0    13.0    17.0   \n",
       "total_duration  3216.0   450.964241  242.096312     0.0   282.0   443.0   \n",
       "\n",
       "                    75%     max  \n",
       "user_id         1378.25  1499.0  \n",
       "month             11.00    12.0  \n",
       "total_msg         57.00   224.0  \n",
       "gb_used           21.00    49.0  \n",
       "total_duration   589.00  1673.0  "
      ]
     },
     "execution_count": 29,
     "metadata": {},
     "output_type": "execute_result"
    }
   ],
   "source": [
    "#проверим, что все в порядке\n",
    "data_merged.describe().T"
   ]
  },
  {
   "cell_type": "code",
   "execution_count": 30,
   "id": "b40fac46",
   "metadata": {},
   "outputs": [
    {
     "data": {
      "text/html": [
       "<div>\n",
       "<style scoped>\n",
       "    .dataframe tbody tr th:only-of-type {\n",
       "        vertical-align: middle;\n",
       "    }\n",
       "\n",
       "    .dataframe tbody tr th {\n",
       "        vertical-align: top;\n",
       "    }\n",
       "\n",
       "    .dataframe thead th {\n",
       "        text-align: right;\n",
       "    }\n",
       "</style>\n",
       "<table border=\"1\" class=\"dataframe\">\n",
       "  <thead>\n",
       "    <tr style=\"text-align: right;\">\n",
       "      <th></th>\n",
       "      <th>user_id</th>\n",
       "      <th>city</th>\n",
       "      <th>tariff</th>\n",
       "      <th>month</th>\n",
       "      <th>total_msg</th>\n",
       "      <th>gb_used</th>\n",
       "      <th>total_duration</th>\n",
       "    </tr>\n",
       "  </thead>\n",
       "  <tbody>\n",
       "    <tr>\n",
       "      <th>827</th>\n",
       "      <td>1128</td>\n",
       "      <td>Волжский</td>\n",
       "      <td>ultra</td>\n",
       "      <td>0.0</td>\n",
       "      <td>0.0</td>\n",
       "      <td>0.0</td>\n",
       "      <td>0.0</td>\n",
       "    </tr>\n",
       "    <tr>\n",
       "      <th>2335</th>\n",
       "      <td>1371</td>\n",
       "      <td>Омск</td>\n",
       "      <td>smart</td>\n",
       "      <td>0.0</td>\n",
       "      <td>0.0</td>\n",
       "      <td>0.0</td>\n",
       "      <td>0.0</td>\n",
       "    </tr>\n",
       "  </tbody>\n",
       "</table>\n",
       "</div>"
      ],
      "text/plain": [
       "      user_id      city tariff  month  total_msg  gb_used  total_duration\n",
       "827      1128  Волжский  ultra    0.0        0.0      0.0             0.0\n",
       "2335     1371      Омск  smart    0.0        0.0      0.0             0.0"
      ]
     },
     "execution_count": 30,
     "metadata": {},
     "output_type": "execute_result"
    }
   ],
   "source": [
    "#после слияния появился месяц 0, посмотрим что в нем\n",
    "data_merged.query('user_id==1128 or user_id==1371')"
   ]
  },
  {
   "cell_type": "code",
   "execution_count": 31,
   "id": "b3252d07",
   "metadata": {},
   "outputs": [
    {
     "data": {
      "text/html": [
       "<div>\n",
       "<style scoped>\n",
       "    .dataframe tbody tr th:only-of-type {\n",
       "        vertical-align: middle;\n",
       "    }\n",
       "\n",
       "    .dataframe tbody tr th {\n",
       "        vertical-align: top;\n",
       "    }\n",
       "\n",
       "    .dataframe thead th {\n",
       "        text-align: right;\n",
       "    }\n",
       "</style>\n",
       "<table border=\"1\" class=\"dataframe\">\n",
       "  <thead>\n",
       "    <tr style=\"text-align: right;\">\n",
       "      <th></th>\n",
       "      <th>user_id</th>\n",
       "      <th>age</th>\n",
       "      <th>churn_date</th>\n",
       "      <th>city</th>\n",
       "      <th>first_name</th>\n",
       "      <th>last_name</th>\n",
       "      <th>reg_date</th>\n",
       "      <th>tariff</th>\n",
       "    </tr>\n",
       "  </thead>\n",
       "  <tbody>\n",
       "    <tr>\n",
       "      <th>128</th>\n",
       "      <td>1128</td>\n",
       "      <td>51</td>\n",
       "      <td>2018-12-23</td>\n",
       "      <td>Волжский</td>\n",
       "      <td>Ксения</td>\n",
       "      <td>Агаева</td>\n",
       "      <td>2018-12-15</td>\n",
       "      <td>ultra</td>\n",
       "    </tr>\n",
       "    <tr>\n",
       "      <th>371</th>\n",
       "      <td>1371</td>\n",
       "      <td>50</td>\n",
       "      <td>2018-12-30</td>\n",
       "      <td>Омск</td>\n",
       "      <td>Ириней</td>\n",
       "      <td>Трофимов</td>\n",
       "      <td>2018-12-25</td>\n",
       "      <td>smart</td>\n",
       "    </tr>\n",
       "  </tbody>\n",
       "</table>\n",
       "</div>"
      ],
      "text/plain": [
       "     user_id  age  churn_date      city first_name last_name    reg_date  \\\n",
       "128     1128   51  2018-12-23  Волжский     Ксения    Агаева  2018-12-15   \n",
       "371     1371   50  2018-12-30      Омск     Ириней  Трофимов  2018-12-25   \n",
       "\n",
       "    tariff  \n",
       "128  ultra  \n",
       "371  smart  "
      ]
     },
     "execution_count": 31,
     "metadata": {},
     "output_type": "execute_result"
    }
   ],
   "source": [
    "#посмотрим оригинальные данные по этим user_id\n",
    "users.query('user_id==1128 or user_id==1371')"
   ]
  },
  {
   "cell_type": "markdown",
   "id": "1998d230",
   "metadata": {},
   "source": [
    "Абоненты 1128 и 1371 подключились в декабре и фактически не пользовались пакетами, входящими в тарифный план. При слиянии эти абоненты добавились в общую таблицу, но так как в других таблицах по ним нет данных, то все остальные столбцы заполнились нулевыми значениями. По умолчанию абонентскую плату удерживается, даже если не использоваться услугами, поэтому не будем их исключать из общей таблицы, сменим месяц с 0 на 12."
   ]
  },
  {
   "cell_type": "code",
   "execution_count": 32,
   "id": "f92b78e9",
   "metadata": {},
   "outputs": [
    {
     "data": {
      "text/html": [
       "<div>\n",
       "<style scoped>\n",
       "    .dataframe tbody tr th:only-of-type {\n",
       "        vertical-align: middle;\n",
       "    }\n",
       "\n",
       "    .dataframe tbody tr th {\n",
       "        vertical-align: top;\n",
       "    }\n",
       "\n",
       "    .dataframe thead th {\n",
       "        text-align: right;\n",
       "    }\n",
       "</style>\n",
       "<table border=\"1\" class=\"dataframe\">\n",
       "  <thead>\n",
       "    <tr style=\"text-align: right;\">\n",
       "      <th></th>\n",
       "      <th>user_id</th>\n",
       "      <th>city</th>\n",
       "      <th>tariff</th>\n",
       "      <th>month</th>\n",
       "      <th>total_msg</th>\n",
       "      <th>gb_used</th>\n",
       "      <th>total_duration</th>\n",
       "    </tr>\n",
       "  </thead>\n",
       "  <tbody>\n",
       "    <tr>\n",
       "      <th>827</th>\n",
       "      <td>1128</td>\n",
       "      <td>Волжский</td>\n",
       "      <td>ultra</td>\n",
       "      <td>12.0</td>\n",
       "      <td>0.0</td>\n",
       "      <td>0.0</td>\n",
       "      <td>0.0</td>\n",
       "    </tr>\n",
       "    <tr>\n",
       "      <th>2335</th>\n",
       "      <td>1371</td>\n",
       "      <td>Омск</td>\n",
       "      <td>smart</td>\n",
       "      <td>12.0</td>\n",
       "      <td>0.0</td>\n",
       "      <td>0.0</td>\n",
       "      <td>0.0</td>\n",
       "    </tr>\n",
       "  </tbody>\n",
       "</table>\n",
       "</div>"
      ],
      "text/plain": [
       "      user_id      city tariff  month  total_msg  gb_used  total_duration\n",
       "827      1128  Волжский  ultra   12.0        0.0      0.0             0.0\n",
       "2335     1371      Омск  smart   12.0        0.0      0.0             0.0"
      ]
     },
     "execution_count": 32,
     "metadata": {},
     "output_type": "execute_result"
    }
   ],
   "source": [
    "data_merged.loc[(data_merged['user_id'] == 1128) | (data_merged['user_id'] == 1371),'month'] = 12\n",
    "data_merged.query('user_id==1128 or user_id==1371')"
   ]
  },
  {
   "cell_type": "code",
   "execution_count": 33,
   "id": "ad67e635",
   "metadata": {},
   "outputs": [
    {
     "name": "stdout",
     "output_type": "stream",
     "text": [
      "<class 'pandas.core.frame.DataFrame'>\n",
      "Int64Index: 3216 entries, 0 to 3215\n",
      "Data columns (total 7 columns):\n",
      " #   Column          Non-Null Count  Dtype   \n",
      "---  ------          --------------  -----   \n",
      " 0   user_id         3216 non-null   int64   \n",
      " 1   city            3216 non-null   object  \n",
      " 2   tariff          3216 non-null   category\n",
      " 3   month           3216 non-null   category\n",
      " 4   total_msg       3216 non-null   int16   \n",
      " 5   gb_used         3216 non-null   int8    \n",
      " 6   total_duration  3216 non-null   int16   \n",
      "dtypes: category(2), int16(2), int64(1), int8(1), object(1)\n",
      "memory usage: 97.9+ KB\n"
     ]
    }
   ],
   "source": [
    "#преобразуем столбец 'month'и'tariff' в category при помощи astype, \n",
    "#остальные в int, при помощи try/except методом to_numeric\n",
    "\n",
    "columns = ['total_msg', 'gb_used', 'total_duration', 'month']\n",
    "for column in columns:\n",
    "    try:\n",
    "        data_merged[column] = pd.to_numeric(data_merged[column], downcast=\"integer\")\n",
    "    except:\n",
    "        print(f'Не получается преобразовать {column} в int!')\n",
    "\n",
    "data_merged['month'] = data_merged['month'].astype('category')\n",
    "data_merged['tariff'] = data_merged['tariff'].astype('category')\n",
    "\n",
    "data_merged.info() "
   ]
  },
  {
   "cell_type": "markdown",
   "id": "9d960c20",
   "metadata": {},
   "source": [
    "Удалось преобразовать данные и уменьшить их размер на 51%."
   ]
  },
  {
   "cell_type": "markdown",
   "id": "b29d523f",
   "metadata": {},
   "source": [
    "Проверим, что итоговые суммы по столбцам `gb_used`,`total_duration` и `total_msg` не изменились после слияния."
   ]
  },
  {
   "cell_type": "code",
   "execution_count": 34,
   "id": "8296a447",
   "metadata": {},
   "outputs": [
    {
     "data": {
      "text/plain": [
       "(55599, 55599.0)"
      ]
     },
     "execution_count": 34,
     "metadata": {},
     "output_type": "execute_result"
    }
   ],
   "source": [
    "data_merged['gb_used'].sum(), internet_grouped['gb_used'].sum()"
   ]
  },
  {
   "cell_type": "code",
   "execution_count": 35,
   "id": "085d3bec",
   "metadata": {},
   "outputs": [
    {
     "data": {
      "text/plain": [
       "(1450301, 1450301.0)"
      ]
     },
     "execution_count": 35,
     "metadata": {},
     "output_type": "execute_result"
    }
   ],
   "source": [
    "data_merged['total_duration'].sum(), calls_grouped['total_duration'].sum()"
   ]
  },
  {
   "cell_type": "code",
   "execution_count": 36,
   "id": "be6b819d",
   "metadata": {},
   "outputs": [
    {
     "data": {
      "text/plain": [
       "(123036, 123036)"
      ]
     },
     "execution_count": 36,
     "metadata": {},
     "output_type": "execute_result"
    }
   ],
   "source": [
    "data_merged['total_msg'].sum(), messages_grouped['total_msg'].sum()"
   ]
  },
  {
   "cell_type": "markdown",
   "id": "69c31c72",
   "metadata": {},
   "source": [
    "### Вывод\n",
    "<a id='2.3'></a>"
   ]
  },
  {
   "cell_type": "markdown",
   "id": "41b449ad",
   "metadata": {},
   "source": [
    "- Подготовили все данные для дальнейшего анализа, оставили только нужные данные, привели к целым числам там, где было нужно, изменили тип данных\n",
    "- Посчитали для каждого пользователя: количество сделанных звонков и израсходованных минут разговора по месяцам. Выяснили, что за год никому не удалось выговорить минуты по тарифному плану `ultra`. Максимальное значение - 1673.0 минуты для тп 244 звонка. \n",
    "- Посчитали для каждого пользователя: количество отправленных сообщений по месяцам. Больше всех сообщений было отправлено в декабре 2018 года, всего 224 сообщения. В пакет тарифа `ultra` входит 1000 сообщений. 224 - это меее 25%.\n",
    "- Посчитали для каждого пользователя: объем израсходованного интернет-трафика по месяцам. Рекородное количество за год - 49, это на 19 ГБ больше, чем входит в пакет тарифа `ultra`. 30 гб интернета, это много или мало? \n",
    "- Из файла users выделили только нужные столбцы для дальнейшего анализа `user_id`, `city`, `tariff`\n",
    "- Объединили файлы в одну таблицу при помощи merge"
   ]
  },
  {
   "cell_type": "markdown",
   "id": "a16e4fe7",
   "metadata": {},
   "source": [
    "## Шаг 3 Анализ и описание данных\n",
    "<a id='3'></a>"
   ]
  },
  {
   "cell_type": "markdown",
   "id": "08bfda42",
   "metadata": {},
   "source": [
    "Посчитаем для каждого пользователя: \n",
    "- помесячную выручку с каждого пользователя (вычтим бесплатный лимит из суммарного количества звонков, сообщений и интернет-трафика; остаток умножем на значение из тарифного плана; прибавим абонентскую плату, соответствующую тарифному плану)"
   ]
  },
  {
   "cell_type": "code",
   "execution_count": 37,
   "id": "c6c09628",
   "metadata": {},
   "outputs": [
    {
     "data": {
      "text/html": [
       "<div>\n",
       "<style scoped>\n",
       "    .dataframe tbody tr th:only-of-type {\n",
       "        vertical-align: middle;\n",
       "    }\n",
       "\n",
       "    .dataframe tbody tr th {\n",
       "        vertical-align: top;\n",
       "    }\n",
       "\n",
       "    .dataframe thead th {\n",
       "        text-align: right;\n",
       "    }\n",
       "</style>\n",
       "<table border=\"1\" class=\"dataframe\">\n",
       "  <thead>\n",
       "    <tr style=\"text-align: right;\">\n",
       "      <th></th>\n",
       "      <th>messages_included</th>\n",
       "      <th>mb_per_month_included</th>\n",
       "      <th>minutes_included</th>\n",
       "      <th>rub_monthly_fee</th>\n",
       "      <th>rub_per_gb</th>\n",
       "      <th>rub_per_message</th>\n",
       "      <th>rub_per_minute</th>\n",
       "      <th>tariff_name</th>\n",
       "    </tr>\n",
       "  </thead>\n",
       "  <tbody>\n",
       "    <tr>\n",
       "      <th>0</th>\n",
       "      <td>50</td>\n",
       "      <td>15360</td>\n",
       "      <td>500</td>\n",
       "      <td>550</td>\n",
       "      <td>200</td>\n",
       "      <td>3</td>\n",
       "      <td>3</td>\n",
       "      <td>smart</td>\n",
       "    </tr>\n",
       "    <tr>\n",
       "      <th>1</th>\n",
       "      <td>1000</td>\n",
       "      <td>30720</td>\n",
       "      <td>3000</td>\n",
       "      <td>1950</td>\n",
       "      <td>150</td>\n",
       "      <td>1</td>\n",
       "      <td>1</td>\n",
       "      <td>ultra</td>\n",
       "    </tr>\n",
       "  </tbody>\n",
       "</table>\n",
       "</div>"
      ],
      "text/plain": [
       "   messages_included  mb_per_month_included  minutes_included  \\\n",
       "0                 50                  15360               500   \n",
       "1               1000                  30720              3000   \n",
       "\n",
       "   rub_monthly_fee  rub_per_gb  rub_per_message  rub_per_minute tariff_name  \n",
       "0              550         200                3               3       smart  \n",
       "1             1950         150                1               1       ultra  "
      ]
     },
     "execution_count": 37,
     "metadata": {},
     "output_type": "execute_result"
    }
   ],
   "source": [
    "tariffs.head()"
   ]
  },
  {
   "cell_type": "code",
   "execution_count": 38,
   "id": "5e2fcba8",
   "metadata": {},
   "outputs": [
    {
     "data": {
      "text/html": [
       "<div>\n",
       "<style scoped>\n",
       "    .dataframe tbody tr th:only-of-type {\n",
       "        vertical-align: middle;\n",
       "    }\n",
       "\n",
       "    .dataframe tbody tr th {\n",
       "        vertical-align: top;\n",
       "    }\n",
       "\n",
       "    .dataframe thead th {\n",
       "        text-align: right;\n",
       "    }\n",
       "</style>\n",
       "<table border=\"1\" class=\"dataframe\">\n",
       "  <thead>\n",
       "    <tr style=\"text-align: right;\">\n",
       "      <th></th>\n",
       "      <th>user_id</th>\n",
       "      <th>city</th>\n",
       "      <th>tariff</th>\n",
       "      <th>month</th>\n",
       "      <th>total_msg</th>\n",
       "      <th>gb_used</th>\n",
       "      <th>total_duration</th>\n",
       "      <th>bill</th>\n",
       "    </tr>\n",
       "  </thead>\n",
       "  <tbody>\n",
       "    <tr>\n",
       "      <th>3143</th>\n",
       "      <td>1486</td>\n",
       "      <td>Нижний Новгород</td>\n",
       "      <td>smart</td>\n",
       "      <td>12</td>\n",
       "      <td>83</td>\n",
       "      <td>38</td>\n",
       "      <td>1007</td>\n",
       "      <td>6770.0</td>\n",
       "    </tr>\n",
       "    <tr>\n",
       "      <th>260</th>\n",
       "      <td>1042</td>\n",
       "      <td>Хабаровск</td>\n",
       "      <td>smart</td>\n",
       "      <td>12</td>\n",
       "      <td>75</td>\n",
       "      <td>37</td>\n",
       "      <td>728</td>\n",
       "      <td>5709.0</td>\n",
       "    </tr>\n",
       "    <tr>\n",
       "      <th>3142</th>\n",
       "      <td>1486</td>\n",
       "      <td>Нижний Новгород</td>\n",
       "      <td>smart</td>\n",
       "      <td>11</td>\n",
       "      <td>96</td>\n",
       "      <td>36</td>\n",
       "      <td>764</td>\n",
       "      <td>5680.0</td>\n",
       "    </tr>\n",
       "    <tr>\n",
       "      <th>1648</th>\n",
       "      <td>1261</td>\n",
       "      <td>Казань</td>\n",
       "      <td>smart</td>\n",
       "      <td>12</td>\n",
       "      <td>22</td>\n",
       "      <td>32</td>\n",
       "      <td>1074</td>\n",
       "      <td>5672.0</td>\n",
       "    </tr>\n",
       "    <tr>\n",
       "      <th>1819</th>\n",
       "      <td>1286</td>\n",
       "      <td>Москва</td>\n",
       "      <td>smart</td>\n",
       "      <td>12</td>\n",
       "      <td>68</td>\n",
       "      <td>35</td>\n",
       "      <td>739</td>\n",
       "      <td>5321.0</td>\n",
       "    </tr>\n",
       "    <tr>\n",
       "      <th>1017</th>\n",
       "      <td>1159</td>\n",
       "      <td>Красноярск</td>\n",
       "      <td>smart</td>\n",
       "      <td>12</td>\n",
       "      <td>2</td>\n",
       "      <td>35</td>\n",
       "      <td>734</td>\n",
       "      <td>5252.0</td>\n",
       "    </tr>\n",
       "    <tr>\n",
       "      <th>623</th>\n",
       "      <td>1098</td>\n",
       "      <td>Челябинск</td>\n",
       "      <td>smart</td>\n",
       "      <td>12</td>\n",
       "      <td>14</td>\n",
       "      <td>36</td>\n",
       "      <td>588</td>\n",
       "      <td>5014.0</td>\n",
       "    </tr>\n",
       "    <tr>\n",
       "      <th>799</th>\n",
       "      <td>1124</td>\n",
       "      <td>Махачкала</td>\n",
       "      <td>ultra</td>\n",
       "      <td>10</td>\n",
       "      <td>121</td>\n",
       "      <td>49</td>\n",
       "      <td>1225</td>\n",
       "      <td>4800.0</td>\n",
       "    </tr>\n",
       "  </tbody>\n",
       "</table>\n",
       "</div>"
      ],
      "text/plain": [
       "      user_id             city tariff month  total_msg  gb_used  \\\n",
       "3143     1486  Нижний Новгород  smart    12         83       38   \n",
       "260      1042        Хабаровск  smart    12         75       37   \n",
       "3142     1486  Нижний Новгород  smart    11         96       36   \n",
       "1648     1261           Казань  smart    12         22       32   \n",
       "1819     1286           Москва  smart    12         68       35   \n",
       "1017     1159       Красноярск  smart    12          2       35   \n",
       "623      1098        Челябинск  smart    12         14       36   \n",
       "799      1124        Махачкала  ultra    10        121       49   \n",
       "\n",
       "      total_duration    bill  \n",
       "3143            1007  6770.0  \n",
       "260              728  5709.0  \n",
       "3142             764  5680.0  \n",
       "1648            1074  5672.0  \n",
       "1819             739  5321.0  \n",
       "1017             734  5252.0  \n",
       "623              588  5014.0  \n",
       "799             1225  4800.0  "
      ]
     },
     "execution_count": 38,
     "metadata": {},
     "output_type": "execute_result"
    }
   ],
   "source": [
    "#создадим словарь с тарифами, чтобы брать значения из таблицы tariffs\n",
    "tariff_dict = tariffs.to_dict()\n",
    "\n",
    "#создаем функцию bill_total, которая будет считать истрачен ли лимит по тарифу и \n",
    "#суммировать значения сверх лимита\n",
    "def bill_total(row):\n",
    "    tariff_idx = 1 if row['tariff'] == 'ultra' else 0\n",
    "\n",
    "    duration_diff = row['total_duration'] - tariff_dict['minutes_included'][tariff_idx]\n",
    "    internet_diff = row['gb_used'] - (tariff_dict['mb_per_month_included'][tariff_idx]/1024)\n",
    "    message_diff = row['total_msg'] - tariff_dict['messages_included'][tariff_idx]\n",
    "\n",
    "    duration_calc = duration_diff * tariff_dict['rub_per_minute'][tariff_idx] if duration_diff>0 else 0\n",
    "    internet_calc = internet_diff * tariff_dict['rub_per_gb'][tariff_idx] if internet_diff>0 else 0\n",
    "    message_calc = message_diff * tariff_dict['rub_per_message'][tariff_idx] if message_diff>0 else 0\n",
    "    \n",
    "    return duration_calc + internet_calc + message_calc + tariff_dict['rub_monthly_fee'][tariff_idx]\n",
    "\n",
    "#добавим новый столбец и применим функцию с помощью apply\n",
    "data_merged['bill']=data_merged.apply(bill_total, axis=1)\n",
    "\n",
    "#убедимся, что функция все считает корректно\n",
    "data_merged.sort_values(by='bill', ascending=False).head(8)"
   ]
  },
  {
   "cell_type": "markdown",
   "id": "4e65c1c6",
   "metadata": {},
   "source": [
    "- Максимальная выручка составила - 6770 на тарифном плане `smart`. На тп `ultra` при таком же объеме трафика сумма выручки составила бы 3150 рублей, это меньше на 53%. \n",
    "- На тп `ultra` максимальная выручка составила 4800 рублей, при перерасходе интернет-трафика на 19 гб."
   ]
  },
  {
   "cell_type": "markdown",
   "id": "bc12dde4",
   "metadata": {},
   "source": [
    "Опишем поведение клиентов, исходя из выборки. Сколько минут разговора, сколько сообщений и какой объём интернет-трафика требуется пользователям каждого тарифа в месяц? \n",
    "- Посчитаем среднее количество, дисперсию и стандартное отклонение. \n",
    "- Построем гистограммы. \n",
    "- Опишем распределения."
   ]
  },
  {
   "cell_type": "code",
   "execution_count": 39,
   "id": "f690f778",
   "metadata": {},
   "outputs": [],
   "source": [
    "#зададим переменные, в которых будут храниться срезы для тарифов ultra и smart\n",
    "ultra_users = data_merged.loc[data_merged['tariff']=='ultra']\n",
    "smart_users = data_merged.loc[data_merged['tariff']=='smart']"
   ]
  },
  {
   "cell_type": "markdown",
   "id": "7a99e665",
   "metadata": {},
   "source": [
    "Посчитаем среднее количество минут, дисперсию и стандартное отклонение для длительности звонков"
   ]
  },
  {
   "cell_type": "code",
   "execution_count": 40,
   "id": "14eb502d",
   "metadata": {},
   "outputs": [
    {
     "data": {
      "text/html": [
       "<div>\n",
       "<style scoped>\n",
       "    .dataframe tbody tr th:only-of-type {\n",
       "        vertical-align: middle;\n",
       "    }\n",
       "\n",
       "    .dataframe tbody tr th {\n",
       "        vertical-align: top;\n",
       "    }\n",
       "\n",
       "    .dataframe thead th {\n",
       "        text-align: right;\n",
       "    }\n",
       "</style>\n",
       "<table border=\"1\" class=\"dataframe\">\n",
       "  <thead>\n",
       "    <tr style=\"text-align: right;\">\n",
       "      <th></th>\n",
       "      <th>duration_var</th>\n",
       "      <th>std</th>\n",
       "      <th>mean</th>\n",
       "    </tr>\n",
       "    <tr>\n",
       "      <th>tariff</th>\n",
       "      <th></th>\n",
       "      <th></th>\n",
       "      <th></th>\n",
       "    </tr>\n",
       "  </thead>\n",
       "  <tbody>\n",
       "    <tr>\n",
       "      <th>smart</th>\n",
       "      <td>36281.0</td>\n",
       "      <td>190.0</td>\n",
       "      <td>418.0</td>\n",
       "    </tr>\n",
       "    <tr>\n",
       "      <th>ultra</th>\n",
       "      <td>101052.0</td>\n",
       "      <td>318.0</td>\n",
       "      <td>526.0</td>\n",
       "    </tr>\n",
       "  </tbody>\n",
       "</table>\n",
       "</div>"
      ],
      "text/plain": [
       "        duration_var    std   mean\n",
       "tariff                            \n",
       "smart        36281.0  190.0  418.0\n",
       "ultra       101052.0  318.0  526.0"
      ]
     },
     "execution_count": 40,
     "metadata": {},
     "output_type": "execute_result"
    }
   ],
   "source": [
    "#посчитаем среднее количество, дисперсию и стандартное отклонение для продолжительности звонков\n",
    "report_duration=data_merged.pivot_table(index = 'tariff', values = 'total_duration', aggfunc = ['var', 'std', 'mean']).round(0)\n",
    "report_duration.columns=['duration_var','std','mean']\n",
    "report_duration                  "
   ]
  },
  {
   "cell_type": "markdown",
   "id": "c9deda67",
   "metadata": {},
   "source": [
    "Построем гистограммы для длительности звонков"
   ]
  },
  {
   "cell_type": "code",
   "execution_count": 41,
   "id": "b6b3d3bf",
   "metadata": {
    "scrolled": true
   },
   "outputs": [
    {
     "data": {
      "image/png": "[encoded data removed]",
      "text/plain": [
       "<Figure size 1152x360 with 2 Axes>"
      ]
     },
     "metadata": {
      "needs_background": "light"
     },
     "output_type": "display_data"
    }
   ],
   "source": [
    "#построим гистограммы распределения для продолжительности звонков\n",
    "fig, axes = plt.subplots(1,2, figsize=(16,5))\n",
    "\n",
    "ultra_users['total_duration'].hist(bins=20, range=(0,1800), ax=axes[0])\n",
    "axes[0].set_title('Распределение для продолжительности звонков на тп ULTRA')\n",
    "\n",
    "smart_users['total_duration'].hist(bins=20, range=(0,1800), ax=axes[1])\n",
    "axes[1].set_title('Распределение для продолжительности звонков на тп SMART')\n",
    "\n",
    "plt.show()"
   ]
  },
  {
   "cell_type": "markdown",
   "id": "15243c55",
   "metadata": {},
   "source": [
    "- Дисперсия и стандартное отклонение по продолжительности звонков для `ultra` больше, чем для `smart`. По гистограмме можно увидеть, что данные по длительности звонков больше \"размазаны\" для тп `ultra`, \"хвост\" больше растянут. \n",
    "- Распределение для тп `smart` ближе к нормальному, а для тп `ultra` скошены вправо. Среднее значение на обоих тп не превышает 500 включенных минут для тп smart. \n",
    "____"
   ]
  },
  {
   "cell_type": "markdown",
   "id": "3ded052e",
   "metadata": {},
   "source": [
    "Посчитаем среднее количество гигабайт, дисперсию и стандартное отклонение для интернет-трафика."
   ]
  },
  {
   "cell_type": "code",
   "execution_count": 42,
   "id": "b166cae6",
   "metadata": {},
   "outputs": [
    {
     "data": {
      "text/html": [
       "<div>\n",
       "<style scoped>\n",
       "    .dataframe tbody tr th:only-of-type {\n",
       "        vertical-align: middle;\n",
       "    }\n",
       "\n",
       "    .dataframe tbody tr th {\n",
       "        vertical-align: top;\n",
       "    }\n",
       "\n",
       "    .dataframe thead th {\n",
       "        text-align: right;\n",
       "    }\n",
       "</style>\n",
       "<table border=\"1\" class=\"dataframe\">\n",
       "  <thead>\n",
       "    <tr style=\"text-align: right;\">\n",
       "      <th></th>\n",
       "      <th>internet_var</th>\n",
       "      <th>std</th>\n",
       "      <th>mean</th>\n",
       "    </tr>\n",
       "    <tr>\n",
       "      <th>tariff</th>\n",
       "      <th></th>\n",
       "      <th></th>\n",
       "      <th></th>\n",
       "    </tr>\n",
       "  </thead>\n",
       "  <tbody>\n",
       "    <tr>\n",
       "      <th>smart</th>\n",
       "      <td>33.0</td>\n",
       "      <td>6.0</td>\n",
       "      <td>16.0</td>\n",
       "    </tr>\n",
       "    <tr>\n",
       "      <th>ultra</th>\n",
       "      <td>97.0</td>\n",
       "      <td>10.0</td>\n",
       "      <td>19.0</td>\n",
       "    </tr>\n",
       "  </tbody>\n",
       "</table>\n",
       "</div>"
      ],
      "text/plain": [
       "        internet_var   std  mean\n",
       "tariff                          \n",
       "smart           33.0   6.0  16.0\n",
       "ultra           97.0  10.0  19.0"
      ]
     },
     "execution_count": 42,
     "metadata": {},
     "output_type": "execute_result"
    }
   ],
   "source": [
    "#посчитаем среднее количество, дисперсию и стандартное отклонение для использованного интернет-трафика\n",
    "report_internet=data_merged.pivot_table(index = 'tariff', values = 'gb_used', aggfunc = ['var', 'std', 'mean']).round(0)\n",
    "report_internet.columns=['internet_var','std','mean']\n",
    "report_internet                    "
   ]
  },
  {
   "cell_type": "code",
   "execution_count": 43,
   "id": "1e6fae01",
   "metadata": {
    "scrolled": true
   },
   "outputs": [
    {
     "data": {
      "image/png": "[encoded data removed]",
      "text/plain": [
       "<Figure size 1152x360 with 2 Axes>"
      ]
     },
     "metadata": {
      "needs_background": "light"
     },
     "output_type": "display_data"
    }
   ],
   "source": [
    "#построим гистограмму распределения для использованного интернет-трафика\n",
    "fig, axes = plt.subplots(1,2, figsize=(16,5))\n",
    "\n",
    "ultra_users['gb_used'].hist(bins=15, range=(0,50), ax=axes[0])\n",
    "axes[0].set_title('Распределение интернет-трафика на тп ULTRA')\n",
    "\n",
    "smart_users['gb_used'].hist(bins=15, range=(0,50), ax=axes[1])\n",
    "axes[1].set_title('Распределение интернет-трафика на тп SMART')\n",
    "\n",
    "plt.show()"
   ]
  },
  {
   "cell_type": "markdown",
   "id": "08d68374",
   "metadata": {},
   "source": [
    "- По интернет-трафику данные ближе к нормальному распределению на обоих тарифных планах. Дисперсия и стандартное отклонение также больше для тп `ultra`. \n",
    "- Получается, что в среднем на тп `smart` абоненты чаще докупают от 1 гб интернета сверх 15, которые входят в тп. Среднее значение 16гб, а медиана 17 гб.\n",
    "- На тп `ultra` входит 30 гб, а тратят в среднем 19 гб."
   ]
  },
  {
   "cell_type": "markdown",
   "id": "2a9436e1",
   "metadata": {},
   "source": [
    "Посчитаем среднее количество sms, дисперсию и стандартное отклонение для сообщений."
   ]
  },
  {
   "cell_type": "code",
   "execution_count": 44,
   "id": "69ee02ab",
   "metadata": {
    "scrolled": true
   },
   "outputs": [
    {
     "data": {
      "text/html": [
       "<div>\n",
       "<style scoped>\n",
       "    .dataframe tbody tr th:only-of-type {\n",
       "        vertical-align: middle;\n",
       "    }\n",
       "\n",
       "    .dataframe tbody tr th {\n",
       "        vertical-align: top;\n",
       "    }\n",
       "\n",
       "    .dataframe thead th {\n",
       "        text-align: right;\n",
       "    }\n",
       "</style>\n",
       "<table border=\"1\" class=\"dataframe\">\n",
       "  <thead>\n",
       "    <tr style=\"text-align: right;\">\n",
       "      <th></th>\n",
       "      <th>messages_var</th>\n",
       "      <th>std</th>\n",
       "      <th>mean</th>\n",
       "    </tr>\n",
       "    <tr>\n",
       "      <th>tariff</th>\n",
       "      <th></th>\n",
       "      <th></th>\n",
       "      <th></th>\n",
       "    </tr>\n",
       "  </thead>\n",
       "  <tbody>\n",
       "    <tr>\n",
       "      <th>smart</th>\n",
       "      <td>797.0</td>\n",
       "      <td>28.0</td>\n",
       "      <td>33.0</td>\n",
       "    </tr>\n",
       "    <tr>\n",
       "      <th>ultra</th>\n",
       "      <td>2285.0</td>\n",
       "      <td>48.0</td>\n",
       "      <td>49.0</td>\n",
       "    </tr>\n",
       "  </tbody>\n",
       "</table>\n",
       "</div>"
      ],
      "text/plain": [
       "        messages_var   std  mean\n",
       "tariff                          \n",
       "smart          797.0  28.0  33.0\n",
       "ultra         2285.0  48.0  49.0"
      ]
     },
     "execution_count": 44,
     "metadata": {},
     "output_type": "execute_result"
    }
   ],
   "source": [
    "#посчитаем среднее количество, дисперсию и стандартное отклонение для сообщений\n",
    "report_msg=data_merged.pivot_table(index = 'tariff', values ='total_msg', aggfunc = ['var', 'std', 'mean'])\n",
    "report_msg.columns=['messages_var','std','mean']\n",
    "report_msg.round(0)         "
   ]
  },
  {
   "cell_type": "code",
   "execution_count": 45,
   "id": "b75b5427",
   "metadata": {},
   "outputs": [
    {
     "data": {
      "image/png": "[encoded data removed]",
      "text/plain": [
       "<Figure size 1152x360 with 2 Axes>"
      ]
     },
     "metadata": {
      "needs_background": "light"
     },
     "output_type": "display_data"
    }
   ],
   "source": [
    "#построим гистограмму распределения для отправленных сообщений\n",
    "fig, axes = plt.subplots(1,2, figsize=(16,5))\n",
    "\n",
    "ultra_users['total_msg'].hist(bins=22, range=(0,220), ax=axes[0])\n",
    "axes[0].set_title('Распределение сообщений на тп ULTRA')\n",
    "\n",
    "smart_users['total_msg'].hist(bins=22, range=(0,220), ax=axes[1])\n",
    "axes[1].set_title('Распределение сообщений на тп SMART')\n",
    "plt.show()"
   ]
  },
  {
   "cell_type": "markdown",
   "id": "01d75cc2",
   "metadata": {},
   "source": [
    "Как видим отправлять сообщения уже было не очень популярно в 2018 году. Посмотрим сколько таких строк в общем количестве, где за месяц 0 отправленных сообщений. Из-за нулевых строк гистограммы не очень наглядны."
   ]
  },
  {
   "cell_type": "code",
   "execution_count": 46,
   "id": "9036f2e9",
   "metadata": {},
   "outputs": [
    {
     "name": "stdout",
     "output_type": "stream",
     "text": [
      "тп ultra 19.37%\n",
      "тп smart 13.81%\n"
     ]
    }
   ],
   "source": [
    "msg_no_use_ultra=(len(ultra_users.query('total_msg==0'))/len(ultra_users))\n",
    "msg_no_use_smart=(len(smart_users.query('total_msg==0'))/len(smart_users))\n",
    "\n",
    "print('тп ultra {:.2%}'.format(msg_no_use_ultra))\n",
    "print('тп smart {:.2%}'.format(msg_no_use_smart))"
   ]
  },
  {
   "cell_type": "code",
   "execution_count": 47,
   "id": "d1e46d40",
   "metadata": {},
   "outputs": [
    {
     "data": {
      "image/png": "[encoded data removed]",
      "text/plain": [
       "<Figure size 1152x360 with 2 Axes>"
      ]
     },
     "metadata": {
      "needs_background": "light"
     },
     "output_type": "display_data"
    }
   ],
   "source": [
    "#установим порог более 1 сообщения для наглядности\n",
    "fig, axes = plt.subplots(1,2, figsize=(16,5))\n",
    "\n",
    "ultra_users['total_msg'].hist(bins=22, range=(1,220), ax=axes[0])\n",
    "axes[0].set_title('Распределение sms сообщений для тп ultra')\n",
    "\n",
    "smart_users['total_msg'].hist(bins=22, range=(1,220), ax=axes[1])\n",
    "axes[1].set_title('Распределение sms сообщений для тп smart')\n",
    "plt.show()"
   ]
  },
  {
   "cell_type": "markdown",
   "id": "a1025193",
   "metadata": {},
   "source": [
    "- Дисперсия и стандартное отклонение по отправленным сообщениям в месяц больше для тп `ultra`, среднее значение для тп `ultra` равно 49, для тп `smart` - 33. Дисперсия для тп `ultra` снова больше, также как стандартное отклонение."
   ]
  },
  {
   "cell_type": "markdown",
   "id": "68e57301",
   "metadata": {},
   "source": [
    "____\n",
    "Для нормальных распределений верно правило трёх стандартных отклонений, или правило трёх сигм. Посчитаем сколько минут разговора, сколько сообщений и какой объём интернет-трафика требуется пользователям каждого тарифа в месяц? "
   ]
  },
  {
   "cell_type": "code",
   "execution_count": 48,
   "id": "3065bc3d",
   "metadata": {},
   "outputs": [
    {
     "data": {
      "text/plain": [
       "(1479.0, 989.0)"
      ]
     },
     "execution_count": 48,
     "metadata": {},
     "output_type": "execute_result"
    }
   ],
   "source": [
    "#сколько минут достаточно включить в тарифный план, чтобы этого хватило для 99% абонентов тарифного плана ultra и smart\n",
    "duration_for_ultra = ultra_users['total_duration'].mean()+3*np.std(ultra_users['total_duration'])\n",
    "duration_for_smart = smart_users['total_duration'].mean()+3*np.std(smart_users['total_duration'])\n",
    "duration_for_ultra.round(0), duration_for_smart.round(0)"
   ]
  },
  {
   "cell_type": "markdown",
   "id": "ff57c0d4",
   "metadata": {},
   "source": [
    "Так, получается для 99% абонентов будет достаточно в месяц минут:\n",
    "- 1479 минут для тарифного плана `ultra` (включено 3000 минут)\n",
    "- 989 минут для тарифного плана `smart` (включено 500 минут)"
   ]
  },
  {
   "cell_type": "code",
   "execution_count": 49,
   "id": "072428cd",
   "metadata": {},
   "outputs": [
    {
     "data": {
      "text/plain": [
       "(49.0, 37.0)"
      ]
     },
     "execution_count": 49,
     "metadata": {},
     "output_type": "execute_result"
    }
   ],
   "source": [
    "internet_for_ultra=ultra_users['gb_used'].mean()+3*np.std(ultra_users['gb_used'])\n",
    "internet_for_smart=ultra_users['gb_used'].mean()+3*np.std(smart_users['gb_used'])\n",
    "internet_for_ultra.round(0), internet_for_smart.round(0)"
   ]
  },
  {
   "cell_type": "markdown",
   "id": "b2ac7718",
   "metadata": {},
   "source": [
    "Для 99% абонентов будет достаточно в месяц интернета:\n",
    "- 49 гб для тарифного плана `ultra` (включено 30)\n",
    "- 37 гб для тарифного плана `smart` (включено 15)"
   ]
  },
  {
   "cell_type": "code",
   "execution_count": 50,
   "id": "f8227fdc",
   "metadata": {},
   "outputs": [
    {
     "data": {
      "text/plain": [
       "(193.0, 134.0)"
      ]
     },
     "execution_count": 50,
     "metadata": {},
     "output_type": "execute_result"
    }
   ],
   "source": [
    "sms_for_ultra=ultra_users['total_msg'].mean()+3*np.std(ultra_users['total_msg'])\n",
    "sms_for_smart=ultra_users['total_msg'].mean()+3*np.std(smart_users['total_msg'])\n",
    "sms_for_ultra.round(0), sms_for_smart.round(0)"
   ]
  },
  {
   "cell_type": "markdown",
   "id": "05f7f402",
   "metadata": {},
   "source": [
    "Для 99% абонентов будет достаточно в месяц sms:\n",
    "- 193 сообщения для тарифного плана `ultra` (включено 1000)\n",
    "- 134 сообщения для тарифного плана `smart` (включено 50)"
   ]
  },
  {
   "cell_type": "markdown",
   "id": "fe121aff",
   "metadata": {},
   "source": [
    "### Вывод\n",
    "<a id='3.1'></a>"
   ]
  },
  {
   "cell_type": "markdown",
   "id": "2520ab98",
   "metadata": {},
   "source": [
    "- Максимальная выручка составила - 6770 на тарифном плане `smart`. На тп `ultra` при таком же объеме трафика сумма выручки составила бы 3150 рублей, это меньше на 53%. \n",
    "- На тп `ultra` максимальная выручка составила 4800 рублей, при перерасходе интернет трафика на 19 гб.\n",
    "- Дисперсия и стандартное отклонение по продолжительности звонков для `ultra` больше, чем для `smart`. По гистограмме можно увидеть, что данные по длительности звонков больше \"размазаны\" для тп `ultra`, \"хвост\" больше растянут. \n",
    "- Распределение продолжительности звонков для тп `smart` ближе к нормальному, а для тп `ultra` скошены вправо, при этом среднее значение на обоих тп не превышает 500 включенных минут для тп smart, то есть в среднем в месяц абоненты обоих тарифов выговаривают не более 500 минут. \n",
    "- По интернет-трафику дисперсия и стандартное отклонение также больше для тп `ultra`. В среднем на тп `smart` абоненты чаще докупают от 1 гб и более интернет-трафика сверх 15, которые входят в тп. Среднее значение 16гб, а медиана 17 гб. На тп `ultra` же в среднем тратят 19 гб, а входит 30 гб.\n",
    "- Дисперсия и стандартное отклонение для сообщений также больше для тп `ultra`. Среднее значение для тп `ultra` равно 49, для тп `smart` - 33. Среднее значение для обоих тп меньше, чем включено в абонентскую плату тп `smart`(50 сообщений). В век интренета сообщения становятся все менее популярны.\n",
    "\n",
    "При условии, что данные распределены нормально, по правилу трех сигм получается, что:\n",
    "- на тп `smart` минут входящих для разговора требуется вдвое больше, чем включено в абонентскую плату - 989, а для абонентов тп `ultra` наоборот - достаточно вдвое меньше: 1479. \n",
    "-  интернета не хвататет обоим тарифам, так для абонентов тп `ultra` нужно на 19 гб больше -   49 вместо 30, а для абонентов тп `smart` приходится докупать более чем в два раза 37 гб, сверх включенных 15.\n",
    "- сообщений нужно максимум 134 для тп `smart` и 193 для тп `ultra`."
   ]
  },
  {
   "cell_type": "markdown",
   "id": "7a5b565d",
   "metadata": {},
   "source": [
    "## Шаг 4 Проверка гипотез и пояснения\n",
    "<a id='4'></a>"
   ]
  },
  {
   "cell_type": "markdown",
   "id": "e8055c6a",
   "metadata": {},
   "source": [
    "Основная задача проекта заключается в том, чтобы помочь скорректировать рекламный бюджет коммерческого департамента федерального оператора сотовой связи «Мегалайн», а для этого нужно понять, какой тариф приносит больше денег. \n",
    "\n",
    "Чтобы приблизиться к принятию окончательного решения в пользу одного из двух тарифных планов нам нужно рассмотреть выручку и проверить гипотезы: \n",
    "- средняя выручка пользователей тарифов «Ультра» и «Смарт» различаются;\n",
    "- средняя выручка пользователей из Москвы отличается от выручки пользователей из других регионов."
   ]
  },
  {
   "cell_type": "code",
   "execution_count": 51,
   "id": "6c4095c8",
   "metadata": {},
   "outputs": [
    {
     "data": {
      "image/png": "[encoded data removed]",
      "text/plain": [
       "<Figure size 1152x360 with 2 Axes>"
      ]
     },
     "metadata": {
      "needs_background": "light"
     },
     "output_type": "display_data"
    }
   ],
   "source": [
    "#посмотрим распределение выручки\n",
    "fig, axes = plt.subplots(1,2, figsize=(16,5))\n",
    "\n",
    "ultra_users.plot(y='bill', style='o', ylim =(0, 5000), grid=True, alpha=1, ax=axes[0])\n",
    "axes[0].set_title('Распределение выручки для тп ULTRA')\n",
    "axes[0].set_ylabel('выручка')\n",
    "\n",
    "smart_users.plot(y='bill', style='o', ylim =(0, 5000), grid=True, alpha=1, ax=axes[1])\n",
    "axes[1].set_title('Распределение выручки для тп SMART')\n",
    "axes[1].set_ylabel('выручка')\n",
    "\n",
    "plt.show()"
   ]
  },
  {
   "cell_type": "markdown",
   "id": "c9b703f2",
   "metadata": {},
   "source": [
    "По диаграмме рассеивания можно увидеть, что \"плотность\" значений, сверх включенных в абонентскую плату на тп `smart` сильно больше. На тп `ultra` значения собраны на отметке 1950."
   ]
  },
  {
   "cell_type": "code",
   "execution_count": 52,
   "id": "46ff1549",
   "metadata": {},
   "outputs": [
    {
     "data": {
      "image/png": "[encoded data removed]",
      "text/plain": [
       "<Figure size 1080x360 with 2 Axes>"
      ]
     },
     "metadata": {
      "needs_background": "light"
     },
     "output_type": "display_data"
    }
   ],
   "source": [
    "fig, axes = plt.subplots(1,2, figsize=(15,5))\n",
    "\n",
    "ultra_users.boxplot(column='bill',ax=axes[0])\n",
    "axes[0].set_ylim(0,5000)\n",
    "axes[0].set_title('Диаграмма размаха выручки для тп ULTRA')\n",
    "axes[0].set_ylabel('выручка')\n",
    "\n",
    "smart_users.boxplot(column='bill',ax=axes[1])\n",
    "axes[1].set_ylim(0,5000)\n",
    "axes[1].set_title('Диаграмма размаха выручки для тп SMART')\n",
    "axes[1].set_ylabel('выручка')\n",
    "\n",
    "plt.show()"
   ]
  },
  {
   "cell_type": "markdown",
   "id": "a0772b54",
   "metadata": {},
   "source": [
    "Диаграмма размаха для тп `smart` показывает, что медиана в районе 1000, а выбросы начинаются после 3500. По тп `ultra` диаграмма размаха на показательна, так как значения схлопываются в районе 2000, доля тех, кто выходит за пределы абонентской платы очень мала, а минимальное значение ограничено размером абонентской платы."
   ]
  },
  {
   "cell_type": "code",
   "execution_count": 53,
   "id": "0d6ed59d",
   "metadata": {},
   "outputs": [
    {
     "data": {
      "text/plain": [
       "(1950.0, 1021.0)"
      ]
     },
     "execution_count": 53,
     "metadata": {},
     "output_type": "execute_result"
    }
   ],
   "source": [
    "ultra_users['bill'].median(), smart_users['bill'].median()"
   ]
  },
  {
   "cell_type": "markdown",
   "id": "b99ab18c",
   "metadata": {},
   "source": [
    "Предварительно можно сказать, что на тп `ultra` выручка в среднем больше, чем на тп `smart`. Несмотря на то, что абоненты тп `smart` чаще докупают дополнительные пакеты минут, сообщений и интернета, медианная выручка не превышает 1021 рублей, а это почти вдвое меньше абонентской платы за тп `ultra`."
   ]
  },
  {
   "cell_type": "markdown",
   "id": "d0dddfd2",
   "metadata": {},
   "source": [
    "###  Гипотеза 1: \n",
    "\n",
    "Средняя выручка пользователей тарифов «Ультра» и «Смарт» различаются."
   ]
  },
  {
   "cell_type": "markdown",
   "id": "eb66d061",
   "metadata": {},
   "source": [
    "Нулевая гипотеза всегда формулируется так, чтобы использовать знак равенства. Так как в задании не уточняется в какую сторону (больше или меньше), то будем формулировать двустороннюю гипотезу. \n",
    "\n",
    "Получается: \n",
    "- H0: средняя выручка пользователей тарифов «Ультра» и «Смарт» равны; \n",
    "- H1: средняя выручка пользователей тарифов «Ультра» и «Смарт» различаются."
   ]
  },
  {
   "cell_type": "code",
   "execution_count": 54,
   "id": "9acbdffa",
   "metadata": {},
   "outputs": [
    {
     "name": "stdout",
     "output_type": "stream",
     "text": [
      "p-значение:  1.927011394420941e-250\n",
      "Отвергаем нулевую гипотезу\n"
     ]
    }
   ],
   "source": [
    "#зададим переменные для выручки тп Ультра и Смарт \n",
    "bill_for_ultra = ultra_users['bill']\n",
    "bill_for_smart = smart_users['bill']\n",
    "\n",
    "#зададим критический уровень статистической значимости\n",
    "alpha = .05\n",
    "\n",
    "#проверим гипотезу о равенстве средних двух независимых совокупностей\n",
    "results_for_test_1 = st.ttest_ind(\n",
    "    bill_for_ultra, \n",
    "    bill_for_smart,\n",
    "    equal_var=False) #Так как размеры выборки отличаются, то мы установили \n",
    "#параметр equal_var==False, чтобы тест посчитал дисперсии выборок по отдельности\n",
    "\n",
    "print('p-значение: ', results_for_test_1.pvalue)\n",
    "\n",
    "#сравним получившееся p-значение с заданным уровнем статистической значимости:\n",
    "if results_for_test_1.pvalue < alpha: \n",
    "    print(\"Отвергаем нулевую гипотезу\")\n",
    "else:\n",
    "    print(\"Не получилось отвергнуть нулевую гипотезу\") "
   ]
  },
  {
   "cell_type": "markdown",
   "id": "04ffb033",
   "metadata": {},
   "source": [
    "Вывод: \n",
    "\n",
    "- Данные предоставляют достаточное основание — для выбранного уровня значимости — отвергнуть нулевую гипотезу. Значит, можно сделать вывод, что средняя выручка пользователей тарифов «Ультра» и «Смарт» различаются. Даже при более строгом критическом значении статистической значимости — 0.01 — мы бы получили тот же результат: p-value не превышает и этого значения."
   ]
  },
  {
   "cell_type": "markdown",
   "id": "92015fc5",
   "metadata": {},
   "source": [
    "### Гипотеза 2:\n",
    "\n",
    "Средняя выручка пользователей из Москвы отличается от выручки пользователей из других регионов.\n",
    "\n",
    "Нам необходимо сравнить две генеральные совокупности. Гипотеза также двухсторонняя, так как не уточняется в какую сторону (больше или меньше) различие.\n",
    "\n",
    "Формулируем гипотезу:\n",
    "- H0: средняя выручка пользователей из Москвы равна выручке пользователей из других регионов;\n",
    "- H1: средняя выручка пользователей из Москвы отличается от выручки пользователей из других регионов."
   ]
  },
  {
   "cell_type": "code",
   "execution_count": 55,
   "id": "71e509cd",
   "metadata": {},
   "outputs": [
    {
     "name": "stdout",
     "output_type": "stream",
     "text": [
      "p-значение:  0.5216952110000278\n",
      "Не получилось отвергнуть нулевую гипотезу.\n"
     ]
    }
   ],
   "source": [
    "#выделим срез выручки для Москвы\n",
    "bill_moscow_mean=data_merged.loc[data_merged['city'] == 'Москва']['bill']\n",
    "#выделим срез для других городов\n",
    "bill_for_other=data_merged.loc[data_merged['city'] != 'Москва']['bill']\n",
    "\n",
    "#зададим критический уровень статистической значимости\n",
    "alpha = .05\n",
    "\n",
    "results = st.ttest_ind(\n",
    "    bill_for_other,\n",
    "    bill_moscow_mean,\n",
    "    equal_var=False)\n",
    "\n",
    "print('p-значение: ', results.pvalue)\n",
    "\n",
    "if results.pvalue < alpha:\n",
    "    print(\"Отвергаем нулевую гипотезу\")\n",
    "else:\n",
    "    print(\"Не получилось отвергнуть нулевую гипотезу.\") "
   ]
  },
  {
   "cell_type": "markdown",
   "id": "53e84d23",
   "metadata": {},
   "source": [
    "Полученное значение `p-value` говорит о том, что вероятность получить такое различие случайно около 52%. Это явно слишком большая вероятность, чтобы делать вывод о значимом различии между средней выручкой для Москвы и выручкой пользователей из других регионов.\n",
    "При более строгом критическом значении статистической значимости — 0.01 мы бы получили тот же результат, так как `p-value` все еще больше."
   ]
  },
  {
   "cell_type": "markdown",
   "id": "31bfc069",
   "metadata": {},
   "source": [
    "### Гипотеза 3:\n",
    "\n",
    "Для финального вывода не хватает проверки еще одной гипотезы. Для обоих тарифов есть минимальное значение по выручке. В случае с тп `ultra` абоненты редко переплачивают, но в случае с тп `smart` абоненты переплачивают почти всегда. И если взять за желаемый уровень выручки абонентскую плату тп `ultra` и провести t-test, где срез по выручке абонентов тп `smart` сравнивается с желаемым значением равным 1950 рублей, то можно будет сказать насколько высока вероятность получить желаемое значение, тем самым понять в какой тп лучше вкладывать рекламный бюджет.\n",
    "\n",
    "- Н0:Размер средней выручки для тарифного плана smart равен 1950 рублей\n",
    "- Н1:Размер средней выручки для тарифного плана smart меньше 1950 рублей\n",
    "\n",
    "При одностороннем тесте с альтернативной гипотезой «Размер средней выручки для тарифного плана smart меньше, чем 1950 рублей» нулевая гипотеза отвергается, если выполняется два условия:\n",
    "- наблюдаемое значение меньше предполагаемого;\n",
    "- разница между этими значениями достаточно велика, вероятность, что она окажется такой случайно, ниже выбранного уровня значимости.\n",
    "\n",
    "Тест односторонний, поэтому p-value, полученное в результате двустороннего теста, поделим на 2."
   ]
  },
  {
   "cell_type": "code",
   "execution_count": 56,
   "id": "9086ad4e",
   "metadata": {},
   "outputs": [
    {
     "name": "stdout",
     "output_type": "stream",
     "text": [
      "p-значение: 2.1353762946519057e-245\n",
      "Отвергаем нулевую гипотезу: выручка значимо меньше 1950 рублей\n"
     ]
    }
   ],
   "source": [
    "interested_value = 1950 #минимальная выручка для ultra\n",
    "\n",
    "alpha = .01 #критический уровень статистической значимости\n",
    "\n",
    "results = st.ttest_1samp(\n",
    "    bill_for_smart, \n",
    "    interested_value)\n",
    "\n",
    "print('p-значение:', results.pvalue/2) #p-value для однотороннего теста)\n",
    "\n",
    "if (results.pvalue/2 < alpha) and (bill_for_smart.mean() < interested_value):\n",
    "    print(\"Отвергаем нулевую гипотезу: выручка значимо меньше 1950 рублей\")\n",
    "else:\n",
    "    print(\"Не получилось отвергнуть нулевую гипотезу: выручка достигает желаемых показателей\")"
   ]
  },
  {
   "cell_type": "markdown",
   "id": "e995dfd8",
   "metadata": {},
   "source": [
    "Вероятность, что средняя выручка тп `smart` окажется случайно равной 1950 рублей, ниже выбранного уровня значимости. Выручка по тп `ultra` больше."
   ]
  },
  {
   "cell_type": "markdown",
   "id": "7c3974ad",
   "metadata": {},
   "source": [
    "### Вывод\n",
    "<a id='4.1'></a>"
   ]
  },
  {
   "cell_type": "markdown",
   "id": "316b6475",
   "metadata": {},
   "source": [
    "- Диаграмма рассеивания показала, что \"плотность\" значений, сверх включенных в абонентскую плату на тп `smart` сильно больше. На тп `ultra` значения собраны на отметке 1950.\n",
    "- Диаграмма размаха для тп `smart` показала, что медиана в районе 1000, а выбросы начинаются после 3500. По тп `ultra` диаграмма размаха на показательна, так как значения схлопываются в районе 2000, доля тех, кто выходит за пределы абонентской платы очень мала, а минимальное значение ограничено абонентской платой.\n",
    "- На тп `ultra` выручка в среднем больше, чем на тп `smart`. Несмотря на то, что абоненты тп `smart` чаще докупают дополнительные пакеты минут, сообщений и интернета, выручка не превышает медианного значения равного 1021 рублю, а это почти вдвое меньше абонентской платы за тп `ultra`.\n",
    "- Гипотезу о том, что средняя выручка пользователей тарифов «Ультра» и «Смарт» различаются мы переформулировали в нулевую гипотезу: средняя выручка пользователей тарифов «Ультра» и «Смарт» равны; альтернативную гипотеза: средняя выручка пользователей тарифов «Ультра» и «Смарт» различаются. T-test показал, что p-value не превышает критического уровня значимости равного .01, то есть вероятность того, что средние выручки одинаковы близка к нулю.\n",
    "- Гипотезу о том, что средняя выручка пользователей из Москвы отличается от выручки пользователей из других регионов мы переформулировали в нулевую гипотезу: средняя выручка пользователей из Москвы равна выручке пользователей из других регионов; альтернативная гипотеза: средняя выручка пользователей из Москвы отличается от выручки пользователей из других регионов. В результате не получилось отвергнуть нулевую гипотезу, так как p-value больше критического уровня значимости, равного 5%. \n",
    "- Сформулировали дополнительную нулевую гипотезу: размер средней выручки для тарифного плана smart равен 1950 рублей, альтернативную: размер средней выручки для тарифного плана smart меньше 1950 рублей. Вероятность, что средняя выручка тп smart окажется случайно равной 1950 рублей, меньше 1%."
   ]
  },
  {
   "cell_type": "markdown",
   "id": "aef114e4",
   "metadata": {},
   "source": [
    "## Шаг 5 Общий вывод\n",
    "<a id='5'></a>"
   ]
  },
  {
   "cell_type": "markdown",
   "id": "d6f918a5",
   "metadata": {},
   "source": [
    "Мы провели аналитику для компании «Мегалайн» — федерального оператора сотовой связи. Исследовали два тарифных плана: «Смарт» и «Ультра». Нам было необходимо помочь принять решение о том, какой тариф приносит больше денег и скорректировать рекламный бюджет.\n",
    "\n",
    "Для того, чтобы это выяснить, мы сделали предварительный анализ тарифов на небольшой выборке клиентов. В нашем распоряжении данные 500 пользователей «Мегалайна». Мы выяснили кто они, откуда, каким тарифом пользуются, сколько звонков и сообщений каждый отправил за 2018 год. Проанализировали поведение клиентов.\n",
    "\n",
    "Наша выборка состоит из  351 пользователя тарифного плана `smart` и 149 пользователей тарифного плана `ultra`.\n",
    "\n",
    "**Анализ и описание данных**\n",
    "\n",
    "- Максимальное количество израсходованных минут: 1673 минуты и 244 сделанных звонков в декабре - это почти вдвое меньше, чем 3000 минут, входящих в тарифный план `ultra`. \n",
    "- Максимальное количество отправленных сообщений: 224 сообщения отправлено в декабре, менее 25% от 1000 сообщений, входящих в тарифный план `ultra`.\n",
    "- Максимальнsq объем израсходованного интернет-трафика по месяцам: 49 гб. израсходавона в октябре - это на 19 гб больше, чем входит в тарифный план `ultra`.\n",
    "- Максимальная выручка на тарифном плане `smart` составила 6770 рублей, на тарифном плане `ultra` - 4800 рублей.\n",
    " \n",
    "**Анализ поведения клиентов оператора, исходя из выборки**\n",
    "\n",
    "- 418 минут месяц в среднем необходимо пользователям тарифного плана `smart` и 526 минут пользователям тарифного плана `ultra`. Средняя длительность для обоих тарифных планов не сильно превышает минимальных 500 минут, включенных в тарифный план `smart`.\n",
    "\n",
    "- 16 гб интернет-трафика в месяц в среднем требуется пользователям тарифного плана `smart`, то есть они почти всегда докупают дополнительно гигабайты, сверх 15, входящих в тарифный план. А пользователям тарифного плана `ultra` в среднем достаточно 19 гб из 30, включенных гигабайт. \n",
    "\n",
    "- 33 сообщения в среднем необходмо для пользователей тарифного плана `smart` и 49 сообщений - тарифного плана `ultra`. В обоих случаях это меньше минимальных 50 сообщений, включенных в абонентскую плату тарифного плана `smart`. \n",
    "\n",
    "-  Дисперсия и стандартное отклонение по всем трем параметрам больше на тарифном плане `ultra`, то есть данные на тарифном плане `ultra` больше имеют больший разброс относительно среднего. На гистограммах видно, что данные для тарифного плана `smart` распределены нормально, на тифном плане данные имеют положительную скошенность.\n",
    "\n",
    "**Проверка гипотез**\n",
    "\n",
    "**Исследовательская гипотеза 1:** \"средняя выручка пользователей тарифов «Ультра» и «Смарт» различаются\" переформулирована двухстороннюю статистическую гипотезу: \n",
    "\n",
    "- Н0: средняя выручка пользователей тарифов «Ультра» и «Смарт» равны; \n",
    "- Н1: средняя выручка пользователей тарифов «Ультра» и «Смарт» различаются. \n",
    "\n",
    "Данные предоставляют достаточное основание — для выбранного уровня значимости равного 5% — отвергнуть нулевую гипотезу. Значит, можно сделать вывод, что средняя выручка пользователей тарифов «Ультра» и «Смарт» различаются. Даже при более строгом критическом значении статистической значимости — 0.01 — мы бы получили тот же результат: p-value не превышает и этого значения.\n",
    "\n",
    "**Исследовательская гипотеза 2:** \"средняя выручка пользователей из Москвы отличается от выручки пользователей из других регионов\" переформулирована двухстороннюю статистическую гипотезу: \n",
    "\n",
    "- H0: средняя выручка пользователей из Москвы равна выручке пользователей из других регионов;\n",
    "- H1: средняя выручка пользователей из Москвы отличается от выручки пользователей из других регионов.\n",
    "\n",
    "Для выбранного уровня значимости равного 5% вероятность получить такое различие случайно около 52%. Это явно слишком большая вероятность, чтобы делать вывод о значимом различии между средней выручкой для Москвы и выручкой пользователей из других регионов. \n",
    "Таким образом, мы отвергаем гипотезу о том, что средняя выручка пользователей из Москвы отличается от выручки пользователей из других регионов.\n",
    "\n",
    "**Исследовательская гипотеза 3:** \"cредняя выручка в месяц на тарифном плане \"Смарт\" меньше, чем абонентская плата на тарифном плане \"Ультра\"\"\n",
    "Переформулирована в одностороннюю статистическую гипотезу:\n",
    "- Н0:Размер средней выручки для тарифного плана \"Смарт\" = 1950 рублей\n",
    "- Н1:Размер средней выручки для тарифного плана \"Смарт\" < 1950 рублей\n",
    "\n",
    "Тест показал, что наблюдаемое значение меньше предполагаемого, разница между этими значениями достаточно велика, вероятность, что она окажется такой случайно, ниже выбранного уровня значимости, соответственно мы не можем отвергнуть исследовательскую гипотезу. \n",
    "\n",
    "**Итоговый вывод по результатам исследования:** Тарифный план \"Ультра\" лучше, он приносит больше денег. "
   ]
  },
  {
   "cell_type": "markdown",
   "id": "c9402fe7",
   "metadata": {},
   "source": [
    "## Чек-лист готовности проекта\n",
    "<a id='6'></a>\n",
    "Поставьте 'x' в выполненных пунктах. Далее нажмите Shift+Enter."
   ]
  },
  {
   "cell_type": "markdown",
   "id": "c7389d27",
   "metadata": {},
   "source": [
    "- [x]  открыт файл\n",
    "- [x]  файлы изучены (выведены первые строки, метод info())\n",
    "- [x]  есть пояснение, какие пропущенные значения обнаружены\n",
    "- [x]  заполнены пропущенные значения\n",
    "- [x]  изменены типы данных\n",
    "- [x]  данные приведены к нужным типам\n",
    "- [x]  есть пояснение, в каких столбцах изменены типы и почему\n",
    "- [x]  найдины и исправлены ошибки в данных\n",
    "- [x]  посчитано для каждого пользователя: количество сделанных звонков и израсходованных минут разговора по месяцам;\n",
    "- [x]  посчитано для каждого пользователя: количество отправленных сообщений по месяцам;\n",
    "- [x]  посчитано для каждого пользователя: объем израсходованного интернет-трафика по месяцам;\n",
    "- [x]  посчитано для каждого пользователя: помесячная выручка с каждого пользователя (вычтите бесплатный лимит из суммарного количества звонков, сообщений и интернет-трафика; остаток умножьте на значение из тарифного плана; прибавьте абонентскую плату, соответствующую тарифному плану)\n",
    "- [x]  выполнено задание: Опишите поведение клиентов оператора, исходя из выборки. Сколько минут разговора, сколько сообщений и какой объём интернет-трафика требуется пользователям каждого тарифа в месяц? Посчитайте среднее количество, дисперсию и стандартное отклонение. Постройте гистограммы. Опишите распределения.\n",
    "- [x]  проверена гипотеза: средняя выручка пользователей тарифов «Ультра» и «Смарт» различаются;\n",
    "- [x]  проверена гипотеза: средняя выручка пользователей из Москвы отличается от выручки пользователей из других регионов (пороговое значение alpha задано самостоятельно) \n",
    "- [x]  пояснено: как сформулирована нулевая и альтернативная гипотезы;\n",
    "- [x]  пояснено: какой критерий использовался для проверки гипотез и почему.\n",
    "- [x]  в каждом этапе есть выводы\n",
    "- [x]  есть общий вывод"
   ]
  }
 ],
 "metadata": {
  "kernelspec": {
   "display_name": "Python 3 (ipykernel)",
   "language": "python",
   "name": "python3"
  },
  "language_info": {
   "codemirror_mode": {
    "name": "ipython",
    "version": 3
   },
   "file_extension": ".py",
   "mimetype": "text/x-python",
   "name": "python",
   "nbconvert_exporter": "python",
   "pygments_lexer": "ipython3",
   "version": "3.9.7"
  },
  "toc": {
   "base_numbering": 1,
   "nav_menu": {},
   "number_sections": true,
   "sideBar": true,
   "skip_h1_title": true,
   "title_cell": "Table of Contents",
   "title_sidebar": "Contents",
   "toc_cell": false,
   "toc_position": {},
   "toc_section_display": true,
   "toc_window_display": false
  }
 },
 "nbformat": 4,
 "nbformat_minor": 5
}
