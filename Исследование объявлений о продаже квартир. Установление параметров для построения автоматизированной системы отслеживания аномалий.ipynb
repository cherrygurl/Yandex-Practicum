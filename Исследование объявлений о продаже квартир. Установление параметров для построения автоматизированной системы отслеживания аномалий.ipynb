{
 "cells": [
  {
   "cell_type": "markdown",
   "metadata": {},
   "source": [
    "# Исследование объявлений о продаже квартир\n",
    "\n",
    "В нашем распоряжении данные сервиса Яндекс.Недвижимость — архив объявлений о продаже квартир в Санкт-Петербурге и соседних населённых пунктах за несколько лет. Нужно научиться определять рыночную стоимость объектов недвижимости. \n",
    "\n",
    "Наша задача — установить параметры. Это позволит построить автоматизированную систему: она отследит аномалии и мошенническую деятельность. \n",
    "\n",
    "По каждой квартире на продажу доступны два вида данных. Первые вписаны пользователем, вторые получены автоматически на основе картографических данных. Например, расстояние до центра, аэропорта, ближайшего парка и водоёма. \n",
    "\n",
    "### Описание данных\n",
    "\n",
    "- `airports_nearest` — расстояние до ближайшего аэропорта в метрах (м)\n",
    "- `balcony` — число балконов\n",
    "- `ceiling_height` — высота потолков (м)\n",
    "- `cityCenters_nearest` — расстояние до центра города (м)\n",
    "- `days_exposition` — сколько дней было размещено объявление (от публикации до снятия)\n",
    "- `first_day_exposition` — дата публикации\n",
    "- `floor` — этаж\n",
    "- `floors_total` — всего этажей в доме\n",
    "- `is_apartment` — апартаменты (булев тип)\n",
    "- `kitchen_area` — площадь кухни в квадратных метрах (м²)\n",
    "- `last_price` — цена на момент снятия с публикации\n",
    "- `living_area` — жилая площадь в квадратных метрах (м²)\n",
    "- `locality_name` — название населённого пункта\n",
    "- `open_plan` — свободная планировка (булев тип)\n",
    "- `parks_around3000` — число парков в радиусе 3 км\n",
    "- `parks_nearest` — расстояние до ближайшего парка (м)\n",
    "- `ponds_around3000` — число водоёмов в радиусе 3 км\n",
    "- `ponds_nearest` — расстояние до ближайшего водоёма (м)\n",
    "- `rooms` — число комнат\n",
    "- `studio` — квартира-студия (булев тип)\n",
    "- `total_area` — площадь квартиры в квадратных метрах (м²)\n",
    "- `total_images` — число фотографий квартиры в объявлении"
   ]
  },
  {
   "cell_type": "markdown",
   "metadata": {},
   "source": [
    "## Оглавление\n",
    "\n",
    "- [1 Изучение данных из файла](#1)\n",
    "  - [1.1 Вывод](#1.1)\n",
    "- [2 Предобработка данных](#2)\n",
    "  - [2.1 Измененение типа данных](#2.1)\n",
    "  - [2.2 Вывод](#2.2)\n",
    "- [3 Расчёты и добавление результатов в таблицу](#3)\n",
    "  - [3.1 Вывод](#3.1)\n",
    "- [4 Исследовательский анализ данных](#4)\n",
    "  - [4.1 Исследования параметров: площади, цены, числа комнат, высоты потолков](#4.1)\n",
    "  - [4.2 Исследование количества времени для продажи квартиры](#4.2)\n",
    "  - [4.3 Редкие и выбивающиеся значения](#4.3)\n",
    "  - [4.4 Исследование факторов, влияющих на стоимость квартиры](#4.4)\n",
    "  - [4.5 Анализ десяти населённых пунктов с наибольшим числом объявлений](#4.5)\n",
    "  - [4.6 Анализ изменения цены по степени удалённости от центра](#4.6)\n",
    "  - [4.7 Сравнение выводов по квартирам в центре и общих выводов по всему городу](#4.7)\n",
    "- [5 Общий вывод](#5)\n",
    "- [6 Чек-лист готовности проекта](#6)"
   ]
  },
  {
   "cell_type": "markdown",
   "metadata": {},
   "source": [
    "## Изучение данных из файла \n",
    "<a id='1'></a>"
   ]
  },
  {
   "cell_type": "code",
   "execution_count": 2,
   "metadata": {},
   "outputs": [],
   "source": [
    "#импортируем библиотеки\n",
    "import matplotlib.pyplot as plt\n",
    "import pandas as pd\n",
    "import numpy as np\n",
    "import datetime as dt"
   ]
  },
  {
   "cell_type": "code",
   "execution_count": 3,
   "metadata": {},
   "outputs": [
    {
     "data": {
      "text/html": [
       "<div>\n",
       "<style scoped>\n",
       "    .dataframe tbody tr th:only-of-type {\n",
       "        vertical-align: middle;\n",
       "    }\n",
       "\n",
       "    .dataframe tbody tr th {\n",
       "        vertical-align: top;\n",
       "    }\n",
       "\n",
       "    .dataframe thead th {\n",
       "        text-align: right;\n",
       "    }\n",
       "</style>\n",
       "<table border=\"1\" class=\"dataframe\">\n",
       "  <thead>\n",
       "    <tr style=\"text-align: right;\">\n",
       "      <th></th>\n",
       "      <th>total_images</th>\n",
       "      <th>last_price</th>\n",
       "      <th>total_area</th>\n",
       "      <th>first_day_exposition</th>\n",
       "      <th>rooms</th>\n",
       "      <th>ceiling_height</th>\n",
       "      <th>floors_total</th>\n",
       "      <th>living_area</th>\n",
       "      <th>floor</th>\n",
       "      <th>is_apartment</th>\n",
       "      <th>studio</th>\n",
       "      <th>open_plan</th>\n",
       "      <th>kitchen_area</th>\n",
       "      <th>balcony</th>\n",
       "      <th>locality_name</th>\n",
       "      <th>airports_nearest</th>\n",
       "      <th>cityCenters_nearest</th>\n",
       "      <th>parks_around3000</th>\n",
       "      <th>parks_nearest</th>\n",
       "      <th>ponds_around3000</th>\n",
       "      <th>ponds_nearest</th>\n",
       "      <th>days_exposition</th>\n",
       "    </tr>\n",
       "  </thead>\n",
       "  <tbody>\n",
       "    <tr>\n",
       "      <th>0</th>\n",
       "      <td>20</td>\n",
       "      <td>13000000.0</td>\n",
       "      <td>108.0</td>\n",
       "      <td>2019-03-07T00:00:00</td>\n",
       "      <td>3</td>\n",
       "      <td>2.70</td>\n",
       "      <td>16.0</td>\n",
       "      <td>51.0</td>\n",
       "      <td>8</td>\n",
       "      <td>NaN</td>\n",
       "      <td>False</td>\n",
       "      <td>False</td>\n",
       "      <td>25.0</td>\n",
       "      <td>NaN</td>\n",
       "      <td>Санкт-Петербург</td>\n",
       "      <td>18863.0</td>\n",
       "      <td>16028.0</td>\n",
       "      <td>1.0</td>\n",
       "      <td>482.0</td>\n",
       "      <td>2.0</td>\n",
       "      <td>755.0</td>\n",
       "      <td>NaN</td>\n",
       "    </tr>\n",
       "    <tr>\n",
       "      <th>1</th>\n",
       "      <td>7</td>\n",
       "      <td>3350000.0</td>\n",
       "      <td>40.4</td>\n",
       "      <td>2018-12-04T00:00:00</td>\n",
       "      <td>1</td>\n",
       "      <td>NaN</td>\n",
       "      <td>11.0</td>\n",
       "      <td>18.6</td>\n",
       "      <td>1</td>\n",
       "      <td>NaN</td>\n",
       "      <td>False</td>\n",
       "      <td>False</td>\n",
       "      <td>11.0</td>\n",
       "      <td>2.0</td>\n",
       "      <td>посёлок Шушары</td>\n",
       "      <td>12817.0</td>\n",
       "      <td>18603.0</td>\n",
       "      <td>0.0</td>\n",
       "      <td>NaN</td>\n",
       "      <td>0.0</td>\n",
       "      <td>NaN</td>\n",
       "      <td>81.0</td>\n",
       "    </tr>\n",
       "    <tr>\n",
       "      <th>2</th>\n",
       "      <td>10</td>\n",
       "      <td>5196000.0</td>\n",
       "      <td>56.0</td>\n",
       "      <td>2015-08-20T00:00:00</td>\n",
       "      <td>2</td>\n",
       "      <td>NaN</td>\n",
       "      <td>5.0</td>\n",
       "      <td>34.3</td>\n",
       "      <td>4</td>\n",
       "      <td>NaN</td>\n",
       "      <td>False</td>\n",
       "      <td>False</td>\n",
       "      <td>8.3</td>\n",
       "      <td>0.0</td>\n",
       "      <td>Санкт-Петербург</td>\n",
       "      <td>21741.0</td>\n",
       "      <td>13933.0</td>\n",
       "      <td>1.0</td>\n",
       "      <td>90.0</td>\n",
       "      <td>2.0</td>\n",
       "      <td>574.0</td>\n",
       "      <td>558.0</td>\n",
       "    </tr>\n",
       "    <tr>\n",
       "      <th>3</th>\n",
       "      <td>0</td>\n",
       "      <td>64900000.0</td>\n",
       "      <td>159.0</td>\n",
       "      <td>2015-07-24T00:00:00</td>\n",
       "      <td>3</td>\n",
       "      <td>NaN</td>\n",
       "      <td>14.0</td>\n",
       "      <td>NaN</td>\n",
       "      <td>9</td>\n",
       "      <td>NaN</td>\n",
       "      <td>False</td>\n",
       "      <td>False</td>\n",
       "      <td>NaN</td>\n",
       "      <td>0.0</td>\n",
       "      <td>Санкт-Петербург</td>\n",
       "      <td>28098.0</td>\n",
       "      <td>6800.0</td>\n",
       "      <td>2.0</td>\n",
       "      <td>84.0</td>\n",
       "      <td>3.0</td>\n",
       "      <td>234.0</td>\n",
       "      <td>424.0</td>\n",
       "    </tr>\n",
       "    <tr>\n",
       "      <th>4</th>\n",
       "      <td>2</td>\n",
       "      <td>10000000.0</td>\n",
       "      <td>100.0</td>\n",
       "      <td>2018-06-19T00:00:00</td>\n",
       "      <td>2</td>\n",
       "      <td>3.03</td>\n",
       "      <td>14.0</td>\n",
       "      <td>32.0</td>\n",
       "      <td>13</td>\n",
       "      <td>NaN</td>\n",
       "      <td>False</td>\n",
       "      <td>False</td>\n",
       "      <td>41.0</td>\n",
       "      <td>NaN</td>\n",
       "      <td>Санкт-Петербург</td>\n",
       "      <td>31856.0</td>\n",
       "      <td>8098.0</td>\n",
       "      <td>2.0</td>\n",
       "      <td>112.0</td>\n",
       "      <td>1.0</td>\n",
       "      <td>48.0</td>\n",
       "      <td>121.0</td>\n",
       "    </tr>\n",
       "  </tbody>\n",
       "</table>\n",
       "</div>"
      ],
      "text/plain": [
       "   total_images  last_price  total_area first_day_exposition  rooms  \\\n",
       "0            20  13000000.0       108.0  2019-03-07T00:00:00      3   \n",
       "1             7   3350000.0        40.4  2018-12-04T00:00:00      1   \n",
       "2            10   5196000.0        56.0  2015-08-20T00:00:00      2   \n",
       "3             0  64900000.0       159.0  2015-07-24T00:00:00      3   \n",
       "4             2  10000000.0       100.0  2018-06-19T00:00:00      2   \n",
       "\n",
       "   ceiling_height  floors_total  living_area  floor is_apartment  studio  \\\n",
       "0            2.70          16.0         51.0      8          NaN   False   \n",
       "1             NaN          11.0         18.6      1          NaN   False   \n",
       "2             NaN           5.0         34.3      4          NaN   False   \n",
       "3             NaN          14.0          NaN      9          NaN   False   \n",
       "4            3.03          14.0         32.0     13          NaN   False   \n",
       "\n",
       "   open_plan  kitchen_area  balcony    locality_name  airports_nearest  \\\n",
       "0      False          25.0      NaN  Санкт-Петербург           18863.0   \n",
       "1      False          11.0      2.0   посёлок Шушары           12817.0   \n",
       "2      False           8.3      0.0  Санкт-Петербург           21741.0   \n",
       "3      False           NaN      0.0  Санкт-Петербург           28098.0   \n",
       "4      False          41.0      NaN  Санкт-Петербург           31856.0   \n",
       "\n",
       "   cityCenters_nearest  parks_around3000  parks_nearest  ponds_around3000  \\\n",
       "0              16028.0               1.0          482.0               2.0   \n",
       "1              18603.0               0.0            NaN               0.0   \n",
       "2              13933.0               1.0           90.0               2.0   \n",
       "3               6800.0               2.0           84.0               3.0   \n",
       "4               8098.0               2.0          112.0               1.0   \n",
       "\n",
       "   ponds_nearest  days_exposition  \n",
       "0          755.0              NaN  \n",
       "1            NaN             81.0  \n",
       "2          574.0            558.0  \n",
       "3          234.0            424.0  \n",
       "4           48.0            121.0  "
      ]
     },
     "execution_count": 3,
     "metadata": {},
     "output_type": "execute_result"
    }
   ],
   "source": [
    "#откроем файл с данными и изучим общую информацию\n",
    "pd.set_option('display.max_columns', None)\n",
    "data = pd.read_csv('~/datasets/real_estate_data.csv', sep='\\t')\n",
    "data.head()"
   ]
  },
  {
   "cell_type": "markdown",
   "metadata": {},
   "source": [
    "На первый взгляд - очень много пропущенных значений, посмотрим общую информацию"
   ]
  },
  {
   "cell_type": "code",
   "execution_count": 4,
   "metadata": {
    "scrolled": false
   },
   "outputs": [
    {
     "name": "stdout",
     "output_type": "stream",
     "text": [
      "<class 'pandas.core.frame.DataFrame'>\n",
      "RangeIndex: 23699 entries, 0 to 23698\n",
      "Data columns (total 22 columns):\n",
      " #   Column                Non-Null Count  Dtype  \n",
      "---  ------                --------------  -----  \n",
      " 0   total_images          23699 non-null  int64  \n",
      " 1   last_price            23699 non-null  float64\n",
      " 2   total_area            23699 non-null  float64\n",
      " 3   first_day_exposition  23699 non-null  object \n",
      " 4   rooms                 23699 non-null  int64  \n",
      " 5   ceiling_height        14504 non-null  float64\n",
      " 6   floors_total          23613 non-null  float64\n",
      " 7   living_area           21796 non-null  float64\n",
      " 8   floor                 23699 non-null  int64  \n",
      " 9   is_apartment          2775 non-null   object \n",
      " 10  studio                23699 non-null  bool   \n",
      " 11  open_plan             23699 non-null  bool   \n",
      " 12  kitchen_area          21421 non-null  float64\n",
      " 13  balcony               12180 non-null  float64\n",
      " 14  locality_name         23650 non-null  object \n",
      " 15  airports_nearest      18157 non-null  float64\n",
      " 16  cityCenters_nearest   18180 non-null  float64\n",
      " 17  parks_around3000      18181 non-null  float64\n",
      " 18  parks_nearest         8079 non-null   float64\n",
      " 19  ponds_around3000      18181 non-null  float64\n",
      " 20  ponds_nearest         9110 non-null   float64\n",
      " 21  days_exposition       20518 non-null  float64\n",
      "dtypes: bool(2), float64(14), int64(3), object(3)\n",
      "memory usage: 3.7+ MB\n"
     ]
    }
   ],
   "source": [
    " data.info()"
   ]
  },
  {
   "cell_type": "markdown",
   "metadata": {},
   "source": [
    "Всего 23699 строк, 21 столбец. Есть столбцы с типом `bool(2)`, `float64(14)`, `int64(3)`, `object(3)`. Пропущенных значений действительно довольно много."
   ]
  },
  {
   "cell_type": "code",
   "execution_count": 5,
   "metadata": {},
   "outputs": [
    {
     "data": {
      "text/html": [
       "<div>\n",
       "<style scoped>\n",
       "    .dataframe tbody tr th:only-of-type {\n",
       "        vertical-align: middle;\n",
       "    }\n",
       "\n",
       "    .dataframe tbody tr th {\n",
       "        vertical-align: top;\n",
       "    }\n",
       "\n",
       "    .dataframe thead th {\n",
       "        text-align: right;\n",
       "    }\n",
       "</style>\n",
       "<table border=\"1\" class=\"dataframe\">\n",
       "  <thead>\n",
       "    <tr style=\"text-align: right;\">\n",
       "      <th></th>\n",
       "      <th>count</th>\n",
       "      <th>mean</th>\n",
       "      <th>std</th>\n",
       "      <th>min</th>\n",
       "      <th>25%</th>\n",
       "      <th>50%</th>\n",
       "      <th>75%</th>\n",
       "      <th>max</th>\n",
       "    </tr>\n",
       "  </thead>\n",
       "  <tbody>\n",
       "    <tr>\n",
       "      <th>total_images</th>\n",
       "      <td>23699.0</td>\n",
       "      <td>9.86</td>\n",
       "      <td>5.68</td>\n",
       "      <td>0.0</td>\n",
       "      <td>6.00</td>\n",
       "      <td>9.00</td>\n",
       "      <td>14.0</td>\n",
       "      <td>50.0</td>\n",
       "    </tr>\n",
       "    <tr>\n",
       "      <th>last_price</th>\n",
       "      <td>23699.0</td>\n",
       "      <td>6541548.77</td>\n",
       "      <td>10887013.27</td>\n",
       "      <td>12190.0</td>\n",
       "      <td>3400000.00</td>\n",
       "      <td>4650000.00</td>\n",
       "      <td>6800000.0</td>\n",
       "      <td>763000000.0</td>\n",
       "    </tr>\n",
       "    <tr>\n",
       "      <th>total_area</th>\n",
       "      <td>23699.0</td>\n",
       "      <td>60.35</td>\n",
       "      <td>35.65</td>\n",
       "      <td>12.0</td>\n",
       "      <td>40.00</td>\n",
       "      <td>52.00</td>\n",
       "      <td>69.9</td>\n",
       "      <td>900.0</td>\n",
       "    </tr>\n",
       "    <tr>\n",
       "      <th>rooms</th>\n",
       "      <td>23699.0</td>\n",
       "      <td>2.07</td>\n",
       "      <td>1.08</td>\n",
       "      <td>0.0</td>\n",
       "      <td>1.00</td>\n",
       "      <td>2.00</td>\n",
       "      <td>3.0</td>\n",
       "      <td>19.0</td>\n",
       "    </tr>\n",
       "    <tr>\n",
       "      <th>ceiling_height</th>\n",
       "      <td>14504.0</td>\n",
       "      <td>2.77</td>\n",
       "      <td>1.26</td>\n",
       "      <td>1.0</td>\n",
       "      <td>2.52</td>\n",
       "      <td>2.65</td>\n",
       "      <td>2.8</td>\n",
       "      <td>100.0</td>\n",
       "    </tr>\n",
       "    <tr>\n",
       "      <th>floors_total</th>\n",
       "      <td>23613.0</td>\n",
       "      <td>10.67</td>\n",
       "      <td>6.60</td>\n",
       "      <td>1.0</td>\n",
       "      <td>5.00</td>\n",
       "      <td>9.00</td>\n",
       "      <td>16.0</td>\n",
       "      <td>60.0</td>\n",
       "    </tr>\n",
       "    <tr>\n",
       "      <th>living_area</th>\n",
       "      <td>21796.0</td>\n",
       "      <td>34.46</td>\n",
       "      <td>22.03</td>\n",
       "      <td>2.0</td>\n",
       "      <td>18.60</td>\n",
       "      <td>30.00</td>\n",
       "      <td>42.3</td>\n",
       "      <td>409.7</td>\n",
       "    </tr>\n",
       "    <tr>\n",
       "      <th>floor</th>\n",
       "      <td>23699.0</td>\n",
       "      <td>5.89</td>\n",
       "      <td>4.89</td>\n",
       "      <td>1.0</td>\n",
       "      <td>2.00</td>\n",
       "      <td>4.00</td>\n",
       "      <td>8.0</td>\n",
       "      <td>33.0</td>\n",
       "    </tr>\n",
       "    <tr>\n",
       "      <th>kitchen_area</th>\n",
       "      <td>21421.0</td>\n",
       "      <td>10.57</td>\n",
       "      <td>5.91</td>\n",
       "      <td>1.3</td>\n",
       "      <td>7.00</td>\n",
       "      <td>9.10</td>\n",
       "      <td>12.0</td>\n",
       "      <td>112.0</td>\n",
       "    </tr>\n",
       "    <tr>\n",
       "      <th>balcony</th>\n",
       "      <td>12180.0</td>\n",
       "      <td>1.15</td>\n",
       "      <td>1.07</td>\n",
       "      <td>0.0</td>\n",
       "      <td>0.00</td>\n",
       "      <td>1.00</td>\n",
       "      <td>2.0</td>\n",
       "      <td>5.0</td>\n",
       "    </tr>\n",
       "    <tr>\n",
       "      <th>airports_nearest</th>\n",
       "      <td>18157.0</td>\n",
       "      <td>28793.67</td>\n",
       "      <td>12630.88</td>\n",
       "      <td>0.0</td>\n",
       "      <td>18585.00</td>\n",
       "      <td>26726.00</td>\n",
       "      <td>37273.0</td>\n",
       "      <td>84869.0</td>\n",
       "    </tr>\n",
       "    <tr>\n",
       "      <th>cityCenters_nearest</th>\n",
       "      <td>18180.0</td>\n",
       "      <td>14191.28</td>\n",
       "      <td>8608.39</td>\n",
       "      <td>181.0</td>\n",
       "      <td>9238.00</td>\n",
       "      <td>13098.50</td>\n",
       "      <td>16293.0</td>\n",
       "      <td>65968.0</td>\n",
       "    </tr>\n",
       "    <tr>\n",
       "      <th>parks_around3000</th>\n",
       "      <td>18181.0</td>\n",
       "      <td>0.61</td>\n",
       "      <td>0.80</td>\n",
       "      <td>0.0</td>\n",
       "      <td>0.00</td>\n",
       "      <td>0.00</td>\n",
       "      <td>1.0</td>\n",
       "      <td>3.0</td>\n",
       "    </tr>\n",
       "    <tr>\n",
       "      <th>parks_nearest</th>\n",
       "      <td>8079.0</td>\n",
       "      <td>490.80</td>\n",
       "      <td>342.32</td>\n",
       "      <td>1.0</td>\n",
       "      <td>288.00</td>\n",
       "      <td>455.00</td>\n",
       "      <td>612.0</td>\n",
       "      <td>3190.0</td>\n",
       "    </tr>\n",
       "    <tr>\n",
       "      <th>ponds_around3000</th>\n",
       "      <td>18181.0</td>\n",
       "      <td>0.77</td>\n",
       "      <td>0.94</td>\n",
       "      <td>0.0</td>\n",
       "      <td>0.00</td>\n",
       "      <td>1.00</td>\n",
       "      <td>1.0</td>\n",
       "      <td>3.0</td>\n",
       "    </tr>\n",
       "    <tr>\n",
       "      <th>ponds_nearest</th>\n",
       "      <td>9110.0</td>\n",
       "      <td>517.98</td>\n",
       "      <td>277.72</td>\n",
       "      <td>13.0</td>\n",
       "      <td>294.00</td>\n",
       "      <td>502.00</td>\n",
       "      <td>729.0</td>\n",
       "      <td>1344.0</td>\n",
       "    </tr>\n",
       "    <tr>\n",
       "      <th>days_exposition</th>\n",
       "      <td>20518.0</td>\n",
       "      <td>180.89</td>\n",
       "      <td>219.73</td>\n",
       "      <td>1.0</td>\n",
       "      <td>45.00</td>\n",
       "      <td>95.00</td>\n",
       "      <td>232.0</td>\n",
       "      <td>1580.0</td>\n",
       "    </tr>\n",
       "  </tbody>\n",
       "</table>\n",
       "</div>"
      ],
      "text/plain": [
       "                       count        mean          std      min         25%  \\\n",
       "total_images         23699.0        9.86         5.68      0.0        6.00   \n",
       "last_price           23699.0  6541548.77  10887013.27  12190.0  3400000.00   \n",
       "total_area           23699.0       60.35        35.65     12.0       40.00   \n",
       "rooms                23699.0        2.07         1.08      0.0        1.00   \n",
       "ceiling_height       14504.0        2.77         1.26      1.0        2.52   \n",
       "floors_total         23613.0       10.67         6.60      1.0        5.00   \n",
       "living_area          21796.0       34.46        22.03      2.0       18.60   \n",
       "floor                23699.0        5.89         4.89      1.0        2.00   \n",
       "kitchen_area         21421.0       10.57         5.91      1.3        7.00   \n",
       "balcony              12180.0        1.15         1.07      0.0        0.00   \n",
       "airports_nearest     18157.0    28793.67     12630.88      0.0    18585.00   \n",
       "cityCenters_nearest  18180.0    14191.28      8608.39    181.0     9238.00   \n",
       "parks_around3000     18181.0        0.61         0.80      0.0        0.00   \n",
       "parks_nearest         8079.0      490.80       342.32      1.0      288.00   \n",
       "ponds_around3000     18181.0        0.77         0.94      0.0        0.00   \n",
       "ponds_nearest         9110.0      517.98       277.72     13.0      294.00   \n",
       "days_exposition      20518.0      180.89       219.73      1.0       45.00   \n",
       "\n",
       "                            50%        75%          max  \n",
       "total_images               9.00       14.0         50.0  \n",
       "last_price           4650000.00  6800000.0  763000000.0  \n",
       "total_area                52.00       69.9        900.0  \n",
       "rooms                      2.00        3.0         19.0  \n",
       "ceiling_height             2.65        2.8        100.0  \n",
       "floors_total               9.00       16.0         60.0  \n",
       "living_area               30.00       42.3        409.7  \n",
       "floor                      4.00        8.0         33.0  \n",
       "kitchen_area               9.10       12.0        112.0  \n",
       "balcony                    1.00        2.0          5.0  \n",
       "airports_nearest       26726.00    37273.0      84869.0  \n",
       "cityCenters_nearest    13098.50    16293.0      65968.0  \n",
       "parks_around3000           0.00        1.0          3.0  \n",
       "parks_nearest            455.00      612.0       3190.0  \n",
       "ponds_around3000           1.00        1.0          3.0  \n",
       "ponds_nearest            502.00      729.0       1344.0  \n",
       "days_exposition           95.00      232.0       1580.0  "
      ]
     },
     "execution_count": 5,
     "metadata": {},
     "output_type": "execute_result"
    }
   ],
   "source": [
    "data.describe().T.round(2)"
   ]
  },
  {
   "cell_type": "markdown",
   "metadata": {},
   "source": [
    "### Вывод\n",
    "<a id='1.1'></a>"
   ]
  },
  {
   "cell_type": "markdown",
   "metadata": {},
   "source": [
    "Для дальнейшего анализа необходимо заполнить пропущенные значения для столбцов, где это возможно, переименовать столбцы, изменить тип данных."
   ]
  },
  {
   "cell_type": "markdown",
   "metadata": {},
   "source": [
    "## Предобработка данных\n",
    "<a id='2'></a>"
   ]
  },
  {
   "cell_type": "code",
   "execution_count": 6,
   "metadata": {},
   "outputs": [
    {
     "data": {
      "text/html": [
       "<div>\n",
       "<style scoped>\n",
       "    .dataframe tbody tr th:only-of-type {\n",
       "        vertical-align: middle;\n",
       "    }\n",
       "\n",
       "    .dataframe tbody tr th {\n",
       "        vertical-align: top;\n",
       "    }\n",
       "\n",
       "    .dataframe thead th {\n",
       "        text-align: right;\n",
       "    }\n",
       "</style>\n",
       "<table border=\"1\" class=\"dataframe\">\n",
       "  <thead>\n",
       "    <tr style=\"text-align: right;\">\n",
       "      <th></th>\n",
       "      <th>total_images</th>\n",
       "      <th>last_price</th>\n",
       "      <th>total_area</th>\n",
       "      <th>first_day_exposition</th>\n",
       "      <th>rooms</th>\n",
       "      <th>ceiling_height</th>\n",
       "      <th>floors_total</th>\n",
       "      <th>living_area</th>\n",
       "      <th>floor</th>\n",
       "      <th>is_apartment</th>\n",
       "      <th>studio</th>\n",
       "      <th>open_plan</th>\n",
       "      <th>kitchen_area</th>\n",
       "      <th>balcony</th>\n",
       "      <th>locality_name</th>\n",
       "      <th>airports_nearest</th>\n",
       "      <th>cityCenters_nearest</th>\n",
       "      <th>parks_around3000</th>\n",
       "      <th>parks_nearest</th>\n",
       "      <th>ponds_around3000</th>\n",
       "      <th>ponds_nearest</th>\n",
       "      <th>days_exposition</th>\n",
       "    </tr>\n",
       "  </thead>\n",
       "  <tbody>\n",
       "    <tr>\n",
       "      <th>0</th>\n",
       "      <td>20</td>\n",
       "      <td>13000000.0</td>\n",
       "      <td>108.0</td>\n",
       "      <td>2019-03-07</td>\n",
       "      <td>3</td>\n",
       "      <td>2.70</td>\n",
       "      <td>16.0</td>\n",
       "      <td>51.0</td>\n",
       "      <td>8</td>\n",
       "      <td>NaN</td>\n",
       "      <td>False</td>\n",
       "      <td>False</td>\n",
       "      <td>25.0</td>\n",
       "      <td>NaN</td>\n",
       "      <td>Санкт-Петербург</td>\n",
       "      <td>18863.0</td>\n",
       "      <td>16028.0</td>\n",
       "      <td>1.0</td>\n",
       "      <td>482.0</td>\n",
       "      <td>2.0</td>\n",
       "      <td>755.0</td>\n",
       "      <td>NaN</td>\n",
       "    </tr>\n",
       "    <tr>\n",
       "      <th>1</th>\n",
       "      <td>7</td>\n",
       "      <td>3350000.0</td>\n",
       "      <td>40.4</td>\n",
       "      <td>2018-12-04</td>\n",
       "      <td>1</td>\n",
       "      <td>NaN</td>\n",
       "      <td>11.0</td>\n",
       "      <td>18.6</td>\n",
       "      <td>1</td>\n",
       "      <td>NaN</td>\n",
       "      <td>False</td>\n",
       "      <td>False</td>\n",
       "      <td>11.0</td>\n",
       "      <td>2.0</td>\n",
       "      <td>посёлок Шушары</td>\n",
       "      <td>12817.0</td>\n",
       "      <td>18603.0</td>\n",
       "      <td>0.0</td>\n",
       "      <td>NaN</td>\n",
       "      <td>0.0</td>\n",
       "      <td>NaN</td>\n",
       "      <td>81.0</td>\n",
       "    </tr>\n",
       "    <tr>\n",
       "      <th>2</th>\n",
       "      <td>10</td>\n",
       "      <td>5196000.0</td>\n",
       "      <td>56.0</td>\n",
       "      <td>2015-08-20</td>\n",
       "      <td>2</td>\n",
       "      <td>NaN</td>\n",
       "      <td>5.0</td>\n",
       "      <td>34.3</td>\n",
       "      <td>4</td>\n",
       "      <td>NaN</td>\n",
       "      <td>False</td>\n",
       "      <td>False</td>\n",
       "      <td>8.3</td>\n",
       "      <td>0.0</td>\n",
       "      <td>Санкт-Петербург</td>\n",
       "      <td>21741.0</td>\n",
       "      <td>13933.0</td>\n",
       "      <td>1.0</td>\n",
       "      <td>90.0</td>\n",
       "      <td>2.0</td>\n",
       "      <td>574.0</td>\n",
       "      <td>558.0</td>\n",
       "    </tr>\n",
       "    <tr>\n",
       "      <th>3</th>\n",
       "      <td>0</td>\n",
       "      <td>64900000.0</td>\n",
       "      <td>159.0</td>\n",
       "      <td>2015-07-24</td>\n",
       "      <td>3</td>\n",
       "      <td>NaN</td>\n",
       "      <td>14.0</td>\n",
       "      <td>NaN</td>\n",
       "      <td>9</td>\n",
       "      <td>NaN</td>\n",
       "      <td>False</td>\n",
       "      <td>False</td>\n",
       "      <td>NaN</td>\n",
       "      <td>0.0</td>\n",
       "      <td>Санкт-Петербург</td>\n",
       "      <td>28098.0</td>\n",
       "      <td>6800.0</td>\n",
       "      <td>2.0</td>\n",
       "      <td>84.0</td>\n",
       "      <td>3.0</td>\n",
       "      <td>234.0</td>\n",
       "      <td>424.0</td>\n",
       "    </tr>\n",
       "    <tr>\n",
       "      <th>4</th>\n",
       "      <td>2</td>\n",
       "      <td>10000000.0</td>\n",
       "      <td>100.0</td>\n",
       "      <td>2018-06-19</td>\n",
       "      <td>2</td>\n",
       "      <td>3.03</td>\n",
       "      <td>14.0</td>\n",
       "      <td>32.0</td>\n",
       "      <td>13</td>\n",
       "      <td>NaN</td>\n",
       "      <td>False</td>\n",
       "      <td>False</td>\n",
       "      <td>41.0</td>\n",
       "      <td>NaN</td>\n",
       "      <td>Санкт-Петербург</td>\n",
       "      <td>31856.0</td>\n",
       "      <td>8098.0</td>\n",
       "      <td>2.0</td>\n",
       "      <td>112.0</td>\n",
       "      <td>1.0</td>\n",
       "      <td>48.0</td>\n",
       "      <td>121.0</td>\n",
       "    </tr>\n",
       "  </tbody>\n",
       "</table>\n",
       "</div>"
      ],
      "text/plain": [
       "   total_images  last_price  total_area first_day_exposition  rooms  \\\n",
       "0            20  13000000.0       108.0           2019-03-07      3   \n",
       "1             7   3350000.0        40.4           2018-12-04      1   \n",
       "2            10   5196000.0        56.0           2015-08-20      2   \n",
       "3             0  64900000.0       159.0           2015-07-24      3   \n",
       "4             2  10000000.0       100.0           2018-06-19      2   \n",
       "\n",
       "   ceiling_height  floors_total  living_area  floor is_apartment  studio  \\\n",
       "0            2.70          16.0         51.0      8          NaN   False   \n",
       "1             NaN          11.0         18.6      1          NaN   False   \n",
       "2             NaN           5.0         34.3      4          NaN   False   \n",
       "3             NaN          14.0          NaN      9          NaN   False   \n",
       "4            3.03          14.0         32.0     13          NaN   False   \n",
       "\n",
       "   open_plan  kitchen_area  balcony    locality_name  airports_nearest  \\\n",
       "0      False          25.0      NaN  Санкт-Петербург           18863.0   \n",
       "1      False          11.0      2.0   посёлок Шушары           12817.0   \n",
       "2      False           8.3      0.0  Санкт-Петербург           21741.0   \n",
       "3      False           NaN      0.0  Санкт-Петербург           28098.0   \n",
       "4      False          41.0      NaN  Санкт-Петербург           31856.0   \n",
       "\n",
       "   cityCenters_nearest  parks_around3000  parks_nearest  ponds_around3000  \\\n",
       "0              16028.0               1.0          482.0               2.0   \n",
       "1              18603.0               0.0            NaN               0.0   \n",
       "2              13933.0               1.0           90.0               2.0   \n",
       "3               6800.0               2.0           84.0               3.0   \n",
       "4               8098.0               2.0          112.0               1.0   \n",
       "\n",
       "   ponds_nearest  days_exposition  \n",
       "0          755.0              NaN  \n",
       "1            NaN             81.0  \n",
       "2          574.0            558.0  \n",
       "3          234.0            424.0  \n",
       "4           48.0            121.0  "
      ]
     },
     "execution_count": 6,
     "metadata": {},
     "output_type": "execute_result"
    }
   ],
   "source": [
    "#изменим формат даты в datetime.\n",
    "data['first_day_exposition'] = pd.to_datetime(data['first_day_exposition'], format = '%Y-%m-%dT%H:%M:%S')\n",
    "data.head()"
   ]
  },
  {
   "cell_type": "code",
   "execution_count": 7,
   "metadata": {},
   "outputs": [
    {
     "data": {
      "text/plain": [
       "Index(['total_images', 'last_price', 'total_area', 'first_day_exposition',\n",
       "       'rooms', 'ceiling_height', 'floors_total', 'living_area', 'floor',\n",
       "       'is_apartment', 'studio', 'open_plan', 'kitchen_area', 'balcony',\n",
       "       'locality_name', 'airports_nearest', 'city_centers_nearest',\n",
       "       'parks_around_3000', 'parks_nearest', 'ponds_around_3000',\n",
       "       'ponds_nearest', 'days_exposition'],\n",
       "      dtype='object')"
      ]
     },
     "execution_count": 7,
     "metadata": {},
     "output_type": "execute_result"
    }
   ],
   "source": [
    "#переименуем столбцы для одинакового, красивого отображения\n",
    "data = data.rename(columns = {'cityCenters_nearest':'city_centers_nearest','parks_around3000':'parks_around_3000', 'ponds_around3000':'ponds_around_3000'})\n",
    "data.columns"
   ]
  },
  {
   "cell_type": "code",
   "execution_count": 8,
   "metadata": {},
   "outputs": [
    {
     "name": "stdout",
     "output_type": "stream",
     "text": [
      "365\n"
     ]
    },
    {
     "data": {
      "text/plain": [
       "306"
      ]
     },
     "execution_count": 8,
     "metadata": {},
     "output_type": "execute_result"
    }
   ],
   "source": [
    "#посмотрим сколько уникальных значений в столбце 'locality_name'\n",
    "print(len(data['locality_name'].unique()))\n",
    "\n",
    "#оставим в 'locality_name' только ту часть, которая начинается с большой буквы, чтобы уменьшить вероятность дублирования названий\n",
    "data['locality_name'].replace(r'[^А-Я]*([А-Я].*)', r'\\g<1>', inplace=True, regex=True)\n",
    "\n",
    "#посмотрим сколько уникальных значений осталось\n",
    "len(data['locality_name'].unique())"
   ]
  },
  {
   "cell_type": "markdown",
   "metadata": {},
   "source": [
    "Уникальных значений осталось 306. Заполним столбец `locality_name` по совпадению 2х критериев (расстояние до центра города, расстояние до аэропорта), остальные заполним значением `unknown`."
   ]
  },
  {
   "cell_type": "code",
   "execution_count": 10,
   "metadata": {},
   "outputs": [
    {
     "data": {
      "text/plain": [
       "0"
      ]
     },
     "execution_count": 10,
     "metadata": {},
     "output_type": "execute_result"
    }
   ],
   "source": [
    "#заполним столбец 'locality_name' по совпадению 2х критериев (расстояние до центра города, расстояние до аэропорта)\n",
    "values = (data.groupby(['city_centers_nearest', 'airports_nearest'])\n",
    "         .agg({'locality_name':'first'}).rename(columns={'locality_name':'locality_for_replace'}))\n",
    "\n",
    "data = data.merge(values, how='left', on=['city_centers_nearest', 'airports_nearest'])\n",
    "data.loc[data['locality_name'].isna(),'locality_name'] = data.loc[data['locality_name'].isna(),'locality_for_replace']\n",
    "\n",
    "#удалим дополнительный столбец, он нам больше не нужен\n",
    "data = data.drop(columns = ['locality_for_replace'])\n",
    "\n",
    "#остальные заполним как 'unknown'\n",
    "data.loc[data['locality_name'].isna(),'locality_name'] = 'unknown'\n",
    "\n",
    "data['locality_name'].isna().sum()"
   ]
  },
  {
   "cell_type": "code",
   "execution_count": 11,
   "metadata": {},
   "outputs": [
    {
     "data": {
      "text/plain": [
       "(0, 0)"
      ]
     },
     "execution_count": 11,
     "metadata": {},
     "output_type": "execute_result"
    }
   ],
   "source": [
    "#заполним пропуски в стобце 'balcony' на 0, если их не указали, вероятно их нет\n",
    "data['balcony']= data['balcony'].fillna(0)\n",
    "\n",
    "#заполним пропуски в стобце 'is_apartment' на значение False, так как такого вида жилья не так много, \n",
    "#вероятнее всего отсутствующее значение означает, что это не апартамены\n",
    "data['is_apartment']= data['is_apartment'].fillna(False)\n",
    "\n",
    "data['balcony'].isna().sum(), data['is_apartment'].isna().sum()"
   ]
  },
  {
   "cell_type": "code",
   "execution_count": 12,
   "metadata": {},
   "outputs": [
    {
     "name": "stdout",
     "output_type": "stream",
     "text": [
      "пустых строк в столбце days_exposition: 13.42%\n"
     ]
    },
    {
     "data": {
      "image/png": "[encoded data removed]",
      "text/plain": [
       "<Figure size 1080x360 with 2 Axes>"
      ]
     },
     "metadata": {
      "needs_background": "light"
     },
     "output_type": "display_data"
    }
   ],
   "source": [
    "#построим гистограммы  для столбца first_day_exposition для двух срезов: для среза с пропусками в \n",
    "#days_exposition(сколько дней было размещено объявление от публикации до снятия) и среза без пропусков \n",
    "\n",
    "data_for_hist = data[data['days_exposition'].isna()]\n",
    "\n",
    "fig, axes = plt.subplots(1,2, figsize=(15,5))\n",
    "\n",
    "data_for_hist['first_day_exposition'].hist(bins=48,ax=axes[0])\n",
    "axes[0].set_title('срез по пропускам в days_exposition')\n",
    "axes[0].set_ylabel('количество')\n",
    "axes[0].legend(['дата публикации'])\n",
    "\n",
    "data['first_day_exposition'].hist(bins=48,ax=axes[1])\n",
    "axes[1].set_title('срез без пропусков в days_exposition')\n",
    "axes[1].legend(['дата публикации'])\n",
    "axes[1].set_ylabel('количество')\n",
    "\n",
    "fig.autofmt_xdate()\n",
    "\n",
    "#посчитаем долю пустых строк в столбце 'days_exposition' в общем количестве строк\n",
    "empty_row_exposition=(data['days_exposition'].isna().sum()/len(data['days_exposition'])*100).round(2)\n",
    "print(f'пустых строк в столбце days_exposition: {empty_row_exposition}%')"
   ]
  },
  {
   "cell_type": "markdown",
   "metadata": {},
   "source": [
    "Пропущенные значения в столбце `days_exposition` оставим как есть, так как по гистограмме видно, что большая часть из них максимально близка к конечной дате нашего датасета. Если их заполнить разницей между последним днем в датасете и датой опубликования, то это будет некорректно, ведь открытые объявления станут закрытыми "
   ]
  },
  {
   "cell_type": "code",
   "execution_count": 13,
   "metadata": {},
   "outputs": [
    {
     "name": "stdout",
     "output_type": "stream",
     "text": [
      "Пустых строк в столбце ceiling_height: 38.8%\n"
     ]
    }
   ],
   "source": [
    "#посчитаем отношение пустых строк в столбце 'ceiling_height' к общему, чтобы принять решение заполнять или нет\n",
    "empty_row=(data['ceiling_height'].isna().sum()/len(data['ceiling_height'])*100).round(2)\n",
    "print(f'Пустых строк в столбце ceiling_height: {empty_row}%')"
   ]
  },
  {
   "cell_type": "markdown",
   "metadata": {},
   "source": [
    "Доля пропусков слишком большая, чтобы заполнить ее медианой по всему столбцу, это создаст большой пик в медиане, что влияет на корреляцию и дисперсию. Т.к. замена пропусков прежде всего должна сохранять распределение, а уже потом заменять все пропуски, то лучше оставить пропуски как есть."
   ]
  },
  {
   "cell_type": "code",
   "execution_count": 14,
   "metadata": {},
   "outputs": [
    {
     "data": {
      "text/html": [
       "<div>\n",
       "<style scoped>\n",
       "    .dataframe tbody tr th:only-of-type {\n",
       "        vertical-align: middle;\n",
       "    }\n",
       "\n",
       "    .dataframe tbody tr th {\n",
       "        vertical-align: top;\n",
       "    }\n",
       "\n",
       "    .dataframe thead th {\n",
       "        text-align: right;\n",
       "    }\n",
       "</style>\n",
       "<table border=\"1\" class=\"dataframe\">\n",
       "  <thead>\n",
       "    <tr style=\"text-align: right;\">\n",
       "      <th></th>\n",
       "      <th>kitchen_area</th>\n",
       "    </tr>\n",
       "    <tr>\n",
       "      <th>studio</th>\n",
       "      <th></th>\n",
       "    </tr>\n",
       "  </thead>\n",
       "  <tbody>\n",
       "    <tr>\n",
       "      <th>False</th>\n",
       "      <td>226415.84</td>\n",
       "    </tr>\n",
       "    <tr>\n",
       "      <th>True</th>\n",
       "      <td>0.00</td>\n",
       "    </tr>\n",
       "  </tbody>\n",
       "</table>\n",
       "</div>"
      ],
      "text/plain": [
       "        kitchen_area\n",
       "studio              \n",
       "False      226415.84\n",
       "True            0.00"
      ]
     },
     "metadata": {},
     "output_type": "display_data"
    },
    {
     "data": {
      "text/html": [
       "<div>\n",
       "<style scoped>\n",
       "    .dataframe tbody tr th:only-of-type {\n",
       "        vertical-align: middle;\n",
       "    }\n",
       "\n",
       "    .dataframe tbody tr th {\n",
       "        vertical-align: top;\n",
       "    }\n",
       "\n",
       "    .dataframe thead th {\n",
       "        text-align: right;\n",
       "    }\n",
       "</style>\n",
       "<table border=\"1\" class=\"dataframe\">\n",
       "  <thead>\n",
       "    <tr style=\"text-align: right;\">\n",
       "      <th></th>\n",
       "      <th>kitchen_area</th>\n",
       "    </tr>\n",
       "    <tr>\n",
       "      <th>open_plan</th>\n",
       "      <th></th>\n",
       "    </tr>\n",
       "  </thead>\n",
       "  <tbody>\n",
       "    <tr>\n",
       "      <th>False</th>\n",
       "      <td>226415.84</td>\n",
       "    </tr>\n",
       "    <tr>\n",
       "      <th>True</th>\n",
       "      <td>0.00</td>\n",
       "    </tr>\n",
       "  </tbody>\n",
       "</table>\n",
       "</div>"
      ],
      "text/plain": [
       "           kitchen_area\n",
       "open_plan              \n",
       "False         226415.84\n",
       "True               0.00"
      ]
     },
     "execution_count": 14,
     "metadata": {},
     "output_type": "execute_result"
    }
   ],
   "source": [
    "#посмотрим указана ли площадь кухни в студиях и квартирах с отрытой планировкой, если их нет, \n",
    "#то заполним значением 0, так как в студиях и квартирах с открытой планировкой кухня является частью жилой площади\n",
    "display(data.pivot_table(index='studio', values= 'kitchen_area', aggfunc ='sum'))\n",
    "data.pivot_table(index='open_plan', values= 'kitchen_area', aggfunc ='sum')"
   ]
  },
  {
   "cell_type": "code",
   "execution_count": 15,
   "metadata": {},
   "outputs": [
    {
     "data": {
      "text/plain": [
       "0"
      ]
     },
     "execution_count": 15,
     "metadata": {},
     "output_type": "execute_result"
    }
   ],
   "source": [
    "#пропуски в столбце 'kitchen_area' в студиях и квартирах с открытыми планировками заполним 0\n",
    "data.loc[(data['kitchen_area'].isna()) & (data['studio']==True),'kitchen_area'] = 0\n",
    "data.loc[(data['kitchen_area'].isna()) & (data['open_plan']==True),'kitchen_area'] = 0\n",
    "\n",
    "#оставшиеся, заполним медианными значениями по критерию количество комнат\n",
    "for room in data['rooms'].unique():\n",
    "    median = data.loc[data['rooms'] == room, 'kitchen_area'].median()\n",
    "    data.loc[(data['kitchen_area'].isna()) & (data['rooms'] == room), 'kitchen_area']= median\n",
    "\n",
    "data['kitchen_area'].isna().sum()"
   ]
  },
  {
   "cell_type": "code",
   "execution_count": 16,
   "metadata": {},
   "outputs": [
    {
     "data": {
      "text/plain": [
       "0"
      ]
     },
     "execution_count": 16,
     "metadata": {},
     "output_type": "execute_result"
    }
   ],
   "source": [
    "#пропуски в столбце 'living_area' заполним средними значениями по совпадению двух столбцов 'total_area'и 'rooms'\n",
    "#gb = data.groupby(['total_area','rooms'])\n",
    "#data['living_area'] = data['living_area'].fillna(gb['living_area'].transform(lambda group: group.mean() / (group.name[0])) * data['total_area'])\n",
    "\n",
    "#Пропуски в столбце 'living_area' заполним медианными значениями по всему столбцу\n",
    "data.loc[data['living_area'].isna(), 'living_area'] = data['living_area'].median()\n",
    "data['living_area'].isna().sum()"
   ]
  },
  {
   "cell_type": "code",
   "execution_count": 17,
   "metadata": {},
   "outputs": [
    {
     "data": {
      "text/plain": [
       "77"
      ]
     },
     "execution_count": 17,
     "metadata": {},
     "output_type": "execute_result"
    }
   ],
   "source": [
    "#проверим, что после заполнения не появились строки, где жилая площадь больше, чем общая\n",
    "len(data.loc[data['living_area']>data['total_area'],'living_area'])"
   ]
  },
  {
   "cell_type": "code",
   "execution_count": 18,
   "metadata": {},
   "outputs": [
    {
     "data": {
      "text/plain": [
       "0"
      ]
     },
     "execution_count": 18,
     "metadata": {},
     "output_type": "execute_result"
    }
   ],
   "source": [
    "#заполним эти строки значением из столбца с общей площадью\n",
    "data.loc[data['living_area']>data['total_area'],'living_area'] = data.loc[data['living_area']>data['total_area'],'total_area']\n",
    "#проверим\n",
    "len(data.loc[data['living_area']>data['total_area'],'living_area'])"
   ]
  },
  {
   "cell_type": "code",
   "execution_count": 19,
   "metadata": {},
   "outputs": [
    {
     "data": {
      "text/plain": [
       "(23613, 22)"
      ]
     },
     "execution_count": 19,
     "metadata": {},
     "output_type": "execute_result"
    }
   ],
   "source": [
    "#данные по столбцу floors_total восстановить нет возможности. Их всего 84 (менее 1%) - это не повлияет на результаты, \n",
    "#поэтому можем удалить эти строки\n",
    "data=data.dropna(subset=['floors_total'])\n",
    "data.shape"
   ]
  },
  {
   "cell_type": "code",
   "execution_count": 20,
   "metadata": {
    "scrolled": false
   },
   "outputs": [
    {
     "data": {
      "text/plain": [
       "total_images                0\n",
       "last_price                  0\n",
       "total_area                  0\n",
       "first_day_exposition        0\n",
       "rooms                       0\n",
       "ceiling_height           9118\n",
       "floors_total                0\n",
       "living_area                 0\n",
       "floor                       0\n",
       "is_apartment                0\n",
       "studio                      0\n",
       "open_plan                   0\n",
       "kitchen_area                0\n",
       "balcony                     0\n",
       "locality_name               0\n",
       "airports_nearest         5532\n",
       "city_centers_nearest     5509\n",
       "parks_around_3000        5508\n",
       "parks_nearest           15568\n",
       "ponds_around_3000        5508\n",
       "ponds_nearest           14552\n",
       "days_exposition          3172\n",
       "dtype: int64"
      ]
     },
     "execution_count": 20,
     "metadata": {},
     "output_type": "execute_result"
    }
   ],
   "source": [
    "#остальные пропуски не можем ничем заполнить, поэтому оставим их как есть\n",
    "data.isna().sum()"
   ]
  },
  {
   "cell_type": "markdown",
   "metadata": {},
   "source": [
    "### Измененение типа данных\n",
    "<a id='2.1'></a>"
   ]
  },
  {
   "cell_type": "code",
   "execution_count": 21,
   "metadata": {},
   "outputs": [],
   "source": [
    "#преобразуем столбцы last_price','floors_total','balcony' из float64 в int64\n",
    "columns = ['last_price','floors_total','balcony']\n",
    "for column in columns:\n",
    "    try:\n",
    "        data[column] = data[column].astype('int64')\n",
    "    except:\n",
    "        print(f'Не получается преобразовать {column} в int64!')"
   ]
  },
  {
   "cell_type": "markdown",
   "metadata": {},
   "source": [
    "### Вывод\n",
    "<a id='2.2'></a>"
   ]
  },
  {
   "cell_type": "markdown",
   "metadata": {},
   "source": [
    "- Изменили формат даты в `datetime`.\n",
    "- Переименовали столбцы для одинакового, красивого отображения\n",
    "- Заполнили столбец `locality_name` по совпадению 2х критериев (расстояние до центра города, расстояние до аэропорта).\n",
    "- Заполнили пропуски в стобце `balcony` на 0\n",
    "- Заполнили пропуски в стобце `is_apartment` на значение `False`.\n",
    "- Заполнили пропущенные значения в столбце `days_exposition` (сколько дней было размещено объявление от публикации до снятия) разницей между самой последней датой размещения в датасете и датой размещения, так последний день размещения является конечной датой в датасете.\n",
    "- Пропуски в столбце `ceiling_height` (высота потолков) оставили как есть, так как их доля слишком велика (38%) и замена медианой приведет к пикам.\n",
    "- Пропуски в столбце `kitchen_area` для студий и квартир с открытой планировкой заполнили значением 0, так как в студиях и квартирах с открытой планировкой кухня является частью общей площади и площадь кухни отдельно не указывается. Оставшиеся, заполнили медианными значениями по критерию количество комнат\n",
    "- Пропуски в столбце `living_area` заполнили средними значениями по всему столбцу\n",
    "- Пропуски по столбцу `floors_total` восстановить не удалось, 84 строки (менее 1%) было решено удалить.\n",
    "- Остальные пропуски оставили их как есть, так как заменить их нечем."
   ]
  },
  {
   "cell_type": "markdown",
   "metadata": {},
   "source": [
    "## Расчёты и добавление результатов в таблицу\n",
    "<a id='3'></a>"
   ]
  },
  {
   "cell_type": "code",
   "execution_count": 22,
   "metadata": {},
   "outputs": [
    {
     "data": {
      "text/html": [
       "<div>\n",
       "<style scoped>\n",
       "    .dataframe tbody tr th:only-of-type {\n",
       "        vertical-align: middle;\n",
       "    }\n",
       "\n",
       "    .dataframe tbody tr th {\n",
       "        vertical-align: top;\n",
       "    }\n",
       "\n",
       "    .dataframe thead th {\n",
       "        text-align: right;\n",
       "    }\n",
       "</style>\n",
       "<table border=\"1\" class=\"dataframe\">\n",
       "  <thead>\n",
       "    <tr style=\"text-align: right;\">\n",
       "      <th></th>\n",
       "      <th>total_images</th>\n",
       "      <th>last_price</th>\n",
       "      <th>total_area</th>\n",
       "      <th>first_day_exposition</th>\n",
       "      <th>rooms</th>\n",
       "      <th>ceiling_height</th>\n",
       "      <th>floors_total</th>\n",
       "      <th>living_area</th>\n",
       "      <th>floor</th>\n",
       "      <th>is_apartment</th>\n",
       "      <th>studio</th>\n",
       "      <th>open_plan</th>\n",
       "      <th>kitchen_area</th>\n",
       "      <th>balcony</th>\n",
       "      <th>locality_name</th>\n",
       "      <th>airports_nearest</th>\n",
       "      <th>city_centers_nearest</th>\n",
       "      <th>parks_around_3000</th>\n",
       "      <th>parks_nearest</th>\n",
       "      <th>ponds_around_3000</th>\n",
       "      <th>ponds_nearest</th>\n",
       "      <th>days_exposition</th>\n",
       "      <th>price_per_metr</th>\n",
       "    </tr>\n",
       "  </thead>\n",
       "  <tbody>\n",
       "    <tr>\n",
       "      <th>0</th>\n",
       "      <td>20</td>\n",
       "      <td>13000000</td>\n",
       "      <td>108.0</td>\n",
       "      <td>2019-03-07</td>\n",
       "      <td>3</td>\n",
       "      <td>2.70</td>\n",
       "      <td>16</td>\n",
       "      <td>51.0</td>\n",
       "      <td>8</td>\n",
       "      <td>False</td>\n",
       "      <td>False</td>\n",
       "      <td>False</td>\n",
       "      <td>25.0</td>\n",
       "      <td>0</td>\n",
       "      <td>Санкт-Петербург</td>\n",
       "      <td>18863.0</td>\n",
       "      <td>16028.0</td>\n",
       "      <td>1.0</td>\n",
       "      <td>482.0</td>\n",
       "      <td>2.0</td>\n",
       "      <td>755.0</td>\n",
       "      <td>NaN</td>\n",
       "      <td>120370.0</td>\n",
       "    </tr>\n",
       "    <tr>\n",
       "      <th>1</th>\n",
       "      <td>7</td>\n",
       "      <td>3350000</td>\n",
       "      <td>40.4</td>\n",
       "      <td>2018-12-04</td>\n",
       "      <td>1</td>\n",
       "      <td>NaN</td>\n",
       "      <td>11</td>\n",
       "      <td>18.6</td>\n",
       "      <td>1</td>\n",
       "      <td>False</td>\n",
       "      <td>False</td>\n",
       "      <td>False</td>\n",
       "      <td>11.0</td>\n",
       "      <td>2</td>\n",
       "      <td>Шушары</td>\n",
       "      <td>12817.0</td>\n",
       "      <td>18603.0</td>\n",
       "      <td>0.0</td>\n",
       "      <td>NaN</td>\n",
       "      <td>0.0</td>\n",
       "      <td>NaN</td>\n",
       "      <td>81.0</td>\n",
       "      <td>82921.0</td>\n",
       "    </tr>\n",
       "    <tr>\n",
       "      <th>2</th>\n",
       "      <td>10</td>\n",
       "      <td>5196000</td>\n",
       "      <td>56.0</td>\n",
       "      <td>2015-08-20</td>\n",
       "      <td>2</td>\n",
       "      <td>NaN</td>\n",
       "      <td>5</td>\n",
       "      <td>34.3</td>\n",
       "      <td>4</td>\n",
       "      <td>False</td>\n",
       "      <td>False</td>\n",
       "      <td>False</td>\n",
       "      <td>8.3</td>\n",
       "      <td>0</td>\n",
       "      <td>Санкт-Петербург</td>\n",
       "      <td>21741.0</td>\n",
       "      <td>13933.0</td>\n",
       "      <td>1.0</td>\n",
       "      <td>90.0</td>\n",
       "      <td>2.0</td>\n",
       "      <td>574.0</td>\n",
       "      <td>558.0</td>\n",
       "      <td>92786.0</td>\n",
       "    </tr>\n",
       "    <tr>\n",
       "      <th>3</th>\n",
       "      <td>0</td>\n",
       "      <td>64900000</td>\n",
       "      <td>159.0</td>\n",
       "      <td>2015-07-24</td>\n",
       "      <td>3</td>\n",
       "      <td>NaN</td>\n",
       "      <td>14</td>\n",
       "      <td>30.0</td>\n",
       "      <td>9</td>\n",
       "      <td>False</td>\n",
       "      <td>False</td>\n",
       "      <td>False</td>\n",
       "      <td>9.5</td>\n",
       "      <td>0</td>\n",
       "      <td>Санкт-Петербург</td>\n",
       "      <td>28098.0</td>\n",
       "      <td>6800.0</td>\n",
       "      <td>2.0</td>\n",
       "      <td>84.0</td>\n",
       "      <td>3.0</td>\n",
       "      <td>234.0</td>\n",
       "      <td>424.0</td>\n",
       "      <td>408176.0</td>\n",
       "    </tr>\n",
       "    <tr>\n",
       "      <th>4</th>\n",
       "      <td>2</td>\n",
       "      <td>10000000</td>\n",
       "      <td>100.0</td>\n",
       "      <td>2018-06-19</td>\n",
       "      <td>2</td>\n",
       "      <td>3.03</td>\n",
       "      <td>14</td>\n",
       "      <td>32.0</td>\n",
       "      <td>13</td>\n",
       "      <td>False</td>\n",
       "      <td>False</td>\n",
       "      <td>False</td>\n",
       "      <td>41.0</td>\n",
       "      <td>0</td>\n",
       "      <td>Санкт-Петербург</td>\n",
       "      <td>31856.0</td>\n",
       "      <td>8098.0</td>\n",
       "      <td>2.0</td>\n",
       "      <td>112.0</td>\n",
       "      <td>1.0</td>\n",
       "      <td>48.0</td>\n",
       "      <td>121.0</td>\n",
       "      <td>100000.0</td>\n",
       "    </tr>\n",
       "  </tbody>\n",
       "</table>\n",
       "</div>"
      ],
      "text/plain": [
       "   total_images  last_price  total_area first_day_exposition  rooms  \\\n",
       "0            20    13000000       108.0           2019-03-07      3   \n",
       "1             7     3350000        40.4           2018-12-04      1   \n",
       "2            10     5196000        56.0           2015-08-20      2   \n",
       "3             0    64900000       159.0           2015-07-24      3   \n",
       "4             2    10000000       100.0           2018-06-19      2   \n",
       "\n",
       "   ceiling_height  floors_total  living_area  floor  is_apartment  studio  \\\n",
       "0            2.70            16         51.0      8         False   False   \n",
       "1             NaN            11         18.6      1         False   False   \n",
       "2             NaN             5         34.3      4         False   False   \n",
       "3             NaN            14         30.0      9         False   False   \n",
       "4            3.03            14         32.0     13         False   False   \n",
       "\n",
       "   open_plan  kitchen_area  balcony    locality_name  airports_nearest  \\\n",
       "0      False          25.0        0  Санкт-Петербург           18863.0   \n",
       "1      False          11.0        2           Шушары           12817.0   \n",
       "2      False           8.3        0  Санкт-Петербург           21741.0   \n",
       "3      False           9.5        0  Санкт-Петербург           28098.0   \n",
       "4      False          41.0        0  Санкт-Петербург           31856.0   \n",
       "\n",
       "   city_centers_nearest  parks_around_3000  parks_nearest  ponds_around_3000  \\\n",
       "0               16028.0                1.0          482.0                2.0   \n",
       "1               18603.0                0.0            NaN                0.0   \n",
       "2               13933.0                1.0           90.0                2.0   \n",
       "3                6800.0                2.0           84.0                3.0   \n",
       "4                8098.0                2.0          112.0                1.0   \n",
       "\n",
       "   ponds_nearest  days_exposition  price_per_metr  \n",
       "0          755.0              NaN        120370.0  \n",
       "1            NaN             81.0         82921.0  \n",
       "2          574.0            558.0         92786.0  \n",
       "3          234.0            424.0        408176.0  \n",
       "4           48.0            121.0        100000.0  "
      ]
     },
     "execution_count": 22,
     "metadata": {},
     "output_type": "execute_result"
    }
   ],
   "source": [
    "#добавим столбец с ценой за квадратный метр, округлим до целых\n",
    "data['price_per_metr'] = (data['last_price']/data['total_area']).round(0)\n",
    "data.head()"
   ]
  },
  {
   "cell_type": "code",
   "execution_count": 23,
   "metadata": {},
   "outputs": [
    {
     "data": {
      "text/html": [
       "<div>\n",
       "<style scoped>\n",
       "    .dataframe tbody tr th:only-of-type {\n",
       "        vertical-align: middle;\n",
       "    }\n",
       "\n",
       "    .dataframe tbody tr th {\n",
       "        vertical-align: top;\n",
       "    }\n",
       "\n",
       "    .dataframe thead th {\n",
       "        text-align: right;\n",
       "    }\n",
       "</style>\n",
       "<table border=\"1\" class=\"dataframe\">\n",
       "  <thead>\n",
       "    <tr style=\"text-align: right;\">\n",
       "      <th></th>\n",
       "      <th>count</th>\n",
       "      <th>median</th>\n",
       "      <th>mean</th>\n",
       "    </tr>\n",
       "    <tr>\n",
       "      <th>locality_name</th>\n",
       "      <th></th>\n",
       "      <th></th>\n",
       "      <th></th>\n",
       "    </tr>\n",
       "  </thead>\n",
       "  <tbody>\n",
       "    <tr>\n",
       "      <th>Санкт-Петербург</th>\n",
       "      <td>15669</td>\n",
       "      <td>104762.0</td>\n",
       "      <td>114848.42</td>\n",
       "    </tr>\n",
       "    <tr>\n",
       "      <th>Мурино</th>\n",
       "      <td>586</td>\n",
       "      <td>86250.5</td>\n",
       "      <td>86041.11</td>\n",
       "    </tr>\n",
       "    <tr>\n",
       "      <th>Кудрово</th>\n",
       "      <td>470</td>\n",
       "      <td>95555.0</td>\n",
       "      <td>95260.87</td>\n",
       "    </tr>\n",
       "    <tr>\n",
       "      <th>Шушары</th>\n",
       "      <td>439</td>\n",
       "      <td>76829.0</td>\n",
       "      <td>78551.36</td>\n",
       "    </tr>\n",
       "    <tr>\n",
       "      <th>Всеволожск</th>\n",
       "      <td>398</td>\n",
       "      <td>65789.0</td>\n",
       "      <td>68654.47</td>\n",
       "    </tr>\n",
       "    <tr>\n",
       "      <th>...</th>\n",
       "      <td>...</td>\n",
       "      <td>...</td>\n",
       "      <td>...</td>\n",
       "    </tr>\n",
       "    <tr>\n",
       "      <th>Пчевжа</th>\n",
       "      <td>1</td>\n",
       "      <td>18148.0</td>\n",
       "      <td>18148.00</td>\n",
       "    </tr>\n",
       "    <tr>\n",
       "      <th>Пчева</th>\n",
       "      <td>1</td>\n",
       "      <td>26829.0</td>\n",
       "      <td>26829.00</td>\n",
       "    </tr>\n",
       "    <tr>\n",
       "      <th>Большой Сабск</th>\n",
       "      <td>1</td>\n",
       "      <td>16453.0</td>\n",
       "      <td>16453.00</td>\n",
       "    </tr>\n",
       "    <tr>\n",
       "      <th>Пустынка</th>\n",
       "      <td>1</td>\n",
       "      <td>27331.0</td>\n",
       "      <td>27331.00</td>\n",
       "    </tr>\n",
       "    <tr>\n",
       "      <th>Высокоключевой</th>\n",
       "      <td>1</td>\n",
       "      <td>34932.0</td>\n",
       "      <td>34932.00</td>\n",
       "    </tr>\n",
       "  </tbody>\n",
       "</table>\n",
       "<p>306 rows × 3 columns</p>\n",
       "</div>"
      ],
      "text/plain": [
       "                 count    median       mean\n",
       "locality_name                              \n",
       "Санкт-Петербург  15669  104762.0  114848.42\n",
       "Мурино             586   86250.5   86041.11\n",
       "Кудрово            470   95555.0   95260.87\n",
       "Шушары             439   76829.0   78551.36\n",
       "Всеволожск         398   65789.0   68654.47\n",
       "...                ...       ...        ...\n",
       "Пчевжа               1   18148.0   18148.00\n",
       "Пчева                1   26829.0   26829.00\n",
       "Большой Сабск        1   16453.0   16453.00\n",
       "Пустынка             1   27331.0   27331.00\n",
       "Высокоключевой       1   34932.0   34932.00\n",
       "\n",
       "[306 rows x 3 columns]"
      ]
     },
     "execution_count": 23,
     "metadata": {},
     "output_type": "execute_result"
    }
   ],
   "source": [
    "#посмотрим, что со средними и медианными значениями в столбце с ценами за квадратный метр\n",
    "report_price_per_metr = data.pivot_table(index='locality_name', values='price_per_metr', aggfunc = ['count','median','mean']).round(2)\n",
    "report_price_per_metr.columns = ['count','median','mean']\n",
    "report_price_per_metr = report_price_per_metr.sort_values(by='count',ascending=False)\n",
    "report_price_per_metr"
   ]
  },
  {
   "cell_type": "markdown",
   "metadata": {},
   "source": [
    "Самая высокая медианная цена за квадратный метр в Санкт-Петербурге - 104 762 рубля, самая низкая 34932 рубля. Средние цены не сильно отличаются от медианных. Значит с ценами все более ли менее в порядке."
   ]
  },
  {
   "cell_type": "code",
   "execution_count": 24,
   "metadata": {},
   "outputs": [
    {
     "data": {
      "text/html": [
       "<div>\n",
       "<style scoped>\n",
       "    .dataframe tbody tr th:only-of-type {\n",
       "        vertical-align: middle;\n",
       "    }\n",
       "\n",
       "    .dataframe tbody tr th {\n",
       "        vertical-align: top;\n",
       "    }\n",
       "\n",
       "    .dataframe thead th {\n",
       "        text-align: right;\n",
       "    }\n",
       "</style>\n",
       "<table border=\"1\" class=\"dataframe\">\n",
       "  <thead>\n",
       "    <tr style=\"text-align: right;\">\n",
       "      <th></th>\n",
       "      <th>total_images</th>\n",
       "      <th>last_price</th>\n",
       "      <th>total_area</th>\n",
       "      <th>first_day_exposition</th>\n",
       "      <th>rooms</th>\n",
       "      <th>ceiling_height</th>\n",
       "      <th>floors_total</th>\n",
       "      <th>living_area</th>\n",
       "      <th>floor</th>\n",
       "      <th>is_apartment</th>\n",
       "      <th>studio</th>\n",
       "      <th>open_plan</th>\n",
       "      <th>kitchen_area</th>\n",
       "      <th>balcony</th>\n",
       "      <th>locality_name</th>\n",
       "      <th>airports_nearest</th>\n",
       "      <th>city_centers_nearest</th>\n",
       "      <th>parks_around_3000</th>\n",
       "      <th>parks_nearest</th>\n",
       "      <th>ponds_around_3000</th>\n",
       "      <th>ponds_nearest</th>\n",
       "      <th>days_exposition</th>\n",
       "      <th>price_per_metr</th>\n",
       "      <th>floors_category</th>\n",
       "    </tr>\n",
       "  </thead>\n",
       "  <tbody>\n",
       "    <tr>\n",
       "      <th>0</th>\n",
       "      <td>20</td>\n",
       "      <td>13000000</td>\n",
       "      <td>108.0</td>\n",
       "      <td>2019-03-07</td>\n",
       "      <td>3</td>\n",
       "      <td>2.70</td>\n",
       "      <td>16</td>\n",
       "      <td>51.0</td>\n",
       "      <td>8</td>\n",
       "      <td>False</td>\n",
       "      <td>False</td>\n",
       "      <td>False</td>\n",
       "      <td>25.0</td>\n",
       "      <td>0</td>\n",
       "      <td>Санкт-Петербург</td>\n",
       "      <td>18863.0</td>\n",
       "      <td>16028.0</td>\n",
       "      <td>1.0</td>\n",
       "      <td>482.0</td>\n",
       "      <td>2.0</td>\n",
       "      <td>755.0</td>\n",
       "      <td>NaN</td>\n",
       "      <td>120370.0</td>\n",
       "      <td>другой</td>\n",
       "    </tr>\n",
       "    <tr>\n",
       "      <th>1</th>\n",
       "      <td>7</td>\n",
       "      <td>3350000</td>\n",
       "      <td>40.4</td>\n",
       "      <td>2018-12-04</td>\n",
       "      <td>1</td>\n",
       "      <td>NaN</td>\n",
       "      <td>11</td>\n",
       "      <td>18.6</td>\n",
       "      <td>1</td>\n",
       "      <td>False</td>\n",
       "      <td>False</td>\n",
       "      <td>False</td>\n",
       "      <td>11.0</td>\n",
       "      <td>2</td>\n",
       "      <td>Шушары</td>\n",
       "      <td>12817.0</td>\n",
       "      <td>18603.0</td>\n",
       "      <td>0.0</td>\n",
       "      <td>NaN</td>\n",
       "      <td>0.0</td>\n",
       "      <td>NaN</td>\n",
       "      <td>81.0</td>\n",
       "      <td>82921.0</td>\n",
       "      <td>первый</td>\n",
       "    </tr>\n",
       "    <tr>\n",
       "      <th>2</th>\n",
       "      <td>10</td>\n",
       "      <td>5196000</td>\n",
       "      <td>56.0</td>\n",
       "      <td>2015-08-20</td>\n",
       "      <td>2</td>\n",
       "      <td>NaN</td>\n",
       "      <td>5</td>\n",
       "      <td>34.3</td>\n",
       "      <td>4</td>\n",
       "      <td>False</td>\n",
       "      <td>False</td>\n",
       "      <td>False</td>\n",
       "      <td>8.3</td>\n",
       "      <td>0</td>\n",
       "      <td>Санкт-Петербург</td>\n",
       "      <td>21741.0</td>\n",
       "      <td>13933.0</td>\n",
       "      <td>1.0</td>\n",
       "      <td>90.0</td>\n",
       "      <td>2.0</td>\n",
       "      <td>574.0</td>\n",
       "      <td>558.0</td>\n",
       "      <td>92786.0</td>\n",
       "      <td>другой</td>\n",
       "    </tr>\n",
       "    <tr>\n",
       "      <th>3</th>\n",
       "      <td>0</td>\n",
       "      <td>64900000</td>\n",
       "      <td>159.0</td>\n",
       "      <td>2015-07-24</td>\n",
       "      <td>3</td>\n",
       "      <td>NaN</td>\n",
       "      <td>14</td>\n",
       "      <td>30.0</td>\n",
       "      <td>9</td>\n",
       "      <td>False</td>\n",
       "      <td>False</td>\n",
       "      <td>False</td>\n",
       "      <td>9.5</td>\n",
       "      <td>0</td>\n",
       "      <td>Санкт-Петербург</td>\n",
       "      <td>28098.0</td>\n",
       "      <td>6800.0</td>\n",
       "      <td>2.0</td>\n",
       "      <td>84.0</td>\n",
       "      <td>3.0</td>\n",
       "      <td>234.0</td>\n",
       "      <td>424.0</td>\n",
       "      <td>408176.0</td>\n",
       "      <td>другой</td>\n",
       "    </tr>\n",
       "    <tr>\n",
       "      <th>4</th>\n",
       "      <td>2</td>\n",
       "      <td>10000000</td>\n",
       "      <td>100.0</td>\n",
       "      <td>2018-06-19</td>\n",
       "      <td>2</td>\n",
       "      <td>3.03</td>\n",
       "      <td>14</td>\n",
       "      <td>32.0</td>\n",
       "      <td>13</td>\n",
       "      <td>False</td>\n",
       "      <td>False</td>\n",
       "      <td>False</td>\n",
       "      <td>41.0</td>\n",
       "      <td>0</td>\n",
       "      <td>Санкт-Петербург</td>\n",
       "      <td>31856.0</td>\n",
       "      <td>8098.0</td>\n",
       "      <td>2.0</td>\n",
       "      <td>112.0</td>\n",
       "      <td>1.0</td>\n",
       "      <td>48.0</td>\n",
       "      <td>121.0</td>\n",
       "      <td>100000.0</td>\n",
       "      <td>другой</td>\n",
       "    </tr>\n",
       "  </tbody>\n",
       "</table>\n",
       "</div>"
      ],
      "text/plain": [
       "   total_images  last_price  total_area first_day_exposition  rooms  \\\n",
       "0            20    13000000       108.0           2019-03-07      3   \n",
       "1             7     3350000        40.4           2018-12-04      1   \n",
       "2            10     5196000        56.0           2015-08-20      2   \n",
       "3             0    64900000       159.0           2015-07-24      3   \n",
       "4             2    10000000       100.0           2018-06-19      2   \n",
       "\n",
       "   ceiling_height  floors_total  living_area  floor  is_apartment  studio  \\\n",
       "0            2.70            16         51.0      8         False   False   \n",
       "1             NaN            11         18.6      1         False   False   \n",
       "2             NaN             5         34.3      4         False   False   \n",
       "3             NaN            14         30.0      9         False   False   \n",
       "4            3.03            14         32.0     13         False   False   \n",
       "\n",
       "   open_plan  kitchen_area  balcony    locality_name  airports_nearest  \\\n",
       "0      False          25.0        0  Санкт-Петербург           18863.0   \n",
       "1      False          11.0        2           Шушары           12817.0   \n",
       "2      False           8.3        0  Санкт-Петербург           21741.0   \n",
       "3      False           9.5        0  Санкт-Петербург           28098.0   \n",
       "4      False          41.0        0  Санкт-Петербург           31856.0   \n",
       "\n",
       "   city_centers_nearest  parks_around_3000  parks_nearest  ponds_around_3000  \\\n",
       "0               16028.0                1.0          482.0                2.0   \n",
       "1               18603.0                0.0            NaN                0.0   \n",
       "2               13933.0                1.0           90.0                2.0   \n",
       "3                6800.0                2.0           84.0                3.0   \n",
       "4                8098.0                2.0          112.0                1.0   \n",
       "\n",
       "   ponds_nearest  days_exposition  price_per_metr floors_category  \n",
       "0          755.0              NaN        120370.0          другой  \n",
       "1            NaN             81.0         82921.0          первый  \n",
       "2          574.0            558.0         92786.0          другой  \n",
       "3          234.0            424.0        408176.0          другой  \n",
       "4           48.0            121.0        100000.0          другой  "
      ]
     },
     "execution_count": 24,
     "metadata": {},
     "output_type": "execute_result"
    }
   ],
   "source": [
    "#добавим столбец по этажам со значениями 'первый', 'последний', 'другой'\n",
    "def floors_cat(row):\n",
    "    if row['floor']==1:\n",
    "        return 'первый'\n",
    "    if row['floor']==row['floors_total']:\n",
    "        return 'последний'\n",
    "    else:\n",
    "        return 'другой'\n",
    "    \n",
    "data['floors_category']=data.apply(floors_cat, axis=1)\n",
    "data.head()"
   ]
  },
  {
   "cell_type": "code",
   "execution_count": 25,
   "metadata": {},
   "outputs": [
    {
     "data": {
      "text/html": [
       "<div>\n",
       "<style scoped>\n",
       "    .dataframe tbody tr th:only-of-type {\n",
       "        vertical-align: middle;\n",
       "    }\n",
       "\n",
       "    .dataframe tbody tr th {\n",
       "        vertical-align: top;\n",
       "    }\n",
       "\n",
       "    .dataframe thead th {\n",
       "        text-align: right;\n",
       "    }\n",
       "</style>\n",
       "<table border=\"1\" class=\"dataframe\">\n",
       "  <thead>\n",
       "    <tr style=\"text-align: right;\">\n",
       "      <th></th>\n",
       "      <th>count</th>\n",
       "      <th>%</th>\n",
       "    </tr>\n",
       "    <tr>\n",
       "      <th>exposition_weekday</th>\n",
       "      <th></th>\n",
       "      <th></th>\n",
       "    </tr>\n",
       "  </thead>\n",
       "  <tbody>\n",
       "    <tr>\n",
       "      <th>Thursday</th>\n",
       "      <td>4285</td>\n",
       "      <td>18.0</td>\n",
       "    </tr>\n",
       "    <tr>\n",
       "      <th>Tuesday</th>\n",
       "      <td>4170</td>\n",
       "      <td>18.0</td>\n",
       "    </tr>\n",
       "    <tr>\n",
       "      <th>Friday</th>\n",
       "      <td>3988</td>\n",
       "      <td>17.0</td>\n",
       "    </tr>\n",
       "    <tr>\n",
       "      <th>Wednesday</th>\n",
       "      <td>3956</td>\n",
       "      <td>17.0</td>\n",
       "    </tr>\n",
       "    <tr>\n",
       "      <th>Monday</th>\n",
       "      <td>3602</td>\n",
       "      <td>15.0</td>\n",
       "    </tr>\n",
       "    <tr>\n",
       "      <th>Saturday</th>\n",
       "      <td>1922</td>\n",
       "      <td>8.0</td>\n",
       "    </tr>\n",
       "    <tr>\n",
       "      <th>Sunday</th>\n",
       "      <td>1690</td>\n",
       "      <td>7.0</td>\n",
       "    </tr>\n",
       "  </tbody>\n",
       "</table>\n",
       "</div>"
      ],
      "text/plain": [
       "                    count     %\n",
       "exposition_weekday             \n",
       "Thursday             4285  18.0\n",
       "Tuesday              4170  18.0\n",
       "Friday               3988  17.0\n",
       "Wednesday            3956  17.0\n",
       "Monday               3602  15.0\n",
       "Saturday             1922   8.0\n",
       "Sunday               1690   7.0"
      ]
     },
     "execution_count": 25,
     "metadata": {},
     "output_type": "execute_result"
    }
   ],
   "source": [
    "#добавим столбец с днем недели\n",
    "data['exposition_weekday'] = data['first_day_exposition'].dt.day_name()\n",
    "report_weekday=data.pivot_table(index='exposition_weekday', values='last_price', aggfunc='count')\n",
    "report_weekday.columns = ['count']\n",
    "report_weekday['%'] = report_weekday['count']/report_weekday['count'].sum()*100\n",
    "report_weekday.sort_values(by='count', ascending=False).round(0)"
   ]
  },
  {
   "cell_type": "markdown",
   "metadata": {},
   "source": [
    "Чаще всего объявления размещались в четверг и вторник: 18%, реже всего в воскресенье: 7%."
   ]
  },
  {
   "cell_type": "code",
   "execution_count": 26,
   "metadata": {},
   "outputs": [
    {
     "data": {
      "text/html": [
       "<div>\n",
       "<style scoped>\n",
       "    .dataframe tbody tr th:only-of-type {\n",
       "        vertical-align: middle;\n",
       "    }\n",
       "\n",
       "    .dataframe tbody tr th {\n",
       "        vertical-align: top;\n",
       "    }\n",
       "\n",
       "    .dataframe thead th {\n",
       "        text-align: right;\n",
       "    }\n",
       "</style>\n",
       "<table border=\"1\" class=\"dataframe\">\n",
       "  <thead>\n",
       "    <tr style=\"text-align: right;\">\n",
       "      <th></th>\n",
       "      <th>count</th>\n",
       "      <th>%</th>\n",
       "    </tr>\n",
       "    <tr>\n",
       "      <th>exposition_month</th>\n",
       "      <th></th>\n",
       "      <th></th>\n",
       "    </tr>\n",
       "  </thead>\n",
       "  <tbody>\n",
       "    <tr>\n",
       "      <th>February</th>\n",
       "      <td>2637</td>\n",
       "      <td>11.0</td>\n",
       "    </tr>\n",
       "    <tr>\n",
       "      <th>March</th>\n",
       "      <td>2580</td>\n",
       "      <td>11.0</td>\n",
       "    </tr>\n",
       "    <tr>\n",
       "      <th>November</th>\n",
       "      <td>2364</td>\n",
       "      <td>10.0</td>\n",
       "    </tr>\n",
       "    <tr>\n",
       "      <th>April</th>\n",
       "      <td>2362</td>\n",
       "      <td>10.0</td>\n",
       "    </tr>\n",
       "    <tr>\n",
       "      <th>October</th>\n",
       "      <td>2111</td>\n",
       "      <td>9.0</td>\n",
       "    </tr>\n",
       "    <tr>\n",
       "      <th>September</th>\n",
       "      <td>1974</td>\n",
       "      <td>8.0</td>\n",
       "    </tr>\n",
       "    <tr>\n",
       "      <th>June</th>\n",
       "      <td>1752</td>\n",
       "      <td>7.0</td>\n",
       "    </tr>\n",
       "    <tr>\n",
       "      <th>August</th>\n",
       "      <td>1741</td>\n",
       "      <td>7.0</td>\n",
       "    </tr>\n",
       "    <tr>\n",
       "      <th>July</th>\n",
       "      <td>1690</td>\n",
       "      <td>7.0</td>\n",
       "    </tr>\n",
       "    <tr>\n",
       "      <th>December</th>\n",
       "      <td>1641</td>\n",
       "      <td>7.0</td>\n",
       "    </tr>\n",
       "    <tr>\n",
       "      <th>January</th>\n",
       "      <td>1496</td>\n",
       "      <td>6.0</td>\n",
       "    </tr>\n",
       "    <tr>\n",
       "      <th>May</th>\n",
       "      <td>1265</td>\n",
       "      <td>5.0</td>\n",
       "    </tr>\n",
       "  </tbody>\n",
       "</table>\n",
       "</div>"
      ],
      "text/plain": [
       "                  count     %\n",
       "exposition_month             \n",
       "February           2637  11.0\n",
       "March              2580  11.0\n",
       "November           2364  10.0\n",
       "April              2362  10.0\n",
       "October            2111   9.0\n",
       "September          1974   8.0\n",
       "June               1752   7.0\n",
       "August             1741   7.0\n",
       "July               1690   7.0\n",
       "December           1641   7.0\n",
       "January            1496   6.0\n",
       "May                1265   5.0"
      ]
     },
     "execution_count": 26,
     "metadata": {},
     "output_type": "execute_result"
    }
   ],
   "source": [
    "#добавим столбец с месяцем размещения\n",
    "data['exposition_month'] = data['first_day_exposition'].dt.month_name()\n",
    "report_month=data.pivot_table(index='exposition_month', values='last_price', aggfunc='count')\n",
    "report_month.columns = ['count']\n",
    "report_month.sort_values(by='count', ascending=False)\n",
    "report_month['%'] = report_month['count']/report_month['count'].sum()*100\n",
    "report_month.sort_values(by='count', ascending=False).round(0)"
   ]
  },
  {
   "cell_type": "markdown",
   "metadata": {},
   "source": [
    "Больше всего объявлений размещено в феврале и марте: 11% от общего количества, меньше всего в мае и январе: 5% и 6% соответственно."
   ]
  },
  {
   "cell_type": "code",
   "execution_count": 27,
   "metadata": {},
   "outputs": [
    {
     "name": "stdout",
     "output_type": "stream",
     "text": [
      "Первая дата размещения:2014-11-27 00:00:00\n",
      "Последняя дата размещения:2019-05-03 00:00:00\n"
     ]
    },
    {
     "data": {
      "text/html": [
       "<div>\n",
       "<style scoped>\n",
       "    .dataframe tbody tr th:only-of-type {\n",
       "        vertical-align: middle;\n",
       "    }\n",
       "\n",
       "    .dataframe tbody tr th {\n",
       "        vertical-align: top;\n",
       "    }\n",
       "\n",
       "    .dataframe thead th {\n",
       "        text-align: right;\n",
       "    }\n",
       "</style>\n",
       "<table border=\"1\" class=\"dataframe\">\n",
       "  <thead>\n",
       "    <tr style=\"text-align: right;\">\n",
       "      <th></th>\n",
       "      <th>count</th>\n",
       "      <th>%</th>\n",
       "    </tr>\n",
       "    <tr>\n",
       "      <th>exposition_year</th>\n",
       "      <th></th>\n",
       "      <th></th>\n",
       "    </tr>\n",
       "  </thead>\n",
       "  <tbody>\n",
       "    <tr>\n",
       "      <th>2018</th>\n",
       "      <td>8492</td>\n",
       "      <td>36.0</td>\n",
       "    </tr>\n",
       "    <tr>\n",
       "      <th>2017</th>\n",
       "      <td>8166</td>\n",
       "      <td>35.0</td>\n",
       "    </tr>\n",
       "    <tr>\n",
       "      <th>2019</th>\n",
       "      <td>2871</td>\n",
       "      <td>12.0</td>\n",
       "    </tr>\n",
       "    <tr>\n",
       "      <th>2016</th>\n",
       "      <td>2763</td>\n",
       "      <td>12.0</td>\n",
       "    </tr>\n",
       "    <tr>\n",
       "      <th>2015</th>\n",
       "      <td>1184</td>\n",
       "      <td>5.0</td>\n",
       "    </tr>\n",
       "    <tr>\n",
       "      <th>2014</th>\n",
       "      <td>137</td>\n",
       "      <td>1.0</td>\n",
       "    </tr>\n",
       "  </tbody>\n",
       "</table>\n",
       "</div>"
      ],
      "text/plain": [
       "                 count     %\n",
       "exposition_year             \n",
       "2018              8492  36.0\n",
       "2017              8166  35.0\n",
       "2019              2871  12.0\n",
       "2016              2763  12.0\n",
       "2015              1184   5.0\n",
       "2014               137   1.0"
      ]
     },
     "execution_count": 27,
     "metadata": {},
     "output_type": "execute_result"
    }
   ],
   "source": [
    "#добавим столбец с годом размещения\n",
    "data['exposition_year'] = data['first_day_exposition'].dt.year\n",
    "\n",
    "#посмотрим статистику размещения по годам через сводную таблицу\n",
    "report_year=data.pivot_table(index='exposition_year', values='last_price', aggfunc='count')\n",
    "report_year.columns = ['count']\n",
    "report_year.sort_values(by='count', ascending=False)\n",
    "report_year['%'] = report_year['count']/report_year['count'].sum()*100\n",
    "\n",
    "#найдем последнюю и первую даты размещения, чтобы понять насколько данные полные по годам\n",
    "firt_date = data['first_day_exposition'].min()\n",
    "print(f'Первая дата размещения:{firt_date}')\n",
    "last_date = data['first_day_exposition'].max()\n",
    "print(f'Последняя дата размещения:{last_date}')\n",
    "\n",
    "report_year.sort_values(by='count', ascending=False).round(0)"
   ]
  },
  {
   "cell_type": "markdown",
   "metadata": {},
   "source": [
    "Данные содержат максимальное количество объявлений за 2018 год: 36%. Меньше всего за 2014 год, всего 1%.\n",
    "Первая дата размещения: 27 ноября 2014 года, последняя дата размещения: 3 мая 2019, поэтому за 2014 и 2019 год данные неполные. В целом, если не учитывать данные за 2014 и 2019 года, то прослеживается динамика роста ежегодно:более  чем в 2 раза с 2015 на 2016 и почти в 3 раз с 2016 на 2017. С 2017 года рост прекратился, количество объявлений за 2017 и 2018 года практически одинаковое. "
   ]
  },
  {
   "cell_type": "code",
   "execution_count": 28,
   "metadata": {},
   "outputs": [
    {
     "data": {
      "text/plain": [
       "count    23613.00\n",
       "mean         0.57\n",
       "std          0.12\n",
       "min          0.02\n",
       "25%          0.49\n",
       "50%          0.57\n",
       "75%          0.64\n",
       "max          1.00\n",
       "Name: ratio_living, dtype: float64"
      ]
     },
     "execution_count": 28,
     "metadata": {},
     "output_type": "execute_result"
    }
   ],
   "source": [
    "#соотношение жилой площади к общей площади\n",
    "data['ratio_living']=data['living_area']/data['total_area']\n",
    "data['ratio_living'].describe().round(2)"
   ]
  },
  {
   "cell_type": "markdown",
   "metadata": {},
   "source": [
    "Максимальное значение 1, средняя и медиана одинаковые. Похоже на правду."
   ]
  },
  {
   "cell_type": "code",
   "execution_count": 29,
   "metadata": {},
   "outputs": [
    {
     "data": {
      "text/plain": [
       "count    23613.00\n",
       "mean         0.19\n",
       "std          0.08\n",
       "min          0.00\n",
       "25%          0.13\n",
       "50%          0.17\n",
       "75%          0.23\n",
       "max          0.79\n",
       "Name: ratio_kitchen, dtype: float64"
      ]
     },
     "execution_count": 29,
     "metadata": {},
     "output_type": "execute_result"
    }
   ],
   "source": [
    "#отношение площади кухни к общей\n",
    "data['ratio_kitchen']=data['kitchen_area']/data['total_area']\n",
    "data['ratio_kitchen'].describe().round(2)"
   ]
  },
  {
   "cell_type": "markdown",
   "metadata": {},
   "source": [
    "Среднее и медианные примерно на одном уровне. В целом все ок."
   ]
  },
  {
   "cell_type": "code",
   "execution_count": 30,
   "metadata": {},
   "outputs": [
    {
     "name": "stdout",
     "output_type": "stream",
     "text": [
      "<class 'pandas.core.frame.DataFrame'>\n",
      "Int64Index: 23613 entries, 0 to 23698\n",
      "Data columns (total 29 columns):\n",
      " #   Column                Non-Null Count  Dtype         \n",
      "---  ------                --------------  -----         \n",
      " 0   total_images          23613 non-null  int64         \n",
      " 1   last_price            23613 non-null  int64         \n",
      " 2   total_area            23613 non-null  float64       \n",
      " 3   first_day_exposition  23613 non-null  datetime64[ns]\n",
      " 4   rooms                 23613 non-null  int64         \n",
      " 5   ceiling_height        14495 non-null  float64       \n",
      " 6   floors_total          23613 non-null  int64         \n",
      " 7   living_area           23613 non-null  float64       \n",
      " 8   floor                 23613 non-null  int64         \n",
      " 9   is_apartment          23613 non-null  bool          \n",
      " 10  studio                23613 non-null  bool          \n",
      " 11  open_plan             23613 non-null  bool          \n",
      " 12  kitchen_area          23613 non-null  float64       \n",
      " 13  balcony               23613 non-null  int64         \n",
      " 14  locality_name         23613 non-null  object        \n",
      " 15  airports_nearest      18081 non-null  float64       \n",
      " 16  city_centers_nearest  18104 non-null  float64       \n",
      " 17  parks_around_3000     18105 non-null  float64       \n",
      " 18  parks_nearest         8045 non-null   float64       \n",
      " 19  ponds_around_3000     18105 non-null  float64       \n",
      " 20  ponds_nearest         9061 non-null   float64       \n",
      " 21  days_exposition       20441 non-null  float64       \n",
      " 22  price_per_metr        23613 non-null  float64       \n",
      " 23  floors_category       23613 non-null  object        \n",
      " 24  exposition_weekday    23613 non-null  object        \n",
      " 25  exposition_month      23613 non-null  object        \n",
      " 26  exposition_year       23613 non-null  int64         \n",
      " 27  ratio_living          23613 non-null  float64       \n",
      " 28  ratio_kitchen         23613 non-null  float64       \n",
      "dtypes: bool(3), datetime64[ns](1), float64(14), int64(7), object(4)\n",
      "memory usage: 4.9+ MB\n"
     ]
    }
   ],
   "source": [
    " data.info()"
   ]
  },
  {
   "cell_type": "markdown",
   "metadata": {},
   "source": [
    "### Вывод\n",
    "<a id='3.1'></a>"
   ]
  },
  {
   "cell_type": "markdown",
   "metadata": {},
   "source": [
    "- Самая высокая медианная цена за квадратный метр в Санкт-Петербурге - 104 762 рубля, самая низкая в поселке Высокоключевой - 34 932 рубля. \n",
    "- Чаще всего объявления размещались в четверг и вторник: 18%, реже всего в воскресенье: 7%.\n",
    "- Больше всего объявлений размещено в феврале и марте: 11% от общего количества, меньше всего в мае и январе: 5% и 6% соответственно.\n",
    "- Прослеживается динамика роста количества размещенных объявлений:более  чем в 2 раза с 2015 на 2016 и почти в 3 раз с 2016 на 2017. С 2017 года рост прекратился, количество объявлений за 2017 и 2018 года практически одинаковое, экономический кризис сказался на рынке недвижимости. \n",
    "- Жилая площадь может быть как равной общей площади так и меньше вполовину.\n",
    "- Площадь кухни может занимать до 80 % общей площади, это кажется странным."
   ]
  },
  {
   "cell_type": "markdown",
   "metadata": {},
   "source": [
    "## Исследовательский анализ данных\n",
    "<a id='4'></a>"
   ]
  },
  {
   "cell_type": "markdown",
   "metadata": {},
   "source": [
    "### Исследование площади, цены, числа комнат, высоты потолков\n",
    "<a id='4.1'></a>"
   ]
  },
  {
   "cell_type": "code",
   "execution_count": 31,
   "metadata": {},
   "outputs": [
    {
     "data": {
      "text/plain": [
       "count    23613.0\n",
       "mean        60.0\n",
       "std         36.0\n",
       "min         12.0\n",
       "25%         40.0\n",
       "50%         52.0\n",
       "75%         70.0\n",
       "max        900.0\n",
       "Name: total_area, dtype: float64"
      ]
     },
     "execution_count": 31,
     "metadata": {},
     "output_type": "execute_result"
    },
    {
     "data": {
      "image/png": "[encoded data removed]",
      "text/plain": [
       "<Figure size 432x288 with 1 Axes>"
      ]
     },
     "metadata": {
      "needs_background": "light"
     },
     "output_type": "display_data"
    }
   ],
   "source": [
    "#параметр: площадь\n",
    "data['total_area'].hist(bins=100, range=(0,200))\n",
    "\n",
    "plt.ylabel('объявлений, шт')\n",
    "plt.xlabel('площадь, кв.м')\n",
    "plt.title('Исследование площади')\n",
    "\n",
    "data['total_area'].describe().round(0)"
   ]
  },
  {
   "cell_type": "markdown",
   "metadata": {},
   "source": [
    "Больше всего объявлений с площадью в диапазоне от 30 до 75 квадратных метров."
   ]
  },
  {
   "cell_type": "code",
   "execution_count": 32,
   "metadata": {},
   "outputs": [
    {
     "data": {
      "text/plain": [
       "count        23613.0\n",
       "mean       6540555.0\n",
       "std       10901723.0\n",
       "min          12190.0\n",
       "25%        3400000.0\n",
       "50%        4650000.0\n",
       "75%        6799000.0\n",
       "max      763000000.0\n",
       "Name: last_price, dtype: float64"
      ]
     },
     "execution_count": 32,
     "metadata": {},
     "output_type": "execute_result"
    },
    {
     "data": {
      "image/png": "[encoded data removed]",
      "text/plain": [
       "<Figure size 432x288 with 1 Axes>"
      ]
     },
     "metadata": {
      "needs_background": "light"
     },
     "output_type": "display_data"
    }
   ],
   "source": [
    "#параметр:цена\n",
    "data['last_price'].hist(bins=100, range = (0, 20000000))\n",
    "\n",
    "plt.ylabel('количество объявлений')\n",
    "plt.xlabel('цена за кв.м (руб)')\n",
    "plt.title('Исследование параметра: цена')\n",
    "\n",
    "data['last_price'].describe().round(0)"
   ]
  },
  {
   "cell_type": "markdown",
   "metadata": {},
   "source": [
    "Основная вилка цен расположена в диапазоне от 2,5 млн до 10 млн. рублей. Максимальная цена 763 млн. рублей, но это скорее аномалия. Это также можно увидеть по тому как сильно отличается средняя цена от медианной, почти в 1,5 раза."
   ]
  },
  {
   "cell_type": "code",
   "execution_count": 33,
   "metadata": {},
   "outputs": [
    {
     "data": {
      "text/plain": [
       "count    23613.0\n",
       "mean         2.0\n",
       "std          1.0\n",
       "min          0.0\n",
       "25%          1.0\n",
       "50%          2.0\n",
       "75%          3.0\n",
       "max         19.0\n",
       "Name: rooms, dtype: float64"
      ]
     },
     "execution_count": 33,
     "metadata": {},
     "output_type": "execute_result"
    },
    {
     "data": {
      "image/png": "[encoded data removed]",
      "text/plain": [
       "<Figure size 720x360 with 1 Axes>"
      ]
     },
     "metadata": {
      "needs_background": "light"
     },
     "output_type": "display_data"
    }
   ],
   "source": [
    "#параметр: число комнат\n",
    "data['rooms'].value_counts().plot(y ='rooms', kind='bar', grid=True, figsize=(10, 5))\n",
    "\n",
    "plt.ylabel('количество объявлений')\n",
    "plt.xlabel('количество комнат')\n",
    "plt.title('Исследование параметра: число комнат')\n",
    "\n",
    "data['rooms'].describe().round(0)"
   ]
  },
  {
   "cell_type": "markdown",
   "metadata": {},
   "source": [
    "Как видно по гистограмме, больше всего квартир, где комнат от 1 до 3. Аномально большие квартиры с 19 комнатами тоже присутствуют. Возможно это опечатка, где по ошибке ввели данные о площади кухни, например."
   ]
  },
  {
   "cell_type": "code",
   "execution_count": 34,
   "metadata": {},
   "outputs": [
    {
     "data": {
      "text/plain": [
       "count    14495.00\n",
       "mean         2.77\n",
       "std          1.26\n",
       "min          1.00\n",
       "25%          2.52\n",
       "50%          2.65\n",
       "75%          2.80\n",
       "max        100.00\n",
       "Name: ceiling_height, dtype: float64"
      ]
     },
     "execution_count": 34,
     "metadata": {},
     "output_type": "execute_result"
    },
    {
     "data": {
      "image/png": "[encoded data removed]",
      "text/plain": [
       "<Figure size 432x288 with 1 Axes>"
      ]
     },
     "metadata": {
      "needs_background": "light"
     },
     "output_type": "display_data"
    }
   ],
   "source": [
    "#параметр: высота потолков\n",
    "data['ceiling_height'].hist(bins=10,range = (1, 5))\n",
    "\n",
    "plt.ylabel('количество объявлений')\n",
    "plt.xlabel('высота потолков (м)')\n",
    "plt.title('Исследование параметра: высота потолков')\n",
    "\n",
    "data['ceiling_height'].describe().round(2)"
   ]
  },
  {
   "cell_type": "markdown",
   "metadata": {},
   "source": [
    "Чаще всего встречаются квартиры с высотой потолка от 2,65 до 3 метров. Выбросами в данном случае являются значения более 4,5 метров. Это явно какая-то ошибка. Цифры больше похожи на площадь."
   ]
  },
  {
   "cell_type": "markdown",
   "metadata": {},
   "source": [
    "### Выводы"
   ]
  },
  {
   "cell_type": "markdown",
   "metadata": {},
   "source": [
    "- Больше всего объявлений с квартирами площадью в диапазоне от 30 до 75 квадратных метров.\n",
    "- Основная вилка цен расположена в диапазоне от 2,5 млн до 10 млн. рублей. \n",
    "- Максимальное количество кваритир с количеством комнат от 1 до 3 и чуть меньше 4х комнатных, и совсем малая доля квартир, где комнат больше, чем 4.\n",
    "- Квартиры с высотой потолка от 2,65 до 3 метров являются преобладающими с данных, нормальный диапазон от 2 до 4,5 м.\n"
   ]
  },
  {
   "cell_type": "markdown",
   "metadata": {},
   "source": [
    "### Исследование количества времени для продажи квартиры\n",
    "<a id='4.2'></a>\n",
    "\n",
    "В данном исследовании мы изучим:\n",
    "- Время продажи квартиры. \n",
    "- Построим гистограмму. \n",
    "- Посчитаем среднее и медиану. \n",
    "- Посмотрим сколько обычно занимает продажа: когда можно считать, что продажи прошли очень быстро, а когда необычно долго?"
   ]
  },
  {
   "cell_type": "code",
   "execution_count": 35,
   "metadata": {},
   "outputs": [
    {
     "data": {
      "text/plain": [
       "count    20441.00\n",
       "mean       180.88\n",
       "std        219.69\n",
       "min          1.00\n",
       "25%         45.00\n",
       "50%         95.00\n",
       "75%        232.00\n",
       "max       1580.00\n",
       "Name: days_exposition, dtype: float64"
      ]
     },
     "execution_count": 35,
     "metadata": {},
     "output_type": "execute_result"
    }
   ],
   "source": [
    "#изучим время продажи, посмотрим среднюю и медиану\n",
    "data['days_exposition'].describe().round(2)"
   ]
  },
  {
   "cell_type": "markdown",
   "metadata": {},
   "source": [
    "Очень большая разница между средним и медианным значением, среднее время 180 дней, тогда как медианное всего 95 дней. Также очень большое значение показателя отклонения - 219. Это значит, что на среднюю повлияли аномально большие значения. Максимальное значение 1580 дней."
   ]
  },
  {
   "cell_type": "code",
   "execution_count": 36,
   "metadata": {
    "scrolled": true
   },
   "outputs": [
    {
     "data": {
      "image/png": "[encoded data removed]",
      "text/plain": [
       "<Figure size 432x288 with 1 Axes>"
      ]
     },
     "metadata": {
      "needs_background": "light"
     },
     "output_type": "display_data"
    }
   ],
   "source": [
    "#построим гистограмму\n",
    "data['days_exposition'].hist(bins=10,range=(0,500))\n",
    "\n",
    "plt.ylabel('количество объявлений')\n",
    "plt.xlabel('количество дней')\n",
    "plt.title('Количество дней, которое было размещено объявление')\n",
    "\n",
    "plt.show()"
   ]
  },
  {
   "cell_type": "markdown",
   "metadata": {},
   "source": [
    "По гистограмме видно, что чаще всего квартира продается в срок до 100 дней."
   ]
  },
  {
   "cell_type": "code",
   "execution_count": 37,
   "metadata": {
    "scrolled": true
   },
   "outputs": [
    {
     "data": {
      "image/png": "[encoded data removed]",
      "text/plain": [
       "<Figure size 432x288 with 1 Axes>"
      ]
     },
     "metadata": {
      "needs_background": "light"
     },
     "output_type": "display_data"
    }
   ],
   "source": [
    "#посмотрим максимальные значения\n",
    "data['days_exposition'].hist(bins=15,range=(50,250))\n",
    "\n",
    "plt.ylabel('объявлений, шт')\n",
    "plt.xlabel('количество дней')\n",
    "plt.title('Количество дней, которое было размещено объявление')\n",
    "\n",
    "plt.show()"
   ]
  },
  {
   "cell_type": "markdown",
   "metadata": {},
   "source": [
    "Примерно после 60 дней резкое падение. В целом, значение укладывется в 60."
   ]
  },
  {
   "cell_type": "code",
   "execution_count": 38,
   "metadata": {},
   "outputs": [
    {
     "data": {
      "image/png": "[encoded data removed]",
      "text/plain": [
       "<Figure size 432x288 with 1 Axes>"
      ]
     },
     "metadata": {
      "needs_background": "light"
     },
     "output_type": "display_data"
    }
   ],
   "source": [
    "#посмотрим минимальные значения\n",
    "data['days_exposition'].hist(bins=15,range=(0,10))\n",
    "\n",
    "plt.ylabel('количество объявлений')\n",
    "plt.xlabel('количество дней')\n",
    "plt.title('Количество дней, которое было размещено объявление')\n",
    "\n",
    "plt.show()"
   ]
  },
  {
   "cell_type": "markdown",
   "metadata": {},
   "source": [
    "Необычно быстро - это менее 3х дней"
   ]
  },
  {
   "cell_type": "markdown",
   "metadata": {},
   "source": [
    "### Общий вывод:"
   ]
  },
  {
   "cell_type": "markdown",
   "metadata": {},
   "source": [
    "В результате исследования мы выяснили, что продажа квартиры могла занять от 0 до 1580 дней, но чаще всего продажа происходила за 3-60 дней. Такую продажу можно считать быстрой. Продажу от 60 до 90 дней - средней, более 150 дней - необычно долгой, а продажу менее 3х дней - очень быстрой."
   ]
  },
  {
   "cell_type": "markdown",
   "metadata": {},
   "source": [
    "### Редкие и выбивающиеся значения\n",
    "<a id='4.3'></a>\n",
    "\n",
    "Уберем редкие и выбивающиеся значения."
   ]
  },
  {
   "cell_type": "code",
   "execution_count": 39,
   "metadata": {},
   "outputs": [
    {
     "data": {
      "text/plain": [
       "1     8015\n",
       "2     7913\n",
       "3     5795\n",
       "4     1177\n",
       "5      325\n",
       "0      194\n",
       "6      104\n",
       "7       59\n",
       "8       12\n",
       "9        8\n",
       "10       3\n",
       "11       2\n",
       "14       2\n",
       "15       1\n",
       "19       1\n",
       "16       1\n",
       "12       1\n",
       "Name: rooms, dtype: int64"
      ]
     },
     "execution_count": 39,
     "metadata": {},
     "output_type": "execute_result"
    }
   ],
   "source": [
    "#посмотрим столбец с количеством комнат, выясним количество уникальных значений\n",
    "data['rooms'].value_counts()"
   ]
  },
  {
   "cell_type": "code",
   "execution_count": 40,
   "metadata": {},
   "outputs": [
    {
     "data": {
      "text/plain": [
       "194"
      ]
     },
     "execution_count": 40,
     "metadata": {},
     "output_type": "execute_result"
    }
   ],
   "source": [
    "#посмотрим количество строк со значением более и включая 6 комнат:\n",
    "len(data.query('rooms>=6'))"
   ]
  },
  {
   "cell_type": "code",
   "execution_count": 41,
   "metadata": {},
   "outputs": [
    {
     "data": {
      "text/plain": [
       "0.821581332316944"
      ]
     },
     "execution_count": 41,
     "metadata": {},
     "output_type": "execute_result"
    }
   ],
   "source": [
    "#посмотрим отношение к общему числу\n",
    "(len(data.query('rooms>=6')))/(len(data))*100"
   ]
  },
  {
   "cell_type": "markdown",
   "metadata": {},
   "source": [
    "Менее 1%, можно смело оставить только те, что больше 5 комнат, это не повлияет на выборку"
   ]
  },
  {
   "cell_type": "code",
   "execution_count": 42,
   "metadata": {},
   "outputs": [
    {
     "name": "stdout",
     "output_type": "stream",
     "text": [
      "23419\n"
     ]
    }
   ],
   "source": [
    "good_data = data.query('rooms<=5')\n",
    "print(len(good_data))"
   ]
  },
  {
   "cell_type": "code",
   "execution_count": 43,
   "metadata": {},
   "outputs": [
    {
     "data": {
      "text/plain": [
       "43"
      ]
     },
     "execution_count": 43,
     "metadata": {},
     "output_type": "execute_result"
    }
   ],
   "source": [
    "#по высоте потолков судя по гистограмме значениями кажется диапазон от 2 до 4.5 метров, \n",
    "#посмотрим сколько выходит за рамки этого значения\n",
    "\n",
    "len(good_data.query('ceiling_height<2 or ceiling_height>4.5'))"
   ]
  },
  {
   "cell_type": "code",
   "execution_count": 44,
   "metadata": {},
   "outputs": [
    {
     "data": {
      "text/plain": [
       "0.18361159742089755"
      ]
     },
     "execution_count": 44,
     "metadata": {},
     "output_type": "execute_result"
    }
   ],
   "source": [
    "#сколько это в процентах?\n",
    "(len(good_data.query('ceiling_height<2 or ceiling_height>4.5')))/(len(good_data))*100"
   ]
  },
  {
   "cell_type": "code",
   "execution_count": 45,
   "metadata": {},
   "outputs": [
    {
     "data": {
      "text/plain": [
       "14314"
      ]
     },
     "execution_count": 45,
     "metadata": {},
     "output_type": "execute_result"
    }
   ],
   "source": [
    "#менее 1%, можно оставить только те, что равны или в пределах этих значений\n",
    "final_data = good_data.query('ceiling_height>=2 and ceiling_height<=4.5')\n",
    "len(final_data)"
   ]
  },
  {
   "cell_type": "code",
   "execution_count": 46,
   "metadata": {},
   "outputs": [
    {
     "data": {
      "text/plain": [
       "count        14314.0\n",
       "mean       6492748.0\n",
       "std        7894651.0\n",
       "min          12190.0\n",
       "25%        3550000.0\n",
       "50%        4800000.0\n",
       "75%        6990000.0\n",
       "max      330000000.0\n",
       "Name: last_price, dtype: float64"
      ]
     },
     "execution_count": 46,
     "metadata": {},
     "output_type": "execute_result"
    }
   ],
   "source": [
    "#посмотрим столбец с ценой\n",
    "final_data['last_price'].describe().round()"
   ]
  },
  {
   "cell_type": "code",
   "execution_count": 47,
   "metadata": {},
   "outputs": [
    {
     "data": {
      "image/png": "[encoded data removed]",
      "text/plain": [
       "<Figure size 432x288 with 1 Axes>"
      ]
     },
     "metadata": {
      "needs_background": "light"
     },
     "output_type": "display_data"
    }
   ],
   "source": [
    "#построим диаграмму размаха для того, чтобы определить выбросы по цене\n",
    "price_pivot = final_data[['locality_name','last_price']].boxplot()\n",
    "plt.ylim(-1000000, 15000000)\n",
    "\n",
    "plt.ylabel('стоимость')\n",
    "plt.title('диаграмма размаха по цене')\n",
    "\n",
    "plt.show()"
   ]
  },
  {
   "cell_type": "markdown",
   "metadata": {},
   "source": [
    "Как видим верхняя граница примерно на 12 000 000 р, но убирать строки с выбивающимися ценами не считаю целесообразным, так как это может повлиять на дальнейший анализ данных по Санкт-Петербургу."
   ]
  },
  {
   "cell_type": "markdown",
   "metadata": {},
   "source": [
    "### Общий вывод:\n",
    "\n",
    "- В результате исследования редких и выбивающихся значений отсекли выбросы и выбивающиеся значения в столбце с количеством комнат.\n",
    "\n",
    "- Обнаружили, что 5ти и более - комнатных квартир в общей массе менее чем 1%. \n",
    "\n",
    "- Высота потолков варьируется от 2м до 4,5м включительно.\n",
    "\n",
    "- Посмотрели диаграмму размаха по ценам, определили, что верхняя граница по ценам по всему набору данных в районе 12 000 000 рублей, но приняли решение не отсекать, чтобы сохранить полноту данных."
   ]
  },
  {
   "cell_type": "markdown",
   "metadata": {},
   "source": [
    "### Исследование факторов, влияющих на стоимость квартиры\n",
    "<a id='4.4'></a>\n",
    "\n",
    "Изучим факторы, которые могут повлиять на стоимость квадратного метра и узнаем:\n",
    "- Зависит ли цена от квадратного метра, числа комнат, этажа (первого или последнего), удалённости от центра. \n",
    "- Зависит ли цена от даты размещения: дня недели, месяца и года. \n",
    "- Выберем 10 населённых пунктов с наибольшим числом объявлений. Посчитаем среднюю цену квадратного метра в этих населённых пунктах. \n",
    "- Выделим населённые пункты с самой высокой и низкой стоимостью жилья."
   ]
  },
  {
   "cell_type": "code",
   "execution_count": 48,
   "metadata": {
    "scrolled": true
   },
   "outputs": [
    {
     "data": {
      "image/png": "[encoded data removed]",
      "text/plain": [
       "<Figure size 432x288 with 1 Axes>"
      ]
     },
     "metadata": {
      "needs_background": "light"
     },
     "output_type": "display_data"
    }
   ],
   "source": [
    "#зависит ли цена от общей площади\n",
    "final_data.plot(x = 'price_per_metr', y = 'total_area', kind='scatter', grid=True)   \n",
    "\n",
    "plt.ylabel('общая площадь')\n",
    "plt.xlabel('цена за кв.м')\n",
    "plt.title('зависимость цены от общей площади')\n",
    "\n",
    "plt.show()"
   ]
  },
  {
   "cell_type": "markdown",
   "metadata": {},
   "source": [
    "До 200 метров зависимость максимально коррелирует с ростом цены, а дальше начинает рассеивается, что значит, о том, что начинают влиять другие факторы"
   ]
  },
  {
   "cell_type": "code",
   "execution_count": 70,
   "metadata": {},
   "outputs": [
    {
     "data": {
      "image/png": "[encoded data removed]",
      "text/plain": [
       "<Figure size 576x360 with 1 Axes>"
      ]
     },
     "metadata": {
      "needs_background": "light"
     },
     "output_type": "display_data"
    }
   ],
   "source": [
    "#зависит ли цена от этажа\n",
    "final_data.pivot_table(index='floors_category', values='price_per_metr', aggfunc='mean').sort_values(by='price_per_metr', ascending=False).plot(y='price_per_metr', kind='bar', grid=True, figsize=(8, 5))\n",
    "\n",
    "plt.ylabel('цена за кв.м')\n",
    "plt.xlabel('этаж')\n",
    "plt.title('зависимость цены от этажа')\n",
    "\n",
    "plt.show()"
   ]
  },
  {
   "cell_type": "markdown",
   "metadata": {},
   "source": [
    "Как видим цены за первый этаж заметно ниже других, а последний этаж влияет меньше."
   ]
  },
  {
   "cell_type": "code",
   "execution_count": 50,
   "metadata": {},
   "outputs": [
    {
     "data": {
      "image/png": "[encoded data removed]",
      "text/plain": [
       "<Figure size 432x288 with 1 Axes>"
      ]
     },
     "metadata": {
      "needs_background": "light"
     },
     "output_type": "display_data"
    }
   ],
   "source": [
    "#зависит ли цена от удаленности от центра\n",
    "final_data.plot(x = 'city_centers_nearest', y = 'price_per_metr', ylim = (50000, 400000),kind='scatter', grid=True, alpha=0.05)\n",
    "\n",
    "plt.ylabel('цена за кв.м')\n",
    "plt.xlabel('удаленность (м)')\n",
    "plt.title('зависимость цены от удаленности от центра')\n",
    "\n",
    "plt.show()"
   ]
  },
  {
   "cell_type": "markdown",
   "metadata": {},
   "source": [
    "Зависимость обратная, чем расстояние от центра меньше, тем стоимость выше"
   ]
  },
  {
   "cell_type": "code",
   "execution_count": 69,
   "metadata": {},
   "outputs": [
    {
     "data": {
      "image/png": "[encoded data removed]",
      "text/plain": [
       "<Figure size 576x360 with 1 Axes>"
      ]
     },
     "metadata": {
      "needs_background": "light"
     },
     "output_type": "display_data"
    }
   ],
   "source": [
    "#зависимость цены от даты размещения: дня недели\n",
    "\n",
    "final_data.pivot_table(index='exposition_weekday', values='price_per_metr', aggfunc='mean').sort_values(by='price_per_metr', ascending=False).plot(y='price_per_metr', ylim = (90000, 110000), kind='bar', grid=True, figsize=(8, 5))\n",
    "\n",
    "plt.ylabel('цена за кв.м')\n",
    "plt.xlabel('день недели')\n",
    "plt.title('зависимость цены от дня недели')\n",
    "\n",
    "plt.show()"
   ]
  },
  {
   "cell_type": "markdown",
   "metadata": {},
   "source": [
    "В среднем самая низкая цена за квадратный метр в субботу, а самая высокая во вторник."
   ]
  },
  {
   "cell_type": "code",
   "execution_count": 68,
   "metadata": {},
   "outputs": [
    {
     "data": {
      "image/png": "[encoded data removed]",
      "text/plain": [
       "<Figure size 576x360 with 1 Axes>"
      ]
     },
     "metadata": {
      "needs_background": "light"
     },
     "output_type": "display_data"
    }
   ],
   "source": [
    "#зависимость цены от даты размещения: от месяца \n",
    "final_data.pivot_table(index='exposition_month', values='price_per_metr', aggfunc='mean').sort_values(by='price_per_metr', ascending=False).plot(y='price_per_metr', ylim = (90000, 110000), kind='bar', grid=True, figsize=(8, 5))\n",
    "\n",
    "plt.ylabel('цена за кв.м')\n",
    "plt.xlabel('месяц')\n",
    "plt.title('зависимость цены от месяца размещения')\n",
    "\n",
    "plt.show()"
   ]
  },
  {
   "cell_type": "markdown",
   "metadata": {},
   "source": [
    "Максимальная цена за квадратный метр в апреле, а самая низкая в июне и октябре."
   ]
  },
  {
   "cell_type": "code",
   "execution_count": 53,
   "metadata": {},
   "outputs": [
    {
     "data": {
      "image/png": "[encoded data removed]",
      "text/plain": [
       "<Figure size 576x360 with 1 Axes>"
      ]
     },
     "metadata": {
      "needs_background": "light"
     },
     "output_type": "display_data"
    }
   ],
   "source": [
    "#зависимость цены от даты размещения: года\n",
    "final_data.pivot_table(index='exposition_year', values='price_per_metr', aggfunc='mean').plot(y='price_per_metr', ylim = (90000, 150000), kind='bar', grid=True, figsize=(8, 5))\n",
    "\n",
    "plt.ylabel('цена за кв.м')\n",
    "plt.xlabel('год')\n",
    "plt.title('зависимость цены от года размещения')\n",
    "\n",
    "plt.show()"
   ]
  },
  {
   "cell_type": "markdown",
   "metadata": {},
   "source": [
    "Цена за квадратный метр была самой дорогой в 2014 году. Дальше цена снижается до 2017 и начинает снова расти в 2018. "
   ]
  },
  {
   "cell_type": "markdown",
   "metadata": {},
   "source": [
    "### Выводы"
   ]
  },
  {
   "cell_type": "markdown",
   "metadata": {},
   "source": [
    "- Общая площадь: цена за квадратный метр растет вместе с ростом общей площади до отметки в 200 квадратных метров.\n",
    "\n",
    "- Этаж: квартиры не на первом и не на последнем этаже дороже всего. Цена квадратного метра квартиры на первом этаже находится в районе 80 000 рублей, тогда как на последнем: около 90000 рублей. Остальные этажи уже стоят более чем 100 000 рублей за квадратный метр.\n",
    "\n",
    "- Расстояние от центра: зависимость обратная: чем меньше расстояние от центра, тем выше цена.\n",
    "\n",
    "- День недели: самая низкая средняя цена за квадратный метр в субботу, а самая высокая во вторник.\n",
    "\n",
    "- Месяц: максимальная цена за квадратный метр в апреле, а самая низкая в июне и октябре.\n",
    "\n",
    "- Год: цена за квадратный метр была самой дорогой в 2014 году. Дальше цена снижается до 2017 и начинает снова расти в 2018."
   ]
  },
  {
   "cell_type": "markdown",
   "metadata": {},
   "source": [
    "### Анализ десяти населённых пунктов с наибольшим числом объявлений\n",
    "<a id='4.5'></a>"
   ]
  },
  {
   "cell_type": "code",
   "execution_count": 54,
   "metadata": {},
   "outputs": [
    {
     "data": {
      "text/plain": [
       "Санкт-Петербург    9936\n",
       "Всеволожск          272\n",
       "Пушкин              233\n",
       "Мурино              226\n",
       "Шушары              216\n",
       "Колпино             203\n",
       "Кудрово             195\n",
       "Гатчина             148\n",
       "Петергоф            145\n",
       "Парголово           137\n",
       "Name: locality_name, dtype: int64"
      ]
     },
     "execution_count": 54,
     "metadata": {},
     "output_type": "execute_result"
    }
   ],
   "source": [
    "# 10 населённых пунктов с наибольшим числом объявлений\n",
    "top_10 = final_data['locality_name'].value_counts().head(10)\n",
    "top_10"
   ]
  },
  {
   "cell_type": "code",
   "execution_count": 55,
   "metadata": {},
   "outputs": [
    {
     "data": {
      "text/html": [
       "<div>\n",
       "<style scoped>\n",
       "    .dataframe tbody tr th:only-of-type {\n",
       "        vertical-align: middle;\n",
       "    }\n",
       "\n",
       "    .dataframe tbody tr th {\n",
       "        vertical-align: top;\n",
       "    }\n",
       "\n",
       "    .dataframe thead th {\n",
       "        text-align: right;\n",
       "    }\n",
       "</style>\n",
       "<table border=\"1\" class=\"dataframe\">\n",
       "  <thead>\n",
       "    <tr style=\"text-align: right;\">\n",
       "      <th></th>\n",
       "      <th>price_per_metr</th>\n",
       "    </tr>\n",
       "    <tr>\n",
       "      <th>locality_name</th>\n",
       "      <th></th>\n",
       "    </tr>\n",
       "  </thead>\n",
       "  <tbody>\n",
       "    <tr>\n",
       "      <th>Санкт-Петербург</th>\n",
       "      <td>115103.82</td>\n",
       "    </tr>\n",
       "    <tr>\n",
       "      <th>Пушкин</th>\n",
       "      <td>104065.56</td>\n",
       "    </tr>\n",
       "    <tr>\n",
       "      <th>Кудрово</th>\n",
       "      <td>96098.42</td>\n",
       "    </tr>\n",
       "    <tr>\n",
       "      <th>Парголово</th>\n",
       "      <td>90901.32</td>\n",
       "    </tr>\n",
       "    <tr>\n",
       "      <th>Мурино</th>\n",
       "      <td>87773.17</td>\n",
       "    </tr>\n",
       "    <tr>\n",
       "      <th>Петергоф</th>\n",
       "      <td>85554.13</td>\n",
       "    </tr>\n",
       "    <tr>\n",
       "      <th>Шушары</th>\n",
       "      <td>79286.48</td>\n",
       "    </tr>\n",
       "    <tr>\n",
       "      <th>Колпино</th>\n",
       "      <td>75938.53</td>\n",
       "    </tr>\n",
       "    <tr>\n",
       "      <th>Гатчина</th>\n",
       "      <td>70024.91</td>\n",
       "    </tr>\n",
       "    <tr>\n",
       "      <th>Всеволожск</th>\n",
       "      <td>67344.45</td>\n",
       "    </tr>\n",
       "  </tbody>\n",
       "</table>\n",
       "</div>"
      ],
      "text/plain": [
       "                 price_per_metr\n",
       "locality_name                  \n",
       "Санкт-Петербург       115103.82\n",
       "Пушкин                104065.56\n",
       "Кудрово                96098.42\n",
       "Парголово              90901.32\n",
       "Мурино                 87773.17\n",
       "Петергоф               85554.13\n",
       "Шушары                 79286.48\n",
       "Колпино                75938.53\n",
       "Гатчина                70024.91\n",
       "Всеволожск             67344.45"
      ]
     },
     "execution_count": 55,
     "metadata": {},
     "output_type": "execute_result"
    }
   ],
   "source": [
    "#посмторим на среднюю цену квадратного метра в этих населённых пунктах. \n",
    "#выделите населённые пункты с самой высокой и низкой стоимостью жилья из 10 с максимальным количеством объявлений.\n",
    "\n",
    "top_10_data=final_data.query('locality_name in @top_10.index')\n",
    "top_10_data_pivot=top_10_data.pivot_table(index='locality_name', values='price_per_metr', aggfunc='mean').round(2)\n",
    "top_10_data_pivot.sort_values(by='price_per_metr', ascending=False)"
   ]
  },
  {
   "cell_type": "markdown",
   "metadata": {},
   "source": [
    "Самая высокая цена за квадратный метр в Санкт Петербурге: 114 260 рублей, самая низкая в Выборге - 58 141 рублей."
   ]
  },
  {
   "cell_type": "markdown",
   "metadata": {},
   "source": [
    "### Анализ изменения цены по степени удалённости от центра\n",
    "<a id='4.6'></a>"
   ]
  },
  {
   "cell_type": "markdown",
   "metadata": {},
   "source": [
    "Для каждой квартиры есть информация о расстоянии до центра. Выделим квартиры в Санкт-Петербурге. Наша задача — выяснить, какая область входит в центр."
   ]
  },
  {
   "cell_type": "markdown",
   "metadata": {},
   "source": [
    "Для этого создадим столбец с расстоянием до центра в километрах. После этого посчитаем среднюю цену для каждого километра. Построем график: он будет показывать, как цена зависит от удалённости от центра. Определим границу, где график сильно меняется — это и будет центральная зона."
   ]
  },
  {
   "cell_type": "code",
   "execution_count": 56,
   "metadata": {},
   "outputs": [
    {
     "data": {
      "image/png": "[encoded data removed]",
      "text/plain": [
       "<Figure size 1080x360 with 1 Axes>"
      ]
     },
     "metadata": {
      "needs_background": "light"
     },
     "output_type": "display_data"
    }
   ],
   "source": [
    "#выделим квартиры в Санкт-Петербурге\n",
    "data_spb=pd.DataFrame(final_data.query('locality_name == \"Санкт-Петербург\"'))\n",
    "\n",
    "#создадим столбец с расстоянием до центра в километрах: округлим до целых значений\n",
    "data_spb['city_centers_spb'] = data_spb['city_centers_nearest'].div(1000).round(0)\n",
    "\n",
    "data_spb.pivot_table(index='city_centers_spb', values='price_per_metr', aggfunc='mean').round(0).plot(y='price_per_metr', kind='bar',grid=True, title = 'зависимость цены за кв.м. от удаленности от центра', figsize=(15, 5))\n",
    "plt.ylabel('цена за кв.м')\n",
    "plt.xlabel('удаленность от центра')\n",
    "\n",
    "plt.show()"
   ]
  },
  {
   "cell_type": "markdown",
   "metadata": {},
   "source": [
    "Цена сильно меняется при удаленности в 1 км и 3 км, далее на 7м километре. Поэтому можно сказать, область до 7ми км входит в центр."
   ]
  },
  {
   "cell_type": "markdown",
   "metadata": {},
   "source": [
    "## Сравнение выводов по квартирам в центре и общих выводов по всему городу\n",
    "<a id='4.7'></a>"
   ]
  },
  {
   "cell_type": "markdown",
   "metadata": {},
   "source": [
    "Выделим сегмент квартир в центре. Проанализируем эту территорию и изучим следующие параметры: площадь, цена, число комнат, высота потолков. Также выделим факторы, которые влияют на стоимость квартиры (число комнат, этаж, удалённость от центра, дата размещения объявления). Выясним - отличаются ли они от общих выводов по всему городу?"
   ]
  },
  {
   "cell_type": "code",
   "execution_count": 57,
   "metadata": {},
   "outputs": [
    {
     "data": {
      "text/plain": [
       "2162"
      ]
     },
     "execution_count": 57,
     "metadata": {},
     "output_type": "execute_result"
    }
   ],
   "source": [
    "#выделим сегмент квартир в центре\n",
    "data_spb_center = pd.DataFrame(data_spb.query('city_centers_spb<=7'))\n",
    "len(data_spb_center)"
   ]
  },
  {
   "cell_type": "code",
   "execution_count": 58,
   "metadata": {},
   "outputs": [
    {
     "data": {
      "image/png": "[encoded data removed]",
      "text/plain": [
       "<Figure size 1080x360 with 2 Axes>"
      ]
     },
     "metadata": {
      "needs_background": "light"
     },
     "output_type": "display_data"
    }
   ],
   "source": [
    "#сравним параметр общая площадь по центру и по всему городу\n",
    "\n",
    "fig, axes = plt.subplots(1,2, figsize=(15,5))\n",
    "\n",
    "data_spb_center['total_area'].hist(bins=30, range=(0,200), ax=axes[0])\n",
    "data_spb['total_area'].hist(bins=30, range=(0,200), ax=axes[1])\n",
    "\n",
    "axes[0].set_title('Распределение общей площади для центра СПБ')\n",
    "axes[0].legend(['общая площадь'])\n",
    "axes[0].set_ylabel('количество')\n",
    "axes[0].set_xlabel('площадь(кв.м)')\n",
    "\n",
    "axes[1].set_title('Распределение общей площади для всего города')\n",
    "axes[1].legend(['общая площадь'])\n",
    "axes[1].set_ylabel('количество')\n",
    "axes[1].set_xlabel('площадь(кв.м)')\n",
    "\n",
    "plt.show()"
   ]
  },
  {
   "cell_type": "code",
   "execution_count": 59,
   "metadata": {
    "scrolled": false
   },
   "outputs": [
    {
     "data": {
      "text/plain": [
       "Text(0.5, 1.0, 'Распределение площади для не-центра СПБ')"
      ]
     },
     "execution_count": 59,
     "metadata": {},
     "output_type": "execute_result"
    },
    {
     "data": {
      "image/png": "[encoded data removed]",
      "text/plain": [
       "<Figure size 1080x360 with 2 Axes>"
      ]
     },
     "metadata": {
      "needs_background": "light"
     },
     "output_type": "display_data"
    }
   ],
   "source": [
    "# Код ревьюера\n",
    "\n",
    "import matplotlib.pyplot as plt\n",
    "\n",
    "fig, axes = plt.subplots(1,2, figsize=(15,5))\n",
    "\n",
    "data_spb_center['total_area'].hist(bins=30, ax=axes[0])\n",
    "data_spb['total_area'].hist(bins=30, ax=axes[1])\n",
    "\n",
    "axes[0].set_title('Распределение площади для центра СПБ')\n",
    "axes[1].set_title('Распределение площади для не-центра СПБ')"
   ]
  },
  {
   "cell_type": "markdown",
   "metadata": {},
   "source": [
    "В центральном районе преобладают квартиры в диапазоне от 25 до 125 кв.м, в отличии от квартрир по всему городу, где в основная масса сосредоточена до 80 кв.м. Пиковое количество в центре расположено между 50 и 75 кв.м., по всему городу - между 25 и 50."
   ]
  },
  {
   "cell_type": "code",
   "execution_count": 60,
   "metadata": {},
   "outputs": [
    {
     "data": {
      "text/plain": [
       "Text(0.5, 0, 'цена за кв.м(руб)')"
      ]
     },
     "execution_count": 60,
     "metadata": {},
     "output_type": "execute_result"
    },
    {
     "data": {
      "image/png": "[encoded data removed]",
      "text/plain": [
       "<Figure size 1080x360 with 2 Axes>"
      ]
     },
     "metadata": {
      "needs_background": "light"
     },
     "output_type": "display_data"
    }
   ],
   "source": [
    "#цена\n",
    "fig, axes = plt.subplots(1,2, figsize=(15,5))\n",
    "\n",
    "data_spb_center['price_per_metr'].hist(bins=100, range=(50000,300000), ax=axes[0])\n",
    "data_spb['price_per_metr'].hist(bins=100, range=(50000,300000), ax=axes[1])\n",
    "\n",
    "axes[0].set_title('Распределение цены для центра СПБ')\n",
    "axes[0].set_ylabel('количество')\n",
    "axes[0].set_xlabel('цена за кв.м(руб)')\n",
    "\n",
    "axes[1].set_title('Распределение цены для СПБ')\n",
    "axes[1].set_ylabel('количество')\n",
    "axes[1].set_xlabel('цена за кв.м(руб)')"
   ]
  },
  {
   "cell_type": "markdown",
   "metadata": {},
   "source": [
    "Стоимость квадратного метра находится в диапазоне от 70 до 200 т.р. в центре. Немного меньше по всему городу: от 70 до 150 т.р. "
   ]
  },
  {
   "cell_type": "code",
   "execution_count": 61,
   "metadata": {},
   "outputs": [
    {
     "data": {
      "image/png": "[encoded data removed]",
      "text/plain": [
       "<Figure size 1080x360 with 2 Axes>"
      ]
     },
     "metadata": {
      "needs_background": "light"
     },
     "output_type": "display_data"
    }
   ],
   "source": [
    "#число комнат\n",
    "\n",
    "fig, axes = plt.subplots(1,2, figsize=(15,5))\n",
    "\n",
    "data_spb_center['rooms'].value_counts().plot(y ='rooms', kind='bar', grid=True, ax=axes[0])\n",
    "data_spb['rooms'].value_counts().plot(y ='rooms', kind='bar', grid=True, ax=axes[1])\n",
    "\n",
    "#data['rooms'].value_counts().plot(y ='rooms', kind='bar', grid=True, figsize=(10, 5))\n",
    "\n",
    "axes[0].set_title('Распределение числа комнат для центра СПБ')\n",
    "axes[0].set_ylabel('количество объявлений')\n",
    "axes[0].set_xlabel('количество комнат')\n",
    "\n",
    "axes[1].set_title('Распределение числа комнат для СПБ')\n",
    "axes[1].set_ylabel('количество объявлений')\n",
    "axes[1].set_xlabel('количество комнат')\n",
    "\n",
    "plt.show()"
   ]
  },
  {
   "cell_type": "markdown",
   "metadata": {},
   "source": [
    "В центральном районе больше 3х и 2хкомнатных квартир, вдвое меньше 4х и 1комнатных, совсем мало студий. По всему городу больше всего 2х и 1комнатных квартир, доля 4хкомнатных существенно меньше, также меньше всего студий."
   ]
  },
  {
   "cell_type": "code",
   "execution_count": 62,
   "metadata": {},
   "outputs": [
    {
     "data": {
      "image/png": "[encoded data removed]",
      "text/plain": [
       "<Figure size 1080x360 with 2 Axes>"
      ]
     },
     "metadata": {
      "needs_background": "light"
     },
     "output_type": "display_data"
    }
   ],
   "source": [
    "#высота потолков\n",
    "\n",
    "fig, axes = plt.subplots(1,2, figsize=(15,5))\n",
    "\n",
    "data_spb_center['ceiling_height'].hist(bins=40, range=(0,5), ax=axes[0])\n",
    "data_spb['ceiling_height'].hist(bins=40, range=(0,5), ax=axes[1])\n",
    "\n",
    "axes[0].set_title('Распределение высоты потолков для центра СПБ')\n",
    "axes[0].set_ylabel('количество объявлений')\n",
    "axes[0].set_xlabel('высота потолков(м)')\n",
    "\n",
    "axes[1].set_title('Распределение высоты потолков для не-центра СПБ')\n",
    "axes[1].set_ylabel('количество объявлений')\n",
    "axes[1].set_xlabel('высота потолков(м)')\n",
    "\n",
    "plt.show()"
   ]
  },
  {
   "cell_type": "markdown",
   "metadata": {},
   "source": [
    "В центре также как и по всему городу высота потолков составляет от 2 до 4,5 метров, но в центре преобладают квартиры с высотой потолков больше 3 метров, а по всему городу меньше 3х."
   ]
  },
  {
   "cell_type": "code",
   "execution_count": 63,
   "metadata": {},
   "outputs": [
    {
     "data": {
      "image/png": "[encoded data removed]",
      "text/plain": [
       "<Figure size 1080x360 with 2 Axes>"
      ]
     },
     "metadata": {
      "needs_background": "light"
     },
     "output_type": "display_data"
    }
   ],
   "source": [
    "#зависит ли цена от общей площади\n",
    "fig, axes = plt.subplots(1,2, figsize=(15,5))\n",
    "\n",
    "data_spb_center.plot(x = 'price_per_metr', y = 'total_area', kind='scatter', grid=True, ax=axes[0]) \n",
    "axes[0].set_title('Зависимость цены от общей площади для центра СПБ')\n",
    "axes[0].set_ylabel('общая площадь')\n",
    "axes[0].set_xlabel('цена за кв.метр(руб)')\n",
    "\n",
    "data_spb.plot(x = 'price_per_metr', y = 'total_area', kind='scatter', grid=True, ax=axes[1]) \n",
    "axes[1].set_title('Зависимость цены от общей площади для СПБ')\n",
    "axes[1].set_ylabel('общая площадь')\n",
    "axes[1].set_xlabel('цена за кв.метр(руб)')\n",
    "\n",
    "plt.show()"
   ]
  },
  {
   "cell_type": "markdown",
   "metadata": {},
   "source": [
    "До 200 метров зависимость максимально коррелирует с ростом цены примерно одинаково для центра и всего города."
   ]
  },
  {
   "cell_type": "code",
   "execution_count": 64,
   "metadata": {},
   "outputs": [
    {
     "data": {
      "image/png": "[encoded data removed]",
      "text/plain": [
       "<Figure size 1080x360 with 2 Axes>"
      ]
     },
     "metadata": {
      "needs_background": "light"
     },
     "output_type": "display_data"
    }
   ],
   "source": [
    "#зависит ли цена от этажа\n",
    "fig, axes = plt.subplots(1,2, figsize=(15,5))\n",
    "\n",
    "data_spb_center.pivot_table(index='floors_category', values='price_per_metr', aggfunc='mean').plot(y='price_per_metr', kind='bar', grid=True, ax=axes[0])\n",
    "axes[0].set_title('Зависимость цены от этажа для центра СПБ')\n",
    "axes[0].set_ylabel('цена')\n",
    "axes[0].set_xlabel('этаж')\n",
    "\n",
    "data_spb.pivot_table(index='floors_category', values='price_per_metr', aggfunc='mean').plot(y='price_per_metr', kind='bar', grid=True, ax=axes[1])\n",
    "axes[1].set_title('Зависимость цены от этажа для СПБ')\n",
    "axes[1].set_ylabel('цена')\n",
    "axes[1].set_xlabel('этаж')\n",
    "\n",
    "plt.show()"
   ]
  },
  {
   "cell_type": "markdown",
   "metadata": {},
   "source": [
    "Как видим цены за первый этаж заметно ниже других, а последний этаж влияет меньше, зависимость одинаковая для центра и всего города."
   ]
  },
  {
   "cell_type": "code",
   "execution_count": 65,
   "metadata": {},
   "outputs": [
    {
     "data": {
      "image/png": "[encoded data removed]",
      "text/plain": [
       "<Figure size 1080x360 with 2 Axes>"
      ]
     },
     "metadata": {
      "needs_background": "light"
     },
     "output_type": "display_data"
    }
   ],
   "source": [
    "#зависит ли цена от удаленности от центра\n",
    "fig, axes = plt.subplots(1,2, figsize=(15,5))\n",
    "\n",
    "data_spb_center.plot(x = 'city_centers_nearest', y = 'price_per_metr', ylim = (50000, 400000),kind='scatter', grid=True, alpha=0.2, ax=axes[0])\n",
    "axes[0].set_title('Зависимость цены от удаленности от центра для центра СПБ')\n",
    "axes[0].set_ylabel('цена')\n",
    "axes[0].set_xlabel('удаленность(м)')\n",
    "\n",
    "data_spb.plot(x = 'city_centers_nearest', y = 'price_per_metr', ylim = (50000, 400000),kind='scatter', grid=True, alpha=0.1, ax=axes[1])\n",
    "axes[1].set_title('Зависимость цены от удаленности от центра для СПБ')\n",
    "axes[1].set_ylabel('цена')\n",
    "axes[1].set_xlabel('удаленность(м)')\n",
    "\n",
    "plt.show()"
   ]
  },
  {
   "cell_type": "markdown",
   "metadata": {},
   "source": [
    "Зависимость обратная, чем расстояние от центра меньше, тем стоимость выше для всего города и цена примерно одинаковая вне зависимости от удаленности в случае с центром."
   ]
  },
  {
   "cell_type": "markdown",
   "metadata": {},
   "source": [
    "### Вывод"
   ]
  },
  {
   "cell_type": "markdown",
   "metadata": {},
   "source": [
    "- В центральном районе преобладают квартиры в диапазоне от 25 до 125 кв.м, в отличии от квартрир по всему городу, где в основная масса сосредоточена до 80 кв.м. Пиковое количество в центре расположено между 50 и 75 кв.м., по всему городу - между 25 и 50.\n",
    "\n",
    "- Стоимость квадратного метра находится в диапазоне от 70 до 200 т.р. в центре. Немного меньше по всему городу: от 70 до 150 т.р. \n",
    "\n",
    "- В центральном районе больше 3х и 2хкомнатных квартир, вдвое меньше 4х и 1комнатных, совсем мало студий. По всему городу больше всего 2х и 1комнатных квартир, доля 4хкомнатных существенно меньше, также меньше всего студий.\n",
    "\n",
    "- В центре также как и по всему городу высота потолков составляет от 2 до 4,5 метров, но в центре преобладают квартиры с высотой потолков больше 3 метров, а по всему городу меньше 3х.\n",
    "\n",
    "- Общая площадь до 200 метров максимально коррелирует с ростом цены примерно одинаково для центра и всего города.\n",
    "\n",
    "- Цены за первый этаж заметно ниже других этажей, а последний этаж влияет на цену меньше. Ситуация одинаковая для центра и всего города.\n",
    "\n",
    "- Зависимость цены от расстояния до центра обратная: чем меньше расстояние от центра, тем выше стоимость для всего города и цена примерно одинаковая вне зависимости от удаленности в случае с центром."
   ]
  },
  {
   "cell_type": "markdown",
   "metadata": {},
   "source": [
    "## Общий вывод\n",
    "<a id='5'></a>"
   ]
  },
  {
   "cell_type": "markdown",
   "metadata": {},
   "source": [
    "Мы исследовали данные сервиса Яндекс.Недвижимость — архив объявлений о продаже квартир в Санкт-Петербурге и соседних населённых пунктах за несколько лет. \n",
    "\n",
    "Наша задачей было — установить параметры, для того, чтобы научиться определять рыночную стоимость объектов недвижимости с помощью автоматизированной системы, которая сможет отследить аномалии и мошенническую деятельность.\n",
    "\n",
    "**Результаты исследования параметров: площади, цены, числа комнат, высоты потолков:**\n",
    "\n",
    "- Больше всего объявлений с квартирами площадью в диапазоне от 30 до 75 квадратных метров.\n",
    "- Основная вилка цен расположена в диапазоне от 2,5 млн до 10 млн. рублей.\n",
    "- Максимальное количество кваритир с количеством комнат от 1 до 3 и чуть меньше 4х комнатных, и совсем малая доля квартир, где комнат больше, чем 4.\n",
    "- Квартиры с высотой потолка от 2,65 до 3 метров являются преобладающими с данных, нормальный диапазон от 2 до 4,5 м.\n",
    "\n",
    "**Исследование количества времени для продажи квартиры:**\n",
    "\n",
    "- Продажа квартиры могла занять от 0 до 1500 дней, но чаще всего продажа происходила за 3-60 дней. Такую продажу можно считать быстрой. Продажу от 60 до 90 дней - средней, более 150 дней - необычно долгой, а продажу менее 3х дней - очень быстрой.\n",
    "\n",
    "**Редкие и выбивающиеся значения:**\n",
    "\n",
    "- Обнаружили, что 5ти и более - комнатных квартир в общей массе менее чем 1%. \n",
    "\n",
    "- Высота потолков варьируется от 2м до 4,5м включительно.\n",
    "\n",
    "- Построили диаграмму размаха по ценам, определили, что верхняя граница по ценам по всему набору данных в районе 12 000 000 рублей, но приняли решение не отсекать, чтобы сохранить полноту данных.\n",
    "\n",
    "**Исследование факторов, влияющих на стоимость квартиры:**\n",
    "\n",
    "- Общая площадь: цена за квадратный метр растет вместе с ростом общей площади до отметки в 200 квадратных метров.\n",
    "\n",
    "- Этаж: квартиры не на первом и не на последнем этаже дороже всего. Цена квадратного метра квартиры на первом этаже находится в районе 80 000 рублей, тогда как на последнем: около 90000 рублей. Остальные этажи уже стоят более чем 100 000 рублей за квадратный метр.\n",
    "\n",
    "- Расстояние от центра: зависимость обратная: чем меньше расстояние от центра, тем выше цена.\n",
    "\n",
    "- День недели: самая низкая средняя цена за квадратный метр в воскресенье, а самая высокая в четверг.\n",
    "\n",
    "- Месяц: максимальная цена за квадратный метр в апреле, а самая низкая в июне и октябре.\n",
    "\n",
    "- Год: цена за квадратный метр была самой дорогой в 2014 году. Дальше цена снижается до 2017 и начинает снова расти в 2018.\n",
    "\n",
    "**Анализ десяти населённых пунктов с наибольшим числом объявлений:**\n",
    "\n",
    "- 10 населенных пунктов с наимбольшим числом объявлений по убыванию: Санкт-Петербург, Мурино, Кудрово, Шушары, Всеволожск, Пушкин, Колпино, Парголово, Гатчина, Выборг\n",
    "\n",
    "- Самая высокая цена за квадратный метр в Санкт Петербурге: 114 260 рублей, самая низкая в Выборге - 58 141 рублей.\n",
    "\n",
    "**Анализ изменения цены по степени удалённости от центра:**\n",
    "\n",
    "- Цена уменьшается на 7м километре. Поэтому можно сказать, что область до 7ми км входит в центр.\n",
    "\n",
    "**Сравнение выводов по квартирам в центре и общих выводов по всему городу:**\n",
    "\n",
    "- В центральном районе преобладают квартиры в диапазоне от 25 до 125 кв.м, в отличии от квартрир по всему городу, где в основная масса сосредоточена до 80 кв.м. Пиковое количество в центре расположено между 50 и 75 кв.м., по всему городу - между 25 и 50.\n",
    "\n",
    "- Стоимость квадратного метра находится в диапазоне от 70 до 200 т.р. в центре. Немного меньше по всему городу: от 70 до 150 т.р. \n",
    "\n",
    "- В центральном районе больше 3х и 2хкомнатных квартир, вдвое меньше 4х и 1комнатных, совсем мало студий. По всему городу больше всего 2х и 1комнатных квартир, доля 4хкомнатных существенно меньше, также как и в центре - меньше всего студий.\n",
    "\n",
    "- В центре также как и по всему городу высота потолков составляет от 2 до 4,5 метров, но в центре преобладают квартиры с высотой потолков больше 3 метров, а по всему городу меньше 3х.\n",
    "\n",
    "- Общая площадь до 200 метров максимально коррелирует с ростом цены примерно одинаково для центра и всего города.\n",
    "\n",
    "- Цены за первый этаж заметно ниже других этажей, а последний этаж влияет на цену меньше. Ситуация одинаковая для центра и всего города.\n",
    "\n",
    "- Зависимость цены от расстояния до центра обратная: чем меньше расстояние от центра, тем выше стоимость для всего города и цена примерно одинаковая вне зависимости от удаленности в случае с центром.\n"
   ]
  },
  {
   "cell_type": "markdown",
   "metadata": {},
   "source": [
    "## Чек-лист готовности проекта\n",
    "<a id='6'></a>\n",
    "Поставьте 'x' в выполненных пунктах. Далее нажмите Shift+Enter."
   ]
  },
  {
   "cell_type": "markdown",
   "metadata": {},
   "source": [
    "- [x]  открыт файл\n",
    "- [x]  файлы изучены (выведены первые строки, метод info())\n",
    "- [x]  определены пропущенные значения\n",
    "- [x]  заполнены пропущенные значения\n",
    "- [x]  есть пояснение, какие пропущенные значения обнаружены\n",
    "- [x]  изменены типы данных\n",
    "- [x]  есть пояснение, в каких столбцах изменены типы и почему\n",
    "- [x]  посчитано и добавлено в таблицу: цена квадратного метра\n",
    "- [x]  посчитано и добавлено в таблицу: день недели, месяц и год публикации объявления\n",
    "- [x]  посчитано и добавлено в таблицу: этаж квартиры; варианты — первый, последний, другой\n",
    "- [x]  посчитано и добавлено в таблицу: соотношение жилой и общей площади, а также отношение площади кухни к общей\n",
    "- [x]  изучены следующие параметры: площадь, цена, число комнат, высота потолков\n",
    "- [x]  построены гистограммы для каждого параметра\n",
    "- [x]  выполнено задание: \"Изучите время продажи квартиры. Постройте гистограмму. Посчитайте среднее и медиану. Опишите, сколько обычно занимает продажа. Когда можно считать, что продажи прошли очень быстро, а когда необычно долго?\"\n",
    "- [x]  выполнено задание: \"Уберите редкие и выбивающиеся значения. Опишите, какие особенности обнаружили.\"\n",
    "- [x]  выполнено задание: \"Какие факторы больше всего влияют на стоимость квартиры? Изучите, зависит ли цена от квадратного метра, числа комнат, этажа (первого или последнего), удалённости от центра. Также изучите зависимость от даты размещения: дня недели, месяца и года. \"Выберите 10 населённых пунктов с наибольшим числом объявлений. Посчитайте среднюю цену квадратного метра в этих населённых пунктах. Выделите населённые пункты с самой высокой и низкой стоимостью жилья. Эти данные можно найти по имени в столбце '*locality_name'*. \"\n",
    "- [x]  выполнено задание: \"Изучите предложения квартир: для каждой квартиры есть информация о расстоянии до центра. Выделите квартиры в Санкт-Петербурге (*'locality_name'*). Ваша задача — выяснить, какая область входит в центр. Создайте столбец с расстоянием до центра в километрах: округлите до целых значений. После этого посчитайте среднюю цену для каждого километра. Постройте график: он должен показывать, как цена зависит от удалённости от центра. Определите границу, где график сильно меняется — это и будет центральная зона. \"\n",
    "- [x]  выполнено задание: \"Выделите сегмент квартир в центре. Проанализируйте эту территорию и изучите следующие параметры: площадь, цена, число комнат, высота потолков. Также выделите факторы, которые влияют на стоимость квартиры (число комнат, этаж, удалённость от центра, дата размещения объявления). Сделайте выводы. Отличаются ли они от общих выводов по всему городу?\"\n",
    "- [x]  в каждом этапе есть выводы\n",
    "- [x]  есть общий вывод"
   ]
  },
  {
   "cell_type": "code",
   "execution_count": null,
   "metadata": {},
   "outputs": [],
   "source": []
  }
 ],
 "metadata": {
  "ExecuteTimeLog": [
   {
    "duration": 1452,
    "start_time": "2021-12-24T22:02:54.987Z"
   },
   {
    "duration": 170,
    "start_time": "2021-12-24T22:03:02.270Z"
   },
   {
    "duration": 81,
    "start_time": "2021-12-24T22:03:02.442Z"
   },
   {
    "duration": 9,
    "start_time": "2021-12-24T22:03:02.525Z"
   },
   {
    "duration": 61,
    "start_time": "2021-12-24T22:03:02.535Z"
   },
   {
    "duration": 41,
    "start_time": "2021-12-24T22:03:02.597Z"
   },
   {
    "duration": 8,
    "start_time": "2021-12-24T22:03:02.640Z"
   },
   {
    "duration": 182,
    "start_time": "2021-12-24T22:03:02.649Z"
   },
   {
    "duration": 49,
    "start_time": "2021-12-24T22:03:02.834Z"
   },
   {
    "duration": 7,
    "start_time": "2021-12-24T22:03:02.885Z"
   },
   {
    "duration": 10,
    "start_time": "2021-12-24T22:03:02.894Z"
   },
   {
    "duration": 7,
    "start_time": "2021-12-24T22:03:02.928Z"
   },
   {
    "duration": 21,
    "start_time": "2021-12-24T22:03:02.936Z"
   },
   {
    "duration": 79,
    "start_time": "2021-12-24T22:03:02.959Z"
   },
   {
    "duration": 7,
    "start_time": "2021-12-24T22:03:03.039Z"
   },
   {
    "duration": 4,
    "start_time": "2021-12-24T22:03:03.048Z"
   },
   {
    "duration": 17,
    "start_time": "2021-12-24T22:03:03.054Z"
   },
   {
    "duration": 8,
    "start_time": "2021-12-24T22:03:03.073Z"
   },
   {
    "duration": 7,
    "start_time": "2021-12-24T22:03:03.082Z"
   },
   {
    "duration": 37,
    "start_time": "2021-12-24T22:03:03.091Z"
   },
   {
    "duration": 25,
    "start_time": "2021-12-24T22:03:03.130Z"
   },
   {
    "duration": 36,
    "start_time": "2021-12-24T22:03:03.156Z"
   },
   {
    "duration": 554,
    "start_time": "2021-12-24T22:03:03.194Z"
   },
   {
    "duration": 25,
    "start_time": "2021-12-24T22:03:03.752Z"
   },
   {
    "duration": 24,
    "start_time": "2021-12-24T22:03:03.780Z"
   },
   {
    "duration": 21,
    "start_time": "2021-12-24T22:03:03.826Z"
   },
   {
    "duration": 10,
    "start_time": "2021-12-24T22:03:03.849Z"
   },
   {
    "duration": 16,
    "start_time": "2021-12-24T22:03:03.861Z"
   },
   {
    "duration": 19,
    "start_time": "2021-12-24T22:03:03.879Z"
   },
   {
    "duration": 353,
    "start_time": "2021-12-24T22:03:03.900Z"
   },
   {
    "duration": 309,
    "start_time": "2021-12-24T22:03:04.254Z"
   },
   {
    "duration": 176,
    "start_time": "2021-12-24T22:03:04.565Z"
   },
   {
    "duration": 187,
    "start_time": "2021-12-24T22:03:04.743Z"
   },
   {
    "duration": 9,
    "start_time": "2021-12-24T22:03:04.932Z"
   },
   {
    "duration": 185,
    "start_time": "2021-12-24T22:03:04.943Z"
   },
   {
    "duration": 186,
    "start_time": "2021-12-24T22:03:05.129Z"
   },
   {
    "duration": 161,
    "start_time": "2021-12-24T22:03:05.316Z"
   },
   {
    "duration": 6,
    "start_time": "2021-12-24T22:03:05.478Z"
   },
   {
    "duration": 8,
    "start_time": "2021-12-24T22:03:05.485Z"
   },
   {
    "duration": 6,
    "start_time": "2021-12-24T22:03:05.494Z"
   },
   {
    "duration": 31,
    "start_time": "2021-12-24T22:03:05.501Z"
   },
   {
    "duration": 7,
    "start_time": "2021-12-24T22:03:05.533Z"
   },
   {
    "duration": 7,
    "start_time": "2021-12-24T22:03:05.541Z"
   },
   {
    "duration": 13,
    "start_time": "2021-12-24T22:03:05.549Z"
   },
   {
    "duration": 9,
    "start_time": "2021-12-24T22:03:05.563Z"
   },
   {
    "duration": 167,
    "start_time": "2021-12-24T22:03:05.573Z"
   },
   {
    "duration": 539,
    "start_time": "2021-12-24T22:03:05.742Z"
   },
   {
    "duration": 322,
    "start_time": "2021-12-24T22:03:06.283Z"
   },
   {
    "duration": 558,
    "start_time": "2021-12-24T22:03:06.607Z"
   },
   {
    "duration": 192,
    "start_time": "2021-12-24T22:03:07.167Z"
   },
   {
    "duration": 216,
    "start_time": "2021-12-24T22:03:07.361Z"
   },
   {
    "duration": 187,
    "start_time": "2021-12-24T22:03:07.578Z"
   },
   {
    "duration": 8,
    "start_time": "2021-12-24T22:03:07.766Z"
   },
   {
    "duration": 22,
    "start_time": "2021-12-24T22:03:07.775Z"
   },
   {
    "duration": 360,
    "start_time": "2021-12-24T22:03:07.799Z"
   },
   {
    "duration": 19,
    "start_time": "2021-12-24T22:03:08.161Z"
   },
   {
    "duration": 590,
    "start_time": "2021-12-24T22:03:08.181Z"
   },
   {
    "duration": 464,
    "start_time": "2021-12-24T22:03:08.772Z"
   },
   {
    "duration": 571,
    "start_time": "2021-12-24T22:03:09.238Z"
   },
   {
    "duration": 327,
    "start_time": "2021-12-24T22:03:09.810Z"
   },
   {
    "duration": 315,
    "start_time": "2021-12-24T22:03:10.139Z"
   },
   {
    "duration": 754,
    "start_time": "2021-12-24T22:03:10.455Z"
   },
   {
    "duration": 317,
    "start_time": "2021-12-24T22:03:11.210Z"
   },
   {
    "duration": 740,
    "start_time": "2021-12-24T22:03:11.529Z"
   },
   {
    "duration": 91,
    "start_time": "2021-12-24T22:03:23.935Z"
   },
   {
    "duration": 437,
    "start_time": "2021-12-24T22:28:26.829Z"
   },
   {
    "duration": 659,
    "start_time": "2021-12-26T23:10:54.605Z"
   },
   {
    "duration": 84,
    "start_time": "2021-12-26T23:10:55.266Z"
   },
   {
    "duration": 10,
    "start_time": "2021-12-26T23:10:55.351Z"
   },
   {
    "duration": 62,
    "start_time": "2021-12-26T23:10:55.363Z"
   },
   {
    "duration": 37,
    "start_time": "2021-12-26T23:10:55.426Z"
   },
   {
    "duration": 11,
    "start_time": "2021-12-26T23:10:55.465Z"
   },
   {
    "duration": 79,
    "start_time": "2021-12-26T23:10:55.477Z"
   },
   {
    "duration": 9853,
    "start_time": "2021-12-26T23:10:55.559Z"
   },
   {
    "duration": -8740,
    "start_time": "2021-12-26T23:11:14.156Z"
   },
   {
    "duration": -8744,
    "start_time": "2021-12-26T23:11:14.161Z"
   },
   {
    "duration": -8746,
    "start_time": "2021-12-26T23:11:14.164Z"
   },
   {
    "duration": -8748,
    "start_time": "2021-12-26T23:11:14.167Z"
   },
   {
    "duration": -8751,
    "start_time": "2021-12-26T23:11:14.171Z"
   },
   {
    "duration": -8754,
    "start_time": "2021-12-26T23:11:14.175Z"
   },
   {
    "duration": -8757,
    "start_time": "2021-12-26T23:11:14.179Z"
   },
   {
    "duration": -8759,
    "start_time": "2021-12-26T23:11:14.182Z"
   },
   {
    "duration": -8760,
    "start_time": "2021-12-26T23:11:14.184Z"
   },
   {
    "duration": -8763,
    "start_time": "2021-12-26T23:11:14.188Z"
   },
   {
    "duration": -8771,
    "start_time": "2021-12-26T23:11:14.196Z"
   },
   {
    "duration": -8772,
    "start_time": "2021-12-26T23:11:14.199Z"
   },
   {
    "duration": -8775,
    "start_time": "2021-12-26T23:11:14.202Z"
   },
   {
    "duration": -8777,
    "start_time": "2021-12-26T23:11:14.205Z"
   },
   {
    "duration": -8780,
    "start_time": "2021-12-26T23:11:14.209Z"
   },
   {
    "duration": -8781,
    "start_time": "2021-12-26T23:11:14.211Z"
   },
   {
    "duration": -8783,
    "start_time": "2021-12-26T23:11:14.214Z"
   },
   {
    "duration": -8784,
    "start_time": "2021-12-26T23:11:14.216Z"
   },
   {
    "duration": -8786,
    "start_time": "2021-12-26T23:11:14.219Z"
   },
   {
    "duration": -8788,
    "start_time": "2021-12-26T23:11:14.222Z"
   },
   {
    "duration": -8791,
    "start_time": "2021-12-26T23:11:14.225Z"
   },
   {
    "duration": -8793,
    "start_time": "2021-12-26T23:11:14.228Z"
   },
   {
    "duration": -8795,
    "start_time": "2021-12-26T23:11:14.231Z"
   },
   {
    "duration": -8796,
    "start_time": "2021-12-26T23:11:14.233Z"
   },
   {
    "duration": -8801,
    "start_time": "2021-12-26T23:11:14.238Z"
   },
   {
    "duration": -8803,
    "start_time": "2021-12-26T23:11:14.241Z"
   },
   {
    "duration": -8804,
    "start_time": "2021-12-26T23:11:14.243Z"
   },
   {
    "duration": -8806,
    "start_time": "2021-12-26T23:11:14.246Z"
   },
   {
    "duration": -8808,
    "start_time": "2021-12-26T23:11:14.249Z"
   },
   {
    "duration": -8810,
    "start_time": "2021-12-26T23:11:14.252Z"
   },
   {
    "duration": -8813,
    "start_time": "2021-12-26T23:11:14.255Z"
   },
   {
    "duration": -8815,
    "start_time": "2021-12-26T23:11:14.258Z"
   },
   {
    "duration": -8816,
    "start_time": "2021-12-26T23:11:14.260Z"
   },
   {
    "duration": -8818,
    "start_time": "2021-12-26T23:11:14.263Z"
   },
   {
    "duration": -8819,
    "start_time": "2021-12-26T23:11:14.265Z"
   },
   {
    "duration": -8822,
    "start_time": "2021-12-26T23:11:14.269Z"
   },
   {
    "duration": -8823,
    "start_time": "2021-12-26T23:11:14.272Z"
   },
   {
    "duration": -8825,
    "start_time": "2021-12-26T23:11:14.275Z"
   },
   {
    "duration": -8826,
    "start_time": "2021-12-26T23:11:14.277Z"
   },
   {
    "duration": -8828,
    "start_time": "2021-12-26T23:11:14.280Z"
   },
   {
    "duration": -8831,
    "start_time": "2021-12-26T23:11:14.283Z"
   },
   {
    "duration": -8832,
    "start_time": "2021-12-26T23:11:14.285Z"
   },
   {
    "duration": -8834,
    "start_time": "2021-12-26T23:11:14.288Z"
   },
   {
    "duration": -8835,
    "start_time": "2021-12-26T23:11:14.290Z"
   },
   {
    "duration": -8837,
    "start_time": "2021-12-26T23:11:14.293Z"
   },
   {
    "duration": -8846,
    "start_time": "2021-12-26T23:11:14.303Z"
   },
   {
    "duration": -8848,
    "start_time": "2021-12-26T23:11:14.306Z"
   },
   {
    "duration": -8850,
    "start_time": "2021-12-26T23:11:14.308Z"
   },
   {
    "duration": -8852,
    "start_time": "2021-12-26T23:11:14.311Z"
   },
   {
    "duration": -8853,
    "start_time": "2021-12-26T23:11:14.313Z"
   },
   {
    "duration": -8855,
    "start_time": "2021-12-26T23:11:14.316Z"
   },
   {
    "duration": -8857,
    "start_time": "2021-12-26T23:11:14.319Z"
   },
   {
    "duration": -8860,
    "start_time": "2021-12-26T23:11:14.322Z"
   },
   {
    "duration": -8861,
    "start_time": "2021-12-26T23:11:14.324Z"
   },
   {
    "duration": -8862,
    "start_time": "2021-12-26T23:11:14.326Z"
   },
   {
    "duration": -8864,
    "start_time": "2021-12-26T23:11:14.329Z"
   },
   {
    "duration": 378,
    "start_time": "2021-12-26T23:11:54.597Z"
   },
   {
    "duration": 82,
    "start_time": "2021-12-26T23:12:48.977Z"
   },
   {
    "duration": 5819,
    "start_time": "2021-12-26T23:13:03.125Z"
   },
   {
    "duration": 5744,
    "start_time": "2021-12-26T23:13:38.586Z"
   },
   {
    "duration": 5906,
    "start_time": "2021-12-26T23:14:28.374Z"
   },
   {
    "duration": 2,
    "start_time": "2021-12-26T23:18:30.516Z"
   },
   {
    "duration": 93,
    "start_time": "2021-12-26T23:18:30.520Z"
   },
   {
    "duration": 30,
    "start_time": "2021-12-26T23:18:30.615Z"
   },
   {
    "duration": 66,
    "start_time": "2021-12-26T23:18:30.647Z"
   },
   {
    "duration": 42,
    "start_time": "2021-12-26T23:18:30.715Z"
   },
   {
    "duration": 8,
    "start_time": "2021-12-26T23:18:30.758Z"
   },
   {
    "duration": 74,
    "start_time": "2021-12-26T23:18:30.768Z"
   },
   {
    "duration": 5920,
    "start_time": "2021-12-26T23:18:30.844Z"
   },
   {
    "duration": 43,
    "start_time": "2021-12-26T23:18:36.766Z"
   },
   {
    "duration": 7,
    "start_time": "2021-12-26T23:18:36.811Z"
   },
   {
    "duration": 662,
    "start_time": "2021-12-26T23:18:36.819Z"
   },
   {
    "duration": 4,
    "start_time": "2021-12-26T23:18:37.483Z"
   },
   {
    "duration": 23,
    "start_time": "2021-12-26T23:18:37.488Z"
   },
   {
    "duration": 78,
    "start_time": "2021-12-26T23:18:37.512Z"
   },
   {
    "duration": 7,
    "start_time": "2021-12-26T23:18:37.592Z"
   },
   {
    "duration": 5,
    "start_time": "2021-12-26T23:18:37.600Z"
   },
   {
    "duration": 12,
    "start_time": "2021-12-26T23:18:37.606Z"
   },
   {
    "duration": 27,
    "start_time": "2021-12-26T23:18:37.620Z"
   },
   {
    "duration": 7,
    "start_time": "2021-12-26T23:18:37.650Z"
   },
   {
    "duration": 6,
    "start_time": "2021-12-26T23:18:37.660Z"
   },
   {
    "duration": 23,
    "start_time": "2021-12-26T23:18:37.667Z"
   },
   {
    "duration": 61,
    "start_time": "2021-12-26T23:18:37.691Z"
   },
   {
    "duration": 565,
    "start_time": "2021-12-26T23:18:37.753Z"
   },
   {
    "duration": 33,
    "start_time": "2021-12-26T23:18:38.320Z"
   },
   {
    "duration": 27,
    "start_time": "2021-12-26T23:18:38.354Z"
   },
   {
    "duration": 22,
    "start_time": "2021-12-26T23:18:38.382Z"
   },
   {
    "duration": 9,
    "start_time": "2021-12-26T23:18:38.406Z"
   },
   {
    "duration": 10,
    "start_time": "2021-12-26T23:18:38.441Z"
   },
   {
    "duration": 14,
    "start_time": "2021-12-26T23:18:38.452Z"
   },
   {
    "duration": 343,
    "start_time": "2021-12-26T23:18:38.468Z"
   },
   {
    "duration": 330,
    "start_time": "2021-12-26T23:18:38.813Z"
   },
   {
    "duration": 247,
    "start_time": "2021-12-26T23:18:39.145Z"
   },
   {
    "duration": 203,
    "start_time": "2021-12-26T23:18:39.393Z"
   },
   {
    "duration": 8,
    "start_time": "2021-12-26T23:18:39.597Z"
   },
   {
    "duration": 187,
    "start_time": "2021-12-26T23:18:39.607Z"
   },
   {
    "duration": 196,
    "start_time": "2021-12-26T23:18:39.796Z"
   },
   {
    "duration": 182,
    "start_time": "2021-12-26T23:18:39.994Z"
   },
   {
    "duration": 5,
    "start_time": "2021-12-26T23:18:40.178Z"
   },
   {
    "duration": 8,
    "start_time": "2021-12-26T23:18:40.185Z"
   },
   {
    "duration": 7,
    "start_time": "2021-12-26T23:18:40.195Z"
   },
   {
    "duration": 9,
    "start_time": "2021-12-26T23:18:40.204Z"
   },
   {
    "duration": 106,
    "start_time": "2021-12-26T23:18:40.215Z"
   },
   {
    "duration": 7,
    "start_time": "2021-12-26T23:18:40.323Z"
   },
   {
    "duration": 9,
    "start_time": "2021-12-26T23:18:40.340Z"
   },
   {
    "duration": 7,
    "start_time": "2021-12-26T23:18:40.351Z"
   },
   {
    "duration": 151,
    "start_time": "2021-12-26T23:18:40.360Z"
   },
   {
    "duration": 414,
    "start_time": "2021-12-26T23:18:40.513Z"
   },
   {
    "duration": 166,
    "start_time": "2021-12-26T23:18:40.930Z"
   },
   {
    "duration": 437,
    "start_time": "2021-12-26T23:18:41.098Z"
   },
   {
    "duration": 208,
    "start_time": "2021-12-26T23:18:41.541Z"
   },
   {
    "duration": 242,
    "start_time": "2021-12-26T23:18:41.752Z"
   },
   {
    "duration": 229,
    "start_time": "2021-12-26T23:18:41.996Z"
   },
   {
    "duration": 15,
    "start_time": "2021-12-26T23:18:42.226Z"
   },
   {
    "duration": 20,
    "start_time": "2021-12-26T23:18:42.242Z"
   },
   {
    "duration": 380,
    "start_time": "2021-12-26T23:18:42.266Z"
   },
   {
    "duration": 8,
    "start_time": "2021-12-26T23:18:42.648Z"
   },
   {
    "duration": 492,
    "start_time": "2021-12-26T23:18:42.657Z"
   },
   {
    "duration": 499,
    "start_time": "2021-12-26T23:18:43.151Z"
   },
   {
    "duration": 647,
    "start_time": "2021-12-26T23:18:43.651Z"
   },
   {
    "duration": 326,
    "start_time": "2021-12-26T23:18:44.299Z"
   },
   {
    "duration": 462,
    "start_time": "2021-12-26T23:18:44.627Z"
   },
   {
    "duration": 721,
    "start_time": "2021-12-26T23:18:45.091Z"
   },
   {
    "duration": 327,
    "start_time": "2021-12-26T23:18:45.814Z"
   },
   {
    "duration": 890,
    "start_time": "2021-12-26T23:18:46.143Z"
   }
  ],
  "kernelspec": {
   "display_name": "Python 3 (ipykernel)",
   "language": "python",
   "name": "python3"
  },
  "language_info": {
   "codemirror_mode": {
    "name": "ipython",
    "version": 3
   },
   "file_extension": ".py",
   "mimetype": "text/x-python",
   "name": "python",
   "nbconvert_exporter": "python",
   "pygments_lexer": "ipython3",
   "version": "3.9.7"
  },
  "toc": {
   "base_numbering": 1,
   "nav_menu": {},
   "number_sections": true,
   "sideBar": true,
   "skip_h1_title": true,
   "title_cell": "Содержание",
   "title_sidebar": "Contents",
   "toc_cell": true,
   "toc_position": {},
   "toc_section_display": true,
   "toc_window_display": true
  }
 },
 "nbformat": 4,
 "nbformat_minor": 2
}
