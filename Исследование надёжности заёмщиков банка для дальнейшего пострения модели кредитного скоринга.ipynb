{
 "cells": [
  {
   "cell_type": "markdown",
   "metadata": {},
   "source": [
    "# Исследование надёжности заёмщиков\n",
    "\n",
    "Заказчик — кредитный отдел банка. Нужно разобраться, влияет ли семейное положение и количество детей клиента на факт погашения кредита в срок. Входные данные от банка — статистика о платёжеспособности клиентов.\n",
    "\n",
    "Результаты исследования будут учтены при построении модели **кредитного скоринга** — специальной системы, которая оценивает способность потенциального заёмщика вернуть кредит банку.\n",
    "\n",
    "Описание данных\n",
    "* \t\tchildren — количество детей в семье\n",
    "* \t\tdays_employed — общий трудовой стаж в днях\n",
    "* \t\tdob_years — возраст клиента в годах\n",
    "* \t\teducation — уровень образования клиента\n",
    "* \t\teducation_id — идентификатор уровня образования\n",
    "* \t\tfamily_status — семейное положение\n",
    "* \t\tfamily_status_id — идентификатор семейного положения\n",
    "* \t\tgender — пол клиента\n",
    "* \t\tincome_type — тип занятости\n",
    "* \t\tdebt — имел ли задолженность по возврату кредитов\n",
    "* \t\ttotal_income — ежемесячный доход\n",
    "* \t\tpurpose — цель получения кредита"
   ]
  },
  {
   "cell_type": "markdown",
   "metadata": {},
   "source": [
    "## Оглавление\n",
    "\n",
    "### [Общая информация](#info)\n",
    "### [Предобработка данных](#preprocessing)\n",
    "\n",
    "- [Обработка пропусков](#isna)\n",
    "- [Замена типа данных](#astype)\n",
    "- [Обработка дубликатов](#duplicates)\n",
    "- [Лемматизация ](#lemma)\n",
    "- [Категоризация данных](#category)\n",
    "\n",
    "### [Исследование](#research)\n",
    "\n",
    "- [Зависимость между наличием детей и возвратом кредита в срок](#children)\n",
    "- [Зависимость между семейным положением и возвратом кредита в срок](#family_status)\n",
    "- [Зависимость между уровнем дохода и возвратом кредита в срок](#total_income)\n",
    "- [Как разные цели кредита влияют на его возврат в срок](#purposes)\n",
    "\n",
    "### [Общий вывод](#conclusion)\n",
    "\n"
   ]
  },
  {
   "cell_type": "markdown",
   "metadata": {},
   "source": [
    "## Шаг 1. Откройте файл с данными и изучите общую информацию\n",
    "<a id='info'></a>"
   ]
  },
  {
   "cell_type": "code",
   "execution_count": 1,
   "metadata": {},
   "outputs": [],
   "source": [
    "import pandas as pd\n",
    "from pymystem3 import Mystem\n",
    "from collections import Counter"
   ]
  },
  {
   "cell_type": "code",
   "execution_count": 2,
   "metadata": {},
   "outputs": [
    {
     "data": {
      "text/html": [
       "<div>\n",
       "<style scoped>\n",
       "    .dataframe tbody tr th:only-of-type {\n",
       "        vertical-align: middle;\n",
       "    }\n",
       "\n",
       "    .dataframe tbody tr th {\n",
       "        vertical-align: top;\n",
       "    }\n",
       "\n",
       "    .dataframe thead th {\n",
       "        text-align: right;\n",
       "    }\n",
       "</style>\n",
       "<table border=\"1\" class=\"dataframe\">\n",
       "  <thead>\n",
       "    <tr style=\"text-align: right;\">\n",
       "      <th></th>\n",
       "      <th>count</th>\n",
       "      <th>mean</th>\n",
       "      <th>std</th>\n",
       "      <th>min</th>\n",
       "      <th>25%</th>\n",
       "      <th>50%</th>\n",
       "      <th>75%</th>\n",
       "      <th>max</th>\n",
       "    </tr>\n",
       "  </thead>\n",
       "  <tbody>\n",
       "    <tr>\n",
       "      <th>children</th>\n",
       "      <td>21525.0</td>\n",
       "      <td>0.54</td>\n",
       "      <td>1.38</td>\n",
       "      <td>-1.00</td>\n",
       "      <td>0.00</td>\n",
       "      <td>0.00</td>\n",
       "      <td>1.00</td>\n",
       "      <td>20.00</td>\n",
       "    </tr>\n",
       "    <tr>\n",
       "      <th>days_employed</th>\n",
       "      <td>19351.0</td>\n",
       "      <td>63046.50</td>\n",
       "      <td>140827.31</td>\n",
       "      <td>-18388.95</td>\n",
       "      <td>-2747.42</td>\n",
       "      <td>-1203.37</td>\n",
       "      <td>-291.10</td>\n",
       "      <td>401755.40</td>\n",
       "    </tr>\n",
       "    <tr>\n",
       "      <th>dob_years</th>\n",
       "      <td>21525.0</td>\n",
       "      <td>43.29</td>\n",
       "      <td>12.57</td>\n",
       "      <td>0.00</td>\n",
       "      <td>33.00</td>\n",
       "      <td>42.00</td>\n",
       "      <td>53.00</td>\n",
       "      <td>75.00</td>\n",
       "    </tr>\n",
       "    <tr>\n",
       "      <th>education_id</th>\n",
       "      <td>21525.0</td>\n",
       "      <td>0.82</td>\n",
       "      <td>0.55</td>\n",
       "      <td>0.00</td>\n",
       "      <td>1.00</td>\n",
       "      <td>1.00</td>\n",
       "      <td>1.00</td>\n",
       "      <td>4.00</td>\n",
       "    </tr>\n",
       "    <tr>\n",
       "      <th>family_status_id</th>\n",
       "      <td>21525.0</td>\n",
       "      <td>0.97</td>\n",
       "      <td>1.42</td>\n",
       "      <td>0.00</td>\n",
       "      <td>0.00</td>\n",
       "      <td>0.00</td>\n",
       "      <td>1.00</td>\n",
       "      <td>4.00</td>\n",
       "    </tr>\n",
       "    <tr>\n",
       "      <th>debt</th>\n",
       "      <td>21525.0</td>\n",
       "      <td>0.08</td>\n",
       "      <td>0.27</td>\n",
       "      <td>0.00</td>\n",
       "      <td>0.00</td>\n",
       "      <td>0.00</td>\n",
       "      <td>0.00</td>\n",
       "      <td>1.00</td>\n",
       "    </tr>\n",
       "    <tr>\n",
       "      <th>total_income</th>\n",
       "      <td>19351.0</td>\n",
       "      <td>167422.30</td>\n",
       "      <td>102971.57</td>\n",
       "      <td>20667.26</td>\n",
       "      <td>103053.15</td>\n",
       "      <td>145017.94</td>\n",
       "      <td>203435.07</td>\n",
       "      <td>2265604.03</td>\n",
       "    </tr>\n",
       "  </tbody>\n",
       "</table>\n",
       "</div>"
      ],
      "text/plain": [
       "                    count       mean        std       min        25%  \\\n",
       "children          21525.0       0.54       1.38     -1.00       0.00   \n",
       "days_employed     19351.0   63046.50  140827.31 -18388.95   -2747.42   \n",
       "dob_years         21525.0      43.29      12.57      0.00      33.00   \n",
       "education_id      21525.0       0.82       0.55      0.00       1.00   \n",
       "family_status_id  21525.0       0.97       1.42      0.00       0.00   \n",
       "debt              21525.0       0.08       0.27      0.00       0.00   \n",
       "total_income      19351.0  167422.30  102971.57  20667.26  103053.15   \n",
       "\n",
       "                        50%        75%         max  \n",
       "children               0.00       1.00       20.00  \n",
       "days_employed      -1203.37    -291.10   401755.40  \n",
       "dob_years             42.00      53.00       75.00  \n",
       "education_id           1.00       1.00        4.00  \n",
       "family_status_id       0.00       1.00        4.00  \n",
       "debt                   0.00       0.00        1.00  \n",
       "total_income      145017.94  203435.07  2265604.03  "
      ]
     },
     "execution_count": 2,
     "metadata": {},
     "output_type": "execute_result"
    }
   ],
   "source": [
    "data = pd.read_csv('~/datasets/data.csv')\n",
    "data.describe().T.round(2)"
   ]
  },
  {
   "cell_type": "markdown",
   "metadata": {},
   "source": [
    "**Вывод**\n",
    "\n",
    "В столбцах `days_employed` и `total_income` имеются пропуски, минусовые значения и аномально большие значения. Их количество слишком большое (21525 - 19351)/21525* 100 = 10% мы не можем удалить эти строки. Это может повлиять на результат."
   ]
  },
  {
   "cell_type": "markdown",
   "metadata": {},
   "source": [
    "## Шаг 2. Предобработка данных\n",
    "<a id='preprocessing'></a>"
   ]
  },
  {
   "cell_type": "markdown",
   "metadata": {},
   "source": [
    "### Обработка пропусков \n",
    "<a id='isna'></a>"
   ]
  },
  {
   "cell_type": "markdown",
   "metadata": {},
   "source": [
    "Посчитаем количество строк с пропусками в обоих столбцах и совпадают ли пропуски по обоим столбцам."
   ]
  },
  {
   "cell_type": "code",
   "execution_count": 3,
   "metadata": {},
   "outputs": [
    {
     "data": {
      "text/plain": [
       "2174"
      ]
     },
     "execution_count": 3,
     "metadata": {},
     "output_type": "execute_result"
    }
   ],
   "source": [
    "data_filtered = data[data['days_employed'].isna()& data['total_income'].isna()]\n",
    "len(data_filtered)"
   ]
  },
  {
   "cell_type": "markdown",
   "metadata": {},
   "source": [
    "Строки пропущены в одних и тех же столбцах. Посмотрим первые 10 строк, чтобы выяснить есть ли закономерность по пропускам."
   ]
  },
  {
   "cell_type": "code",
   "execution_count": 4,
   "metadata": {},
   "outputs": [
    {
     "data": {
      "text/html": [
       "<div>\n",
       "<style scoped>\n",
       "    .dataframe tbody tr th:only-of-type {\n",
       "        vertical-align: middle;\n",
       "    }\n",
       "\n",
       "    .dataframe tbody tr th {\n",
       "        vertical-align: top;\n",
       "    }\n",
       "\n",
       "    .dataframe thead th {\n",
       "        text-align: right;\n",
       "    }\n",
       "</style>\n",
       "<table border=\"1\" class=\"dataframe\">\n",
       "  <thead>\n",
       "    <tr style=\"text-align: right;\">\n",
       "      <th></th>\n",
       "      <th>children</th>\n",
       "      <th>days_employed</th>\n",
       "      <th>dob_years</th>\n",
       "      <th>education</th>\n",
       "      <th>education_id</th>\n",
       "      <th>family_status</th>\n",
       "      <th>family_status_id</th>\n",
       "      <th>gender</th>\n",
       "      <th>income_type</th>\n",
       "      <th>debt</th>\n",
       "      <th>total_income</th>\n",
       "      <th>purpose</th>\n",
       "    </tr>\n",
       "  </thead>\n",
       "  <tbody>\n",
       "    <tr>\n",
       "      <th>12</th>\n",
       "      <td>0</td>\n",
       "      <td>NaN</td>\n",
       "      <td>65</td>\n",
       "      <td>среднее</td>\n",
       "      <td>1</td>\n",
       "      <td>гражданский брак</td>\n",
       "      <td>1</td>\n",
       "      <td>M</td>\n",
       "      <td>пенсионер</td>\n",
       "      <td>0</td>\n",
       "      <td>NaN</td>\n",
       "      <td>сыграть свадьбу</td>\n",
       "    </tr>\n",
       "    <tr>\n",
       "      <th>26</th>\n",
       "      <td>0</td>\n",
       "      <td>NaN</td>\n",
       "      <td>41</td>\n",
       "      <td>среднее</td>\n",
       "      <td>1</td>\n",
       "      <td>женат / замужем</td>\n",
       "      <td>0</td>\n",
       "      <td>M</td>\n",
       "      <td>госслужащий</td>\n",
       "      <td>0</td>\n",
       "      <td>NaN</td>\n",
       "      <td>образование</td>\n",
       "    </tr>\n",
       "    <tr>\n",
       "      <th>29</th>\n",
       "      <td>0</td>\n",
       "      <td>NaN</td>\n",
       "      <td>63</td>\n",
       "      <td>среднее</td>\n",
       "      <td>1</td>\n",
       "      <td>Не женат / не замужем</td>\n",
       "      <td>4</td>\n",
       "      <td>F</td>\n",
       "      <td>пенсионер</td>\n",
       "      <td>0</td>\n",
       "      <td>NaN</td>\n",
       "      <td>строительство жилой недвижимости</td>\n",
       "    </tr>\n",
       "    <tr>\n",
       "      <th>41</th>\n",
       "      <td>0</td>\n",
       "      <td>NaN</td>\n",
       "      <td>50</td>\n",
       "      <td>среднее</td>\n",
       "      <td>1</td>\n",
       "      <td>женат / замужем</td>\n",
       "      <td>0</td>\n",
       "      <td>F</td>\n",
       "      <td>госслужащий</td>\n",
       "      <td>0</td>\n",
       "      <td>NaN</td>\n",
       "      <td>сделка с подержанным автомобилем</td>\n",
       "    </tr>\n",
       "    <tr>\n",
       "      <th>55</th>\n",
       "      <td>0</td>\n",
       "      <td>NaN</td>\n",
       "      <td>54</td>\n",
       "      <td>среднее</td>\n",
       "      <td>1</td>\n",
       "      <td>гражданский брак</td>\n",
       "      <td>1</td>\n",
       "      <td>F</td>\n",
       "      <td>пенсионер</td>\n",
       "      <td>1</td>\n",
       "      <td>NaN</td>\n",
       "      <td>сыграть свадьбу</td>\n",
       "    </tr>\n",
       "    <tr>\n",
       "      <th>65</th>\n",
       "      <td>0</td>\n",
       "      <td>NaN</td>\n",
       "      <td>21</td>\n",
       "      <td>среднее</td>\n",
       "      <td>1</td>\n",
       "      <td>Не женат / не замужем</td>\n",
       "      <td>4</td>\n",
       "      <td>M</td>\n",
       "      <td>компаньон</td>\n",
       "      <td>0</td>\n",
       "      <td>NaN</td>\n",
       "      <td>операции с коммерческой недвижимостью</td>\n",
       "    </tr>\n",
       "    <tr>\n",
       "      <th>67</th>\n",
       "      <td>0</td>\n",
       "      <td>NaN</td>\n",
       "      <td>52</td>\n",
       "      <td>высшее</td>\n",
       "      <td>0</td>\n",
       "      <td>женат / замужем</td>\n",
       "      <td>0</td>\n",
       "      <td>F</td>\n",
       "      <td>пенсионер</td>\n",
       "      <td>0</td>\n",
       "      <td>NaN</td>\n",
       "      <td>покупка жилья для семьи</td>\n",
       "    </tr>\n",
       "    <tr>\n",
       "      <th>72</th>\n",
       "      <td>1</td>\n",
       "      <td>NaN</td>\n",
       "      <td>32</td>\n",
       "      <td>высшее</td>\n",
       "      <td>0</td>\n",
       "      <td>женат / замужем</td>\n",
       "      <td>0</td>\n",
       "      <td>M</td>\n",
       "      <td>госслужащий</td>\n",
       "      <td>0</td>\n",
       "      <td>NaN</td>\n",
       "      <td>операции с коммерческой недвижимостью</td>\n",
       "    </tr>\n",
       "    <tr>\n",
       "      <th>82</th>\n",
       "      <td>2</td>\n",
       "      <td>NaN</td>\n",
       "      <td>50</td>\n",
       "      <td>высшее</td>\n",
       "      <td>0</td>\n",
       "      <td>женат / замужем</td>\n",
       "      <td>0</td>\n",
       "      <td>F</td>\n",
       "      <td>сотрудник</td>\n",
       "      <td>0</td>\n",
       "      <td>NaN</td>\n",
       "      <td>жилье</td>\n",
       "    </tr>\n",
       "    <tr>\n",
       "      <th>83</th>\n",
       "      <td>0</td>\n",
       "      <td>NaN</td>\n",
       "      <td>52</td>\n",
       "      <td>среднее</td>\n",
       "      <td>1</td>\n",
       "      <td>женат / замужем</td>\n",
       "      <td>0</td>\n",
       "      <td>M</td>\n",
       "      <td>сотрудник</td>\n",
       "      <td>0</td>\n",
       "      <td>NaN</td>\n",
       "      <td>жилье</td>\n",
       "    </tr>\n",
       "  </tbody>\n",
       "</table>\n",
       "</div>"
      ],
      "text/plain": [
       "    children  days_employed  dob_years education  education_id  \\\n",
       "12         0            NaN         65   среднее             1   \n",
       "26         0            NaN         41   среднее             1   \n",
       "29         0            NaN         63   среднее             1   \n",
       "41         0            NaN         50   среднее             1   \n",
       "55         0            NaN         54   среднее             1   \n",
       "65         0            NaN         21   среднее             1   \n",
       "67         0            NaN         52    высшее             0   \n",
       "72         1            NaN         32    высшее             0   \n",
       "82         2            NaN         50    высшее             0   \n",
       "83         0            NaN         52   среднее             1   \n",
       "\n",
       "            family_status  family_status_id gender  income_type  debt  \\\n",
       "12       гражданский брак                 1      M    пенсионер     0   \n",
       "26        женат / замужем                 0      M  госслужащий     0   \n",
       "29  Не женат / не замужем                 4      F    пенсионер     0   \n",
       "41        женат / замужем                 0      F  госслужащий     0   \n",
       "55       гражданский брак                 1      F    пенсионер     1   \n",
       "65  Не женат / не замужем                 4      M    компаньон     0   \n",
       "67        женат / замужем                 0      F    пенсионер     0   \n",
       "72        женат / замужем                 0      M  госслужащий     0   \n",
       "82        женат / замужем                 0      F    сотрудник     0   \n",
       "83        женат / замужем                 0      M    сотрудник     0   \n",
       "\n",
       "    total_income                                purpose  \n",
       "12           NaN                        сыграть свадьбу  \n",
       "26           NaN                            образование  \n",
       "29           NaN       строительство жилой недвижимости  \n",
       "41           NaN       сделка с подержанным автомобилем  \n",
       "55           NaN                        сыграть свадьбу  \n",
       "65           NaN  операции с коммерческой недвижимостью  \n",
       "67           NaN                покупка жилья для семьи  \n",
       "72           NaN  операции с коммерческой недвижимостью  \n",
       "82           NaN                                  жилье  \n",
       "83           NaN                                  жилье  "
      ]
     },
     "execution_count": 4,
     "metadata": {},
     "output_type": "execute_result"
    }
   ],
   "source": [
    "data_filtered.head(10)"
   ]
  },
  {
   "cell_type": "markdown",
   "metadata": {},
   "source": [
    "Закономерность не очевидна, возможно пропуски связаны с тем, что у клиента нет официального источника дохода? Так как восстановить по другим столбцам невозможно, а удалять нельзя, то будем заполнять медианными значениями."
   ]
  },
  {
   "cell_type": "code",
   "execution_count": 5,
   "metadata": {},
   "outputs": [],
   "source": [
    "#Теперь этот цикл не нужен, все видно через describe(), хотела удалить, но решила для наглядности закомментировать\n",
    "#columns = ['children','days_employed', 'dob_years', 'total_income' ]\n",
    "#for column in columns:\n",
    "    #print(f'{column}') \n",
    "    #print(f'min:{data[column].min()}')\n",
    "    #print(f'max:{data[column].max()}')\n",
    "    #print('------------')"
   ]
  },
  {
   "cell_type": "markdown",
   "metadata": {},
   "source": [
    "В столбце `children` и `days_employed` есть минусовые и аномально большие значения. \n",
    "\n",
    "Отрицательные и аномально большие значения стажа (`days_employed`) вероятно даны в часах, их нужно привести к положительным значениям и поделить на 24.\n"
   ]
  },
  {
   "cell_type": "code",
   "execution_count": 6,
   "metadata": {},
   "outputs": [],
   "source": [
    "data['days_employed'] = data['days_employed'].apply(abs)\n",
    "data.loc[data['days_employed'] >30000, 'days_employed'] = data.loc[data['days_employed'] >30000, 'days_employed'] / 24"
   ]
  },
  {
   "cell_type": "markdown",
   "metadata": {},
   "source": [
    "Cо столбцом `children` предположим, что -1 скорее всего \"нет детей\". Данные в проекте выгружались из нескольких систем и у одной из них, похоже, такой формат записи, соответственно заменяем на 0. В случае со значением 20 - скорее всего, опечатка - на клавиатуре 2 и 0 очень близко, заменяем 20 на 2."
   ]
  },
  {
   "cell_type": "code",
   "execution_count": 7,
   "metadata": {},
   "outputs": [],
   "source": [
    "data.loc[data['children'] == -1,'children'] = 0\n",
    "data.loc[data['children'] == 20,'children'] = 2"
   ]
  },
  {
   "cell_type": "markdown",
   "metadata": {},
   "source": [
    "С столбце `dob_years` есть 0, в наших расчетах этот столбец ни на что не влияет, но все же, будем считать, что это пропуски и заменим их на медианные значения. Снова проверим"
   ]
  },
  {
   "cell_type": "code",
   "execution_count": 8,
   "metadata": {},
   "outputs": [
    {
     "data": {
      "text/html": [
       "<div>\n",
       "<style scoped>\n",
       "    .dataframe tbody tr th:only-of-type {\n",
       "        vertical-align: middle;\n",
       "    }\n",
       "\n",
       "    .dataframe tbody tr th {\n",
       "        vertical-align: top;\n",
       "    }\n",
       "\n",
       "    .dataframe thead th {\n",
       "        text-align: right;\n",
       "    }\n",
       "</style>\n",
       "<table border=\"1\" class=\"dataframe\">\n",
       "  <thead>\n",
       "    <tr style=\"text-align: right;\">\n",
       "      <th></th>\n",
       "      <th>count</th>\n",
       "      <th>mean</th>\n",
       "      <th>std</th>\n",
       "      <th>min</th>\n",
       "      <th>25%</th>\n",
       "      <th>50%</th>\n",
       "      <th>75%</th>\n",
       "      <th>max</th>\n",
       "    </tr>\n",
       "  </thead>\n",
       "  <tbody>\n",
       "    <tr>\n",
       "      <th>children</th>\n",
       "      <td>21525.0</td>\n",
       "      <td>0.48</td>\n",
       "      <td>0.76</td>\n",
       "      <td>0.00</td>\n",
       "      <td>0.00</td>\n",
       "      <td>0.00</td>\n",
       "      <td>1.00</td>\n",
       "      <td>5.00</td>\n",
       "    </tr>\n",
       "    <tr>\n",
       "      <th>days_employed</th>\n",
       "      <td>19351.0</td>\n",
       "      <td>4641.64</td>\n",
       "      <td>5355.96</td>\n",
       "      <td>24.14</td>\n",
       "      <td>927.01</td>\n",
       "      <td>2194.22</td>\n",
       "      <td>5537.88</td>\n",
       "      <td>18388.95</td>\n",
       "    </tr>\n",
       "    <tr>\n",
       "      <th>dob_years</th>\n",
       "      <td>21525.0</td>\n",
       "      <td>43.49</td>\n",
       "      <td>12.22</td>\n",
       "      <td>19.00</td>\n",
       "      <td>34.00</td>\n",
       "      <td>42.00</td>\n",
       "      <td>53.00</td>\n",
       "      <td>75.00</td>\n",
       "    </tr>\n",
       "    <tr>\n",
       "      <th>education_id</th>\n",
       "      <td>21525.0</td>\n",
       "      <td>0.82</td>\n",
       "      <td>0.55</td>\n",
       "      <td>0.00</td>\n",
       "      <td>1.00</td>\n",
       "      <td>1.00</td>\n",
       "      <td>1.00</td>\n",
       "      <td>4.00</td>\n",
       "    </tr>\n",
       "    <tr>\n",
       "      <th>family_status_id</th>\n",
       "      <td>21525.0</td>\n",
       "      <td>0.97</td>\n",
       "      <td>1.42</td>\n",
       "      <td>0.00</td>\n",
       "      <td>0.00</td>\n",
       "      <td>0.00</td>\n",
       "      <td>1.00</td>\n",
       "      <td>4.00</td>\n",
       "    </tr>\n",
       "    <tr>\n",
       "      <th>debt</th>\n",
       "      <td>21525.0</td>\n",
       "      <td>0.08</td>\n",
       "      <td>0.27</td>\n",
       "      <td>0.00</td>\n",
       "      <td>0.00</td>\n",
       "      <td>0.00</td>\n",
       "      <td>0.00</td>\n",
       "      <td>1.00</td>\n",
       "    </tr>\n",
       "    <tr>\n",
       "      <th>total_income</th>\n",
       "      <td>19351.0</td>\n",
       "      <td>167422.30</td>\n",
       "      <td>102971.57</td>\n",
       "      <td>20667.26</td>\n",
       "      <td>103053.15</td>\n",
       "      <td>145017.94</td>\n",
       "      <td>203435.07</td>\n",
       "      <td>2265604.03</td>\n",
       "    </tr>\n",
       "  </tbody>\n",
       "</table>\n",
       "</div>"
      ],
      "text/plain": [
       "                    count       mean        std       min        25%  \\\n",
       "children          21525.0       0.48       0.76      0.00       0.00   \n",
       "days_employed     19351.0    4641.64    5355.96     24.14     927.01   \n",
       "dob_years         21525.0      43.49      12.22     19.00      34.00   \n",
       "education_id      21525.0       0.82       0.55      0.00       1.00   \n",
       "family_status_id  21525.0       0.97       1.42      0.00       0.00   \n",
       "debt              21525.0       0.08       0.27      0.00       0.00   \n",
       "total_income      19351.0  167422.30  102971.57  20667.26  103053.15   \n",
       "\n",
       "                        50%        75%         max  \n",
       "children               0.00       1.00        5.00  \n",
       "days_employed       2194.22    5537.88    18388.95  \n",
       "dob_years             42.00      53.00       75.00  \n",
       "education_id           1.00       1.00        4.00  \n",
       "family_status_id       0.00       1.00        4.00  \n",
       "debt                   0.00       0.00        1.00  \n",
       "total_income      145017.94  203435.07  2265604.03  "
      ]
     },
     "execution_count": 8,
     "metadata": {},
     "output_type": "execute_result"
    }
   ],
   "source": [
    "data.loc[data['dob_years'] == 0,'dob_years'] = data['dob_years'].median()\n",
    "data.describe().T.round(2)"
   ]
  },
  {
   "cell_type": "markdown",
   "metadata": {},
   "source": [
    "Теперь мы можем заполнить пропуски в столбце `days_employed` медианными значениями по критерию `children` — так как количество детей является одним из критериев исследования."
   ]
  },
  {
   "cell_type": "code",
   "execution_count": 9,
   "metadata": {},
   "outputs": [
    {
     "data": {
      "text/plain": [
       "0"
      ]
     },
     "execution_count": 9,
     "metadata": {},
     "output_type": "execute_result"
    }
   ],
   "source": [
    "for children in data['children'].unique():\n",
    "    median = data.loc[data['children'] == children, 'days_employed'].median()\n",
    "    data.loc[(data['days_employed'].isna()) & (data['children'] == children), 'days_employed']= median\n",
    "\n",
    "len(data[data['days_employed'].isna()])  "
   ]
  },
  {
   "cell_type": "markdown",
   "metadata": {},
   "source": [
    "Сделаем тоже самое для столбца `total_income`"
   ]
  },
  {
   "cell_type": "code",
   "execution_count": 10,
   "metadata": {},
   "outputs": [
    {
     "data": {
      "text/plain": [
       "0"
      ]
     },
     "execution_count": 10,
     "metadata": {},
     "output_type": "execute_result"
    }
   ],
   "source": [
    "for children in data['children'].unique():\n",
    "    median = data.loc[data['children'] == children, 'total_income'].median()\n",
    "    data.loc[(data['total_income'].isna()) & (data['children'] == children), 'total_income']= median\n",
    "\n",
    "len(data[data['total_income'].isna()])"
   ]
  },
  {
   "cell_type": "markdown",
   "metadata": {},
   "source": [
    "Проверим на корректность столбцы с категориальными данными, для этого выведем уникальные значения."
   ]
  },
  {
   "cell_type": "code",
   "execution_count": 11,
   "metadata": {},
   "outputs": [
    {
     "name": "stdout",
     "output_type": "stream",
     "text": [
      "education:\n",
      "['высшее' 'среднее' 'Среднее' 'СРЕДНЕЕ' 'ВЫСШЕЕ' 'неоконченное высшее'\n",
      " 'начальное' 'Высшее' 'НЕОКОНЧЕННОЕ ВЫСШЕЕ' 'Неоконченное высшее'\n",
      " 'НАЧАЛЬНОЕ' 'Начальное' 'Ученая степень' 'УЧЕНАЯ СТЕПЕНЬ'\n",
      " 'ученая степень']\n",
      "------------\n",
      "education_id:\n",
      "[0 1 2 3 4]\n",
      "------------\n",
      "family_status:\n",
      "['женат / замужем' 'гражданский брак' 'вдовец / вдова' 'в разводе'\n",
      " 'Не женат / не замужем']\n",
      "------------\n",
      "family_status_id:\n",
      "[0 1 2 3 4]\n",
      "------------\n",
      "gender:\n",
      "['F' 'M' 'XNA']\n",
      "------------\n",
      "income_type:\n",
      "['сотрудник' 'пенсионер' 'компаньон' 'госслужащий' 'безработный'\n",
      " 'предприниматель' 'студент' 'в декрете']\n",
      "------------\n",
      "debt:\n",
      "[0 1]\n",
      "------------\n"
     ]
    }
   ],
   "source": [
    "columns = ['education','education_id','family_status','family_status_id','gender','income_type','debt']\n",
    "\n",
    "for column in columns:\n",
    "    print(f'{column}:') \n",
    "    print(data[column].unique())\n",
    "    print(\"------------\")"
   ]
  },
  {
   "cell_type": "markdown",
   "metadata": {},
   "source": [
    "В столбцах `education` и `family_status` есть одинаковые названия в разных регистрах.Приведем их к нижнему регистру. Проверим, что значения в столбцах `education_id` и `family_status_id` соответствуют значениям `education` и `family_status` \n",
    "\n",
    "<a id='agg'></a>"
   ]
  },
  {
   "cell_type": "code",
   "execution_count": 12,
   "metadata": {},
   "outputs": [
    {
     "data": {
      "text/html": [
       "<div>\n",
       "<style scoped>\n",
       "    .dataframe tbody tr th:only-of-type {\n",
       "        vertical-align: middle;\n",
       "    }\n",
       "\n",
       "    .dataframe tbody tr th {\n",
       "        vertical-align: top;\n",
       "    }\n",
       "\n",
       "    .dataframe thead th {\n",
       "        text-align: right;\n",
       "    }\n",
       "</style>\n",
       "<table border=\"1\" class=\"dataframe\">\n",
       "  <thead>\n",
       "    <tr style=\"text-align: right;\">\n",
       "      <th></th>\n",
       "      <th></th>\n",
       "      <th>education_id</th>\n",
       "    </tr>\n",
       "    <tr>\n",
       "      <th>education</th>\n",
       "      <th>education_id</th>\n",
       "      <th></th>\n",
       "    </tr>\n",
       "  </thead>\n",
       "  <tbody>\n",
       "    <tr>\n",
       "      <th>высшее</th>\n",
       "      <th>0</th>\n",
       "      <td>5260</td>\n",
       "    </tr>\n",
       "    <tr>\n",
       "      <th>начальное</th>\n",
       "      <th>3</th>\n",
       "      <td>282</td>\n",
       "    </tr>\n",
       "    <tr>\n",
       "      <th>неоконченное высшее</th>\n",
       "      <th>2</th>\n",
       "      <td>744</td>\n",
       "    </tr>\n",
       "    <tr>\n",
       "      <th>среднее</th>\n",
       "      <th>1</th>\n",
       "      <td>15233</td>\n",
       "    </tr>\n",
       "    <tr>\n",
       "      <th>ученая степень</th>\n",
       "      <th>4</th>\n",
       "      <td>6</td>\n",
       "    </tr>\n",
       "  </tbody>\n",
       "</table>\n",
       "</div>"
      ],
      "text/plain": [
       "                                  education_id\n",
       "education           education_id              \n",
       "высшее              0                     5260\n",
       "начальное           3                      282\n",
       "неоконченное высшее 2                      744\n",
       "среднее             1                    15233\n",
       "ученая степень      4                        6"
      ]
     },
     "execution_count": 12,
     "metadata": {},
     "output_type": "execute_result"
    }
   ],
   "source": [
    "data['education'] = data['education'].str.lower()\n",
    "\n",
    "data_grouped_education = data.groupby(['education','education_id']).agg({'education_id':'count'})\n",
    "data_grouped_education"
   ]
  },
  {
   "cell_type": "code",
   "execution_count": 13,
   "metadata": {},
   "outputs": [
    {
     "data": {
      "text/html": [
       "<div>\n",
       "<style scoped>\n",
       "    .dataframe tbody tr th:only-of-type {\n",
       "        vertical-align: middle;\n",
       "    }\n",
       "\n",
       "    .dataframe tbody tr th {\n",
       "        vertical-align: top;\n",
       "    }\n",
       "\n",
       "    .dataframe thead th {\n",
       "        text-align: right;\n",
       "    }\n",
       "</style>\n",
       "<table border=\"1\" class=\"dataframe\">\n",
       "  <thead>\n",
       "    <tr style=\"text-align: right;\">\n",
       "      <th></th>\n",
       "      <th></th>\n",
       "      <th>family_status</th>\n",
       "    </tr>\n",
       "    <tr>\n",
       "      <th>family_status</th>\n",
       "      <th>family_status_id</th>\n",
       "      <th></th>\n",
       "    </tr>\n",
       "  </thead>\n",
       "  <tbody>\n",
       "    <tr>\n",
       "      <th>в разводе</th>\n",
       "      <th>3</th>\n",
       "      <td>1195</td>\n",
       "    </tr>\n",
       "    <tr>\n",
       "      <th>вдовец / вдова</th>\n",
       "      <th>2</th>\n",
       "      <td>960</td>\n",
       "    </tr>\n",
       "    <tr>\n",
       "      <th>гражданский брак</th>\n",
       "      <th>1</th>\n",
       "      <td>4177</td>\n",
       "    </tr>\n",
       "    <tr>\n",
       "      <th>женат / замужем</th>\n",
       "      <th>0</th>\n",
       "      <td>12380</td>\n",
       "    </tr>\n",
       "    <tr>\n",
       "      <th>не женат / не замужем</th>\n",
       "      <th>4</th>\n",
       "      <td>2813</td>\n",
       "    </tr>\n",
       "  </tbody>\n",
       "</table>\n",
       "</div>"
      ],
      "text/plain": [
       "                                        family_status\n",
       "family_status         family_status_id               \n",
       "в разводе             3                          1195\n",
       "вдовец / вдова        2                           960\n",
       "гражданский брак      1                          4177\n",
       "женат / замужем       0                         12380\n",
       "не женат / не замужем 4                          2813"
      ]
     },
     "execution_count": 13,
     "metadata": {},
     "output_type": "execute_result"
    }
   ],
   "source": [
    "data['family_status'] = data['family_status'].str.lower()\n",
    "\n",
    "data_grouped_family = data.groupby(['family_status','family_status_id']).agg({'family_status':'count'})\n",
    "data_grouped_family"
   ]
  },
  {
   "cell_type": "markdown",
   "metadata": {},
   "source": [
    "Столбцы `education_id` и `family_status_id` не используются дальше, есть смысл их удалить, так как информация дублируется."
   ]
  },
  {
   "cell_type": "code",
   "execution_count": 14,
   "metadata": {},
   "outputs": [
    {
     "data": {
      "text/html": [
       "<div>\n",
       "<style scoped>\n",
       "    .dataframe tbody tr th:only-of-type {\n",
       "        vertical-align: middle;\n",
       "    }\n",
       "\n",
       "    .dataframe tbody tr th {\n",
       "        vertical-align: top;\n",
       "    }\n",
       "\n",
       "    .dataframe thead th {\n",
       "        text-align: right;\n",
       "    }\n",
       "</style>\n",
       "<table border=\"1\" class=\"dataframe\">\n",
       "  <thead>\n",
       "    <tr style=\"text-align: right;\">\n",
       "      <th></th>\n",
       "      <th>children</th>\n",
       "      <th>days_employed</th>\n",
       "      <th>dob_years</th>\n",
       "      <th>education</th>\n",
       "      <th>family_status</th>\n",
       "      <th>gender</th>\n",
       "      <th>income_type</th>\n",
       "      <th>debt</th>\n",
       "      <th>total_income</th>\n",
       "      <th>purpose</th>\n",
       "    </tr>\n",
       "  </thead>\n",
       "  <tbody>\n",
       "    <tr>\n",
       "      <th>0</th>\n",
       "      <td>1</td>\n",
       "      <td>8437.673028</td>\n",
       "      <td>42</td>\n",
       "      <td>высшее</td>\n",
       "      <td>женат / замужем</td>\n",
       "      <td>F</td>\n",
       "      <td>сотрудник</td>\n",
       "      <td>0</td>\n",
       "      <td>253875.639453</td>\n",
       "      <td>покупка жилья</td>\n",
       "    </tr>\n",
       "    <tr>\n",
       "      <th>1</th>\n",
       "      <td>1</td>\n",
       "      <td>4024.803754</td>\n",
       "      <td>36</td>\n",
       "      <td>среднее</td>\n",
       "      <td>женат / замужем</td>\n",
       "      <td>F</td>\n",
       "      <td>сотрудник</td>\n",
       "      <td>0</td>\n",
       "      <td>112080.014102</td>\n",
       "      <td>приобретение автомобиля</td>\n",
       "    </tr>\n",
       "    <tr>\n",
       "      <th>2</th>\n",
       "      <td>0</td>\n",
       "      <td>5623.422610</td>\n",
       "      <td>33</td>\n",
       "      <td>среднее</td>\n",
       "      <td>женат / замужем</td>\n",
       "      <td>M</td>\n",
       "      <td>сотрудник</td>\n",
       "      <td>0</td>\n",
       "      <td>145885.952297</td>\n",
       "      <td>покупка жилья</td>\n",
       "    </tr>\n",
       "    <tr>\n",
       "      <th>3</th>\n",
       "      <td>3</td>\n",
       "      <td>4124.747207</td>\n",
       "      <td>32</td>\n",
       "      <td>среднее</td>\n",
       "      <td>женат / замужем</td>\n",
       "      <td>M</td>\n",
       "      <td>сотрудник</td>\n",
       "      <td>0</td>\n",
       "      <td>267628.550329</td>\n",
       "      <td>дополнительное образование</td>\n",
       "    </tr>\n",
       "    <tr>\n",
       "      <th>4</th>\n",
       "      <td>0</td>\n",
       "      <td>14177.753002</td>\n",
       "      <td>53</td>\n",
       "      <td>среднее</td>\n",
       "      <td>гражданский брак</td>\n",
       "      <td>F</td>\n",
       "      <td>пенсионер</td>\n",
       "      <td>0</td>\n",
       "      <td>158616.077870</td>\n",
       "      <td>сыграть свадьбу</td>\n",
       "    </tr>\n",
       "  </tbody>\n",
       "</table>\n",
       "</div>"
      ],
      "text/plain": [
       "   children  days_employed  dob_years education     family_status gender  \\\n",
       "0         1    8437.673028         42    высшее   женат / замужем      F   \n",
       "1         1    4024.803754         36   среднее   женат / замужем      F   \n",
       "2         0    5623.422610         33   среднее   женат / замужем      M   \n",
       "3         3    4124.747207         32   среднее   женат / замужем      M   \n",
       "4         0   14177.753002         53   среднее  гражданский брак      F   \n",
       "\n",
       "  income_type  debt   total_income                     purpose  \n",
       "0   сотрудник     0  253875.639453               покупка жилья  \n",
       "1   сотрудник     0  112080.014102     приобретение автомобиля  \n",
       "2   сотрудник     0  145885.952297               покупка жилья  \n",
       "3   сотрудник     0  267628.550329  дополнительное образование  \n",
       "4   пенсионер     0  158616.077870             сыграть свадьбу  "
      ]
     },
     "execution_count": 14,
     "metadata": {},
     "output_type": "execute_result"
    }
   ],
   "source": [
    "data = data.drop(columns = ['education_id', 'family_status_id'])\n",
    "data.head()"
   ]
  },
  {
   "cell_type": "code",
   "execution_count": 15,
   "metadata": {},
   "outputs": [
    {
     "name": "stdout",
     "output_type": "stream",
     "text": [
      "<class 'pandas.core.frame.DataFrame'>\n",
      "RangeIndex: 21525 entries, 0 to 21524\n",
      "Data columns (total 10 columns):\n",
      " #   Column         Non-Null Count  Dtype  \n",
      "---  ------         --------------  -----  \n",
      " 0   children       21525 non-null  int64  \n",
      " 1   days_employed  21525 non-null  float64\n",
      " 2   dob_years      21525 non-null  int64  \n",
      " 3   education      21525 non-null  object \n",
      " 4   family_status  21525 non-null  object \n",
      " 5   gender         21525 non-null  object \n",
      " 6   income_type    21525 non-null  object \n",
      " 7   debt           21525 non-null  int64  \n",
      " 8   total_income   21525 non-null  float64\n",
      " 9   purpose        21525 non-null  object \n",
      "dtypes: float64(2), int64(3), object(5)\n",
      "memory usage: 1.6+ MB\n"
     ]
    }
   ],
   "source": [
    "data.info()"
   ]
  },
  {
   "cell_type": "markdown",
   "metadata": {},
   "source": [
    "### Замена типа данных \n",
    "<a id='astype'></a>"
   ]
  },
  {
   "cell_type": "markdown",
   "metadata": {},
   "source": [
    "Данные занимают 1.6 MB, оптимизируем типы данных для разных столбцов."
   ]
  },
  {
   "cell_type": "code",
   "execution_count": 16,
   "metadata": {},
   "outputs": [
    {
     "name": "stdout",
     "output_type": "stream",
     "text": [
      "<class 'pandas.core.frame.DataFrame'>\n",
      "RangeIndex: 21525 entries, 0 to 21524\n",
      "Data columns (total 10 columns):\n",
      " #   Column         Non-Null Count  Dtype   \n",
      "---  ------         --------------  -----   \n",
      " 0   children       21525 non-null  int8    \n",
      " 1   days_employed  21525 non-null  int16   \n",
      " 2   dob_years      21525 non-null  int8    \n",
      " 3   education      21525 non-null  category\n",
      " 4   family_status  21525 non-null  category\n",
      " 5   gender         21525 non-null  category\n",
      " 6   income_type    21525 non-null  category\n",
      " 7   debt           21525 non-null  int8    \n",
      " 8   total_income   21525 non-null  int32   \n",
      " 9   purpose        21525 non-null  object  \n",
      "dtypes: category(4), int16(1), int32(1), int8(3), object(1)\n",
      "memory usage: 442.5+ KB\n"
     ]
    }
   ],
   "source": [
    "columns = ['education', 'family_status', 'gender', 'income_type']\n",
    "for column in columns:\n",
    "    try:\n",
    "        data[column] = data[column].astype('category')\n",
    "    except:\n",
    "        print(f'Не получается преобразовать {column} в категорию!')\n",
    "\n",
    "columns = ['children','dob_years', 'debt']\n",
    "for column in columns:\n",
    "    try:\n",
    "        data[column] = data[column].astype('int8')\n",
    "    except:\n",
    "        print(f'Не получается преобразовать {column} в int8!')\n",
    "try:\n",
    "    data['days_employed'] = data['days_employed'].astype('int16')\n",
    "    data['total_income'] = data['total_income'].astype('int32')\n",
    "except:\n",
    "    print('Не получается преобразовать!')\n",
    "    \n",
    "data.info()"
   ]
  },
  {
   "cell_type": "markdown",
   "metadata": {},
   "source": [
    "**Вывод**\n"
   ]
  },
  {
   "cell_type": "markdown",
   "metadata": {},
   "source": [
    "Использовался метод `astype()`, так как эти столбцы предполагают целые числа, а также применен метод `try/except` для выявления потенциальных ошибок."
   ]
  },
  {
   "cell_type": "markdown",
   "metadata": {},
   "source": [
    "### Обработка дубликатов  \n",
    "<a id='duplicates'></a>"
   ]
  },
  {
   "cell_type": "markdown",
   "metadata": {},
   "source": [
    "Посчитаем количество дубликатов, удалим явные дубликаты и проверим, что их нет"
   ]
  },
  {
   "cell_type": "code",
   "execution_count": 17,
   "metadata": {},
   "outputs": [
    {
     "name": "stdout",
     "output_type": "stream",
     "text": [
      "Количество дубликатов до: 72\n",
      "Количество дубликатов после: 0\n"
     ]
    }
   ],
   "source": [
    "print(f'Количество дубликатов до: {data.duplicated().sum()}')\n",
    "data = data.drop_duplicates().reset_index(drop=True)\n",
    "print(f'Количество дубликатов после: {data.duplicated().sum()}')"
   ]
  },
  {
   "cell_type": "markdown",
   "metadata": {},
   "source": [
    "**Вывод**"
   ]
  },
  {
   "cell_type": "markdown",
   "metadata": {},
   "source": [
    "Для удаления дубликатов использовали метод `drop_duplicates()`, так как в данных нет уникальных id, поэтому мы можем удалить только явные дубликаты. \n",
    "\n",
    "Возможные причины: дубликаты могли появиться при объединении данных из нескольких баз."
   ]
  },
  {
   "cell_type": "markdown",
   "metadata": {},
   "source": [
    "### Лемматизация \n",
    "<a id='lemma'></a>"
   ]
  },
  {
   "cell_type": "markdown",
   "metadata": {},
   "source": [
    "Лемматизируем столбец `purpose`:"
   ]
  },
  {
   "cell_type": "code",
   "execution_count": 18,
   "metadata": {},
   "outputs": [
    {
     "data": {
      "text/plain": [
       "[(' ', 96),\n",
       " ('покупка', 10),\n",
       " ('недвижимость', 10),\n",
       " ('автомобиль', 9),\n",
       " ('образование', 9),\n",
       " ('жилье', 7),\n",
       " ('с', 5),\n",
       " ('операция', 4),\n",
       " ('на', 4),\n",
       " ('свой', 4),\n",
       " ('свадьба', 3),\n",
       " ('строительство', 3),\n",
       " ('получение', 3),\n",
       " ('высокий', 3),\n",
       " ('дополнительный', 2),\n",
       " ('для', 2),\n",
       " ('коммерческий', 2),\n",
       " ('жилой', 2),\n",
       " ('подержать', 2),\n",
       " ('заниматься', 2),\n",
       " ('сделка', 2),\n",
       " ('приобретение', 1),\n",
       " ('сыграть', 1),\n",
       " ('проведение', 1),\n",
       " ('семья', 1),\n",
       " ('собственный', 1),\n",
       " ('со', 1),\n",
       " ('профильный', 1),\n",
       " ('сдача', 1),\n",
       " ('ремонт', 1),\n",
       " ('\\n', 1)]"
      ]
     },
     "execution_count": 18,
     "metadata": {},
     "output_type": "execute_result"
    }
   ],
   "source": [
    "m = Mystem()\n",
    "text = ' '.join(data['purpose'].unique())\n",
    "lemmas = m.lemmatize(text)\n",
    "Counter(lemmas).most_common()"
   ]
  },
  {
   "cell_type": "markdown",
   "metadata": {},
   "source": [
    "**Вывод**"
   ]
  },
  {
   "cell_type": "markdown",
   "metadata": {},
   "source": [
    "При лемматизации списка выявлены самые частые существительные - это будут основные категории:\n",
    "\n",
    "- недвижимость\n",
    "\n",
    "- автомобиль\n",
    "\n",
    "- образование\n",
    "\n",
    "- свадьба"
   ]
  },
  {
   "cell_type": "markdown",
   "metadata": {},
   "source": [
    "### Категоризация данных\n",
    "<a id='category'></a>"
   ]
  },
  {
   "cell_type": "markdown",
   "metadata": {},
   "source": [
    "Наишем функцию для `apply`, которая будет лематизировать последовательно каждую ячейку столбца `purpose` и проверять, какая из категорий обнаруживается в лемматизированном варианте. Посмотрим первые 5 строк."
   ]
  },
  {
   "cell_type": "code",
   "execution_count": 19,
   "metadata": {},
   "outputs": [
    {
     "data": {
      "text/html": [
       "<div>\n",
       "<style scoped>\n",
       "    .dataframe tbody tr th:only-of-type {\n",
       "        vertical-align: middle;\n",
       "    }\n",
       "\n",
       "    .dataframe tbody tr th {\n",
       "        vertical-align: top;\n",
       "    }\n",
       "\n",
       "    .dataframe thead th {\n",
       "        text-align: right;\n",
       "    }\n",
       "</style>\n",
       "<table border=\"1\" class=\"dataframe\">\n",
       "  <thead>\n",
       "    <tr style=\"text-align: right;\">\n",
       "      <th></th>\n",
       "      <th>children</th>\n",
       "      <th>days_employed</th>\n",
       "      <th>dob_years</th>\n",
       "      <th>education</th>\n",
       "      <th>family_status</th>\n",
       "      <th>gender</th>\n",
       "      <th>income_type</th>\n",
       "      <th>debt</th>\n",
       "      <th>total_income</th>\n",
       "      <th>purpose</th>\n",
       "      <th>purposes_category</th>\n",
       "    </tr>\n",
       "  </thead>\n",
       "  <tbody>\n",
       "    <tr>\n",
       "      <th>0</th>\n",
       "      <td>1</td>\n",
       "      <td>8437</td>\n",
       "      <td>42</td>\n",
       "      <td>высшее</td>\n",
       "      <td>женат / замужем</td>\n",
       "      <td>F</td>\n",
       "      <td>сотрудник</td>\n",
       "      <td>0</td>\n",
       "      <td>253875</td>\n",
       "      <td>покупка жилья</td>\n",
       "      <td>недвижимость</td>\n",
       "    </tr>\n",
       "    <tr>\n",
       "      <th>1</th>\n",
       "      <td>1</td>\n",
       "      <td>4024</td>\n",
       "      <td>36</td>\n",
       "      <td>среднее</td>\n",
       "      <td>женат / замужем</td>\n",
       "      <td>F</td>\n",
       "      <td>сотрудник</td>\n",
       "      <td>0</td>\n",
       "      <td>112080</td>\n",
       "      <td>приобретение автомобиля</td>\n",
       "      <td>автомобиль</td>\n",
       "    </tr>\n",
       "    <tr>\n",
       "      <th>2</th>\n",
       "      <td>0</td>\n",
       "      <td>5623</td>\n",
       "      <td>33</td>\n",
       "      <td>среднее</td>\n",
       "      <td>женат / замужем</td>\n",
       "      <td>M</td>\n",
       "      <td>сотрудник</td>\n",
       "      <td>0</td>\n",
       "      <td>145885</td>\n",
       "      <td>покупка жилья</td>\n",
       "      <td>недвижимость</td>\n",
       "    </tr>\n",
       "    <tr>\n",
       "      <th>3</th>\n",
       "      <td>3</td>\n",
       "      <td>4124</td>\n",
       "      <td>32</td>\n",
       "      <td>среднее</td>\n",
       "      <td>женат / замужем</td>\n",
       "      <td>M</td>\n",
       "      <td>сотрудник</td>\n",
       "      <td>0</td>\n",
       "      <td>267628</td>\n",
       "      <td>дополнительное образование</td>\n",
       "      <td>образование</td>\n",
       "    </tr>\n",
       "    <tr>\n",
       "      <th>4</th>\n",
       "      <td>0</td>\n",
       "      <td>14177</td>\n",
       "      <td>53</td>\n",
       "      <td>среднее</td>\n",
       "      <td>гражданский брак</td>\n",
       "      <td>F</td>\n",
       "      <td>пенсионер</td>\n",
       "      <td>0</td>\n",
       "      <td>158616</td>\n",
       "      <td>сыграть свадьбу</td>\n",
       "      <td>свадьба</td>\n",
       "    </tr>\n",
       "  </tbody>\n",
       "</table>\n",
       "</div>"
      ],
      "text/plain": [
       "   children  days_employed  dob_years education     family_status gender  \\\n",
       "0         1           8437         42    высшее   женат / замужем      F   \n",
       "1         1           4024         36   среднее   женат / замужем      F   \n",
       "2         0           5623         33   среднее   женат / замужем      M   \n",
       "3         3           4124         32   среднее   женат / замужем      M   \n",
       "4         0          14177         53   среднее  гражданский брак      F   \n",
       "\n",
       "  income_type  debt  total_income                     purpose  \\\n",
       "0   сотрудник     0        253875               покупка жилья   \n",
       "1   сотрудник     0        112080     приобретение автомобиля   \n",
       "2   сотрудник     0        145885               покупка жилья   \n",
       "3   сотрудник     0        267628  дополнительное образование   \n",
       "4   пенсионер     0        158616             сыграть свадьбу   \n",
       "\n",
       "  purposes_category  \n",
       "0      недвижимость  \n",
       "1        автомобиль  \n",
       "2      недвижимость  \n",
       "3       образование  \n",
       "4           свадьба  "
      ]
     },
     "execution_count": 19,
     "metadata": {},
     "output_type": "execute_result"
    }
   ],
   "source": [
    "def categorize(row):\n",
    "    purpose = row['purpose']\n",
    "    lemmas_purpose = m.lemmatize(purpose)\n",
    "    if ('недвижимость' in lemmas_purpose or 'жилье' in lemmas_purpose or 'строительство'in lemmas_purpose):\n",
    "        return 'недвижимость'\n",
    "    elif ('автомобиль' in lemmas_purpose):\n",
    "        return 'автомобиль'\n",
    "    elif ('образование' in lemmas_purpose):\n",
    "        return 'образование'\n",
    "    elif ('свадьба' in lemmas_purpose):\n",
    "        return 'свадьба'\n",
    "    else:\n",
    "        return 'другое'\n",
    "data['purposes_category'] = data.apply(categorize, axis=1)\n",
    "data['purposes_category'] = data['purposes_category'].astype('category')\n",
    "data.head()   "
   ]
  },
  {
   "cell_type": "markdown",
   "metadata": {},
   "source": [
    "**Вывод**"
   ]
  },
  {
   "cell_type": "markdown",
   "metadata": {},
   "source": [
    "Добавили столбец `purposes_category`, в котором цели объединены в категории."
   ]
  },
  {
   "cell_type": "markdown",
   "metadata": {},
   "source": [
    "## Шаг 3. Ответьте на вопросы\n",
    "<a id='research'></a>"
   ]
  },
  {
   "cell_type": "markdown",
   "metadata": {},
   "source": [
    "- Есть ли зависимость между наличием детей и возвратом кредита в срок?\n",
    "<a id='children'></a>"
   ]
  },
  {
   "cell_type": "code",
   "execution_count": 20,
   "metadata": {},
   "outputs": [
    {
     "data": {
      "text/html": [
       "<div>\n",
       "<style scoped>\n",
       "    .dataframe tbody tr th:only-of-type {\n",
       "        vertical-align: middle;\n",
       "    }\n",
       "\n",
       "    .dataframe tbody tr th {\n",
       "        vertical-align: top;\n",
       "    }\n",
       "\n",
       "    .dataframe thead th {\n",
       "        text-align: right;\n",
       "    }\n",
       "</style>\n",
       "<table border=\"1\" class=\"dataframe\">\n",
       "  <thead>\n",
       "    <tr style=\"text-align: right;\">\n",
       "      <th></th>\n",
       "      <th>debt</th>\n",
       "      <th>total</th>\n",
       "      <th>%</th>\n",
       "    </tr>\n",
       "    <tr>\n",
       "      <th>children</th>\n",
       "      <th></th>\n",
       "      <th></th>\n",
       "      <th></th>\n",
       "    </tr>\n",
       "  </thead>\n",
       "  <tbody>\n",
       "    <tr>\n",
       "      <th>2</th>\n",
       "      <td>202.0</td>\n",
       "      <td>2128</td>\n",
       "      <td>9.49</td>\n",
       "    </tr>\n",
       "    <tr>\n",
       "      <th>1</th>\n",
       "      <td>444.0</td>\n",
       "      <td>4808</td>\n",
       "      <td>9.23</td>\n",
       "    </tr>\n",
       "    <tr>\n",
       "      <th>&gt; 2</th>\n",
       "      <td>31.0</td>\n",
       "      <td>380</td>\n",
       "      <td>8.16</td>\n",
       "    </tr>\n",
       "    <tr>\n",
       "      <th>0</th>\n",
       "      <td>1064.0</td>\n",
       "      <td>14137</td>\n",
       "      <td>7.53</td>\n",
       "    </tr>\n",
       "  </tbody>\n",
       "</table>\n",
       "</div>"
      ],
      "text/plain": [
       "            debt  total     %\n",
       "children                     \n",
       "2          202.0   2128  9.49\n",
       "1          444.0   4808  9.23\n",
       "> 2         31.0    380  8.16\n",
       "0         1064.0  14137  7.53"
      ]
     },
     "execution_count": 20,
     "metadata": {},
     "output_type": "execute_result"
    }
   ],
   "source": [
    "def children_category(row):\n",
    "    if row['children'] == 0:\n",
    "        return '0'\n",
    "    elif row['children'] == 1:\n",
    "        return '1'\n",
    "    elif row['children'] == 2:\n",
    "        return '2'\n",
    "    else:\n",
    "        return '> 2'\n",
    "data['children'] = data.apply(children_category, axis =1)\n",
    "\n",
    "report_children = data.pivot_table(index = ['children'], values = 'debt', aggfunc = ['sum', 'count','mean'])\n",
    "report_children.columns = ['debt', 'total', '%']\n",
    "report_children = report_children.sort_values(by = ['%'], ascending = False)\n",
    "report_children['%'] *=100\n",
    "report_children['%'] = report_children['%'].round(2)\n",
    "report_children"
   ]
  },
  {
   "cell_type": "markdown",
   "metadata": {},
   "source": [
    "**Вывод**"
   ]
  },
  {
   "cell_type": "markdown",
   "metadata": {},
   "source": [
    "Использовали свобную таблицу `pivot_table` по столбцу `children`, значения взяты из колонки `debt`, к ней применены функции суммирования, подсчет количества и их отношение.\n",
    "\n",
    "По количеству детей максимальное количество должников среди клиентов с **2мя детьми (9.49%)**, немного меньше, если **1 ребенок (9.23%)** и минамальна, если детей нет **(7.53%)**."
   ]
  },
  {
   "cell_type": "markdown",
   "metadata": {},
   "source": [
    "- Есть ли зависимость между семейным положением и возвратом кредита в срок?\n",
    "<a id='family_status'></a>"
   ]
  },
  {
   "cell_type": "code",
   "execution_count": 21,
   "metadata": {},
   "outputs": [
    {
     "data": {
      "text/html": [
       "<div>\n",
       "<style scoped>\n",
       "    .dataframe tbody tr th:only-of-type {\n",
       "        vertical-align: middle;\n",
       "    }\n",
       "\n",
       "    .dataframe tbody tr th {\n",
       "        vertical-align: top;\n",
       "    }\n",
       "\n",
       "    .dataframe thead th {\n",
       "        text-align: right;\n",
       "    }\n",
       "</style>\n",
       "<table border=\"1\" class=\"dataframe\">\n",
       "  <thead>\n",
       "    <tr style=\"text-align: right;\">\n",
       "      <th></th>\n",
       "      <th>debt</th>\n",
       "      <th>total</th>\n",
       "      <th>%</th>\n",
       "    </tr>\n",
       "    <tr>\n",
       "      <th>family_status</th>\n",
       "      <th></th>\n",
       "      <th></th>\n",
       "      <th></th>\n",
       "    </tr>\n",
       "  </thead>\n",
       "  <tbody>\n",
       "    <tr>\n",
       "      <th>не женат / не замужем</th>\n",
       "      <td>274.0</td>\n",
       "      <td>2810</td>\n",
       "      <td>9.75</td>\n",
       "    </tr>\n",
       "    <tr>\n",
       "      <th>гражданский брак</th>\n",
       "      <td>388.0</td>\n",
       "      <td>4150</td>\n",
       "      <td>9.35</td>\n",
       "    </tr>\n",
       "    <tr>\n",
       "      <th>женат / замужем</th>\n",
       "      <td>931.0</td>\n",
       "      <td>12339</td>\n",
       "      <td>7.55</td>\n",
       "    </tr>\n",
       "    <tr>\n",
       "      <th>в разводе</th>\n",
       "      <td>85.0</td>\n",
       "      <td>1195</td>\n",
       "      <td>7.11</td>\n",
       "    </tr>\n",
       "    <tr>\n",
       "      <th>вдовец / вдова</th>\n",
       "      <td>63.0</td>\n",
       "      <td>959</td>\n",
       "      <td>6.57</td>\n",
       "    </tr>\n",
       "  </tbody>\n",
       "</table>\n",
       "</div>"
      ],
      "text/plain": [
       "                        debt  total     %\n",
       "family_status                            \n",
       "не женат / не замужем  274.0   2810  9.75\n",
       "гражданский брак       388.0   4150  9.35\n",
       "женат / замужем        931.0  12339  7.55\n",
       "в разводе               85.0   1195  7.11\n",
       "вдовец / вдова          63.0    959  6.57"
      ]
     },
     "execution_count": 21,
     "metadata": {},
     "output_type": "execute_result"
    }
   ],
   "source": [
    "report_family = data.pivot_table(index = ['family_status'], values = 'debt', aggfunc = ['sum', 'count','mean'])\n",
    "report_family.columns = ['debt', 'total', '%']\n",
    "report_family = report_family.sort_values(by = ['%'], ascending = False)\n",
    "report_family['%'] *=100\n",
    "report_family['%'] = report_family['%'].round(2)\n",
    "report_family"
   ]
  },
  {
   "cell_type": "markdown",
   "metadata": {},
   "source": [
    "**Вывод**"
   ]
  },
  {
   "cell_type": "markdown",
   "metadata": {},
   "source": [
    "Использовали сводную таблицу `pivot_table` по столбцу `family_status`, значения взяты из колонки `debt`, к ней применены функции суммирования, подсчет количества и их отношение.\n",
    "\n",
    "Больше всего должников среди тех, кто **не женат / не замужем (9.75%)** и состоит в **гражданском браке (9.35%)**. Существенный отрыв в сторону уменьшения доли должников, если статус **женат / замужем (7.55%)**\n",
    "\n",
    "Меньше всего должников в статусе **вдовец / вдова (7.11%)** и в **разводе (6.57%)**."
   ]
  },
  {
   "cell_type": "markdown",
   "metadata": {},
   "source": [
    "- Есть ли зависимость между уровнем дохода и возвратом кредита в срок?\n",
    "<a id='total_income'></a>"
   ]
  },
  {
   "cell_type": "markdown",
   "metadata": {},
   "source": [
    "Напишем функцию для `apply`, которая будет проверять каждую строку столбца `total_income` по уровню дохода и добавит новый столбец. Выведим сводную таблицу, которая будет отображать количество должников, общее количество в каждой категории по уровню дохода и их отношение в %, отсортируем в порядке убывания доли  "
   ]
  },
  {
   "cell_type": "code",
   "execution_count": 22,
   "metadata": {},
   "outputs": [
    {
     "data": {
      "text/html": [
       "<div>\n",
       "<style scoped>\n",
       "    .dataframe tbody tr th:only-of-type {\n",
       "        vertical-align: middle;\n",
       "    }\n",
       "\n",
       "    .dataframe tbody tr th {\n",
       "        vertical-align: top;\n",
       "    }\n",
       "\n",
       "    .dataframe thead th {\n",
       "        text-align: right;\n",
       "    }\n",
       "</style>\n",
       "<table border=\"1\" class=\"dataframe\">\n",
       "  <thead>\n",
       "    <tr style=\"text-align: right;\">\n",
       "      <th></th>\n",
       "      <th>debt</th>\n",
       "      <th>total</th>\n",
       "      <th>%</th>\n",
       "    </tr>\n",
       "    <tr>\n",
       "      <th>income_category</th>\n",
       "      <th></th>\n",
       "      <th></th>\n",
       "      <th></th>\n",
       "    </tr>\n",
       "  </thead>\n",
       "  <tbody>\n",
       "    <tr>\n",
       "      <th>150 000 - 200 000</th>\n",
       "      <td>374.0</td>\n",
       "      <td>4162</td>\n",
       "      <td>8.99</td>\n",
       "    </tr>\n",
       "    <tr>\n",
       "      <th>100 000 - 150 000</th>\n",
       "      <td>655.0</td>\n",
       "      <td>7762</td>\n",
       "      <td>8.44</td>\n",
       "    </tr>\n",
       "    <tr>\n",
       "      <th>50 000 - 100 000</th>\n",
       "      <td>331.0</td>\n",
       "      <td>4091</td>\n",
       "      <td>8.09</td>\n",
       "    </tr>\n",
       "    <tr>\n",
       "      <th>более 200 000</th>\n",
       "      <td>358.0</td>\n",
       "      <td>5066</td>\n",
       "      <td>7.07</td>\n",
       "    </tr>\n",
       "    <tr>\n",
       "      <th>менее 50 000</th>\n",
       "      <td>23.0</td>\n",
       "      <td>372</td>\n",
       "      <td>6.18</td>\n",
       "    </tr>\n",
       "  </tbody>\n",
       "</table>\n",
       "</div>"
      ],
      "text/plain": [
       "                    debt  total     %\n",
       "income_category                      \n",
       "150 000 - 200 000  374.0   4162  8.99\n",
       "100 000 - 150 000  655.0   7762  8.44\n",
       "50 000 - 100 000   331.0   4091  8.09\n",
       "более 200 000      358.0   5066  7.07\n",
       "менее 50 000        23.0    372  6.18"
      ]
     },
     "execution_count": 22,
     "metadata": {},
     "output_type": "execute_result"
    }
   ],
   "source": [
    "min_income = 50000\n",
    "mid_income = 100000\n",
    "mid_lar_income = 150000\n",
    "lar_income = 200000\n",
    "\n",
    "def income(row):\n",
    "    if row['total_income'] < min_income:\n",
    "        return 'менее 50 000'\n",
    "    elif row['total_income'] < mid_income:\n",
    "        return '50 000 - 100 000'\n",
    "    elif row['total_income'] < mid_lar_income:\n",
    "        return '100 000 - 150 000'\n",
    "    elif row['total_income'] < lar_income:\n",
    "        return '150 000 - 200 000'\n",
    "    else:\n",
    "        return 'более 200 000'\n",
    "            \n",
    "data['income_category'] = data.apply(income, axis =1)\n",
    "\n",
    "report_income = data.pivot_table(index = ['income_category'], values = 'debt', aggfunc = ['sum', 'count','mean'])\n",
    "report_income.columns = ['debt', 'total', '%']\n",
    "report_income = report_income.sort_values(by = ['%'], ascending = False)\n",
    "report_income['%'] *=100\n",
    "report_income['%'] = report_income['%'].round(2)\n",
    "report_income  "
   ]
  },
  {
   "cell_type": "markdown",
   "metadata": {},
   "source": [
    "**Вывод**"
   ]
  },
  {
   "cell_type": "markdown",
   "metadata": {},
   "source": [
    "По уровню дохода в группе риска находятся те, у кого уровень дохода в диапазоне **150 000 - 200 000 руб. (8.99%)**, меньше всего те, у кого уровень дохода **менее 50 000 руб. (6.18%)**."
   ]
  },
  {
   "cell_type": "markdown",
   "metadata": {},
   "source": [
    "- Как разные цели кредита влияют на его возврат в срок?\n",
    "<a id='purposes'></a>"
   ]
  },
  {
   "cell_type": "code",
   "execution_count": 23,
   "metadata": {},
   "outputs": [
    {
     "data": {
      "text/html": [
       "<div>\n",
       "<style scoped>\n",
       "    .dataframe tbody tr th:only-of-type {\n",
       "        vertical-align: middle;\n",
       "    }\n",
       "\n",
       "    .dataframe tbody tr th {\n",
       "        vertical-align: top;\n",
       "    }\n",
       "\n",
       "    .dataframe thead th {\n",
       "        text-align: right;\n",
       "    }\n",
       "</style>\n",
       "<table border=\"1\" class=\"dataframe\">\n",
       "  <thead>\n",
       "    <tr style=\"text-align: right;\">\n",
       "      <th></th>\n",
       "      <th>debt</th>\n",
       "      <th>total</th>\n",
       "      <th>%</th>\n",
       "    </tr>\n",
       "    <tr>\n",
       "      <th>purposes_category</th>\n",
       "      <th></th>\n",
       "      <th></th>\n",
       "      <th></th>\n",
       "    </tr>\n",
       "  </thead>\n",
       "  <tbody>\n",
       "    <tr>\n",
       "      <th>автомобиль</th>\n",
       "      <td>403.0</td>\n",
       "      <td>4306</td>\n",
       "      <td>9.36</td>\n",
       "    </tr>\n",
       "    <tr>\n",
       "      <th>образование</th>\n",
       "      <td>370.0</td>\n",
       "      <td>4013</td>\n",
       "      <td>9.22</td>\n",
       "    </tr>\n",
       "    <tr>\n",
       "      <th>свадьба</th>\n",
       "      <td>186.0</td>\n",
       "      <td>2323</td>\n",
       "      <td>8.01</td>\n",
       "    </tr>\n",
       "    <tr>\n",
       "      <th>недвижимость</th>\n",
       "      <td>782.0</td>\n",
       "      <td>10811</td>\n",
       "      <td>7.23</td>\n",
       "    </tr>\n",
       "  </tbody>\n",
       "</table>\n",
       "</div>"
      ],
      "text/plain": [
       "                    debt  total     %\n",
       "purposes_category                    \n",
       "автомобиль         403.0   4306  9.36\n",
       "образование        370.0   4013  9.22\n",
       "свадьба            186.0   2323  8.01\n",
       "недвижимость       782.0  10811  7.23"
      ]
     },
     "execution_count": 23,
     "metadata": {},
     "output_type": "execute_result"
    }
   ],
   "source": [
    "report_purpose = data.pivot_table(index = ['purposes_category'], values = 'debt', aggfunc = ['sum', 'count','mean'])\n",
    "report_purpose.columns = ['debt', 'total', '%']\n",
    "report_purpose = report_purpose.sort_values(by = ['%'], ascending = False)\n",
    "report_purpose['%'] *=100\n",
    "report_purpose['%'] = report_purpose['%'].round(2)\n",
    "report_purpose"
   ]
  },
  {
   "cell_type": "markdown",
   "metadata": {},
   "source": [
    "**Вывод**"
   ]
  },
  {
   "cell_type": "markdown",
   "metadata": {},
   "source": [
    "Использовали сводную таблицу `pivot_table` по столбцу `purposes_category`, значения взяты из колонки `debt`, к ней применены функции суммирования, подсчет количества и их отношение.\n",
    "\n",
    "Больше всего должников среди тех, кто взял кредит на **автомобиль (9.36%)**, меньше всего среди тех, кто брал кредит на **недвижимость (7.23%)**."
   ]
  },
  {
   "cell_type": "markdown",
   "metadata": {},
   "source": [
    "## Шаг 4. Общий вывод\n",
    "<a id='conclusion'></a>"
   ]
  },
  {
   "cell_type": "markdown",
   "metadata": {},
   "source": [
    "Для построения модели кредитного скоринга нам необходимо было выяснить, влияет ли на факт погашения кредита в срок:\n",
    "\n",
    "а) семейное положение клиента;\n",
    "\n",
    "б) количество детей клиента.\n",
    "\n",
    "Мы использовали статистику о платёжеспособности клиентов. Итоговые данные рассчитаны в %, по каждой группе, как отношение количества тех, у кого имеется задолженность к общему количеству внутри каждой категории. \n",
    "\n",
    "**Выводы:**\n",
    "\n",
    "- Больше всего задолженность по возврату кредитов у тех, кто **не женат / не замужем (9.75%)** и состоит в **гражданском браке (9.35%)**. Существенный отрыв в сторону уменьшения доли должников, если статус брака официальный **(7.55%)**. \n",
    "Меньше всего должников в статусе **вдовец / вдова (7.11%)** и **в разводе (6.57%)**.\n",
    "\n",
    "\n",
    "- По количеству детей максимальное количество должников среди клиентов с **2мя детьми (9.49%)**, немного меньше, если **1 ребенок (9.23%)** и минамальна, если детей нет **(7.53%)**.\n",
    "\n",
    "\n",
    "- Дополнительно выяснили, что задолженность по возврату кредитов имеется у тех, кто берет кредит на **автомобиль (9.36%)**, меньше всего - **на недвижимость (7.23%)**. \n",
    "\n",
    "\n",
    "- По уровню дохода в группе риска находятся те, у кого уровень дохода в диапазоне **150 000 - 200 000 руб. (8.99%)**, меньше всего те, у кого уровень дохода **менее 50 000 руб. (6.18%)**."
   ]
  },
  {
   "cell_type": "markdown",
   "metadata": {},
   "source": [
    "## Чек-лист готовности проекта\n",
    "\n",
    "Поставьте 'x' в выполненных пунктах. Далее нажмите Shift+Enter."
   ]
  },
  {
   "cell_type": "markdown",
   "metadata": {},
   "source": [
    "- [x]  открыт файл;\n",
    "- [x]  файл изучен;\n",
    "- [x]  определены пропущенные значения;\n",
    "- [x]  заполнены пропущенные значения;\n",
    "- [x]  есть пояснение, какие пропущенные значения обнаружены;\n",
    "- [x]  описаны возможные причины появления пропусков в данных;\n",
    "- [x]  объяснено, по какому принципу заполнены пропуски;\n",
    "- [x]  заменен вещественный тип данных на целочисленный;\n",
    "- [x]  есть пояснение, какой метод используется для изменения типа данных и почему;\n",
    "- [x]  удалены дубликаты;\n",
    "- [x]  есть пояснение, какой метод используется для поиска и удаления дубликатов;\n",
    "- [x]  описаны возможные причины появления дубликатов в данных;\n",
    "- [x]  выделены леммы в значениях столбца с целями получения кредита;\n",
    "- [x]  описан процесс лемматизации;\n",
    "- [x]  данные категоризированы;\n",
    "- [x]  есть объяснение принципа категоризации данных;\n",
    "- [x]  есть ответ на вопрос: \"Есть ли зависимость между наличием детей и возвратом кредита в срок?\";\n",
    "- [x]  есть ответ на вопрос: \"Есть ли зависимость между семейным положением и возвратом кредита в срок?\";\n",
    "- [x]  есть ответ на вопрос: \"Есть ли зависимость между уровнем дохода и возвратом кредита в срок?\";\n",
    "- [x]  есть ответ на вопрос: \"Как разные цели кредита влияют на его возврат в срок?\";\n",
    "- [x]  в каждом этапе есть выводы;\n",
    "- [x]  есть общий вывод."
   ]
  }
 ],
 "metadata": {
  "ExecuteTimeLog": [
   {
    "duration": 938,
    "start_time": "2021-12-03T16:15:43.212Z"
   },
   {
    "duration": 94,
    "start_time": "2021-12-03T16:32:38.644Z"
   },
   {
    "duration": 84,
    "start_time": "2021-12-03T16:32:56.721Z"
   },
   {
    "duration": 6,
    "start_time": "2021-12-03T16:33:18.021Z"
   },
   {
    "duration": 8,
    "start_time": "2021-12-03T16:34:06.814Z"
   },
   {
    "duration": 16,
    "start_time": "2021-12-03T16:37:27.189Z"
   },
   {
    "duration": 22,
    "start_time": "2021-12-03T16:44:45.975Z"
   },
   {
    "duration": 17,
    "start_time": "2021-12-03T16:45:14.120Z"
   },
   {
    "duration": 15,
    "start_time": "2021-12-03T16:45:22.630Z"
   },
   {
    "duration": 24,
    "start_time": "2021-12-03T16:46:01.653Z"
   },
   {
    "duration": 83,
    "start_time": "2021-12-03T16:48:05.088Z"
   },
   {
    "duration": 20,
    "start_time": "2021-12-03T16:48:13.440Z"
   },
   {
    "duration": 71,
    "start_time": "2021-12-03T16:48:39.252Z"
   },
   {
    "duration": 16,
    "start_time": "2021-12-03T16:48:39.326Z"
   },
   {
    "duration": 10,
    "start_time": "2021-12-03T16:48:57.268Z"
   },
   {
    "duration": 95,
    "start_time": "2021-12-03T17:00:51.444Z"
   },
   {
    "duration": 9,
    "start_time": "2021-12-03T17:00:58.582Z"
   },
   {
    "duration": 91,
    "start_time": "2021-12-04T06:24:21.107Z"
   },
   {
    "duration": 346,
    "start_time": "2021-12-04T06:26:12.088Z"
   },
   {
    "duration": 674,
    "start_time": "2021-12-04T06:26:24.071Z"
   },
   {
    "duration": 32,
    "start_time": "2021-12-04T06:26:24.748Z"
   },
   {
    "duration": 142,
    "start_time": "2021-12-04T06:27:19.224Z"
   },
   {
    "duration": 381,
    "start_time": "2021-12-04T06:27:26.102Z"
   },
   {
    "duration": 41,
    "start_time": "2021-12-04T06:27:38.240Z"
   },
   {
    "duration": 19,
    "start_time": "2021-12-04T06:28:15.899Z"
   },
   {
    "duration": 8,
    "start_time": "2021-12-04T06:41:17.758Z"
   },
   {
    "duration": 270,
    "start_time": "2021-12-04T06:41:51.388Z"
   },
   {
    "duration": 252,
    "start_time": "2021-12-04T06:42:18.830Z"
   },
   {
    "duration": 256,
    "start_time": "2021-12-04T06:43:07.045Z"
   },
   {
    "duration": 6,
    "start_time": "2021-12-04T06:44:35.312Z"
   },
   {
    "duration": 19,
    "start_time": "2021-12-04T06:48:05.875Z"
   },
   {
    "duration": 23,
    "start_time": "2021-12-04T07:13:30.967Z"
   },
   {
    "duration": 20,
    "start_time": "2021-12-04T07:13:58.743Z"
   },
   {
    "duration": 90,
    "start_time": "2021-12-04T07:15:10.919Z"
   },
   {
    "duration": 23,
    "start_time": "2021-12-04T07:15:17.303Z"
   },
   {
    "duration": 7,
    "start_time": "2021-12-04T07:15:55.681Z"
   },
   {
    "duration": 7,
    "start_time": "2021-12-04T07:17:40.928Z"
   },
   {
    "duration": 7,
    "start_time": "2021-12-04T07:18:12.217Z"
   },
   {
    "duration": 7,
    "start_time": "2021-12-04T07:18:58.973Z"
   },
   {
    "duration": 21,
    "start_time": "2021-12-04T07:19:28.624Z"
   },
   {
    "duration": 8,
    "start_time": "2021-12-04T07:20:07.850Z"
   },
   {
    "duration": 8,
    "start_time": "2021-12-04T07:21:22.009Z"
   },
   {
    "duration": 11,
    "start_time": "2021-12-04T07:21:52.639Z"
   },
   {
    "duration": 22,
    "start_time": "2021-12-04T07:22:13.040Z"
   },
   {
    "duration": 10,
    "start_time": "2021-12-04T07:23:57.239Z"
   },
   {
    "duration": 12,
    "start_time": "2021-12-04T07:24:23.665Z"
   },
   {
    "duration": 9,
    "start_time": "2021-12-04T07:24:59.698Z"
   },
   {
    "duration": 9,
    "start_time": "2021-12-04T07:28:30.772Z"
   },
   {
    "duration": 16,
    "start_time": "2021-12-04T07:32:32.654Z"
   },
   {
    "duration": 20,
    "start_time": "2021-12-04T07:32:50.150Z"
   },
   {
    "duration": 21,
    "start_time": "2021-12-04T07:46:29.553Z"
   },
   {
    "duration": 7,
    "start_time": "2021-12-04T07:47:02.614Z"
   },
   {
    "duration": 18,
    "start_time": "2021-12-04T07:49:13.606Z"
   },
   {
    "duration": 10,
    "start_time": "2021-12-04T07:51:00.757Z"
   },
   {
    "duration": 14,
    "start_time": "2021-12-04T07:52:16.044Z"
   },
   {
    "duration": 28,
    "start_time": "2021-12-04T08:44:56.727Z"
   },
   {
    "duration": 26,
    "start_time": "2021-12-04T08:47:06.609Z"
   },
   {
    "duration": 27,
    "start_time": "2021-12-04T08:47:20.915Z"
   },
   {
    "duration": 12,
    "start_time": "2021-12-04T08:48:26.973Z"
   },
   {
    "duration": 15,
    "start_time": "2021-12-04T08:50:46.678Z"
   },
   {
    "duration": 20,
    "start_time": "2021-12-04T08:52:56.190Z"
   },
   {
    "duration": 59,
    "start_time": "2021-12-04T09:09:22.125Z"
   },
   {
    "duration": 10,
    "start_time": "2021-12-04T09:09:22.186Z"
   },
   {
    "duration": 16,
    "start_time": "2021-12-04T09:09:22.198Z"
   },
   {
    "duration": 5,
    "start_time": "2021-12-04T09:09:25.777Z"
   },
   {
    "duration": 5,
    "start_time": "2021-12-04T09:09:41.371Z"
   },
   {
    "duration": 5,
    "start_time": "2021-12-04T09:10:16.274Z"
   },
   {
    "duration": 7,
    "start_time": "2021-12-04T09:10:46.295Z"
   },
   {
    "duration": 13,
    "start_time": "2021-12-04T09:15:39.462Z"
   },
   {
    "duration": 58,
    "start_time": "2021-12-04T09:17:26.979Z"
   },
   {
    "duration": 8,
    "start_time": "2021-12-04T09:17:27.039Z"
   },
   {
    "duration": 21,
    "start_time": "2021-12-04T09:17:27.049Z"
   },
   {
    "duration": 27,
    "start_time": "2021-12-04T09:17:27.072Z"
   },
   {
    "duration": 28,
    "start_time": "2021-12-04T09:17:27.101Z"
   },
   {
    "duration": 34,
    "start_time": "2021-12-04T09:17:27.131Z"
   },
   {
    "duration": 28,
    "start_time": "2021-12-04T09:17:27.167Z"
   },
   {
    "duration": 11,
    "start_time": "2021-12-04T09:17:27.197Z"
   },
   {
    "duration": 13,
    "start_time": "2021-12-04T09:17:38.402Z"
   },
   {
    "duration": 91,
    "start_time": "2021-12-04T09:19:44.030Z"
   },
   {
    "duration": 5,
    "start_time": "2021-12-04T09:20:23.122Z"
   },
   {
    "duration": 6,
    "start_time": "2021-12-04T09:21:08.382Z"
   },
   {
    "duration": 8,
    "start_time": "2021-12-04T09:22:18.718Z"
   },
   {
    "duration": 29,
    "start_time": "2021-12-04T09:26:35.597Z"
   },
   {
    "duration": 275,
    "start_time": "2021-12-04T09:27:13.173Z"
   },
   {
    "duration": 86,
    "start_time": "2021-12-04T09:27:28.843Z"
   },
   {
    "duration": 305,
    "start_time": "2021-12-04T09:30:24.473Z"
   },
   {
    "duration": 2030,
    "start_time": "2021-12-04T09:35:05.086Z"
   },
   {
    "duration": 22,
    "start_time": "2021-12-04T09:36:22.176Z"
   },
   {
    "duration": 7736,
    "start_time": "2021-12-04T09:36:30.322Z"
   },
   {
    "duration": 2029,
    "start_time": "2021-12-04T09:37:28.185Z"
   },
   {
    "duration": 312,
    "start_time": "2021-12-04T09:38:04.940Z"
   },
   {
    "duration": 90,
    "start_time": "2021-12-04T09:38:10.706Z"
   },
   {
    "duration": 7,
    "start_time": "2021-12-04T09:38:27.850Z"
   },
   {
    "duration": 6,
    "start_time": "2021-12-04T09:40:04.847Z"
   },
   {
    "duration": 85,
    "start_time": "2021-12-04T09:41:58.969Z"
   },
   {
    "duration": 90,
    "start_time": "2021-12-04T09:42:13.965Z"
   },
   {
    "duration": 92,
    "start_time": "2021-12-04T09:43:17.727Z"
   },
   {
    "duration": 283,
    "start_time": "2021-12-04T09:43:31.817Z"
   },
   {
    "duration": 199,
    "start_time": "2021-12-04T09:44:13.909Z"
   },
   {
    "duration": 91,
    "start_time": "2021-12-04T09:44:17.865Z"
   },
   {
    "duration": 94,
    "start_time": "2021-12-04T09:44:50.210Z"
   },
   {
    "duration": 27,
    "start_time": "2021-12-04T09:46:13.751Z"
   },
   {
    "duration": 24,
    "start_time": "2021-12-04T09:46:35.846Z"
   },
   {
    "duration": 43,
    "start_time": "2021-12-04T09:46:44.998Z"
   },
   {
    "duration": 292,
    "start_time": "2021-12-04T09:47:07.723Z"
   },
   {
    "duration": 104,
    "start_time": "2021-12-04T09:47:44.922Z"
   },
   {
    "duration": 27,
    "start_time": "2021-12-04T09:47:49.949Z"
   },
   {
    "duration": 11,
    "start_time": "2021-12-04T09:48:57.596Z"
   },
   {
    "duration": 96,
    "start_time": "2021-12-04T09:50:14.175Z"
   },
   {
    "duration": 14,
    "start_time": "2021-12-04T09:50:24.689Z"
   },
   {
    "duration": 30,
    "start_time": "2021-12-04T09:50:45.842Z"
   },
   {
    "duration": 372,
    "start_time": "2021-12-04T09:54:14.857Z"
   },
   {
    "duration": 276,
    "start_time": "2021-12-04T09:54:47.060Z"
   },
   {
    "duration": 101,
    "start_time": "2021-12-04T10:00:32.166Z"
   },
   {
    "duration": 30,
    "start_time": "2021-12-04T10:00:41.834Z"
   },
   {
    "duration": 57,
    "start_time": "2021-12-04T10:05:30.673Z"
   },
   {
    "duration": 39,
    "start_time": "2021-12-04T10:05:50.104Z"
   },
   {
    "duration": 42,
    "start_time": "2021-12-04T10:08:47.052Z"
   },
   {
    "duration": 63,
    "start_time": "2021-12-04T10:13:59.033Z"
   },
   {
    "duration": 11,
    "start_time": "2021-12-04T10:13:59.098Z"
   },
   {
    "duration": 33,
    "start_time": "2021-12-04T10:13:59.112Z"
   },
   {
    "duration": 8,
    "start_time": "2021-12-04T10:13:59.148Z"
   },
   {
    "duration": 14,
    "start_time": "2021-12-04T10:13:59.159Z"
   },
   {
    "duration": 10,
    "start_time": "2021-12-04T10:13:59.175Z"
   },
   {
    "duration": 12,
    "start_time": "2021-12-04T10:13:59.186Z"
   },
   {
    "duration": 61,
    "start_time": "2021-12-04T10:13:59.200Z"
   },
   {
    "duration": 39,
    "start_time": "2021-12-04T10:13:59.264Z"
   },
   {
    "duration": 75,
    "start_time": "2021-12-04T10:13:59.305Z"
   },
   {
    "duration": 23,
    "start_time": "2021-12-04T10:14:03.712Z"
   },
   {
    "duration": 13,
    "start_time": "2021-12-04T10:20:13.308Z"
   },
   {
    "duration": 13,
    "start_time": "2021-12-04T10:20:28.580Z"
   },
   {
    "duration": 72,
    "start_time": "2021-12-04T10:20:49.136Z"
   },
   {
    "duration": 11,
    "start_time": "2021-12-04T10:20:49.211Z"
   },
   {
    "duration": 30,
    "start_time": "2021-12-04T10:20:49.224Z"
   },
   {
    "duration": 8,
    "start_time": "2021-12-04T10:20:49.257Z"
   },
   {
    "duration": 16,
    "start_time": "2021-12-04T10:20:49.272Z"
   },
   {
    "duration": 10,
    "start_time": "2021-12-04T10:20:49.290Z"
   },
   {
    "duration": 12,
    "start_time": "2021-12-04T10:20:49.303Z"
   },
   {
    "duration": 17,
    "start_time": "2021-12-04T10:20:49.347Z"
   },
   {
    "duration": 45,
    "start_time": "2021-12-04T10:20:49.366Z"
   },
   {
    "duration": 58,
    "start_time": "2021-12-04T10:20:49.413Z"
   },
   {
    "duration": 71,
    "start_time": "2021-12-04T10:20:57.236Z"
   },
   {
    "duration": 9,
    "start_time": "2021-12-04T10:20:57.309Z"
   },
   {
    "duration": 17,
    "start_time": "2021-12-04T10:20:57.320Z"
   },
   {
    "duration": 18,
    "start_time": "2021-12-04T10:20:57.339Z"
   },
   {
    "duration": 16,
    "start_time": "2021-12-04T10:20:57.360Z"
   },
   {
    "duration": 13,
    "start_time": "2021-12-04T10:20:57.378Z"
   },
   {
    "duration": 14,
    "start_time": "2021-12-04T10:20:57.393Z"
   },
   {
    "duration": 47,
    "start_time": "2021-12-04T10:20:57.410Z"
   },
   {
    "duration": 54,
    "start_time": "2021-12-04T10:20:57.460Z"
   },
   {
    "duration": 51,
    "start_time": "2021-12-04T10:20:57.516Z"
   },
   {
    "duration": 23,
    "start_time": "2021-12-04T10:20:57.571Z"
   },
   {
    "duration": 74,
    "start_time": "2021-12-04T10:24:07.114Z"
   },
   {
    "duration": 9,
    "start_time": "2021-12-04T10:24:07.190Z"
   },
   {
    "duration": 36,
    "start_time": "2021-12-04T10:24:07.201Z"
   },
   {
    "duration": 29,
    "start_time": "2021-12-04T10:24:07.239Z"
   },
   {
    "duration": 37,
    "start_time": "2021-12-04T10:24:07.270Z"
   },
   {
    "duration": 58,
    "start_time": "2021-12-04T10:24:07.309Z"
   },
   {
    "duration": 22,
    "start_time": "2021-12-04T10:24:07.369Z"
   },
   {
    "duration": 59,
    "start_time": "2021-12-04T10:24:07.393Z"
   },
   {
    "duration": 37,
    "start_time": "2021-12-04T10:24:07.455Z"
   },
   {
    "duration": 22,
    "start_time": "2021-12-04T10:24:07.495Z"
   },
   {
    "duration": 39,
    "start_time": "2021-12-04T10:24:07.519Z"
   },
   {
    "duration": 15,
    "start_time": "2021-12-04T10:26:03.547Z"
   },
   {
    "duration": 13,
    "start_time": "2021-12-04T10:26:11.919Z"
   },
   {
    "duration": 15,
    "start_time": "2021-12-04T10:26:26.895Z"
   },
   {
    "duration": 56,
    "start_time": "2021-12-04T10:26:38.076Z"
   },
   {
    "duration": 18,
    "start_time": "2021-12-04T10:26:38.134Z"
   },
   {
    "duration": 17,
    "start_time": "2021-12-04T10:26:38.154Z"
   },
   {
    "duration": 5,
    "start_time": "2021-12-04T10:26:38.173Z"
   },
   {
    "duration": 11,
    "start_time": "2021-12-04T10:26:38.180Z"
   },
   {
    "duration": 11,
    "start_time": "2021-12-04T10:26:38.193Z"
   },
   {
    "duration": 12,
    "start_time": "2021-12-04T10:26:38.206Z"
   },
   {
    "duration": 43,
    "start_time": "2021-12-04T10:26:38.257Z"
   },
   {
    "duration": 22,
    "start_time": "2021-12-04T10:26:38.302Z"
   },
   {
    "duration": 37,
    "start_time": "2021-12-04T10:26:38.325Z"
   },
   {
    "duration": 16,
    "start_time": "2021-12-04T10:26:38.364Z"
   },
   {
    "duration": 55,
    "start_time": "2021-12-04T10:39:02.322Z"
   },
   {
    "duration": 59,
    "start_time": "2021-12-04T10:45:06.866Z"
   },
   {
    "duration": 9,
    "start_time": "2021-12-04T10:45:06.928Z"
   },
   {
    "duration": 12,
    "start_time": "2021-12-04T10:45:06.940Z"
   },
   {
    "duration": 11,
    "start_time": "2021-12-04T10:45:06.955Z"
   },
   {
    "duration": 15,
    "start_time": "2021-12-04T10:45:06.968Z"
   },
   {
    "duration": 23,
    "start_time": "2021-12-04T10:45:06.985Z"
   },
   {
    "duration": 51,
    "start_time": "2021-12-04T10:45:07.010Z"
   },
   {
    "duration": 26,
    "start_time": "2021-12-04T10:45:07.063Z"
   },
   {
    "duration": 24,
    "start_time": "2021-12-04T10:45:07.092Z"
   },
   {
    "duration": 31,
    "start_time": "2021-12-04T10:45:07.118Z"
   },
   {
    "duration": 382,
    "start_time": "2021-12-04T19:26:03.154Z"
   },
   {
    "duration": 851,
    "start_time": "2021-12-04T19:26:37.313Z"
   },
   {
    "duration": 11,
    "start_time": "2021-12-04T19:26:38.167Z"
   },
   {
    "duration": 28,
    "start_time": "2021-12-04T19:26:38.181Z"
   },
   {
    "duration": 9,
    "start_time": "2021-12-04T19:26:38.230Z"
   },
   {
    "duration": 772,
    "start_time": "2021-12-04T19:33:01.190Z"
   },
   {
    "duration": 10,
    "start_time": "2021-12-04T19:34:12.763Z"
   },
   {
    "duration": 331,
    "start_time": "2021-12-04T19:38:16.578Z"
   },
   {
    "duration": 305,
    "start_time": "2021-12-04T19:39:15.676Z"
   },
   {
    "duration": 8,
    "start_time": "2021-12-04T19:40:14.187Z"
   },
   {
    "duration": 8,
    "start_time": "2021-12-04T19:40:28.969Z"
   },
   {
    "duration": 8,
    "start_time": "2021-12-04T19:41:01.460Z"
   },
   {
    "duration": 312,
    "start_time": "2021-12-04T19:42:01.805Z"
   },
   {
    "duration": 8,
    "start_time": "2021-12-04T19:42:27.708Z"
   },
   {
    "duration": 107,
    "start_time": "2021-12-04T20:19:30.941Z"
   },
   {
    "duration": 100,
    "start_time": "2021-12-04T20:19:47.957Z"
   },
   {
    "duration": 95,
    "start_time": "2021-12-04T20:20:52.264Z"
   },
   {
    "duration": 110,
    "start_time": "2021-12-04T20:22:40.930Z"
   },
   {
    "duration": 73,
    "start_time": "2021-12-04T20:22:48.614Z"
   },
   {
    "duration": 11,
    "start_time": "2021-12-04T20:22:48.690Z"
   },
   {
    "duration": 39,
    "start_time": "2021-12-04T20:22:48.704Z"
   },
   {
    "duration": 8,
    "start_time": "2021-12-04T20:22:48.746Z"
   },
   {
    "duration": 110,
    "start_time": "2021-12-04T20:23:18.171Z"
   },
   {
    "duration": 99,
    "start_time": "2021-12-04T20:23:32.926Z"
   },
   {
    "duration": 124,
    "start_time": "2021-12-04T20:24:38.050Z"
   },
   {
    "duration": 72,
    "start_time": "2021-12-04T20:25:23.577Z"
   },
   {
    "duration": 12,
    "start_time": "2021-12-04T20:25:23.651Z"
   },
   {
    "duration": 19,
    "start_time": "2021-12-04T20:25:23.666Z"
   },
   {
    "duration": 8,
    "start_time": "2021-12-04T20:25:23.687Z"
   },
   {
    "duration": 121,
    "start_time": "2021-12-04T20:25:23.729Z"
   },
   {
    "duration": 43,
    "start_time": "2021-12-04T20:25:23.810Z"
   },
   {
    "duration": 27,
    "start_time": "2021-12-04T20:25:23.827Z"
   },
   {
    "duration": 22,
    "start_time": "2021-12-04T20:25:23.833Z"
   },
   {
    "duration": 20,
    "start_time": "2021-12-04T20:25:23.837Z"
   },
   {
    "duration": 5,
    "start_time": "2021-12-04T20:25:23.853Z"
   },
   {
    "duration": 24,
    "start_time": "2021-12-04T20:26:25.853Z"
   },
   {
    "duration": 17,
    "start_time": "2021-12-04T20:28:00.996Z"
   },
   {
    "duration": 49,
    "start_time": "2021-12-04T20:28:55.148Z"
   },
   {
    "duration": 72,
    "start_time": "2021-12-04T20:34:38.632Z"
   },
   {
    "duration": 12,
    "start_time": "2021-12-04T20:34:38.706Z"
   },
   {
    "duration": 18,
    "start_time": "2021-12-04T20:34:38.729Z"
   },
   {
    "duration": 8,
    "start_time": "2021-12-04T20:34:38.750Z"
   },
   {
    "duration": 35,
    "start_time": "2021-12-04T20:34:38.761Z"
   },
   {
    "duration": 64,
    "start_time": "2021-12-04T20:34:38.798Z"
   },
   {
    "duration": 31,
    "start_time": "2021-12-04T20:34:38.864Z"
   },
   {
    "duration": 40,
    "start_time": "2021-12-04T20:34:38.898Z"
   },
   {
    "duration": 16,
    "start_time": "2021-12-04T20:34:38.941Z"
   },
   {
    "duration": 82,
    "start_time": "2021-12-04T20:34:38.960Z"
   },
   {
    "duration": 15,
    "start_time": "2021-12-04T20:39:58.021Z"
   },
   {
    "duration": 72,
    "start_time": "2021-12-04T20:41:01.597Z"
   },
   {
    "duration": 12,
    "start_time": "2021-12-04T20:41:01.671Z"
   },
   {
    "duration": 18,
    "start_time": "2021-12-04T20:41:01.686Z"
   },
   {
    "duration": 28,
    "start_time": "2021-12-04T20:41:01.706Z"
   },
   {
    "duration": 33,
    "start_time": "2021-12-04T20:41:01.736Z"
   },
   {
    "duration": 77,
    "start_time": "2021-12-04T20:41:01.772Z"
   },
   {
    "duration": 33,
    "start_time": "2021-12-04T20:41:01.852Z"
   },
   {
    "duration": 45,
    "start_time": "2021-12-04T20:41:01.889Z"
   },
   {
    "duration": 14,
    "start_time": "2021-12-04T20:41:01.937Z"
   },
   {
    "duration": 43,
    "start_time": "2021-12-04T20:41:01.953Z"
   },
   {
    "duration": 314,
    "start_time": "2021-12-04T20:42:28.139Z"
   },
   {
    "duration": 17,
    "start_time": "2021-12-04T20:42:39.258Z"
   },
   {
    "duration": 303,
    "start_time": "2021-12-04T20:42:53.910Z"
   },
   {
    "duration": 14,
    "start_time": "2021-12-04T20:43:16.191Z"
   },
   {
    "duration": 5,
    "start_time": "2021-12-04T20:43:35.694Z"
   },
   {
    "duration": 102,
    "start_time": "2021-12-04T20:43:49.311Z"
   },
   {
    "duration": 104,
    "start_time": "2021-12-04T20:44:01.086Z"
   },
   {
    "duration": 14,
    "start_time": "2021-12-04T20:44:16.918Z"
   },
   {
    "duration": 16,
    "start_time": "2021-12-04T20:45:28.424Z"
   },
   {
    "duration": 72,
    "start_time": "2021-12-04T20:47:17.196Z"
   },
   {
    "duration": 11,
    "start_time": "2021-12-04T20:47:17.271Z"
   },
   {
    "duration": 18,
    "start_time": "2021-12-04T20:47:17.284Z"
   },
   {
    "duration": 29,
    "start_time": "2021-12-04T20:47:17.305Z"
   },
   {
    "duration": 32,
    "start_time": "2021-12-04T20:47:17.337Z"
   },
   {
    "duration": 66,
    "start_time": "2021-12-04T20:47:17.371Z"
   },
   {
    "duration": 32,
    "start_time": "2021-12-04T20:47:17.439Z"
   },
   {
    "duration": 14,
    "start_time": "2021-12-04T20:47:17.474Z"
   },
   {
    "duration": 46,
    "start_time": "2021-12-04T20:47:17.491Z"
   },
   {
    "duration": 39,
    "start_time": "2021-12-04T20:47:17.539Z"
   },
   {
    "duration": 76,
    "start_time": "2021-12-04T20:49:40.864Z"
   },
   {
    "duration": 12,
    "start_time": "2021-12-04T20:49:40.943Z"
   },
   {
    "duration": 20,
    "start_time": "2021-12-04T20:49:40.958Z"
   },
   {
    "duration": 49,
    "start_time": "2021-12-04T20:49:40.980Z"
   },
   {
    "duration": 35,
    "start_time": "2021-12-04T20:49:41.031Z"
   },
   {
    "duration": 33,
    "start_time": "2021-12-04T20:49:41.068Z"
   },
   {
    "duration": 55,
    "start_time": "2021-12-04T20:49:41.103Z"
   },
   {
    "duration": 16,
    "start_time": "2021-12-04T20:49:41.160Z"
   },
   {
    "duration": 67,
    "start_time": "2021-12-04T20:49:41.179Z"
   },
   {
    "duration": 16,
    "start_time": "2021-12-04T20:49:41.249Z"
   },
   {
    "duration": 18,
    "start_time": "2021-12-04T21:05:27.710Z"
   },
   {
    "duration": 19,
    "start_time": "2021-12-04T21:12:45.571Z"
   },
   {
    "duration": 24,
    "start_time": "2021-12-04T21:29:36.844Z"
   },
   {
    "duration": 313,
    "start_time": "2021-12-04T21:31:34.799Z"
   },
   {
    "duration": 307,
    "start_time": "2021-12-04T21:31:57.681Z"
   },
   {
    "duration": 49,
    "start_time": "2021-12-04T21:34:45.926Z"
   },
   {
    "duration": 24,
    "start_time": "2021-12-04T21:35:03.015Z"
   },
   {
    "duration": 72,
    "start_time": "2021-12-04T21:35:09.884Z"
   },
   {
    "duration": 13,
    "start_time": "2021-12-04T21:35:09.958Z"
   },
   {
    "duration": 19,
    "start_time": "2021-12-04T21:35:09.974Z"
   },
   {
    "duration": 37,
    "start_time": "2021-12-04T21:35:09.996Z"
   },
   {
    "duration": 36,
    "start_time": "2021-12-04T21:35:10.036Z"
   },
   {
    "duration": 59,
    "start_time": "2021-12-04T21:35:10.075Z"
   },
   {
    "duration": 35,
    "start_time": "2021-12-04T21:35:10.136Z"
   },
   {
    "duration": 17,
    "start_time": "2021-12-04T21:35:10.174Z"
   },
   {
    "duration": 69,
    "start_time": "2021-12-04T21:35:10.194Z"
   },
   {
    "duration": 15,
    "start_time": "2021-12-04T21:35:10.265Z"
   },
   {
    "duration": 48,
    "start_time": "2021-12-04T21:35:10.282Z"
   },
   {
    "duration": 22,
    "start_time": "2021-12-04T21:35:10.333Z"
   },
   {
    "duration": 45,
    "start_time": "2021-12-04T21:35:19.217Z"
   },
   {
    "duration": 25,
    "start_time": "2021-12-04T21:35:31.996Z"
   },
   {
    "duration": 48,
    "start_time": "2021-12-04T21:38:59.697Z"
   },
   {
    "duration": 46,
    "start_time": "2021-12-04T21:39:13.252Z"
   },
   {
    "duration": 49,
    "start_time": "2021-12-04T21:41:56.816Z"
   },
   {
    "duration": 77,
    "start_time": "2021-12-04T21:45:17.885Z"
   },
   {
    "duration": 12,
    "start_time": "2021-12-04T21:45:17.964Z"
   },
   {
    "duration": 19,
    "start_time": "2021-12-04T21:45:17.980Z"
   },
   {
    "duration": 33,
    "start_time": "2021-12-04T21:45:18.002Z"
   },
   {
    "duration": 35,
    "start_time": "2021-12-04T21:45:18.039Z"
   },
   {
    "duration": 67,
    "start_time": "2021-12-04T21:45:18.077Z"
   },
   {
    "duration": 33,
    "start_time": "2021-12-04T21:45:18.146Z"
   },
   {
    "duration": 14,
    "start_time": "2021-12-04T21:45:18.183Z"
   },
   {
    "duration": 45,
    "start_time": "2021-12-04T21:45:18.200Z"
   },
   {
    "duration": 16,
    "start_time": "2021-12-04T21:45:18.247Z"
   },
   {
    "duration": 65,
    "start_time": "2021-12-04T21:45:18.266Z"
   },
   {
    "duration": 49,
    "start_time": "2021-12-04T21:45:18.334Z"
   },
   {
    "duration": 315,
    "start_time": "2021-12-04T22:00:45.003Z"
   },
   {
    "duration": 327,
    "start_time": "2021-12-04T22:05:46.324Z"
   },
   {
    "duration": 285,
    "start_time": "2021-12-04T22:07:27.878Z"
   },
   {
    "duration": 937,
    "start_time": "2021-12-04T22:08:45.892Z"
   },
   {
    "duration": 345,
    "start_time": "2021-12-04T22:11:38.526Z"
   },
   {
    "duration": 307,
    "start_time": "2021-12-04T22:11:57.061Z"
   },
   {
    "duration": 302,
    "start_time": "2021-12-04T22:13:04.274Z"
   },
   {
    "duration": 94,
    "start_time": "2021-12-04T22:13:44.852Z"
   },
   {
    "duration": 3076,
    "start_time": "2021-12-04T22:15:59.406Z"
   },
   {
    "duration": 278,
    "start_time": "2021-12-04T22:19:03.037Z"
   },
   {
    "duration": 935,
    "start_time": "2021-12-04T22:19:34.001Z"
   },
   {
    "duration": 95,
    "start_time": "2021-12-04T22:42:09.954Z"
   },
   {
    "duration": 99,
    "start_time": "2021-12-04T22:47:07.459Z"
   },
   {
    "duration": 102,
    "start_time": "2021-12-04T22:50:29.282Z"
   },
   {
    "duration": 1030,
    "start_time": "2021-12-04T22:51:19.643Z"
   },
   {
    "duration": 4595,
    "start_time": "2021-12-04T22:51:56.695Z"
   },
   {
    "duration": 4665,
    "start_time": "2021-12-04T22:52:22.882Z"
   },
   {
    "duration": 4658,
    "start_time": "2021-12-04T22:53:17.217Z"
   },
   {
    "duration": 76,
    "start_time": "2021-12-04T22:53:43.040Z"
   },
   {
    "duration": 11,
    "start_time": "2021-12-04T22:53:43.119Z"
   },
   {
    "duration": 24,
    "start_time": "2021-12-04T22:53:43.132Z"
   },
   {
    "duration": 10,
    "start_time": "2021-12-04T22:53:43.159Z"
   },
   {
    "duration": 62,
    "start_time": "2021-12-04T22:53:43.171Z"
   },
   {
    "duration": 34,
    "start_time": "2021-12-04T22:53:43.236Z"
   },
   {
    "duration": 62,
    "start_time": "2021-12-04T22:53:43.273Z"
   },
   {
    "duration": 15,
    "start_time": "2021-12-04T22:53:43.340Z"
   },
   {
    "duration": 19,
    "start_time": "2021-12-04T22:53:43.358Z"
   },
   {
    "duration": 69,
    "start_time": "2021-12-04T22:53:43.380Z"
   },
   {
    "duration": 39,
    "start_time": "2021-12-04T22:53:43.452Z"
   },
   {
    "duration": 78,
    "start_time": "2021-12-04T22:53:43.494Z"
   },
   {
    "duration": 965,
    "start_time": "2021-12-04T22:53:43.575Z"
   },
   {
    "duration": 4661,
    "start_time": "2021-12-04T22:53:44.542Z"
   },
   {
    "duration": 502,
    "start_time": "2021-12-04T22:56:03.635Z"
   },
   {
    "duration": 4665,
    "start_time": "2021-12-04T22:56:17.928Z"
   },
   {
    "duration": 4635,
    "start_time": "2021-12-04T22:57:38.128Z"
   },
   {
    "duration": 1038,
    "start_time": "2021-12-04T22:59:13.795Z"
   },
   {
    "duration": 413,
    "start_time": "2021-12-05T08:41:14.589Z"
   },
   {
    "duration": 851,
    "start_time": "2021-12-05T08:42:13.531Z"
   },
   {
    "duration": 14,
    "start_time": "2021-12-05T08:42:14.385Z"
   },
   {
    "duration": 31,
    "start_time": "2021-12-05T08:42:14.403Z"
   },
   {
    "duration": 35,
    "start_time": "2021-12-05T08:42:14.437Z"
   },
   {
    "duration": 17,
    "start_time": "2021-12-05T08:43:16.545Z"
   },
   {
    "duration": 14,
    "start_time": "2021-12-05T08:43:29.102Z"
   },
   {
    "duration": 17,
    "start_time": "2021-12-05T08:43:53.204Z"
   },
   {
    "duration": 73,
    "start_time": "2021-12-05T08:44:41.261Z"
   },
   {
    "duration": 31,
    "start_time": "2021-12-05T08:44:41.336Z"
   },
   {
    "duration": 19,
    "start_time": "2021-12-05T08:44:41.370Z"
   },
   {
    "duration": 11,
    "start_time": "2021-12-05T08:44:41.392Z"
   },
   {
    "duration": 8,
    "start_time": "2021-12-05T08:44:41.406Z"
   },
   {
    "duration": 68,
    "start_time": "2021-12-05T08:44:41.416Z"
   },
   {
    "duration": 33,
    "start_time": "2021-12-05T08:44:41.486Z"
   },
   {
    "duration": 58,
    "start_time": "2021-12-05T08:44:41.522Z"
   },
   {
    "duration": 14,
    "start_time": "2021-12-05T08:44:41.582Z"
   },
   {
    "duration": 17,
    "start_time": "2021-12-05T08:44:41.599Z"
   },
   {
    "duration": 49,
    "start_time": "2021-12-05T08:44:41.619Z"
   },
   {
    "duration": 39,
    "start_time": "2021-12-05T08:44:41.671Z"
   },
   {
    "duration": 72,
    "start_time": "2021-12-05T08:44:41.712Z"
   },
   {
    "duration": 939,
    "start_time": "2021-12-05T08:44:41.786Z"
   },
   {
    "duration": 4883,
    "start_time": "2021-12-05T08:44:42.728Z"
   },
   {
    "duration": 61,
    "start_time": "2021-12-05T09:06:38.983Z"
   },
   {
    "duration": 76,
    "start_time": "2021-12-05T09:06:49.601Z"
   },
   {
    "duration": 11,
    "start_time": "2021-12-05T09:06:49.680Z"
   },
   {
    "duration": 19,
    "start_time": "2021-12-05T09:06:49.695Z"
   },
   {
    "duration": 12,
    "start_time": "2021-12-05T09:06:49.717Z"
   },
   {
    "duration": 41,
    "start_time": "2021-12-05T09:06:49.732Z"
   },
   {
    "duration": 46,
    "start_time": "2021-12-05T09:06:49.775Z"
   },
   {
    "duration": 62,
    "start_time": "2021-12-05T09:06:49.824Z"
   },
   {
    "duration": 35,
    "start_time": "2021-12-05T09:06:49.888Z"
   },
   {
    "duration": 15,
    "start_time": "2021-12-05T09:06:49.926Z"
   },
   {
    "duration": 19,
    "start_time": "2021-12-05T09:06:49.968Z"
   },
   {
    "duration": 13,
    "start_time": "2021-12-05T09:06:49.989Z"
   },
   {
    "duration": 74,
    "start_time": "2021-12-05T09:06:50.005Z"
   },
   {
    "duration": 41,
    "start_time": "2021-12-05T09:06:50.081Z"
   },
   {
    "duration": 347,
    "start_time": "2021-12-05T09:06:50.124Z"
   },
   {
    "duration": -16,
    "start_time": "2021-12-05T09:06:50.489Z"
   },
   {
    "duration": 73,
    "start_time": "2021-12-05T09:13:23.985Z"
   },
   {
    "duration": 13,
    "start_time": "2021-12-05T09:13:24.060Z"
   },
   {
    "duration": 21,
    "start_time": "2021-12-05T09:13:24.077Z"
   },
   {
    "duration": 9,
    "start_time": "2021-12-05T09:13:24.101Z"
   },
   {
    "duration": 8,
    "start_time": "2021-12-05T09:13:24.112Z"
   },
   {
    "duration": 65,
    "start_time": "2021-12-05T09:13:24.122Z"
   },
   {
    "duration": 32,
    "start_time": "2021-12-05T09:13:24.189Z"
   },
   {
    "duration": 62,
    "start_time": "2021-12-05T09:13:24.224Z"
   },
   {
    "duration": 14,
    "start_time": "2021-12-05T09:13:24.290Z"
   },
   {
    "duration": 18,
    "start_time": "2021-12-05T09:13:24.307Z"
   },
   {
    "duration": 48,
    "start_time": "2021-12-05T09:13:24.328Z"
   },
   {
    "duration": 38,
    "start_time": "2021-12-05T09:13:24.378Z"
   },
   {
    "duration": 72,
    "start_time": "2021-12-05T09:13:24.419Z"
   },
   {
    "duration": 919,
    "start_time": "2021-12-05T09:13:24.493Z"
   },
   {
    "duration": 4772,
    "start_time": "2021-12-05T09:13:25.415Z"
   },
   {
    "duration": 14,
    "start_time": "2021-12-05T09:17:51.631Z"
   },
   {
    "duration": 75,
    "start_time": "2021-12-05T09:18:12.773Z"
   },
   {
    "duration": 17,
    "start_time": "2021-12-05T09:18:12.851Z"
   },
   {
    "duration": 19,
    "start_time": "2021-12-05T09:18:12.871Z"
   },
   {
    "duration": 10,
    "start_time": "2021-12-05T09:18:12.893Z"
   },
   {
    "duration": 10,
    "start_time": "2021-12-05T09:18:12.906Z"
   },
   {
    "duration": 71,
    "start_time": "2021-12-05T09:18:12.919Z"
   },
   {
    "duration": 33,
    "start_time": "2021-12-05T09:18:12.992Z"
   },
   {
    "duration": 61,
    "start_time": "2021-12-05T09:18:13.029Z"
   },
   {
    "duration": 14,
    "start_time": "2021-12-05T09:18:13.093Z"
   },
   {
    "duration": 22,
    "start_time": "2021-12-05T09:18:13.110Z"
   },
   {
    "duration": 43,
    "start_time": "2021-12-05T09:18:13.135Z"
   },
   {
    "duration": 34,
    "start_time": "2021-12-05T09:18:13.181Z"
   },
   {
    "duration": 71,
    "start_time": "2021-12-05T09:18:13.217Z"
   },
   {
    "duration": 976,
    "start_time": "2021-12-05T09:18:13.291Z"
   },
   {
    "duration": 5097,
    "start_time": "2021-12-05T09:18:14.270Z"
   },
   {
    "duration": 20,
    "start_time": "2021-12-05T09:19:17.711Z"
   },
   {
    "duration": 81,
    "start_time": "2021-12-05T09:29:18.115Z"
   },
   {
    "duration": 13,
    "start_time": "2021-12-05T09:29:18.199Z"
   },
   {
    "duration": 20,
    "start_time": "2021-12-05T09:29:18.215Z"
   },
   {
    "duration": 8,
    "start_time": "2021-12-05T09:29:18.268Z"
   },
   {
    "duration": 11,
    "start_time": "2021-12-05T09:29:18.279Z"
   },
   {
    "duration": 37,
    "start_time": "2021-12-05T09:29:18.293Z"
   },
   {
    "duration": 72,
    "start_time": "2021-12-05T09:29:18.333Z"
   },
   {
    "duration": 69,
    "start_time": "2021-12-05T09:29:18.408Z"
   },
   {
    "duration": 20,
    "start_time": "2021-12-05T09:29:18.482Z"
   },
   {
    "duration": 18,
    "start_time": "2021-12-05T09:29:18.504Z"
   },
   {
    "duration": 50,
    "start_time": "2021-12-05T09:29:18.525Z"
   },
   {
    "duration": 40,
    "start_time": "2021-12-05T09:29:18.578Z"
   },
   {
    "duration": 85,
    "start_time": "2021-12-05T09:29:18.621Z"
   },
   {
    "duration": 964,
    "start_time": "2021-12-05T09:29:18.709Z"
   },
   {
    "duration": 5460,
    "start_time": "2021-12-05T09:29:19.676Z"
   },
   {
    "duration": 27,
    "start_time": "2021-12-05T09:34:48.410Z"
   },
   {
    "duration": 19,
    "start_time": "2021-12-05T09:34:56.737Z"
   },
   {
    "duration": 78,
    "start_time": "2021-12-05T09:36:31.266Z"
   },
   {
    "duration": 28,
    "start_time": "2021-12-05T09:36:31.346Z"
   },
   {
    "duration": 19,
    "start_time": "2021-12-05T09:36:31.377Z"
   },
   {
    "duration": 25,
    "start_time": "2021-12-05T09:36:31.399Z"
   },
   {
    "duration": 20,
    "start_time": "2021-12-05T09:36:31.427Z"
   },
   {
    "duration": 47,
    "start_time": "2021-12-05T09:36:31.450Z"
   },
   {
    "duration": 37,
    "start_time": "2021-12-05T09:36:31.500Z"
   },
   {
    "duration": 56,
    "start_time": "2021-12-05T09:36:31.540Z"
   },
   {
    "duration": 15,
    "start_time": "2021-12-05T09:36:31.599Z"
   },
   {
    "duration": 21,
    "start_time": "2021-12-05T09:36:31.616Z"
   },
   {
    "duration": 17,
    "start_time": "2021-12-05T09:36:31.668Z"
   },
   {
    "duration": 45,
    "start_time": "2021-12-05T09:36:31.688Z"
   },
   {
    "duration": 45,
    "start_time": "2021-12-05T09:36:31.768Z"
   },
   {
    "duration": 983,
    "start_time": "2021-12-05T09:36:31.816Z"
   },
   {
    "duration": 5066,
    "start_time": "2021-12-05T09:36:32.802Z"
   },
   {
    "duration": 4918,
    "start_time": "2021-12-05T10:15:49.610Z"
   },
   {
    "duration": 4904,
    "start_time": "2021-12-05T10:15:54.743Z"
   },
   {
    "duration": 49,
    "start_time": "2021-12-05T10:50:52.277Z"
   },
   {
    "duration": 47,
    "start_time": "2021-12-05T10:56:46.769Z"
   },
   {
    "duration": 48,
    "start_time": "2021-12-05T10:57:09.498Z"
   },
   {
    "duration": 46,
    "start_time": "2021-12-05T10:58:57.849Z"
   },
   {
    "duration": 42,
    "start_time": "2021-12-05T11:05:46.236Z"
   },
   {
    "duration": 108,
    "start_time": "2021-12-05T11:07:56.263Z"
   },
   {
    "duration": 419,
    "start_time": "2021-12-05T11:08:22.661Z"
   },
   {
    "duration": 454,
    "start_time": "2021-12-05T11:08:31.868Z"
   },
   {
    "duration": 286,
    "start_time": "2021-12-05T11:11:05.949Z"
   },
   {
    "duration": 307,
    "start_time": "2021-12-05T11:11:15.748Z"
   },
   {
    "duration": 80,
    "start_time": "2021-12-05T11:11:36.818Z"
   },
   {
    "duration": 14,
    "start_time": "2021-12-05T11:11:36.902Z"
   },
   {
    "duration": 22,
    "start_time": "2021-12-05T11:11:36.919Z"
   },
   {
    "duration": 8,
    "start_time": "2021-12-05T11:11:36.969Z"
   },
   {
    "duration": 13,
    "start_time": "2021-12-05T11:11:36.979Z"
   },
   {
    "duration": 34,
    "start_time": "2021-12-05T11:11:36.995Z"
   },
   {
    "duration": 36,
    "start_time": "2021-12-05T11:11:37.067Z"
   },
   {
    "duration": 37,
    "start_time": "2021-12-05T11:11:37.106Z"
   },
   {
    "duration": 15,
    "start_time": "2021-12-05T11:11:37.166Z"
   },
   {
    "duration": 21,
    "start_time": "2021-12-05T11:11:37.183Z"
   },
   {
    "duration": 16,
    "start_time": "2021-12-05T11:11:37.206Z"
   },
   {
    "duration": 79,
    "start_time": "2021-12-05T11:11:37.225Z"
   },
   {
    "duration": 70,
    "start_time": "2021-12-05T11:11:37.306Z"
   },
   {
    "duration": 998,
    "start_time": "2021-12-05T11:11:37.379Z"
   },
   {
    "duration": 4872,
    "start_time": "2021-12-05T11:11:38.380Z"
   },
   {
    "duration": 357,
    "start_time": "2021-12-05T11:11:43.255Z"
   },
   {
    "duration": -30,
    "start_time": "2021-12-05T11:11:43.645Z"
   },
   {
    "duration": 40,
    "start_time": "2021-12-05T11:13:40.032Z"
   },
   {
    "duration": 46,
    "start_time": "2021-12-05T11:15:55.457Z"
   },
   {
    "duration": 44,
    "start_time": "2021-12-05T11:18:16.246Z"
   },
   {
    "duration": 4918,
    "start_time": "2021-12-05T11:21:06.500Z"
   },
   {
    "duration": 4885,
    "start_time": "2021-12-05T11:23:24.539Z"
   },
   {
    "duration": 7,
    "start_time": "2021-12-05T11:25:13.679Z"
   },
   {
    "duration": 77,
    "start_time": "2021-12-05T11:27:42.318Z"
   },
   {
    "duration": 13,
    "start_time": "2021-12-05T11:27:42.397Z"
   },
   {
    "duration": 19,
    "start_time": "2021-12-05T11:27:42.413Z"
   },
   {
    "duration": 10,
    "start_time": "2021-12-05T11:27:42.466Z"
   },
   {
    "duration": 11,
    "start_time": "2021-12-05T11:27:42.479Z"
   },
   {
    "duration": 35,
    "start_time": "2021-12-05T11:27:42.493Z"
   },
   {
    "duration": 38,
    "start_time": "2021-12-05T11:27:42.567Z"
   },
   {
    "duration": 39,
    "start_time": "2021-12-05T11:27:42.608Z"
   },
   {
    "duration": 22,
    "start_time": "2021-12-05T11:27:42.670Z"
   },
   {
    "duration": 30,
    "start_time": "2021-12-05T11:27:42.695Z"
   },
   {
    "duration": 48,
    "start_time": "2021-12-05T11:27:42.728Z"
   },
   {
    "duration": 40,
    "start_time": "2021-12-05T11:27:42.778Z"
   },
   {
    "duration": 75,
    "start_time": "2021-12-05T11:27:42.821Z"
   },
   {
    "duration": 1048,
    "start_time": "2021-12-05T11:27:42.899Z"
   },
   {
    "duration": 5181,
    "start_time": "2021-12-05T11:27:43.950Z"
   },
   {
    "duration": 10,
    "start_time": "2021-12-05T11:27:49.134Z"
   },
   {
    "duration": 63,
    "start_time": "2021-12-05T11:27:49.146Z"
   },
   {
    "duration": 71,
    "start_time": "2021-12-05T11:27:49.212Z"
   },
   {
    "duration": 42,
    "start_time": "2021-12-05T11:27:49.286Z"
   },
   {
    "duration": 300,
    "start_time": "2021-12-05T11:31:09.731Z"
   },
   {
    "duration": 9,
    "start_time": "2021-12-05T11:31:18.548Z"
   },
   {
    "duration": 8,
    "start_time": "2021-12-05T11:31:40.704Z"
   },
   {
    "duration": 6,
    "start_time": "2021-12-05T11:32:59.157Z"
   },
   {
    "duration": 8,
    "start_time": "2021-12-05T11:33:19.936Z"
   },
   {
    "duration": 7,
    "start_time": "2021-12-05T11:33:35.468Z"
   },
   {
    "duration": 63,
    "start_time": "2021-12-05T11:36:08.169Z"
   },
   {
    "duration": 8,
    "start_time": "2021-12-05T11:37:03.895Z"
   },
   {
    "duration": 44,
    "start_time": "2021-12-05T11:44:22.553Z"
   },
   {
    "duration": 43,
    "start_time": "2021-12-05T11:47:14.385Z"
   },
   {
    "duration": 69,
    "start_time": "2021-12-05T11:48:46.028Z"
   },
   {
    "duration": 72,
    "start_time": "2021-12-05T11:48:56.510Z"
   },
   {
    "duration": 50,
    "start_time": "2021-12-05T11:49:38.899Z"
   },
   {
    "duration": 22,
    "start_time": "2021-12-05T12:14:02.050Z"
   },
   {
    "duration": 6,
    "start_time": "2021-12-05T12:15:48.952Z"
   },
   {
    "duration": 7,
    "start_time": "2021-12-05T12:16:32.497Z"
   },
   {
    "duration": 12,
    "start_time": "2021-12-05T12:17:08.569Z"
   },
   {
    "duration": 441,
    "start_time": "2021-12-05T12:17:45.345Z"
   },
   {
    "duration": 266,
    "start_time": "2021-12-05T12:17:56.409Z"
   },
   {
    "duration": 92,
    "start_time": "2021-12-05T12:20:24.636Z"
   },
   {
    "duration": 117,
    "start_time": "2021-12-05T12:21:52.870Z"
   },
   {
    "duration": 9,
    "start_time": "2021-12-05T12:23:27.267Z"
   },
   {
    "duration": 9,
    "start_time": "2021-12-05T12:24:09.454Z"
   },
   {
    "duration": 11,
    "start_time": "2021-12-05T12:25:11.121Z"
   },
   {
    "duration": 11,
    "start_time": "2021-12-05T12:25:58.566Z"
   },
   {
    "duration": 11,
    "start_time": "2021-12-05T12:44:45.494Z"
   },
   {
    "duration": 12,
    "start_time": "2021-12-05T12:45:21.981Z"
   },
   {
    "duration": 321,
    "start_time": "2021-12-05T12:51:34.571Z"
   },
   {
    "duration": 278,
    "start_time": "2021-12-05T12:51:48.976Z"
   },
   {
    "duration": 308,
    "start_time": "2021-12-05T12:53:07.166Z"
   },
   {
    "duration": 465,
    "start_time": "2021-12-05T12:54:23.475Z"
   },
   {
    "duration": 306,
    "start_time": "2021-12-05T12:54:50.017Z"
   },
   {
    "duration": 53,
    "start_time": "2021-12-05T12:56:02.810Z"
   },
   {
    "duration": 45,
    "start_time": "2021-12-05T12:56:19.356Z"
   },
   {
    "duration": 47,
    "start_time": "2021-12-05T12:57:38.582Z"
   },
   {
    "duration": 46,
    "start_time": "2021-12-05T12:57:57.205Z"
   },
   {
    "duration": 3921,
    "start_time": "2021-12-05T13:05:46.577Z"
   },
   {
    "duration": 3728,
    "start_time": "2021-12-05T13:06:15.469Z"
   },
   {
    "duration": 50,
    "start_time": "2021-12-05T13:09:14.072Z"
   },
   {
    "duration": 316,
    "start_time": "2021-12-05T13:15:10.785Z"
   },
   {
    "duration": 84,
    "start_time": "2021-12-05T13:18:30.921Z"
   },
   {
    "duration": 98,
    "start_time": "2021-12-05T13:19:38.709Z"
   },
   {
    "duration": 67,
    "start_time": "2021-12-05T13:21:51.959Z"
   },
   {
    "duration": 46,
    "start_time": "2021-12-05T13:28:45.944Z"
   },
   {
    "duration": 48,
    "start_time": "2021-12-05T13:29:11.541Z"
   },
   {
    "duration": 19,
    "start_time": "2021-12-05T13:40:44.078Z"
   },
   {
    "duration": 77,
    "start_time": "2021-12-05T13:40:51.679Z"
   },
   {
    "duration": 16,
    "start_time": "2021-12-05T13:40:51.759Z"
   },
   {
    "duration": 20,
    "start_time": "2021-12-05T13:40:51.779Z"
   },
   {
    "duration": 9,
    "start_time": "2021-12-05T13:40:51.802Z"
   },
   {
    "duration": 10,
    "start_time": "2021-12-05T13:40:51.814Z"
   },
   {
    "duration": 34,
    "start_time": "2021-12-05T13:40:51.867Z"
   },
   {
    "duration": 36,
    "start_time": "2021-12-05T13:40:51.904Z"
   },
   {
    "duration": 34,
    "start_time": "2021-12-05T13:40:51.969Z"
   },
   {
    "duration": 15,
    "start_time": "2021-12-05T13:40:52.006Z"
   },
   {
    "duration": 52,
    "start_time": "2021-12-05T13:40:52.024Z"
   },
   {
    "duration": 19,
    "start_time": "2021-12-05T13:40:52.078Z"
   },
   {
    "duration": 72,
    "start_time": "2021-12-05T13:40:52.100Z"
   },
   {
    "duration": 48,
    "start_time": "2021-12-05T13:40:52.175Z"
   },
   {
    "duration": 1006,
    "start_time": "2021-12-05T13:40:52.226Z"
   },
   {
    "duration": 5090,
    "start_time": "2021-12-05T13:40:53.235Z"
   },
   {
    "duration": 9,
    "start_time": "2021-12-05T13:40:58.328Z"
   },
   {
    "duration": 71,
    "start_time": "2021-12-05T13:40:58.340Z"
   },
   {
    "duration": 70,
    "start_time": "2021-12-05T13:40:58.414Z"
   },
   {
    "duration": 46,
    "start_time": "2021-12-05T13:40:58.488Z"
   },
   {
    "duration": 71,
    "start_time": "2021-12-05T13:40:58.537Z"
   },
   {
    "duration": 22,
    "start_time": "2021-12-05T13:42:23.757Z"
   },
   {
    "duration": 20,
    "start_time": "2021-12-05T13:43:26.566Z"
   },
   {
    "duration": 14,
    "start_time": "2021-12-06T08:35:40.156Z"
   },
   {
    "duration": 77,
    "start_time": "2021-12-06T08:35:47.644Z"
   },
   {
    "duration": 12,
    "start_time": "2021-12-06T08:35:47.724Z"
   },
   {
    "duration": 41,
    "start_time": "2021-12-06T08:35:47.739Z"
   },
   {
    "duration": 9,
    "start_time": "2021-12-06T08:35:47.783Z"
   },
   {
    "duration": 16,
    "start_time": "2021-12-06T08:35:47.795Z"
   },
   {
    "duration": 70,
    "start_time": "2021-12-06T08:35:47.813Z"
   },
   {
    "duration": 33,
    "start_time": "2021-12-06T08:35:47.886Z"
   },
   {
    "duration": 57,
    "start_time": "2021-12-06T08:35:47.923Z"
   },
   {
    "duration": 15,
    "start_time": "2021-12-06T08:35:47.983Z"
   },
   {
    "duration": 20,
    "start_time": "2021-12-06T08:35:48.001Z"
   },
   {
    "duration": 46,
    "start_time": "2021-12-06T08:35:48.024Z"
   },
   {
    "duration": 38,
    "start_time": "2021-12-06T08:35:48.072Z"
   },
   {
    "duration": 77,
    "start_time": "2021-12-06T08:35:48.113Z"
   },
   {
    "duration": 1026,
    "start_time": "2021-12-06T08:35:48.192Z"
   },
   {
    "duration": 4904,
    "start_time": "2021-12-06T08:35:49.221Z"
   },
   {
    "duration": 11,
    "start_time": "2021-12-06T08:35:54.128Z"
   },
   {
    "duration": 65,
    "start_time": "2021-12-06T08:35:54.142Z"
   },
   {
    "duration": 67,
    "start_time": "2021-12-06T08:35:54.210Z"
   },
   {
    "duration": 53,
    "start_time": "2021-12-06T08:35:54.279Z"
   },
   {
    "duration": 67,
    "start_time": "2021-12-06T08:35:54.335Z"
   },
   {
    "duration": 21,
    "start_time": "2021-12-06T08:56:45.001Z"
   },
   {
    "duration": 314,
    "start_time": "2021-12-06T08:58:11.875Z"
   },
   {
    "duration": 23,
    "start_time": "2021-12-06T08:59:33.443Z"
   },
   {
    "duration": 312,
    "start_time": "2021-12-06T09:00:06.960Z"
   },
   {
    "duration": 97,
    "start_time": "2021-12-06T09:01:57.564Z"
   },
   {
    "duration": 17,
    "start_time": "2021-12-06T09:02:14.071Z"
   },
   {
    "duration": 12,
    "start_time": "2021-12-06T09:03:35.242Z"
   },
   {
    "duration": 75,
    "start_time": "2021-12-06T09:05:21.748Z"
   },
   {
    "duration": 14,
    "start_time": "2021-12-06T09:05:21.825Z"
   },
   {
    "duration": 44,
    "start_time": "2021-12-06T09:05:21.842Z"
   },
   {
    "duration": 17,
    "start_time": "2021-12-06T09:05:21.889Z"
   },
   {
    "duration": 13,
    "start_time": "2021-12-06T09:05:21.909Z"
   },
   {
    "duration": 66,
    "start_time": "2021-12-06T09:05:21.925Z"
   },
   {
    "duration": 36,
    "start_time": "2021-12-06T09:05:21.993Z"
   },
   {
    "duration": 55,
    "start_time": "2021-12-06T09:05:22.032Z"
   },
   {
    "duration": 14,
    "start_time": "2021-12-06T09:05:22.090Z"
   },
   {
    "duration": 26,
    "start_time": "2021-12-06T09:05:22.107Z"
   },
   {
    "duration": 40,
    "start_time": "2021-12-06T09:05:22.136Z"
   },
   {
    "duration": 41,
    "start_time": "2021-12-06T09:05:22.179Z"
   },
   {
    "duration": 73,
    "start_time": "2021-12-06T09:05:22.222Z"
   },
   {
    "duration": 13,
    "start_time": "2021-12-06T09:05:22.298Z"
   },
   {
    "duration": 1011,
    "start_time": "2021-12-06T09:05:22.313Z"
   },
   {
    "duration": 4947,
    "start_time": "2021-12-06T09:05:23.327Z"
   },
   {
    "duration": 48,
    "start_time": "2021-12-06T09:05:28.276Z"
   },
   {
    "duration": 77,
    "start_time": "2021-12-06T09:05:28.326Z"
   },
   {
    "duration": 61,
    "start_time": "2021-12-06T09:05:28.405Z"
   },
   {
    "duration": 51,
    "start_time": "2021-12-06T09:05:28.469Z"
   },
   {
    "duration": 9,
    "start_time": "2021-12-06T09:06:31.616Z"
   },
   {
    "duration": 10,
    "start_time": "2021-12-06T09:07:56.266Z"
   },
   {
    "duration": 79,
    "start_time": "2021-12-06T09:08:44.264Z"
   },
   {
    "duration": 26,
    "start_time": "2021-12-06T09:08:44.345Z"
   },
   {
    "duration": 19,
    "start_time": "2021-12-06T09:08:44.374Z"
   },
   {
    "duration": 13,
    "start_time": "2021-12-06T09:08:44.396Z"
   },
   {
    "duration": 9,
    "start_time": "2021-12-06T09:08:44.411Z"
   },
   {
    "duration": 75,
    "start_time": "2021-12-06T09:08:44.423Z"
   },
   {
    "duration": 34,
    "start_time": "2021-12-06T09:08:44.500Z"
   },
   {
    "duration": 60,
    "start_time": "2021-12-06T09:08:44.537Z"
   },
   {
    "duration": 14,
    "start_time": "2021-12-06T09:08:44.601Z"
   },
   {
    "duration": 49,
    "start_time": "2021-12-06T09:08:44.618Z"
   },
   {
    "duration": 17,
    "start_time": "2021-12-06T09:08:44.669Z"
   },
   {
    "duration": 42,
    "start_time": "2021-12-06T09:08:44.688Z"
   },
   {
    "duration": 77,
    "start_time": "2021-12-06T09:08:44.732Z"
   },
   {
    "duration": 12,
    "start_time": "2021-12-06T09:08:44.811Z"
   },
   {
    "duration": 1027,
    "start_time": "2021-12-06T09:08:44.826Z"
   },
   {
    "duration": 4891,
    "start_time": "2021-12-06T09:08:45.856Z"
   },
   {
    "duration": 56,
    "start_time": "2021-12-06T09:08:50.749Z"
   },
   {
    "duration": 65,
    "start_time": "2021-12-06T09:08:50.807Z"
   },
   {
    "duration": 47,
    "start_time": "2021-12-06T09:08:50.875Z"
   },
   {
    "duration": 87,
    "start_time": "2021-12-06T09:08:50.925Z"
   },
   {
    "duration": 80,
    "start_time": "2021-12-06T09:09:45.148Z"
   },
   {
    "duration": 8,
    "start_time": "2021-12-06T09:09:45.231Z"
   },
   {
    "duration": 40,
    "start_time": "2021-12-06T09:09:45.242Z"
   },
   {
    "duration": 14,
    "start_time": "2021-12-06T09:09:45.286Z"
   },
   {
    "duration": 10,
    "start_time": "2021-12-06T09:09:45.302Z"
   },
   {
    "duration": 78,
    "start_time": "2021-12-06T09:09:45.315Z"
   },
   {
    "duration": 34,
    "start_time": "2021-12-06T09:09:45.396Z"
   },
   {
    "duration": 57,
    "start_time": "2021-12-06T09:09:45.432Z"
   },
   {
    "duration": 14,
    "start_time": "2021-12-06T09:09:45.493Z"
   },
   {
    "duration": 21,
    "start_time": "2021-12-06T09:09:45.510Z"
   },
   {
    "duration": 45,
    "start_time": "2021-12-06T09:09:45.533Z"
   },
   {
    "duration": 42,
    "start_time": "2021-12-06T09:09:45.580Z"
   },
   {
    "duration": 80,
    "start_time": "2021-12-06T09:09:45.624Z"
   },
   {
    "duration": 13,
    "start_time": "2021-12-06T09:09:45.706Z"
   },
   {
    "duration": 1011,
    "start_time": "2021-12-06T09:09:45.722Z"
   },
   {
    "duration": 5166,
    "start_time": "2021-12-06T09:09:46.736Z"
   },
   {
    "duration": 65,
    "start_time": "2021-12-06T09:09:51.904Z"
   },
   {
    "duration": 53,
    "start_time": "2021-12-06T09:09:51.972Z"
   },
   {
    "duration": 75,
    "start_time": "2021-12-06T09:09:52.029Z"
   },
   {
    "duration": 72,
    "start_time": "2021-12-06T09:09:52.107Z"
   },
   {
    "duration": 342,
    "start_time": "2021-12-06T09:11:10.784Z"
   },
   {
    "duration": 400,
    "start_time": "2021-12-06T09:11:31.736Z"
   },
   {
    "duration": 77,
    "start_time": "2021-12-06T09:12:00.280Z"
   },
   {
    "duration": 9,
    "start_time": "2021-12-06T09:12:06.157Z"
   },
   {
    "duration": 7,
    "start_time": "2021-12-06T09:14:53.761Z"
   },
   {
    "duration": 8,
    "start_time": "2021-12-06T09:14:59.307Z"
   },
   {
    "duration": 35,
    "start_time": "2021-12-06T09:20:37.692Z"
   },
   {
    "duration": 291,
    "start_time": "2021-12-06T09:40:59.130Z"
   },
   {
    "duration": 285,
    "start_time": "2021-12-06T09:41:58.628Z"
   },
   {
    "duration": 21,
    "start_time": "2021-12-06T09:42:30.452Z"
   },
   {
    "duration": 13,
    "start_time": "2021-12-06T09:42:40.062Z"
   },
   {
    "duration": 16,
    "start_time": "2021-12-06T09:42:59.720Z"
   },
   {
    "duration": 6,
    "start_time": "2021-12-06T09:44:02.486Z"
   },
   {
    "duration": 6,
    "start_time": "2021-12-06T09:44:29.745Z"
   },
   {
    "duration": 6,
    "start_time": "2021-12-06T09:44:38.223Z"
   },
   {
    "duration": 6779,
    "start_time": "2021-12-06T09:54:44.456Z"
   },
   {
    "duration": 11,
    "start_time": "2021-12-06T09:55:44.698Z"
   },
   {
    "duration": 17,
    "start_time": "2021-12-06T09:56:07.504Z"
   },
   {
    "duration": 78,
    "start_time": "2021-12-06T09:56:28.474Z"
   },
   {
    "duration": 16,
    "start_time": "2021-12-06T09:56:28.554Z"
   },
   {
    "duration": 19,
    "start_time": "2021-12-06T09:56:28.573Z"
   },
   {
    "duration": 15,
    "start_time": "2021-12-06T09:56:28.595Z"
   },
   {
    "duration": 11,
    "start_time": "2021-12-06T09:56:28.612Z"
   },
   {
    "duration": 71,
    "start_time": "2021-12-06T09:56:28.626Z"
   },
   {
    "duration": 35,
    "start_time": "2021-12-06T09:56:28.699Z"
   },
   {
    "duration": 54,
    "start_time": "2021-12-06T09:56:28.736Z"
   },
   {
    "duration": 15,
    "start_time": "2021-12-06T09:56:28.794Z"
   },
   {
    "duration": 28,
    "start_time": "2021-12-06T09:56:28.812Z"
   },
   {
    "duration": 37,
    "start_time": "2021-12-06T09:56:28.842Z"
   },
   {
    "duration": 36,
    "start_time": "2021-12-06T09:56:28.881Z"
   },
   {
    "duration": 78,
    "start_time": "2021-12-06T09:56:28.919Z"
   },
   {
    "duration": 16,
    "start_time": "2021-12-06T09:56:28.999Z"
   },
   {
    "duration": 1000,
    "start_time": "2021-12-06T09:56:29.017Z"
   },
   {
    "duration": 5015,
    "start_time": "2021-12-06T09:56:30.019Z"
   },
   {
    "duration": 59,
    "start_time": "2021-12-06T09:56:35.037Z"
   },
   {
    "duration": 69,
    "start_time": "2021-12-06T09:56:35.098Z"
   },
   {
    "duration": 61,
    "start_time": "2021-12-06T09:56:35.170Z"
   },
   {
    "duration": 71,
    "start_time": "2021-12-06T09:56:35.234Z"
   },
   {
    "duration": 31,
    "start_time": "2021-12-06T10:01:09.245Z"
   },
   {
    "duration": 30,
    "start_time": "2021-12-06T10:01:33.324Z"
   },
   {
    "duration": 63,
    "start_time": "2021-12-06T10:07:28.631Z"
   },
   {
    "duration": 62,
    "start_time": "2021-12-06T10:11:39.134Z"
   },
   {
    "duration": 280,
    "start_time": "2021-12-06T10:15:36.347Z"
   },
   {
    "duration": 287,
    "start_time": "2021-12-06T10:15:49.479Z"
   },
   {
    "duration": 43,
    "start_time": "2021-12-06T10:15:56.184Z"
   },
   {
    "duration": 17,
    "start_time": "2021-12-06T10:39:36.827Z"
   },
   {
    "duration": 988,
    "start_time": "2021-12-06T10:39:45.879Z"
   },
   {
    "duration": 40,
    "start_time": "2021-12-06T10:42:10.284Z"
   },
   {
    "duration": 5225,
    "start_time": "2021-12-06T10:43:35.558Z"
   },
   {
    "duration": 7,
    "start_time": "2021-12-06T10:43:47.070Z"
   },
   {
    "duration": 66,
    "start_time": "2021-12-06T10:47:48.048Z"
   },
   {
    "duration": 65,
    "start_time": "2021-12-06T10:48:06.634Z"
   },
   {
    "duration": 62,
    "start_time": "2021-12-06T11:05:24.317Z"
   },
   {
    "duration": 62,
    "start_time": "2021-12-06T11:06:04.742Z"
   },
   {
    "duration": 56,
    "start_time": "2021-12-06T11:06:48.536Z"
   },
   {
    "duration": 64,
    "start_time": "2021-12-06T11:07:13.997Z"
   },
   {
    "duration": 55,
    "start_time": "2021-12-06T11:07:57.703Z"
   },
   {
    "duration": 57,
    "start_time": "2021-12-06T11:08:30.666Z"
   },
   {
    "duration": 96,
    "start_time": "2021-12-06T11:09:00.952Z"
   },
   {
    "duration": 63,
    "start_time": "2021-12-06T11:09:52.056Z"
   },
   {
    "duration": 57,
    "start_time": "2021-12-06T11:10:30.926Z"
   },
   {
    "duration": 58,
    "start_time": "2021-12-06T11:12:36.351Z"
   },
   {
    "duration": 117,
    "start_time": "2021-12-06T11:29:55.301Z"
   },
   {
    "duration": 141,
    "start_time": "2021-12-06T11:30:50.165Z"
   },
   {
    "duration": 100,
    "start_time": "2021-12-06T11:32:15.678Z"
   },
   {
    "duration": 284,
    "start_time": "2021-12-06T11:32:42.516Z"
   },
   {
    "duration": 348,
    "start_time": "2021-12-06T11:33:27.809Z"
   },
   {
    "duration": 299,
    "start_time": "2021-12-06T11:37:26.611Z"
   },
   {
    "duration": 369,
    "start_time": "2021-12-06T11:39:02.186Z"
   },
   {
    "duration": 365,
    "start_time": "2021-12-06T11:39:32.162Z"
   },
   {
    "duration": 301,
    "start_time": "2021-12-06T11:41:32.254Z"
   },
   {
    "duration": 610,
    "start_time": "2021-12-06T11:41:41.473Z"
   },
   {
    "duration": 700,
    "start_time": "2021-12-06T11:42:19.352Z"
   },
   {
    "duration": 648,
    "start_time": "2021-12-06T11:42:46.561Z"
   },
   {
    "duration": 632,
    "start_time": "2021-12-06T11:44:18.599Z"
   },
   {
    "duration": 651,
    "start_time": "2021-12-06T11:44:49.183Z"
   },
   {
    "duration": 665,
    "start_time": "2021-12-06T11:45:00.108Z"
   },
   {
    "duration": 644,
    "start_time": "2021-12-06T11:46:10.822Z"
   },
   {
    "duration": 671,
    "start_time": "2021-12-06T11:47:14.198Z"
   },
   {
    "duration": 630,
    "start_time": "2021-12-06T11:48:58.596Z"
   },
   {
    "duration": 674,
    "start_time": "2021-12-06T11:53:24.773Z"
   },
   {
    "duration": 832,
    "start_time": "2021-12-06T11:54:52.836Z"
   },
   {
    "duration": 803,
    "start_time": "2021-12-06T11:55:52.547Z"
   },
   {
    "duration": 810,
    "start_time": "2021-12-06T11:56:26.942Z"
   },
   {
    "duration": 894,
    "start_time": "2021-12-06T11:58:29.446Z"
   },
   {
    "duration": 80,
    "start_time": "2021-12-06T11:59:12.677Z"
   },
   {
    "duration": 11,
    "start_time": "2021-12-06T11:59:12.768Z"
   },
   {
    "duration": 20,
    "start_time": "2021-12-06T11:59:12.782Z"
   },
   {
    "duration": 14,
    "start_time": "2021-12-06T11:59:12.804Z"
   },
   {
    "duration": 7,
    "start_time": "2021-12-06T11:59:12.820Z"
   },
   {
    "duration": 31,
    "start_time": "2021-12-06T11:59:12.868Z"
   },
   {
    "duration": 33,
    "start_time": "2021-12-06T11:59:12.901Z"
   },
   {
    "duration": 36,
    "start_time": "2021-12-06T11:59:12.968Z"
   },
   {
    "duration": 17,
    "start_time": "2021-12-06T11:59:13.007Z"
   },
   {
    "duration": 54,
    "start_time": "2021-12-06T11:59:13.027Z"
   },
   {
    "duration": 19,
    "start_time": "2021-12-06T11:59:13.083Z"
   },
   {
    "duration": 93,
    "start_time": "2021-12-06T11:59:13.104Z"
   },
   {
    "duration": 67,
    "start_time": "2021-12-06T11:59:13.200Z"
   },
   {
    "duration": 1030,
    "start_time": "2021-12-06T11:59:13.270Z"
   },
   {
    "duration": 5103,
    "start_time": "2021-12-06T11:59:14.304Z"
   },
   {
    "duration": 60,
    "start_time": "2021-12-06T11:59:19.409Z"
   },
   {
    "duration": 53,
    "start_time": "2021-12-06T11:59:19.471Z"
   },
   {
    "duration": 947,
    "start_time": "2021-12-06T11:59:19.526Z"
   },
   {
    "duration": 45,
    "start_time": "2021-12-06T11:59:20.476Z"
   },
   {
    "duration": 932,
    "start_time": "2021-12-06T12:13:09.345Z"
   },
   {
    "duration": 77,
    "start_time": "2021-12-06T12:17:07.418Z"
   },
   {
    "duration": 10,
    "start_time": "2021-12-06T12:17:07.498Z"
   },
   {
    "duration": 23,
    "start_time": "2021-12-06T12:17:07.512Z"
   },
   {
    "duration": 12,
    "start_time": "2021-12-06T12:17:07.567Z"
   },
   {
    "duration": 10,
    "start_time": "2021-12-06T12:17:07.582Z"
   },
   {
    "duration": 77,
    "start_time": "2021-12-06T12:17:07.595Z"
   },
   {
    "duration": 36,
    "start_time": "2021-12-06T12:17:07.675Z"
   },
   {
    "duration": 61,
    "start_time": "2021-12-06T12:17:07.715Z"
   },
   {
    "duration": 16,
    "start_time": "2021-12-06T12:17:07.782Z"
   },
   {
    "duration": 22,
    "start_time": "2021-12-06T12:17:07.802Z"
   },
   {
    "duration": 53,
    "start_time": "2021-12-06T12:17:07.827Z"
   },
   {
    "duration": 90,
    "start_time": "2021-12-06T12:17:07.883Z"
   },
   {
    "duration": 50,
    "start_time": "2021-12-06T12:17:07.977Z"
   },
   {
    "duration": 1037,
    "start_time": "2021-12-06T12:17:08.030Z"
   },
   {
    "duration": 4945,
    "start_time": "2021-12-06T12:17:09.070Z"
   },
   {
    "duration": 58,
    "start_time": "2021-12-06T12:17:14.017Z"
   },
   {
    "duration": 51,
    "start_time": "2021-12-06T12:17:14.077Z"
   },
   {
    "duration": 973,
    "start_time": "2021-12-06T12:17:14.130Z"
   },
   {
    "duration": 77,
    "start_time": "2021-12-06T12:17:15.106Z"
   },
   {
    "duration": 661,
    "start_time": "2021-12-06T18:08:05.049Z"
   },
   {
    "duration": 6,
    "start_time": "2021-12-06T18:08:05.712Z"
   },
   {
    "duration": 30,
    "start_time": "2021-12-06T18:08:05.720Z"
   },
   {
    "duration": 31,
    "start_time": "2021-12-06T18:08:05.753Z"
   },
   {
    "duration": 15,
    "start_time": "2021-12-06T18:08:05.785Z"
   },
   {
    "duration": 37,
    "start_time": "2021-12-06T18:08:05.801Z"
   },
   {
    "duration": 21,
    "start_time": "2021-12-06T18:08:05.840Z"
   },
   {
    "duration": 32,
    "start_time": "2021-12-06T18:08:05.864Z"
   },
   {
    "duration": 10,
    "start_time": "2021-12-06T18:08:05.898Z"
   },
   {
    "duration": 31,
    "start_time": "2021-12-06T18:08:05.909Z"
   },
   {
    "duration": 17,
    "start_time": "2021-12-06T18:08:05.942Z"
   },
   {
    "duration": 61,
    "start_time": "2021-12-06T18:08:05.961Z"
   },
   {
    "duration": 4,
    "start_time": "2021-12-06T18:08:06.024Z"
   },
   {
    "duration": -5,
    "start_time": "2021-12-06T18:08:06.034Z"
   },
   {
    "duration": -15,
    "start_time": "2021-12-06T18:08:06.045Z"
   },
   {
    "duration": -17,
    "start_time": "2021-12-06T18:08:06.049Z"
   },
   {
    "duration": -29,
    "start_time": "2021-12-06T18:08:06.062Z"
   },
   {
    "duration": -33,
    "start_time": "2021-12-06T18:08:06.066Z"
   },
   {
    "duration": -35,
    "start_time": "2021-12-06T18:08:06.069Z"
   },
   {
    "duration": 54,
    "start_time": "2021-12-06T18:09:33.022Z"
   },
   {
    "duration": 6,
    "start_time": "2021-12-06T18:09:33.078Z"
   },
   {
    "duration": 23,
    "start_time": "2021-12-06T18:09:33.086Z"
   },
   {
    "duration": 21,
    "start_time": "2021-12-06T18:09:33.111Z"
   },
   {
    "duration": 30,
    "start_time": "2021-12-06T18:09:33.133Z"
   },
   {
    "duration": 37,
    "start_time": "2021-12-06T18:09:33.165Z"
   },
   {
    "duration": 28,
    "start_time": "2021-12-06T18:09:33.204Z"
   },
   {
    "duration": 35,
    "start_time": "2021-12-06T18:09:33.234Z"
   },
   {
    "duration": 13,
    "start_time": "2021-12-06T18:09:33.271Z"
   },
   {
    "duration": 13,
    "start_time": "2021-12-06T18:09:33.286Z"
   },
   {
    "duration": 21,
    "start_time": "2021-12-06T18:09:33.300Z"
   },
   {
    "duration": 56,
    "start_time": "2021-12-06T18:09:33.323Z"
   },
   {
    "duration": 1841,
    "start_time": "2021-12-06T18:09:33.380Z"
   },
   {
    "duration": 657,
    "start_time": "2021-12-06T18:09:35.222Z"
   },
   {
    "duration": 3564,
    "start_time": "2021-12-06T18:09:35.881Z"
   },
   {
    "duration": 28,
    "start_time": "2021-12-06T18:09:39.447Z"
   },
   {
    "duration": 34,
    "start_time": "2021-12-06T18:09:39.477Z"
   },
   {
    "duration": 547,
    "start_time": "2021-12-06T18:09:39.513Z"
   },
   {
    "duration": 28,
    "start_time": "2021-12-06T18:09:40.062Z"
   },
   {
    "duration": 58,
    "start_time": "2021-12-06T18:10:35.098Z"
   },
   {
    "duration": 5,
    "start_time": "2021-12-06T18:10:35.158Z"
   },
   {
    "duration": 15,
    "start_time": "2021-12-06T18:10:35.165Z"
   },
   {
    "duration": 8,
    "start_time": "2021-12-06T18:10:35.181Z"
   },
   {
    "duration": 6,
    "start_time": "2021-12-06T18:10:35.191Z"
   },
   {
    "duration": 53,
    "start_time": "2021-12-06T18:10:35.199Z"
   },
   {
    "duration": 22,
    "start_time": "2021-12-06T18:10:35.254Z"
   },
   {
    "duration": 21,
    "start_time": "2021-12-06T18:10:35.279Z"
   },
   {
    "duration": 10,
    "start_time": "2021-12-06T18:10:35.302Z"
   },
   {
    "duration": 40,
    "start_time": "2021-12-06T18:10:35.314Z"
   },
   {
    "duration": 13,
    "start_time": "2021-12-06T18:10:35.356Z"
   },
   {
    "duration": 43,
    "start_time": "2021-12-06T18:10:35.371Z"
   },
   {
    "duration": 48,
    "start_time": "2021-12-06T18:10:39.109Z"
   },
   {
    "duration": 60,
    "start_time": "2021-12-06T18:11:25.344Z"
   },
   {
    "duration": 5,
    "start_time": "2021-12-06T18:11:25.406Z"
   },
   {
    "duration": 14,
    "start_time": "2021-12-06T18:11:25.414Z"
   },
   {
    "duration": 22,
    "start_time": "2021-12-06T18:11:25.430Z"
   },
   {
    "duration": 5,
    "start_time": "2021-12-06T18:11:25.453Z"
   },
   {
    "duration": 23,
    "start_time": "2021-12-06T18:11:25.460Z"
   },
   {
    "duration": 22,
    "start_time": "2021-12-06T18:11:25.485Z"
   },
   {
    "duration": 56,
    "start_time": "2021-12-06T18:11:25.509Z"
   },
   {
    "duration": 13,
    "start_time": "2021-12-06T18:11:25.568Z"
   },
   {
    "duration": 17,
    "start_time": "2021-12-06T18:11:25.583Z"
   },
   {
    "duration": 45,
    "start_time": "2021-12-06T18:11:25.602Z"
   },
   {
    "duration": 44,
    "start_time": "2021-12-06T18:11:25.649Z"
   },
   {
    "duration": 45,
    "start_time": "2021-12-06T18:11:30.215Z"
   },
   {
    "duration": 57,
    "start_time": "2021-12-06T18:59:06.027Z"
   },
   {
    "duration": 6,
    "start_time": "2021-12-06T18:59:06.087Z"
   },
   {
    "duration": 36,
    "start_time": "2021-12-06T18:59:06.095Z"
   },
   {
    "duration": 24,
    "start_time": "2021-12-06T18:59:06.133Z"
   },
   {
    "duration": 26,
    "start_time": "2021-12-06T18:59:06.158Z"
   },
   {
    "duration": 50,
    "start_time": "2021-12-06T18:59:06.186Z"
   },
   {
    "duration": 34,
    "start_time": "2021-12-06T18:59:06.238Z"
   },
   {
    "duration": 41,
    "start_time": "2021-12-06T18:59:06.274Z"
   },
   {
    "duration": 21,
    "start_time": "2021-12-06T18:59:06.317Z"
   },
   {
    "duration": 23,
    "start_time": "2021-12-06T18:59:06.340Z"
   },
   {
    "duration": 35,
    "start_time": "2021-12-06T18:59:06.365Z"
   },
   {
    "duration": 46,
    "start_time": "2021-12-06T18:59:06.402Z"
   },
   {
    "duration": 44,
    "start_time": "2021-12-06T18:59:06.450Z"
   },
   {
    "duration": 694,
    "start_time": "2021-12-06T18:59:06.496Z"
   },
   {
    "duration": 3996,
    "start_time": "2021-12-06T18:59:07.192Z"
   },
   {
    "duration": 30,
    "start_time": "2021-12-06T18:59:11.190Z"
   },
   {
    "duration": 51,
    "start_time": "2021-12-06T18:59:11.222Z"
   },
   {
    "duration": 528,
    "start_time": "2021-12-06T18:59:11.274Z"
   },
   {
    "duration": 27,
    "start_time": "2021-12-06T18:59:11.804Z"
   },
   {
    "duration": 60,
    "start_time": "2021-12-06T19:23:24.030Z"
   },
   {
    "duration": 6,
    "start_time": "2021-12-06T19:23:24.092Z"
   },
   {
    "duration": 20,
    "start_time": "2021-12-06T19:23:24.100Z"
   },
   {
    "duration": 13,
    "start_time": "2021-12-06T19:23:24.122Z"
   },
   {
    "duration": 8,
    "start_time": "2021-12-06T19:23:24.144Z"
   },
   {
    "duration": 21,
    "start_time": "2021-12-06T19:23:24.153Z"
   },
   {
    "duration": 20,
    "start_time": "2021-12-06T19:23:24.176Z"
   },
   {
    "duration": 19,
    "start_time": "2021-12-06T19:23:24.198Z"
   },
   {
    "duration": 33,
    "start_time": "2021-12-06T19:23:24.220Z"
   },
   {
    "duration": 14,
    "start_time": "2021-12-06T19:23:24.255Z"
   },
   {
    "duration": 10,
    "start_time": "2021-12-06T19:23:24.270Z"
   },
   {
    "duration": 68,
    "start_time": "2021-12-06T19:23:24.282Z"
   },
   {
    "duration": 52,
    "start_time": "2021-12-06T19:23:24.352Z"
   },
   {
    "duration": 691,
    "start_time": "2021-12-06T19:23:24.406Z"
   },
   {
    "duration": 3894,
    "start_time": "2021-12-06T19:23:25.099Z"
   },
   {
    "duration": 30,
    "start_time": "2021-12-06T19:23:28.994Z"
   },
   {
    "duration": 54,
    "start_time": "2021-12-06T19:23:29.025Z"
   },
   {
    "duration": 572,
    "start_time": "2021-12-06T19:23:29.081Z"
   },
   {
    "duration": 26,
    "start_time": "2021-12-06T19:23:29.655Z"
   },
   {
    "duration": 599,
    "start_time": "2021-12-08T12:42:37.839Z"
   },
   {
    "duration": 89,
    "start_time": "2021-12-08T12:42:38.440Z"
   },
   {
    "duration": 6,
    "start_time": "2021-12-08T12:42:38.531Z"
   },
   {
    "duration": 15,
    "start_time": "2021-12-08T12:42:38.538Z"
   },
   {
    "duration": 10,
    "start_time": "2021-12-08T12:42:38.555Z"
   },
   {
    "duration": 26,
    "start_time": "2021-12-08T12:42:38.566Z"
   },
   {
    "duration": 28,
    "start_time": "2021-12-08T12:42:38.594Z"
   },
   {
    "duration": 21,
    "start_time": "2021-12-08T12:42:38.625Z"
   },
   {
    "duration": 50,
    "start_time": "2021-12-08T12:42:38.648Z"
   },
   {
    "duration": 12,
    "start_time": "2021-12-08T12:42:38.699Z"
   },
   {
    "duration": 21,
    "start_time": "2021-12-08T12:42:38.712Z"
   },
   {
    "duration": 10,
    "start_time": "2021-12-08T12:42:38.735Z"
   },
   {
    "duration": 83,
    "start_time": "2021-12-08T12:42:38.747Z"
   },
   {
    "duration": 61,
    "start_time": "2021-12-08T12:42:38.831Z"
   },
   {
    "duration": 249,
    "start_time": "2021-12-08T12:42:38.894Z"
   },
   {
    "duration": 20,
    "start_time": "2021-12-08T12:42:39.125Z"
   },
   {
    "duration": 15,
    "start_time": "2021-12-08T12:42:39.131Z"
   },
   {
    "duration": -1,
    "start_time": "2021-12-08T12:42:39.148Z"
   },
   {
    "duration": -14,
    "start_time": "2021-12-08T12:42:39.161Z"
   },
   {
    "duration": -19,
    "start_time": "2021-12-08T12:42:39.167Z"
   },
   {
    "duration": 254,
    "start_time": "2021-12-08T12:44:42.679Z"
   },
   {
    "duration": 84,
    "start_time": "2021-12-08T12:44:48.943Z"
   },
   {
    "duration": 82,
    "start_time": "2021-12-08T12:45:18.193Z"
   },
   {
    "duration": 90,
    "start_time": "2021-12-08T12:46:01.856Z"
   },
   {
    "duration": 88,
    "start_time": "2021-12-08T12:47:43.204Z"
   },
   {
    "duration": 83,
    "start_time": "2021-12-08T12:48:39.831Z"
   },
   {
    "duration": 12,
    "start_time": "2021-12-08T12:49:26.737Z"
   },
   {
    "duration": 6,
    "start_time": "2021-12-08T12:49:55.175Z"
   },
   {
    "duration": 82,
    "start_time": "2021-12-08T12:50:23.002Z"
   },
   {
    "duration": 91,
    "start_time": "2021-12-08T12:50:45.051Z"
   },
   {
    "duration": 12,
    "start_time": "2021-12-08T12:55:35.750Z"
   },
   {
    "duration": 2,
    "start_time": "2021-12-08T13:04:16.420Z"
   },
   {
    "duration": 47,
    "start_time": "2021-12-08T13:10:52.652Z"
   },
   {
    "duration": 62,
    "start_time": "2021-12-08T13:17:32.443Z"
   },
   {
    "duration": 63,
    "start_time": "2021-12-08T13:17:42.771Z"
   },
   {
    "duration": 66,
    "start_time": "2021-12-08T13:17:51.989Z"
   },
   {
    "duration": -123,
    "start_time": "2021-12-08T13:17:52.180Z"
   },
   {
    "duration": -129,
    "start_time": "2021-12-08T13:17:52.187Z"
   },
   {
    "duration": -133,
    "start_time": "2021-12-08T13:17:52.192Z"
   },
   {
    "duration": -134,
    "start_time": "2021-12-08T13:17:52.194Z"
   },
   {
    "duration": -138,
    "start_time": "2021-12-08T13:17:52.199Z"
   },
   {
    "duration": -142,
    "start_time": "2021-12-08T13:17:52.204Z"
   },
   {
    "duration": -145,
    "start_time": "2021-12-08T13:17:52.208Z"
   },
   {
    "duration": -147,
    "start_time": "2021-12-08T13:17:52.211Z"
   },
   {
    "duration": -150,
    "start_time": "2021-12-08T13:17:52.215Z"
   },
   {
    "duration": -154,
    "start_time": "2021-12-08T13:17:52.219Z"
   },
   {
    "duration": -158,
    "start_time": "2021-12-08T13:17:52.224Z"
   },
   {
    "duration": 11,
    "start_time": "2021-12-08T13:17:52.067Z"
   },
   {
    "duration": 36,
    "start_time": "2021-12-08T13:17:52.080Z"
   },
   {
    "duration": 39,
    "start_time": "2021-12-08T13:17:52.117Z"
   },
   {
    "duration": 177,
    "start_time": "2021-12-08T13:17:52.158Z"
   },
   {
    "duration": -94,
    "start_time": "2021-12-08T13:17:52.431Z"
   },
   {
    "duration": -103,
    "start_time": "2021-12-08T13:17:52.441Z"
   },
   {
    "duration": -107,
    "start_time": "2021-12-08T13:17:52.446Z"
   },
   {
    "duration": -113,
    "start_time": "2021-12-08T13:17:52.453Z"
   },
   {
    "duration": -115,
    "start_time": "2021-12-08T13:17:52.456Z"
   },
   {
    "duration": 66,
    "start_time": "2021-12-08T13:18:35.940Z"
   },
   {
    "duration": 60,
    "start_time": "2021-12-08T13:18:47.316Z"
   },
   {
    "duration": 109,
    "start_time": "2021-12-08T13:18:56.983Z"
   },
   {
    "duration": 82,
    "start_time": "2021-12-08T13:26:30.970Z"
   },
   {
    "duration": 2,
    "start_time": "2021-12-08T13:28:38.663Z"
   },
   {
    "duration": 5,
    "start_time": "2021-12-08T13:29:06.798Z"
   },
   {
    "duration": 6,
    "start_time": "2021-12-08T13:29:16.194Z"
   },
   {
    "duration": 46,
    "start_time": "2021-12-08T13:29:29.587Z"
   },
   {
    "duration": 23,
    "start_time": "2021-12-08T13:29:48.800Z"
   },
   {
    "duration": 31,
    "start_time": "2021-12-08T13:29:57.417Z"
   },
   {
    "duration": 38,
    "start_time": "2021-12-08T13:31:09.596Z"
   },
   {
    "duration": 3,
    "start_time": "2021-12-08T13:34:43.744Z"
   },
   {
    "duration": 84,
    "start_time": "2021-12-08T13:34:43.751Z"
   },
   {
    "duration": 5,
    "start_time": "2021-12-08T13:34:43.837Z"
   },
   {
    "duration": 11,
    "start_time": "2021-12-08T13:34:43.844Z"
   },
   {
    "duration": 3,
    "start_time": "2021-12-08T13:34:43.857Z"
   },
   {
    "duration": 32,
    "start_time": "2021-12-08T13:34:43.861Z"
   },
   {
    "duration": 46,
    "start_time": "2021-12-08T13:34:43.895Z"
   },
   {
    "duration": 21,
    "start_time": "2021-12-08T13:34:43.942Z"
   },
   {
    "duration": 41,
    "start_time": "2021-12-08T13:34:43.966Z"
   },
   {
    "duration": 10,
    "start_time": "2021-12-08T13:34:44.009Z"
   },
   {
    "duration": 12,
    "start_time": "2021-12-08T13:34:44.020Z"
   },
   {
    "duration": 10,
    "start_time": "2021-12-08T13:34:44.033Z"
   },
   {
    "duration": 68,
    "start_time": "2021-12-08T13:34:44.044Z"
   },
   {
    "duration": 38,
    "start_time": "2021-12-08T13:34:44.113Z"
   },
   {
    "duration": 171,
    "start_time": "2021-12-08T13:34:44.153Z"
   },
   {
    "duration": -14,
    "start_time": "2021-12-08T13:34:44.340Z"
   },
   {
    "duration": -19,
    "start_time": "2021-12-08T13:34:44.346Z"
   },
   {
    "duration": -21,
    "start_time": "2021-12-08T13:34:44.349Z"
   },
   {
    "duration": -23,
    "start_time": "2021-12-08T13:34:44.352Z"
   },
   {
    "duration": -28,
    "start_time": "2021-12-08T13:34:44.358Z"
   },
   {
    "duration": 6,
    "start_time": "2021-12-08T13:36:51.613Z"
   },
   {
    "duration": 7,
    "start_time": "2021-12-08T13:36:55.748Z"
   },
   {
    "duration": 2,
    "start_time": "2021-12-08T13:37:04.364Z"
   },
   {
    "duration": 5,
    "start_time": "2021-12-08T13:37:25.405Z"
   },
   {
    "duration": 13,
    "start_time": "2021-12-08T13:40:01.219Z"
   },
   {
    "duration": 10,
    "start_time": "2021-12-08T13:41:53.919Z"
   },
   {
    "duration": 36,
    "start_time": "2021-12-08T13:44:10.946Z"
   },
   {
    "duration": 23,
    "start_time": "2021-12-08T13:49:22.927Z"
   },
   {
    "duration": 16,
    "start_time": "2021-12-08T13:49:37.615Z"
   },
   {
    "duration": 21,
    "start_time": "2021-12-08T13:49:48.598Z"
   },
   {
    "duration": 22,
    "start_time": "2021-12-08T13:50:27.023Z"
   },
   {
    "duration": 24,
    "start_time": "2021-12-08T13:50:33.196Z"
   },
   {
    "duration": 669,
    "start_time": "2021-12-08T13:52:05.086Z"
   },
   {
    "duration": 3315,
    "start_time": "2021-12-08T13:52:59.546Z"
   },
   {
    "duration": 320,
    "start_time": "2021-12-08T14:06:31.577Z"
   },
   {
    "duration": 26,
    "start_time": "2021-12-08T14:11:13.118Z"
   },
   {
    "duration": 27,
    "start_time": "2021-12-08T14:11:39.748Z"
   },
   {
    "duration": 3,
    "start_time": "2021-12-08T14:11:46.490Z"
   },
   {
    "duration": 86,
    "start_time": "2021-12-08T14:11:46.495Z"
   },
   {
    "duration": 11,
    "start_time": "2021-12-08T14:11:46.583Z"
   },
   {
    "duration": 12,
    "start_time": "2021-12-08T14:11:46.596Z"
   },
   {
    "duration": 5,
    "start_time": "2021-12-08T14:11:46.610Z"
   },
   {
    "duration": 8,
    "start_time": "2021-12-08T14:11:46.617Z"
   },
   {
    "duration": 9,
    "start_time": "2021-12-08T14:11:46.626Z"
   },
   {
    "duration": 12,
    "start_time": "2021-12-08T14:11:46.636Z"
   },
   {
    "duration": 57,
    "start_time": "2021-12-08T14:11:46.650Z"
   },
   {
    "duration": 21,
    "start_time": "2021-12-08T14:11:46.709Z"
   },
   {
    "duration": 20,
    "start_time": "2021-12-08T14:11:46.732Z"
   },
   {
    "duration": 10,
    "start_time": "2021-12-08T14:11:46.754Z"
   },
   {
    "duration": 35,
    "start_time": "2021-12-08T14:11:46.766Z"
   },
   {
    "duration": 11,
    "start_time": "2021-12-08T14:11:46.803Z"
   },
   {
    "duration": 19,
    "start_time": "2021-12-08T14:11:46.816Z"
   },
   {
    "duration": 21,
    "start_time": "2021-12-08T14:11:46.836Z"
   },
   {
    "duration": 69,
    "start_time": "2021-12-08T14:11:46.859Z"
   },
   {
    "duration": 674,
    "start_time": "2021-12-08T14:11:46.929Z"
   },
   {
    "duration": 3325,
    "start_time": "2021-12-08T14:11:47.605Z"
   },
   {
    "duration": 41,
    "start_time": "2021-12-08T14:11:50.963Z"
   },
   {
    "duration": 306,
    "start_time": "2021-12-08T14:12:35.675Z"
   },
   {
    "duration": 477,
    "start_time": "2021-12-08T14:13:41.134Z"
   },
   {
    "duration": 3,
    "start_time": "2021-12-08T14:14:09.973Z"
   },
   {
    "duration": 94,
    "start_time": "2021-12-08T14:14:09.978Z"
   },
   {
    "duration": 7,
    "start_time": "2021-12-08T14:14:10.074Z"
   },
   {
    "duration": 25,
    "start_time": "2021-12-08T14:14:10.083Z"
   },
   {
    "duration": 4,
    "start_time": "2021-12-08T14:14:10.110Z"
   },
   {
    "duration": 11,
    "start_time": "2021-12-08T14:14:10.116Z"
   },
   {
    "duration": 9,
    "start_time": "2021-12-08T14:14:10.129Z"
   },
   {
    "duration": 10,
    "start_time": "2021-12-08T14:14:10.140Z"
   },
   {
    "duration": 49,
    "start_time": "2021-12-08T14:14:10.153Z"
   },
   {
    "duration": 21,
    "start_time": "2021-12-08T14:14:10.204Z"
   },
   {
    "duration": 20,
    "start_time": "2021-12-08T14:14:10.226Z"
   },
   {
    "duration": 9,
    "start_time": "2021-12-08T14:14:10.248Z"
   },
   {
    "duration": 40,
    "start_time": "2021-12-08T14:14:10.258Z"
   },
   {
    "duration": 10,
    "start_time": "2021-12-08T14:14:10.300Z"
   },
   {
    "duration": 20,
    "start_time": "2021-12-08T14:14:10.311Z"
   },
   {
    "duration": 20,
    "start_time": "2021-12-08T14:14:10.333Z"
   },
   {
    "duration": 66,
    "start_time": "2021-12-08T14:14:10.355Z"
   },
   {
    "duration": 661,
    "start_time": "2021-12-08T14:14:10.423Z"
   },
   {
    "duration": 3334,
    "start_time": "2021-12-08T14:14:11.086Z"
   },
   {
    "duration": 304,
    "start_time": "2021-12-08T14:14:14.423Z"
   },
   {
    "duration": 10,
    "start_time": "2021-12-08T16:27:59.133Z"
   },
   {
    "duration": 528,
    "start_time": "2021-12-08T16:43:40.176Z"
   },
   {
    "duration": 665,
    "start_time": "2021-12-08T17:15:19.817Z"
   },
   {
    "duration": 482,
    "start_time": "2021-12-08T17:16:40.229Z"
   },
   {
    "duration": 2,
    "start_time": "2021-12-08T17:16:46.423Z"
   },
   {
    "duration": 87,
    "start_time": "2021-12-08T17:16:46.428Z"
   },
   {
    "duration": 7,
    "start_time": "2021-12-08T17:16:46.518Z"
   },
   {
    "duration": 13,
    "start_time": "2021-12-08T17:16:46.527Z"
   },
   {
    "duration": 3,
    "start_time": "2021-12-08T17:16:46.542Z"
   },
   {
    "duration": 14,
    "start_time": "2021-12-08T17:16:46.547Z"
   },
   {
    "duration": 37,
    "start_time": "2021-12-08T17:16:46.564Z"
   },
   {
    "duration": 11,
    "start_time": "2021-12-08T17:16:46.603Z"
   },
   {
    "duration": 48,
    "start_time": "2021-12-08T17:16:46.616Z"
   },
   {
    "duration": 29,
    "start_time": "2021-12-08T17:16:46.666Z"
   },
   {
    "duration": 20,
    "start_time": "2021-12-08T17:16:46.697Z"
   },
   {
    "duration": 9,
    "start_time": "2021-12-08T17:16:46.719Z"
   },
   {
    "duration": 14,
    "start_time": "2021-12-08T17:16:46.730Z"
   },
   {
    "duration": 16,
    "start_time": "2021-12-08T17:16:46.745Z"
   },
   {
    "duration": 41,
    "start_time": "2021-12-08T17:16:46.762Z"
   },
   {
    "duration": 26,
    "start_time": "2021-12-08T17:16:46.804Z"
   },
   {
    "duration": 49,
    "start_time": "2021-12-08T17:16:46.831Z"
   },
   {
    "duration": 688,
    "start_time": "2021-12-08T17:16:46.881Z"
   },
   {
    "duration": 3439,
    "start_time": "2021-12-08T17:16:47.572Z"
   },
   {
    "duration": 312,
    "start_time": "2021-12-08T17:16:51.012Z"
   },
   {
    "duration": 32,
    "start_time": "2021-12-08T17:16:51.325Z"
   },
   {
    "duration": 538,
    "start_time": "2021-12-08T17:16:51.358Z"
   },
   {
    "duration": 27,
    "start_time": "2021-12-08T17:16:51.897Z"
   },
   {
    "duration": 32,
    "start_time": "2021-12-08T17:17:06.892Z"
   },
   {
    "duration": 504,
    "start_time": "2021-12-08T17:17:21.133Z"
   },
   {
    "duration": 31,
    "start_time": "2021-12-08T17:17:37.494Z"
   },
   {
    "duration": 473,
    "start_time": "2021-12-08T17:18:07.464Z"
   },
   {
    "duration": 501,
    "start_time": "2021-12-08T17:18:10.726Z"
   },
   {
    "duration": 466,
    "start_time": "2021-12-08T17:18:18.403Z"
   },
   {
    "duration": 3,
    "start_time": "2021-12-08T17:18:24.059Z"
   },
   {
    "duration": 86,
    "start_time": "2021-12-08T17:18:24.064Z"
   },
   {
    "duration": 6,
    "start_time": "2021-12-08T17:18:24.152Z"
   },
   {
    "duration": 11,
    "start_time": "2021-12-08T17:18:24.160Z"
   },
   {
    "duration": 2,
    "start_time": "2021-12-08T17:18:24.191Z"
   },
   {
    "duration": 7,
    "start_time": "2021-12-08T17:18:24.195Z"
   },
   {
    "duration": 10,
    "start_time": "2021-12-08T17:18:24.205Z"
   },
   {
    "duration": 7,
    "start_time": "2021-12-08T17:18:24.217Z"
   },
   {
    "duration": 38,
    "start_time": "2021-12-08T17:18:24.225Z"
   },
   {
    "duration": 47,
    "start_time": "2021-12-08T17:18:24.264Z"
   },
   {
    "duration": 22,
    "start_time": "2021-12-08T17:18:24.313Z"
   },
   {
    "duration": 10,
    "start_time": "2021-12-08T17:18:24.336Z"
   },
   {
    "duration": 14,
    "start_time": "2021-12-08T17:18:24.348Z"
   },
   {
    "duration": 10,
    "start_time": "2021-12-08T17:18:24.392Z"
   },
   {
    "duration": 20,
    "start_time": "2021-12-08T17:18:24.403Z"
   },
   {
    "duration": 21,
    "start_time": "2021-12-08T17:18:24.425Z"
   },
   {
    "duration": 69,
    "start_time": "2021-12-08T17:18:24.447Z"
   },
   {
    "duration": 676,
    "start_time": "2021-12-08T17:18:24.518Z"
   },
   {
    "duration": 3599,
    "start_time": "2021-12-08T17:18:25.197Z"
   },
   {
    "duration": 311,
    "start_time": "2021-12-08T17:18:28.798Z"
   },
   {
    "duration": 28,
    "start_time": "2021-12-08T17:18:29.111Z"
   },
   {
    "duration": 531,
    "start_time": "2021-12-08T17:18:29.140Z"
   },
   {
    "duration": 37,
    "start_time": "2021-12-08T17:18:29.672Z"
   },
   {
    "duration": 5,
    "start_time": "2021-12-08T17:23:23.008Z"
   },
   {
    "duration": 79,
    "start_time": "2021-12-08T17:28:42.961Z"
   },
   {
    "duration": 20,
    "start_time": "2021-12-08T17:34:43.564Z"
   },
   {
    "duration": 2,
    "start_time": "2021-12-08T17:51:25.641Z"
   },
   {
    "duration": 86,
    "start_time": "2021-12-08T17:51:25.645Z"
   },
   {
    "duration": 7,
    "start_time": "2021-12-08T17:51:25.733Z"
   },
   {
    "duration": 12,
    "start_time": "2021-12-08T17:51:25.741Z"
   },
   {
    "duration": 3,
    "start_time": "2021-12-08T17:51:25.755Z"
   },
   {
    "duration": 34,
    "start_time": "2021-12-08T17:51:25.760Z"
   },
   {
    "duration": 10,
    "start_time": "2021-12-08T17:51:25.797Z"
   },
   {
    "duration": 8,
    "start_time": "2021-12-08T17:51:25.808Z"
   },
   {
    "duration": 35,
    "start_time": "2021-12-08T17:51:25.818Z"
   },
   {
    "duration": 47,
    "start_time": "2021-12-08T17:51:25.855Z"
   },
   {
    "duration": 20,
    "start_time": "2021-12-08T17:51:25.903Z"
   },
   {
    "duration": 12,
    "start_time": "2021-12-08T17:51:25.925Z"
   },
   {
    "duration": 13,
    "start_time": "2021-12-08T17:51:25.938Z"
   },
   {
    "duration": 47,
    "start_time": "2021-12-08T17:51:25.953Z"
   },
   {
    "duration": 20,
    "start_time": "2021-12-08T17:51:26.001Z"
   },
   {
    "duration": 21,
    "start_time": "2021-12-08T17:51:26.023Z"
   },
   {
    "duration": 63,
    "start_time": "2021-12-08T17:51:26.045Z"
   },
   {
    "duration": 692,
    "start_time": "2021-12-08T17:51:26.110Z"
   },
   {
    "duration": 3617,
    "start_time": "2021-12-08T17:51:26.805Z"
   },
   {
    "duration": 311,
    "start_time": "2021-12-08T17:51:30.424Z"
   },
   {
    "duration": 33,
    "start_time": "2021-12-08T17:51:30.738Z"
   },
   {
    "duration": 533,
    "start_time": "2021-12-08T17:51:30.772Z"
   },
   {
    "duration": 28,
    "start_time": "2021-12-08T17:51:31.307Z"
   },
   {
    "duration": 84,
    "start_time": "2021-12-08T17:54:23.663Z"
   },
   {
    "duration": 96,
    "start_time": "2021-12-08T18:04:51.534Z"
   },
   {
    "duration": 76,
    "start_time": "2021-12-08T18:05:10.410Z"
   },
   {
    "duration": 80,
    "start_time": "2021-12-08T18:05:34.563Z"
   },
   {
    "duration": 2,
    "start_time": "2021-12-08T18:06:09.319Z"
   },
   {
    "duration": 94,
    "start_time": "2021-12-08T18:06:09.324Z"
   },
   {
    "duration": 7,
    "start_time": "2021-12-08T18:06:09.421Z"
   },
   {
    "duration": 15,
    "start_time": "2021-12-08T18:06:09.430Z"
   },
   {
    "duration": 4,
    "start_time": "2021-12-08T18:06:09.447Z"
   },
   {
    "duration": 9,
    "start_time": "2021-12-08T18:06:09.453Z"
   },
   {
    "duration": 37,
    "start_time": "2021-12-08T18:06:09.464Z"
   },
   {
    "duration": 8,
    "start_time": "2021-12-08T18:06:09.504Z"
   },
   {
    "duration": 34,
    "start_time": "2021-12-08T18:06:09.515Z"
   },
   {
    "duration": 45,
    "start_time": "2021-12-08T18:06:09.551Z"
   },
   {
    "duration": 20,
    "start_time": "2021-12-08T18:06:09.598Z"
   },
   {
    "duration": 9,
    "start_time": "2021-12-08T18:06:09.620Z"
   },
   {
    "duration": 14,
    "start_time": "2021-12-08T18:06:09.631Z"
   },
   {
    "duration": 55,
    "start_time": "2021-12-08T18:06:09.646Z"
   },
   {
    "duration": 22,
    "start_time": "2021-12-08T18:06:09.702Z"
   },
   {
    "duration": 22,
    "start_time": "2021-12-08T18:06:09.726Z"
   },
   {
    "duration": 69,
    "start_time": "2021-12-08T18:06:09.750Z"
   },
   {
    "duration": 689,
    "start_time": "2021-12-08T18:06:09.821Z"
   },
   {
    "duration": 4139,
    "start_time": "2021-12-08T18:06:10.512Z"
   },
   {
    "duration": 319,
    "start_time": "2021-12-08T18:06:14.652Z"
   },
   {
    "duration": 38,
    "start_time": "2021-12-08T18:06:14.973Z"
   },
   {
    "duration": 535,
    "start_time": "2021-12-08T18:06:15.013Z"
   },
   {
    "duration": 28,
    "start_time": "2021-12-08T18:06:15.551Z"
   },
   {
    "duration": 12,
    "start_time": "2021-12-08T18:15:51.693Z"
   },
   {
    "duration": 3,
    "start_time": "2021-12-08T18:22:24.995Z"
   },
   {
    "duration": 88,
    "start_time": "2021-12-08T18:22:25.000Z"
   },
   {
    "duration": 6,
    "start_time": "2021-12-08T18:22:25.089Z"
   },
   {
    "duration": 13,
    "start_time": "2021-12-08T18:22:25.096Z"
   },
   {
    "duration": 6,
    "start_time": "2021-12-08T18:22:25.110Z"
   },
   {
    "duration": 10,
    "start_time": "2021-12-08T18:22:25.117Z"
   },
   {
    "duration": 10,
    "start_time": "2021-12-08T18:22:25.130Z"
   },
   {
    "duration": 9,
    "start_time": "2021-12-08T18:22:25.143Z"
   },
   {
    "duration": 72,
    "start_time": "2021-12-08T18:22:25.154Z"
   },
   {
    "duration": 23,
    "start_time": "2021-12-08T18:22:25.228Z"
   },
   {
    "duration": 47,
    "start_time": "2021-12-08T18:22:25.253Z"
   },
   {
    "duration": 21,
    "start_time": "2021-12-08T18:22:25.302Z"
   },
   {
    "duration": 21,
    "start_time": "2021-12-08T18:22:25.325Z"
   },
   {
    "duration": 57,
    "start_time": "2021-12-08T18:22:25.347Z"
   },
   {
    "duration": 11,
    "start_time": "2021-12-08T18:22:25.406Z"
   },
   {
    "duration": 14,
    "start_time": "2021-12-08T18:22:25.419Z"
   },
   {
    "duration": 70,
    "start_time": "2021-12-08T18:22:25.435Z"
   },
   {
    "duration": 686,
    "start_time": "2021-12-08T18:22:25.507Z"
   },
   {
    "duration": 3336,
    "start_time": "2021-12-08T18:22:26.197Z"
   },
   {
    "duration": 319,
    "start_time": "2021-12-08T18:22:29.535Z"
   },
   {
    "duration": 38,
    "start_time": "2021-12-08T18:22:29.856Z"
   },
   {
    "duration": 537,
    "start_time": "2021-12-08T18:22:29.896Z"
   },
   {
    "duration": 28,
    "start_time": "2021-12-08T18:22:30.435Z"
   },
   {
    "duration": 34,
    "start_time": "2021-12-08T18:24:52.611Z"
   },
   {
    "duration": 12,
    "start_time": "2021-12-08T18:26:05.158Z"
   },
   {
    "duration": 26,
    "start_time": "2021-12-08T18:40:09.054Z"
   },
   {
    "duration": 6,
    "start_time": "2021-12-08T18:41:30.993Z"
   },
   {
    "duration": 185,
    "start_time": "2021-12-08T18:41:49.690Z"
   },
   {
    "duration": 3,
    "start_time": "2021-12-08T18:42:36.747Z"
   },
   {
    "duration": 113,
    "start_time": "2021-12-08T18:42:36.751Z"
   },
   {
    "duration": 16,
    "start_time": "2021-12-08T18:42:36.867Z"
   },
   {
    "duration": 55,
    "start_time": "2021-12-08T18:42:36.886Z"
   },
   {
    "duration": 35,
    "start_time": "2021-12-08T18:42:36.943Z"
   },
   {
    "duration": 27,
    "start_time": "2021-12-08T18:42:36.981Z"
   },
   {
    "duration": 18,
    "start_time": "2021-12-08T18:42:37.010Z"
   },
   {
    "duration": 56,
    "start_time": "2021-12-08T18:42:37.032Z"
   },
   {
    "duration": 22,
    "start_time": "2021-12-08T18:42:37.090Z"
   },
   {
    "duration": 22,
    "start_time": "2021-12-08T18:42:37.114Z"
   },
   {
    "duration": 10,
    "start_time": "2021-12-08T18:42:37.138Z"
   },
   {
    "duration": 46,
    "start_time": "2021-12-08T18:42:37.150Z"
   },
   {
    "duration": 23,
    "start_time": "2021-12-08T18:42:37.197Z"
   },
   {
    "duration": 6,
    "start_time": "2021-12-08T18:42:37.222Z"
   },
   {
    "duration": 14,
    "start_time": "2021-12-08T18:42:37.230Z"
   },
   {
    "duration": 15,
    "start_time": "2021-12-08T18:42:37.245Z"
   },
   {
    "duration": 68,
    "start_time": "2021-12-08T18:42:37.261Z"
   },
   {
    "duration": 695,
    "start_time": "2021-12-08T18:42:37.330Z"
   },
   {
    "duration": 3881,
    "start_time": "2021-12-08T18:42:38.027Z"
   },
   {
    "duration": 345,
    "start_time": "2021-12-08T18:42:41.910Z"
   },
   {
    "duration": 37,
    "start_time": "2021-12-08T18:42:42.256Z"
   },
   {
    "duration": 555,
    "start_time": "2021-12-08T18:42:42.295Z"
   },
   {
    "duration": 41,
    "start_time": "2021-12-08T18:42:42.852Z"
   },
   {
    "duration": 184,
    "start_time": "2021-12-08T18:43:10.958Z"
   },
   {
    "duration": 3,
    "start_time": "2021-12-08T18:43:28.420Z"
   },
   {
    "duration": 84,
    "start_time": "2021-12-08T18:43:28.424Z"
   },
   {
    "duration": 6,
    "start_time": "2021-12-08T18:43:28.510Z"
   },
   {
    "duration": 13,
    "start_time": "2021-12-08T18:43:28.518Z"
   },
   {
    "duration": 3,
    "start_time": "2021-12-08T18:43:28.533Z"
   },
   {
    "duration": 12,
    "start_time": "2021-12-08T18:43:28.538Z"
   },
   {
    "duration": 7,
    "start_time": "2021-12-08T18:43:28.551Z"
   },
   {
    "duration": 59,
    "start_time": "2021-12-08T18:43:28.560Z"
   },
   {
    "duration": 22,
    "start_time": "2021-12-08T18:43:28.622Z"
   },
   {
    "duration": 22,
    "start_time": "2021-12-08T18:43:28.645Z"
   },
   {
    "duration": 31,
    "start_time": "2021-12-08T18:43:28.668Z"
   },
   {
    "duration": 20,
    "start_time": "2021-12-08T18:43:28.701Z"
   },
   {
    "duration": 24,
    "start_time": "2021-12-08T18:43:28.723Z"
   },
   {
    "duration": 13,
    "start_time": "2021-12-08T18:43:28.748Z"
   },
   {
    "duration": 37,
    "start_time": "2021-12-08T18:43:28.762Z"
   },
   {
    "duration": 26,
    "start_time": "2021-12-08T18:43:28.800Z"
   },
   {
    "duration": 35,
    "start_time": "2021-12-08T18:43:28.828Z"
   },
   {
    "duration": 674,
    "start_time": "2021-12-08T18:43:28.865Z"
   },
   {
    "duration": 3377,
    "start_time": "2021-12-08T18:43:29.541Z"
   },
   {
    "duration": 306,
    "start_time": "2021-12-08T18:43:32.919Z"
   },
   {
    "duration": 29,
    "start_time": "2021-12-08T18:43:33.227Z"
   },
   {
    "duration": 503,
    "start_time": "2021-12-08T18:43:33.267Z"
   },
   {
    "duration": 35,
    "start_time": "2021-12-08T18:43:33.771Z"
   },
   {
    "duration": 32,
    "start_time": "2021-12-08T18:52:08.880Z"
   },
   {
    "duration": 3,
    "start_time": "2021-12-08T18:52:49.001Z"
   },
   {
    "duration": 102,
    "start_time": "2021-12-08T18:52:49.006Z"
   },
   {
    "duration": 6,
    "start_time": "2021-12-08T18:52:49.110Z"
   },
   {
    "duration": 31,
    "start_time": "2021-12-08T18:52:49.118Z"
   },
   {
    "duration": 17,
    "start_time": "2021-12-08T18:52:49.151Z"
   },
   {
    "duration": 37,
    "start_time": "2021-12-08T18:52:49.170Z"
   },
   {
    "duration": 30,
    "start_time": "2021-12-08T18:52:49.210Z"
   },
   {
    "duration": 53,
    "start_time": "2021-12-08T18:52:49.242Z"
   },
   {
    "duration": 23,
    "start_time": "2021-12-08T18:52:49.297Z"
   },
   {
    "duration": 22,
    "start_time": "2021-12-08T18:52:49.321Z"
   },
   {
    "duration": 17,
    "start_time": "2021-12-08T18:52:49.344Z"
   },
   {
    "duration": 46,
    "start_time": "2021-12-08T18:52:49.363Z"
   },
   {
    "duration": 23,
    "start_time": "2021-12-08T18:52:49.411Z"
   },
   {
    "duration": 28,
    "start_time": "2021-12-08T18:52:49.435Z"
   },
   {
    "duration": 16,
    "start_time": "2021-12-08T18:52:49.465Z"
   },
   {
    "duration": 23,
    "start_time": "2021-12-08T18:52:49.483Z"
   },
   {
    "duration": 29,
    "start_time": "2021-12-08T18:52:49.507Z"
   },
   {
    "duration": 727,
    "start_time": "2021-12-08T18:52:49.538Z"
   },
   {
    "duration": 6601,
    "start_time": "2021-12-08T18:52:50.269Z"
   },
   {
    "duration": 1600,
    "start_time": "2021-12-08T18:52:56.872Z"
   },
   {
    "duration": 37,
    "start_time": "2021-12-08T18:52:58.474Z"
   },
   {
    "duration": 1806,
    "start_time": "2021-12-08T18:52:58.513Z"
   },
   {
    "duration": 30,
    "start_time": "2021-12-08T18:53:00.321Z"
   },
   {
    "duration": 38,
    "start_time": "2021-12-08T18:59:04.118Z"
   },
   {
    "duration": 3,
    "start_time": "2021-12-08T18:59:47.432Z"
   },
   {
    "duration": 98,
    "start_time": "2021-12-08T18:59:47.437Z"
   },
   {
    "duration": 6,
    "start_time": "2021-12-08T18:59:47.537Z"
   },
   {
    "duration": 17,
    "start_time": "2021-12-08T18:59:47.545Z"
   },
   {
    "duration": 6,
    "start_time": "2021-12-08T18:59:47.564Z"
   },
   {
    "duration": 32,
    "start_time": "2021-12-08T18:59:47.571Z"
   },
   {
    "duration": 10,
    "start_time": "2021-12-08T18:59:47.606Z"
   },
   {
    "duration": 49,
    "start_time": "2021-12-08T18:59:47.618Z"
   },
   {
    "duration": 41,
    "start_time": "2021-12-08T18:59:47.669Z"
   },
   {
    "duration": 21,
    "start_time": "2021-12-08T18:59:47.712Z"
   },
   {
    "duration": 10,
    "start_time": "2021-12-08T18:59:47.735Z"
   },
   {
    "duration": 50,
    "start_time": "2021-12-08T18:59:47.746Z"
   },
   {
    "duration": 23,
    "start_time": "2021-12-08T18:59:47.797Z"
   },
   {
    "duration": 13,
    "start_time": "2021-12-08T18:59:47.823Z"
   },
   {
    "duration": 12,
    "start_time": "2021-12-08T18:59:47.837Z"
   },
   {
    "duration": 73,
    "start_time": "2021-12-08T18:59:47.851Z"
   },
   {
    "duration": 29,
    "start_time": "2021-12-08T18:59:47.925Z"
   },
   {
    "duration": 715,
    "start_time": "2021-12-08T18:59:47.955Z"
   },
   {
    "duration": 6797,
    "start_time": "2021-12-08T18:59:48.673Z"
   },
   {
    "duration": 1609,
    "start_time": "2021-12-08T18:59:55.472Z"
   },
   {
    "duration": 48,
    "start_time": "2021-12-08T18:59:57.083Z"
   },
   {
    "duration": 1833,
    "start_time": "2021-12-08T18:59:57.133Z"
   },
   {
    "duration": 35,
    "start_time": "2021-12-08T18:59:58.968Z"
   },
   {
    "duration": 3,
    "start_time": "2021-12-08T19:00:58.401Z"
   },
   {
    "duration": 86,
    "start_time": "2021-12-08T19:00:58.407Z"
   },
   {
    "duration": 7,
    "start_time": "2021-12-08T19:00:58.495Z"
   },
   {
    "duration": 12,
    "start_time": "2021-12-08T19:00:58.505Z"
   },
   {
    "duration": 4,
    "start_time": "2021-12-08T19:00:58.519Z"
   },
   {
    "duration": 10,
    "start_time": "2021-12-08T19:00:58.524Z"
   },
   {
    "duration": 6,
    "start_time": "2021-12-08T19:00:58.536Z"
   },
   {
    "duration": 69,
    "start_time": "2021-12-08T19:00:58.544Z"
   },
   {
    "duration": 22,
    "start_time": "2021-12-08T19:00:58.616Z"
   },
   {
    "duration": 21,
    "start_time": "2021-12-08T19:00:58.640Z"
   },
   {
    "duration": 33,
    "start_time": "2021-12-08T19:00:58.663Z"
   },
   {
    "duration": 20,
    "start_time": "2021-12-08T19:00:58.698Z"
   },
   {
    "duration": 36,
    "start_time": "2021-12-08T19:00:58.719Z"
   },
   {
    "duration": 13,
    "start_time": "2021-12-08T19:00:58.756Z"
   },
   {
    "duration": 31,
    "start_time": "2021-12-08T19:00:58.770Z"
   },
   {
    "duration": 36,
    "start_time": "2021-12-08T19:00:58.802Z"
   },
   {
    "duration": 15,
    "start_time": "2021-12-08T19:00:58.840Z"
   },
   {
    "duration": 46,
    "start_time": "2021-12-08T19:00:58.857Z"
   },
   {
    "duration": 674,
    "start_time": "2021-12-08T19:00:58.905Z"
   },
   {
    "duration": 6059,
    "start_time": "2021-12-08T19:00:59.581Z"
   },
   {
    "duration": 1579,
    "start_time": "2021-12-08T19:01:05.642Z"
   },
   {
    "duration": 29,
    "start_time": "2021-12-08T19:01:07.222Z"
   },
   {
    "duration": 1812,
    "start_time": "2021-12-08T19:01:07.253Z"
   },
   {
    "duration": 36,
    "start_time": "2021-12-08T19:01:09.066Z"
   },
   {
    "duration": 3,
    "start_time": "2021-12-08T19:02:24.786Z"
   },
   {
    "duration": 81,
    "start_time": "2021-12-08T19:02:24.793Z"
   },
   {
    "duration": 20,
    "start_time": "2021-12-08T19:02:24.876Z"
   },
   {
    "duration": 13,
    "start_time": "2021-12-08T19:02:24.898Z"
   },
   {
    "duration": 3,
    "start_time": "2021-12-08T19:02:24.913Z"
   },
   {
    "duration": 12,
    "start_time": "2021-12-08T19:02:24.918Z"
   },
   {
    "duration": 8,
    "start_time": "2021-12-08T19:02:24.931Z"
   },
   {
    "duration": 63,
    "start_time": "2021-12-08T19:02:24.940Z"
   },
   {
    "duration": 24,
    "start_time": "2021-12-08T19:02:25.005Z"
   },
   {
    "duration": 22,
    "start_time": "2021-12-08T19:02:25.031Z"
   },
   {
    "duration": 37,
    "start_time": "2021-12-08T19:02:25.054Z"
   },
   {
    "duration": 21,
    "start_time": "2021-12-08T19:02:25.093Z"
   },
   {
    "duration": 24,
    "start_time": "2021-12-08T19:02:25.116Z"
   },
   {
    "duration": 13,
    "start_time": "2021-12-08T19:02:25.141Z"
   },
   {
    "duration": 40,
    "start_time": "2021-12-08T19:02:25.156Z"
   },
   {
    "duration": 30,
    "start_time": "2021-12-08T19:02:25.198Z"
   },
   {
    "duration": 18,
    "start_time": "2021-12-08T19:02:25.229Z"
   },
   {
    "duration": 50,
    "start_time": "2021-12-08T19:02:25.249Z"
   },
   {
    "duration": 694,
    "start_time": "2021-12-08T19:02:25.302Z"
   },
   {
    "duration": 6237,
    "start_time": "2021-12-08T19:02:25.998Z"
   },
   {
    "duration": 1554,
    "start_time": "2021-12-08T19:02:32.238Z"
   },
   {
    "duration": 27,
    "start_time": "2021-12-08T19:02:33.793Z"
   },
   {
    "duration": 1789,
    "start_time": "2021-12-08T19:02:33.822Z"
   },
   {
    "duration": 28,
    "start_time": "2021-12-08T19:02:35.614Z"
   },
   {
    "duration": 2,
    "start_time": "2021-12-08T19:14:58.229Z"
   },
   {
    "duration": 87,
    "start_time": "2021-12-08T19:14:58.233Z"
   },
   {
    "duration": 7,
    "start_time": "2021-12-08T19:14:58.322Z"
   },
   {
    "duration": 14,
    "start_time": "2021-12-08T19:14:58.330Z"
   },
   {
    "duration": 4,
    "start_time": "2021-12-08T19:14:58.345Z"
   },
   {
    "duration": 40,
    "start_time": "2021-12-08T19:14:58.351Z"
   },
   {
    "duration": 8,
    "start_time": "2021-12-08T19:14:58.394Z"
   },
   {
    "duration": 37,
    "start_time": "2021-12-08T19:14:58.404Z"
   },
   {
    "duration": 21,
    "start_time": "2021-12-08T19:14:58.443Z"
   },
   {
    "duration": 43,
    "start_time": "2021-12-08T19:14:58.466Z"
   },
   {
    "duration": 11,
    "start_time": "2021-12-08T19:14:58.510Z"
   },
   {
    "duration": 20,
    "start_time": "2021-12-08T19:14:58.522Z"
   },
   {
    "duration": 50,
    "start_time": "2021-12-08T19:14:58.543Z"
   },
   {
    "duration": 13,
    "start_time": "2021-12-08T19:14:58.594Z"
   },
   {
    "duration": 14,
    "start_time": "2021-12-08T19:14:58.608Z"
   },
   {
    "duration": 32,
    "start_time": "2021-12-08T19:14:58.623Z"
   },
   {
    "duration": 41,
    "start_time": "2021-12-08T19:14:58.657Z"
   },
   {
    "duration": 26,
    "start_time": "2021-12-08T19:14:58.699Z"
   },
   {
    "duration": 687,
    "start_time": "2021-12-08T19:14:58.728Z"
   },
   {
    "duration": 5978,
    "start_time": "2021-12-08T19:14:59.417Z"
   },
   {
    "duration": 1517,
    "start_time": "2021-12-08T19:15:05.397Z"
   },
   {
    "duration": 30,
    "start_time": "2021-12-08T19:15:06.916Z"
   },
   {
    "duration": 1828,
    "start_time": "2021-12-08T19:15:06.948Z"
   },
   {
    "duration": 33,
    "start_time": "2021-12-08T19:15:08.778Z"
   },
   {
    "duration": 3,
    "start_time": "2021-12-08T19:16:37.550Z"
   },
   {
    "duration": 85,
    "start_time": "2021-12-08T19:16:37.555Z"
   },
   {
    "duration": 7,
    "start_time": "2021-12-08T19:16:37.642Z"
   },
   {
    "duration": 40,
    "start_time": "2021-12-08T19:16:37.651Z"
   },
   {
    "duration": 2,
    "start_time": "2021-12-08T19:16:37.693Z"
   },
   {
    "duration": 12,
    "start_time": "2021-12-08T19:16:37.697Z"
   },
   {
    "duration": 7,
    "start_time": "2021-12-08T19:16:37.712Z"
   },
   {
    "duration": 35,
    "start_time": "2021-12-08T19:16:37.722Z"
   },
   {
    "duration": 51,
    "start_time": "2021-12-08T19:16:37.759Z"
   },
   {
    "duration": 22,
    "start_time": "2021-12-08T19:16:37.812Z"
   },
   {
    "duration": 11,
    "start_time": "2021-12-08T19:16:37.835Z"
   },
   {
    "duration": 45,
    "start_time": "2021-12-08T19:16:37.847Z"
   },
   {
    "duration": 25,
    "start_time": "2021-12-08T19:16:37.894Z"
   },
   {
    "duration": 13,
    "start_time": "2021-12-08T19:16:37.921Z"
   },
   {
    "duration": 11,
    "start_time": "2021-12-08T19:16:37.935Z"
   },
   {
    "duration": 58,
    "start_time": "2021-12-08T19:16:37.948Z"
   },
   {
    "duration": 22,
    "start_time": "2021-12-08T19:16:38.007Z"
   },
   {
    "duration": 27,
    "start_time": "2021-12-08T19:16:38.031Z"
   },
   {
    "duration": 695,
    "start_time": "2021-12-08T19:16:38.060Z"
   },
   {
    "duration": 5971,
    "start_time": "2021-12-08T19:16:38.757Z"
   },
   {
    "duration": 1549,
    "start_time": "2021-12-08T19:16:44.730Z"
   },
   {
    "duration": 37,
    "start_time": "2021-12-08T19:16:46.281Z"
   },
   {
    "duration": 1753,
    "start_time": "2021-12-08T19:16:46.320Z"
   },
   {
    "duration": 38,
    "start_time": "2021-12-08T19:16:48.074Z"
   },
   {
    "duration": 3,
    "start_time": "2021-12-08T19:39:22.365Z"
   },
   {
    "duration": 95,
    "start_time": "2021-12-08T19:39:22.370Z"
   },
   {
    "duration": 6,
    "start_time": "2021-12-08T19:39:22.467Z"
   },
   {
    "duration": 19,
    "start_time": "2021-12-08T19:39:22.475Z"
   },
   {
    "duration": 4,
    "start_time": "2021-12-08T19:39:22.495Z"
   },
   {
    "duration": 15,
    "start_time": "2021-12-08T19:39:22.500Z"
   },
   {
    "duration": 7,
    "start_time": "2021-12-08T19:39:22.518Z"
   },
   {
    "duration": 64,
    "start_time": "2021-12-08T19:39:22.527Z"
   },
   {
    "duration": 23,
    "start_time": "2021-12-08T19:39:22.593Z"
   },
   {
    "duration": 21,
    "start_time": "2021-12-08T19:39:22.618Z"
   },
   {
    "duration": 11,
    "start_time": "2021-12-08T19:39:22.640Z"
   },
   {
    "duration": 51,
    "start_time": "2021-12-08T19:39:22.652Z"
   },
   {
    "duration": 25,
    "start_time": "2021-12-08T19:39:22.705Z"
   },
   {
    "duration": 14,
    "start_time": "2021-12-08T19:39:22.732Z"
   },
   {
    "duration": 16,
    "start_time": "2021-12-08T19:39:22.748Z"
   },
   {
    "duration": 47,
    "start_time": "2021-12-08T19:39:22.766Z"
   },
   {
    "duration": 28,
    "start_time": "2021-12-08T19:39:22.815Z"
   },
   {
    "duration": 743,
    "start_time": "2021-12-08T19:39:22.845Z"
   },
   {
    "duration": 6033,
    "start_time": "2021-12-08T19:39:23.591Z"
   },
   {
    "duration": 1590,
    "start_time": "2021-12-08T19:39:29.625Z"
   },
   {
    "duration": 29,
    "start_time": "2021-12-08T19:39:31.216Z"
   },
   {
    "duration": 1850,
    "start_time": "2021-12-08T19:39:31.247Z"
   },
   {
    "duration": 28,
    "start_time": "2021-12-08T19:39:33.098Z"
   },
   {
    "duration": 3,
    "start_time": "2021-12-08T19:39:58.884Z"
   },
   {
    "duration": 84,
    "start_time": "2021-12-08T19:40:01.194Z"
   },
   {
    "duration": 3,
    "start_time": "2021-12-08T19:44:22.351Z"
   },
   {
    "duration": 89,
    "start_time": "2021-12-08T19:44:22.356Z"
   },
   {
    "duration": 5,
    "start_time": "2021-12-08T19:44:22.447Z"
   },
   {
    "duration": 15,
    "start_time": "2021-12-08T19:44:22.454Z"
   },
   {
    "duration": 22,
    "start_time": "2021-12-08T19:44:22.470Z"
   },
   {
    "duration": 12,
    "start_time": "2021-12-08T19:44:22.494Z"
   },
   {
    "duration": 8,
    "start_time": "2021-12-08T19:44:22.508Z"
   },
   {
    "duration": 36,
    "start_time": "2021-12-08T19:44:22.518Z"
   },
   {
    "duration": 50,
    "start_time": "2021-12-08T19:44:22.556Z"
   },
   {
    "duration": 21,
    "start_time": "2021-12-08T19:44:22.608Z"
   },
   {
    "duration": 10,
    "start_time": "2021-12-08T19:44:22.630Z"
   },
   {
    "duration": 22,
    "start_time": "2021-12-08T19:44:22.641Z"
   },
   {
    "duration": 49,
    "start_time": "2021-12-08T19:44:22.665Z"
   },
   {
    "duration": 12,
    "start_time": "2021-12-08T19:44:22.715Z"
   },
   {
    "duration": 12,
    "start_time": "2021-12-08T19:44:22.729Z"
   },
   {
    "duration": 22,
    "start_time": "2021-12-08T19:44:22.742Z"
   },
   {
    "duration": 26,
    "start_time": "2021-12-08T19:44:22.791Z"
   },
   {
    "duration": 711,
    "start_time": "2021-12-08T19:44:22.819Z"
   },
   {
    "duration": 5932,
    "start_time": "2021-12-08T19:44:23.533Z"
   },
   {
    "duration": 1544,
    "start_time": "2021-12-08T19:44:29.466Z"
   },
   {
    "duration": 29,
    "start_time": "2021-12-08T19:44:31.012Z"
   },
   {
    "duration": 1857,
    "start_time": "2021-12-08T19:44:31.042Z"
   },
   {
    "duration": 28,
    "start_time": "2021-12-08T19:44:32.901Z"
   },
   {
    "duration": 3,
    "start_time": "2021-12-08T19:46:27.495Z"
   },
   {
    "duration": 3,
    "start_time": "2021-12-08T19:48:06.554Z"
   },
   {
    "duration": 3,
    "start_time": "2021-12-08T19:48:39.980Z"
   },
   {
    "duration": 96,
    "start_time": "2021-12-08T19:48:39.987Z"
   },
   {
    "duration": 12,
    "start_time": "2021-12-08T19:48:40.085Z"
   },
   {
    "duration": 13,
    "start_time": "2021-12-08T19:48:40.099Z"
   },
   {
    "duration": 6,
    "start_time": "2021-12-08T19:48:40.114Z"
   },
   {
    "duration": 11,
    "start_time": "2021-12-08T19:48:40.121Z"
   },
   {
    "duration": 8,
    "start_time": "2021-12-08T19:48:40.134Z"
   },
   {
    "duration": 71,
    "start_time": "2021-12-08T19:48:40.144Z"
   },
   {
    "duration": 23,
    "start_time": "2021-12-08T19:48:40.216Z"
   },
   {
    "duration": 28,
    "start_time": "2021-12-08T19:48:40.242Z"
   },
   {
    "duration": 15,
    "start_time": "2021-12-08T19:48:40.292Z"
   },
   {
    "duration": 20,
    "start_time": "2021-12-08T19:48:40.309Z"
   },
   {
    "duration": 24,
    "start_time": "2021-12-08T19:48:40.331Z"
   },
   {
    "duration": 43,
    "start_time": "2021-12-08T19:48:40.357Z"
   },
   {
    "duration": 14,
    "start_time": "2021-12-08T19:48:40.401Z"
   },
   {
    "duration": 20,
    "start_time": "2021-12-08T19:48:40.417Z"
   },
   {
    "duration": 26,
    "start_time": "2021-12-08T19:48:40.439Z"
   },
   {
    "duration": 701,
    "start_time": "2021-12-08T19:48:40.492Z"
   },
   {
    "duration": 6368,
    "start_time": "2021-12-08T19:48:41.195Z"
   },
   {
    "duration": 1621,
    "start_time": "2021-12-08T19:48:47.564Z"
   },
   {
    "duration": 30,
    "start_time": "2021-12-08T19:48:49.191Z"
   },
   {
    "duration": 1823,
    "start_time": "2021-12-08T19:48:49.223Z"
   },
   {
    "duration": 27,
    "start_time": "2021-12-08T19:48:51.048Z"
   }
  ],
  "kernelspec": {
   "display_name": "Python 3 (ipykernel)",
   "language": "python",
   "name": "python3"
  },
  "language_info": {
   "codemirror_mode": {
    "name": "ipython",
    "version": 3
   },
   "file_extension": ".py",
   "mimetype": "text/x-python",
   "name": "python",
   "nbconvert_exporter": "python",
   "pygments_lexer": "ipython3",
   "version": "3.9.7"
  },
  "toc": {
   "base_numbering": 1,
   "nav_menu": {},
   "number_sections": true,
   "sideBar": true,
   "skip_h1_title": true,
   "title_cell": "Table of Contents",
   "title_sidebar": "Contents",
   "toc_cell": false,
   "toc_position": {},
   "toc_section_display": true,
   "toc_window_display": false
  }
 },
 "nbformat": 4,
 "nbformat_minor": 2
}
